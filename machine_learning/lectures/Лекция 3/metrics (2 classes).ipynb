{
 "cells": [
  {
   "cell_type": "code",
   "execution_count": 82,
   "metadata": {},
   "outputs": [],
   "source": [
    "import seaborn as sns\n",
    "import pandas as pd\n",
    "import matplotlib.pyplot as plt\n",
    "from sklearn.metrics import accuracy_score, classification_report, confusion_matrix, f1_score, precision_recall_fscore_support, precision_score, recall_score"
   ]
  },
  {
   "cell_type": "markdown",
   "metadata": {},
   "source": [
    "### Параметры"
   ]
  },
  {
   "cell_type": "code",
   "execution_count": 83,
   "metadata": {},
   "outputs": [],
   "source": [
    "digits=4 # Количество знаков после точки"
   ]
  },
  {
   "cell_type": "code",
   "execution_count": 84,
   "metadata": {},
   "outputs": [],
   "source": [
    "average = 'macro' # {‘micro’, ‘macro’, ‘samples’, ’weighted’, ‘binary’}"
   ]
  },
  {
   "cell_type": "markdown",
   "metadata": {},
   "source": [
    "### Результаты "
   ]
  },
  {
   "cell_type": "code",
   "execution_count": 85,
   "metadata": {},
   "outputs": [],
   "source": [
    "y_true = [0, 0, 0, 0, 0, 1, 1, 1, 1, 1]"
   ]
  },
  {
   "cell_type": "code",
   "execution_count": 86,
   "metadata": {},
   "outputs": [],
   "source": [
    "y_pred = [0, 0, 0, 1, 1, 1, 1, 1, 1, 0]"
   ]
  },
  {
   "cell_type": "code",
   "execution_count": 87,
   "metadata": {},
   "outputs": [
    {
     "data": {
      "text/plain": [
       "[0, 1]"
      ]
     },
     "execution_count": 87,
     "metadata": {},
     "output_type": "execute_result"
    }
   ],
   "source": [
    "labels = sorted(set(y_true))\n",
    "labels"
   ]
  },
  {
   "cell_type": "markdown",
   "metadata": {},
   "source": [
    "### Classification report"
   ]
  },
  {
   "cell_type": "code",
   "execution_count": 101,
   "metadata": {},
   "outputs": [
    {
     "name": "stdout",
     "output_type": "stream",
     "text": [
      "              precision    recall  f1-score   support\n",
      "\n",
      "           0     0.7500    0.6000    0.6667         5\n",
      "           1     0.6667    0.8000    0.7273         5\n",
      "\n",
      "    accuracy                         0.7000        10\n",
      "   macro avg     0.7083    0.7000    0.6970        10\n",
      "weighted avg     0.7083    0.7000    0.6970        10\n",
      "\n"
     ]
    }
   ],
   "source": [
    "print(classification_report(y_true, y_pred, labels=labels, digits=digits, output_dict=False))"
   ]
  },
  {
   "cell_type": "markdown",
   "metadata": {},
   "source": [
    "### F1-score"
   ]
  },
  {
   "cell_type": "code",
   "execution_count": 89,
   "metadata": {},
   "outputs": [
    {
     "name": "stdout",
     "output_type": "stream",
     "text": [
      "macro f1-score = 0.697\n"
     ]
    }
   ],
   "source": [
    "# Усредненная f1-score\n",
    "print(f'{average} f1-score = {f1_score(y_true, y_pred, average=average):.{digits}}')"
   ]
  },
  {
   "cell_type": "code",
   "execution_count": 90,
   "metadata": {},
   "outputs": [
    {
     "name": "stdout",
     "output_type": "stream",
     "text": [
      "f1-score for label 0 = 0.6667\n"
     ]
    }
   ],
   "source": [
    "# f1-score для одного класса\n",
    "label = 0\n",
    "print(f'f1-score for label {label} = {f1_score(y_true, y_pred, labels=[label], average=average):.{digits}}')"
   ]
  },
  {
   "cell_type": "markdown",
   "metadata": {},
   "source": [
    "### Precision"
   ]
  },
  {
   "cell_type": "code",
   "execution_count": 91,
   "metadata": {},
   "outputs": [
    {
     "name": "stdout",
     "output_type": "stream",
     "text": [
      "macro precision = 0.7083\n"
     ]
    }
   ],
   "source": [
    "# Усредненная precision\n",
    "print(f'{average} precision = {precision_score(y_true, y_pred, average=average):.{digits}}')"
   ]
  },
  {
   "cell_type": "code",
   "execution_count": 92,
   "metadata": {},
   "outputs": [
    {
     "name": "stdout",
     "output_type": "stream",
     "text": [
      "precision for label 0 = 0.75\n"
     ]
    }
   ],
   "source": [
    "# precision для одного класса\n",
    "label = 0\n",
    "print(f'precision for label {label} = {precision_score(y_true, y_pred, labels=[label], average=average):.{digits}}')"
   ]
  },
  {
   "cell_type": "markdown",
   "metadata": {},
   "source": [
    "### Recall"
   ]
  },
  {
   "cell_type": "code",
   "execution_count": 93,
   "metadata": {},
   "outputs": [
    {
     "name": "stdout",
     "output_type": "stream",
     "text": [
      "macro recall = 0.7\n"
     ]
    }
   ],
   "source": [
    "# Усредненная recall\n",
    "print(f'{average} recall = {recall_score(y_true, y_pred, average=average):.{digits}}')"
   ]
  },
  {
   "cell_type": "code",
   "execution_count": 94,
   "metadata": {},
   "outputs": [
    {
     "name": "stdout",
     "output_type": "stream",
     "text": [
      "recall for label 0 = 0.6\n"
     ]
    }
   ],
   "source": [
    "# recall для одного класса\n",
    "label = 0\n",
    "print(f'recall for label {label} = {recall_score(y_true, y_pred, labels=[label], average=average):.{digits}}')"
   ]
  },
  {
   "cell_type": "markdown",
   "metadata": {},
   "source": [
    "### Accuracy"
   ]
  },
  {
   "cell_type": "code",
   "execution_count": 95,
   "metadata": {},
   "outputs": [
    {
     "name": "stdout",
     "output_type": "stream",
     "text": [
      "accuracy = 0.7\n"
     ]
    }
   ],
   "source": [
    "print(f'accuracy = {accuracy_score(y_true, y_pred)}')"
   ]
  },
  {
   "cell_type": "markdown",
   "metadata": {},
   "source": [
    "### precision_recall_fscore_support"
   ]
  },
  {
   "cell_type": "code",
   "execution_count": 96,
   "metadata": {},
   "outputs": [
    {
     "data": {
      "text/plain": [
       "(array([0.75      , 0.66666667]),\n",
       " array([0.6, 0.8]),\n",
       " array([0.66666667, 0.72727273]),\n",
       " array([5, 5], dtype=int64))"
      ]
     },
     "execution_count": 96,
     "metadata": {},
     "output_type": "execute_result"
    }
   ],
   "source": [
    "# precision / recall / f1-score / support по классам\n",
    "precision_recall_fscore_support(y_true, y_pred)"
   ]
  },
  {
   "cell_type": "code",
   "execution_count": 97,
   "metadata": {},
   "outputs": [
    {
     "data": {
      "text/plain": [
       "(0.7083333333333333, 0.7, 0.6969696969696968, None)"
      ]
     },
     "execution_count": 97,
     "metadata": {},
     "output_type": "execute_result"
    }
   ],
   "source": [
    "# Усреднённые precision / recall / f1-score / support\n",
    "precision_recall_fscore_support(y_true, y_pred, average=average)"
   ]
  },
  {
   "cell_type": "markdown",
   "metadata": {},
   "source": [
    "### Матрица ошибок (confusion matrix)"
   ]
  },
  {
   "cell_type": "markdown",
   "metadata": {},
   "source": [
    "В [scikit-learn](https://scikit-learn.org/stable/modules/generated/sklearn.metrics.confusion_matrix.html#sklearn.metrics.confusion_matrix) строки матрицы ошибок соответствуют истинным меткам, столбцы - предсказанным.  \n",
    "В англоязычной [Википедии](https://en.wikipedia.org/wiki/Confusion_matrix) - наоборот: строки соответствуют предсказанным меткам, столбцы - истинным."
   ]
  },
  {
   "cell_type": "code",
   "execution_count": 98,
   "metadata": {},
   "outputs": [
    {
     "data": {
      "text/plain": [
       "array([[3, 2],\n",
       "       [1, 4]], dtype=int64)"
      ]
     },
     "execution_count": 98,
     "metadata": {},
     "output_type": "execute_result"
    }
   ],
   "source": [
    "# Метки выводятся в матрице в отсортированном порядке\n",
    "conf_matrix = confusion_matrix(y_true, y_pred, normalize=None) # normalize: {‘true’, ‘pred’, ‘all’}, default=None\n",
    "conf_matrix"
   ]
  },
  {
   "cell_type": "code",
   "execution_count": 99,
   "metadata": {},
   "outputs": [
    {
     "data": {
      "image/png": "[encoded data removed]",
      "text/plain": [
       "<Figure size 432x288 with 2 Axes>"
      ]
     },
     "metadata": {
      "needs_background": "light"
     },
     "output_type": "display_data"
    }
   ],
   "source": [
    "# Выбираем Colormap: https://matplotlib.org/stable/tutorials/colors/colormaps.html\n",
    "colormap = plt.cm.Blues\n",
    "\n",
    "sns.heatmap(conf_matrix, square=True, annot=True, cmap=colormap, cbar=True, xticklabels = labels, yticklabels = labels)\n",
    "\n",
    "plt.xlabel('Predicted labels')\n",
    "plt.ylabel('True labels')\n",
    "plt.title('Confusion matrix')\n",
    "plt.show()"
   ]
  }
 ],
 "metadata": {
  "kernelspec": {
   "display_name": "Python 3 (ipykernel)",
   "language": "python",
   "name": "python3"
  },
  "language_info": {
   "codemirror_mode": {
    "name": "ipython",
    "version": 3
   },
   "file_extension": ".py",
   "mimetype": "text/x-python",
   "name": "python",
   "nbconvert_exporter": "python",
   "pygments_lexer": "ipython3",
   "version": "3.9.12"
  }
 },
 "nbformat": 4,
 "nbformat_minor": 4
}
