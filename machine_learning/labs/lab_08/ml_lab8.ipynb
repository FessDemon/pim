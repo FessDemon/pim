{
 "cells": [
  {
   "cell_type": "markdown",
   "metadata": {},
   "source": [
    "# Лабораторная работа 8. Выбор оптимального классификатора"
   ]
  },
  {
   "cell_type": "code",
   "execution_count": 1,
   "metadata": {},
   "outputs": [],
   "source": [
    "%matplotlib inline\n",
    "\n",
    "import pandas as pd\n",
    "import numpy as np\n",
    "\n",
    "from sklearn.preprocessing import StandardScaler, MinMaxScaler\n",
    "from sklearn.preprocessing import PolynomialFeatures\n",
    "from sklearn.ensemble import RandomForestClassifier\n",
    "from sklearn.metrics import accuracy_score\n",
    "\n",
    "import warnings\n",
    "warnings.filterwarnings('ignore')"
   ]
  },
  {
   "cell_type": "markdown",
   "metadata": {},
   "source": [
    "В этой лабораторной работе вам потребуется выбрать наилучший классификатор с оптимальными параметрами для задачи про пассажиров [\"Титаника\"](https://ru.wikipedia.org/wiki/Титаник)."
   ]
  },
  {
   "cell_type": "markdown",
   "metadata": {},
   "source": [
    "__Задание 1.__  \n",
    "Загрузите данные (см. предыдущую лабораторную работу)."
   ]
  },
  {
   "cell_type": "code",
   "execution_count": 2,
   "metadata": {},
   "outputs": [],
   "source": [
    "train_data = pd.read_csv('input/train.csv')\n",
    "test_data = pd.read_csv('input/test.csv')"
   ]
  },
  {
   "cell_type": "markdown",
   "metadata": {},
   "source": [
    "__Задание 2.__  \n",
    "Проведите предобработку данных (см. предыдущую лабораторную работу)."
   ]
  },
  {
   "cell_type": "markdown",
   "metadata": {},
   "source": [
    "Данные были предобработаны в лабораторной работе № 7"
   ]
  },
  {
   "cell_type": "markdown",
   "metadata": {},
   "source": [
    "__Задание 3.__  \n",
    "Примените масштабирование признаков (`StandardScaler`, `MinMaxScaler`)."
   ]
  },
  {
   "cell_type": "code",
   "execution_count": 3,
   "metadata": {},
   "outputs": [
    {
     "name": "stdout",
     "output_type": "stream",
     "text": [
      "Обучающие данные после StandardScaler:\n",
      "        Age     SibSp     Parch      Fare\n",
      "0 -0.095928  0.432793 -0.473674 -0.502445\n",
      "1  0.806944  0.432793 -0.473674  0.786845\n",
      "2  0.129790 -0.474545 -0.473674 -0.488854\n",
      "3  0.637655  0.432793 -0.473674  0.420730\n",
      "4  0.637655 -0.474545 -0.473674 -0.486337\n",
      "\n",
      "Статистика после StandardScaler:\n",
      "                Age         SibSp         Parch          Fare\n",
      "count  8.910000e+02  8.910000e+02  8.910000e+02  8.910000e+02\n",
      "mean   3.588600e-17  4.386066e-17  5.382900e-17  3.987333e-18\n",
      "std    1.000562e+00  1.000562e+00  1.000562e+00  1.000562e+00\n",
      "min   -1.365592e+00 -4.745452e-01 -4.736736e-01 -6.484217e-01\n",
      "25%   -9.988002e-01 -4.745452e-01 -4.736736e-01 -4.891482e-01\n",
      "50%    1.693075e-02 -4.745452e-01 -4.736736e-01 -3.573909e-01\n",
      "75%    6.376552e-01  4.327934e-01 -4.736736e-01 -2.424635e-02\n",
      "max    3.176983e+00  6.784163e+00  6.974147e+00  9.667167e+00\n",
      "\n",
      "Обучающие данные после MinMaxScaler:\n",
      "        Age  SibSp  Parch      Fare\n",
      "0  0.279503  0.125    0.0  0.014151\n",
      "1  0.478261  0.125    0.0  0.139136\n",
      "2  0.329193  0.000    0.0  0.015469\n",
      "3  0.440994  0.125    0.0  0.103644\n",
      "4  0.440994  0.000    0.0  0.015713\n",
      "\n",
      "Статистика после MinMaxScaler:\n",
      "              Age       SibSp       Parch        Fare\n",
      "count  891.000000  891.000000  891.000000  891.000000\n",
      "mean     0.300621    0.065376    0.063599    0.062858\n",
      "std      0.220263    0.137843    0.134343    0.096995\n",
      "min      0.000000    0.000000    0.000000    0.000000\n",
      "25%      0.080745    0.000000    0.000000    0.015440\n",
      "50%      0.304348    0.000000    0.000000    0.028213\n",
      "75%      0.440994    0.125000    0.000000    0.060508\n",
      "max      1.000000    1.000000    1.000000    1.000000\n"
     ]
    }
   ],
   "source": [
    "numeric_features = ['Age', 'SibSp', 'Parch', 'Fare']\n",
    "\n",
    "# Создание экземпляра StandardScaler\n",
    "scaler_standard = StandardScaler()\n",
    "\n",
    "# Масштабирование числовых признаков в обучающих данных\n",
    "train_data[numeric_features] = scaler_standard.fit_transform(train_data[numeric_features])\n",
    "\n",
    "# Масштабирование числовых признаков в тестовых данных\n",
    "test_data[numeric_features] = scaler_standard.transform(test_data[numeric_features])\n",
    "\n",
    "print(\"Обучающие данные после StandardScaler:\")\n",
    "print(train_data[numeric_features].head())\n",
    "print(\"\\nСтатистика после StandardScaler:\")\n",
    "print(train_data[numeric_features].describe())\n",
    "\n",
    "# Создание экземпляра MinMaxScaler\n",
    "scaler_minmax = MinMaxScaler()\n",
    "\n",
    "# Масштабирование числовых признаков в обучающих данных\n",
    "train_data[numeric_features] = scaler_minmax.fit_transform(train_data[numeric_features])\n",
    "\n",
    "# Масштабирование числовых признаков в тестовых данных\n",
    "test_data[numeric_features] = scaler_minmax.transform(test_data[numeric_features])\n",
    "\n",
    "print(\"\\nОбучающие данные после MinMaxScaler:\")\n",
    "print(train_data[numeric_features].head())\n",
    "print(\"\\nСтатистика после MinMaxScaler:\")\n",
    "print(train_data[numeric_features].describe())"
   ]
  },
  {
   "cell_type": "markdown",
   "metadata": {},
   "source": [
    "__Задание 4.__  \n",
    "Примените различные преобразования признаков (`PolynomialFeatures`)."
   ]
  },
  {
   "cell_type": "code",
   "execution_count": 4,
   "metadata": {},
   "outputs": [
    {
     "name": "stdout",
     "output_type": "stream",
     "text": [
      "Обучающие данные после преобразования:\n",
      "   Unnamed: 0  PassengerId  Pclass  Pclass_1  Pclass_2  Pclass_3  Sex_female  \\\n",
      "0           0            1       3         0         0         1           0   \n",
      "1           1            2       1         1         0         0           1   \n",
      "2           2            3       3         0         0         1           1   \n",
      "3           3            4       1         1         0         0           1   \n",
      "4           4            5       3         0         0         1           0   \n",
      "\n",
      "   Sex_male  Age_categories_Missing  Age_categories_Infant  ...     Age^2  \\\n",
      "0         1                       0                      0  ...  0.078122   \n",
      "1         0                       0                      0  ...  0.228733   \n",
      "2         0                       0                      0  ...  0.108368   \n",
      "3         0                       0                      0  ...  0.194476   \n",
      "4         1                       0                      0  ...  0.194476   \n",
      "\n",
      "   Age SibSp  Age Parch  Age Fare   SibSp^2  SibSp Parch  SibSp Fare  Parch^2  \\\n",
      "0   0.034938        0.0  0.003955  0.015625          0.0    0.001769      0.0   \n",
      "1   0.059783        0.0  0.066543  0.015625          0.0    0.017392      0.0   \n",
      "2   0.000000        0.0  0.005092  0.000000          0.0    0.000000      0.0   \n",
      "3   0.055124        0.0  0.045706  0.015625          0.0    0.012956      0.0   \n",
      "4   0.000000        0.0  0.006929  0.000000          0.0    0.000000      0.0   \n",
      "\n",
      "   Parch Fare    Fare^2  \n",
      "0         0.0  0.000200  \n",
      "1         0.0  0.019359  \n",
      "2         0.0  0.000239  \n",
      "3         0.0  0.010742  \n",
      "4         0.0  0.000247  \n",
      "\n",
      "[5 rows x 30 columns]\n",
      "\n",
      "Форма обучающих данных: (891, 30)\n",
      "\n",
      "Новые признаки:\n",
      "['Age' 'SibSp' 'Parch' 'Fare' 'Age^2' 'Age SibSp' 'Age Parch' 'Age Fare'\n",
      " 'SibSp^2' 'SibSp Parch' 'SibSp Fare' 'Parch^2' 'Parch Fare' 'Fare^2']\n"
     ]
    }
   ],
   "source": [
    "# Создание экземпляра PolynomialFeatures\n",
    "poly = PolynomialFeatures(degree=2, include_bias=False)\n",
    "\n",
    "# Заполнение пропущенных значений средними значениями\n",
    "numeric_features = ['Age', 'SibSp', 'Parch', 'Fare']\n",
    "train_data[numeric_features] = train_data[numeric_features].fillna(train_data[numeric_features].mean())\n",
    "test_data[numeric_features] = test_data[numeric_features].fillna(test_data[numeric_features].mean())\n",
    "\n",
    "# Преобразование числовых признаков в обучающих данных\n",
    "X_train_poly = poly.fit_transform(train_data[numeric_features])\n",
    "\n",
    "# Преобразование числовых признаков в тестовых данных\n",
    "X_test_poly = poly.transform(test_data[numeric_features])\n",
    "\n",
    "# Получение названий новых признаков\n",
    "new_feature_names = poly.get_feature_names_out(numeric_features)\n",
    "\n",
    "# Создание DataFrame с новыми признаками\n",
    "X_train_poly_df = pd.DataFrame(X_train_poly, columns=new_feature_names)\n",
    "X_test_poly_df = pd.DataFrame(X_test_poly, columns=new_feature_names)\n",
    "\n",
    "# Объединение новых признаков с исходными данными\n",
    "train_data = pd.concat([train_data.drop(numeric_features, axis=1), X_train_poly_df], axis=1)\n",
    "test_data = pd.concat([test_data.drop(numeric_features, axis=1), X_test_poly_df], axis=1)\n",
    "\n",
    "print(\"Обучающие данные после преобразования:\")\n",
    "print(train_data.head())\n",
    "print(\"\\nФорма обучающих данных:\", train_data.shape)\n",
    "print(\"\\nНовые признаки:\")\n",
    "print(new_feature_names)"
   ]
  },
  {
   "cell_type": "markdown",
   "metadata": {},
   "source": [
    "__Задание 5.__  \n",
    "Обучите несколько классификаторов, в том числе:  \n",
    "1. Логистическую регрессию (`LogisticRegression`).\n",
    "1. Метод опорных векторов (`SVC`).\n",
    "1. Метод *k* ближайших соседей (`KNeighborsClassifier`).\n",
    "1. Наивный байесовский классификатор (`MultinomialNB`).\n",
    "1. Деревья решений (`DecisionTreeClassifier`).\n",
    "1. Случайный лес (`RandomForestClassifier`).\n",
    "1. AdaBoost (`AdaBoost`).\n",
    "1. Градиентный бустинг (`GradientBoostingClassifier`).\n",
    "\n",
    "Для обучения и проверки качества можно использовать функцию `train_test_split()`."
   ]
  },
  {
   "cell_type": "code",
   "execution_count": 8,
   "metadata": {},
   "outputs": [],
   "source": [
    "# Ваш код здесь"
   ]
  },
  {
   "cell_type": "markdown",
   "metadata": {},
   "source": [
    "__Задание 6.__  \n",
    "При помощи `Pipeline` и `GridSearchCV` выберите оптимальную архитектуру:\n",
    "1. Метод масштабирования.\n",
    "1. Степень полинома в `PolynomialFeatures`.\n",
    "1. Параметры классификаторов (в том числе, параметры регуляризации).\n",
    "\n",
    "Заносите в таблицу Excel результаты тестирования (варианты параметров, оценки качества)."
   ]
  },
  {
   "cell_type": "code",
   "execution_count": 9,
   "metadata": {},
   "outputs": [],
   "source": [
    "# Ваш код здесь"
   ]
  },
  {
   "cell_type": "markdown",
   "metadata": {},
   "source": [
    "__Задание 7.__  \n",
    "1. Выберите несколько лучших классификаторов (от 3 до 10).\n",
    "1. Обучите выбранные классификаторы на всех доступных размеченных данных.\n",
    "1. Получите результаты предсказания для тестовых данных.\n",
    "1. Отправьте результаты на сервер [Kaggle](https://ru.wikipedia.org/wiki/Титаник)."
   ]
  },
  {
   "cell_type": "code",
   "execution_count": 10,
   "metadata": {},
   "outputs": [],
   "source": [
    "# Ваш код здесь"
   ]
  }
 ],
 "metadata": {
  "kernelspec": {
   "display_name": "Python 3",
   "language": "python",
   "name": "python3"
  },
  "language_info": {
   "codemirror_mode": {
    "name": "ipython",
    "version": 3
   },
   "file_extension": ".py",
   "mimetype": "text/x-python",
   "name": "python",
   "nbconvert_exporter": "python",
   "pygments_lexer": "ipython3",
   "version": "3.13.2"
  }
 },
 "nbformat": 4,
 "nbformat_minor": 4
}
