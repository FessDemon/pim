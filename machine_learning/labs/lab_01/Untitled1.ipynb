{
 "cells": [
  {
   "cell_type": "code",
   "execution_count": 1,
   "id": "c12d4883-0721-40c2-a82b-bac687e181b8",
   "metadata": {},
   "outputs": [],
   "source": [
    "import numpy as np"
   ]
  },
  {
   "cell_type": "code",
   "execution_count": 6,
   "id": "e9ec7381-c4e9-4683-a5d6-bc95c3791f55",
   "metadata": {},
   "outputs": [
    {
     "name": "stdout",
     "output_type": "stream",
     "text": [
      "[[1.]\n",
      " [1.]\n",
      " [1.]]\n",
      "[[1. 1.]\n",
      " [1. 4.]\n",
      " [1. 7.]]\n",
      "[[ 3. 12.]\n",
      " [12. 66.]]\n",
      "[[ 1.22222222 -0.22222222]\n",
      " [-0.22222222  0.05555556]]\n",
      "[[ 1.          0.33333333 -0.33333333]\n",
      " [-0.16666667  0.          0.16666667]]\n",
      "[[ 5.66666667]\n",
      " [-0.66666667]]\n"
     ]
    }
   ],
   "source": [
    "X0 = np.matrix([[1], [4], [7]])\n",
    "y = np.matrix([5, 3, 1])\n",
    "# Создаем матриицу из единиц\n",
    "one_matrix = np.ones((3, 1))\n",
    "print(one_matrix)\n",
    "# Производим слияние матрицы one_matrix с матрицей Х\n",
    "X = np.concatenate((one_matrix, X0),axis=1)\n",
    "print(X)\n",
    "# Умножаем транспонированную матрицу Х на матрицу Х\n",
    "X_mult = np.transpose(X) * X\n",
    "print(X_mult)\n",
    "# Находим обратную матрицу полученного результата\n",
    "X_inv = np.linalg.inv(X_mult)\n",
    "print(X_inv)\n",
    "# Умножаем обратную матрицу на транспонированную\n",
    "X_mult_2 = X_inv * np.transpose(X)\n",
    "print(X_mult_2)\n",
    "# Находим значение весов, умножая полученный результат на матрицу у\n",
    "w_opt = X_mult_2 * y.T\n",
    "print(w_opt)"
   ]
  },
  {
   "cell_type": "markdown",
   "id": "14b0d55b-cbdc-40dc-adbe-f121a2aad424",
   "metadata": {},
   "source": []
  }
 ],
 "metadata": {
  "kernelspec": {
   "display_name": "Python 3 (ipykernel)",
   "language": "python",
   "name": "python3"
  },
  "language_info": {
   "codemirror_mode": {
    "name": "ipython",
    "version": 3
   },
   "file_extension": ".py",
   "mimetype": "text/x-python",
   "name": "python",
   "nbconvert_exporter": "python",
   "pygments_lexer": "ipython3",
   "version": "3.12.4"
  }
 },
 "nbformat": 4,
 "nbformat_minor": 5
}
