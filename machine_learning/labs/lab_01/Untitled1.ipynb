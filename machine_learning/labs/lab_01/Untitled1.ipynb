{
 "cells": [
  {
   "cell_type": "code",
   "execution_count": null,
   "id": "fbb98f01-c9e8-441a-80a8-19ed7a8f3c48",
   "metadata": {},
   "outputs": [],
   "source": [
    "X0 = np.matrix([[2], [3], [5]])\n",
    "y = np.matrix([1, 3, 4])\n",
    "# Создаем матриицу из единиц\n",
    "one_matrix = np.ones((3, 1))\n",
    "\n",
    "# Производим слияние матрицы one_matrix с матрицей Х\n",
    "X = np.concatenate((one_matrix, X0),axis=1)\n",
    "\n",
    "# Умножаем транспонированную матрицу Х на матрицу Х\n",
    "X_mult = np.transpose(X) * X\n",
    "\n",
    "# Находим обратную матрицу полученного результата\n",
    "X_inv = np.linalg.inv(X_mult)\n",
    "\n",
    "# Умножаем обратную матрицу на транспонированную\n",
    "X_mult_2 = X_inv * np.transpose(X)\n",
    "\n",
    "# Находим значение весов, умножая полученный результат на матрицу у\n",
    "w_opt = X_mult_2 * y.T"
   ]
  }
 ],
 "metadata": {
  "kernelspec": {
   "display_name": "Python 3 (ipykernel)",
   "language": "python",
   "name": "python3"
  },
  "language_info": {
   "codemirror_mode": {
    "name": "ipython",
    "version": 3
   },
   "file_extension": ".py",
   "mimetype": "text/x-python",
   "name": "python",
   "nbconvert_exporter": "python",
   "pygments_lexer": "ipython3",
   "version": "3.12.4"
  }
 },
 "nbformat": 4,
 "nbformat_minor": 5
}
