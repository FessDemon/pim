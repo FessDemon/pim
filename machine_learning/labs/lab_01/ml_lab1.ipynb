{
 "cells": [
  {
   "cell_type": "markdown",
   "metadata": {},
   "source": [
    "# Лабораторная работа 1. Линейная регрессия. Нормальное уравнение"
   ]
  },
  {
   "cell_type": "markdown",
   "metadata": {},
   "source": [
    "Если для оценки качества в регресии используется среднеквадратичная ошибка (*mean squared error, MSE*), то ошибка на одном примере (*функция потерь*) будет определяться выражением:\n",
    "\n",
    "$$L(y,a)=(a-y)^2$$\n",
    "\n",
    "а суммарная ошибка (*функционал ошибки*):\n",
    "\n",
    "$$MSE(a,X)=\\frac1{l}\\sum_{i=1}^lL(y_i,a(\\overrightarrow{x_i}))=\\frac1{l}\\sum_{i=1}^l(a(\\overrightarrow{x_i})-y_i)^2$$\n",
    "\n",
    "В случае линейной регресии:\n",
    "\n",
    "$$a(\\overrightarrow{x_i})=\\langle \\overrightarrow{w},\\overrightarrow{x_i}\\rangle$$\n",
    "\n",
    "Задача оптимизации:\n",
    "\n",
    "$$\\frac1{l}\\sum_{i=1}^l (\\langle \\overrightarrow{w},\\overrightarrow{x_i}\\rangle-y_i)^2\\to \\min_{\\overrightarrow{w}}$$\n",
    "\n",
    "Тогда, продифференцировав функционал ошибки по $\\overrightarrow{w}$, приравняв его нулю и решив полученное уравнение, получим следующее выражение для оптимального вектора весов, которое называется *нормальным уравнением*:\n",
    "\n",
    "$$\\overrightarrow{w}_{opt} = \\left(X^TX\\right)^{-1}X^T\\overrightarrow{y}.$$"
   ]
  },
  {
   "cell_type": "markdown",
   "metadata": {},
   "source": [
    "**Задание 1. Пример из лекций**\n",
    "\n",
    "Напишите функцию ``get_weight``, которая находит вектор весов на основе нормального уравнения.\n",
    "\n",
    "Полезные функции: ``numpy.ones(n)`` для создания массива из единиц длины $n$ и ``numpy.concatenate((А, В), axis=1)`` для слияния двух матриц по столбцам (пара ``А`` и ``В`` превращается в матрицу ``[A B]``).\n",
    "\n",
    "Проверьте работу функции на простом примере из лекций:\n",
    "\n",
    "$$x_1=2, x_2=3, x_3=5$$\n",
    "\n",
    "$$y_1=1, y_2=3, y_3=4$$\n",
    "\n",
    "Имейте в виду, что $X$ – это матрица (в данном примере состоящая из одного столбца).\n",
    "\n",
    "Нарисуйте исходные данные и полученную линию регресии при помощи ``matplotlib``: для рисования точек используйте ``plt.scatter``, для рисования линии – ``plt.plot``."
   ]
  },
  {
   "cell_type": "code",
   "execution_count": 1,
   "metadata": {},
   "outputs": [],
   "source": [
    "import numpy as np\n",
    "import scipy.linalg as sla\n",
    "import matplotlib.pyplot as plt\n",
    "%matplotlib inline"
   ]
  },
  {
   "cell_type": "code",
   "execution_count": 85,
   "metadata": {},
   "outputs": [
    {
     "name": "stdout",
     "output_type": "stream",
     "text": [
      "[[2 3 5]]\n",
      "[[1 3 4]]\n",
      "[[2]\n",
      " [3]\n",
      " [5]]\n",
      "[[1.]\n",
      " [1.]\n",
      " [1.]]\n",
      "[[1. 2.]\n",
      " [1. 3.]\n",
      " [1. 5.]]\n",
      "[[ 3. 10.]\n",
      " [10. 38.]]\n",
      "[[ 2.71428571 -0.71428571]\n",
      " [-0.71428571  0.21428571]]\n",
      "[[ 1.28571429  0.57142857 -0.85714286]\n",
      " [-0.28571429 -0.07142857  0.35714286]]\n",
      "Вектор весов:\n",
      " [[-0.42857143]\n",
      " [ 0.92857143]]\n"
     ]
    }
   ],
   "source": [
    "def get_weight(X0, y):\n",
    "\n",
    "    X0 = X0.T\n",
    "    print(X0)\n",
    "    \n",
    "    # Создаем матриицу из единиц\n",
    "    one_matrix = np.ones((3, 1))\n",
    "    print(one_matrix)\n",
    "    \n",
    "    # Производим слияние матрицы one_matrix с матрицей Х\n",
    "    X = np.concatenate((one_matrix, X0),axis=1)\n",
    "    print(X)\n",
    "    \n",
    "    # Умножаем транспонированную матрицу Х на матрицу Х\n",
    "    X_mult = X.T * X\n",
    "    print(X_mult)\n",
    "    \n",
    "    # Находим обратную матрицу полученного результата\n",
    "    X_inv = np.linalg.inv(X_mult)\n",
    "    print(X_inv)\n",
    "\n",
    "    # Умножаем обратную матрицу на транспонированную\n",
    "    X_mult_2 = X_inv * X.T\n",
    "    print(X_mult_2)\n",
    "    \n",
    "    # Находим значение весов, умножая полученный результат на матрицу у\n",
    "    w = X_mult_2 * y.T\n",
    "\n",
    "    return w\n",
    "\n",
    "X0 = np.matrix([2, 3, 5])\n",
    "y = np.matrix([1, 3, 4])\n",
    "print(X0)\n",
    "print(y)\n",
    "\n",
    "w = get_weight(X0, y)\n",
    "print(\"Вектор весов:\\n\", w)\n",
    "\n",
    "\n"
   ]
  },
  {
   "cell_type": "markdown",
   "metadata": {},
   "source": [
    "Найдите значения функционалов ошибки $MSE$, $RMSE$, $R^2$."
   ]
  },
  {
   "cell_type": "code",
   "execution_count": null,
   "metadata": {},
   "outputs": [],
   "source": [
    "def MSE(y_test, y_predict):\n",
    "        \n",
    "    # Ваш код здесь\n",
    "    \n",
    "    return   # Возвращаем значение ошибки\n",
    "\n",
    "def RMSE(y_test, y_predict):\n",
    "        \n",
    "    # Ваш код здесь\n",
    "    \n",
    "    return   # Возвращаем значение ошибки\n",
    "\n",
    "def R2(y_test, y_predict):\n",
    "        \n",
    "    # Ваш код здесь\n",
    "    \n",
    "    return   # Возвращаем значение ошибки"
   ]
  },
  {
   "cell_type": "markdown",
   "metadata": {},
   "source": [
    "Сравните полученные значения с библиотечными функциями $MSE$ и $R2$ из [scikit-learn](https://scikit-learn.org/stable/modules/model_evaluation.html#regression-metrics)."
   ]
  },
  {
   "cell_type": "markdown",
   "metadata": {},
   "source": [
    "**Задание 2. Более сложный пример**.\n",
    "Скачайте файлы ``ml_lab1_train.txt`` и ``ml_lab1_test.txt``. В первом из них находится обучающая выборка, а во втором – тестовая. Каждый из файлов содержит два столбца чисел, разделённых пробелами: в первом – $n$ точек (значения аргумента $x$), во втором – значения некоторой функции $y = f(x)$ в этих точках, искажённые случайным шумом. Ваша задача – по обучающей выборке подобрать функцию $y = a(x)$, приближающую неизвестную вам зависимость."
   ]
  },
  {
   "cell_type": "markdown",
   "metadata": {},
   "source": [
    "Загрузим обучающие и тестовые данные (не забудьте ввести правильный путь!)."
   ]
  },
  {
   "cell_type": "code",
   "execution_count": null,
   "metadata": {},
   "outputs": [],
   "source": [
    "data_train = np.loadtxt('.../ml_lab1_train.txt', delimiter=',')\n",
    "data_test = np.loadtxt('.../ml_lab1_test.txt', delimiter=',')"
   ]
  },
  {
   "cell_type": "code",
   "execution_count": null,
   "metadata": {},
   "outputs": [],
   "source": [
    "X_train = data_train[:,0]\n",
    "y_train = data_train[:,1]\n",
    "\n",
    "# Сделайте то же для тестовой выборки"
   ]
  },
  {
   "cell_type": "markdown",
   "metadata": {},
   "source": [
    "Найдите с помощью функции ``get_weight`` линейную функцию ($y = kx + b$), наилучшим образом приближающую неизвестную зависимость.  \n",
    "Выведите значения весовых коэффициентов."
   ]
  },
  {
   "cell_type": "code",
   "execution_count": null,
   "metadata": {},
   "outputs": [],
   "source": [
    "# Ваш код здесь"
   ]
  },
  {
   "cell_type": "markdown",
   "metadata": {},
   "source": [
    "Нарисуйте на плоскости точки обучающей и тестовой выборок (раскрасив в два цвета) $(x_i, y_i)$ и полученную линейную функцию."
   ]
  },
  {
   "cell_type": "code",
   "execution_count": null,
   "metadata": {},
   "outputs": [],
   "source": [
    "# Ваш код здесь"
   ]
  },
  {
   "cell_type": "markdown",
   "metadata": {},
   "source": [
    "Найдите значения функционалов ошибки $MSE$, $RMSE$, $R^2$. Сравните их со значениями библиотечных функций `scikit-learn`."
   ]
  },
  {
   "cell_type": "code",
   "execution_count": null,
   "metadata": {},
   "outputs": [],
   "source": [
    "# Ваш код здесь"
   ]
  }
 ],
 "metadata": {
  "kernelspec": {
   "display_name": "Python 3 (ipykernel)",
   "language": "python",
   "name": "python3"
  },
  "language_info": {
   "codemirror_mode": {
    "name": "ipython",
    "version": 3
   },
   "file_extension": ".py",
   "mimetype": "text/x-python",
   "name": "python",
   "nbconvert_exporter": "python",
   "pygments_lexer": "ipython3",
   "version": "3.12.4"
  }
 },
 "nbformat": 4,
 "nbformat_minor": 4
}
