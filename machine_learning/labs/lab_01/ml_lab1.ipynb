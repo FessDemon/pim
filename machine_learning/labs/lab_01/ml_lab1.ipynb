{
 "cells": [
  {
   "cell_type": "markdown",
   "metadata": {},
   "source": [
    "# Лабораторная работа 1. Линейная регрессия. Нормальное уравнение"
   ]
  },
  {
   "cell_type": "markdown",
   "metadata": {},
   "source": [
    "Если для оценки качества в регресии используется среднеквадратичная ошибка (*mean squared error, MSE*), то ошибка на одном примере (*функция потерь*) будет определяться выражением:\n",
    "\n",
    "$$L(y,a)=(a-y)^2$$\n",
    "\n",
    "а суммарная ошибка (*функционал ошибки*):\n",
    "\n",
    "$$MSE(a,X)=\\frac1{l}\\sum_{i=1}^lL(y_i,a(\\overrightarrow{x_i}))=\\frac1{l}\\sum_{i=1}^l(a(\\overrightarrow{x_i})-y_i)^2$$\n",
    "\n",
    "В случае линейной регресии:\n",
    "\n",
    "$$a(\\overrightarrow{x_i})=\\langle \\overrightarrow{w},\\overrightarrow{x_i}\\rangle$$\n",
    "\n",
    "Задача оптимизации:\n",
    "\n",
    "$$\\frac1{l}\\sum_{i=1}^l (\\langle \\overrightarrow{w},\\overrightarrow{x_i}\\rangle-y_i)^2\\to \\min_{\\overrightarrow{w}}$$\n",
    "\n",
    "Тогда, продифференцировав функционал ошибки по $\\overrightarrow{w}$, приравняв его нулю и решив полученное уравнение, получим следующее выражение для оптимального вектора весов, которое называется *нормальным уравнением*:\n",
    "\n",
    "$$\\overrightarrow{w}_{opt} = \\left(X^TX\\right)^{-1}(X^T\\overrightarrow{y}).$$"
   ]
  },
  {
   "cell_type": "markdown",
   "metadata": {},
   "source": [
    "**Задание 1. Пример из лекций**\n",
    "\n",
    "Напишите функцию ``get_weight``, которая находит вектор весов на основе нормального уравнения.\n",
    "\n",
    "Полезные функции: ``numpy.ones(n)`` для создания массива из единиц длины $n$ и ``numpy.concatenate((А, В), axis=1)`` для слияния двух матриц по столбцам (пара ``А`` и ``В`` превращается в матрицу ``[A B]``).\n",
    "\n",
    "Проверьте работу функции на простом примере из лекций:\n",
    "\n",
    "$$x_1=2, x_2=3, x_3=5$$\n",
    "\n",
    "$$y_1=1, y_2=3, y_3=4$$\n",
    "\n",
    "Имейте в виду, что $X$ – это матрица (в данном примере состоящая из одного столбца).\n",
    "\n",
    "Нарисуйте исходные данные и полученную линию регресии при помощи ``matplotlib``: для рисования точек используйте ``plt.scatter``, для рисования линии – ``plt.plot``."
   ]
  },
  {
   "cell_type": "code",
   "execution_count": 1,
   "metadata": {},
   "outputs": [],
   "source": [
    "import numpy as np\n",
    "import scipy.linalg as sla\n",
    "import matplotlib.pyplot as plt\n",
    "from sklearn.metrics import mean_squared_error, r2_score, root_mean_squared_error\n",
    "%matplotlib inline"
   ]
  },
  {
   "cell_type": "code",
   "execution_count": 2,
   "metadata": {},
   "outputs": [
    {
     "name": "stdout",
     "output_type": "stream",
     "text": [
      "x =  [[1. 2.]\n",
      " [1. 3.]\n",
      " [1. 5.]]\n",
      "y =  [1 3 4]\n",
      "x.T * x =  [[ 3. 10.]\n",
      " [10. 38.]]\n",
      "(x.T * x)^(-1) =  [[ 2.71428571 -0.71428571]\n",
      " [-0.71428571  0.21428571]]\n",
      "x.T * y =  [ 8. 31.]\n",
      "w =  [-0.42857143  0.92857143]\n",
      "\n",
      "w =  [-0.42857143  0.92857143]\n"
     ]
    }
   ],
   "source": [
    "# Проверка нахождения вектора весов на основе нормального уравнения \n",
    "def get_weight(X, y):\n",
    "    X = np.array([np.ones(X.shape[0]), X]).T\n",
    "    print('x = ', X)\n",
    "    print('y = ', y)\n",
    "    print('x.T * x = ', np.dot(X.T, X))\n",
    "    print('(x.T * x)^(-1) = ', np.linalg.inv(np.dot(X.T, X)))\n",
    "    print('x.T * y = ', np.dot(X.T, y))\n",
    "    \n",
    "    w = np.dot(np.linalg.inv(np.dot(X.T, X)), np.dot(X.T, y))\n",
    "    print('w = ', w)\n",
    "    return w  # Возвращаем вектор весов\n",
    "\n",
    "X = np.array([2, 3, 5])\n",
    "y = np.array([1, 3, 4])\n",
    "w = get_weight(X, y)\n",
    "print('\\nw = ', w)"
   ]
  },
  {
   "cell_type": "code",
   "execution_count": 3,
   "metadata": {},
   "outputs": [
    {
     "name": "stdout",
     "output_type": "stream",
     "text": [
      "w =  [-0.42857143  0.92857143]\n"
     ]
    },
    {
     "data": {
      "image/png": "[encoded data removed]",
      "text/plain": [
       "<Figure size 640x480 with 1 Axes>"
      ]
     },
     "metadata": {},
     "output_type": "display_data"
    }
   ],
   "source": [
    "# Функция нахождения значений по линейной функции с предсказанными весовыми коэффициентами\n",
    "def lin_reg(X, w):\n",
    "    X = np.array([np.ones(X.shape[0]), X]).T\n",
    "    y_predict = np.dot(w, X.T)\n",
    "    return y_predict\n",
    "\n",
    "# Функция нахождения вектора весов на основе нормального уравнения \n",
    "def get_weight(X, y):\n",
    "    X = np.array([np.ones(X.shape[0]), X]).T\n",
    "    w = np.dot(np.linalg.inv(np.dot(X.T, X)), np.dot(X.T, y))\n",
    "    return w  # Возвращаем вектор весов\n",
    "\n",
    "X = np.array([2, 3, 5])\n",
    "y = np.array([1, 3, 4])\n",
    "w = get_weight(X, y)\n",
    "y_predict = lin_reg(X, w)\n",
    "print('w = ', w)\n",
    "\n",
    "# Отрисовка\n",
    "m = 1\n",
    "plt.scatter(X, y, 40, 'g', 'o', alpha=0.8, label='Исходные данные')\n",
    "plt.plot(X, y_predict, 'r', alpha=0.8, label='Линия регрессии')\n",
    "plt.xlim(X.min() - m, X.max() + m)\n",
    "plt.ylim(y_predict.min() - m, y_predict.max() + m)\n",
    "plt.legend(loc = 'best', prop = {'size': 10})\n",
    "plt.title('Линейная регрессия')\n",
    "plt.xlabel('x')\n",
    "plt.ylabel('y')\n",
    "plt.show()"
   ]
  },
  {
   "cell_type": "code",
   "execution_count": 25,
   "metadata": {},
   "outputs": [
    {
     "name": "stdout",
     "output_type": "stream",
     "text": [
      "y = 4.433230905064938 + 2.2791344980519455*x\n"
     ]
    }
   ],
   "source": [
    "print(f\"y = {w[0]} + {w[1]}*x\")"
   ]
  },
  {
   "cell_type": "markdown",
   "metadata": {},
   "source": [
    "Найдите значения функционалов ошибки $MSE$, $RMSE$, $R^2$."
   ]
  },
  {
   "cell_type": "code",
   "execution_count": 10,
   "metadata": {},
   "outputs": [],
   "source": [
    "# Функции ошибок\n",
    "\n",
    "def MSE(y_test, y_predict):\n",
    "    mse = np.sum((y_test - y_predict) ** 2) / len(y_test)\n",
    "    return mse  # Возвращаем значение ошибки\n",
    "\n",
    "def RMSE(y_test, y_predict):\n",
    "    rmse = np.sqrt(np.sum((y_test - y_predict) ** 2) / len(y_test))\n",
    "    return rmse # Возвращаем значение ошибки\n",
    "\n",
    "def R2(y_test, y_predict):\n",
    "    import statistics    \n",
    "    r2 = 1 - np.sum((y_test - y_predict) ** 2) / np.sum((y_test - np.sum(y_test) / len(y_test)) ** 2)\n",
    "    return r2  # Возвращаем значение ошибки\n"
   ]
  },
  {
   "cell_type": "code",
   "execution_count": 12,
   "metadata": {},
   "outputs": [
    {
     "name": "stdout",
     "output_type": "stream",
     "text": [
      "Сравнение MSE со значением из scikit-learn\n",
      "Значения идентичны. 0.2142857142857143\n",
      "\n",
      "Сравнение RMSE со значением из scikit-learn\n",
      "Значения идентичны. 0.46291004988627577\n",
      "\n",
      "Сравнение R2 со значением из scikit-learn\n",
      "Значения идентичны. 0.8622448979591837\n",
      "\n"
     ]
    }
   ],
   "source": [
    "def check_equality(var1, var2):\n",
    "\n",
    "    if var1 == var2:\n",
    "        print(f\"Значения идентичны. {var1}\")\n",
    "        print()\n",
    "    else:\n",
    "        print(f\"значения не идентичны. {var1}\")\n",
    "        print()\n",
    "\n",
    "print(\"Сравнение MSE со значением из scikit-learn\")\n",
    "check_equality(MSE(y, y_predict), mean_squared_error(y, y_predict))\n",
    "\n",
    "print(\"Сравнение RMSE со значением из scikit-learn\")\n",
    "check_equality(RMSE(y, y_predict), root_mean_squared_error(y, y_predict))\n",
    "\n",
    "print(\"Сравнение R2 со значением из scikit-learn\")\n",
    "check_equality(R2(y, y_predict), r2_score(y, y_predict))\n"
   ]
  },
  {
   "cell_type": "markdown",
   "metadata": {},
   "source": [
    "Сравните полученные значения с библиотечными функциями $MSE$ и $R2$ из [scikit-learn](https://scikit-learn.org/stable/modules/model_evaluation.html#regression-metrics)."
   ]
  },
  {
   "cell_type": "markdown",
   "metadata": {},
   "source": [
    "**Задание 2. Более сложный пример**.\n",
    "Скачайте файлы ``ml_lab1_train.txt`` и ``ml_lab1_test.txt``. В первом из них находится обучающая выборка, а во втором – тестовая. Каждый из файлов содержит два столбца чисел, разделённых пробелами: в первом – $n$ точек (значения аргумента $x$), во втором – значения некоторой функции $y = f(x)$ в этих точках, искажённые случайным шумом. Ваша задача – по обучающей выборке подобрать функцию $y = a(x)$, приближающую неизвестную вам зависимость."
   ]
  },
  {
   "cell_type": "markdown",
   "metadata": {},
   "source": [
    "Загрузим обучающие и тестовые данные (не забудьте ввести правильный путь!)."
   ]
  },
  {
   "cell_type": "code",
   "execution_count": 14,
   "metadata": {},
   "outputs": [],
   "source": [
    "data_train = np.loadtxt('ml_lab1_train.txt', delimiter=',')\n",
    "data_test = np.loadtxt('ml_lab1_test.txt', delimiter=',')"
   ]
  },
  {
   "cell_type": "code",
   "execution_count": 15,
   "metadata": {},
   "outputs": [],
   "source": [
    "# Разделение данных и целевых значений для обучающих данных\n",
    "X_train = data_train[:,0]\n",
    "y_train = data_train[:,1]\n",
    "# Разделение данных и целевых значений для тестовых данных\n",
    "X_test = data_test[:,0]\n",
    "y_test = data_test[:,1]"
   ]
  },
  {
   "cell_type": "markdown",
   "metadata": {},
   "source": [
    "Найдите с помощью функции ``get_weight`` линейную функцию ($y = kx + b$), наилучшим образом приближающую неизвестную зависимость.  \n",
    "Выведите значения весовых коэффициентов."
   ]
  },
  {
   "cell_type": "code",
   "execution_count": 16,
   "metadata": {},
   "outputs": [
    {
     "name": "stdout",
     "output_type": "stream",
     "text": [
      "w =  [4.43323091 2.2791345 ]\n"
     ]
    }
   ],
   "source": [
    "# Ваш код здесь\n",
    "w = get_weight(X_train, y_train)\n",
    "print('w = ', w)\n",
    "X = np.array(sorted(X_train + X_test))\n",
    "y_predict = lin_reg(X, w)"
   ]
  },
  {
   "cell_type": "markdown",
   "metadata": {},
   "source": [
    "Нарисуйте на плоскости точки обучающей и тестовой выборок (раскрасив в два цвета) $(x_i, y_i)$ и полученную линейную функцию."
   ]
  },
  {
   "cell_type": "code",
   "execution_count": 17,
   "metadata": {},
   "outputs": [
    {
     "data": {
      "image/png": "[encoded data removed]",
      "text/plain": [
       "<Figure size 640x480 with 1 Axes>"
      ]
     },
     "metadata": {},
     "output_type": "display_data"
    }
   ],
   "source": [
    "# Отрисовка\n",
    "m = 1\n",
    "plt.scatter(X_train, y_train, 40, 'g', 'o', alpha=0.8, label='Обучающие данные')\n",
    "plt.scatter(X_test, y_test, 40, 'b', 'x', alpha=0.8, label='Тестовые данные')\n",
    "plt.plot(X, y_predict, 'r', alpha=0.8, label='Линия регрессии')\n",
    "plt.xlim(X.min() - m, X.max() + m)\n",
    "plt.ylim(y_predict.min() - m, y_predict.max() + m)\n",
    "plt.legend(loc = 'best', prop = {'size': 10})\n",
    "plt.title('Линейная регрессия')\n",
    "plt.xlabel('x')\n",
    "plt.ylabel('y')\n",
    "plt.show()"
   ]
  },
  {
   "cell_type": "code",
   "execution_count": 26,
   "metadata": {},
   "outputs": [
    {
     "name": "stdout",
     "output_type": "stream",
     "text": [
      "y = 4.433230905064938 + 2.2791344980519455*x\n"
     ]
    }
   ],
   "source": [
    "print(f\"y = {w[0]} + {w[1]}*x\")"
   ]
  },
  {
   "cell_type": "markdown",
   "metadata": {},
   "source": [
    "Найдите значения функционалов ошибки $MSE$, $RMSE$, $R^2$. Сравните их со значениями библиотечных функций `scikit-learn`."
   ]
  },
  {
   "cell_type": "code",
   "execution_count": 24,
   "metadata": {},
   "outputs": [
    {
     "name": "stdout",
     "output_type": "stream",
     "text": [
      "Ошибка на обучающем наборе:\n",
      "\n",
      "Сравнение MSE со значением из scikit-learn\n",
      "Значения идентичны. 0.2968966332625196\n",
      "\n",
      "Сравнение RMSE со значением из scikit-learn\n",
      "Значения идентичны. 0.5448822196241309\n",
      "\n",
      "Сравнение R2 со значением из scikit-learn\n",
      "Значения идентичны. 0.6978349896117897\n",
      "\n",
      "\n",
      "Ошибка на тестовом наборе:\n",
      "\n",
      "Сравнение MSE со значением из scikit-learn\n",
      "Значения идентичны. 0.4351202004048888\n",
      "\n",
      "Сравнение RMSE со значением из scikit-learn\n",
      "Значения идентичны. 0.6596364153114114\n",
      "\n",
      "Сравнение R2 со значением из scikit-learn\n",
      "Значения идентичны. 0.6848801332179663\n",
      "\n"
     ]
    }
   ],
   "source": [
    "print('Ошибка на обучающем наборе:')\n",
    "y_predict_train = lin_reg(X_train, w)\n",
    "print()\n",
    "\n",
    "print(\"Сравнение MSE со значением из scikit-learn\")\n",
    "check_equality(MSE(y_train, y_predict_train), mean_squared_error(y_train, y_predict_train))\n",
    "\n",
    "print(\"Сравнение RMSE со значением из scikit-learn\")\n",
    "check_equality(RMSE(y_train, y_predict_train), root_mean_squared_error(y_train, y_predict_train))\n",
    "\n",
    "print(\"Сравнение R2 со значением из scikit-learn\")\n",
    "check_equality(R2(y_train, y_predict_train), r2_score(y_train, y_predict_train))\n",
    "\n",
    "#print('MSE = ', MSE(y_train, y_predict_train), ' scikit-learn MSE = ', mean_squared_error(y_train, y_predict_train))\n",
    "#print('RMSE = ', RMSE(y_train, y_predict_train), ' scikit-learn RMSE = ', root_mean_squared_error(y_train, y_predict_train))\n",
    "#print('R2 = ', R2(y_train, y_predict_train), ' scikit-learn R2_score = ', r2_score(y_train, y_predict_train))\n",
    "\n",
    "print('\\nОшибка на тестовом наборе:')\n",
    "y_predict_test = lin_reg(X_test, w)\n",
    "print()\n",
    "\n",
    "print(\"Сравнение MSE со значением из scikit-learn\")\n",
    "check_equality(MSE(y_test, y_predict_test), mean_squared_error(y_test, y_predict_test))\n",
    "\n",
    "print(\"Сравнение RMSE со значением из scikit-learn\")\n",
    "check_equality(RMSE(y_test, y_predict_test), root_mean_squared_error(y_test, y_predict_test))\n",
    "\n",
    "print(\"Сравнение R2 со значением из scikit-learn\")\n",
    "check_equality(R2(y_test, y_predict_test), r2_score(y_test, y_predict_test))\n",
    "\n",
    "#print('MSE = ', MSE(y_test, y_predict_test), ' scikit-learn MSE = ', mean_squared_error(y_test, y_predict_test))\n",
    "#print('RMSE = ', RMSE(y_test, y_predict_test), ' scikit-learn RMSE = ', root_mean_squared_error(y_test, y_predict_test))\n",
    "#print('R2 = ', R2(y_test, y_predict_test), ' scikit-learn R2_score = ', r2_score(y_test, y_predict_test))"
   ]
  },
  {
   "cell_type": "code",
   "execution_count": null,
   "metadata": {},
   "outputs": [],
   "source": []
  }
 ],
 "metadata": {
  "kernelspec": {
   "display_name": "Python 3 (ipykernel)",
   "language": "python",
   "name": "python3"
  },
  "language_info": {
   "codemirror_mode": {
    "name": "ipython",
    "version": 3
   },
   "file_extension": ".py",
   "mimetype": "text/x-python",
   "name": "python",
   "nbconvert_exporter": "python",
   "pygments_lexer": "ipython3",
   "version": "3.12.4"
  }
 },
 "nbformat": 4,
 "nbformat_minor": 4
}
