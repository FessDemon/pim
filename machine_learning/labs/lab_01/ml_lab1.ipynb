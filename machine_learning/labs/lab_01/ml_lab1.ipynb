{
 "cells": [
  {
   "cell_type": "markdown",
   "metadata": {},
   "source": [
    "# Лабораторная работа 1. Линейная регрессия. Нормальное уравнение"
   ]
  },
  {
   "cell_type": "markdown",
   "metadata": {},
   "source": [
    "Если для оценки качества в регресии используется среднеквадратичная ошибка (*mean squared error, MSE*), то ошибка на одном примере (*функция потерь*) будет определяться выражением:\n",
    "\n",
    "$$L(y,a)=(a-y)^2$$\n",
    "\n",
    "а суммарная ошибка (*функционал ошибки*):\n",
    "\n",
    "$$MSE(a,X)=\\frac1{l}\\sum_{i=1}^lL(y_i,a(\\overrightarrow{x_i}))=\\frac1{l}\\sum_{i=1}^l(a(\\overrightarrow{x_i})-y_i)^2$$\n",
    "\n",
    "В случае линейной регресии:\n",
    "\n",
    "$$a(\\overrightarrow{x_i})=\\langle \\overrightarrow{w},\\overrightarrow{x_i}\\rangle$$\n",
    "\n",
    "Задача оптимизации:\n",
    "\n",
    "$$\\frac1{l}\\sum_{i=1}^l (\\langle \\overrightarrow{w},\\overrightarrow{x_i}\\rangle-y_i)^2\\to \\min_{\\overrightarrow{w}}$$\n",
    "\n",
    "Тогда, продифференцировав функционал ошибки по $\\overrightarrow{w}$, приравняв его нулю и решив полученное уравнение, получим следующее выражение для оптимального вектора весов, которое называется *нормальным уравнением*:\n",
    "\n",
    "$$\\overrightarrow{w}_{opt} = \\left(X^TX\\right)^{-1}(X^T\\overrightarrow{y}).$$"
   ]
  },
  {
   "cell_type": "markdown",
   "metadata": {},
   "source": [
    "**Задание 1. Пример из лекций**\n",
    "\n",
    "Напишите функцию ``get_weight``, которая находит вектор весов на основе нормального уравнения.\n",
    "\n",
    "Полезные функции: ``numpy.ones(n)`` для создания массива из единиц длины $n$ и ``numpy.concatenate((А, В), axis=1)`` для слияния двух матриц по столбцам (пара ``А`` и ``В`` превращается в матрицу ``[A B]``).\n",
    "\n",
    "Проверьте работу функции на простом примере из лекций:\n",
    "\n",
    "$$x_1=2, x_2=3, x_3=5$$\n",
    "\n",
    "$$y_1=1, y_2=3, y_3=4$$\n",
    "\n",
    "Имейте в виду, что $X$ – это матрица (в данном примере состоящая из одного столбца).\n",
    "\n",
    "Нарисуйте исходные данные и полученную линию регресии при помощи ``matplotlib``: для рисования точек используйте ``plt.scatter``, для рисования линии – ``plt.plot``."
   ]
  },
  {
   "cell_type": "code",
   "execution_count": 75,
   "metadata": {},
   "outputs": [],
   "source": [
    "import numpy as np\n",
    "import scipy.linalg as sla\n",
    "import matplotlib.pyplot as plt\n",
    "%matplotlib inline"
   ]
  },
  {
   "cell_type": "code",
   "execution_count": 76,
   "metadata": {},
   "outputs": [
    {
     "name": "stdout",
     "output_type": "stream",
     "text": [
      "w =  [-0.42857143  0.92857143]\n",
      "y_predict =  [1.42857143 2.35714286 4.21428571]\n"
     ]
    },
    {
     "data": {
      "image/png": "[encoded data removed]",
      "text/plain": [
       "<Figure size 640x480 with 1 Axes>"
      ]
     },
     "metadata": {},
     "output_type": "display_data"
    }
   ],
   "source": [
    "def lin_reg(X, w):\n",
    "    X = np.array([np.ones(X.shape[0]), X]).T\n",
    "    y_predict = np.dot(w, X.T)\n",
    "    return y_predict\n",
    "    \n",
    "def get_weight(X, y):\n",
    "    \n",
    "    # Ваш код здесь\n",
    "    X = np.array([np.ones(X.shape[0]), X]).T\n",
    "    w = np.dot(np.linalg.inv(np.dot(X.T, X)), np.dot(X.T, y))\n",
    "    \n",
    "    return w  # Возвращаем вектор весов\n",
    "\n",
    "X = np.array([2, 3, 5])\n",
    "y = np.array([1, 3, 4])\n",
    "w = get_weight(X, y)\n",
    "y_predict = lin_reg(X, w)\n",
    "print('w = ', w)\n",
    "print('y_predict = ', y_predict)\n",
    "\n",
    "# Отрисовка\n",
    "m = 1\n",
    "plt.scatter(X, y, 40, 'g', 'o', alpha=0.8, label='y_train')\n",
    "plt.plot(X, y_predict, 'r', alpha=0.8, label='y_predict')\n",
    "plt.xlim(X.min() - m, X.max() + m)\n",
    "plt.ylim(y_predict.min() - m, y_predict.max() + m)\n",
    "plt.legend(loc = 'best', prop = {'size': 10})\n",
    "plt.title('Fitted linear regression')\n",
    "plt.xlabel('x')\n",
    "plt.ylabel('y')\n",
    "plt.show()"
   ]
  },
  {
   "cell_type": "markdown",
   "metadata": {},
   "source": [
    "Найдите значения функционалов ошибки $MSE$, $RMSE$, $R^2$."
   ]
  },
  {
   "cell_type": "code",
   "execution_count": 77,
   "metadata": {},
   "outputs": [
    {
     "name": "stdout",
     "output_type": "stream",
     "text": [
      "MSE =  0.2142857142857143  scikit-learn MSE =  0.2142857142857143\n",
      "RMSE =  0.46291004988627577\n",
      "R2 =  0.8622448979591837  scikit-learn R2_score =  0.8622448979591837\n"
     ]
    }
   ],
   "source": [
    "from sklearn.metrics import mean_squared_error, r2_score\n",
    "\n",
    "def MSE(y_test, y_predict):\n",
    "        \n",
    "    # Ваш код здесь\n",
    "    mse = np.sum((y_test - y_predict) ** 2) / len(y_test)\n",
    "    return mse  # Возвращаем значение ошибки\n",
    "\n",
    "def RMSE(y_test, y_predict):\n",
    "        \n",
    "    # Ваш код здесь\n",
    "    rmse = np.sqrt(np.sum((y_test - y_predict) ** 2) / len(y_test))\n",
    "    return rmse # Возвращаем значение ошибки\n",
    "\n",
    "def R2(y_test, y_predict):\n",
    "    import statistics    \n",
    "    # Ваш код здесь\n",
    "    r2 = 1 - np.sum((y_test - y_predict) ** 2) / np.sum((y_test - np.sum(y_test) / len(y_test)) ** 2)\n",
    "    return r2  # Возвращаем значение ошибки\n",
    "\n",
    "print('MSE = ', MSE(y, y_predict), ' scikit-learn MSE = ', mean_squared_error(y, y_predict))\n",
    "print('RMSE = ', RMSE(y, y_predict))\n",
    "print('R2 = ', R2(y, y_predict), ' scikit-learn R2_score = ', r2_score(y, y_predict))"
   ]
  },
  {
   "cell_type": "markdown",
   "metadata": {},
   "source": [
    "Сравните полученные значения с библиотечными функциями $MSE$ и $R2$ из [scikit-learn](https://scikit-learn.org/stable/modules/model_evaluation.html#regression-metrics)."
   ]
  },
  {
   "cell_type": "markdown",
   "metadata": {},
   "source": [
    "**Задание 2. Более сложный пример**.\n",
    "Скачайте файлы ``ml_lab1_train.txt`` и ``ml_lab1_test.txt``. В первом из них находится обучающая выборка, а во втором – тестовая. Каждый из файлов содержит два столбца чисел, разделённых пробелами: в первом – $n$ точек (значения аргумента $x$), во втором – значения некоторой функции $y = f(x)$ в этих точках, искажённые случайным шумом. Ваша задача – по обучающей выборке подобрать функцию $y = a(x)$, приближающую неизвестную вам зависимость."
   ]
  },
  {
   "cell_type": "markdown",
   "metadata": {},
   "source": [
    "Загрузим обучающие и тестовые данные (не забудьте ввести правильный путь!)."
   ]
  },
  {
   "cell_type": "code",
   "execution_count": 78,
   "metadata": {},
   "outputs": [],
   "source": [
    "data_train = np.loadtxt('ml_lab1_train.txt', delimiter=',')\n",
    "data_test = np.loadtxt('ml_lab1_test.txt', delimiter=',')"
   ]
  },
  {
   "cell_type": "code",
   "execution_count": 79,
   "metadata": {},
   "outputs": [],
   "source": [
    "# Разделение данных и целевых значений для обучающих данных\n",
    "X_train = data_train[:,0]\n",
    "y_train = data_train[:,1]\n",
    "# Разделение данных и целевых значений для тестовых данных\n",
    "X_test = data_test[:,0]\n",
    "y_test = data_test[:,1]"
   ]
  },
  {
   "cell_type": "markdown",
   "metadata": {},
   "source": [
    "Найдите с помощью функции ``get_weight`` линейную функцию ($y = kx + b$), наилучшим образом приближающую неизвестную зависимость.  \n",
    "Выведите значения весовых коэффициентов."
   ]
  },
  {
   "cell_type": "code",
   "execution_count": 80,
   "metadata": {},
   "outputs": [],
   "source": [
    "# Ваш код здесь\n",
    "w = get_weight(X_train, y_train)\n",
    "\n",
    "X = np.array(sorted(X_train + X_test))\n",
    "y_predict = lin_reg(X, w)"
   ]
  },
  {
   "cell_type": "markdown",
   "metadata": {},
   "source": [
    "Нарисуйте на плоскости точки обучающей и тестовой выборок (раскрасив в два цвета) $(x_i, y_i)$ и полученную линейную функцию."
   ]
  },
  {
   "cell_type": "code",
   "execution_count": 81,
   "metadata": {},
   "outputs": [
    {
     "data": {
      "image/png": "[encoded data removed]",
      "text/plain": [
       "<Figure size 640x480 with 1 Axes>"
      ]
     },
     "metadata": {},
     "output_type": "display_data"
    }
   ],
   "source": [
    "# Ваш код здесь\n",
    "# Отрисовка\n",
    "m = 1\n",
    "plt.scatter(X_train, y_train, 40, 'g', 'o', alpha=0.8, label='y_train')\n",
    "plt.scatter(X_test, y_test, 40, 'b', 'x', alpha=0.8, label='y_test')\n",
    "plt.plot(X, y_predict, 'r', alpha=0.8, label='y_predict')\n",
    "plt.xlim(X.min() - m, X.max() + m)\n",
    "plt.ylim(y_predict.min() - m, y_predict.max() + m)\n",
    "plt.legend(loc = 'best', prop = {'size': 10})\n",
    "plt.title('Fitted linear regression')\n",
    "plt.xlabel('x')\n",
    "plt.ylabel('y')\n",
    "plt.show()"
   ]
  },
  {
   "cell_type": "markdown",
   "metadata": {},
   "source": [
    "Найдите значения функционалов ошибки $MSE$, $RMSE$, $R^2$. Сравните их со значениями библиотечных функций `scikit-learn`."
   ]
  },
  {
   "cell_type": "code",
   "execution_count": 82,
   "metadata": {},
   "outputs": [
    {
     "name": "stdout",
     "output_type": "stream",
     "text": [
      "Ошибка на обучающем наборе:\n",
      "MSE =  0.2968966332625196  scikit-learn MSE =  0.2968966332625196\n",
      "RMSE =  0.5448822196241309\n",
      "R2 =  0.6978349896117897  scikit-learn R2_score =  0.6978349896117897\n",
      "\n",
      "Ошибка на тестовом наборе:\n",
      "MSE =  0.4351202004048888  scikit-learn MSE =  0.4351202004048888\n",
      "RMSE =  0.6596364153114114\n",
      "R2 =  0.6848801332179663  scikit-learn R2_score =  0.6848801332179663\n"
     ]
    }
   ],
   "source": [
    "# Ваш код здесь\n",
    "print('Ошибка на обучающем наборе:')\n",
    "y_predict_train = lin_reg(X_train, w)\n",
    "print('MSE = ', MSE(y_train, y_predict_train), ' scikit-learn MSE = ', mean_squared_error(y_train, y_predict_train))\n",
    "print('RMSE = ', RMSE(y_train, y_predict_train))\n",
    "print('R2 = ', R2(y_train, y_predict_train), ' scikit-learn R2_score = ', r2_score(y_train, y_predict_train))\n",
    "\n",
    "print('\\nОшибка на тестовом наборе:')\n",
    "y_predict_test = lin_reg(X_test, w)\n",
    "print('MSE = ', MSE(y_test, y_predict_test), ' scikit-learn MSE = ', mean_squared_error(y_test, y_predict_test))\n",
    "print('RMSE = ', RMSE(y_test, y_predict_test))\n",
    "print('R2 = ', R2(y_test, y_predict_test), ' scikit-learn R2_score = ', r2_score(y_test, y_predict_test))"
   ]
  },
  {
   "cell_type": "code",
   "execution_count": null,
   "metadata": {},
   "outputs": [],
   "source": []
  }
 ],
 "metadata": {
  "kernelspec": {
   "display_name": "Python 3 (ipykernel)",
   "language": "python",
   "name": "python3"
  },
  "language_info": {
   "codemirror_mode": {
    "name": "ipython",
    "version": 3
   },
   "file_extension": ".py",
   "mimetype": "text/x-python",
   "name": "python",
   "nbconvert_exporter": "python",
   "pygments_lexer": "ipython3",
   "version": "3.12.4"
  }
 },
 "nbformat": 4,
 "nbformat_minor": 4
}
