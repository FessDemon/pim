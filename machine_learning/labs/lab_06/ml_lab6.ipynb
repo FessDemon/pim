{
 "cells": [
  {
   "cell_type": "markdown",
   "id": "5377742c-64f6-4eb4-907c-84fc4148c5c1",
   "metadata": {},
   "source": [
    "# Лабораторная работа 6. Деревья решений"
   ]
  },
  {
   "cell_type": "markdown",
   "id": "a01f6fec-caa4-453f-a6b0-9b31ef644183",
   "metadata": {},
   "source": [
    "### Задание 1. Реализовать критерии выбора разбиений.\n",
    "Необходимо реализовать два критерия выбора разбиений – прироста информации и индекс Джини – и протестировать их на примере датасета из лекции \"Состоится ли игра?\"."
   ]
  },
  {
   "cell_type": "markdown",
   "id": "67ba27df",
   "metadata": {},
   "source": [
    "**Задание 1.1.** Создайте датасет \"Состоится ли игра?\" (вручную или прочитайте из файла):"
   ]
  },
  {
   "cell_type": "code",
   "execution_count": 1,
   "id": "e4770062",
   "metadata": {},
   "outputs": [],
   "source": [
    "import pandas as pd\n",
    "import numpy as np\n",
    "import math\n",
    "from scipy.stats import entropy"
   ]
  },
  {
   "cell_type": "code",
   "execution_count": 2,
   "id": "bc110289",
   "metadata": {},
   "outputs": [
    {
     "data": {
      "text/html": [
       "<div>\n",
       "<style scoped>\n",
       "    .dataframe tbody tr th:only-of-type {\n",
       "        vertical-align: middle;\n",
       "    }\n",
       "\n",
       "    .dataframe tbody tr th {\n",
       "        vertical-align: top;\n",
       "    }\n",
       "\n",
       "    .dataframe thead th {\n",
       "        text-align: right;\n",
       "    }\n",
       "</style>\n",
       "<table border=\"1\" class=\"dataframe\">\n",
       "  <thead>\n",
       "    <tr style=\"text-align: right;\">\n",
       "      <th></th>\n",
       "      <th>Наблюдение</th>\n",
       "      <th>Температура</th>\n",
       "      <th>Влажность</th>\n",
       "      <th>Ветер</th>\n",
       "      <th>Игра</th>\n",
       "    </tr>\n",
       "  </thead>\n",
       "  <tbody>\n",
       "    <tr>\n",
       "      <th>0</th>\n",
       "      <td>Солнце</td>\n",
       "      <td>Жарко</td>\n",
       "      <td>Высокая</td>\n",
       "      <td>Нет</td>\n",
       "      <td>Нет</td>\n",
       "    </tr>\n",
       "    <tr>\n",
       "      <th>1</th>\n",
       "      <td>Солнце</td>\n",
       "      <td>Жарко</td>\n",
       "      <td>Высокая</td>\n",
       "      <td>Есть</td>\n",
       "      <td>Нет</td>\n",
       "    </tr>\n",
       "    <tr>\n",
       "      <th>2</th>\n",
       "      <td>Облачность</td>\n",
       "      <td>Жарко</td>\n",
       "      <td>Высокая</td>\n",
       "      <td>Нет</td>\n",
       "      <td>Да</td>\n",
       "    </tr>\n",
       "    <tr>\n",
       "      <th>3</th>\n",
       "      <td>Дождь</td>\n",
       "      <td>Норма</td>\n",
       "      <td>Высокая</td>\n",
       "      <td>Нет</td>\n",
       "      <td>Да</td>\n",
       "    </tr>\n",
       "    <tr>\n",
       "      <th>4</th>\n",
       "      <td>Дождь</td>\n",
       "      <td>Холодно</td>\n",
       "      <td>Норма</td>\n",
       "      <td>Нет</td>\n",
       "      <td>Да</td>\n",
       "    </tr>\n",
       "    <tr>\n",
       "      <th>5</th>\n",
       "      <td>Дождь</td>\n",
       "      <td>Холодно</td>\n",
       "      <td>Норма</td>\n",
       "      <td>Есть</td>\n",
       "      <td>Нет</td>\n",
       "    </tr>\n",
       "    <tr>\n",
       "      <th>6</th>\n",
       "      <td>Облачность</td>\n",
       "      <td>Холодно</td>\n",
       "      <td>Норма</td>\n",
       "      <td>Есть</td>\n",
       "      <td>Да</td>\n",
       "    </tr>\n",
       "    <tr>\n",
       "      <th>7</th>\n",
       "      <td>Солнце</td>\n",
       "      <td>Норма</td>\n",
       "      <td>Высокая</td>\n",
       "      <td>Нет</td>\n",
       "      <td>Нет</td>\n",
       "    </tr>\n",
       "    <tr>\n",
       "      <th>8</th>\n",
       "      <td>Солнце</td>\n",
       "      <td>Холодно</td>\n",
       "      <td>Норма</td>\n",
       "      <td>Нет</td>\n",
       "      <td>Да</td>\n",
       "    </tr>\n",
       "    <tr>\n",
       "      <th>9</th>\n",
       "      <td>Дождь</td>\n",
       "      <td>Норма</td>\n",
       "      <td>Норма</td>\n",
       "      <td>Нет</td>\n",
       "      <td>Да</td>\n",
       "    </tr>\n",
       "    <tr>\n",
       "      <th>10</th>\n",
       "      <td>Солнце</td>\n",
       "      <td>Норма</td>\n",
       "      <td>Норма</td>\n",
       "      <td>Есть</td>\n",
       "      <td>Да</td>\n",
       "    </tr>\n",
       "    <tr>\n",
       "      <th>11</th>\n",
       "      <td>Облачность</td>\n",
       "      <td>Норма</td>\n",
       "      <td>Высокая</td>\n",
       "      <td>Есть</td>\n",
       "      <td>Да</td>\n",
       "    </tr>\n",
       "    <tr>\n",
       "      <th>12</th>\n",
       "      <td>Облачность</td>\n",
       "      <td>Жарко</td>\n",
       "      <td>Норма</td>\n",
       "      <td>Нет</td>\n",
       "      <td>Да</td>\n",
       "    </tr>\n",
       "    <tr>\n",
       "      <th>13</th>\n",
       "      <td>Дождь</td>\n",
       "      <td>Норма</td>\n",
       "      <td>Высокая</td>\n",
       "      <td>Есть</td>\n",
       "      <td>Нет</td>\n",
       "    </tr>\n",
       "  </tbody>\n",
       "</table>\n",
       "</div>"
      ],
      "text/plain": [
       "    Наблюдение Температура Влажность Ветер Игра\n",
       "0       Солнце       Жарко   Высокая   Нет  Нет\n",
       "1       Солнце       Жарко   Высокая  Есть  Нет\n",
       "2   Облачность       Жарко   Высокая   Нет   Да\n",
       "3        Дождь       Норма   Высокая   Нет   Да\n",
       "4        Дождь     Холодно     Норма   Нет   Да\n",
       "5        Дождь     Холодно     Норма  Есть  Нет\n",
       "6   Облачность     Холодно     Норма  Есть   Да\n",
       "7       Солнце       Норма   Высокая   Нет  Нет\n",
       "8       Солнце     Холодно     Норма   Нет   Да\n",
       "9        Дождь       Норма     Норма   Нет   Да\n",
       "10      Солнце       Норма     Норма  Есть   Да\n",
       "11  Облачность       Норма   Высокая  Есть   Да\n",
       "12  Облачность       Жарко     Норма   Нет   Да\n",
       "13       Дождь       Норма   Высокая  Есть  Нет"
      ]
     },
     "execution_count": 2,
     "metadata": {},
     "output_type": "execute_result"
    }
   ],
   "source": [
    "df_train = pd.read_excel('data_train.xlsx')\n",
    "df_train\n"
   ]
  },
  {
   "cell_type": "markdown",
   "id": "c78bce25-18a4-4db2-b870-cbbdf35976a8",
   "metadata": {},
   "source": [
    "**Задание 1.2.** Напишите и протестируйте на примере датасета \"Состоится ли игра?\" функцию вычисления энтропии (`entropy`):"
   ]
  },
  {
   "cell_type": "code",
   "execution_count": 5,
   "id": "37ded3e7-58fb-4b0b-9a9c-0b07f4cc5702",
   "metadata": {},
   "outputs": [
    {
     "name": "stdout",
     "output_type": "stream",
     "text": [
      "Энтропия: Игра - 0.9402859586706311\n"
     ]
    }
   ],
   "source": [
    "def entropy(df, feature):\n",
    "    p = np.array(df[feature].value_counts(normalize=True))\n",
    "    return -np.sum(p * np.log2(p)) \n",
    "    \n",
    "feature = df_train.columns.tolist()[-1]\n",
    "info =  entropy(df_train, feature)\n",
    "print(f'Энтропия: {feature} - {info}')\n",
    "    "
   ]
  },
  {
   "cell_type": "markdown",
   "id": "e441e1c5",
   "metadata": {},
   "source": [
    "## **Задание 1.3.** Напишите и протестируйте на примере датасета \"Состоится ли игра?\" функцию  прироста информации (`information_gain`) с использованием функции `entropy`:"
   ]
  },
  {
   "cell_type": "code",
   "execution_count": 129,
   "id": "bcffe3e3",
   "metadata": {},
   "outputs": [
    {
     "name": "stdout",
     "output_type": "stream",
     "text": [
      "Наблюдение\n",
      "['Солнце' 'Облачность' 'Дождь']\n",
      "Энтропия: Игра Солнце 0.9709505944546686\n",
      "Энтропия: Игра Облачность -0.0\n",
      "Энтропия: Игра Дождь 0.9709505944546686\n",
      "Прирост информации  Наблюдение =  0.24674981977443933 \n",
      "\n",
      "Температура\n",
      "['Жарко' 'Норма' 'Холодно']\n",
      "Энтропия: Игра Жарко 1.0\n",
      "Энтропия: Игра Норма 0.9182958340544896\n",
      "Энтропия: Игра Холодно 0.8112781244591328\n",
      "Прирост информации  Температура =  0.02922256565895487 \n",
      "\n",
      "Влажность\n",
      "['Высокая' 'Норма']\n",
      "Энтропия: Игра Высокая 0.9852281360342515\n",
      "Энтропия: Игра Норма 0.5916727785823275\n",
      "Прирост информации  Влажность =  0.15183550136234164 \n",
      "\n",
      "Ветер\n",
      "['Нет' 'Есть']\n",
      "Энтропия: Игра Нет 0.8112781244591328\n",
      "Энтропия: Игра Есть 1.0\n",
      "Прирост информации  Ветер =  0.048127030408269544 \n",
      "\n"
     ]
    }
   ],
   "source": [
    "#  Ваш код здесь\n",
    "def information_gain(df, feature, info, base=None):\n",
    "    #group = df.groupby([feature])['Игра'].value_counts(normalize=True)\n",
    "    #print(group)\n",
    "    n = df['Игра'].count()\n",
    "    s = info\n",
    "    for group in base:\n",
    "        df_group = df[(df[feature]==group)]\n",
    "        n_group = df_group['Игра'].count()\n",
    "        f = df_group.columns.tolist()[-1]\n",
    "        e = entropy(df_group, f)\n",
    "        print('Энтропия:', f, group, e)\n",
    "        s -= n_group/n*e\n",
    "    return s\n",
    "    \n",
    "for feature in df_train.columns.tolist()[:-1]:\n",
    "    print(feature)\n",
    "    base = df_train[feature].unique()\n",
    "    print(base)\n",
    "    print('Прирост информации ',feature,'= ',information_gain(df_train, feature, info, base=base),'\\n')"
   ]
  },
  {
   "cell_type": "markdown",
   "id": "9a38f6f9",
   "metadata": {},
   "source": [
    "**Задание 1.4.** Напишите и протестируйте на примере датасета \"Состоится ли игра?\" функцию вычисления индекса Джини (`gini`):"
   ]
  },
  {
   "cell_type": "code",
   "execution_count": null,
   "id": "f04be09c",
   "metadata": {},
   "outputs": [],
   "source": [
    "#  Ваш код здесь\n"
   ]
  },
  {
   "cell_type": "markdown",
   "id": "2a9aef93",
   "metadata": {},
   "source": [
    "### Задание 2. Постройте дерево решений (факультативно)"
   ]
  },
  {
   "cell_type": "markdown",
   "id": "c9a6024e",
   "metadata": {},
   "source": [
    "**Задание 2.1.** Для датасета \"Состоится ли игра?\" постройте дерево решений на основе функции `information_gain`."
   ]
  },
  {
   "cell_type": "code",
   "execution_count": 145,
   "id": "d50688c0-e6f6-412e-aff8-9446ea9dc14e",
   "metadata": {},
   "outputs": [
    {
     "ename": "KeyError",
     "evalue": "1",
     "output_type": "error",
     "traceback": [
      "\u001b[1;31m---------------------------------------------------------------------------\u001b[0m",
      "\u001b[1;31mKeyError\u001b[0m                                  Traceback (most recent call last)",
      "Cell \u001b[1;32mIn[145], line 3\u001b[0m\n\u001b[0;32m      1\u001b[0m \u001b[38;5;66;03m#  Ваш код здесь\u001b[39;00m\n\u001b[0;32m      2\u001b[0m nab \u001b[38;5;241m=\u001b[39m {\u001b[38;5;124m'\u001b[39m\u001b[38;5;124mСолнце\u001b[39m\u001b[38;5;124m'\u001b[39m: \u001b[38;5;241m1\u001b[39m,\u001b[38;5;124m'\u001b[39m\u001b[38;5;124mОблачность\u001b[39m\u001b[38;5;124m'\u001b[39m: \u001b[38;5;241m2\u001b[39m, \u001b[38;5;124m'\u001b[39m\u001b[38;5;124mДождь\u001b[39m\u001b[38;5;124m'\u001b[39m: \u001b[38;5;241m3\u001b[39m} \n\u001b[1;32m----> 3\u001b[0m df_train[\u001b[38;5;124m'\u001b[39m\u001b[38;5;124mНаблюдение\u001b[39m\u001b[38;5;124m'\u001b[39m] \u001b[38;5;241m=\u001b[39m [nab[item] \u001b[38;5;28;01mfor\u001b[39;00m item \u001b[38;5;129;01min\u001b[39;00m df_train[\u001b[38;5;124m'\u001b[39m\u001b[38;5;124mНаблюдение\u001b[39m\u001b[38;5;124m'\u001b[39m]]\n\u001b[0;32m      5\u001b[0m x\u001b[38;5;241m=\u001b[39mdf_train\u001b[38;5;241m.\u001b[39miloc[:,:\u001b[38;5;241m4\u001b[39m]\n\u001b[0;32m      6\u001b[0m y\u001b[38;5;241m=\u001b[39mdf_train\u001b[38;5;241m.\u001b[39miloc[:,\u001b[38;5;241m4\u001b[39m:]\n",
      "\u001b[1;31mKeyError\u001b[0m: 1"
     ]
    }
   ],
   "source": [
    "#  Ваш код здесь\n",
    "nab = {'Солнце': 1,'Облачность': 2, 'Дождь': 3} \n",
    "df_train['Наблюдение'] = [nab[item] for item in df_train['Наблюдение']]\n",
    "\n",
    "x=df_train.iloc[:,:4]\n",
    "y=df_train.iloc[:,4:]\n",
    "\n",
    "\n",
    "from sklearn import tree\n",
    "model=tree.DecisionTreeClassifier(criterion=\"entropy\")\n",
    "model.fit(x, y)\n",
    "model.score(x, y)"
   ]
  },
  {
   "cell_type": "code",
   "execution_count": 140,
   "id": "3fef6157-8fa3-436a-b3f8-b5259f81cbc8",
   "metadata": {},
   "outputs": [
    {
     "name": "stderr",
     "output_type": "stream",
     "text": [
      "C:\\ProgramData\\anaconda3\\Lib\\site-packages\\sklearn\\base.py:493: UserWarning: X does not have valid feature names, but DecisionTreeClassifier was fitted with feature names\n",
      "  warnings.warn(\n"
     ]
    },
    {
     "ename": "ValueError",
     "evalue": "could not convert string to float: 'Солнце'",
     "output_type": "error",
     "traceback": [
      "\u001b[1;31m---------------------------------------------------------------------------\u001b[0m",
      "\u001b[1;31mValueError\u001b[0m                                Traceback (most recent call last)",
      "Cell \u001b[1;32mIn[140], line 1\u001b[0m\n\u001b[1;32m----> 1\u001b[0m model\u001b[38;5;241m.\u001b[39mpredict([[\u001b[38;5;124m'\u001b[39m\u001b[38;5;124mСолнце\u001b[39m\u001b[38;5;124m'\u001b[39m,\u001b[38;5;124m'\u001b[39m\u001b[38;5;124mХолодно\u001b[39m\u001b[38;5;124m'\u001b[39m,\u001b[38;5;124m'\u001b[39m\u001b[38;5;124mНорма\u001b[39m\u001b[38;5;124m'\u001b[39m, \u001b[38;5;124m'\u001b[39m\u001b[38;5;124mЕсть\u001b[39m\u001b[38;5;124m'\u001b[39m]])\n",
      "File \u001b[1;32mC:\\ProgramData\\anaconda3\\Lib\\site-packages\\sklearn\\tree\\_classes.py:529\u001b[0m, in \u001b[0;36mBaseDecisionTree.predict\u001b[1;34m(self, X, check_input)\u001b[0m\n\u001b[0;32m    506\u001b[0m \u001b[38;5;250m\u001b[39m\u001b[38;5;124;03m\"\"\"Predict class or regression value for X.\u001b[39;00m\n\u001b[0;32m    507\u001b[0m \n\u001b[0;32m    508\u001b[0m \u001b[38;5;124;03mFor a classification model, the predicted class for each sample in X is\u001b[39;00m\n\u001b[1;32m   (...)\u001b[0m\n\u001b[0;32m    526\u001b[0m \u001b[38;5;124;03m    The predicted classes, or the predict values.\u001b[39;00m\n\u001b[0;32m    527\u001b[0m \u001b[38;5;124;03m\"\"\"\u001b[39;00m\n\u001b[0;32m    528\u001b[0m check_is_fitted(\u001b[38;5;28mself\u001b[39m)\n\u001b[1;32m--> 529\u001b[0m X \u001b[38;5;241m=\u001b[39m \u001b[38;5;28mself\u001b[39m\u001b[38;5;241m.\u001b[39m_validate_X_predict(X, check_input)\n\u001b[0;32m    530\u001b[0m proba \u001b[38;5;241m=\u001b[39m \u001b[38;5;28mself\u001b[39m\u001b[38;5;241m.\u001b[39mtree_\u001b[38;5;241m.\u001b[39mpredict(X)\n\u001b[0;32m    531\u001b[0m n_samples \u001b[38;5;241m=\u001b[39m X\u001b[38;5;241m.\u001b[39mshape[\u001b[38;5;241m0\u001b[39m]\n",
      "File \u001b[1;32mC:\\ProgramData\\anaconda3\\Lib\\site-packages\\sklearn\\tree\\_classes.py:489\u001b[0m, in \u001b[0;36mBaseDecisionTree._validate_X_predict\u001b[1;34m(self, X, check_input)\u001b[0m\n\u001b[0;32m    487\u001b[0m \u001b[38;5;28;01melse\u001b[39;00m:\n\u001b[0;32m    488\u001b[0m     force_all_finite \u001b[38;5;241m=\u001b[39m \u001b[38;5;28;01mTrue\u001b[39;00m\n\u001b[1;32m--> 489\u001b[0m X \u001b[38;5;241m=\u001b[39m \u001b[38;5;28mself\u001b[39m\u001b[38;5;241m.\u001b[39m_validate_data(\n\u001b[0;32m    490\u001b[0m     X,\n\u001b[0;32m    491\u001b[0m     dtype\u001b[38;5;241m=\u001b[39mDTYPE,\n\u001b[0;32m    492\u001b[0m     accept_sparse\u001b[38;5;241m=\u001b[39m\u001b[38;5;124m\"\u001b[39m\u001b[38;5;124mcsr\u001b[39m\u001b[38;5;124m\"\u001b[39m,\n\u001b[0;32m    493\u001b[0m     reset\u001b[38;5;241m=\u001b[39m\u001b[38;5;28;01mFalse\u001b[39;00m,\n\u001b[0;32m    494\u001b[0m     force_all_finite\u001b[38;5;241m=\u001b[39mforce_all_finite,\n\u001b[0;32m    495\u001b[0m )\n\u001b[0;32m    496\u001b[0m \u001b[38;5;28;01mif\u001b[39;00m issparse(X) \u001b[38;5;129;01mand\u001b[39;00m (\n\u001b[0;32m    497\u001b[0m     X\u001b[38;5;241m.\u001b[39mindices\u001b[38;5;241m.\u001b[39mdtype \u001b[38;5;241m!=\u001b[39m np\u001b[38;5;241m.\u001b[39mintc \u001b[38;5;129;01mor\u001b[39;00m X\u001b[38;5;241m.\u001b[39mindptr\u001b[38;5;241m.\u001b[39mdtype \u001b[38;5;241m!=\u001b[39m np\u001b[38;5;241m.\u001b[39mintc\n\u001b[0;32m    498\u001b[0m ):\n\u001b[0;32m    499\u001b[0m     \u001b[38;5;28;01mraise\u001b[39;00m \u001b[38;5;167;01mValueError\u001b[39;00m(\u001b[38;5;124m\"\u001b[39m\u001b[38;5;124mNo support for np.int64 index based sparse matrices\u001b[39m\u001b[38;5;124m\"\u001b[39m)\n",
      "File \u001b[1;32mC:\\ProgramData\\anaconda3\\Lib\\site-packages\\sklearn\\base.py:633\u001b[0m, in \u001b[0;36mBaseEstimator._validate_data\u001b[1;34m(self, X, y, reset, validate_separately, cast_to_ndarray, **check_params)\u001b[0m\n\u001b[0;32m    631\u001b[0m         out \u001b[38;5;241m=\u001b[39m X, y\n\u001b[0;32m    632\u001b[0m \u001b[38;5;28;01melif\u001b[39;00m \u001b[38;5;129;01mnot\u001b[39;00m no_val_X \u001b[38;5;129;01mand\u001b[39;00m no_val_y:\n\u001b[1;32m--> 633\u001b[0m     out \u001b[38;5;241m=\u001b[39m check_array(X, input_name\u001b[38;5;241m=\u001b[39m\u001b[38;5;124m\"\u001b[39m\u001b[38;5;124mX\u001b[39m\u001b[38;5;124m\"\u001b[39m, \u001b[38;5;241m*\u001b[39m\u001b[38;5;241m*\u001b[39mcheck_params)\n\u001b[0;32m    634\u001b[0m \u001b[38;5;28;01melif\u001b[39;00m no_val_X \u001b[38;5;129;01mand\u001b[39;00m \u001b[38;5;129;01mnot\u001b[39;00m no_val_y:\n\u001b[0;32m    635\u001b[0m     out \u001b[38;5;241m=\u001b[39m _check_y(y, \u001b[38;5;241m*\u001b[39m\u001b[38;5;241m*\u001b[39mcheck_params)\n",
      "File \u001b[1;32mC:\\ProgramData\\anaconda3\\Lib\\site-packages\\sklearn\\utils\\validation.py:1012\u001b[0m, in \u001b[0;36mcheck_array\u001b[1;34m(array, accept_sparse, accept_large_sparse, dtype, order, copy, force_writeable, force_all_finite, ensure_2d, allow_nd, ensure_min_samples, ensure_min_features, estimator, input_name)\u001b[0m\n\u001b[0;32m   1010\u001b[0m         array \u001b[38;5;241m=\u001b[39m xp\u001b[38;5;241m.\u001b[39mastype(array, dtype, copy\u001b[38;5;241m=\u001b[39m\u001b[38;5;28;01mFalse\u001b[39;00m)\n\u001b[0;32m   1011\u001b[0m     \u001b[38;5;28;01melse\u001b[39;00m:\n\u001b[1;32m-> 1012\u001b[0m         array \u001b[38;5;241m=\u001b[39m _asarray_with_order(array, order\u001b[38;5;241m=\u001b[39morder, dtype\u001b[38;5;241m=\u001b[39mdtype, xp\u001b[38;5;241m=\u001b[39mxp)\n\u001b[0;32m   1013\u001b[0m \u001b[38;5;28;01mexcept\u001b[39;00m ComplexWarning \u001b[38;5;28;01mas\u001b[39;00m complex_warning:\n\u001b[0;32m   1014\u001b[0m     \u001b[38;5;28;01mraise\u001b[39;00m \u001b[38;5;167;01mValueError\u001b[39;00m(\n\u001b[0;32m   1015\u001b[0m         \u001b[38;5;124m\"\u001b[39m\u001b[38;5;124mComplex data not supported\u001b[39m\u001b[38;5;130;01m\\n\u001b[39;00m\u001b[38;5;132;01m{}\u001b[39;00m\u001b[38;5;130;01m\\n\u001b[39;00m\u001b[38;5;124m\"\u001b[39m\u001b[38;5;241m.\u001b[39mformat(array)\n\u001b[0;32m   1016\u001b[0m     ) \u001b[38;5;28;01mfrom\u001b[39;00m \u001b[38;5;21;01mcomplex_warning\u001b[39;00m\n",
      "File \u001b[1;32mC:\\ProgramData\\anaconda3\\Lib\\site-packages\\sklearn\\utils\\_array_api.py:751\u001b[0m, in \u001b[0;36m_asarray_with_order\u001b[1;34m(array, dtype, order, copy, xp, device)\u001b[0m\n\u001b[0;32m    749\u001b[0m     array \u001b[38;5;241m=\u001b[39m numpy\u001b[38;5;241m.\u001b[39marray(array, order\u001b[38;5;241m=\u001b[39morder, dtype\u001b[38;5;241m=\u001b[39mdtype)\n\u001b[0;32m    750\u001b[0m \u001b[38;5;28;01melse\u001b[39;00m:\n\u001b[1;32m--> 751\u001b[0m     array \u001b[38;5;241m=\u001b[39m numpy\u001b[38;5;241m.\u001b[39masarray(array, order\u001b[38;5;241m=\u001b[39morder, dtype\u001b[38;5;241m=\u001b[39mdtype)\n\u001b[0;32m    753\u001b[0m \u001b[38;5;66;03m# At this point array is a NumPy ndarray. We convert it to an array\u001b[39;00m\n\u001b[0;32m    754\u001b[0m \u001b[38;5;66;03m# container that is consistent with the input's namespace.\u001b[39;00m\n\u001b[0;32m    755\u001b[0m \u001b[38;5;28;01mreturn\u001b[39;00m xp\u001b[38;5;241m.\u001b[39masarray(array)\n",
      "\u001b[1;31mValueError\u001b[0m: could not convert string to float: 'Солнце'"
     ]
    }
   ],
   "source": [
    "model.predict([['Солнце','Холодно','Норма', 'Есть']])"
   ]
  },
  {
   "cell_type": "markdown",
   "id": "d5534bf8-c3da-4571-9d7a-5141491a47f3",
   "metadata": {
    "tags": []
   },
   "source": [
    "**Задание 2.2.** Визуализируйте построенное дерево (в любом виде):"
   ]
  },
  {
   "cell_type": "code",
   "execution_count": 7,
   "id": "7fe448fa-5a30-4f96-a0db-9610b9a26ad2",
   "metadata": {},
   "outputs": [],
   "source": [
    "#  Ваш код здесь\n",
    "from sklearn import tree\n",
    "def plot_decision_tree(model, feature_names, class_names):\n",
    "    plt.figure(figsize=(15, 10))\n",
    "    plot_tree(model, filled=True, feature_names=feature_names, class_names=class_names, rounded=True)\n",
    "    plt.show()\n",
    "plot_decision_tree(clf_gini, ['X1', 'X2', 'X3', 'X4'], ['L', 'B', 'R'])"
   ]
  },
  {
   "cell_type": "markdown",
   "id": "c42510b4-7dd1-4b87-be88-7a10c8f54683",
   "metadata": {},
   "source": [
    "**Задание 2.3.** Сравните полученные результаты с результатами функции из `scikit-learn`:"
   ]
  },
  {
   "cell_type": "code",
   "execution_count": 8,
   "id": "33d52eb8-333d-45f6-af69-6e90c73a518a",
   "metadata": {},
   "outputs": [],
   "source": [
    "#  Ваш код здесь\n",
    "# ..."
   ]
  }
 ],
 "metadata": {
  "kernelspec": {
   "display_name": "Python 3",
   "language": "python",
   "name": "python3"
  },
  "language_info": {
   "codemirror_mode": {
    "name": "ipython",
    "version": 3
   },
   "file_extension": ".py",
   "mimetype": "text/x-python",
   "name": "python",
   "nbconvert_exporter": "python",
   "pygments_lexer": "ipython3",
   "version": "3.13.2"
  }
 },
 "nbformat": 4,
 "nbformat_minor": 5
}
