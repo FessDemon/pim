{
 "cells": [
  {
   "cell_type": "markdown",
   "id": "5377742c-64f6-4eb4-907c-84fc4148c5c1",
   "metadata": {},
   "source": [
    "# Лабораторная работа 6. Деревья решений"
   ]
  },
  {
   "cell_type": "markdown",
   "id": "a01f6fec-caa4-453f-a6b0-9b31ef644183",
   "metadata": {},
   "source": [
    "### Задание 1. Реализовать критерии выбора разбиений.\n",
    "Необходимо реализовать два критерия выбора разбиений – прироста информации и индекс Джини – и протестировать их на примере датасета из лекции \"Состоится ли игра?\"."
   ]
  },
  {
   "cell_type": "markdown",
   "id": "67ba27df",
   "metadata": {},
   "source": [
    "**Задание 1.1.** Создайте датасет \"Состоится ли игра?\" (вручную или прочитайте из файла):"
   ]
  },
  {
   "cell_type": "code",
   "execution_count": null,
   "id": "e4770062",
   "metadata": {},
   "outputs": [],
   "source": [
    "#  Ваш код здесь\n",
    "# ..."
   ]
  },
  {
   "cell_type": "markdown",
   "id": "c78bce25-18a4-4db2-b870-cbbdf35976a8",
   "metadata": {},
   "source": [
    "**Задание 1.2.** Напишите и протестируйте на примере датасета \"Состоится ли игра?\" функцию вычисления энтропии (`entropy`):"
   ]
  },
  {
   "cell_type": "code",
   "execution_count": 3,
   "id": "37ded3e7-58fb-4b0b-9a9c-0b07f4cc5702",
   "metadata": {},
   "outputs": [],
   "source": [
    "#  Ваш код здесь\n",
    "# ..."
   ]
  },
  {
   "cell_type": "markdown",
   "id": "e441e1c5",
   "metadata": {},
   "source": [
    "**Задание 1.3.** Напишите и протестируйте на примере датасета \"Состоится ли игра?\" функцию  прироста информации (`information_gain`) с использованием функции `entropy`:"
   ]
  },
  {
   "cell_type": "code",
   "execution_count": null,
   "id": "bcffe3e3",
   "metadata": {},
   "outputs": [],
   "source": [
    "#  Ваш код здесь\n",
    "# ..."
   ]
  },
  {
   "cell_type": "markdown",
   "id": "9a38f6f9",
   "metadata": {},
   "source": [
    "**Задание 1.4.** Напишите и протестируйте на примере датасета \"Состоится ли игра?\" функцию вычисления индекса Джини (`gini`):"
   ]
  },
  {
   "cell_type": "code",
   "execution_count": null,
   "id": "f04be09c",
   "metadata": {},
   "outputs": [],
   "source": [
    "#  Ваш код здесь\n",
    "# ..."
   ]
  },
  {
   "cell_type": "markdown",
   "id": "2a9aef93",
   "metadata": {},
   "source": [
    "### Задание 2. Постройте дерево решений (факультативно)"
   ]
  },
  {
   "cell_type": "markdown",
   "id": "c9a6024e",
   "metadata": {},
   "source": [
    "**Задание 2.1.** Для датасета \"Состоится ли игра?\" постройте дерево решений на основе функции `information_gain`."
   ]
  },
  {
   "cell_type": "code",
   "execution_count": 4,
   "id": "d50688c0-e6f6-412e-aff8-9446ea9dc14e",
   "metadata": {},
   "outputs": [],
   "source": [
    "#  Ваш код здесь\n",
    "# ..."
   ]
  },
  {
   "cell_type": "markdown",
   "id": "d5534bf8-c3da-4571-9d7a-5141491a47f3",
   "metadata": {
    "tags": []
   },
   "source": [
    "**Задание 2.2.** Визуализируйте построенное дерево (в любом виде):"
   ]
  },
  {
   "cell_type": "code",
   "execution_count": 7,
   "id": "7fe448fa-5a30-4f96-a0db-9610b9a26ad2",
   "metadata": {},
   "outputs": [],
   "source": [
    "#  Ваш код здесь\n",
    "# ..."
   ]
  },
  {
   "cell_type": "markdown",
   "id": "c42510b4-7dd1-4b87-be88-7a10c8f54683",
   "metadata": {},
   "source": [
    "**Задание 2.3.** Сравните полученные результаты с результатами функции из `scikit-learn`:"
   ]
  },
  {
   "cell_type": "code",
   "execution_count": 8,
   "id": "33d52eb8-333d-45f6-af69-6e90c73a518a",
   "metadata": {},
   "outputs": [],
   "source": [
    "#  Ваш код здесь\n",
    "# ..."
   ]
  }
 ],
 "metadata": {
  "kernelspec": {
   "display_name": "Python 3 (ipykernel)",
   "language": "python",
   "name": "python3"
  },
  "language_info": {
   "codemirror_mode": {
    "name": "ipython",
    "version": 3
   },
   "file_extension": ".py",
   "mimetype": "text/x-python",
   "name": "python",
   "nbconvert_exporter": "python",
   "pygments_lexer": "ipython3",
   "version": "3.11.5"
  }
 },
 "nbformat": 4,
 "nbformat_minor": 5
}
