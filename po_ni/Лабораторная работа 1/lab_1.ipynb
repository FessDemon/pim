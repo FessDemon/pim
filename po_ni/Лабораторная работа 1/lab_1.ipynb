{
 "cells": [
  {
   "cell_type": "markdown",
   "metadata": {},
   "source": [
    "## Лабораторная работа No1. Python и Pandas."
   ]
  },
  {
   "cell_type": "markdown",
   "metadata": {},
   "source": [
    "### Задание 1. "
   ]
  },
  {
   "cell_type": "code",
   "execution_count": 53,
   "metadata": {},
   "outputs": [],
   "source": [
    "import pandas as pd"
   ]
  },
  {
   "cell_type": "code",
   "execution_count": 54,
   "metadata": {},
   "outputs": [],
   "source": [
    "transactions = pd.read_csv('transactions.csv', sep=';', decimal=',')\n",
    "merchants = pd.read_csv('merchants.csv', sep=';', decimal=',')"
   ]
  },
  {
   "cell_type": "code",
   "execution_count": 55,
   "metadata": {},
   "outputs": [],
   "source": [
    "merged_df = pd.merge(transactions, merchants, on='merchantid')"
   ]
  },
  {
   "cell_type": "code",
   "execution_count": null,
   "metadata": {},
   "outputs": [],
   "source": [
    "count_values = df['column_name'].value_counts()"
   ]
  },
  {
   "cell_type": "code",
   "execution_count": 64,
   "metadata": {},
   "outputs": [],
   "source": [
    "merged_df = merged_df[merged_df['fraudbits'] == 0]\n",
    "# merged_df.info()"
   ]
  },
  {
   "cell_type": "code",
   "execution_count": 65,
   "metadata": {},
   "outputs": [
    {
     "name": "stdout",
     "output_type": "stream",
     "text": [
      "guild\n",
      "Гильдия Обработчиков Шерсти         23337\n",
      "Ассоциация Оливковых Торговцев      13689\n",
      "Гильдия Пекарей                     11507\n",
      "Гильдия Гончаров                    10780\n",
      "Гильдия Парфюмеров                   9212\n",
      "Гильдия Августовских Торговцев       8862\n",
      "Братство Кузнецов                    6820\n",
      "Братство Виноделов                   3898\n",
      "Лига Керамистов                      3311\n",
      "Объединение Фруктовых Садовников     2540\n",
      "Гильдия Мукомолов                     905\n",
      "Лига Стеклодувов                      891\n",
      "Объединение Рыбаков                   775\n",
      "Союз Судостроителей                   650\n",
      "Союз Каменотесов                      619\n",
      "Братство Поставщиков Специй           462\n",
      "Союз Скотоводов                       315\n",
      "Общество Ювелиров                     146\n",
      "Name: count, dtype: int64\n"
     ]
    }
   ],
   "source": [
    "guild = merged_df['guild'].value_counts()\n",
    "print(guild)"
   ]
  },
  {
   "cell_type": "code",
   "execution_count": null,
   "metadata": {},
   "outputs": [],
   "source": [
    "# Добавление столбца с амнистией\n",
    "merged_df['amnesty'] = abs(merged_df['cost'] - merged_df['model_cost']) / merged_df['coef']"
   ]
  },
  {
   "cell_type": "code",
   "execution_count": null,
   "metadata": {},
   "outputs": [
    {
     "data": {
      "text/html": [
       "<div>\n",
       "<style scoped>\n",
       "    .dataframe tbody tr th:only-of-type {\n",
       "        vertical-align: middle;\n",
       "    }\n",
       "\n",
       "    .dataframe tbody tr th {\n",
       "        vertical-align: top;\n",
       "    }\n",
       "\n",
       "    .dataframe thead th {\n",
       "        text-align: right;\n",
       "    }\n",
       "</style>\n",
       "<table border=\"1\" class=\"dataframe\">\n",
       "  <thead>\n",
       "    <tr style=\"text-align: right;\">\n",
       "      <th></th>\n",
       "      <th>guild</th>\n",
       "      <th>sale_count</th>\n",
       "      <th>buy_count</th>\n",
       "      <th>total_amnesty</th>\n",
       "    </tr>\n",
       "  </thead>\n",
       "  <tbody>\n",
       "    <tr>\n",
       "      <th>0</th>\n",
       "      <td>Ассоциация Оливковых Торговцев</td>\n",
       "      <td>1330</td>\n",
       "      <td>12359</td>\n",
       "      <td>682.928338</td>\n",
       "    </tr>\n",
       "    <tr>\n",
       "      <th>1</th>\n",
       "      <td>Братство Виноделов</td>\n",
       "      <td>392</td>\n",
       "      <td>3506</td>\n",
       "      <td>1726.452617</td>\n",
       "    </tr>\n",
       "    <tr>\n",
       "      <th>2</th>\n",
       "      <td>Братство Кузнецов</td>\n",
       "      <td>659</td>\n",
       "      <td>6161</td>\n",
       "      <td>1835.734533</td>\n",
       "    </tr>\n",
       "    <tr>\n",
       "      <th>3</th>\n",
       "      <td>Братство Поставщиков Специй</td>\n",
       "      <td>47</td>\n",
       "      <td>415</td>\n",
       "      <td>555.012089</td>\n",
       "    </tr>\n",
       "    <tr>\n",
       "      <th>4</th>\n",
       "      <td>Гильдия Августовских Торговцев</td>\n",
       "      <td>849</td>\n",
       "      <td>8013</td>\n",
       "      <td>940.918641</td>\n",
       "    </tr>\n",
       "    <tr>\n",
       "      <th>5</th>\n",
       "      <td>Гильдия Гончаров</td>\n",
       "      <td>1019</td>\n",
       "      <td>9761</td>\n",
       "      <td>677.369341</td>\n",
       "    </tr>\n",
       "    <tr>\n",
       "      <th>6</th>\n",
       "      <td>Гильдия Мукомолов</td>\n",
       "      <td>78</td>\n",
       "      <td>827</td>\n",
       "      <td>447.359102</td>\n",
       "    </tr>\n",
       "    <tr>\n",
       "      <th>7</th>\n",
       "      <td>Гильдия Обработчиков Шерсти</td>\n",
       "      <td>2262</td>\n",
       "      <td>21075</td>\n",
       "      <td>1353.118922</td>\n",
       "    </tr>\n",
       "    <tr>\n",
       "      <th>8</th>\n",
       "      <td>Гильдия Парфюмеров</td>\n",
       "      <td>872</td>\n",
       "      <td>8340</td>\n",
       "      <td>926.507174</td>\n",
       "    </tr>\n",
       "    <tr>\n",
       "      <th>9</th>\n",
       "      <td>Гильдия Пекарей</td>\n",
       "      <td>1174</td>\n",
       "      <td>10333</td>\n",
       "      <td>1026.286880</td>\n",
       "    </tr>\n",
       "    <tr>\n",
       "      <th>10</th>\n",
       "      <td>Лига Керамистов</td>\n",
       "      <td>333</td>\n",
       "      <td>2978</td>\n",
       "      <td>942.637071</td>\n",
       "    </tr>\n",
       "    <tr>\n",
       "      <th>11</th>\n",
       "      <td>Лига Стеклодувов</td>\n",
       "      <td>99</td>\n",
       "      <td>792</td>\n",
       "      <td>167.483724</td>\n",
       "    </tr>\n",
       "    <tr>\n",
       "      <th>12</th>\n",
       "      <td>Общество Ювелиров</td>\n",
       "      <td>9</td>\n",
       "      <td>137</td>\n",
       "      <td>550.912775</td>\n",
       "    </tr>\n",
       "    <tr>\n",
       "      <th>13</th>\n",
       "      <td>Объединение Рыбаков</td>\n",
       "      <td>74</td>\n",
       "      <td>701</td>\n",
       "      <td>435.379074</td>\n",
       "    </tr>\n",
       "    <tr>\n",
       "      <th>14</th>\n",
       "      <td>Объединение Фруктовых Садовников</td>\n",
       "      <td>253</td>\n",
       "      <td>2287</td>\n",
       "      <td>1392.373808</td>\n",
       "    </tr>\n",
       "    <tr>\n",
       "      <th>15</th>\n",
       "      <td>Союз Каменотесов</td>\n",
       "      <td>69</td>\n",
       "      <td>550</td>\n",
       "      <td>1007.618129</td>\n",
       "    </tr>\n",
       "    <tr>\n",
       "      <th>16</th>\n",
       "      <td>Союз Скотоводов</td>\n",
       "      <td>30</td>\n",
       "      <td>285</td>\n",
       "      <td>378.958286</td>\n",
       "    </tr>\n",
       "    <tr>\n",
       "      <th>17</th>\n",
       "      <td>Союз Судостроителей</td>\n",
       "      <td>71</td>\n",
       "      <td>579</td>\n",
       "      <td>739.047568</td>\n",
       "    </tr>\n",
       "  </tbody>\n",
       "</table>\n",
       "</div>"
      ],
      "text/plain": [
       "                               guild  sale_count  buy_count  total_amnesty\n",
       "0     Ассоциация Оливковых Торговцев        1330      12359     682.928338\n",
       "1                 Братство Виноделов         392       3506    1726.452617\n",
       "2                  Братство Кузнецов         659       6161    1835.734533\n",
       "3        Братство Поставщиков Специй          47        415     555.012089\n",
       "4     Гильдия Августовских Торговцев         849       8013     940.918641\n",
       "5                   Гильдия Гончаров        1019       9761     677.369341\n",
       "6                  Гильдия Мукомолов          78        827     447.359102\n",
       "7        Гильдия Обработчиков Шерсти        2262      21075    1353.118922\n",
       "8                 Гильдия Парфюмеров         872       8340     926.507174\n",
       "9                    Гильдия Пекарей        1174      10333    1026.286880\n",
       "10                   Лига Керамистов         333       2978     942.637071\n",
       "11                  Лига Стеклодувов          99        792     167.483724\n",
       "12                 Общество Ювелиров           9        137     550.912775\n",
       "13               Объединение Рыбаков          74        701     435.379074\n",
       "14  Объединение Фруктовых Садовников         253       2287    1392.373808\n",
       "15                  Союз Каменотесов          69        550    1007.618129\n",
       "16                   Союз Скотоводов          30        285     378.958286\n",
       "17               Союз Судостроителей          71        579     739.047568"
      ]
     },
     "execution_count": 62,
     "metadata": {},
     "output_type": "execute_result"
    }
   ],
   "source": [
    "# Группировка данных по гильдиям для вычисления соотношения продаж к покупкам и средней амнистии\n",
    "guild_stats = (\n",
    "    merged_df.groupby('guild')\n",
    "    .agg(\n",
    "        sale_count=('countertype', lambda x: (x == 'sell').sum()),\n",
    "        buy_count=('countertype', lambda x: (x == 'buy').sum()),\n",
    "        total_amnesty=('amnesty', 'mean'),\n",
    "    )\n",
    "    .reset_index()\n",
    ")\n",
    "\n",
    "guild_stats"
   ]
  }
 ],
 "metadata": {
  "kernelspec": {
   "display_name": "Python 3",
   "language": "python",
   "name": "python3"
  },
  "language_info": {
   "codemirror_mode": {
    "name": "ipython",
    "version": 3
   },
   "file_extension": ".py",
   "mimetype": "text/x-python",
   "name": "python",
   "nbconvert_exporter": "python",
   "pygments_lexer": "ipython3",
   "version": "3.13.1"
  }
 },
 "nbformat": 4,
 "nbformat_minor": 2
}
