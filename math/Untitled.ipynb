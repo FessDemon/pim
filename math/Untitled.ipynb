{
 "cells": [
  {
   "cell_type": "code",
   "execution_count": 2,
   "id": "96007c17-b33a-4775-a8da-a1352541aa72",
   "metadata": {},
   "outputs": [
    {
     "name": "stdout",
     "output_type": "stream",
     "text": [
      "Случайное число A: 15\n",
      "Исходный список: [1, 7, 4, 14, 5, 6, 5, 4, 10, 12, 3, 3, 10, 6, 2, 12, 8, 4, 9, 7]\n",
      "Оставшиеся числа: [1, 14, 2]\n",
      "Удаленные числа: [7, 4, 5, 6, 5, 4, 10, 12, 3, 3, 10, 6, 12, 8, 4, 9, 7]\n"
     ]
    }
   ],
   "source": [
    "import random\n",
    "\n",
    "# Генерируем случайное число A от 1 до 100\n",
    "A = random.randint(1, 100)\n",
    "print(f\"Случайное число A: {A}\")\n",
    "\n",
    "# Генерируем список n случайных чисел в диапазоне от 0 до A\n",
    "n = 20  # Вы можете изменить количество чисел в списке\n",
    "numbers = [random.randint(0, A) for _ in range(n)]\n",
    "print(f\"Исходный список: {numbers}\")\n",
    "\n",
    "# Определяем границы для удаления\n",
    "lower_bound = A / 6\n",
    "upper_bound = 5 * A / 6\n",
    "\n",
    "# Списки для хранения оставшихся и удаленных чисел\n",
    "remaining_numbers = []\n",
    "removed_numbers = []\n",
    "\n",
    "# Обрабатываем список\n",
    "for number in numbers:\n",
    "    if lower_bound < number < upper_bound:\n",
    "        removed_numbers.append(number)\n",
    "    else:\n",
    "        remaining_numbers.append(number)\n",
    "\n",
    "# Выводим результаты\n",
    "print(f\"Оставшиеся числа: {remaining_numbers}\")\n",
    "print(f\"Удаленные числа: {removed_numbers}\")\n"
   ]
  },
  {
   "cell_type": "code",
   "execution_count": null,
   "id": "07fff8af-d995-4cc4-80ae-67e73384fff2",
   "metadata": {},
   "outputs": [],
   "source": []
  }
 ],
 "metadata": {
  "kernelspec": {
   "display_name": "Python 3 (ipykernel)",
   "language": "python",
   "name": "python3"
  },
  "language_info": {
   "codemirror_mode": {
    "name": "ipython",
    "version": 3
   },
   "file_extension": ".py",
   "mimetype": "text/x-python",
   "name": "python",
   "nbconvert_exporter": "python",
   "pygments_lexer": "ipython3",
   "version": "3.12.4"
  }
 },
 "nbformat": 4,
 "nbformat_minor": 5
}
