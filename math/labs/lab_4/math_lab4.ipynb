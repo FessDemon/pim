{
 "cells": [
  {
   "cell_type": "code",
   "execution_count": 28,
   "id": "1c2d4dab-b704-41ae-8b13-23d07a9a2ab2",
   "metadata": {},
   "outputs": [],
   "source": [
    "import numpy as np"
   ]
  },
  {
   "cell_type": "markdown",
   "id": "b1c0b667-e568-4ba2-b116-db2147316808",
   "metadata": {},
   "source": [
    "Задание № 1"
   ]
  },
  {
   "cell_type": "code",
   "execution_count": 24,
   "id": "90201885-0da6-4865-8548-419af1d0c9b7",
   "metadata": {},
   "outputs": [
    {
     "name": "stdout",
     "output_type": "stream",
     "text": [
      "x1 = [[36.65763547]]\n",
      "x2 = [[26.43103448]]\n",
      "x3 = [[80.51477833]]\n",
      "[[-1.42108547e-14]\n",
      " [ 1.42108547e-14]\n",
      " [-2.84217094e-14]]\n"
     ]
    }
   ],
   "source": [
    "A = np.matrix('-3 0.5 0.5; 0.5 -6 0.5; 0.5 0.5 -3')\n",
    "B = np.matrix('-56.5; -100; -210')\n",
    "X = np.linalg.solve(A, B)\n",
    "for t, x in zip(X, ['x1 =', 'x2 =', 'x3 =']):\n",
    "    print(x ,t)\n",
    "\n",
    "#print(X)\n",
    "print(A.dot(X) - B)"
   ]
  },
  {
   "cell_type": "code",
   "execution_count": 15,
   "id": "77754219-459c-492e-aad3-93819bec8a71",
   "metadata": {},
   "outputs": [
    {
     "name": "stdout",
     "output_type": "stream",
     "text": [
      "-50.74999999999998\n",
      "Решение системы: 36.65763546798033, 26.431034482758637, 80.51477832512315\n",
      "[[-9.23705556e-14]\n",
      " [-8.52651283e-14]\n",
      " [ 2.84217094e-14]]\n"
     ]
    }
   ],
   "source": [
    "# метод Крамера\n",
    "d = np.linalg.det(A)\n",
    "print(d)\n",
    "\n",
    "s_0 = A[:, 0]\n",
    "s_1 = A[:, 1]\n",
    "s_2 = A[:, 2]\n",
    "\n",
    "A_1 = np.column_stack((B, s_1, s_2))\n",
    "d_1 = np.linalg.det(A_1)\n",
    "\n",
    "A_2 = np.column_stack((s_0, B, s_2))\n",
    "d_2 = np.linalg.det(A_2)\n",
    "\n",
    "A_3 = np.column_stack((s_0, s_1, B))\n",
    "d_3 = np.linalg.det(A_3)\n",
    "\n",
    "x_1 = d_1 / d\n",
    "x_2 = d_2 / d\n",
    "x_3 = d_3 / d\n",
    "\n",
    "print(f'Решение системы: {x_1}, {x_2}, {x_3}')\n",
    "\n",
    "X = np.array([[x_1], [x_2], [x_3]])\n",
    "#print(X)\n",
    "\n",
    "print(A.dot(X) - B)"
   ]
  },
  {
   "cell_type": "code",
   "execution_count": 34,
   "id": "35346d1d-2f7e-4dd4-943a-8784a260bff3",
   "metadata": {},
   "outputs": [
    {
     "name": "stdout",
     "output_type": "stream",
     "text": [
      "[[36.65763547]\n",
      " [26.43103448]\n",
      " [80.51477833]]\n",
      "[[ 0.00000000e+00]\n",
      " [-1.42108547e-14]\n",
      " [-2.84217094e-14]]\n"
     ]
    }
   ],
   "source": [
    "# обратная матрица\n",
    "A_inv = np.linalg.inv(A)\n",
    "X = np.dot(A_inv, B)\n",
    "print(X)\n",
    "\n",
    "print(A.dot(X) - B)"
   ]
  },
  {
   "cell_type": "code",
   "execution_count": null,
   "id": "40a56c65-1be6-4a74-a780-c31a8c0df43e",
   "metadata": {},
   "outputs": [],
   "source": []
  },
  {
   "cell_type": "code",
   "execution_count": null,
   "id": "6dc35fa9-4121-4ab0-8c95-c00ef6ca5e60",
   "metadata": {},
   "outputs": [],
   "source": []
  },
  {
   "cell_type": "code",
   "execution_count": null,
   "id": "b9f70bb8-6672-4c75-b8e8-2c30c77893eb",
   "metadata": {},
   "outputs": [],
   "source": []
  },
  {
   "cell_type": "code",
   "execution_count": null,
   "id": "1f3bd6c0-7553-47cf-9b1c-737030e7b330",
   "metadata": {},
   "outputs": [],
   "source": [
    "2\t0\t0,5\t0,75\t0\t0\t1\t0,09\t0\t1,25\t0,06\n",
    "0\t1,63\t0\t0\t0\t0\t0\t0,05\t0\t0\t0,47\n",
    "0,5\t0\t1,5\t0,3\t0\t0\t1\t0\t0\t0\t0,08\n",
    "0,75\t0\t0,3\t3,3\t0,77\t0\t0,5\t0\t0\t0\t0,73\n",
    "0\t0\t0\t0,77\t2,01\t0\t0\t0\t0\t0\t0,71\n",
    "0\t0\t0\t0\t0\t0,75\t0\t0\t0\t0\t0,21\n",
    "1\t0\t1\t0,5\t0\t0\t2,25\t0\t0\t0,08\t0,23\n",
    "0,09\t0,05\t0\t0\t0\t0\t0\t1,25\t0\t0,5\t0,28\n",
    "0\t0\t0\t0\t0\t0\t0\t0\t0,666\t0,15\t0,37\n",
    "1,25\t0\t0\t0\t0\t0\t0,08\t0,5\t0,15\t1,333\t0,29"
   ]
  }
 ],
 "metadata": {
  "kernelspec": {
   "display_name": "Python 3 (ipykernel)",
   "language": "python",
   "name": "python3"
  },
  "language_info": {
   "codemirror_mode": {
    "name": "ipython",
    "version": 3
   },
   "file_extension": ".py",
   "mimetype": "text/x-python",
   "name": "python",
   "nbconvert_exporter": "python",
   "pygments_lexer": "ipython3",
   "version": "3.12.4"
  }
 },
 "nbformat": 4,
 "nbformat_minor": 5
}
