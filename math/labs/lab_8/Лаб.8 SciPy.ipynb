{
 "cells": [
  {
   "cell_type": "markdown",
   "id": "240c3c28-8c5e-4967-8936-9a43810122b9",
   "metadata": {},
   "source": [
    "Задание 1."
   ]
  },
  {
   "cell_type": "code",
   "execution_count": 1,
   "id": "cac02077-bf59-4a2d-b5a7-3c9cbc2a835d",
   "metadata": {},
   "outputs": [],
   "source": [
    "from sympy import *"
   ]
  },
  {
   "cell_type": "code",
   "execution_count": 6,
   "id": "07c1fac9-7031-4601-aba5-0dc830d4d19f",
   "metadata": {},
   "outputs": [
    {
     "data": {
      "image/png": "[encoded data removed]",
      "text/latex": [
       "$\\displaystyle - \\log{\\left(\\tan{\\left(\\frac{x}{2} \\right)} \\right)} + \\log{\\left(\\tan{\\left(x \\right)} \\right)} \\cos{\\left(x \\right)}$"
      ],
      "text/plain": [
       "     ⎛   ⎛x⎞⎞                     \n",
       "- log⎜tan⎜─⎟⎟ + log(tan(x))⋅cos(x)\n",
       "     ⎝   ⎝2⎠⎠                     "
      ]
     },
     "execution_count": 6,
     "metadata": {},
     "output_type": "execute_result"
    }
   ],
   "source": [
    "\n",
    "init_printing()\n",
    "x = Symbol('x')\n",
    "def f(x):\n",
    "    return cos(x) * log(tan(x)) - log(tan(x / 2))\n",
    "f(x)\n"
   ]
  },
  {
   "cell_type": "code",
   "execution_count": 7,
   "id": "3b794c92-1752-4dc6-a149-b6901bfb0733",
   "metadata": {},
   "outputs": [
    {
     "data": {
      "image/png": "[encoded data removed]",
      "text/latex": [
       "$\\displaystyle - \\frac{\\frac{\\tan^{2}{\\left(\\frac{x}{2} \\right)}}{2} + \\frac{1}{2}}{\\tan{\\left(\\frac{x}{2} \\right)}} + \\frac{\\left(\\tan^{2}{\\left(x \\right)} + 1\\right) \\cos{\\left(x \\right)}}{\\tan{\\left(x \\right)}} - \\log{\\left(\\tan{\\left(x \\right)} \\right)} \\sin{\\left(x \\right)}$"
      ],
      "text/plain": [
       "     2⎛x⎞                                                \n",
       "  tan ⎜─⎟                                                \n",
       "      ⎝2⎠   1                                            \n",
       "  ─────── + ─   ⎛   2       ⎞                            \n",
       "     2      2   ⎝tan (x) + 1⎠⋅cos(x)                     \n",
       "- ─────────── + ──────────────────── - log(tan(x))⋅sin(x)\n",
       "       ⎛x⎞             tan(x)                            \n",
       "    tan⎜─⎟                                               \n",
       "       ⎝2⎠                                               "
      ]
     },
     "execution_count": 7,
     "metadata": {},
     "output_type": "execute_result"
    }
   ],
   "source": [
    "df = diff(f(x),x)\n",
    "df"
   ]
  },
  {
   "cell_type": "markdown",
   "id": "1350793e-db12-4fd3-be86-d19dd273d9eb",
   "metadata": {},
   "source": [
    "Задание 2."
   ]
  },
  {
   "cell_type": "code",
   "execution_count": 3,
   "id": "6308ad8b-ccac-42a2-be21-c709f9d59565",
   "metadata": {},
   "outputs": [
    {
     "name": "stdout",
     "output_type": "stream",
     "text": [
      "y =  2*exp(sin(x*y))\n",
      "df =  2*y*exp(sin(x*y))*cos(x*y)\n",
      "df2 =  -2*y**2*(sin(x*y) - cos(x*y)**2)*exp(sin(x*y))\n",
      "df/dx =  2*y*exp(sin(x*y))*cos(x*y)\n",
      "d(df/dx)/dy =  -2*x*y*exp(sin(x*y))*sin(x*y) + 2*x*y*exp(sin(x*y))*cos(x*y)**2 + 2*exp(sin(x*y))*cos(x*y)\n",
      "df/dy =  2*x*exp(sin(x*y))*cos(x*y)\n",
      "d(df/dy)/dx =  -2*x*y*exp(sin(x*y))*sin(x*y) + 2*x*y*exp(sin(x*y))*cos(x*y)**2 + 2*exp(sin(x*y))*cos(x*y)\n",
      "Теорема о равенстве смешанных производных выполняется\n"
     ]
    }
   ],
   "source": [
    "x = Symbol('x')\n",
    "y = Symbol('y')\n",
    "def f(x, y):\n",
    "    return 2 * exp(sin(x * y))\n",
    "print('y = ', f(x, y))\n",
    "df = diff(f(x, y), x)\n",
    "print('df = ', df)\n",
    "df2 = diff(f(x, y), x, 2)\n",
    "print('df2 = ', df2)\n",
    "dfx = diff(f(x, y), x)\n",
    "print('df/dx = ', dfx)\n",
    "dfxy = diff(dfx, y)\n",
    "print('d(df/dx)/dy = ', dfxy)\n",
    "dfy = diff(f(x, y), y)\n",
    "print('df/dy = ', dfy)\n",
    "dfyx = diff(dfy, x)\n",
    "print('d(df/dy)/dx = ', dfyx)\n",
    "if dfxy == dfyx:\n",
    "    print('Теорема о равенстве смешанных производных выполняется')"
   ]
  },
  {
   "cell_type": "markdown",
   "id": "61c040f4-856a-4b14-b658-c1250c66f729",
   "metadata": {},
   "source": [
    "Задание 3."
   ]
  },
  {
   "cell_type": "code",
   "execution_count": 24,
   "id": "da914f41-a96b-4665-8522-3b66ee691931",
   "metadata": {},
   "outputs": [
    {
     "data": {
      "image/png": "[encoded data removed]",
      "text/plain": [
       "<Figure size 640x480 with 1 Axes>"
      ]
     },
     "metadata": {},
     "output_type": "display_data"
    }
   ],
   "source": [
    "from scipy.optimize import minimize\n",
    "import numpy as np\n",
    "import matplotlib.pyplot as plt\n",
    "\n",
    "def f(x):\n",
    "    return log(x)/sqrt(x)\n",
    "\n",
    "xArr = np.arange(0.01, 5., 0.05) # Диапазон изменения x\n",
    "yArr = np.array([f(x) for x in xArr])\n",
    "plt.plot(xArr, yArr)\n",
    "plt.grid(True)\n",
    "plt.axis([0.01, 5, -15, 5])\n",
    "plt.show()"
   ]
  },
  {
   "cell_type": "code",
   "execution_count": null,
   "id": "999cd1d1-d660-4713-8974-546b9a2a912f",
   "metadata": {},
   "outputs": [],
   "source": [
    "xArr = np.arange(0.01, 5., 0.05)\n",
    "print(xArr)\n",
    "for i in range(len(xArr)):\n",
    "    minFunc1Value1 = minimize(f, xArr[i]) # В качестве второго параметра указывается начальная точка\n",
    "    print(\"Minimized F(x) (standard method): \", minFunc1Value1.fun, \" for x = \", minFunc1Value1.x, \"i = \", i)\n",
    "    print(\"Number of iterations: \", minFunc1Value1.nit)\n",
    "    minFunc1Value2 = minimize(f, i, method = 'BFGS')\n",
    "    print(\"Minimized F(x) (BFGS method): \", minFunc1Value2.fun, \" for x = \", minFunc1Value2.x, \"i = \", i)\n",
    "    print(\"Number of iterations: \", minFunc1Value2.nit)"
   ]
  },
  {
   "cell_type": "markdown",
   "id": "6d999877-9ede-46c7-9221-82ef6ab373bf",
   "metadata": {},
   "source": [
    "Задача 4."
   ]
  },
  {
   "cell_type": "code",
   "execution_count": null,
   "id": "dfcdb976-30b3-4646-9da0-f23cfa13d8ad",
   "metadata": {},
   "outputs": [],
   "source": []
  }
 ],
 "metadata": {
  "kernelspec": {
   "display_name": "Python 3 (ipykernel)",
   "language": "python",
   "name": "python3"
  },
  "language_info": {
   "codemirror_mode": {
    "name": "ipython",
    "version": 3
   },
   "file_extension": ".py",
   "mimetype": "text/x-python",
   "name": "python",
   "nbconvert_exporter": "python",
   "pygments_lexer": "ipython3",
   "version": "3.12.4"
  }
 },
 "nbformat": 4,
 "nbformat_minor": 5
}
