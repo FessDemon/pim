{
 "cells": [
  {
   "cell_type": "code",
   "execution_count": 2,
   "id": "9d7f65c2-092c-4103-b779-80a7242b908e",
   "metadata": {},
   "outputs": [],
   "source": [
    "import numpy as np"
   ]
  },
  {
   "cell_type": "code",
   "execution_count": null,
   "id": "d4bccd01-4798-4d4f-a80e-9f407c2c2be6",
   "metadata": {},
   "outputs": [],
   "source": [
    "# Решение методом итераций\n"
   ]
  },
  {
   "cell_type": "code",
   "execution_count": 9,
   "id": "a150d46a-8a82-4c11-a557-8971f19aedf0",
   "metadata": {},
   "outputs": [
    {
     "name": "stdout",
     "output_type": "stream",
     "text": [
      "Ответ: [36.65762678 26.43103192 80.51477645]\n",
      "вектор невязки: [2.38511147e-05 1.00894872e-05 0.00000000e+00]\n"
     ]
    }
   ],
   "source": [
    "# Решение методом Зейделя\n",
    "A = np.loadtxt('matrix_A.txt')\n",
    "B = np.loadtxt('matrix_B.txt')\n",
    " \n",
    "eps = 0.0001\n",
    "\n",
    "def zeidel(A, B, eps):\n",
    "    n = len(A)\n",
    "    x = np.zeros(n)  # zero vector\n",
    "\n",
    "    converge = False\n",
    "    while not converge:\n",
    "        x_new = np.copy(x)\n",
    "        for i in range(n):\n",
    "            s1 = sum(A[i][j] * x_new[j] for j in range(i))\n",
    "            s2 = sum(A[i][j] * x[j] for j in range(i + 1, n))\n",
    "            x_new[i] = (B[i] - s1 - s2) / A[i][i]\n",
    "\n",
    "        converge = np.linalg.norm(x_new - x) <= eps\n",
    "        x = x_new\n",
    "    print('Ответ:',x)\n",
    "    # проверка\n",
    "    # вычислим невязку\n",
    "    e = []\n",
    "    e = np.dot(A, x)-B\n",
    "    print('вектор невязки:', e)\n",
    "\n",
    "zeidel(A, B, eps)"
   ]
  },
  {
   "cell_type": "code",
   "execution_count": null,
   "id": "0d675bb7-d951-4d62-b854-8dab2f08ab56",
   "metadata": {},
   "outputs": [],
   "source": []
  },
  {
   "cell_type": "code",
   "execution_count": 10,
   "id": "7f3d3bf4-3bff-4aa0-bed0-efe916988bc4",
   "metadata": {},
   "outputs": [
    {
     "name": "stdout",
     "output_type": "stream",
     "text": [
      "[-1.36107151  0.29792516  0.07378983  0.39640675  0.20137652  0.28\n",
      "  0.53092898 -0.31236033  0.20508231  1.55610119]\n",
      "[-1.36107151  0.29792516  0.07378983  0.39640675  0.20137652  0.28\n",
      "  0.53092898 -0.31236033  0.20508231  1.55610119]\n"
     ]
    }
   ],
   "source": [
    "# Решение методом Холецкого\n",
    "from scipy.linalg import solve_triangular\n",
    "\n",
    "A = np.loadtxt('lab-4-Cholesky-A.txt')\n",
    "B = np.loadtxt('lab-4-Cholesky-B.txt')\n",
    "#delta = np.linalg.det(A)\n",
    "#print(delta)\n",
    "L = np.linalg.cholesky(A)\n",
    "Y = solve_triangular(L, B, lower = True, check_finite = False)\n",
    "X = solve_triangular(L, Y, lower = True, trans = 1, check_finite = False)\n",
    "print(X)\n",
    "\n",
    "y = np.linalg.solve(L, B)\n",
    "x = np.linalg.solve(L.T, y)\n",
    "print(x)\n",
    "\n",
    "print()"
   ]
  },
  {
   "cell_type": "code",
   "execution_count": null,
   "id": "3a298506-e4ac-4270-8c7d-c01fb0cf67f6",
   "metadata": {},
   "outputs": [],
   "source": []
  }
 ],
 "metadata": {
  "kernelspec": {
   "display_name": "Python 3 (ipykernel)",
   "language": "python",
   "name": "python3"
  },
  "language_info": {
   "codemirror_mode": {
    "name": "ipython",
    "version": 3
   },
   "file_extension": ".py",
   "mimetype": "text/x-python",
   "name": "python",
   "nbconvert_exporter": "python",
   "pygments_lexer": "ipython3",
   "version": "3.12.4"
  }
 },
 "nbformat": 4,
 "nbformat_minor": 5
}
