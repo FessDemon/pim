{
 "cells": [
  {
   "cell_type": "markdown",
   "id": "bb8bc8a5-e04f-474c-af49-f98beafd929a",
   "metadata": {},
   "source": [
    "<h3>Задание 1.</h3>"
   ]
  },
  {
   "cell_type": "markdown",
   "id": "dbff3c6b-f180-4da3-a787-92503bbb8de6",
   "metadata": {
    "jp-MarkdownHeadingCollapsed": true
   },
   "source": [
    "<h4>1. Имеется 6 пар перчаток различных размеров. Сколькими способами можно выбрать из них одну на левую руку и одну на правую руку так, чтобы они были разных размеров?</h4>"
   ]
  },
  {
   "cell_type": "code",
   "execution_count": 1,
   "id": "8dfb764b-1a29-4967-a66e-dec87abcf02d",
   "metadata": {},
   "outputs": [
    {
     "name": "stdout",
     "output_type": "stream",
     "text": [
      "Ответ: 30\n"
     ]
    }
   ],
   "source": [
    "n = 6\n",
    "k = n * (n - 1)\n",
    "print(f'Ответ: {k}')"
   ]
  },
  {
   "cell_type": "markdown",
   "id": "0488d403-aee4-4169-bf8a-2b819e7a6086",
   "metadata": {
    "jp-MarkdownHeadingCollapsed": true
   },
   "source": [
    "<h4>2. В коробке 48 шариковых ручек и 3 гелевых ручки. Наудачу извлекают одну ручку и, не возвращая её обратно, извлекают ещё одну. Какова вероятность, что последняя ручка шариковая, если первая извлеченная ручка – гелевая?</h4>"
   ]
  },
  {
   "cell_type": "code",
   "execution_count": 2,
   "id": "22596b77-dc7e-4d40-82d0-426005d79e06",
   "metadata": {},
   "outputs": [
    {
     "name": "stdout",
     "output_type": "stream",
     "text": [
      "Ответ: 96.0%\n"
     ]
    }
   ],
   "source": [
    "print(f'Ответ: {48/(48+(3-1))*100}%')"
   ]
  },
  {
   "cell_type": "markdown",
   "id": "842a78d2-b84b-47a3-a13c-1cc69570019c",
   "metadata": {
    "jp-MarkdownHeadingCollapsed": true
   },
   "source": [
    "<h4>3. Партия микросхем, среди которых 10% неисправных, поступила на проверку. Используется упрощенный тест проверки, по которому с вероятностью 0,95 дефектная микросхема признается дефектной и с вероятностью 0,03 исправная микросхема признается дефектной. Наудачу протестированная микросхема признана дефектной. Какова вероятность того, что на самом деле микросхема является исправной.</h4>"
   ]
  },
  {
   "cell_type": "code",
   "execution_count": 3,
   "id": "0528a015-84b4-43ba-b238-f764e689f3df",
   "metadata": {},
   "outputs": [
    {
     "name": "stdout",
     "output_type": "stream",
     "text": [
      "Ответ: 0.22131147540983606\n"
     ]
    }
   ],
   "source": [
    "p_H1 = 0.1\n",
    "p_H2 = 0.9\n",
    "p_A_H1 = 0.95\n",
    "p_A_H2 = 0.03\n",
    "# по формуле Байеса вычисляем\n",
    "P = (p_H2 * p_A_H2) / (p_H1 * p_A_H1 + p_H2 * p_A_H2)\n",
    "print(f'Ответ: {P}')"
   ]
  },
  {
   "cell_type": "markdown",
   "id": "5e79ae63-472e-45b7-bb1b-65f50b68f6a3",
   "metadata": {
    "jp-MarkdownHeadingCollapsed": true
   },
   "source": [
    "<h4>4. Испытывается каждый из 15 элементов некоторого устройства. Вероятность выдержать испытание для каждого элемента составляет 0,9. Найти наивероятнейшее число выдержавших испытание элементов.</h4>"
   ]
  },
  {
   "cell_type": "code",
   "execution_count": 5,
   "id": "dcb6e761-d677-47c4-ba2f-004ce02d4ca4",
   "metadata": {},
   "outputs": [
    {
     "name": "stdout",
     "output_type": "stream",
     "text": [
      "13.4\n",
      "14.4\n",
      "Ответ: 14\n"
     ]
    }
   ],
   "source": [
    "n = 15\n",
    "p = 0.9\n",
    "q = 0.1\n",
    "# Найдем наивероятнейшее число элементов m0 из неравенства n*p-q<=m0<=n*p+p\n",
    "print(n * p - q)\n",
    "print(n * p + p)\n",
    "print(f'Ответ: {int(n * p - q) + 1}')"
   ]
  },
  {
   "cell_type": "markdown",
   "id": "1381e3fb-7339-4617-8e02-aba956f90175",
   "metadata": {},
   "source": [
    "<h3>Задание 2.</h3>"
   ]
  },
  {
   "cell_type": "markdown",
   "id": "393934c7-a965-439f-8b79-1e3e5bb33cb2",
   "metadata": {},
   "source": [
    "<h4>Написать решение на языке Python.</br>\n",
    "В хлопке число длинных волокон составляет p%. Для исследования наудачу взяты n волокон.</br>\n",
    "Требуется:</br>\n",
    "А) найти закон распределения вероятностей дискретной случайной величины X – число длинных волокон среди взятых;</br>\n",
    "Б) определить вид закона распределения случайной величины X;</br>\n",
    "В) построить многоугольник распределения;</br>\n",
    "Г) составить функцию распределения вероятностей случайной величины и построить её график;</br>\n",
    "Д) вычислить числовые характеристики X (мат.ожидание, дисперсию, среднее квадратическое отклонение).</br>\n",
    "</h4>"
   ]
  },
  {
   "cell_type": "code",
   "execution_count": 5,
   "id": "d26a41a1-8021-4292-a3a2-06a3024fc5b9",
   "metadata": {},
   "outputs": [
    {
     "ename": "TypeError",
     "evalue": "'float' object is not callable",
     "output_type": "error",
     "traceback": [
      "\u001b[0;31m---------------------------------------------------------------------------\u001b[0m",
      "\u001b[0;31mTypeError\u001b[0m                                 Traceback (most recent call last)",
      "Cell \u001b[0;32mIn[5], line 6\u001b[0m\n\u001b[1;32m      4\u001b[0m s\u001b[38;5;241m=\u001b[39m\u001b[38;5;241m0\u001b[39m\n\u001b[1;32m      5\u001b[0m \u001b[38;5;28;01mfor\u001b[39;00m k \u001b[38;5;129;01min\u001b[39;00m \u001b[38;5;28mrange\u001b[39m(\u001b[38;5;241m13\u001b[39m):\n\u001b[0;32m----> 6\u001b[0m     p_dv\u001b[38;5;241m.\u001b[39mappend(math\u001b[38;5;241m.\u001b[39mcomb(\u001b[38;5;241m12\u001b[39m, k)\u001b[38;5;241m*\u001b[39mp\u001b[38;5;241m*\u001b[39m\u001b[38;5;241m*\u001b[39mk\u001b[38;5;241m*\u001b[39m\u001b[43m(\u001b[49m\u001b[38;5;241;43m1\u001b[39;49m\u001b[38;5;241;43m-\u001b[39;49m\u001b[43mp\u001b[49m\u001b[43m)\u001b[49m\u001b[43m(\u001b[49m\u001b[38;5;241;43m12\u001b[39;49m\u001b[38;5;241;43m-\u001b[39;49m\u001b[43mk\u001b[49m\u001b[43m)\u001b[49m)\n\u001b[1;32m      7\u001b[0m     s\u001b[38;5;241m+\u001b[39m\u001b[38;5;241m=\u001b[39mmath\u001b[38;5;241m.\u001b[39mcomb(\u001b[38;5;241m12\u001b[39m, k)\u001b[38;5;241m*\u001b[39mp\u001b[38;5;241m*\u001b[39m\u001b[38;5;241m*\u001b[39mk\u001b[38;5;241m*\u001b[39m(\u001b[38;5;241m1\u001b[39m\u001b[38;5;241m-\u001b[39mp)(\u001b[38;5;241m12\u001b[39m\u001b[38;5;241m-\u001b[39mk)\n\u001b[1;32m      8\u001b[0m \u001b[38;5;28mprint\u001b[39m([\u001b[38;5;28mround\u001b[39m(x,\u001b[38;5;241m7\u001b[39m) \u001b[38;5;28;01mfor\u001b[39;00m x \u001b[38;5;129;01min\u001b[39;00m p_dv])\n",
      "\u001b[0;31mTypeError\u001b[0m: 'float' object is not callable"
     ]
    }
   ],
   "source": [
    "import math\n",
    "p_dv = []\n",
    "p = 0.8\n",
    "s=0\n",
    "for k in range(13):\n",
    "    p_dv.append(math.comb(12, k)*p**k*(1-p)(12-k))\n",
    "    s+=math.comb(12, k)*p**k*(1-p)(12-k)\n",
    "print([round(x,7) for x in p_dv])\n",
    "print('Проверка: (сумма вероятностей должна быть равна 1)',s==1)\n",
    "\n",
    "# б) определить вид закона распределения ДСВ X\n",
    "print('Это биномиальное распределение.')\n",
    "\n",
    "# в) построить многоугольник распределения\n",
    "import numpy as np\n",
    "import matplotlib.pyplot as plt\n",
    "\n",
    "# Добавим заголовок графика\n",
    "plt.title('Многоугольник распределения')\n",
    "# Название оси X:\n",
    "plt.xlabel('x')\n",
    "# Название оси Y:\n",
    "plt.ylabel('y')\n",
    "# Начало и конец изменения значения X, разбитое на 130 точек\n",
    "x = range(0, 13) # X от 0 до 12\n",
    "# Построение прямой\n",
    "y = np.array(p_dv)\n",
    "# Вывод графика\n",
    "plt.plot(x, y)\n",
    "plt.show()\n",
    "\n",
    "# г) составить функцию распределения случайной величины и построить ее график\n",
    "\n",
    "\n",
    "\n",
    "# д) вычислить числовые характеристики x\n",
    "M = 0\n",
    "for k in range(13):\n",
    "    M+=k*p_dv[k] \n",
    "print('Математическое ожидание =',M)\n",
    "\n",
    "M2 = 0\n",
    "for k in range(13):\n",
    "    M2+=k**2*p_dv[k] \n",
    "D = M2-M**2 \n",
    "print('Дисперсия =',D)\n",
    "\n",
    "print('Среднее квадратическое отклонение =', D**0.5)"
   ]
  },
  {
   "cell_type": "code",
   "execution_count": null,
   "id": "21a34e46-608a-42b4-bf98-cb28690cbc97",
   "metadata": {},
   "outputs": [],
   "source": []
  }
 ],
 "metadata": {
  "kernelspec": {
   "display_name": "Python 3 (ipykernel)",
   "language": "python",
   "name": "python3"
  },
  "language_info": {
   "codemirror_mode": {
    "name": "ipython",
    "version": 3
   },
   "file_extension": ".py",
   "mimetype": "text/x-python",
   "name": "python",
   "nbconvert_exporter": "python",
   "pygments_lexer": "ipython3",
   "version": "3.12.4"
  }
 },
 "nbformat": 4,
 "nbformat_minor": 5
}
