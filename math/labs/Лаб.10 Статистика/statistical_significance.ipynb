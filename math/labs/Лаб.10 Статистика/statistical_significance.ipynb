{
 "cells": [
  {
   "cell_type": "markdown",
   "id": "e2c863a1-f9ec-43fd-a5f3-bca9fdd8e862",
   "metadata": {},
   "source": [
    "# Статистическая значимость"
   ]
  },
  {
   "cell_type": "code",
   "execution_count": 52,
   "id": "2bb0672d-c70c-4df9-a9d8-b0ad00807d9c",
   "metadata": {},
   "outputs": [],
   "source": [
    "import pandas as pd\n",
    "import numpy as np\n",
    "from scipy.stats import ttest_ind, t, norm\n",
    "import matplotlib.pyplot as plt"
   ]
  },
  {
   "cell_type": "markdown",
   "id": "b3813b71-c921-42cb-ac76-17417ab29cb2",
   "metadata": {},
   "source": [
    "### Загрузка данных"
   ]
  },
  {
   "cell_type": "code",
   "execution_count": 53,
   "id": "3d7b021a-9908-4d8e-b2af-dbc1b269043f",
   "metadata": {},
   "outputs": [],
   "source": [
    "filename = 'sample.csv'"
   ]
  },
  {
   "cell_type": "code",
   "execution_count": 54,
   "id": "2e7664c4-36f1-4211-b1d7-95f8a4927ced",
   "metadata": {},
   "outputs": [
    {
     "data": {
      "text/html": [
       "<div>\n",
       "<style scoped>\n",
       "    .dataframe tbody tr th:only-of-type {\n",
       "        vertical-align: middle;\n",
       "    }\n",
       "\n",
       "    .dataframe tbody tr th {\n",
       "        vertical-align: top;\n",
       "    }\n",
       "\n",
       "    .dataframe thead th {\n",
       "        text-align: right;\n",
       "    }\n",
       "</style>\n",
       "<table border=\"1\" class=\"dataframe\">\n",
       "  <thead>\n",
       "    <tr style=\"text-align: right;\">\n",
       "      <th></th>\n",
       "      <th>0</th>\n",
       "      <th>1</th>\n",
       "      <th>2</th>\n",
       "    </tr>\n",
       "  </thead>\n",
       "  <tbody>\n",
       "    <tr>\n",
       "      <th>0</th>\n",
       "      <td>0.73</td>\n",
       "      <td>0.76</td>\n",
       "      <td>0.03</td>\n",
       "    </tr>\n",
       "    <tr>\n",
       "      <th>1</th>\n",
       "      <td>0.71</td>\n",
       "      <td>0.79</td>\n",
       "      <td>0.08</td>\n",
       "    </tr>\n",
       "    <tr>\n",
       "      <th>2</th>\n",
       "      <td>0.78</td>\n",
       "      <td>0.81</td>\n",
       "      <td>0.03</td>\n",
       "    </tr>\n",
       "    <tr>\n",
       "      <th>3</th>\n",
       "      <td>0.70</td>\n",
       "      <td>0.74</td>\n",
       "      <td>0.04</td>\n",
       "    </tr>\n",
       "    <tr>\n",
       "      <th>4</th>\n",
       "      <td>0.75</td>\n",
       "      <td>0.78</td>\n",
       "      <td>0.03</td>\n",
       "    </tr>\n",
       "  </tbody>\n",
       "</table>\n",
       "</div>"
      ],
      "text/plain": [
       "      0     1     2\n",
       "0  0.73  0.76  0.03\n",
       "1  0.71  0.79  0.08\n",
       "2  0.78  0.81  0.03\n",
       "3  0.70  0.74  0.04\n",
       "4  0.75  0.78  0.03"
      ]
     },
     "execution_count": 54,
     "metadata": {},
     "output_type": "execute_result"
    }
   ],
   "source": [
    "dataset = pd.read_csv(filename, sep='\\t', header=None)\n",
    "dataset[2] = dataset[1] - dataset[0]\n",
    "dataset"
   ]
  },
  {
   "cell_type": "code",
   "execution_count": 55,
   "id": "7bd06984-11b9-44c7-ba33-6962616f091f",
   "metadata": {},
   "outputs": [
    {
     "name": "stdout",
     "output_type": "stream",
     "text": [
      "mean1 = 0.7340, mean2 = 0.7760, mean3 = 0.0420\n"
     ]
    }
   ],
   "source": [
    "print(f'mean1 = {dataset[0].mean():.4f}, mean2 = {dataset[1].mean():.4f}, mean3 = {dataset[2].mean():.4f}')"
   ]
  },
  {
   "cell_type": "markdown",
   "id": "d54fa0b8-ce86-4035-82ca-e14c4accad45",
   "metadata": {},
   "source": [
    "### t-критерий Стьюдента"
   ]
  },
  {
   "cell_type": "markdown",
   "id": "cb32455b-473b-4f1f-b212-570257ddd318",
   "metadata": {},
   "source": [
    "Вычисление t-критерия Стьюдента для средних двух независимых выборок ([ttest_ind](https://docs.scipy.org/doc/scipy/reference/generated/scipy.stats.ttest_ind.html)):"
   ]
  },
  {
   "cell_type": "code",
   "execution_count": 56,
   "id": "15ef5ed4-0023-4530-abe5-588b6e44df95",
   "metadata": {},
   "outputs": [
    {
     "data": {
      "text/plain": [
       "TtestResult(statistic=-2.238607521733915, pvalue=0.05554600014224001, df=8.0)"
      ]
     },
     "execution_count": 56,
     "metadata": {},
     "output_type": "execute_result"
    }
   ],
   "source": [
    "from scipy.stats import ttest_ind\n",
    "\n",
    "ttest_result = ttest_ind(dataset[0], dataset[1], alternative='two-sided', equal_var=True)\n",
    "ttest_result"
   ]
  },
  {
   "cell_type": "code",
   "execution_count": 57,
   "id": "27d61d23-1deb-4ddb-b5e5-66053ba4495f",
   "metadata": {},
   "outputs": [
    {
     "data": {
      "text/plain": [
       "ConfidenceInterval(low=-0.10495264647679235, high=0.020952646476792056)"
      ]
     },
     "execution_count": 57,
     "metadata": {},
     "output_type": "execute_result"
    }
   ],
   "source": [
    "ttest_result.confidence_interval(confidence_level=0.99)"
   ]
  },
  {
   "cell_type": "markdown",
   "id": "91ec942b-e262-4887-a704-d10cee6d7adc",
   "metadata": {},
   "source": [
    "### Распределение Стьюдента"
   ]
  },
  {
   "cell_type": "markdown",
   "id": "122febab-bfcb-4f35-b390-ad0ed48318b0",
   "metadata": {},
   "source": [
    "Вычисление критических значений для заданных уровней значимости:"
   ]
  },
  {
   "cell_type": "code",
   "execution_count": 58,
   "id": "606bf428-59c5-42e4-988a-cac3fdc8823e",
   "metadata": {},
   "outputs": [
    {
     "data": {
      "text/plain": [
       "2.3060041350333704"
      ]
     },
     "execution_count": 58,
     "metadata": {},
     "output_type": "execute_result"
    }
   ],
   "source": [
    "# уровень значимости\n",
    "aplha = 0.05\n",
    "\n",
    "# односторонний или двусторонний\n",
    "sided = 'two-sided'\n",
    "\n",
    "if sided == 'two-sided':\n",
    "    denom = 2\n",
    "else:\n",
    "    denom = 1\n",
    "        \n",
    "critical_value = t.ppf(1 - aplha/denom, df=df)\n",
    "critical_value"
   ]
  },
  {
   "cell_type": "markdown",
   "id": "9e5ed67d-b020-4519-bb3d-65226deab4e8",
   "metadata": {},
   "source": [
    "Вычисление вероятностей для критических значений (cdf = cumulative distribution function):"
   ]
  },
  {
   "cell_type": "code",
   "execution_count": 59,
   "id": "dade9fca-0228-444e-9ecd-341b70db3fa8",
   "metadata": {},
   "outputs": [
    {
     "data": {
      "text/plain": [
       "0.9749998386193579"
      ]
     },
     "execution_count": 59,
     "metadata": {},
     "output_type": "execute_result"
    }
   ],
   "source": [
    "# критическое значение\n",
    "critical_value = 2.306\n",
    "\n",
    "# степени свободы\n",
    "df = 8\n",
    "\n",
    "t.cdf(critical_value, df=df)"
   ]
  },
  {
   "cell_type": "markdown",
   "id": "bb900806-1fee-4dab-bc73-4dc2f3f00609",
   "metadata": {},
   "source": [
    "Рисуем график плотности вероятности распределения Стьюдента с $df$ степенями свободы с указанием на нем некоторого критического значения:"
   ]
  },
  {
   "cell_type": "code",
   "execution_count": 60,
   "id": "05fb5bda-7f15-49b8-8476-d55d28e513dd",
   "metadata": {},
   "outputs": [
    {
     "data": {
      "image/png": "[encoded data removed]",
      "text/plain": [
       "<Figure size 432x288 with 1 Axes>"
      ]
     },
     "metadata": {
      "needs_background": "light"
     },
     "output_type": "display_data"
    }
   ],
   "source": [
    "fig, ax = plt.subplots(1, 1)\n",
    "x = np.linspace(t.ppf(0.01, df), t.ppf(0.99, df), 100)\n",
    "rv = t(df)\n",
    "ax.plot(x, rv.pdf(x), label='pdf')\n",
    "ax.plot(critical_value, rv.pdf(critical_value), 'ro')\n",
    "ax.set_xlim([x[0], x[-1]])\n",
    "ax.legend(loc='best', frameon=False)\n",
    "plt.show()"
   ]
  },
  {
   "cell_type": "markdown",
   "id": "125fd6ca-1907-4db7-844d-5a66279101f8",
   "metadata": {
    "tags": []
   },
   "source": [
    "### Доверительные интервалы"
   ]
  },
  {
   "cell_type": "code",
   "execution_count": 61,
   "id": "8a4e5544-e2e2-46fa-b09a-994a18898c28",
   "metadata": {},
   "outputs": [],
   "source": [
    "from scipy.stats import t, norm"
   ]
  },
  {
   "cell_type": "code",
   "execution_count": 62,
   "id": "799d0c1d-a824-4e6b-a7eb-942087554e5d",
   "metadata": {},
   "outputs": [],
   "source": [
    "alpha = 0.05"
   ]
  },
  {
   "cell_type": "markdown",
   "id": "73bba593-b857-41e3-a694-8966cc4b6cfa",
   "metadata": {},
   "source": [
    "Доверительный интервал в соответствии с нормальным распределением:"
   ]
  },
  {
   "cell_type": "code",
   "execution_count": 63,
   "id": "f0aaf10f-a1eb-4a49-a8f6-fc8a12005ca8",
   "metadata": {},
   "outputs": [
    {
     "data": {
      "text/plain": [
       "(0.022997444141767482, 0.061002555858232596)"
      ]
     },
     "execution_count": 63,
     "metadata": {},
     "output_type": "execute_result"
    }
   ],
   "source": [
    "norm.interval(1 - alpha, loc=dataset[2].mean(), scale=dataset[2].sem())"
   ]
  },
  {
   "cell_type": "markdown",
   "id": "9c0651ce-127c-46c1-bf11-338287960166",
   "metadata": {},
   "source": [
    "Доверительный интервал в соответствии с распределением Стьюдента:"
   ]
  },
  {
   "cell_type": "code",
   "execution_count": 64,
   "id": "fbde0e3f-28cd-4f68-9e75-f16f05dbc18f",
   "metadata": {},
   "outputs": [
    {
     "data": {
      "text/plain": [
       "(0.015081365976620957, 0.06891863402337911)"
      ]
     },
     "execution_count": 64,
     "metadata": {},
     "output_type": "execute_result"
    }
   ],
   "source": [
    "t.interval(1 - alpha, df=len(dataset[2])-1, loc=dataset[2].mean(), scale=dataset[2].sem())"
   ]
  }
 ],
 "metadata": {
  "kernelspec": {
   "display_name": "Python 3 (ipykernel)",
   "language": "python",
   "name": "python3"
  },
  "language_info": {
   "codemirror_mode": {
    "name": "ipython",
    "version": 3
   },
   "file_extension": ".py",
   "mimetype": "text/x-python",
   "name": "python",
   "nbconvert_exporter": "python",
   "pygments_lexer": "ipython3",
   "version": "3.9.12"
  }
 },
 "nbformat": 4,
 "nbformat_minor": 5
}
