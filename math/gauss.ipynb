{
 "cells": [
  {
   "cell_type": "code",
   "execution_count": 37,
   "metadata": {},
   "outputs": [],
   "source": [
    "import numpy as np\n",
    "\n",
    "matrix1 = np.array([[5.2, 3.7, 1.5, 0.5], \n",
    "                   [8.1, 9.3, 1.2, 0.75], \n",
    "                   [3.6, 8.1, 6.23, 12.5]])\n",
    "\n",
    "matrix2 = np.array([[4, 5, 1, 15], \n",
    "                   [6, 8, 2, 24], \n",
    "                   [3, 4, 1, 12]], dtype=float)\n",
    "\n",
    "matrix3 = np.array([[4.1, 5.2, 3.7, 1.5, 15], \n",
    "                   [4.1, 5.2, 3.7, 1.5, 0.5], \n",
    "                   [8.1, 9.3, 16, 1.2, 0.75],\n",
    "                   [3.6, 8.1, 6.23, 4.8, 12.5]])\n",
    "\n",
    "matrix4 = np.array([[5.2, 3.7, 0.5], \n",
    "                   [8.1, 9.3, 0.75], \n",
    "                   [3.6, 8.1, 12.5]])\n",
    "\n",
    "matrix5 = np.array([[5.2, 3.7, 1.5, 0.5],\n",
    "                   [0, 0, 0, 5],\n",
    "                   [3.6, 8.1, 6.23, 12.5]])\n",
    "\n",
    "matrix6 = np.array([[[5.2, 3.7], [1.5, 0.5]],\n",
    "                   [[0, 0], [0, 5]],\n",
    "                   [[3.6, 8.1], [6.23, 12.5]]])\n",
    "\n"
   ]
  },
  {
   "cell_type": "code",
   "execution_count": 29,
   "metadata": {},
   "outputs": [],
   "source": [
    "def makeTrianglePivot(matrix):\n",
    "    for nrow in range(len(matrix)):\n",
    "        # nrow равен номеру строки\n",
    "        # np.argmax возвращает номер строки с максимальным элементом в уменьшенной матрице\n",
    "        # которая начинается со строки nrow. Поэтому нужно прибавить nrow к результату\n",
    "        pivot = nrow + np.argmax(abs(matrix[nrow:, nrow]))\n",
    "        if pivot != nrow:\n",
    "            # swap\n",
    "            # matrix[nrow], matrix[pivot] = matrix[pivot], matrix[nrow] - не работает.\n",
    "            # нужно переставлять строки именно так, как написано ниже\n",
    "            # matrix[[nrow, pivot]] = matrix[[pivot, nrow]]\n",
    "            matrix[nrow], matrix[pivot] = matrix[pivot], np.copy(matrix[nrow])\n",
    "        row = matrix[nrow]\n",
    "        divider = row[nrow] # диагональный элемент\n",
    "        if abs(divider) < 1e-10:\n",
    "            '''\n",
    "            # почти нуль на диагонали. Продолжать не имеет смысла, результат счёта неустойчив\n",
    "            '''   \n",
    "            return 0\n",
    "        else:\n",
    "            # делим на диагональный элемент.\n",
    "            row /= divider\n",
    "            # теперь надо вычесть приведённую строку из всех нижележащих строчек\n",
    "            for lower_row in matrix[nrow+1:]:\n",
    "                factor = lower_row[nrow] # элемент строки в колонке nrow\n",
    "                lower_row -= factor*row # вычитаем, чтобы получить ноль в колонке nrow\n",
    "    return matrix"
   ]
  },
  {
   "cell_type": "code",
   "execution_count": 30,
   "metadata": {},
   "outputs": [],
   "source": [
    "def makeIdentity(matrix):\n",
    "    # перебор строк в обратном порядке \n",
    "    for nrow in range(len(matrix)-1,0,-1):\n",
    "        row = matrix[nrow]\n",
    "        for upper_row in matrix[:nrow]:\n",
    "            factor = upper_row[nrow]\n",
    "            # вычитать строки не нужно, так как в row только два элемента отличны от 0:\n",
    "            # в последней колонке и на диагонали\n",
    "            \n",
    "            # вычитание в последней колонке\n",
    "            upper_row[-1] -= factor*row[-1]\n",
    "            # вместо вычитания 1*factor просто обнулим коэффициент в соотвествующей колонке. \n",
    "            upper_row[nrow] = 0\n",
    "    return matrix"
   ]
  },
  {
   "cell_type": "code",
   "execution_count": 31,
   "metadata": {},
   "outputs": [],
   "source": [
    "def gaussSolvePivot(A, b=None):\n",
    "    \"\"\"Решает систему линейных алгебраических уравнений Ax=b\n",
    "    Если b is None, то свободные коэффициенты в последней колонке\"\"\"\n",
    "    shape = A.shape\n",
    "    f = True\n",
    "    if len(shape) != 2:\n",
    "        print(\"Матрица не двумерная\") # двумерная матрица\n",
    "        f = False\n",
    "    else:\n",
    "        A = A.copy()\n",
    "        if b is not None:\n",
    "            if shape[0] != shape[1]:\n",
    "                print(\"Матрица A не квадратная\")\n",
    "                f = False\n",
    "            else:\n",
    "                if b.shape != (shape[0],):\n",
    "                    print(\"Размерность свободных членов не соответствует матрице A\")\n",
    "                    f = False\n",
    "                else:\n",
    "                    # добавляем свободные члены дополнительным столбцом\n",
    "                    A = np.c_[A, b]\n",
    "        else:\n",
    "            # Проверяем, что квадратная плюс столбец\n",
    "            if shape[0]+1 != shape[1]:\n",
    "                print(\"Неверный формат расширенной матрицы\")\n",
    "                f = False\n",
    "    if f:\n",
    "        print(\"Прямой ход\")\n",
    "        makeTrianglePivot(A)\n",
    "        print(A)\n",
    "        if np.linalg.matrix_rank(A) != shape[0]:\n",
    "            return \"Система имеет бесконечно много решений\"\n",
    "        else:\n",
    "            if np.linalg.matrix_rank(A[:,:-1]) != np.linalg.matrix_rank(A):\n",
    "                return \"Система несовместна\"\n",
    "            \n",
    "            else:\n",
    "                print(\"Обратный ход\")\n",
    "                makeIdentity(A)\n",
    "                print(A)\n",
    "                return A[:,-1]"
   ]
  },
  {
   "cell_type": "code",
   "execution_count": 32,
   "metadata": {},
   "outputs": [
    {
     "name": "stdout",
     "output_type": "stream",
     "text": [
      "Прямой ход\n",
      "[[1.         1.14814815 0.14814815 0.09259259]\n",
      " [0.         1.         1.43613445 3.06722689]\n",
      " [0.         0.         1.         1.74985784]]\n",
      "Обратный ход\n",
      "[[ 1.          0.          0.         -0.80294443]\n",
      " [ 0.          1.          0.          0.55419575]\n",
      " [ 0.          0.          1.          1.74985784]]\n",
      "Ответ:  [-0.80294443  0.55419575  1.74985784]\n"
     ]
    }
   ],
   "source": [
    "print(\"Ответ: \",gaussSolvePivot(matrix1))"
   ]
  },
  {
   "cell_type": "code",
   "execution_count": 33,
   "metadata": {},
   "outputs": [
    {
     "name": "stdout",
     "output_type": "stream",
     "text": [
      "Прямой ход\n",
      "[[ 1.          1.33333333  0.33333333  4.        ]\n",
      " [-0.          1.          1.          3.        ]\n",
      " [ 0.          0.          0.          0.        ]]\n",
      "Ответ:  Система имеет бесконечно много решений\n"
     ]
    }
   ],
   "source": [
    "print(\"Ответ: \",gaussSolvePivot(matrix2))"
   ]
  },
  {
   "cell_type": "code",
   "execution_count": 34,
   "metadata": {},
   "outputs": [
    {
     "name": "stdout",
     "output_type": "stream",
     "text": [
      "Прямой ход\n",
      "[[  1.           1.14814815   1.97530864   0.14814815   0.09259259]\n",
      " [  0.           1.          -0.22212885   1.07563025   3.06722689]\n",
      " [ -0.          -0.           1.          -0.08456885  -3.05628781]\n",
      " [  0.           0.           0.           0.         -14.5       ]]\n",
      "Ответ:  Система несовместна\n"
     ]
    }
   ],
   "source": [
    "print(\"Ответ: \",gaussSolvePivot(matrix3))"
   ]
  },
  {
   "cell_type": "code",
   "execution_count": 35,
   "metadata": {},
   "outputs": [
    {
     "name": "stdout",
     "output_type": "stream",
     "text": [
      "Неверный формат расширенной матрицы\n",
      "Ответ:  None\n"
     ]
    }
   ],
   "source": [
    "print(\"Ответ: \",gaussSolvePivot(matrix4))"
   ]
  },
  {
   "cell_type": "code",
   "execution_count": 36,
   "metadata": {},
   "outputs": [
    {
     "name": "stdout",
     "output_type": "stream",
     "text": [
      "Прямой ход\n",
      "[[1.         0.71153846 0.28846154 0.09615385]\n",
      " [0.         1.         0.93736111 2.19444444]\n",
      " [0.         0.         0.         5.        ]]\n",
      "Ответ:  Система несовместна\n"
     ]
    }
   ],
   "source": [
    "print(\"Ответ: \",gaussSolvePivot(matrix5))"
   ]
  },
  {
   "cell_type": "code",
   "execution_count": 38,
   "metadata": {},
   "outputs": [
    {
     "name": "stdout",
     "output_type": "stream",
     "text": [
      "Матрица не двумерная\n",
      "Ответ:  None\n"
     ]
    }
   ],
   "source": [
    "print(\"Ответ: \",gaussSolvePivot(matrix6))"
   ]
  },
  {
   "cell_type": "code",
   "execution_count": null,
   "metadata": {},
   "outputs": [],
   "source": []
  }
 ],
 "metadata": {
  "kernelspec": {
   "display_name": "Python 3",
   "language": "python",
   "name": "python3"
  },
  "language_info": {
   "codemirror_mode": {
    "name": "ipython",
    "version": 3
   },
   "file_extension": ".py",
   "mimetype": "text/x-python",
   "name": "python",
   "nbconvert_exporter": "python",
   "pygments_lexer": "ipython3",
   "version": "3.6.5"
  }
 },
 "nbformat": 4,
 "nbformat_minor": 2
}
