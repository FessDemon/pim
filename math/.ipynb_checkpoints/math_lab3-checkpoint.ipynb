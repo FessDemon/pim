{
 "cells": [
  {
   "cell_type": "code",
   "execution_count": 8,
   "id": "1c2d4dab-b704-41ae-8b13-23d07a9a2ab2",
   "metadata": {},
   "outputs": [],
   "source": [
    "import numpy as np"
   ]
  },
  {
   "cell_type": "markdown",
   "id": "b1c0b667-e568-4ba2-b116-db2147316808",
   "metadata": {},
   "source": [
    "Задание № 1 - 1"
   ]
  },
  {
   "cell_type": "code",
   "execution_count": 10,
   "id": "f43970cf-2fc4-401a-aa9c-155ac2dee7d8",
   "metadata": {},
   "outputs": [
    {
     "name": "stdout",
     "output_type": "stream",
     "text": [
      "[[  59 -213  -31  545]\n",
      " [ -20   -8   -8  -16]]\n"
     ]
    }
   ],
   "source": [
    "A = np.matrix('2 -1; 3 2; 5 -2')\n",
    "B = np.matrix('-2 -1; 11 -2; 5 7')\n",
    "C = np.matrix('1 3 0 4; 0 2 -3 5; 5 3 10 -2')\n",
    "D = np.matrix('-2 5 1 -3; 1 1 -5 -4; 2 6 11 -1')\n",
    "G = (2*A + B).transpose().dot(3*C - 4*D)\n",
    "print(G)"
   ]
  },
  {
   "cell_type": "markdown",
   "id": "9f2996a3-988a-4ee3-b4a5-5c8479d6676c",
   "metadata": {},
   "source": [
    "Задание № 1 - 2"
   ]
  },
  {
   "cell_type": "code",
   "execution_count": 18,
   "id": "189dcbc0-d77f-47d6-98f5-4200e91c3c6e",
   "metadata": {},
   "outputs": [
    {
     "name": "stdout",
     "output_type": "stream",
     "text": [
      "[[0 1 1 1]\n",
      " [1 0 1 1]\n",
      " [1 1 0 1]\n",
      " [1 1 1 0]]\n",
      "Определитель матрицы: -2.9999999999999996\n"
     ]
    }
   ],
   "source": [
    "A = np.matrix('0 1 1 1; 1 0 1 1; 1 1 0 1; 1 1 1 0')\n",
    "print(A)\n",
    "print(f'Определитель матрицы: {np.linalg.det(A)}')"
   ]
  },
  {
   "cell_type": "markdown",
   "id": "3ebea21f-8c1a-48f1-8740-97d5cef3cab1",
   "metadata": {},
   "source": [
    "Задание № 1 - 3"
   ]
  },
  {
   "cell_type": "code",
   "execution_count": 22,
   "id": "64821b5b-8f36-4829-b8bf-862b58514324",
   "metadata": {},
   "outputs": [
    {
     "name": "stdout",
     "output_type": "stream",
     "text": [
      "[[ 3 -5  9  3 -1  0]\n",
      " [ 5 -3 -5  0 -5 13]\n",
      " [-6 10 -4 15 -2  0]\n",
      " [15 -6  9 -9 -2 -6]\n",
      " [ 8 -3  5 -5  8 -1]\n",
      " [ 0  8  6 -4 12 -7]]\n",
      "Обратная матрица:\n",
      "[[-0.04208275  0.01724784  0.05829242  0.05465385  0.07124448 -0.02499224]\n",
      " [-0.00878783  0.0719964   0.0220256   0.04365973 -0.1070451   0.11157714]\n",
      " [ 0.11290944  0.04244897 -0.02917647  0.00451783 -0.09922493  0.08913637]\n",
      " [ 0.0171968  -0.03323073  0.0685683  -0.01310623  0.09032082 -0.06338327]\n",
      " [-0.01453377 -0.02588991  0.00786595 -0.05299531  0.12689703 -0.02078486]\n",
      " [ 0.05199451  0.09327272 -0.02553368 -0.02959057 -0.04146132  0.06165001]]\n",
      "Проверка:\n",
      "[[ 1.00000000e+00 -1.31838984e-16 -2.42861287e-17 -4.85722573e-17\n",
      "   5.55111512e-17 -1.76941795e-16]\n",
      " [ 0.00000000e+00  1.00000000e+00 -1.66533454e-16  1.66533454e-16\n",
      "  -2.22044605e-16  1.11022302e-16]\n",
      " [ 1.04083409e-16  2.35922393e-16  1.00000000e+00  8.32667268e-17\n",
      "   0.00000000e+00  9.02056208e-17]\n",
      " [ 0.00000000e+00  0.00000000e+00 -5.55111512e-17  1.00000000e+00\n",
      "  -2.77555756e-17  0.00000000e+00]\n",
      " [-1.24900090e-16 -6.93889390e-17 -1.00613962e-16 -7.28583860e-17\n",
      "   1.00000000e+00 -1.04083409e-16]\n",
      " [ 0.00000000e+00  0.00000000e+00  0.00000000e+00  0.00000000e+00\n",
      "   5.55111512e-17  1.00000000e+00]]\n"
     ]
    }
   ],
   "source": [
    "A = np.matrix('3 -5 9 3 -1 0; 5 -3 -5 0 -5 13; -6 10 -4 15 -2 0; 15 -6 9 -9 -2 -6; 8 -3 5 -5 8 -1; 0 8 6 -4 12 -7')\n",
    "print(A)\n",
    "print('Обратная матрица:')\n",
    "print(np.linalg.inv(A))\n",
    "print('Проверка:')\n",
    "print(A * np.linalg.inv(A))"
   ]
  },
  {
   "cell_type": "markdown",
   "id": "1fc3eb1b-ee85-4653-b126-aa6b46a9ff2a",
   "metadata": {},
   "source": [
    "Задание № 2"
   ]
  },
  {
   "cell_type": "code",
   "execution_count": 33,
   "id": "1d18f809-cecc-4144-912c-38c7d28835b1",
   "metadata": {},
   "outputs": [
    {
     "name": "stdout",
     "output_type": "stream",
     "text": [
      "[-17.04690349+0.j         -10.34701511+8.01817564j\n",
      " -10.34701511-8.01817564j  10.23710304+4.32845573j\n",
      "  10.23710304-4.32845573j   5.26672763+0.j        ]\n"
     ]
    }
   ],
   "source": [
    "A = np.matrix('3 -5 9 3 -1 0; 5 -3 -5 0 -5 13; -6 10 -4 15 -2 0; 15 -6 9 -9 -2 -6; 8 -3 5 -5 8 -1; 0 8 6 -4 12 -7')\n",
    "sz = np.linalg.eigvals(A)\n",
    "print(sz)"
   ]
  },
  {
   "cell_type": "code",
   "execution_count": null,
   "id": "90201885-0da6-4865-8548-419af1d0c9b7",
   "metadata": {},
   "outputs": [],
   "source": []
  }
 ],
 "metadata": {
  "kernelspec": {
   "display_name": "Python 3 (ipykernel)",
   "language": "python",
   "name": "python3"
  },
  "language_info": {
   "codemirror_mode": {
    "name": "ipython",
    "version": 3
   },
   "file_extension": ".py",
   "mimetype": "text/x-python",
   "name": "python",
   "nbconvert_exporter": "python",
   "pygments_lexer": "ipython3",
   "version": "3.12.4"
  }
 },
 "nbformat": 4,
 "nbformat_minor": 5
}
