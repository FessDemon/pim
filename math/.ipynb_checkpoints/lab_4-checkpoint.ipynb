{
 "cells": [
  {
   "cell_type": "code",
   "execution_count": null,
   "id": "9d7f65c2-092c-4103-b779-80a7242b908e",
   "metadata": {},
   "outputs": [],
   "source": [
    "import numpy as np"
   ]
  },
  {
   "cell_type": "code",
   "execution_count": null,
   "id": "a150d46a-8a82-4c11-a557-8971f19aedf0",
   "metadata": {},
   "outputs": [],
   "source": [
    "# Решение методом итераций"
   ]
  },
  {
   "cell_type": "code",
   "execution_count": null,
   "id": "7f3d3bf4-3bff-4aa0-bed0-efe916988bc4",
   "metadata": {},
   "outputs": [],
   "source": [
    "# Решение методом Холецкого\n"
   ]
  }
 ],
 "metadata": {
  "kernelspec": {
   "display_name": "Python 3 (ipykernel)",
   "language": "python",
   "name": "python3"
  },
  "language_info": {
   "codemirror_mode": {
    "name": "ipython",
    "version": 3
   },
   "file_extension": ".py",
   "mimetype": "text/x-python",
   "name": "python",
   "nbconvert_exporter": "python",
   "pygments_lexer": "ipython3",
   "version": "3.12.4"
  }
 },
 "nbformat": 4,
 "nbformat_minor": 5
}
