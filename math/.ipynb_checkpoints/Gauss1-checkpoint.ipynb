{
 "cells": [
  {
   "cell_type": "code",
   "execution_count": 153,
   "metadata": {},
   "outputs": [],
   "source": [
    "import numpy as np\n",
    "\n",
    "matrix1 = np.array([[5.2, 3.7, 1.5, 0.5], \n",
    "                   [8.1, 9.3, 1.2, 0.75], \n",
    "                   [3.6, 8.1, 6.23, 12.5]])\n",
    "\n",
    "matrix2 = np.array([[4, 5, 1, 15], \n",
    "                   [6, 8, 2, 24], \n",
    "                   [3, 4, 1, 12]], dtype=float)\n",
    "\n",
    "matrix3 = np.array([[4.1, 5.2, 3.7, 1.5, 15], \n",
    "                   [4.1, 5.2, 3.7, 1.5, 0.5], \n",
    "                   [8.1, 9.3, 16, 1.2, 0.75],\n",
    "                   [3.6, 8.1, 6.23, 4.8, 12.5]])\n"
   ]
  },
  {
   "cell_type": "code",
   "execution_count": 154,
   "metadata": {},
   "outputs": [],
   "source": [
    "def makeTrianglePivot(matrix):\n",
    "    for nrow in range(len(matrix)):\n",
    "        # nrow равен номеру строки\n",
    "        # np.argmax возвращает номер строки с максимальным элементом в уменьшенной матрице\n",
    "        # которая начинается со строки nrow. Поэтому нужно прибавить nrow к результату\n",
    "        pivot = nrow + np.argmax(abs(matrix[nrow:, nrow]))\n",
    "        if pivot != nrow:\n",
    "            # swap\n",
    "            # matrix[nrow], matrix[pivot] = matrix[pivot], matrix[nrow] - не работает.\n",
    "            # нужно переставлять строки именно так, как написано ниже\n",
    "            # matrix[[nrow, pivot]] = matrix[[pivot, nrow]]\n",
    "            matrix[nrow], matrix[pivot] = matrix[pivot], np.copy(matrix[nrow])\n",
    "        row = matrix[nrow]\n",
    "        divider = row[nrow] # диагональный элемент\n",
    "        if abs(divider) < 1e-10:\n",
    "            '''\n",
    "            # почти нуль на диагонали. Продолжать не имеет смысла, результат счёта неустойчив\n",
    "            '''   \n",
    "            return 0\n",
    "        else:\n",
    "            # делим на диагональный элемент.\n",
    "            row /= divider\n",
    "            # теперь надо вычесть приведённую строку из всех нижележащих строчек\n",
    "            for lower_row in matrix[nrow+1:]:\n",
    "                factor = lower_row[nrow] # элемент строки в колонке nrow\n",
    "                lower_row -= factor*row # вычитаем, чтобы получить ноль в колонке nrow\n",
    "    return matrix"
   ]
  },
  {
   "cell_type": "code",
   "execution_count": 155,
   "metadata": {},
   "outputs": [],
   "source": [
    "def makeIdentity(matrix):\n",
    "    # перебор строк в обратном порядке \n",
    "    for nrow in range(len(matrix)-1,0,-1):\n",
    "        row = matrix[nrow]\n",
    "        for upper_row in matrix[:nrow]:\n",
    "            factor = upper_row[nrow]\n",
    "            # вычитать строки не нужно, так как в row только два элемента отличны от 0:\n",
    "            # в последней колонке и на диагонали\n",
    "            \n",
    "            # вычитание в последней колонке\n",
    "            upper_row[-1] -= factor*row[-1]\n",
    "            # вместо вычитания 1*factor просто обнулим коэффициент в соотвествующей колонке. \n",
    "            upper_row[nrow] = 0\n",
    "    return matrix"
   ]
  },
  {
   "cell_type": "code",
   "execution_count": 160,
   "metadata": {},
   "outputs": [],
   "source": [
    "def gaussSolvePivot(A, b=None):\n",
    "    \"\"\"Решает систему линейных алгебраических уравнений Ax=b\n",
    "    Если b is None, то свободные коэффициенты в последней колонке\"\"\"\n",
    "    shape = A.shape\n",
    "    assert len(shape) == 2, (\"Матрица не двумерная\", shape) # двумерная матрица\n",
    "    A = A.copy()\n",
    "    if b is not None:\n",
    "        assert shape[0] == shape[1], (\"Матрица не квадратная\", shape)\n",
    "        assert b.shape == (shape[0],), (\"Размерность свободных членов не соответствует матрице A\", shape, b.shape)\n",
    "        \n",
    "\n",
    "        # добавляем свободные члены дополнительным столбцом\n",
    "        A = np.c_[A, b]\n",
    "    else:\n",
    "        # Проверяем, что квадратная плюс столбец\n",
    "        assert shape[0]+1 == shape[1], (\"Неверный формат матрицы\", shape)\n",
    "    makeTrianglePivot(A)\n",
    "    if np.linalg.matrix_rank(A) != shape[0]:\n",
    "        return \"Система имеет бесконечно много решений\"\n",
    "    else:\n",
    "        if np.linalg.matrix_rank(A[:,:-1]) != np.linalg.matrix_rank(A):\n",
    "            return \"Система несовместна\"\n",
    "            \n",
    "        else:\n",
    "            makeIdentity(A)\n",
    "            return A[:,-1]"
   ]
  },
  {
   "cell_type": "code",
   "execution_count": 161,
   "metadata": {},
   "outputs": [
    {
     "name": "stdout",
     "output_type": "stream",
     "text": [
      "[8.1  9.3  1.2  0.75]\n",
      "[ 0.          3.96666667  5.69666667 12.16666667]\n",
      "[0.         0.         3.99018674 6.98225957]\n",
      "Ответ:  [-0.80294443  0.55419575  1.74985784]\n"
     ]
    }
   ],
   "source": [
    "print(\"Ответ: \",gaussSolvePivot(matrix1))"
   ]
  },
  {
   "cell_type": "code",
   "execution_count": 158,
   "metadata": {},
   "outputs": [
    {
     "name": "stdout",
     "output_type": "stream",
     "text": [
      "[ 6.  8.  2. 24.]\n",
      "[ 0.         -0.33333333 -0.33333333 -1.        ]\n",
      "Ответ:  Система имеет бесконечно много решений\n"
     ]
    }
   ],
   "source": [
    "print(\"Ответ: \",gaussSolvePivot(matrix2))"
   ]
  },
  {
   "cell_type": "code",
   "execution_count": 159,
   "metadata": {},
   "outputs": [
    {
     "name": "stdout",
     "output_type": "stream",
     "text": [
      "[ 8.1   9.3  16.    1.2   0.75]\n",
      "[ 0.          3.96666667 -0.88111111  4.26666667 12.16666667]\n",
      "[ 0.          0.         -4.28934641  0.3627451  13.10947712]\n",
      "Ответ:  Система несовместна\n"
     ]
    }
   ],
   "source": [
    "print(\"Ответ: \",gaussSolvePivot(matrix3))"
   ]
  },
  {
   "cell_type": "markdown",
   "metadata": {},
   "source": []
  },
  {
   "cell_type": "markdown",
   "metadata": {},
   "source": []
  }
 ],
 "metadata": {
  "kernelspec": {
   "display_name": "Python 3",
   "language": "python",
   "name": "python3"
  },
  "language_info": {
   "codemirror_mode": {
    "name": "ipython",
    "version": 3
   },
   "file_extension": ".py",
   "mimetype": "text/x-python",
   "name": "python",
   "nbconvert_exporter": "python",
   "pygments_lexer": "ipython3",
   "version": "3.6.5"
  }
 },
 "nbformat": 4,
 "nbformat_minor": 2
}
