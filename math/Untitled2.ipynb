{
 "cells": [
  {
   "cell_type": "code",
   "execution_count": 1,
   "id": "252a608d-2cda-496b-889d-2aa6793f5c83",
   "metadata": {},
   "outputs": [
    {
     "name": "stdout",
     "output_type": "stream",
     "text": [
      "Ответ: [37. 26. 81.], количество итераций: 11\n"
     ]
    },
    {
     "ename": "AttributeError",
     "evalue": "'list' object has no attribute 'dot'",
     "output_type": "error",
     "traceback": [
      "\u001b[0;31m---------------------------------------------------------------------------\u001b[0m",
      "\u001b[0;31mAttributeError\u001b[0m                            Traceback (most recent call last)",
      "Cell \u001b[0;32mIn[1], line 29\u001b[0m\n\u001b[1;32m     25\u001b[0m     COUNTER \u001b[38;5;241m+\u001b[39m\u001b[38;5;241m=\u001b[39m \u001b[38;5;241m1\u001b[39m\n\u001b[1;32m     27\u001b[0m \u001b[38;5;28mprint\u001b[39m(\u001b[38;5;124mf\u001b[39m\u001b[38;5;124m\"\u001b[39m\u001b[38;5;124mОтвет: \u001b[39m\u001b[38;5;132;01m{\u001b[39;00mx[:\u001b[38;5;241m-\u001b[39m\u001b[38;5;241m1\u001b[39m]\u001b[38;5;241m.\u001b[39mround()\u001b[38;5;132;01m}\u001b[39;00m\u001b[38;5;124m, количество итераций: \u001b[39m\u001b[38;5;132;01m{\u001b[39;00mCOUNTER\u001b[38;5;132;01m}\u001b[39;00m\u001b[38;5;124m\"\u001b[39m)\n\u001b[0;32m---> 29\u001b[0m \u001b[38;5;28mprint\u001b[39m(A\u001b[38;5;241m.\u001b[39mdot(x) \u001b[38;5;241m-\u001b[39m B)\n",
      "\u001b[0;31mAttributeError\u001b[0m: 'list' object has no attribute 'dot'"
     ]
    }
   ],
   "source": [
    "\"\"\"Итерационный метод\"\"\"\n",
    "\n",
    "import numpy as np\n",
    "\n",
    "A = [[-3, 0.5, 0.5], [0.5, -6, 0.5], [0.5, 0.5, -3]]\n",
    "B = [-56.5, -100, -210]\n",
    "\n",
    "# точность итераций\n",
    "EPS = 1e-4\n",
    "\n",
    "a = np.array(A)  # формируем массив\n",
    "diag = (1 / np.diag(a)).reshape(-1, 1)\n",
    "a[np.diag_indices_from(a)] = 0\n",
    "a = np.hstack((-a, np.array(B).reshape(-1, 1))) * diag\n",
    "x = a[:, -1].ravel()\n",
    "x = np.append(x, 1)\n",
    "\n",
    "tmp = x.copy() + EPS\n",
    "\n",
    "COUNTER = 0\n",
    "while abs(x - tmp).sum() > EPS:\n",
    "    tmp = x.copy()\n",
    "    x = a.dot(x)\n",
    "    x = np.append(x, 1)\n",
    "    COUNTER += 1\n",
    "\n",
    "print(f\"Ответ: {x[:-1].round()}, количество итераций: {COUNTER}\")\n",
    "\n",
    "print(A.dot(x) - B)\n"
   ]
  },
  {
   "cell_type": "code",
   "execution_count": null,
   "id": "8a223a66-b483-47c7-a5ce-f0a79e7362d9",
   "metadata": {},
   "outputs": [],
   "source": []
  }
 ],
 "metadata": {
  "kernelspec": {
   "display_name": "Python 3 (ipykernel)",
   "language": "python",
   "name": "python3"
  },
  "language_info": {
   "codemirror_mode": {
    "name": "ipython",
    "version": 3
   },
   "file_extension": ".py",
   "mimetype": "text/x-python",
   "name": "python",
   "nbconvert_exporter": "python",
   "pygments_lexer": "ipython3",
   "version": "3.12.4"
  }
 },
 "nbformat": 4,
 "nbformat_minor": 5
}
