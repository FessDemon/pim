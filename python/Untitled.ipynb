{
 "cells": [
  {
   "cell_type": "code",
   "execution_count": 61,
   "id": "42bde6f4-abd7-4d2b-940e-c709636454b4",
   "metadata": {},
   "outputs": [
    {
     "name": "stdout",
     "output_type": "stream",
     "text": [
      "-100    7594 587     -8546 9000     465       -100\n",
      "['-100', '7594', '587', '-8546', '9000', '465', '-100']\n",
      "8900\n"
     ]
    }
   ],
   "source": [
    "string = '-100gjhd7594 587 hgdh-8546 9000 $^&%465#%hjhfb-100'\n",
    "num = ''\n",
    "for char in string:\n",
    "    if char in '-0123456789':\n",
    "        num += char\n",
    "    else:\n",
    "        num = num + ' '\n",
    "print(num)\n",
    "num = num.split()\n",
    "print(num)\n",
    "print(sum(list(map(int, num))))"
   ]
  },
  {
   "cell_type": "code",
   "execution_count": null,
   "id": "a25f15b2-afcf-427a-9f13-74aede65f386",
   "metadata": {},
   "outputs": [],
   "source": []
  },
  {
   "cell_type": "code",
   "execution_count": 75,
   "id": "9e66c6ed-2944-4be0-98c7-be50a62818f3",
   "metadata": {},
   "outputs": [],
   "source": [
    "import re"
   ]
  },
  {
   "cell_type": "code",
   "execution_count": 87,
   "id": "d591ea41-9781-4662-a11b-035bebbca411",
   "metadata": {},
   "outputs": [
    {
     "name": "stdout",
     "output_type": "stream",
     "text": [
      "Удалите из строки последовательности символов, между круглыми скобками вместе со скобками .\n"
     ]
    }
   ],
   "source": [
    "string = 'Удалите из строки последовательности символов, (расположенные) между круглыми скобками вместе со скобками (считается, что скобки в строке расставлены без (или) ошибок).'\n",
    "newString = re.sub(r'\\([^()]*\\)', '', re.sub(r'\\([^()]*\\)', '', string))\n",
    "newString = re.sub(r'\\s{2}', ' ', newString)\n",
    "print(newString)"
   ]
  },
  {
   "cell_type": "code",
   "execution_count": 112,
   "id": "1c76544d-751a-4b43-90c7-dd8005cabfb8",
   "metadata": {},
   "outputs": [
    {
     "name": "stdout",
     "output_type": "stream",
     "text": [
      "шабаш ( 2 )\n",
      "казак ( 1 )\n",
      "кок ( 2 )\n",
      "поп ( 3 )\n",
      "аа ( 1 )\n"
     ]
    }
   ],
   "source": [
    "text = 'Шабаш кок ПОП каЗАк шаБаш кОК поп поп рок аа'\n",
    "text = text.lower()\n",
    "words=re.split(r' ',text)\n",
    "mx=len(max(words,key=len))\n",
    "\n",
    "#print(mx)\n",
    "d=[]\n",
    "for l in range(mx,0,-1):\n",
    "    l2=l//2\n",
    "    r_s=''\n",
    "    for i in range(l2):\n",
    "        r_s='([a-z]|[а-я])'+r_s\n",
    "    if l%2==1:\n",
    "        r_s='([a-z]|[а-я])'+r_s\n",
    "    for i in range(l2,0,-1):\n",
    "        r_s=r_s+'\\\\'+str(i)\n",
    "    #print(r_s)\n",
    "    for w in words:\n",
    "        if len(w)==l:\n",
    "            if re.search(r_s,w)!= None:\n",
    "                if not w in d:\n",
    "                    d.append(w)\n",
    "           \n",
    "for w in d:\n",
    "    print(w,'(',words.count(w),')')"
   ]
  },
  {
   "cell_type": "code",
   "execution_count": null,
   "id": "3212b4da-2d39-4d21-8fb0-492163170a78",
   "metadata": {},
   "outputs": [],
   "source": []
  }
 ],
 "metadata": {
  "kernelspec": {
   "display_name": "Python 3 (ipykernel)",
   "language": "python",
   "name": "python3"
  },
  "language_info": {
   "codemirror_mode": {
    "name": "ipython",
    "version": 3
   },
   "file_extension": ".py",
   "mimetype": "text/x-python",
   "name": "python",
   "nbconvert_exporter": "python",
   "pygments_lexer": "ipython3",
   "version": "3.12.4"
  }
 },
 "nbformat": 4,
 "nbformat_minor": 5
}
