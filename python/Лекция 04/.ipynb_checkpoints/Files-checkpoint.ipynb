{
 "cells": [
  {
   "cell_type": "markdown",
   "metadata": {},
   "source": [
    "# Файлы"
   ]
  },
  {
   "cell_type": "markdown",
   "metadata": {},
   "source": [
    "## Открытие файла"
   ]
  },
  {
   "cell_type": "markdown",
   "metadata": {},
   "source": [
    "open(name[, mode[, buffering]])\n",
    "\n",
    "Функция возвращает файловый объект. Обязателен только первый аргумент. Если остальные параметры отсутствуют, файл будет доступен на чтение. \n",
    "\n",
    "Таблица режимов (mode) функции open:\n",
    "* 'r' – чтение.\n",
    "* 'w' – запись.\n",
    "* 'a' – добавление.\n",
    "* 'b' – бинарный режим.\n",
    "* '+' – чтение/запись.\n",
    "\n",
    "Режим '+' может быть добавлен к остальным режимам. По умолчанию питон открывает файлы в текстовом режиме. Для открытия файла в бинарном режиме на чтение можно добавить 'rb'. Третий параметр устанавливает размер буферизации при работе с файлом. По умолчанию он выключен, и чтение/запись идет напрямую с диска на диск. Для включения буфера третий параметр должен быть отличным от нуля."
   ]
  },
  {
   "cell_type": "markdown",
   "metadata": {},
   "source": [
    "## Базовые файловые методы"
   ]
  },
  {
   "cell_type": "code",
   "execution_count": 27,
   "metadata": {
    "tags": []
   },
   "outputs": [],
   "source": [
    "f = open('file.txt', 'w')\n",
    "f.write('Hello, ')\n",
    "f.write('World!')\n",
    "f.close() # !!!"
   ]
  },
  {
   "cell_type": "code",
   "execution_count": 28,
   "metadata": {
    "tags": []
   },
   "outputs": [
    {
     "name": "stdout",
     "output_type": "stream",
     "text": [
      "Hel\n",
      "lo, World!\n"
     ]
    }
   ],
   "source": [
    "f = open('file.txt')#, 'r')\n",
    "print(f.read(3))\n",
    "print(f.read())"
   ]
  },
  {
   "cell_type": "markdown",
   "metadata": {},
   "source": [
    "## Произвольный доступ"
   ]
  },
  {
   "cell_type": "markdown",
   "metadata": {},
   "source": [
    "seek(offset [, whence])\n",
    "    \n",
    "    offset – смещение в байтах относительно начала файла\n",
    "    whence – по умолчанию равен нулю, указывает на то, что смещение берется относительно начала файла\n",
    "  \n",
    "tell() возвращает текущую позицию файла"
   ]
  },
  {
   "cell_type": "code",
   "execution_count": 32,
   "metadata": {
    "tags": []
   },
   "outputs": [
    {
     "name": "stdout",
     "output_type": "stream",
     "text": [
      "20\n"
     ]
    },
    {
     "ename": "ValueError",
     "evalue": "negative seek position -1",
     "output_type": "error",
     "traceback": [
      "\u001b[1;31m---------------------------------------------------------------------------\u001b[0m",
      "\u001b[1;31mValueError\u001b[0m                                Traceback (most recent call last)",
      "Cell \u001b[1;32mIn[32], line 4\u001b[0m\n\u001b[0;32m      2\u001b[0m f\u001b[38;5;241m.\u001b[39mwrite(\u001b[38;5;124m'\u001b[39m\u001b[38;5;124m01234567890123456789\u001b[39m\u001b[38;5;124m'\u001b[39m)\n\u001b[0;32m      3\u001b[0m \u001b[38;5;28mprint\u001b[39m(f\u001b[38;5;241m.\u001b[39mtell())\n\u001b[1;32m----> 4\u001b[0m f\u001b[38;5;241m.\u001b[39mseek(\u001b[38;5;241m-\u001b[39m\u001b[38;5;241m1\u001b[39m)\n\u001b[0;32m      5\u001b[0m f\u001b[38;5;241m.\u001b[39mwrite(\u001b[38;5;124m'\u001b[39m\u001b[38;5;124mHello, World!\u001b[39m\u001b[38;5;124m'\u001b[39m)\n\u001b[0;32m      6\u001b[0m \u001b[38;5;28mprint\u001b[39m(f\u001b[38;5;241m.\u001b[39mtell())\n",
      "\u001b[1;31mValueError\u001b[0m: negative seek position -1"
     ]
    }
   ],
   "source": [
    "f = open(r'my_file_2.txt', 'w')\n",
    "f.write('01234567890123456789')\n",
    "print(f.tell())\n",
    "f.seek(5)\n",
    "f.write('Hello, World!')\n",
    "print(f.tell())\n",
    "\n",
    "f.close()\n",
    "f = open(r'my_file_2.txt')\n",
    "f.read()"
   ]
  },
  {
   "cell_type": "code",
   "execution_count": null,
   "metadata": {},
   "outputs": [],
   "source": [
    "print(r'C:\\nanay.txt')"
   ]
  },
  {
   "cell_type": "markdown",
   "metadata": {},
   "source": [
    "## Построчная работа с файлами"
   ]
  },
  {
   "cell_type": "markdown",
   "metadata": {},
   "source": [
    "file.readline()\n",
    "     \n",
    "     без параметра читает всю строку\n",
    "     параметр указывает максимальное число символов строки, которое будет прочитано\n",
    "\n",
    "file.readlines()     \n",
    "     \n",
    "     Прочитать все строки и вернуть список строк\n",
    "\n",
    "file.writelines()\n",
    "    \n",
    "    Записать строки в файл\n",
    "\n"
   ]
  },
  {
   "cell_type": "code",
   "execution_count": 33,
   "metadata": {
    "tags": []
   },
   "outputs": [],
   "source": [
    "f = open(r'my_file2.txt')\n",
    "lines = f.readlines()\n",
    "f.close()\n",
    "lines[2] = \"This is my_file2 \\n\" # изменяем 1-ю строку\n",
    "f = open(r'my_file2.txt','w')\n",
    "f.writelines(lines)\n",
    "f.close()"
   ]
  },
  {
   "cell_type": "code",
   "execution_count": 34,
   "metadata": {
    "tags": []
   },
   "outputs": [
    {
     "data": {
      "text/plain": [
       "['This is my_file2 \\n',\n",
       " '565 56 45\\n',\n",
       " 'This is my_file2 \\n',\n",
       " 'The world is beautiful...']"
      ]
     },
     "execution_count": 34,
     "metadata": {},
     "output_type": "execute_result"
    }
   ],
   "source": [
    "lines"
   ]
  },
  {
   "cell_type": "code",
   "execution_count": 35,
   "metadata": {
    "tags": []
   },
   "outputs": [
    {
     "name": "stdout",
     "output_type": "stream",
     "text": [
      "['This is my_file2', '565 56 45', 'This is my_file2', 'The world is beautiful...']\n"
     ]
    }
   ],
   "source": [
    "lines = list(map(str.strip, lines))\n",
    "print(lines)"
   ]
  },
  {
   "cell_type": "code",
   "execution_count": 36,
   "metadata": {
    "tags": []
   },
   "outputs": [],
   "source": [
    "new_lines=[]\n",
    "for el in lines:\n",
    "    new_lines.append(el.strip())"
   ]
  },
  {
   "cell_type": "code",
   "execution_count": 37,
   "metadata": {
    "tags": []
   },
   "outputs": [
    {
     "data": {
      "text/plain": [
       "['This is my_file2',\n",
       " '565 56 45',\n",
       " 'This is my_file2',\n",
       " 'The world is beautiful...']"
      ]
     },
     "execution_count": 37,
     "metadata": {},
     "output_type": "execute_result"
    }
   ],
   "source": [
    "new_lines"
   ]
  },
  {
   "cell_type": "code",
   "execution_count": 38,
   "metadata": {
    "tags": []
   },
   "outputs": [
    {
     "data": {
      "text/plain": [
       "'dfgdfg'"
      ]
     },
     "execution_count": 38,
     "metadata": {},
     "output_type": "execute_result"
    }
   ],
   "source": [
    "s= '  dfgdfg\\n'\n",
    "s = s.strip()\n",
    "s"
   ]
  },
  {
   "cell_type": "code",
   "execution_count": 39,
   "metadata": {
    "tags": []
   },
   "outputs": [
    {
     "data": {
      "text/plain": [
       "['This is my_file2',\n",
       " '565 56 45',\n",
       " 'This is my_file2',\n",
       " 'The world is beautiful...']"
      ]
     },
     "execution_count": 39,
     "metadata": {},
     "output_type": "execute_result"
    }
   ],
   "source": [
    "lines"
   ]
  },
  {
   "cell_type": "markdown",
   "metadata": {},
   "source": [
    "## Закрытие файла"
   ]
  },
  {
   "cell_type": "markdown",
   "metadata": {},
   "source": [
    "close()\n",
    "\n",
    "Обычно файл закрывается сам по окончании работы программы, но их нужно закрывать вручную по нескольким причинам:\n",
    "1.\tПитон может буферизировать запись в файл ваших данных, что может привести к неожиданным эффектам и возникновению ошибок.\n",
    "2.\tУ операционной системы есть ограничение на число одновременно открытых файлов.\n",
    "3.\tПри доступе к файлу из разных мест одновременно и на чтение, и на запись необходимо синхронизировать файловые операции. Буферизация записи может привести к тому, что запись уже произошла, а данных в файле еще нет.\n",
    "\n",
    "Для полной уверенности в закрытии файла можно использовать блок try/finally:\n",
    "\n",
    "    try:\n",
    "   \n",
    "       Тут идет запись в файл\n",
    "   \n",
    "    finally:\n",
    "\n",
    "       file.close()\n",
    "\n",
    "Можно также использовать менеджер контекста, который в любом случае закроет файл:\n",
    "\n",
    "    with open(\"my_file\") as somefile:\n",
    "        do_something(somefile)\n",
    "\n",
    "Если вы все же не хотите закрывать файл, то синхронизировать многопользовательский доступ к файлу на чтение/запись можно с помощью функции flush(), которая актуализирует все операции записи на диск. При этом возможна блокировка файла на чтение.\n"
   ]
  },
  {
   "cell_type": "code",
   "execution_count": 40,
   "metadata": {
    "tags": []
   },
   "outputs": [],
   "source": [
    "with open('file.txt', 'w') as f:\n",
    "    f.write('Hello, ')\n",
    "    f.write('World!')"
   ]
  },
  {
   "cell_type": "markdown",
   "metadata": {},
   "source": [
    "## Итерация"
   ]
  },
  {
   "cell_type": "code",
   "execution_count": 41,
   "metadata": {
    "tags": []
   },
   "outputs": [
    {
     "name": "stdout",
     "output_type": "stream",
     "text": [
      "Hel***lo,*** Wo***rld***!\n",
      "5***65 ***56 ***45\n",
      "***Hel***lo,*** he***llo***, h***ell***o, ***my ***Wor***ld!***\n",
      "Th***e w***orl***d i***s b***eau***tif***ul.***..***"
     ]
    }
   ],
   "source": [
    "filename = 'my_file.txt'\n",
    "f = open(filename)\n",
    "while True:\n",
    "    c = f.read(3)\n",
    "    if not c: break\n",
    "    print(c, end='***')\n",
    "f.close()"
   ]
  },
  {
   "cell_type": "code",
   "execution_count": 44,
   "metadata": {
    "tags": []
   },
   "outputs": [
    {
     "name": "stdout",
     "output_type": "stream",
     "text": [
      "Hello, World!\n",
      "565 56 45\n",
      "Hello, hello, hello, my World!\n",
      "The world is beautiful..."
     ]
    }
   ],
   "source": [
    "f = open(filename)\n",
    "while True:\n",
    "    l = f.readline()\n",
    "    if not l: break\n",
    "    print(l, end='')\n",
    "f.close()    "
   ]
  },
  {
   "cell_type": "code",
   "execution_count": 45,
   "metadata": {
    "tags": []
   },
   "outputs": [
    {
     "name": "stdout",
     "output_type": "stream",
     "text": [
      "Hello, World!\n",
      "\n",
      "565 56 45\n",
      "\n",
      "Hello, hello, hello, my World!\n",
      "\n",
      "The world is beautiful...\n"
     ]
    }
   ],
   "source": [
    "for line in open(filename):\n",
    "    print(line)"
   ]
  },
  {
   "cell_type": "markdown",
   "metadata": {},
   "source": [
    "## Работа с файловой системой"
   ]
  },
  {
   "cell_type": "code",
   "execution_count": 46,
   "metadata": {
    "tags": []
   },
   "outputs": [
    {
     "name": "stdout",
     "output_type": "stream",
     "text": [
      "c:\\programs\\Магистры\\Лекция 4. Словари. Файлы. Исключения\n"
     ]
    }
   ],
   "source": [
    "import os\n",
    "cwd = os.getcwd()\n",
    "print(cwd)"
   ]
  },
  {
   "cell_type": "code",
   "execution_count": 48,
   "metadata": {
    "tags": []
   },
   "outputs": [
    {
     "data": {
      "text/plain": [
       "True"
      ]
     },
     "execution_count": 48,
     "metadata": {},
     "output_type": "execute_result"
    }
   ],
   "source": [
    "os.path.exists('my_file.txt')"
   ]
  },
  {
   "cell_type": "code",
   "execution_count": 49,
   "metadata": {
    "tags": []
   },
   "outputs": [
    {
     "data": {
      "text/plain": [
       "['11', '123', 'Документ Microsoft Word.docx', 'Текстовый документ.txt']"
      ]
     },
     "execution_count": 49,
     "metadata": {},
     "output_type": "execute_result"
    }
   ],
   "source": [
    "#os.listdir(os.getcwd())\n",
    "os.listdir(\"1\")"
   ]
  },
  {
   "cell_type": "code",
   "execution_count": 50,
   "metadata": {
    "tags": []
   },
   "outputs": [
    {
     "name": "stdout",
     "output_type": "stream",
     "text": [
      "1\\11\\123\\Текстовый документ.txt \n",
      "\tCreation time = Sun Sep 15 16:39:02 2024\n",
      "1\\11\\Текстовый документ.txt \n",
      "\tCreation time = Sun Sep 15 16:39:02 2024\n",
      "1\\123\\33\\Презентация Microsoft PowerPoint.pptx \n",
      "\tCreation time = Sun Sep 15 16:39:02 2024\n",
      "1\\Документ Microsoft Word.docx \n",
      "\tCreation time = Sun Sep 15 16:39:02 2024\n",
      "1\\Текстовый документ.txt \n",
      "\tCreation time = Sun Sep 15 16:39:02 2024\n"
     ]
    }
   ],
   "source": [
    "import os\n",
    "import time\n",
    "\n",
    "\n",
    "def walk(dir):\n",
    "    for name in os.listdir(dir):\n",
    "        path = os.path.join(dir, name)\n",
    "        if os.path.isfile(path):\n",
    "            print(path, '\\n\\tCreation time =', time.ctime(os.path.getctime(path)))\n",
    "        else:\n",
    "            walk(path)\n",
    "walk('1')"
   ]
  },
  {
   "cell_type": "code",
   "execution_count": 52,
   "metadata": {
    "tags": []
   },
   "outputs": [],
   "source": [
    "name=r'1\\Текстовый документ.txt'\n",
    "for line in open(name):\n",
    "    print(line)"
   ]
  },
  {
   "cell_type": "code",
   "execution_count": null,
   "metadata": {},
   "outputs": [],
   "source": [
    "def del_empty_dirs(path):\n",
    "    for dir_ in os.listdir(path):\n",
    "        d = os.path.join(path, dir_)\n",
    "        if os.path.isdir(d):\n",
    "            del_empty_dirs(d)\n",
    "            if not os.listdir(d):\n",
    "                os.rmdir(d)\n",
    "del_empty_dirs('1')"
   ]
  },
  {
   "cell_type": "code",
   "execution_count": 53,
   "metadata": {
    "tags": []
   },
   "outputs": [
    {
     "name": "stdout",
     "output_type": "stream",
     "text": [
      "dirpath 1\\\n",
      "dirnames ['11', '123']\n",
      "filenames ['Документ Microsoft Word.docx', 'Текстовый документ.txt']\n",
      "2\\\n",
      "!!!!!!!!!!!!!\n",
      "\t Документ Microsoft Word.docx\n",
      "\t Текстовый документ.txt\n",
      "dirpath 1\\11\n",
      "dirnames ['123']\n",
      "filenames ['Текстовый документ.txt']\n",
      "2\\11\n",
      "!!!!!!!!!!!!!\n",
      "\t Текстовый документ.txt\n",
      "dirpath 1\\11\\123\n",
      "dirnames []\n",
      "filenames ['Текстовый документ.txt']\n",
      "2\\11\\123\n",
      "!!!!!!!!!!!!!\n",
      "\t Текстовый документ.txt\n",
      "dirpath 1\\123\n",
      "dirnames ['33']\n",
      "filenames []\n",
      "2\\123\n",
      "!!!!!!!!!!!!!\n",
      "dirpath 1\\123\\33\n",
      "dirnames []\n",
      "filenames ['Презентация Microsoft PowerPoint.pptx']\n",
      "2\\123\\33\n",
      "!!!!!!!!!!!!!\n",
      "\t Презентация Microsoft PowerPoint.pptx\n"
     ]
    }
   ],
   "source": [
    "input_path = '1\\\\'\n",
    "output_path = '2\\\\'\n",
    "\n",
    "for dirpath, dirnames, filenames in os.walk(input_path):\n",
    "    \n",
    "    print('dirpath', dirpath)\n",
    "    print('dirnames', dirnames)\n",
    "    print('filenames', filenames)\n",
    "    \n",
    "    structure = output_path + dirpath[len(input_path):]\n",
    "    print(structure)    \n",
    "    if not os.path.isdir(structure):\n",
    "        os.mkdir(structure)\n",
    "        print('!!!!!!!!!!!!!')\n",
    "    for file in filenames:\n",
    "        print('\\t',file)       "
   ]
  },
  {
   "cell_type": "code",
   "execution_count": 54,
   "metadata": {
    "tags": []
   },
   "outputs": [],
   "source": [
    "import json\n",
    "import io"
   ]
  },
  {
   "cell_type": "code",
   "execution_count": 55,
   "metadata": {
    "scrolled": true,
    "tags": []
   },
   "outputs": [
    {
     "data": {
      "text/plain": [
       "{0: {'list': [0, 0, 0, 0, 0], 'i': 0, 'str': '0ё'},\n",
       " 1: {'list': [1, 1, 1, 1, 1], 'i': 1, 'str': '1ё'},\n",
       " 2: {'list': [2, 2, 2, 2, 2], 'i': 2, 'str': '2ё'},\n",
       " 3: {'list': [3, 3, 3, 3, 3], 'i': 3, 'str': '3ё'},\n",
       " 4: {'list': [4, 4, 4, 4, 4], 'i': 4, 'str': '4ё'},\n",
       " 5: {'list': [5, 5, 5, 5, 5], 'i': 5, 'str': '5ё'},\n",
       " 6: {'list': [6, 6, 6, 6, 6], 'i': 6, 'str': '6ё'},\n",
       " 7: {'list': [7, 7, 7, 7, 7], 'i': 7, 'str': '7ё'},\n",
       " 8: {'list': [8, 8, 8, 8, 8], 'i': 8, 'str': '8ё'},\n",
       " 9: {'list': [9, 9, 9, 9, 9], 'i': 9, 'str': '9ё'},\n",
       " 10: {'list': [10, 10, 10, 10, 10], 'i': 10, 'str': '10ё'},\n",
       " 11: {'list': [11, 11, 11, 11, 11], 'i': 11, 'str': '11ё'},\n",
       " 12: {'list': [12, 12, 12, 12, 12], 'i': 12, 'str': '12ё'},\n",
       " 13: {'list': [13, 13, 13, 13, 13], 'i': 13, 'str': '13ё'},\n",
       " 14: {'list': [14, 14, 14, 14, 14], 'i': 14, 'str': '14ё'},\n",
       " 15: {'list': [15, 15, 15, 15, 15], 'i': 15, 'str': '15ё'},\n",
       " 16: {'list': [16, 16, 16, 16, 16], 'i': 16, 'str': '16ё'},\n",
       " 17: {'list': [17, 17, 17, 17, 17], 'i': 17, 'str': '17ё'},\n",
       " 18: {'list': [18, 18, 18, 18, 18], 'i': 18, 'str': '18ё'},\n",
       " 19: {'list': [19, 19, 19, 19, 19], 'i': 19, 'str': '19ё'},\n",
       " 20: {'list': [20, 20, 20, 20, 20], 'i': 20, 'str': '20ё'},\n",
       " 21: {'list': [21, 21, 21, 21, 21], 'i': 21, 'str': '21ё'},\n",
       " 22: {'list': [22, 22, 22, 22, 22], 'i': 22, 'str': '22ё'},\n",
       " 23: {'list': [23, 23, 23, 23, 23], 'i': 23, 'str': '23ё'},\n",
       " 24: {'list': [24, 24, 24, 24, 24], 'i': 24, 'str': '24ё'},\n",
       " 25: {'list': [25, 25, 25, 25, 25], 'i': 25, 'str': '25ё'},\n",
       " 26: {'list': [26, 26, 26, 26, 26], 'i': 26, 'str': '26ё'},\n",
       " 27: {'list': [27, 27, 27, 27, 27], 'i': 27, 'str': '27ё'},\n",
       " 28: {'list': [28, 28, 28, 28, 28], 'i': 28, 'str': '28ё'},\n",
       " 29: {'list': [29, 29, 29, 29, 29], 'i': 29, 'str': '29ё'},\n",
       " 30: {'list': [30, 30, 30, 30, 30], 'i': 30, 'str': '30ё'},\n",
       " 31: {'list': [31, 31, 31, 31, 31], 'i': 31, 'str': '31ё'},\n",
       " 32: {'list': [32, 32, 32, 32, 32], 'i': 32, 'str': '32ё'},\n",
       " 33: {'list': [33, 33, 33, 33, 33], 'i': 33, 'str': '33ё'},\n",
       " 34: {'list': [34, 34, 34, 34, 34], 'i': 34, 'str': '34ё'},\n",
       " 35: {'list': [35, 35, 35, 35, 35], 'i': 35, 'str': '35ё'},\n",
       " 36: {'list': [36, 36, 36, 36, 36], 'i': 36, 'str': '36ё'},\n",
       " 37: {'list': [37, 37, 37, 37, 37], 'i': 37, 'str': '37ё'},\n",
       " 38: {'list': [38, 38, 38, 38, 38], 'i': 38, 'str': '38ё'},\n",
       " 39: {'list': [39, 39, 39, 39, 39], 'i': 39, 'str': '39ё'},\n",
       " 40: {'list': [40, 40, 40, 40, 40], 'i': 40, 'str': '40ё'},\n",
       " 41: {'list': [41, 41, 41, 41, 41], 'i': 41, 'str': '41ё'},\n",
       " 42: {'list': [42, 42, 42, 42, 42], 'i': 42, 'str': '42ё'},\n",
       " 43: {'list': [43, 43, 43, 43, 43], 'i': 43, 'str': '43ё'},\n",
       " 44: {'list': [44, 44, 44, 44, 44], 'i': 44, 'str': '44ё'},\n",
       " 45: {'list': [45, 45, 45, 45, 45], 'i': 45, 'str': '45ё'},\n",
       " 46: {'list': [46, 46, 46, 46, 46], 'i': 46, 'str': '46ё'},\n",
       " 47: {'list': [47, 47, 47, 47, 47], 'i': 47, 'str': '47ё'},\n",
       " 48: {'list': [48, 48, 48, 48, 48], 'i': 48, 'str': '48ё'},\n",
       " 49: {'list': [49, 49, 49, 49, 49], 'i': 49, 'str': '49ё'},\n",
       " 50: {'list': [50, 50, 50, 50, 50], 'i': 50, 'str': '50ё'},\n",
       " 51: {'list': [51, 51, 51, 51, 51], 'i': 51, 'str': '51ё'},\n",
       " 52: {'list': [52, 52, 52, 52, 52], 'i': 52, 'str': '52ё'},\n",
       " 53: {'list': [53, 53, 53, 53, 53], 'i': 53, 'str': '53ё'},\n",
       " 54: {'list': [54, 54, 54, 54, 54], 'i': 54, 'str': '54ё'},\n",
       " 55: {'list': [55, 55, 55, 55, 55], 'i': 55, 'str': '55ё'},\n",
       " 56: {'list': [56, 56, 56, 56, 56], 'i': 56, 'str': '56ё'},\n",
       " 57: {'list': [57, 57, 57, 57, 57], 'i': 57, 'str': '57ё'},\n",
       " 58: {'list': [58, 58, 58, 58, 58], 'i': 58, 'str': '58ё'},\n",
       " 59: {'list': [59, 59, 59, 59, 59], 'i': 59, 'str': '59ё'},\n",
       " 60: {'list': [60, 60, 60, 60, 60], 'i': 60, 'str': '60ё'},\n",
       " 61: {'list': [61, 61, 61, 61, 61], 'i': 61, 'str': '61ё'},\n",
       " 62: {'list': [62, 62, 62, 62, 62], 'i': 62, 'str': '62ё'},\n",
       " 63: {'list': [63, 63, 63, 63, 63], 'i': 63, 'str': '63ё'},\n",
       " 64: {'list': [64, 64, 64, 64, 64], 'i': 64, 'str': '64ё'},\n",
       " 65: {'list': [65, 65, 65, 65, 65], 'i': 65, 'str': '65ё'},\n",
       " 66: {'list': [66, 66, 66, 66, 66], 'i': 66, 'str': '66ё'},\n",
       " 67: {'list': [67, 67, 67, 67, 67], 'i': 67, 'str': '67ё'},\n",
       " 68: {'list': [68, 68, 68, 68, 68], 'i': 68, 'str': '68ё'},\n",
       " 69: {'list': [69, 69, 69, 69, 69], 'i': 69, 'str': '69ё'},\n",
       " 70: {'list': [70, 70, 70, 70, 70], 'i': 70, 'str': '70ё'},\n",
       " 71: {'list': [71, 71, 71, 71, 71], 'i': 71, 'str': '71ё'},\n",
       " 72: {'list': [72, 72, 72, 72, 72], 'i': 72, 'str': '72ё'},\n",
       " 73: {'list': [73, 73, 73, 73, 73], 'i': 73, 'str': '73ё'},\n",
       " 74: {'list': [74, 74, 74, 74, 74], 'i': 74, 'str': '74ё'},\n",
       " 75: {'list': [75, 75, 75, 75, 75], 'i': 75, 'str': '75ё'},\n",
       " 76: {'list': [76, 76, 76, 76, 76], 'i': 76, 'str': '76ё'},\n",
       " 77: {'list': [77, 77, 77, 77, 77], 'i': 77, 'str': '77ё'},\n",
       " 78: {'list': [78, 78, 78, 78, 78], 'i': 78, 'str': '78ё'},\n",
       " 79: {'list': [79, 79, 79, 79, 79], 'i': 79, 'str': '79ё'},\n",
       " 80: {'list': [80, 80, 80, 80, 80], 'i': 80, 'str': '80ё'},\n",
       " 81: {'list': [81, 81, 81, 81, 81], 'i': 81, 'str': '81ё'},\n",
       " 82: {'list': [82, 82, 82, 82, 82], 'i': 82, 'str': '82ё'},\n",
       " 83: {'list': [83, 83, 83, 83, 83], 'i': 83, 'str': '83ё'},\n",
       " 84: {'list': [84, 84, 84, 84, 84], 'i': 84, 'str': '84ё'},\n",
       " 85: {'list': [85, 85, 85, 85, 85], 'i': 85, 'str': '85ё'},\n",
       " 86: {'list': [86, 86, 86, 86, 86], 'i': 86, 'str': '86ё'},\n",
       " 87: {'list': [87, 87, 87, 87, 87], 'i': 87, 'str': '87ё'},\n",
       " 88: {'list': [88, 88, 88, 88, 88], 'i': 88, 'str': '88ё'},\n",
       " 89: {'list': [89, 89, 89, 89, 89], 'i': 89, 'str': '89ё'},\n",
       " 90: {'list': [90, 90, 90, 90, 90], 'i': 90, 'str': '90ё'},\n",
       " 91: {'list': [91, 91, 91, 91, 91], 'i': 91, 'str': '91ё'},\n",
       " 92: {'list': [92, 92, 92, 92, 92], 'i': 92, 'str': '92ё'},\n",
       " 93: {'list': [93, 93, 93, 93, 93], 'i': 93, 'str': '93ё'},\n",
       " 94: {'list': [94, 94, 94, 94, 94], 'i': 94, 'str': '94ё'},\n",
       " 95: {'list': [95, 95, 95, 95, 95], 'i': 95, 'str': '95ё'},\n",
       " 96: {'list': [96, 96, 96, 96, 96], 'i': 96, 'str': '96ё'},\n",
       " 97: {'list': [97, 97, 97, 97, 97], 'i': 97, 'str': '97ё'},\n",
       " 98: {'list': [98, 98, 98, 98, 98], 'i': 98, 'str': '98ё'},\n",
       " 99: {'list': [99, 99, 99, 99, 99], 'i': 99, 'str': '99ё'}}"
      ]
     },
     "execution_count": 55,
     "metadata": {},
     "output_type": "execute_result"
    }
   ],
   "source": [
    "res = dict()\n",
    "for i in range(100):\n",
    "    res[i]=dict()\n",
    "    res[i]['list'] = [i] * 5\n",
    "    res[i]['i']=i\n",
    "    res[i]['str']=str(i) + 'ё'\n",
    "res   "
   ]
  },
  {
   "cell_type": "code",
   "execution_count": 59,
   "metadata": {
    "tags": []
   },
   "outputs": [],
   "source": [
    "with io.open('json_file.json', 'w', encoding='utf-8') as f:   \n",
    "    json.dump(res, f, ensure_ascii=False, indent=1)"
   ]
  },
  {
   "cell_type": "code",
   "execution_count": 62,
   "metadata": {
    "tags": []
   },
   "outputs": [
    {
     "ename": "JSONDecodeError",
     "evalue": "Expecting ',' delimiter: line 9 column 5 (char 60)",
     "output_type": "error",
     "traceback": [
      "\u001b[1;31m---------------------------------------------------------------------------\u001b[0m",
      "\u001b[1;31mJSONDecodeError\u001b[0m                           Traceback (most recent call last)",
      "Cell \u001b[1;32mIn[62], line 2\u001b[0m\n\u001b[0;32m      1\u001b[0m \u001b[38;5;28;01mwith\u001b[39;00m io\u001b[38;5;241m.\u001b[39mopen(\u001b[38;5;124m'\u001b[39m\u001b[38;5;124mjson_file.json\u001b[39m\u001b[38;5;124m'\u001b[39m, \u001b[38;5;124m'\u001b[39m\u001b[38;5;124mr\u001b[39m\u001b[38;5;124m'\u001b[39m, encoding\u001b[38;5;241m=\u001b[39m\u001b[38;5;124m'\u001b[39m\u001b[38;5;124mutf-8\u001b[39m\u001b[38;5;124m'\u001b[39m) \u001b[38;5;28;01mas\u001b[39;00m f:   \n\u001b[1;32m----> 2\u001b[0m     res_from_file \u001b[38;5;241m=\u001b[39m json\u001b[38;5;241m.\u001b[39mload(f)\n",
      "File \u001b[1;32mC:\\ProgramData\\anaconda3\\Lib\\json\\__init__.py:293\u001b[0m, in \u001b[0;36mload\u001b[1;34m(fp, cls, object_hook, parse_float, parse_int, parse_constant, object_pairs_hook, **kw)\u001b[0m\n\u001b[0;32m    274\u001b[0m \u001b[38;5;28;01mdef\u001b[39;00m \u001b[38;5;21mload\u001b[39m(fp, \u001b[38;5;241m*\u001b[39m, \u001b[38;5;28mcls\u001b[39m\u001b[38;5;241m=\u001b[39m\u001b[38;5;28;01mNone\u001b[39;00m, object_hook\u001b[38;5;241m=\u001b[39m\u001b[38;5;28;01mNone\u001b[39;00m, parse_float\u001b[38;5;241m=\u001b[39m\u001b[38;5;28;01mNone\u001b[39;00m,\n\u001b[0;32m    275\u001b[0m         parse_int\u001b[38;5;241m=\u001b[39m\u001b[38;5;28;01mNone\u001b[39;00m, parse_constant\u001b[38;5;241m=\u001b[39m\u001b[38;5;28;01mNone\u001b[39;00m, object_pairs_hook\u001b[38;5;241m=\u001b[39m\u001b[38;5;28;01mNone\u001b[39;00m, \u001b[38;5;241m*\u001b[39m\u001b[38;5;241m*\u001b[39mkw):\n\u001b[0;32m    276\u001b[0m \u001b[38;5;250m    \u001b[39m\u001b[38;5;124;03m\"\"\"Deserialize ``fp`` (a ``.read()``-supporting file-like object containing\u001b[39;00m\n\u001b[0;32m    277\u001b[0m \u001b[38;5;124;03m    a JSON document) to a Python object.\u001b[39;00m\n\u001b[0;32m    278\u001b[0m \n\u001b[1;32m   (...)\u001b[0m\n\u001b[0;32m    291\u001b[0m \u001b[38;5;124;03m    kwarg; otherwise ``JSONDecoder`` is used.\u001b[39;00m\n\u001b[0;32m    292\u001b[0m \u001b[38;5;124;03m    \"\"\"\u001b[39;00m\n\u001b[1;32m--> 293\u001b[0m     \u001b[38;5;28;01mreturn\u001b[39;00m loads(fp\u001b[38;5;241m.\u001b[39mread(),\n\u001b[0;32m    294\u001b[0m         \u001b[38;5;28mcls\u001b[39m\u001b[38;5;241m=\u001b[39m\u001b[38;5;28mcls\u001b[39m, object_hook\u001b[38;5;241m=\u001b[39mobject_hook,\n\u001b[0;32m    295\u001b[0m         parse_float\u001b[38;5;241m=\u001b[39mparse_float, parse_int\u001b[38;5;241m=\u001b[39mparse_int,\n\u001b[0;32m    296\u001b[0m         parse_constant\u001b[38;5;241m=\u001b[39mparse_constant, object_pairs_hook\u001b[38;5;241m=\u001b[39mobject_pairs_hook, \u001b[38;5;241m*\u001b[39m\u001b[38;5;241m*\u001b[39mkw)\n",
      "File \u001b[1;32mC:\\ProgramData\\anaconda3\\Lib\\json\\__init__.py:346\u001b[0m, in \u001b[0;36mloads\u001b[1;34m(s, cls, object_hook, parse_float, parse_int, parse_constant, object_pairs_hook, **kw)\u001b[0m\n\u001b[0;32m    341\u001b[0m     s \u001b[38;5;241m=\u001b[39m s\u001b[38;5;241m.\u001b[39mdecode(detect_encoding(s), \u001b[38;5;124m'\u001b[39m\u001b[38;5;124msurrogatepass\u001b[39m\u001b[38;5;124m'\u001b[39m)\n\u001b[0;32m    343\u001b[0m \u001b[38;5;28;01mif\u001b[39;00m (\u001b[38;5;28mcls\u001b[39m \u001b[38;5;129;01mis\u001b[39;00m \u001b[38;5;28;01mNone\u001b[39;00m \u001b[38;5;129;01mand\u001b[39;00m object_hook \u001b[38;5;129;01mis\u001b[39;00m \u001b[38;5;28;01mNone\u001b[39;00m \u001b[38;5;129;01mand\u001b[39;00m\n\u001b[0;32m    344\u001b[0m         parse_int \u001b[38;5;129;01mis\u001b[39;00m \u001b[38;5;28;01mNone\u001b[39;00m \u001b[38;5;129;01mand\u001b[39;00m parse_float \u001b[38;5;129;01mis\u001b[39;00m \u001b[38;5;28;01mNone\u001b[39;00m \u001b[38;5;129;01mand\u001b[39;00m\n\u001b[0;32m    345\u001b[0m         parse_constant \u001b[38;5;129;01mis\u001b[39;00m \u001b[38;5;28;01mNone\u001b[39;00m \u001b[38;5;129;01mand\u001b[39;00m object_pairs_hook \u001b[38;5;129;01mis\u001b[39;00m \u001b[38;5;28;01mNone\u001b[39;00m \u001b[38;5;129;01mand\u001b[39;00m \u001b[38;5;129;01mnot\u001b[39;00m kw):\n\u001b[1;32m--> 346\u001b[0m     \u001b[38;5;28;01mreturn\u001b[39;00m _default_decoder\u001b[38;5;241m.\u001b[39mdecode(s)\n\u001b[0;32m    347\u001b[0m \u001b[38;5;28;01mif\u001b[39;00m \u001b[38;5;28mcls\u001b[39m \u001b[38;5;129;01mis\u001b[39;00m \u001b[38;5;28;01mNone\u001b[39;00m:\n\u001b[0;32m    348\u001b[0m     \u001b[38;5;28mcls\u001b[39m \u001b[38;5;241m=\u001b[39m JSONDecoder\n",
      "File \u001b[1;32mC:\\ProgramData\\anaconda3\\Lib\\json\\decoder.py:337\u001b[0m, in \u001b[0;36mJSONDecoder.decode\u001b[1;34m(self, s, _w)\u001b[0m\n\u001b[0;32m    332\u001b[0m \u001b[38;5;28;01mdef\u001b[39;00m \u001b[38;5;21mdecode\u001b[39m(\u001b[38;5;28mself\u001b[39m, s, _w\u001b[38;5;241m=\u001b[39mWHITESPACE\u001b[38;5;241m.\u001b[39mmatch):\n\u001b[0;32m    333\u001b[0m \u001b[38;5;250m    \u001b[39m\u001b[38;5;124;03m\"\"\"Return the Python representation of ``s`` (a ``str`` instance\u001b[39;00m\n\u001b[0;32m    334\u001b[0m \u001b[38;5;124;03m    containing a JSON document).\u001b[39;00m\n\u001b[0;32m    335\u001b[0m \n\u001b[0;32m    336\u001b[0m \u001b[38;5;124;03m    \"\"\"\u001b[39;00m\n\u001b[1;32m--> 337\u001b[0m     obj, end \u001b[38;5;241m=\u001b[39m \u001b[38;5;28mself\u001b[39m\u001b[38;5;241m.\u001b[39mraw_decode(s, idx\u001b[38;5;241m=\u001b[39m_w(s, \u001b[38;5;241m0\u001b[39m)\u001b[38;5;241m.\u001b[39mend())\n\u001b[0;32m    338\u001b[0m     end \u001b[38;5;241m=\u001b[39m _w(s, end)\u001b[38;5;241m.\u001b[39mend()\n\u001b[0;32m    339\u001b[0m     \u001b[38;5;28;01mif\u001b[39;00m end \u001b[38;5;241m!=\u001b[39m \u001b[38;5;28mlen\u001b[39m(s):\n",
      "File \u001b[1;32mC:\\ProgramData\\anaconda3\\Lib\\json\\decoder.py:353\u001b[0m, in \u001b[0;36mJSONDecoder.raw_decode\u001b[1;34m(self, s, idx)\u001b[0m\n\u001b[0;32m    344\u001b[0m \u001b[38;5;250m\u001b[39m\u001b[38;5;124;03m\"\"\"Decode a JSON document from ``s`` (a ``str`` beginning with\u001b[39;00m\n\u001b[0;32m    345\u001b[0m \u001b[38;5;124;03ma JSON document) and return a 2-tuple of the Python\u001b[39;00m\n\u001b[0;32m    346\u001b[0m \u001b[38;5;124;03mrepresentation and the index in ``s`` where the document ended.\u001b[39;00m\n\u001b[1;32m   (...)\u001b[0m\n\u001b[0;32m    350\u001b[0m \n\u001b[0;32m    351\u001b[0m \u001b[38;5;124;03m\"\"\"\u001b[39;00m\n\u001b[0;32m    352\u001b[0m \u001b[38;5;28;01mtry\u001b[39;00m:\n\u001b[1;32m--> 353\u001b[0m     obj, end \u001b[38;5;241m=\u001b[39m \u001b[38;5;28mself\u001b[39m\u001b[38;5;241m.\u001b[39mscan_once(s, idx)\n\u001b[0;32m    354\u001b[0m \u001b[38;5;28;01mexcept\u001b[39;00m \u001b[38;5;167;01mStopIteration\u001b[39;00m \u001b[38;5;28;01mas\u001b[39;00m err:\n\u001b[0;32m    355\u001b[0m     \u001b[38;5;28;01mraise\u001b[39;00m JSONDecodeError(\u001b[38;5;124m\"\u001b[39m\u001b[38;5;124mExpecting value\u001b[39m\u001b[38;5;124m\"\u001b[39m, s, err\u001b[38;5;241m.\u001b[39mvalue) \u001b[38;5;28;01mfrom\u001b[39;00m \u001b[38;5;28;01mNone\u001b[39;00m\n",
      "\u001b[1;31mJSONDecodeError\u001b[0m: Expecting ',' delimiter: line 9 column 5 (char 60)"
     ]
    }
   ],
   "source": [
    "with io.open('json_file.json', 'r', encoding='utf-8') as f:   \n",
    "    res_from_file = json.load(f)"
   ]
  },
  {
   "cell_type": "code",
   "execution_count": 61,
   "metadata": {
    "scrolled": true,
    "tags": []
   },
   "outputs": [
    {
     "data": {
      "text/plain": [
       "{'04553': {'list': [0, 0, 0, 0, 0], 'i': 0, 'str': '0ёtyhthh'},\n",
       " '1': {'list': [1, 1, 1, 1, 1], 'i': 1, 'str': '1ё'},\n",
       " '2': {'list': [2, 2, 2, 2, 2], 'i': 2, 'str': '2ё'},\n",
       " '3': {'list': [3, 3, 3, 3, 3], 'i': 3, 'str': '3ё'},\n",
       " '4': {'list': [4, 4, 4, 4, 4], 'i': 4, 'str': '4ё'},\n",
       " '5': {'list': [5, 5, 5, 5, 5], 'i': 5, 'str': '5ё'},\n",
       " '6': {'list': [6, 6, 6, 6, 6], 'i': 6, 'str': '6ё'},\n",
       " '7': {'list': [7, 7, 7, 7, 7], 'i': 7, 'str': '7ё'},\n",
       " '8': {'list': [8, 8, 8, 8, 8], 'i': 8, 'str': '8ё'},\n",
       " '9': {'list': [9, 9, 9, 9, 9], 'i': 9, 'str': '9ё'},\n",
       " '10': {'list': [10, 10, 10, 10, 10], 'i': 10, 'str': '10ё'},\n",
       " '11': {'list': [11, 11, 11, 11, 11], 'i': 11, 'str': '11ё'},\n",
       " '12': {'list': [12, 12, 12, 12, 12], 'i': 12, 'str': '12ё'},\n",
       " '13': {'list': [13, 13, 13, 13, 13], 'i': 13, 'str': '13ё'},\n",
       " '14': {'list': [14, 14, 14, 14, 14], 'i': 14, 'str': '14ё'},\n",
       " '15': {'list': [15, 15, 15, 15, 15], 'i': 15, 'str': '15ё'},\n",
       " '16': {'list': [16, 16, 16, 16, 16], 'i': 16, 'str': '16ё'},\n",
       " '17': {'list': [17, 17, 17, 17, 17], 'i': 17, 'str': '17ё'},\n",
       " '18': {'list': [18, 18, 18, 18, 18], 'i': 18, 'str': '18ё'},\n",
       " '19': {'list': [19, 19, 19, 19, 19], 'i': 19, 'str': '19ё'},\n",
       " '20': {'list': [20, 20, 20, 20, 20], 'i': 20, 'str': '20ё'},\n",
       " '21': {'list': [21, 21, 21, 21, 21], 'i': 21, 'str': '21ё'},\n",
       " '22': {'list': [22, 22, 22, 22, 22], 'i': 22, 'str': '22ё'},\n",
       " '23': {'list': [23, 23, 23, 23, 23], 'i': 23, 'str': '23ё'},\n",
       " '24': {'list': [24, 24, 24, 24, 24], 'i': 24, 'str': '24ё'},\n",
       " '25': {'list': [25, 25, 25, 25, 25], 'i': 25, 'str': '25ё'},\n",
       " '26': {'list': [26, 26, 26, 26, 26], 'i': 26, 'str': '26ё'},\n",
       " '27': {'list': [27, 27, 27, 27, 27], 'i': 27, 'str': '27ё'},\n",
       " '28': {'list': [28, 28, 28, 28, 28], 'i': 28, 'str': '28ё'},\n",
       " '29': {'list': [29, 29, 29, 29, 29], 'i': 29, 'str': '29ё'},\n",
       " '30': {'list': [30, 30, 30, 30, 30], 'i': 30, 'str': '30ё'},\n",
       " '31': {'list': [31, 31, 31, 31, 31], 'i': 31, 'str': '31ё'},\n",
       " '32': {'list': [32, 32, 32, 32, 32], 'i': 32, 'str': '32ё'},\n",
       " '33': {'list': [33, 33, 33, 33, 33], 'i': 33, 'str': '33ё'},\n",
       " '34': {'list': [34, 34, 34, 34, 34], 'i': 34, 'str': '34ё'},\n",
       " '35': {'list': [35, 35, 35, 35, 35], 'i': 35, 'str': '35ё'},\n",
       " '36': {'list': [36, 36, 36, 36, 36], 'i': 36, 'str': '36ё'},\n",
       " '37': {'list': [37, 37, 37, 37, 37], 'i': 37, 'str': '37ё'},\n",
       " '38': {'list': [38, 38, 38, 38, 38], 'i': 38, 'str': '38ё'},\n",
       " '39': {'list': [39, 39, 39, 39, 39], 'i': 39, 'str': '39ё'},\n",
       " '40': {'list': [40, 40, 40, 40, 40], 'i': 40, 'str': '40ё'},\n",
       " '41': {'list': [41, 41, 41, 41, 41], 'i': 41, 'str': '41ё'},\n",
       " '42': {'list': [42, 42, 42, 42, 42], 'i': 42, 'str': '42ё'},\n",
       " '43': {'list': [43, 43, 43, 43, 43], 'i': 43, 'str': '43ё'},\n",
       " '44': {'list': [44, 44, 44, 44, 44], 'i': 44, 'str': '44ё'},\n",
       " '45': {'list': [45, 45, 45, 45, 45], 'i': 45, 'str': '45ё'},\n",
       " '46': {'list': [46, 46, 46, 46, 46], 'i': 46, 'str': '46ё'},\n",
       " '47': {'list': [47, 47, 47, 47, 47], 'i': 47, 'str': '47ё'},\n",
       " '48': {'list': [48, 48, 48, 48, 48], 'i': 48, 'str': '48ё'},\n",
       " '49': {'list': [49, 49, 49, 49, 49], 'i': 49, 'str': '49ё'},\n",
       " '50': {'list': [50, 50, 50, 50, 50], 'i': 50, 'str': '50ё'},\n",
       " '51': {'list': [51, 51, 51, 51, 51], 'i': 51, 'str': '51ё'},\n",
       " '52': {'list': [52, 52, 52, 52, 52], 'i': 52, 'str': '52ё'},\n",
       " '53': {'list': [53, 53, 53, 53, 53], 'i': 53, 'str': '53ё'},\n",
       " '54': {'list': [54, 54, 54, 54, 54], 'i': 54, 'str': '54ё'},\n",
       " '55': {'list': [55, 55, 55, 55, 55], 'i': 55, 'str': '55ё'},\n",
       " '56': {'list': [56, 56, 56, 56, 56], 'i': 56, 'str': '56ё'},\n",
       " '57': {'list': [57, 57, 57, 57, 57], 'i': 57, 'str': '57ё'},\n",
       " '58': {'list': [58, 58, 58, 58, 58], 'i': 58, 'str': '58ё'},\n",
       " '59': {'list': [59, 59, 59, 59, 59], 'i': 59, 'str': '59ё'},\n",
       " '60': {'list': [60, 60, 60, 60, 60], 'i': 60, 'str': '60ё'},\n",
       " '61': {'list': [61, 61, 61, 61, 61], 'i': 61, 'str': '61ё'},\n",
       " '62': {'list': [62, 62, 62, 62, 62], 'i': 62, 'str': '62ё'},\n",
       " '63': {'list': [63, 63, 63, 63, 63], 'i': 63, 'str': '63ё'},\n",
       " '64': {'list': [64, 64, 64, 64, 64], 'i': 64, 'str': '64ё'},\n",
       " '65': {'list': [65, 65, 65, 65, 65], 'i': 65, 'str': '65ё'},\n",
       " '66': {'list': [66, 66, 66, 66, 66], 'i': 66, 'str': '66ё'},\n",
       " '67': {'list': [67, 67, 67, 67, 67], 'i': 67, 'str': '67ё'},\n",
       " '68': {'list': [68, 68, 68, 68, 68], 'i': 68, 'str': '68ё'},\n",
       " '69': {'list': [69, 69, 69, 69, 69], 'i': 69, 'str': '69ё'},\n",
       " '70': {'list': [70, 70, 70, 70, 70], 'i': 70, 'str': '70ё'},\n",
       " '71': {'list': [71, 71, 71, 71, 71], 'i': 71, 'str': '71ё'},\n",
       " '72': {'list': [72, 72, 72, 72, 72], 'i': 72, 'str': '72ё'},\n",
       " '73': {'list': [73, 73, 73, 73, 73], 'i': 73, 'str': '73ё'},\n",
       " '74': {'list': [74, 74, 74, 74, 74], 'i': 74, 'str': '74ё'},\n",
       " '75': {'list': [75, 75, 75, 75, 75], 'i': 75, 'str': '75ё'},\n",
       " '76': {'list': [76, 76, 76, 76, 76], 'i': 76, 'str': '76ё'},\n",
       " '77': {'list': [77, 77, 77, 77, 77], 'i': 77, 'str': '77ё'},\n",
       " '78': {'list': [78, 78, 78, 78, 78], 'i': 78, 'str': '78ё'},\n",
       " '79': {'list': [79, 79, 79, 79, 79], 'i': 79, 'str': '79ё'},\n",
       " '80': {'list': [80, 80, 80, 80, 80], 'i': 80, 'str': '80ё'},\n",
       " '81': {'list': [81, 81, 81, 81, 81], 'i': 81, 'str': '81ё'},\n",
       " '82': {'list': [82, 82, 82, 82, 82], 'i': 82, 'str': '82ё'},\n",
       " '83': {'list': [83, 83, 83, 83, 83], 'i': 83, 'str': '83ё'},\n",
       " '84': {'list': [84, 84, 84, 84, 84], 'i': 84, 'str': '84ё'},\n",
       " '85': {'list': [85, 85, 85, 85, 85], 'i': 85, 'str': '85ё'},\n",
       " '86': {'list': [86, 86, 86, 86, 86], 'i': 86, 'str': '86ё'},\n",
       " '87': {'list': [87, 87, 87, 87, 87], 'i': 87, 'str': '87ё'},\n",
       " '88': {'list': [88, 88, 88, 88, 88], 'i': 88, 'str': '88ё'},\n",
       " '89': {'list': [89, 89, 89, 89, 89], 'i': 89, 'str': '89ё'},\n",
       " '90': {'list': [90, 90, 90, 90, 90], 'i': 90, 'str': '90ё'},\n",
       " '91': {'list': [91, 91, 91, 91, 91], 'i': 91, 'str': '91ё'},\n",
       " '92': {'list': [92, 92, 92, 92, 92], 'i': 92, 'str': '92ё'},\n",
       " '93': {'list': [93, 93, 93, 93, 93], 'i': 93, 'str': '93ё'},\n",
       " '94': {'list': [94, 94, 94, 94, 94], 'i': 94, 'str': '94ё'},\n",
       " '95': {'list': [95, 95, 95, 95, 95], 'i': 95, 'str': '95ё'},\n",
       " '96': {'list': [96, 96, 96, 96, 96], 'i': 96, 'str': '96ё'},\n",
       " '97': {'list': [97, 97, 97, 97, 97], 'i': 97, 'str': '97ё'},\n",
       " '98': {'list': [98, 98, 98, 98, 98], 'i': 98, 'str': '98ё'},\n",
       " '99': {'list': [99, 99, 99, 99, 99], 'i': 99, 'str': '99ё'}}"
      ]
     },
     "execution_count": 61,
     "metadata": {},
     "output_type": "execute_result"
    }
   ],
   "source": [
    "res_from_file"
   ]
  },
  {
   "cell_type": "code",
   "execution_count": null,
   "metadata": {},
   "outputs": [],
   "source": []
  }
 ],
 "metadata": {
  "kernelspec": {
   "display_name": "Python 3 (ipykernel)",
   "language": "python",
   "name": "python3"
  },
  "language_info": {
   "codemirror_mode": {
    "name": "ipython",
    "version": 3
   },
   "file_extension": ".py",
   "mimetype": "text/x-python",
   "name": "python",
   "nbconvert_exporter": "python",
   "pygments_lexer": "ipython3",
   "version": "3.11.5"
  }
 },
 "nbformat": 4,
 "nbformat_minor": 4
}
