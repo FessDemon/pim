{
 "cells": [
  {
   "cell_type": "markdown",
   "metadata": {},
   "source": [
    "                                                Бояринцев Дмитрий Федорович"
   ]
  },
  {
   "cell_type": "markdown",
   "metadata": {},
   "source": [
    "# Лабораторная работа №6"
   ]
  },
  {
   "cell_type": "markdown",
   "metadata": {},
   "source": [
    "## Библиотека pandas"
   ]
  },
  {
   "cell_type": "code",
   "execution_count": 10,
   "metadata": {},
   "outputs": [],
   "source": [
    "import pandas as pd\n",
    "from datetime import datetime"
   ]
  },
  {
   "cell_type": "markdown",
   "metadata": {},
   "source": [
    "**1**. Таблица moscow-buildings.csv содержит информацию о годах постройки жилых домов в Москве.\n",
    "\n",
    "1) Загрузите базу данных moscow-buildings.csv и сохраните ее как df_build. Удалите из базы данных строки, в которых значения года постройки не указаны («н.д.»), а после превратите столбец house_year в числовой."
   ]
  },
  {
   "cell_type": "code",
   "execution_count": 11,
   "metadata": {},
   "outputs": [
    {
     "name": "stdout",
     "output_type": "stream",
     "text": [
      "<class 'pandas.core.frame.DataFrame'>\n",
      "Index: 29464 entries, 2281084 to 2281107\n",
      "Data columns (total 9 columns):\n",
      " #   Column         Non-Null Count  Dtype \n",
      "---  ------         --------------  ----- \n",
      " 0   full_address   29464 non-null  object\n",
      " 1   city           29464 non-null  object\n",
      " 2   address        29464 non-null  object\n",
      " 3   street_prefix  28972 non-null  object\n",
      " 4   street_name    28971 non-null  object\n",
      " 5   building       28974 non-null  object\n",
      " 6   house_id       29464 non-null  int64 \n",
      " 7   area_name      29464 non-null  object\n",
      " 8   house_year     29464 non-null  object\n",
      "dtypes: int64(1), object(8)\n",
      "memory usage: 2.2+ MB\n",
      "<class 'pandas.core.frame.DataFrame'>\n",
      "Index: 25827 entries, 2281084 to 2281107\n",
      "Data columns (total 9 columns):\n",
      " #   Column         Non-Null Count  Dtype \n",
      "---  ------         --------------  ----- \n",
      " 0   full_address   25827 non-null  object\n",
      " 1   city           25827 non-null  object\n",
      " 2   address        25827 non-null  object\n",
      " 3   street_prefix  25827 non-null  object\n",
      " 4   street_name    25827 non-null  object\n",
      " 5   building       25827 non-null  object\n",
      " 6   house_id       25827 non-null  int64 \n",
      " 7   area_name      25827 non-null  object\n",
      " 8   house_year     25827 non-null  object\n",
      "dtypes: int64(1), object(8)\n",
      "memory usage: 2.0+ MB\n"
     ]
    },
    {
     "data": {
      "text/html": [
       "<div>\n",
       "<style scoped>\n",
       "    .dataframe tbody tr th:only-of-type {\n",
       "        vertical-align: middle;\n",
       "    }\n",
       "\n",
       "    .dataframe tbody tr th {\n",
       "        vertical-align: top;\n",
       "    }\n",
       "\n",
       "    .dataframe thead th {\n",
       "        text-align: right;\n",
       "    }\n",
       "</style>\n",
       "<table border=\"1\" class=\"dataframe\">\n",
       "  <thead>\n",
       "    <tr style=\"text-align: right;\">\n",
       "      <th></th>\n",
       "      <th>full_address</th>\n",
       "      <th>city</th>\n",
       "      <th>address</th>\n",
       "      <th>street_prefix</th>\n",
       "      <th>street_name</th>\n",
       "      <th>building</th>\n",
       "      <th>house_id</th>\n",
       "      <th>area_name</th>\n",
       "      <th>house_year</th>\n",
       "    </tr>\n",
       "    <tr>\n",
       "      <th>area_id</th>\n",
       "      <th></th>\n",
       "      <th></th>\n",
       "      <th></th>\n",
       "      <th></th>\n",
       "      <th></th>\n",
       "      <th></th>\n",
       "      <th></th>\n",
       "      <th></th>\n",
       "      <th></th>\n",
       "    </tr>\n",
       "  </thead>\n",
       "  <tbody>\n",
       "    <tr>\n",
       "      <th>2281084</th>\n",
       "      <td>г Москва п Загорье д.10</td>\n",
       "      <td>Москва</td>\n",
       "      <td>п Загорье д.10</td>\n",
       "      <td>п</td>\n",
       "      <td>Загорье</td>\n",
       "      <td>д.10</td>\n",
       "      <td>7569627</td>\n",
       "      <td>муниципальный округ Бирюлево Восточное</td>\n",
       "      <td>1968</td>\n",
       "    </tr>\n",
       "    <tr>\n",
       "      <th>2281084</th>\n",
       "      <td>г Москва п Загорье д.3</td>\n",
       "      <td>Москва</td>\n",
       "      <td>п Загорье д.3</td>\n",
       "      <td>п</td>\n",
       "      <td>Загорье</td>\n",
       "      <td>д.3</td>\n",
       "      <td>7569823</td>\n",
       "      <td>муниципальный округ Бирюлево Восточное</td>\n",
       "      <td>1964</td>\n",
       "    </tr>\n",
       "    <tr>\n",
       "      <th>2281084</th>\n",
       "      <td>г Москва п Загорье д.4</td>\n",
       "      <td>Москва</td>\n",
       "      <td>п Загорье д.4</td>\n",
       "      <td>п</td>\n",
       "      <td>Загорье</td>\n",
       "      <td>д.4</td>\n",
       "      <td>7569840</td>\n",
       "      <td>муниципальный округ Бирюлево Восточное</td>\n",
       "      <td>1972</td>\n",
       "    </tr>\n",
       "    <tr>\n",
       "      <th>2281084</th>\n",
       "      <td>г Москва п Загорье д.5</td>\n",
       "      <td>Москва</td>\n",
       "      <td>п Загорье д.5</td>\n",
       "      <td>п</td>\n",
       "      <td>Загорье</td>\n",
       "      <td>д.5</td>\n",
       "      <td>7569862</td>\n",
       "      <td>муниципальный округ Бирюлево Восточное</td>\n",
       "      <td>1963</td>\n",
       "    </tr>\n",
       "    <tr>\n",
       "      <th>2281084</th>\n",
       "      <td>г Москва п Загорье д.8</td>\n",
       "      <td>Москва</td>\n",
       "      <td>п Загорье д.8</td>\n",
       "      <td>п</td>\n",
       "      <td>Загорье</td>\n",
       "      <td>д.8</td>\n",
       "      <td>7569888</td>\n",
       "      <td>муниципальный округ Бирюлево Восточное</td>\n",
       "      <td>1963</td>\n",
       "    </tr>\n",
       "    <tr>\n",
       "      <th>...</th>\n",
       "      <td>...</td>\n",
       "      <td>...</td>\n",
       "      <td>...</td>\n",
       "      <td>...</td>\n",
       "      <td>...</td>\n",
       "      <td>...</td>\n",
       "      <td>...</td>\n",
       "      <td>...</td>\n",
       "      <td>...</td>\n",
       "    </tr>\n",
       "    <tr>\n",
       "      <th>2281107</th>\n",
       "      <td>г Москва ул Короленко д.7 кор.2</td>\n",
       "      <td>Москва</td>\n",
       "      <td>ул Короленко д.7 кор.2</td>\n",
       "      <td>ул</td>\n",
       "      <td>Короленко</td>\n",
       "      <td>д.7 кор.2</td>\n",
       "      <td>7630827</td>\n",
       "      <td>муниципальный округ Сокольники</td>\n",
       "      <td>1926</td>\n",
       "    </tr>\n",
       "    <tr>\n",
       "      <th>2281107</th>\n",
       "      <td>г Москва ул Маленковская д.3</td>\n",
       "      <td>Москва</td>\n",
       "      <td>ул Маленковская д.3</td>\n",
       "      <td>ул</td>\n",
       "      <td>Маленковская</td>\n",
       "      <td>д.3</td>\n",
       "      <td>8280705</td>\n",
       "      <td>муниципальный округ Сокольники</td>\n",
       "      <td>1997</td>\n",
       "    </tr>\n",
       "    <tr>\n",
       "      <th>2281107</th>\n",
       "      <td>г Москва ул Русаковская д.31</td>\n",
       "      <td>Москва</td>\n",
       "      <td>ул Русаковская д.31</td>\n",
       "      <td>ул</td>\n",
       "      <td>Русаковская</td>\n",
       "      <td>д.31</td>\n",
       "      <td>7550765</td>\n",
       "      <td>муниципальный округ Сокольники</td>\n",
       "      <td>2009</td>\n",
       "    </tr>\n",
       "    <tr>\n",
       "      <th>2281107</th>\n",
       "      <td>г Москва ул Сокольническая Слободка д.3</td>\n",
       "      <td>Москва</td>\n",
       "      <td>ул Сокольническая Слободка д.3</td>\n",
       "      <td>ул</td>\n",
       "      <td>Сокольническая Слободка</td>\n",
       "      <td>д.3</td>\n",
       "      <td>8285714</td>\n",
       "      <td>муниципальный округ Сокольники</td>\n",
       "      <td>2005</td>\n",
       "    </tr>\n",
       "    <tr>\n",
       "      <th>2281107</th>\n",
       "      <td>г Москва ул Шумкина д.11 кор.а</td>\n",
       "      <td>Москва</td>\n",
       "      <td>ул Шумкина д.11 кор.а</td>\n",
       "      <td>ул</td>\n",
       "      <td>Шумкина</td>\n",
       "      <td>д.11 кор.а</td>\n",
       "      <td>8476228</td>\n",
       "      <td>муниципальный округ Сокольники</td>\n",
       "      <td>2007</td>\n",
       "    </tr>\n",
       "  </tbody>\n",
       "</table>\n",
       "<p>25827 rows × 9 columns</p>\n",
       "</div>"
      ],
      "text/plain": [
       "                                    full_address    city  \\\n",
       "area_id                                                    \n",
       "2281084                  г Москва п Загорье д.10  Москва   \n",
       "2281084                   г Москва п Загорье д.3  Москва   \n",
       "2281084                   г Москва п Загорье д.4  Москва   \n",
       "2281084                   г Москва п Загорье д.5  Москва   \n",
       "2281084                   г Москва п Загорье д.8  Москва   \n",
       "...                                          ...     ...   \n",
       "2281107          г Москва ул Короленко д.7 кор.2  Москва   \n",
       "2281107             г Москва ул Маленковская д.3  Москва   \n",
       "2281107             г Москва ул Русаковская д.31  Москва   \n",
       "2281107  г Москва ул Сокольническая Слободка д.3  Москва   \n",
       "2281107           г Москва ул Шумкина д.11 кор.а  Москва   \n",
       "\n",
       "                                address street_prefix  \\\n",
       "area_id                                                 \n",
       "2281084                  п Загорье д.10             п   \n",
       "2281084                   п Загорье д.3             п   \n",
       "2281084                   п Загорье д.4             п   \n",
       "2281084                   п Загорье д.5             п   \n",
       "2281084                   п Загорье д.8             п   \n",
       "...                                 ...           ...   \n",
       "2281107          ул Короленко д.7 кор.2            ул   \n",
       "2281107             ул Маленковская д.3            ул   \n",
       "2281107             ул Русаковская д.31            ул   \n",
       "2281107  ул Сокольническая Слободка д.3            ул   \n",
       "2281107           ул Шумкина д.11 кор.а            ул   \n",
       "\n",
       "                      street_name    building  house_id  \\\n",
       "area_id                                                   \n",
       "2281084                  Загорье         д.10   7569627   \n",
       "2281084                  Загорье          д.3   7569823   \n",
       "2281084                  Загорье          д.4   7569840   \n",
       "2281084                  Загорье          д.5   7569862   \n",
       "2281084                  Загорье          д.8   7569888   \n",
       "...                           ...         ...       ...   \n",
       "2281107                Короленко    д.7 кор.2   7630827   \n",
       "2281107             Маленковская          д.3   8280705   \n",
       "2281107              Русаковская         д.31   7550765   \n",
       "2281107  Сокольническая Слободка          д.3   8285714   \n",
       "2281107                  Шумкина   д.11 кор.а   8476228   \n",
       "\n",
       "                                      area_name  house_year  \n",
       "area_id                                                      \n",
       "2281084  муниципальный округ Бирюлево Восточное        1968  \n",
       "2281084  муниципальный округ Бирюлево Восточное        1964  \n",
       "2281084  муниципальный округ Бирюлево Восточное        1972  \n",
       "2281084  муниципальный округ Бирюлево Восточное        1963  \n",
       "2281084  муниципальный округ Бирюлево Восточное        1963  \n",
       "...                                         ...         ...  \n",
       "2281107          муниципальный округ Сокольники        1926  \n",
       "2281107          муниципальный округ Сокольники        1997  \n",
       "2281107          муниципальный округ Сокольники        2009  \n",
       "2281107          муниципальный округ Сокольники        2005  \n",
       "2281107          муниципальный округ Сокольники        2007  \n",
       "\n",
       "[25827 rows x 9 columns]"
      ]
     },
     "execution_count": 11,
     "metadata": {},
     "output_type": "execute_result"
    }
   ],
   "source": [
    "df_build = pd.read_csv(\"moscow-buildings.csv\", index_col=0)\n",
    "df_build.info()\n",
    "df_build = df_build.dropna()\n",
    "df_build = df_build[df_build.house_year != \"н.д.\"]\n",
    "df_build.info()\n",
    "df_build[\"house_year\"] = df_build[\"house_year\"].astype(\"int64\")\n",
    "df_build.dtypes\n",
    "df_build.house_year\n",
    "df_build"
   ]
  },
  {
   "cell_type": "markdown",
   "metadata": {},
   "source": [
    "2) Посмотрите на минимальное и максимальное значения года постройки. Разумны ли они? Если нет, уберите из базы данных «странные» значения года постройки (оставьте данные о постройках с года основания Москвы до текущего года включительно). Подсчитайте количество удаленных записей."
   ]
  },
  {
   "cell_type": "code",
   "execution_count": 12,
   "metadata": {},
   "outputs": [
    {
     "name": "stdout",
     "output_type": "stream",
     "text": [
      "5\n",
      "19781962\n",
      "1659\n",
      "2015\n"
     ]
    },
    {
     "data": {
      "text/plain": [
       "area_id\n",
       "2281084    1968\n",
       "2281084    1964\n",
       "2281084    1972\n",
       "2281084    1963\n",
       "2281084    1963\n",
       "           ... \n",
       "2281107    1926\n",
       "2281107    1997\n",
       "2281107    2009\n",
       "2281107    2005\n",
       "2281107    2007\n",
       "Name: house_year, Length: 25804, dtype: int64"
      ]
     },
     "execution_count": 12,
     "metadata": {},
     "output_type": "execute_result"
    }
   ],
   "source": [
    "min_house_year = df_build[\"house_year\"].min()\n",
    "max_house_year = df_build[\"house_year\"].max()\n",
    "print(min_house_year)\n",
    "print(max_house_year)\n",
    "df_build = df_build[(df_build[\"house_year\"] >= 1147) & (df_build[\"house_year\"] <= 2024)]\n",
    "min_house_year = df_build[\"house_year\"].min()\n",
    "max_house_year = df_build[\"house_year\"].max()\n",
    "print(min_house_year)\n",
    "print(max_house_year)\n",
    "df_build.house_year"
   ]
  },
  {
   "cell_type": "markdown",
   "metadata": {},
   "source": [
    "3) Выберите из базы данных строки, соответствующие Басманному району и сохраните их в базу basm_data."
   ]
  },
  {
   "cell_type": "code",
   "execution_count": 13,
   "metadata": {},
   "outputs": [
    {
     "name": "stdout",
     "output_type": "stream",
     "text": [
      "<class 'pandas.core.frame.DataFrame'>\n",
      "Index: 635 entries, 2281050 to 2281050\n",
      "Data columns (total 9 columns):\n",
      " #   Column         Non-Null Count  Dtype \n",
      "---  ------         --------------  ----- \n",
      " 0   full_address   635 non-null    object\n",
      " 1   city           635 non-null    object\n",
      " 2   address        635 non-null    object\n",
      " 3   street_prefix  635 non-null    object\n",
      " 4   street_name    635 non-null    object\n",
      " 5   building       635 non-null    object\n",
      " 6   house_id       635 non-null    int64 \n",
      " 7   area_name      635 non-null    object\n",
      " 8   house_year     635 non-null    int64 \n",
      "dtypes: int64(2), object(7)\n",
      "memory usage: 49.6+ KB\n"
     ]
    },
    {
     "data": {
      "text/html": [
       "<div>\n",
       "<style scoped>\n",
       "    .dataframe tbody tr th:only-of-type {\n",
       "        vertical-align: middle;\n",
       "    }\n",
       "\n",
       "    .dataframe tbody tr th {\n",
       "        vertical-align: top;\n",
       "    }\n",
       "\n",
       "    .dataframe thead th {\n",
       "        text-align: right;\n",
       "    }\n",
       "</style>\n",
       "<table border=\"1\" class=\"dataframe\">\n",
       "  <thead>\n",
       "    <tr style=\"text-align: right;\">\n",
       "      <th></th>\n",
       "      <th>full_address</th>\n",
       "      <th>city</th>\n",
       "      <th>address</th>\n",
       "      <th>street_prefix</th>\n",
       "      <th>street_name</th>\n",
       "      <th>building</th>\n",
       "      <th>house_id</th>\n",
       "      <th>area_name</th>\n",
       "      <th>house_year</th>\n",
       "    </tr>\n",
       "    <tr>\n",
       "      <th>area_id</th>\n",
       "      <th></th>\n",
       "      <th></th>\n",
       "      <th></th>\n",
       "      <th></th>\n",
       "      <th></th>\n",
       "      <th></th>\n",
       "      <th></th>\n",
       "      <th></th>\n",
       "      <th></th>\n",
       "    </tr>\n",
       "  </thead>\n",
       "  <tbody>\n",
       "    <tr>\n",
       "      <th>2281050</th>\n",
       "      <td>г Москва б-р Покровский д.14/5</td>\n",
       "      <td>Москва</td>\n",
       "      <td>б-р Покровский д.14/5</td>\n",
       "      <td>б-р</td>\n",
       "      <td>Покровский</td>\n",
       "      <td>д.14/5</td>\n",
       "      <td>8104093</td>\n",
       "      <td>муниципальный округ Басманный</td>\n",
       "      <td>1927</td>\n",
       "    </tr>\n",
       "    <tr>\n",
       "      <th>2281050</th>\n",
       "      <td>г Москва б-р Покровский д.14/6 строение 1</td>\n",
       "      <td>Москва</td>\n",
       "      <td>б-р Покровский д.14/6 строение 1</td>\n",
       "      <td>б-р</td>\n",
       "      <td>Покровский</td>\n",
       "      <td>д.14/6 строение 1</td>\n",
       "      <td>8104094</td>\n",
       "      <td>муниципальный округ Басманный</td>\n",
       "      <td>1915</td>\n",
       "    </tr>\n",
       "    <tr>\n",
       "      <th>2281050</th>\n",
       "      <td>г Москва б-р Покровский д.16/10 строение 1</td>\n",
       "      <td>Москва</td>\n",
       "      <td>б-р Покровский д.16/10 строение 1</td>\n",
       "      <td>б-р</td>\n",
       "      <td>Покровский</td>\n",
       "      <td>д.16/10 строение 1</td>\n",
       "      <td>8104099</td>\n",
       "      <td>муниципальный округ Басманный</td>\n",
       "      <td>1860</td>\n",
       "    </tr>\n",
       "    <tr>\n",
       "      <th>2281050</th>\n",
       "      <td>г Москва б-р Покровский д.16_18 строение 4_4А</td>\n",
       "      <td>Москва</td>\n",
       "      <td>б-р Покровский д.16_18 строение 4_4А</td>\n",
       "      <td>б-р</td>\n",
       "      <td>Покровский</td>\n",
       "      <td>д.16_18 строение 4_4А</td>\n",
       "      <td>8104106</td>\n",
       "      <td>муниципальный округ Басманный</td>\n",
       "      <td>1860</td>\n",
       "    </tr>\n",
       "    <tr>\n",
       "      <th>2281050</th>\n",
       "      <td>г Москва б-р Покровский д.18/15 строение 2</td>\n",
       "      <td>Москва</td>\n",
       "      <td>б-р Покровский д.18/15 строение 2</td>\n",
       "      <td>б-р</td>\n",
       "      <td>Покровский</td>\n",
       "      <td>д.18/15 строение 2</td>\n",
       "      <td>8104113</td>\n",
       "      <td>муниципальный округ Басманный</td>\n",
       "      <td>1860</td>\n",
       "    </tr>\n",
       "    <tr>\n",
       "      <th>...</th>\n",
       "      <td>...</td>\n",
       "      <td>...</td>\n",
       "      <td>...</td>\n",
       "      <td>...</td>\n",
       "      <td>...</td>\n",
       "      <td>...</td>\n",
       "      <td>...</td>\n",
       "      <td>...</td>\n",
       "      <td>...</td>\n",
       "    </tr>\n",
       "    <tr>\n",
       "      <th>2281050</th>\n",
       "      <td>г Москва ул Чаплыгина д.10/11 строение 3</td>\n",
       "      <td>Москва</td>\n",
       "      <td>ул Чаплыгина д.10/11 строение 3</td>\n",
       "      <td>ул</td>\n",
       "      <td>Чаплыгина</td>\n",
       "      <td>д.10/11 строение 3</td>\n",
       "      <td>8103910</td>\n",
       "      <td>муниципальный округ Басманный</td>\n",
       "      <td>1894</td>\n",
       "    </tr>\n",
       "    <tr>\n",
       "      <th>2281050</th>\n",
       "      <td>г Москва ул Чаплыгина д.15 строение 5</td>\n",
       "      <td>Москва</td>\n",
       "      <td>ул Чаплыгина д.15 строение 5</td>\n",
       "      <td>ул</td>\n",
       "      <td>Чаплыгина</td>\n",
       "      <td>д.15 строение 5</td>\n",
       "      <td>8103913</td>\n",
       "      <td>муниципальный округ Басманный</td>\n",
       "      <td>1927</td>\n",
       "    </tr>\n",
       "    <tr>\n",
       "      <th>2281050</th>\n",
       "      <td>г Москва ул Чаплыгина д.16</td>\n",
       "      <td>Москва</td>\n",
       "      <td>ул Чаплыгина д.16</td>\n",
       "      <td>ул</td>\n",
       "      <td>Чаплыгина</td>\n",
       "      <td>д.16</td>\n",
       "      <td>8090083</td>\n",
       "      <td>муниципальный округ Басманный</td>\n",
       "      <td>1955</td>\n",
       "    </tr>\n",
       "    <tr>\n",
       "      <th>2281050</th>\n",
       "      <td>г Москва ул Чаплыгина д.1А строение 1</td>\n",
       "      <td>Москва</td>\n",
       "      <td>ул Чаплыгина д.1А строение 1</td>\n",
       "      <td>ул</td>\n",
       "      <td>Чаплыгина</td>\n",
       "      <td>д.1А строение 1</td>\n",
       "      <td>8103921</td>\n",
       "      <td>муниципальный округ Басманный</td>\n",
       "      <td>1900</td>\n",
       "    </tr>\n",
       "    <tr>\n",
       "      <th>2281050</th>\n",
       "      <td>г Москва ул Чаплыгина д.8 строение 1</td>\n",
       "      <td>Москва</td>\n",
       "      <td>ул Чаплыгина д.8 строение 1</td>\n",
       "      <td>ул</td>\n",
       "      <td>Чаплыгина</td>\n",
       "      <td>д.8 строение 1</td>\n",
       "      <td>8103925</td>\n",
       "      <td>муниципальный округ Басманный</td>\n",
       "      <td>1898</td>\n",
       "    </tr>\n",
       "  </tbody>\n",
       "</table>\n",
       "<p>635 rows × 9 columns</p>\n",
       "</div>"
      ],
      "text/plain": [
       "                                          full_address    city  \\\n",
       "area_id                                                          \n",
       "2281050                 г Москва б-р Покровский д.14/5  Москва   \n",
       "2281050      г Москва б-р Покровский д.14/6 строение 1  Москва   \n",
       "2281050     г Москва б-р Покровский д.16/10 строение 1  Москва   \n",
       "2281050  г Москва б-р Покровский д.16_18 строение 4_4А  Москва   \n",
       "2281050     г Москва б-р Покровский д.18/15 строение 2  Москва   \n",
       "...                                                ...     ...   \n",
       "2281050       г Москва ул Чаплыгина д.10/11 строение 3  Москва   \n",
       "2281050          г Москва ул Чаплыгина д.15 строение 5  Москва   \n",
       "2281050                     г Москва ул Чаплыгина д.16  Москва   \n",
       "2281050          г Москва ул Чаплыгина д.1А строение 1  Москва   \n",
       "2281050           г Москва ул Чаплыгина д.8 строение 1  Москва   \n",
       "\n",
       "                                      address street_prefix  street_name  \\\n",
       "area_id                                                                    \n",
       "2281050                 б-р Покровский д.14/5           б-р  Покровский    \n",
       "2281050      б-р Покровский д.14/6 строение 1           б-р  Покровский    \n",
       "2281050     б-р Покровский д.16/10 строение 1           б-р  Покровский    \n",
       "2281050  б-р Покровский д.16_18 строение 4_4А           б-р  Покровский    \n",
       "2281050     б-р Покровский д.18/15 строение 2           б-р  Покровский    \n",
       "...                                       ...           ...          ...   \n",
       "2281050       ул Чаплыгина д.10/11 строение 3            ул   Чаплыгина    \n",
       "2281050          ул Чаплыгина д.15 строение 5            ул   Чаплыгина    \n",
       "2281050                     ул Чаплыгина д.16            ул   Чаплыгина    \n",
       "2281050          ул Чаплыгина д.1А строение 1            ул   Чаплыгина    \n",
       "2281050           ул Чаплыгина д.8 строение 1            ул   Чаплыгина    \n",
       "\n",
       "                      building  house_id                      area_name  \\\n",
       "area_id                                                                   \n",
       "2281050                 д.14/5   8104093  муниципальный округ Басманный   \n",
       "2281050      д.14/6 строение 1   8104094  муниципальный округ Басманный   \n",
       "2281050     д.16/10 строение 1   8104099  муниципальный округ Басманный   \n",
       "2281050  д.16_18 строение 4_4А   8104106  муниципальный округ Басманный   \n",
       "2281050     д.18/15 строение 2   8104113  муниципальный округ Басманный   \n",
       "...                        ...       ...                            ...   \n",
       "2281050     д.10/11 строение 3   8103910  муниципальный округ Басманный   \n",
       "2281050        д.15 строение 5   8103913  муниципальный округ Басманный   \n",
       "2281050                   д.16   8090083  муниципальный округ Басманный   \n",
       "2281050        д.1А строение 1   8103921  муниципальный округ Басманный   \n",
       "2281050         д.8 строение 1   8103925  муниципальный округ Басманный   \n",
       "\n",
       "         house_year  \n",
       "area_id              \n",
       "2281050        1927  \n",
       "2281050        1915  \n",
       "2281050        1860  \n",
       "2281050        1860  \n",
       "2281050        1860  \n",
       "...             ...  \n",
       "2281050        1894  \n",
       "2281050        1927  \n",
       "2281050        1955  \n",
       "2281050        1900  \n",
       "2281050        1898  \n",
       "\n",
       "[635 rows x 9 columns]"
      ]
     },
     "execution_count": 13,
     "metadata": {},
     "output_type": "execute_result"
    }
   ],
   "source": [
    "df_build[df_build[\"area_name\"].str.contains(\"Басман\", case=False)].head(1)\n",
    "basm_data = df_build[df_build[\"area_name\"] == \"муниципальный округ Басманный\"]\n",
    "basm_data.info()\n",
    "basm_data"
   ]
  },
  {
   "cell_type": "markdown",
   "metadata": {},
   "source": [
    "4) Сгруппируйте данные в базе по районам и посмотрите, сколько домов в базе относятся к каждому району."
   ]
  },
  {
   "cell_type": "code",
   "execution_count": 14,
   "metadata": {},
   "outputs": [
    {
     "name": "stdout",
     "output_type": "stream",
     "text": [
      "                                   full_address  city  address  street_prefix  \\\n",
      "area_name                                                                       \n",
      "муниципальный округ Академический           344   344      344            344   \n",
      "муниципальный округ Алексеевский            212   212      212            212   \n",
      "муниципальный округ Алтуфьевский            114   114      114            114   \n",
      "муниципальный округ Арбат                   134   134      134            134   \n",
      "муниципальный округ Аэропорт                186   186      186            186   \n",
      "...                                         ...   ...      ...            ...   \n",
      "муниципальный округ Южное Тушино            320   320      320            320   \n",
      "муниципальный округ Южнопортовый            200   200      200            200   \n",
      "муниципальный округ Якиманка                105   105      105            105   \n",
      "муниципальный округ Ярославский             177   177      177            177   \n",
      "муниципальный округ Ясенево                 152   152      152            152   \n",
      "\n",
      "                                   street_name  building  house_id  house_year  \n",
      "area_name                                                                       \n",
      "муниципальный округ Академический          344       344       344         344  \n",
      "муниципальный округ Алексеевский           212       212       212         212  \n",
      "муниципальный округ Алтуфьевский           114       114       114         114  \n",
      "муниципальный округ Арбат                  134       134       134         134  \n",
      "муниципальный округ Аэропорт               186       186       186         186  \n",
      "...                                        ...       ...       ...         ...  \n",
      "муниципальный округ Южное Тушино           320       320       320         320  \n",
      "муниципальный округ Южнопортовый           200       200       200         200  \n",
      "муниципальный округ Якиманка               105       105       105         105  \n",
      "муниципальный округ Ярославский            177       177       177         177  \n",
      "муниципальный округ Ясенево                152       152       152         152  \n",
      "\n",
      "[119 rows x 8 columns]\n"
     ]
    }
   ],
   "source": [
    "grouped_data = df_build.groupby(\"area_name\")\n",
    "print(grouped_data.count())"
   ]
  },
  {
   "cell_type": "markdown",
   "metadata": {},
   "source": [
    "5) Найдите средний возраст дома (возраст – в годах, считаем от текущего года) по каждому району. Подсказка: сначала добавьте переменную house_age («возраст дома»)."
   ]
  },
  {
   "cell_type": "code",
   "execution_count": 29,
   "metadata": {},
   "outputs": [
    {
     "name": "stdout",
     "output_type": "stream",
     "text": [
      "55.47\n"
     ]
    },
    {
     "name": "stderr",
     "output_type": "stream",
     "text": [
      "/tmp/ipykernel_128/2030102459.py:2: SettingWithCopyWarning: \n",
      "A value is trying to be set on a copy of a slice from a DataFrame.\n",
      "Try using .loc[row_indexer,col_indexer] = value instead\n",
      "\n",
      "See the caveats in the documentation: https://pandas.pydata.org/pandas-docs/stable/user_guide/indexing.html#returning-a-view-versus-a-copy\n",
      "  df_build[\"house_age\"] = current_year - df_build[\"house_year\"]\n"
     ]
    }
   ],
   "source": [
    "current_year = datetime.now().year\n",
    "df_build[\"house_age\"] = current_year - df_build[\"house_year\"] \n",
    "#df_build\n",
    "#df_build.house_age\n",
    "average_age = df_build[\"house_age\"].mean()\n",
    "print(f\"{average_age:.2f}\")"
   ]
  },
  {
   "cell_type": "markdown",
   "metadata": {},
   "source": [
    "6) Найдите самый старый дом и выведите информацию о нем."
   ]
  },
  {
   "cell_type": "code",
   "execution_count": 35,
   "metadata": {},
   "outputs": [
    {
     "name": "stdout",
     "output_type": "stream",
     "text": [
      "                                  full_address    city  \\\n",
      "area_id                                                  \n",
      "2281064  г Москва пр-кт 40 лет Октября д.12/10  Москва   \n",
      "\n",
      "                              address street_prefix      street_name building  \\\n",
      "area_id                                                                         \n",
      "2281064  пр-кт 40 лет Октября д.12/10         пр-кт  40 лет Октября   д.12/10   \n",
      "\n",
      "         house_id                    area_name  house_year  house_age  \n",
      "area_id                                                                \n",
      "2281064   7566338  муниципальный округ Люблино        1659        365  \n"
     ]
    }
   ],
   "source": [
    "#df_build\n",
    "oldest_house = df_build[\"house_age\"].max()\n",
    "max_row = df_build[df_build['house_age'] == oldest_house]\n",
    "print(max_row)"
   ]
  },
  {
   "cell_type": "code",
   "execution_count": 36,
   "metadata": {},
   "outputs": [],
   "source": [
    "import pandas\n",
    "import re"
   ]
  },
  {
   "cell_type": "markdown",
   "metadata": {},
   "source": [
    "**2.** Загрузите таблицу titanic.csv и найдите ответы на следующие вопросы. Если ответ нужно приводить в процентах, то это должно быть число в интервале от 0 до 100, округленное до двух знаков, знак процента не нужен.  \n",
    "\n",
    "1) Посчитайте долю выживших пассажиров."
   ]
  },
  {
   "cell_type": "code",
   "execution_count": 39,
   "metadata": {},
   "outputs": [
    {
     "name": "stdout",
     "output_type": "stream",
     "text": [
      "             Survived Pclass  \\\n",
      "PassengerId                    \n",
      "1                   0      3   \n",
      "2                   1      1   \n",
      "3                   1      3   \n",
      "4                   1      1   \n",
      "5                   0      3   \n",
      "6                   0      3   \n",
      "7                   0      1   \n",
      "8                   0      3   \n",
      "9                   1      3   \n",
      "10                  1      2   \n",
      "\n",
      "                                                          Name     Sex   Age  \\\n",
      "PassengerId                                                                    \n",
      "1                                      Braund, Mr. Owen Harris    male  22.0   \n",
      "2            Cumings, Mrs. John Bradley (Florence Briggs Th...  female  38.0   \n",
      "3                                       Heikkinen, Miss. Laina  female  26.0   \n",
      "4                 Futrelle, Mrs. Jacques Heath (Lily May Peel)  female  35.0   \n",
      "5                                     Allen, Mr. William Henry    male  35.0   \n",
      "6                                             Moran, Mr. James    male   NaN   \n",
      "7                                      McCarthy, Mr. Timothy J    male  54.0   \n",
      "8                               Palsson, Master. Gosta Leonard    male   2.0   \n",
      "9            Johnson, Mrs. Oscar W (Elisabeth Vilhelmina Berg)  female  27.0   \n",
      "10                         Nasser, Mrs. Nicholas (Adele Achem)  female  14.0   \n",
      "\n",
      "             SibSp  Parch            Ticket     Fare Cabin Embarked  \n",
      "PassengerId                                                          \n",
      "1                1      0         A/5 21171   7.2500   NaN        S  \n",
      "2                1      0          PC 17599  71.2833   C85        C  \n",
      "3                0      0  STON/O2. 3101282   7.9250   NaN        S  \n",
      "4                1      0            113803  53.1000  C123        S  \n",
      "5                0      0            373450   8.0500   NaN        S  \n",
      "6                0      0            330877   8.4583   NaN        Q  \n",
      "7                0      0             17463  51.8625   E46        S  \n",
      "8                3      1            349909  21.0750   NaN        S  \n",
      "9                0      2            347742  11.1333   NaN        S  \n",
      "10               1      0            237736  30.0708   NaN        C  \n",
      "<class 'pandas.core.frame.DataFrame'>\n",
      "Index: 891 entries, 1 to 891\n",
      "Data columns (total 11 columns):\n",
      " #   Column    Non-Null Count  Dtype  \n",
      "---  ------    --------------  -----  \n",
      " 0   Survived  891 non-null    int64  \n",
      " 1   Pclass    891 non-null    object \n",
      " 2   Name      891 non-null    object \n",
      " 3   Sex       891 non-null    object \n",
      " 4   Age       714 non-null    float64\n",
      " 5   SibSp     891 non-null    int64  \n",
      " 6   Parch     891 non-null    int64  \n",
      " 7   Ticket    891 non-null    object \n",
      " 8   Fare      891 non-null    float64\n",
      " 9   Cabin     204 non-null    object \n",
      " 10  Embarked  889 non-null    object \n",
      "dtypes: float64(2), int64(3), object(6)\n",
      "memory usage: 83.5+ KB\n"
     ]
    }
   ],
   "source": [
    "data = pandas.read_csv(\"titanic.csv\", index_col=\"PassengerId\")\n",
    "data[\"Pclass\"] = data[\"Pclass\"].astype(object)\n",
    "print(data[:10])\n",
    "data.info()"
   ]
  },
  {
   "cell_type": "code",
   "execution_count": 40,
   "metadata": {},
   "outputs": [
    {
     "name": "stdout",
     "output_type": "stream",
     "text": [
      "Доля выживших пассажиров = 0.38\n"
     ]
    }
   ],
   "source": [
    "surv_counts = data[\"Survived\"].value_counts()\n",
    "surv_share = surv_counts[1] / surv_counts.sum()\n",
    "print(f\"Доля выживших пассажиров = {surv_share:.2f}\")"
   ]
  },
  {
   "cell_type": "markdown",
   "metadata": {},
   "source": [
    "2) Какое количество мужчин и женщин ехало на корабле? Определите долю выживших женщин и выживших мужчин."
   ]
  },
  {
   "cell_type": "code",
   "execution_count": 44,
   "metadata": {},
   "outputs": [
    {
     "name": "stdout",
     "output_type": "stream",
     "text": [
      "Количество мужчин = 577, количество женщин = 314\n",
      "Доля выживших мужчин = 0.19\n",
      "Доля выживших женщин = 0.74\n"
     ]
    }
   ],
   "source": [
    "sex_counts = data[\"Sex\"].value_counts()\n",
    "print(f\"Количество мужчин = {sex_counts[\"male\"]}, количество женщин = {sex_counts['female']}\")\n",
    "\n",
    "data_surv = data[data[\"Survived\"] == 1]\n",
    "surv_counts = data_surv[\"Sex\"].value_counts()\n",
    "surv_men = surv_counts[\"male\"] / sex_counts[\"male\"]\n",
    "surv_women = surv_counts[\"female\"] / sex_counts[\"female\"]\n",
    "print(f\"Доля выживших мужчин = {surv_men:.2f}\")\n",
    "print(f\"Доля выживших женщин = {surv_women:.2f}\")"
   ]
  },
  {
   "cell_type": "markdown",
   "metadata": {},
   "source": [
    "3) Какую долю пассажиры первого, второго и третьего классов составляли среди всех пассажиров? Определите долю выживших пассажиров каждого класса."
   ]
  },
  {
   "cell_type": "code",
   "execution_count": 47,
   "metadata": {},
   "outputs": [
    {
     "name": "stdout",
     "output_type": "stream",
     "text": [
      "Доля пассажиров 1-го класса = 0.24\n",
      "Доля пассажиров 2-го класса = 0.21\n",
      "Доля пассажиров 3-го класса = 0.55\n",
      "Доля выживших пассажиров 1-го класса = 0.63\n",
      "Доля выживших пассажиров 2-го класса = 0.47\n",
      "Доля выживших пассажиров 3-го класса = 0.24\n"
     ]
    }
   ],
   "source": [
    "pclass_counts = data[\"Pclass\"].value_counts()\n",
    "print(f\"Доля пассажиров 1-го класса = {(pclass_counts[1] / pclass_counts.sum()):.2f}\")\n",
    "print(f\"Доля пассажиров 2-го класса = {(pclass_counts[2] / pclass_counts.sum()):.2f}\")\n",
    "print(f\"Доля пассажиров 3-го класса = {(pclass_counts[3] / pclass_counts.sum()):.2f}\")\n",
    "\n",
    "pclass_surv_counts = data_surv[\"Pclass\"].value_counts()\n",
    "print(f\"Доля выживших пассажиров 1-го класса = {(pclass_surv_counts[1] / pclass_counts[1]):.2f}\")\n",
    "print(f\"Доля выживших пассажиров 2-го класса = {(pclass_surv_counts[2] / pclass_counts[2]):.2f}\")\n",
    "print(f\"Доля выживших пассажиров 3-го класса = {(pclass_surv_counts[3] / pclass_counts[3]):.2f}\")"
   ]
  },
  {
   "cell_type": "markdown",
   "metadata": {},
   "source": [
    "4) Посчитайте среднее и медиану возраста пассажиров. Посчитайте среднее и медиану возраста выживших и невыживших пассажиров."
   ]
  },
  {
   "cell_type": "code",
   "execution_count": 52,
   "metadata": {},
   "outputs": [
    {
     "name": "stdout",
     "output_type": "stream",
     "text": [
      "Средний возраст пассажиров = 29.70, медиана возраста пассажиров = 28.0\n",
      "Средний возраст выживщих пассажиров = 28.34 медиана возраста выживших пассажиров = 28.0\n",
      "Средний возраст невыживщих пассажиров = 30.63, медиана возраста невыживших пассажиров = 28.0\n"
     ]
    }
   ],
   "source": [
    "ages = data[\"Age\"].dropna()\n",
    "print(f\"Средний возраст пассажиров = {ages.mean():.2f}, медиана возраста пассажиров = {ages.median()}\")\n",
    "\n",
    "data_nonsurv = data[data[\"Survived\"] == 0]\n",
    "ages_surv = data_surv[\"Age\"].dropna()\n",
    "ages_nonsurv = data_nonsurv[\"Age\"].dropna()\n",
    "print(f\"Средний возраст выживщих пассажиров = {ages_surv.mean():.2f} медиана возраста выживших пассажиров = {ages_surv.median()}\")\n",
    "print(f\"Средний возраст невыживщих пассажиров = {ages_nonsurv.mean():.2f}, медиана возраста невыживших пассажиров = {ages_nonsurv.median()}\")"
   ]
  },
  {
   "cell_type": "markdown",
   "metadata": {},
   "source": [
    "5) Добавьте столбцы FirstNameList с именем пассажира. Обратите внимание, что встречается разный формат хранения имен, в том числе существуют отличия для мужчин и женщин. Имя может быть составное (из нескольких имен) - рассмотрите оба варианта - составное имя целиком и составное имя как отдельные имена. Какое самое популярное женское имя на корабле? Какое самое популярное мужское имя на корабле? "
   ]
  },
  {
   "cell_type": "code",
   "execution_count": 56,
   "metadata": {},
   "outputs": [
    {
     "name": "stdout",
     "output_type": "stream",
     "text": [
      "PassengerId\n",
      "1                 Owen Harris\n",
      "2      Florence Briggs Thayer\n",
      "3                       Laina\n",
      "4               Lily May Peel\n",
      "5               William Henry\n",
      "                ...          \n",
      "887                    Juozas\n",
      "888            Margaret Edith\n",
      "889           Catherine Helen\n",
      "890               Karl Howell\n",
      "891                   Patrick\n",
      "Name: FirstNameList, Length: 891, dtype: object\n",
      "PassengerId\n",
      "1           Owen\n",
      "2       Florence\n",
      "3          Laina\n",
      "4           Lily\n",
      "5        William\n",
      "         ...    \n",
      "887       Juozas\n",
      "888     Margaret\n",
      "889    Catherine\n",
      "890         Karl\n",
      "891      Patrick\n",
      "Name: basicFirstNameList, Length: 891, dtype: object\n",
      "\n",
      "Самое популярное женское имя - Anna\n",
      "Самое популярное мужское имя - William\n",
      "\n",
      "Самое популярное составное женское имя - Mary\n",
      "Самое популярное составное мужское имя - John\n"
     ]
    }
   ],
   "source": [
    "def clean_name(name): # Процедура выделения собственного имени\n",
    "\n",
    "    # Первое слово до запятой - фамилия, удаляем ее\n",
    "    name = name[name.find(\",\")+1:]\n",
    "    # Обработка имен женщин\n",
    "    s = re.search(r'(Dr\\. |Lady\\. |Miss\\. |Mrs\\. |Ms\\. |the Countess\\.)', name)\n",
    "    if bool(s): \n",
    "        # Если есть скобки - то основное имя пассажира в них\n",
    "        # Извлекаем его\n",
    "        if (name.find(\"(\") >= 0):\n",
    "            if (name.find(\"(\")+1 != name.find('\"')):\n",
    "                name = name[name.find(\"(\")+1:name.find(\")\")]           \n",
    "            else:\n",
    "                name = name[:name.find(\"(\")]\n",
    "    else:    \n",
    "        # Обработка имен мужчин\n",
    "        # Если есть скобки - то для мужчин оно не является основным удаляем его\n",
    "        if name.find(\"(\") >= 0:\n",
    "            if name[name.find(\".\")+1:name.find(\"(\")] == ' ':\n",
    "                name = name[name.find(\"(\")+1:name.find(\")\")]\n",
    "            else:\n",
    "                name = name[:name.find(\"(\")]\n",
    "       \n",
    "    # Удаляем обращения\n",
    "    name = name[name.find(\".\") + 1: ]\n",
    "    # То, что в кавычках, не относится к основному имени - удаляем\n",
    "    # Удаляем кавычки вместе с их содержимым\n",
    "    if name.find(' \"') >= 0:\n",
    "        name = name[: name.find(' \"')]\n",
    "    name = name.strip()    \n",
    "    return name\n",
    "    \n",
    "# Добавление столбца со списком имен\n",
    "df = data[\"Name\"].copy()\n",
    "data[\"FirstNameList\"] = df.map(clean_name)\n",
    "print(data[\"FirstNameList\"])\n",
    "# Добавление столбца со списком основных имен (если было имя в скобках, то оно, иначе - первое)\n",
    "names = data[\"FirstNameList\"].tolist()\n",
    "names = [x.split()[0] for x in names]\n",
    "data[\"basicFirstNameList\"] = names\n",
    "print(data[\"basicFirstNameList\"])\n",
    "\n",
    "# Нахождение самого популярного женского имени\n",
    "names_female_count = data[data[\"Sex\"] == \"female\"][\"basicFirstNameList\"].value_counts()\n",
    "print(f\"\\nСамое популярное женское имя - {names_female_count.head(1).index.values[0]}\")\n",
    "\n",
    "# Нахождение самого популярного мужского имени\n",
    "names_male_count = data[data[\"Sex\"] == \"male\"][\"basicFirstNameList\"].value_counts()\n",
    "print(f\"Самое популярное мужское имя - {names_male_count.head(1).index.values[0]}\")\n",
    "\n",
    "# Нахождение самого популярного составного женского имени\n",
    "full_names_female_count = data[data[\"Sex\"] == \"female\"][\"FirstNameList\"].value_counts()\n",
    "print(f\"\\nСамое популярное составное женское имя - {full_names_female_count.head(1).index.values[0]}\")\n",
    "\n",
    "# Нахождение самого популярного составного мужского имени\n",
    "full_names_male_count = data[data[\"Sex\"] == \"male\"][\"FirstNameList\"].value_counts()\n",
    "print(f\"Самое популярное составное мужское имя - {full_names_male_count.head(1).index.values[0]}\")"
   ]
  },
  {
   "cell_type": "markdown",
   "metadata": {},
   "source": [
    "6) Приведите список уникальных (неповторяющихся, только один человек имеет это имя) имен пассажиров, отдельно мужских и женских. Рассмотрите оба варианта - составное имя целиком и составное имя как отдельные имена. Выведите таблицу с этими пассажирами."
   ]
  },
  {
   "cell_type": "code",
   "execution_count": 58,
   "metadata": {},
   "outputs": [
    {
     "name": "stdout",
     "output_type": "stream",
     "text": [
      "Уникальные женские имена: ['Agda', 'Albina', 'Alfrida', 'Alma', 'Aloisia', 'Amelie', 'Ann', 'Anne', 'Asuncion', 'Aurora', 'Banoura', 'Barrett', 'Beila', 'Berthe', 'Bessie', 'Brigdet', 'Carla', 'Caroline', 'Catharina', 'Clear', 'Cordelia', 'Daisy', 'Delia', 'Doolina', 'Ebba', 'Edwiga', 'Edwina', 'Eleanor', 'Eliina', 'Elin', 'Elina', 'Elise', 'Eliza', 'Ellis', 'Elna', 'Emelia', 'Encarnacion', 'Erna', 'Esther', 'Eugenie', 'Eva', 'Farnham', 'Fatima', 'Georgette', 'Gerda', 'Gertrude', 'Gladys', 'Grace', 'Gretchen', 'Hannah', 'Hanne', 'Harriet', 'Helena', 'Helmina', 'Henriette', 'Hilda', 'Hildur', 'Hileni', 'Hulda', 'Imanita', 'Ingeborg', 'Irene', 'Jamila', 'Jean', 'Jeannie', 'Joan', 'Josefine', 'Julie', 'Juliet', 'Juliette', 'Karolina', 'Katie', 'Katriina', 'Kornelia', 'Kristina', 'Laina', 'Latifa', 'Laura', 'Leah', 'Leila', 'Leontine', 'Lilian', 'Lucille', 'Luise', 'Lulu', 'Lutie', 'Lyyli', 'Malake', 'Manca', 'Mantoura', 'Mara', 'Margareth', 'Margaretta', 'Margit', 'Marguerite', 'Mari', 'Marian', 'Matilda', 'Miriam', 'Myna', 'Nora', 'Nourelain', 'Phyllis', 'Pieta', 'Roberta', 'Robina', 'Ruth', 'Saiide', 'Sallie', 'Sara', 'Selini', 'Selma', 'Sigrid', 'Simonne', 'Stella', 'Stina', 'Sultana', 'Sylvia', 'Telma', 'Thamine', 'Tillie', 'Torborg', 'Velin', 'Vera', 'Virginia', 'Wendla']\n",
      "\n",
      "Уникальные мужские имена: ['Abraham', 'Achille', 'Adola', 'Adolf', 'Adolphe', 'Ahmed', 'Alden', 'Alfons', 'Alfonzo', 'Algernon', 'Ali', 'Ambrose', 'Amin', 'Andre', 'Antoni', 'Apostolos', 'Archibald', 'Arne', 'Assad', 'Austen', 'Austin', 'Bengt', 'Berk', 'Bernard', 'Bernt', 'Branko', 'Carl/Charles', 'Cerin', 'Chang', 'Choong', 'Christo', 'Clarence', 'Claus', 'Cosmo', 'Denis', 'Dibo', 'Dickinson', 'Domingos', 'Douglas', 'Eberhard', 'Eden', 'Edgar', 'Edgardo', 'Edmond', 'Edvin', 'Edwin', 'Edwy', 'Einar', 'Eiriik', 'Elias', 'Eliezer', 'Elmer', 'Emile', 'Engelhart', 'Ennis', 'Eric', 'Ernesti', 'Ervin', 'Fahim', 'Fang', 'Fared', 'Farred', 'Fletcher', 'Francesco', 'Francisco', 'Frans', 'Frederic', 'Fridtjof', 'Gerios', 'Gosta', 'Guentcho', 'Gurshon', 'Gustave', 'Halim', 'Hammad', 'Harald', 'Harvey', 'Henrik', 'Herbert', 'Herman', 'Houssein', 'Howard', 'Hudson', 'Husein', 'Ignjac', 'Iisakki', 'Ilia', 'Ilmari', 'Ingvald', 'Jaako', 'Jacques', 'Jan', 'Janko', 'Jean', 'Jeremiah', 'Jeso', 'Johann', 'Jose', 'Josef', 'Jovan', 'Jovo', 'Jozef', 'Julian', 'Juozas', 'Kanio', 'Khalil', 'Klas', 'Knud', 'Konrad', 'Kristo', 'Kurt', 'Len', 'Leon', 'Leslie', 'Lionel', 'Liudevit', 'Malkolm', 'Mansouer', 'Mansour', 'Marin', 'Mark', 'Masabumi', 'Matthew', 'Max', 'Maxmillian', 'Meier', 'Milan', 'Mile', 'Milton', 'Minko', 'Mito', 'Mitto', 'Mohamed', 'Moses', 'Nakli', 'Nassef', 'Neal', 'Nedelio', 'Nestor', 'Nicholas', 'Niels', 'Nikola', 'Nikolai', 'Norman', 'Oberst', 'Olaf', 'Ole', 'Olof', 'Orsen', 'Oskar', 'Pastcho', 'Paul', 'Pehr', 'Peju', 'Pekka', 'Penko', 'Percy', 'Petar', 'Petco', 'Philemon', 'Philip', 'Phillippe', 'Pierre', 'Quigg', 'Rahamin', 'Raihed', 'Ramon', 'Ristiu', 'Roger', 'Rossmore', 'Sahid', 'Sante', 'Sarkis', 'Satio', 'Sebastiano', 'Selman', 'Shadrach', 'Sigurd', 'Sigvard', 'Simon', 'Sinai', 'Sleiman', 'Spencer', 'Stanio', 'Stefo', 'Stjepan', 'Stoytcho', 'Svend', 'Theodor', 'Theodore', 'Thor', 'Thornton', 'Tido', 'Todor', 'Tyrell', 'Urho', 'Uscher', 'Vasil', 'Viktor', 'Viljo', 'Vincenz', 'Wazli', 'Wilhelm', 'Wyckoff', 'Yoto', 'Youssef', 'Yousseff']\n",
      "\n",
      "Уникальные составные женские имена: ['Ada E Hall', 'Ada Julia Bone', 'Ada Maria Winfield', 'Ada Mary Worth', 'Adele Achem', 'Adele Kiamie', 'Agda Thorilda Viktoria', 'Agnes', 'Agnes Charlotta Bengtsson', 'Albina', 'Alfrida Konstantia Brogren', 'Alice Adelaide Slow', 'Alice Elizabeth', 'Alice Munger', 'Alice Phoebe', 'Alma Cornelia Berglund', 'Aloisia', 'Amelia Milley', 'Amelie', 'Amy Frances Christy', 'Amy Zillah Elsie', 'Ann Elizabeth', 'Anna Andrews', 'Anna Bernhardina Karlsson', 'Anna Katherine', 'Anna Kristine', 'Anna Sigrid Maria Brogren', 'Anna Sophia Atkinson', 'Anna Sylfven', 'Anne', 'Annie', 'Annie Clemmer', 'Annie Jessie', 'Annie Louise Rowley', 'Asuncion', 'Augusta', 'Augusta Charlotta', 'Augusta Maria', 'Augusta Tyler', 'Aurora Adelia', 'Banoura', 'Barrett', 'Beila', 'Bertha Griggs', 'Berthe Antonine', 'Bessie Waldo Daniels', 'Bridget', 'Bridget Mary', 'Brigdet Delia', 'Carla Christine Nielsine', 'Caroline Louise', 'Catharina', 'Catherine', 'Catherine David', 'Catherine Helen', 'Catherine Rizk', 'Charlotte Annie Tate', 'Charlotte Lamson', 'Clara Heinsheimer', 'Clara Jennings Gregg', 'Clear Annie', 'Constance Gladys', 'Constance Mirium', 'Cordelia K Stanlick', 'Daisy E', 'Delia', 'Doolina Margaret', 'Dorothy Ann Wonnacott', 'Dorothy Edith', 'Ebba Iris Alfrida', 'Edith Junkins', 'Edith Martha Bowerman', 'Edith Wearne', 'Edwiga Grabowska', 'Edwina Celia', 'Eleanor Ileen', 'Eliina', 'Elin Matilda Dolck', 'Elina', 'Elisabeth Vilhelmina Berg', 'Elisabeth Walton', 'Elisabeth Walton McMillan', 'Elise', 'Eliza Needs', 'Elizabeth Anne Maidment', 'Elizabeth Anne Wilkinson', 'Elizabeth Catherine Ford', 'Elizabeth Margaret', 'Elizabeth Mussey', 'Elizabeth Ramell', 'Elizabeth W', 'Ellen Natalia', 'Ellis Anna Maria', 'Elna Matilda Persson', 'Elsie', 'Elsie Edith', 'Emelia Maria Vandemoortele', 'Emily', 'Emily Alice Brown', 'Emily Borie', 'Emily Hocking', 'Encarnacion', 'Erna Alexandra', 'Esther Ada Bloomfield', 'Ethel', 'Ethel Clarke', 'Eugenie', 'Eva Miriam', 'Farnham', 'Fatima', 'Florence Briggs Thayer', 'Florence Kate White', 'Georgette Alexandra', 'Gerda Ulrika', 'Gertrude Maybelle', 'Gladys', 'Grace Charity Laury', 'Gretchen Fiske', 'Hannah Wizosky', 'Hanne Youssef Razi', 'Harriet R', 'Hedwig', 'Hedwig Margaritha', 'Helen', 'Helen Loraine', 'Helen Mary', 'Helen Monypeny', 'Helen Walton', 'Helena Wilhelmina', 'Helene Barbara', 'Helene DeLaudeniere Chaput', 'Helmina Josefina', 'Henriette', 'Hilda Mary', 'Hildur E', 'Hileni', 'Hulda Amanda Adolfina', 'Ida', 'Ida Sofia', 'Ida Sophia Fischer', 'Imanita Parrish Hall', 'Ingeborg Constanzia', 'Irene Wallach', 'Jamila', 'Jane Anne Forby', 'Jane Laver', 'Jane Richards', 'Jean Gertrude', 'Jeannie', 'Jessie L', 'Jessie Wills', 'Joan', 'Johanna', 'Johanna Persdotter Larsson', 'Josefine Franchi', 'Julie Rachel', 'Juliet Cummins Wright', 'Juliette Marie Louise Lafargue', 'Karolina', 'Kate Florence', 'Katie', 'Katriina', 'Kornelia Theodosia', 'Kristina Sofia', 'Laina', 'Latifa Qurban', 'Laura Mabel', 'Leah Rosen', 'Leila Saks', 'Leontine Pauline', 'Lilian Hughes', 'Lillian Amy', 'Lillian Gertrud', 'Lillian Jefferys', 'Lily Alexenia Wilson', 'Lily May Peel', 'Lucille Christiana Sutherland', 'Lucy', 'Lucy Noel Martha Dyer-Edwards', 'Luise Gretchen', 'Lulu Thorne Christian', 'Lutie Davis', 'Lyyli Karoliina', 'Mabel', 'Mabel Helen', 'Madeleine', 'Madeleine Talmadge Force', 'Madeleine Violet', 'Malake', 'Manca', 'Mantoura Boulos', 'Mara', 'Margaret Ann Watson', 'Margaret Bechstein', 'Margaret Delia', 'Margaret Edith', 'Margaret Jane', 'Margaret Norton', 'Margaret Tobin', 'Margaret Welles Barron', 'Margareth', 'Margaretta Corning Stone', 'Margit Elizabeth', 'Marguerite Rut', 'Mari Aina', 'Maria', 'Maria Elias', 'Maria Emilia Ojala', 'Maria Josefa Perez de Soto y Vallejo', 'Maria Mathilda Gustafsson', 'Marian Longstreth Morris', 'Marie Catherine', 'Marie Eugenie', 'Marie Grice', 'Marie Marthe Thuillard', 'Marion', 'Marion Elsie', 'Marion Louise', 'Marion Ogden', 'Martha Eustis', 'Martha Evelyn', 'Mary Agatha', 'Mary Aline Towner', 'Mary Conover', 'Mary D Kingcome', 'Mary E Finck', 'Mary Hitchcock', 'Mary Natalie', 'Mathilde', 'Mathilde Francoise Pede', 'Matilda', 'Miriam Sternin', 'Myna Haxtun', 'Nora A', 'Nourelain', 'Phyllis May', 'Pieta Sofia', 'Roberta', 'Robina Maggie', 'Rosa', 'Rosa Hunt', 'Rosalie', 'Rosalie Paula Govaert', 'Ruth', 'Saiide', 'Sallie Monypeny', 'Sara Rebecca', 'Selini Alexander', 'Selma Augusta Emilia Johansson', 'Sigrid Elisabeth', 'Simonne Marie Anne Andree', 'Stella Anna', 'Stina Viola', 'Sultana', 'Susan', 'Susan Parker', 'Sylvia Mae Harbaugh', 'Telma Matilda', 'Thamine', 'Tillie Mandelbaum', 'Torborg Danira', 'Velin', 'Vera Gillespie', 'Virginia Ethel', 'Wendla Maria']\n",
      "\n",
      "Уникальные составные мужские имена: ['Abraham', 'Achille', 'Adola', 'Adolf Mathias Nicolai Olsen', 'Adolphe', 'Ahmed', 'Albert A', 'Albert Adrian', 'Albert Johan', 'Alden Gates', 'Alexander Oskar', 'Alfons', 'Alfonzo', 'Alfred Fleming', 'Alfred George John', 'Alfred J', 'Alfred Ossian', 'Algernon Henry Wilson', 'Ali', 'Ambrose Jr', 'Amin', 'Anders Johan', 'Anders Vilhelm', 'Andre', 'Andrew', 'Andrew G', 'Anthony', 'Anthony Wood', 'Antoni', 'Antti Gustaf', 'Antti Wilhelm', 'Apostolos', 'Archibald Willingham', 'Arne Jonas', 'Arthur Ernest', 'Arthur Godfrey', 'Arthur H', 'Arthur Jackson', 'Arthur Webster', 'Assad Alexander', 'August', 'August Edvard', 'August Sigfrid', 'August Viktor', 'Austen', 'Austin Blyler', 'Bengt Edvin', 'Benjamin Laventall', 'Berk', 'Bernard', 'Bernt', 'Bertram Frank', 'Bertram Vere', 'Branko', 'Carl', 'Carl Olof', 'Carl/Charles Peter', 'Cerin', 'Chang', 'Charles', 'Charles Alexander', 'Charles Duane', 'Charles Edward', 'Charles Eugene', 'Charles Frederick Waddington', 'Charles Hallace', 'Charles Joseph', 'Charles Leonard', 'Choong', 'Christo', 'Clarence Gustaf Hugo', 'Claus Peter', 'Cosmo Edmund', 'Daniel', 'Daniel Danielsen', 'Daniel J', 'Daniel Warner', 'Denis', 'Dibo', 'Dickinson H', 'Domingos Fernandeo', 'Douglas Bullen', 'Eberhard Thelander', 'Eden Leslie', 'Edgar Joseph', 'Edgardo Samuel', 'Edmond Roger', 'Edvard', 'Edvard Bengtsson', 'Edvin Rojj Felix', 'Edward Arthur', 'Edward Austin', 'Edward Gifford', 'Edward H', 'Edward Pennington', 'Edward Pomeroy', 'Edward Roland', 'Edwin Nelson Jr', 'Edwy Arthur', 'Einar', 'Eino Viljami', 'Eino William', 'Eiriik', 'Elias', 'Eliezer', 'Elmer Zebley', 'Emile', 'Engelhart Cornelius', 'Ennis Hastings', 'Eric', 'Erik', 'Erik Gustaf', 'Ernest', 'Ernest Charles', 'Ernest Courtenay', 'Ernest James', 'Ernest Portage', 'Ernesti Arvid', 'Ernst Adolf', 'Ernst Gilbert', 'Ernst Ulrik', 'Ernst William', 'Ervin G', 'Eugene', 'Eugene Patrick', 'Fahim', 'Fang', 'Fared', 'Farred Chehab', 'Fletcher Fellows', 'Francesco', 'Francis', 'Francis Davis', 'Francis William', 'Francisco M', 'Frank', 'Frank John', 'Frank John William', 'Frans Olof', 'Frederic Kimber', 'Frederick Charles', 'Frederick Edward', 'Frederick James', 'Frederick Maxfield', 'Fridtjof Arne', 'George Achilles', 'George B', 'George Edward', 'George Floyd', 'George Hugh', 'George John Jr', 'George Quincy', 'George Sibley', 'Gerios', 'Gosta Leonard', 'Guentcho', 'Gurshon', 'Gustaf Hjalmar', 'Gustaf Joel', 'Gustave J', 'Halim Gonios', 'Hammad', 'Hanna Assi', 'Hans Kristensen', 'Hans Linus', 'Hans Martin Monsen', 'Hans Peder', 'Harald', 'Harold Theodor', 'Harold Victor', 'Harry Elkins', 'Harry Markland', 'Harvey', 'Henrik Juul', 'Henry Birkhardt', 'Henry Damsgaard', 'Henry Forbes', 'Henry Jr', 'Henry Margido', 'Henry Michael', 'Henry Price', 'Henry Samuel', 'Henry Sleeper', 'Henry William', 'Herbert Fuller', 'Herman', 'Houssein G N', 'Howard Hugh', 'Hudson Trevor', 'Hugh', 'Hugh Roscoe', 'Husein', 'Ignjac', 'Iisakki Antino Aijo', 'Ilia', 'Ilmari Rudolf', 'Ingvald Olai Olsen', 'Jaako Arnold', 'Jacob', 'Jacob Christian', 'Jacques Heath', 'Jakob', 'James Clinch', 'James George', 'James H', 'James Robert', 'Jan Baptist', 'Janko', 'Jean Baptiste', 'Jeremiah', 'Jeso', 'Johan Birger', 'Johan Emil', 'Johan Hansen', 'Johan Henrik Johannesson', 'Johan Julian', 'Johan Svensson', 'Johan Werner', 'Johann', 'Johannes Halvorsen', 'Johannes Joseph', 'John Borland', 'John Borland Jr', 'John D', 'John Denzil', 'John Fredrik Alexander', 'John George', 'John Hall', 'John Hatfield', 'John Hugo', 'John Irwin', 'John Montgomery', 'John Morgan Jr', 'John Viktor', 'John William', 'Jose Neto', 'Josef', 'Joseph Charles', 'Joseph J', 'Joseph Jr', 'Joseph Philippe Lemercier', 'Jovan', 'Jovo', 'Jozef', 'Juha', 'Juha Niilo', 'Julian', 'Juozas', 'Kanio', 'Karl Alfred', 'Karl Edwart', 'Karl Gideon', 'Karl Howell', 'Karl Ivar Sven', 'Karl Johan', 'Karl Siegwart Andreas', 'Karl Thorsten', 'Khalil', 'Klas Albin', 'Knud Paust', 'Konrad Mathias Reiersen', 'Kristo', 'Kurt Arnold Gottfrid', 'Len', 'Leo', 'Leo Edmondus', 'Leo Peter', 'Leon', 'Leonard Charles', 'Leonard Mark', 'Leslie', 'Lewis', 'Lewis Richard', 'Lionel', 'Liudevit', 'Malkolm Joackim', 'Mansouer', 'Mansour', 'Manuel E', 'Manuel Estanslas', 'Marin', 'Mark', 'Masabumi', 'Matthew', 'Matti', 'Matti Alexanteri', 'Mauritz Hakan', 'Mauritz Nils Martin', 'Max', 'Maxmillian', 'Meier', 'Michel', 'Michel M', 'Milan', 'Mile', 'Milton Clyde', 'Minko', 'Mito', 'Mitto', 'Mohamed', 'Moses Aaron', 'Nakli', 'Nassef Cassem', 'Neal', 'Nedelio', 'Nestor Cyriel', 'Nicholas', 'Niels Peder', 'Nikola', 'Nikolai Erland', 'Nils August', 'Nils Johan Goransson', 'Nils Martin', 'Norman Campbell', 'Oberst Alfons', 'Olaf Elon', 'Ole Martin', 'Olof', 'Orsen', 'Oskar Arvid', 'Owen George', 'Owen Harris', 'Pastcho', 'Patrick D', 'Paul Edvin', 'Pehr Fabian Oliver Malkolm', 'Peju', 'Pekka Pietari', 'Penko', 'Percival', 'Percival James R', 'Percival Wayland', 'Percy Andrew', 'Petar', 'Petco', 'Peter Andreas Lauritz Andersen', 'Peter David', 'Peter Denis', 'Peter Henry', 'Peter L', 'Philemon', 'Philip', 'Phillippe', 'Pierre', 'Quigg Edmond', 'Rahamin Haim', 'Raihed', 'Ramon', 'Reginald', 'Reginald Charles', 'Reginald Fenton', 'Rene', 'Rene Aime', 'Rene Jacques', 'Richard Cater', 'Richard F', 'Richard Frasar', 'Richard George', 'Richard Henry', 'Richard James', 'Richard Leonard', 'Richard William', 'Ristiu', 'Robert', 'Robert Douglas', 'Robert J', 'Robert James', 'Robert William Norman', 'Robert Williams', 'Roger', 'Rossmore Edward', 'Sahid', 'Samuel Beard', 'Samuel James Hayden', 'Samuel L', 'Sante', 'Sarkis', 'Satio', 'Sebastiano', 'Selman Francis', 'Shadrach', 'Sidney Leonard', 'Sidney Samuel', 'Sigurd Hansen', 'Sigvard Harald Elias', 'Simon', 'Sinai', 'Sleiman', 'Spencer Victor', 'Stanio', 'Stanley George', 'Stanley Hubert', 'Stefo', 'Stephen', 'Stephen Curnow', 'Stephen Weart', 'Stjepan', 'Stoytcho', 'Svend Lauritz', 'Theodor', 'Theodore', 'Thomas Charles', 'Thomas Clinton', 'Thomas Drake Martinez', 'Thomas Henry', 'Thomas J', 'Thomas Joseph', 'Thomas Jr', 'Thomas Leonard', 'Thomas Roussel Davids', 'Thomas Rowan', 'Thomas William Solomon', 'Thor Anderson', 'Thornton', 'Tido', 'Timothy', 'Timothy J', 'Todor', 'Tyrell William', 'Urho Abraham', 'Uscher', 'Vasil', 'Victor Francis', 'Victor de Satode', 'Viktor Richard', 'Viljo', 'Vincenz', 'Walter', 'Walter Chamberlain', 'Walter Donald', 'Walter James', 'Washington', 'Washington Augustus II', 'Wazli', 'Wilhelm', 'William Alfred', 'William Anderson', 'William Arthur', 'William Baird', 'William Bertram', 'William Cahoone Jr', 'William Edward', 'William Ernest', 'William Fisher', 'William Frederick', 'William Henry Marsh', 'William John Robert', 'William Loch', 'William Neal', 'William Rowe', 'William Thompson', 'William Thornton II', 'Wyckoff', 'Yoto', 'Youssef', 'Yousseff']\n"
     ]
    }
   ],
   "source": [
    "female = data[data[\"Sex\"] == \"female\"]\n",
    "unique_female_name = female[\"basicFirstNameList\"].value_counts().loc[lambda x : x == 1].index.tolist()\n",
    "print(f\"Уникальные женские имена: {sorted(unique_female_name)}\")\n",
    "\n",
    "male = data[data[\"Sex\"] == \"male\"]\n",
    "unique_male_name = male[\"basicFirstNameList\"].value_counts().loc[lambda x : x == 1].index.tolist()\n",
    "print(f\"\\nУникальные мужские имена: {sorted(unique_male_name)}\")\n",
    "\n",
    "full_female = data[data[\"Sex\"] == \"female\"]\n",
    "unique_full_female_name = full_female[\"FirstNameList\"].value_counts().loc[lambda x : x == 1].index.tolist()\n",
    "print(f\"\\nУникальные составные женские имена: {sorted(unique_full_female_name)}\")\n",
    "\n",
    "full_male = data[data[\"Sex\"] == \"male\"]\n",
    "unique_full_male_name = full_male[\"FirstNameList\"].value_counts().loc[lambda x : x == 1].index.tolist()\n",
    "print(f\"\\nУникальные составные мужские имена: {sorted(unique_full_male_name)}\")"
   ]
  },
  {
   "cell_type": "markdown",
   "metadata": {},
   "source": [
    "7) Приведите множество всех имен пассажиров, отдельно мужских и женских. Рассмотрите оба варианта - составное имя целиком и составное имя как отдельные имена."
   ]
  },
  {
   "cell_type": "code",
   "execution_count": 59,
   "metadata": {},
   "outputs": [
    {
     "name": "stdout",
     "output_type": "stream",
     "text": [
      "Список женских имен: ['Ada', 'Adele', 'Agda', 'Agnes', 'Albina', 'Alfrida', 'Alice', 'Alma', 'Aloisia', 'Amelia', 'Amelie', 'Amy', 'Ann', 'Anna', 'Anne', 'Annie', 'Asuncion', 'Augusta', 'Aurora', 'Banoura', 'Barrett', 'Beila', 'Bertha', 'Berthe', 'Bessie', 'Bridget', 'Brigdet', 'Carla', 'Caroline', 'Catharina', 'Catherine', 'Charlotte', 'Clara', 'Clear', 'Constance', 'Cordelia', 'Daisy', 'Delia', 'Doolina', 'Dorothy', 'Ebba', 'Edith', 'Edwiga', 'Edwina', 'Eleanor', 'Eliina', 'Elin', 'Elina', 'Elisabeth', 'Elise', 'Eliza', 'Elizabeth', 'Ellen', 'Ellis', 'Elna', 'Elsie', 'Emelia', 'Emily', 'Emma', 'Encarnacion', 'Erna', 'Esther', 'Ethel', 'Eugenie', 'Eva', 'Farnham', 'Fatima', 'Florence', 'Georgette', 'Gerda', 'Gertrude', 'Gladys', 'Grace', 'Gretchen', 'Hannah', 'Hanne', 'Hanora', 'Harriet', 'Hedwig', 'Helen', 'Helena', 'Helene', 'Helmina', 'Henriette', 'Hilda', 'Hildur', 'Hileni', 'Hulda', 'Ida', 'Imanita', 'Ingeborg', 'Irene', 'Jamila', 'Jane', 'Jean', 'Jeannie', 'Jessie', 'Joan', 'Johanna', 'Josefine', 'Julie', 'Juliet', 'Juliette', 'Karolina', 'Kate', 'Katherine', 'Katie', 'Katriina', 'Kornelia', 'Kristina', 'Laina', 'Latifa', 'Laura', 'Leah', 'Leila', 'Leontine', 'Lilian', 'Lillian', 'Lily', 'Lucile', 'Lucille', 'Lucy', 'Luise', 'Lulu', 'Lutie', 'Lyyli', 'Mabel', 'Madeleine', 'Malake', 'Manca', 'Mantoura', 'Mara', 'Margaret', 'Margareth', 'Margaretta', 'Margit', 'Marguerite', 'Mari', 'Maria', 'Marian', 'Marie', 'Marija', 'Marion', 'Marjorie', 'Martha', 'Mary', 'Mathilde', 'Matilda', 'Miriam', 'Myna', 'Nora', 'Nourelain', 'Phyllis', 'Pieta', 'Roberta', 'Robina', 'Rosa', 'Rosalie', 'Ruth', 'Saiide', 'Sallie', 'Sara', 'Selini', 'Selma', 'Sigrid', 'Simonne', 'Stella', 'Stina', 'Sultana', 'Susan', 'Sylvia', 'Telma', 'Thamine', 'Tillie', 'Torborg', 'Velin', 'Vera', 'Virginia', 'Wendla']\n",
      "\n",
      "Список мужских имен: ['Abraham', 'Achille', 'Adola', 'Adolf', 'Adolphe', 'Ahmed', 'Albert', 'Alden', 'Alexander', 'Alfons', 'Alfonzo', 'Alfred', 'Algernon', 'Ali', 'Ambrose', 'Amin', 'Anders', 'Andre', 'Andrew', 'Anthony', 'Antoni', 'Antti', 'Apostolos', 'Archibald', 'Arne', 'Arthur', 'Assad', 'August', 'Austen', 'Austin', 'Bengt', 'Benjamin', 'Berk', 'Bernard', 'Bernt', 'Bertram', 'Branko', 'Carl', 'Carl/Charles', 'Cerin', 'Chang', 'Charles', 'Choong', 'Christo', 'Clarence', 'Claus', 'Cosmo', 'Daniel', 'David', 'Denis', 'Dibo', 'Dickinson', 'Domingos', 'Douglas', 'Eberhard', 'Eden', 'Edgar', 'Edgardo', 'Edmond', 'Edvard', 'Edvin', 'Edward', 'Edwin', 'Edwy', 'Einar', 'Eino', 'Eiriik', 'Elias', 'Eliezer', 'Elmer', 'Emil', 'Emile', 'Engelhart', 'Ennis', 'Eric', 'Erik', 'Ernest', 'Ernesti', 'Ernst', 'Ervin', 'Eugene', 'Fahim', 'Fang', 'Fared', 'Farred', 'Fletcher', 'Francesco', 'Francis', 'Francisco', 'Frank', 'Frans', 'Frederic', 'Frederick', 'Fridtjof', 'George', 'Gerios', 'Gerious', 'Gosta', 'Guentcho', 'Gurshon', 'Gustaf', 'Gustave', 'Halim', 'Hammad', 'Hanna', 'Hans', 'Harald', 'Harold', 'Harry', 'Harvey', 'Henrik', 'Henry', 'Herbert', 'Herman', 'Houssein', 'Howard', 'Hudson', 'Hugh', 'Husein', 'Ignjac', 'Iisakki', 'Ilia', 'Ilmari', 'Ingvald', 'Ivan', 'Jaako', 'Jacob', 'Jacques', 'Jakob', 'James', 'Jan', 'Janko', 'Jean', 'Jeremiah', 'Jeso', 'Johan', 'Johann', 'Johannes', 'John', 'Jose', 'Josef', 'Joseph', 'Jovan', 'Jovo', 'Jozef', 'Juha', 'Juho', 'Julian', 'Juozas', 'Kanio', 'Karl', 'Khalil', 'Klas', 'Knud', 'Konrad', 'Kristo', 'Kurt', 'Lalio', 'Lawrence', 'Lee', 'Len', 'Leo', 'Leon', 'Leonard', 'Leslie', 'Lewis', 'Lionel', 'Liudevit', 'Luka', 'Malkolm', 'Mansouer', 'Mansour', 'Manuel', 'Marin', 'Mark', 'Martin', 'Masabumi', 'Matthew', 'Matti', 'Maurice', 'Mauritz', 'Max', 'Maxmillian', 'Meier', 'Michael', 'Michel', 'Milan', 'Mile', 'Milton', 'Minko', 'Mito', 'Mitto', 'Mohamed', 'Moses', 'Nakli', 'Nassef', 'Neal', 'Nedelio', 'Nestor', 'Nicholas', 'Niels', 'Nikola', 'Nikolai', 'Nils', 'Norman', 'Oberst', 'Olaf', 'Ole', 'Olof', 'Orsen', 'Oskar', 'Owen', 'Pastcho', 'Patrick', 'Paul', 'Pehr', 'Peju', 'Pekka', 'Penko', 'Percival', 'Percy', 'Petar', 'Petco', 'Peter', 'Philemon', 'Philip', 'Phillippe', 'Pierre', 'Quigg', 'Rahamin', 'Raihed', 'Ramon', 'Reginald', 'Rene', 'Richard', 'Ristiu', 'Robert', 'Roger', 'Rossmore', 'Sahid', 'Samuel', 'Sante', 'Sarkis', 'Satio', 'Sebastiano', 'Selman', 'Shadrach', 'Sidney', 'Sigurd', 'Sigvard', 'Simon', 'Sinai', 'Sleiman', 'Spencer', 'Stanio', 'Stanley', 'Stefo', 'Stephen', 'Stjepan', 'Stoytcho', 'Svend', 'Tannous', 'Theodor', 'Theodore', 'Thomas', 'Thor', 'Thornton', 'Tido', 'Timothy', 'Todor', 'Tyrell', 'Urho', 'Uscher', 'Vasil', 'Victor', 'Viktor', 'Viljo', 'Vincenz', 'Walter', 'Washington', 'Wazli', 'Wilhelm', 'William', 'Wyckoff', 'Yoto', 'Youssef', 'Yousseff']\n",
      "\n",
      "Список составных женских имен: ['Ada E Hall', 'Ada Julia Bone', 'Ada Maria Winfield', 'Ada Mary Worth', 'Adele Achem', 'Adele Kiamie', 'Agda Thorilda Viktoria', 'Agnes', 'Agnes Charlotta Bengtsson', 'Albina', 'Alfrida Konstantia Brogren', 'Alice', 'Alice Adelaide Slow', 'Alice Elizabeth', 'Alice Munger', 'Alice Phoebe', 'Alma Cornelia Berglund', 'Aloisia', 'Amelia', 'Amelia Milley', 'Amelie', 'Amy Frances Christy', 'Amy Zillah Elsie', 'Ann Elizabeth', 'Anna', 'Anna Andrews', 'Anna Bernhardina Karlsson', 'Anna Katherine', 'Anna Kristine', 'Anna Sigrid Maria Brogren', 'Anna Sofia', 'Anna Sophia Atkinson', 'Anna Sylfven', 'Anne', 'Annie', 'Annie Clemmer', 'Annie Jessie', 'Annie Louise Rowley', 'Asuncion', 'Augusta', 'Augusta Charlotta', 'Augusta Maria', 'Augusta Tyler', 'Aurora Adelia', 'Banoura', 'Barrett', 'Beila', 'Bertha', 'Bertha Griggs', 'Berthe Antonine', 'Bessie Waldo Daniels', 'Bridget', 'Bridget Mary', 'Brigdet Delia', 'Carla Christine Nielsine', 'Caroline Louise', 'Catharina', 'Catherine', 'Catherine David', 'Catherine Helen', 'Catherine Rizk', 'Charlotte Annie Tate', 'Charlotte Lamson', 'Clara Heinsheimer', 'Clara Jennings Gregg', 'Clear Annie', 'Constance Gladys', 'Constance Mirium', 'Cordelia K Stanlick', 'Daisy E', 'Delia', 'Doolina Margaret', 'Dorothy Ann Wonnacott', 'Dorothy Edith', 'Ebba Iris Alfrida', 'Edith Junkins', 'Edith Martha Bowerman', 'Edith Wearne', 'Edwiga Grabowska', 'Edwina Celia', 'Eleanor Ileen', 'Eliina', 'Elin Matilda Dolck', 'Elina', 'Elisabeth Vilhelmina Berg', 'Elisabeth Walton', 'Elisabeth Walton McMillan', 'Elise', 'Eliza Needs', 'Elizabeth', 'Elizabeth Anne Maidment', 'Elizabeth Anne Wilkinson', 'Elizabeth Catherine Ford', 'Elizabeth Margaret', 'Elizabeth Mussey', 'Elizabeth Ramell', 'Elizabeth W', 'Ellen', 'Ellen Natalia', 'Ellis Anna Maria', 'Elna Matilda Persson', 'Elsie', 'Elsie Edith', 'Emelia Maria Vandemoortele', 'Emily', 'Emily Alice Brown', 'Emily Borie', 'Emily Hocking', 'Emma', 'Encarnacion', 'Erna Alexandra', 'Esther Ada Bloomfield', 'Ethel', 'Ethel Clarke', 'Eugenie', 'Eva Miriam', 'Farnham', 'Fatima', 'Florence', 'Florence Briggs Thayer', 'Florence Kate White', 'Georgette Alexandra', 'Gerda Ulrika', 'Gertrude Maybelle', 'Gladys', 'Grace Charity Laury', 'Gretchen Fiske', 'Hannah Wizosky', 'Hanne Youssef Razi', 'Hanora', 'Harriet R', 'Hedwig', 'Hedwig Margaritha', 'Helen', 'Helen Loraine', 'Helen Mary', 'Helen Monypeny', 'Helen Walton', 'Helena Wilhelmina', 'Helene Barbara', 'Helene DeLaudeniere Chaput', 'Helmina Josefina', 'Henriette', 'Hilda Mary', 'Hildur E', 'Hileni', 'Hulda Amanda Adolfina', 'Ida', 'Ida Sofia', 'Ida Sophia Fischer', 'Imanita Parrish Hall', 'Ingeborg Constanzia', 'Irene Wallach', 'Jamila', 'Jane Anne Forby', 'Jane Laver', 'Jane Richards', 'Jean Gertrude', 'Jeannie', 'Jessie L', 'Jessie Wills', 'Joan', 'Johanna', 'Johanna Persdotter Larsson', 'Josefine Franchi', 'Julie Rachel', 'Juliet Cummins Wright', 'Juliette Marie Louise Lafargue', 'Karolina', 'Kate', 'Kate Florence', 'Katherine', 'Katie', 'Katriina', 'Kornelia Theodosia', 'Kristina Sofia', 'Laina', 'Latifa Qurban', 'Laura Mabel', 'Leah Rosen', 'Leila Saks', 'Leontine Pauline', 'Lilian Hughes', 'Lillian Amy', 'Lillian Gertrud', 'Lillian Jefferys', 'Lily Alexenia Wilson', 'Lily May Peel', 'Lucile Polk', 'Lucille Christiana Sutherland', 'Lucy', 'Lucy Noel Martha Dyer-Edwards', 'Luise Gretchen', 'Lulu Thorne Christian', 'Lutie Davis', 'Lyyli Karoliina', 'Mabel', 'Mabel Helen', 'Madeleine', 'Madeleine Talmadge Force', 'Madeleine Violet', 'Malake', 'Manca', 'Mantoura Boulos', 'Mara', 'Margaret', 'Margaret Ann Watson', 'Margaret Bechstein', 'Margaret Delia', 'Margaret Edith', 'Margaret Jane', 'Margaret Norton', 'Margaret Tobin', 'Margaret Welles Barron', 'Margareth', 'Margaretta Corning Stone', 'Margit Elizabeth', 'Marguerite Rut', 'Mari Aina', 'Maria', 'Maria Elias', 'Maria Emilia Ojala', 'Maria Josefa Perez de Soto y Vallejo', 'Maria Mathilda Gustafsson', 'Marian Longstreth Morris', 'Marie Catherine', 'Marie Eugenie', 'Marie Grice', 'Marie Marthe Thuillard', 'Marija', 'Marion', 'Marion Elsie', 'Marion Louise', 'Marion Ogden', 'Marjorie', 'Martha Eustis', 'Martha Evelyn', 'Mary', 'Mary Agatha', 'Mary Aline Towner', 'Mary Conover', 'Mary D Kingcome', 'Mary E Finck', 'Mary Hitchcock', 'Mary Natalie', 'Mathilde', 'Mathilde Francoise Pede', 'Matilda', 'Miriam Sternin', 'Myna Haxtun', 'Nora A', 'Nourelain', 'Phyllis May', 'Pieta Sofia', 'Roberta', 'Robina Maggie', 'Rosa', 'Rosa Hunt', 'Rosalie', 'Rosalie Paula Govaert', 'Ruth', 'Saiide', 'Sallie Monypeny', 'Sara Rebecca', 'Selini Alexander', 'Selma Augusta Emilia Johansson', 'Sigrid Elisabeth', 'Simonne Marie Anne Andree', 'Stella Anna', 'Stina Viola', 'Sultana', 'Susan', 'Susan Parker', 'Sylvia Mae Harbaugh', 'Telma Matilda', 'Thamine', 'Tillie Mandelbaum', 'Torborg Danira', 'Velin', 'Vera Gillespie', 'Virginia Ethel', 'Wendla Maria']\n",
      "\n",
      "Список составных мужских имен: ['Abraham', 'Achille', 'Adola', 'Adolf Mathias Nicolai Olsen', 'Adolphe', 'Ahmed', 'Albert', 'Albert A', 'Albert Adrian', 'Albert Johan', 'Alden Gates', 'Alexander', 'Alexander Oskar', 'Alfons', 'Alfonzo', 'Alfred', 'Alfred Fleming', 'Alfred George John', 'Alfred J', 'Alfred Ossian', 'Algernon Henry Wilson', 'Ali', 'Ambrose Jr', 'Amin', 'Anders Johan', 'Anders Vilhelm', 'Andre', 'Andrew', 'Andrew G', 'Anthony', 'Anthony Wood', 'Antoni', 'Antti Gustaf', 'Antti Wilhelm', 'Apostolos', 'Archibald Willingham', 'Arne Jonas', 'Arthur', 'Arthur Ernest', 'Arthur Godfrey', 'Arthur H', 'Arthur Jackson', 'Arthur Webster', 'Assad Alexander', 'August', 'August Edvard', 'August Sigfrid', 'August Viktor', 'Austen', 'Austin Blyler', 'Bengt Edvin', 'Benjamin', 'Benjamin Laventall', 'Berk', 'Bernard', 'Bernt', 'Bertram Frank', 'Bertram Vere', 'Branko', 'Carl', 'Carl Olof', 'Carl/Charles Peter', 'Cerin', 'Chang', 'Charles', 'Charles Alexander', 'Charles Duane', 'Charles Edward', 'Charles Eugene', 'Charles Frederick Waddington', 'Charles H', 'Charles Hallace', 'Charles Henry', 'Charles Joseph', 'Charles Leonard', 'Choong', 'Christo', 'Clarence Gustaf Hugo', 'Claus Peter', 'Cosmo Edmund', 'Daniel', 'Daniel Danielsen', 'Daniel J', 'Daniel Warner', 'David', 'David John', 'Denis', 'Dibo', 'Dickinson H', 'Domingos Fernandeo', 'Douglas Bullen', 'Eberhard Thelander', 'Eden Leslie', 'Edgar Joseph', 'Edgardo Samuel', 'Edmond Roger', 'Edvard', 'Edvard Bengtsson', 'Edvin Rojj Felix', 'Edward', 'Edward Arthur', 'Edward Austin', 'Edward Gifford', 'Edward H', 'Edward Pennington', 'Edward Pomeroy', 'Edward Roland', 'Edwin Nelson Jr', 'Edwy Arthur', 'Einar', 'Eino Viljami', 'Eino William', 'Eiriik', 'Elias', 'Eliezer', 'Elmer Zebley', 'Emil', 'Emile', 'Engelhart Cornelius', 'Ennis Hastings', 'Eric', 'Erik', 'Erik Gustaf', 'Ernest', 'Ernest Charles', 'Ernest Courtenay', 'Ernest James', 'Ernest Portage', 'Ernesti Arvid', 'Ernst Adolf', 'Ernst Gilbert', 'Ernst Ulrik', 'Ernst William', 'Ervin G', 'Eugene', 'Eugene Patrick', 'Fahim', 'Fang', 'Fared', 'Farred Chehab', 'Fletcher Fellows', 'Francesco', 'Francis', 'Francis Davis', 'Francis William', 'Francisco M', 'Frank', 'Frank John', 'Frank John William', 'Frans Olof', 'Frederic Kimber', 'Frederick', 'Frederick Charles', 'Frederick Edward', 'Frederick James', 'Frederick Maxfield', 'Frederick William', 'Fridtjof Arne', 'George', 'George Achilles', 'George B', 'George Edward', 'George Floyd', 'George Henry', 'George Hugh', 'George John Jr', 'George Quincy', 'George Sibley', 'Gerios', 'Gerious', 'Gosta Leonard', 'Guentcho', 'Gurshon', 'Gustaf Hjalmar', 'Gustaf Joel', 'Gustave J', 'Halim Gonios', 'Hammad', 'Hanna', 'Hanna Assi', 'Hans Kristensen', 'Hans Linus', 'Hans Martin Monsen', 'Hans Peder', 'Harald', 'Harold Theodor', 'Harold Victor', 'Harry', 'Harry Elkins', 'Harry Markland', 'Harvey', 'Henrik Juul', 'Henry', 'Henry Birkhardt', 'Henry Damsgaard', 'Henry Forbes', 'Henry Jr', 'Henry Margido', 'Henry Michael', 'Henry Price', 'Henry Samuel', 'Henry Sleeper', 'Henry William', 'Herbert Fuller', 'Herman', 'Houssein G N', 'Howard Hugh', 'Hudson Trevor', 'Hugh', 'Hugh Roscoe', 'Husein', 'Ignjac', 'Iisakki Antino Aijo', 'Ilia', 'Ilmari Rudolf', 'Ingvald Olai Olsen', 'Ivan', 'Jaako Arnold', 'Jacob', 'Jacob Christian', 'Jacques Heath', 'Jakob', 'Jakob Alfred', 'James', 'James Clinch', 'James George', 'James H', 'James Robert', 'Jan Baptist', 'Janko', 'Jean Baptiste', 'Jeremiah', 'Jeso', 'Johan', 'Johan Birger', 'Johan Emil', 'Johan Hansen', 'Johan Henrik Johannesson', 'Johan Julian', 'Johan Svensson', 'Johan Werner', 'Johann', 'Johannes Halvorsen', 'Johannes Joseph', 'John', 'John Borland', 'John Borland Jr', 'John D', 'John Denzil', 'John Fredrik Alexander', 'John George', 'John Hall', 'John Hatfield', 'John Henry', 'John Hugo', 'John Irwin', 'John Montgomery', 'John Morgan Jr', 'John Viktor', 'John William', 'Jose Neto', 'Josef', 'Joseph', 'Joseph Charles', 'Joseph J', 'Joseph Jr', 'Joseph Philippe Lemercier', 'Jovan', 'Jovo', 'Jozef', 'Juha', 'Juha Niilo', 'Juho', 'Julian', 'Juozas', 'Kanio', 'Karl Alfred', 'Karl Edwart', 'Karl Gideon', 'Karl Howell', 'Karl Ivar Sven', 'Karl Johan', 'Karl Siegwart Andreas', 'Karl Thorsten', 'Khalil', 'Klas Albin', 'Knud Paust', 'Konrad Mathias Reiersen', 'Kristo', 'Kurt Arnold Gottfrid', 'Lalio', 'Lawrence', 'Lee', 'Len', 'Leo', 'Leo Edmondus', 'Leo Peter', 'Leon', 'Leonard Charles', 'Leonard Mark', 'Leslie', 'Lewis', 'Lewis Richard', 'Lionel', 'Liudevit', 'Luka', 'Malkolm Joackim', 'Mansouer', 'Mansour', 'Manuel E', 'Manuel Estanslas', 'Marin', 'Mark', 'Martin', 'Masabumi', 'Matthew', 'Matti', 'Matti Alexanteri', 'Maurice', 'Mauritz Hakan', 'Mauritz Nils Martin', 'Max', 'Maxmillian', 'Meier', 'Michael', 'Michel', 'Michel M', 'Milan', 'Mile', 'Milton Clyde', 'Minko', 'Mito', 'Mitto', 'Mohamed', 'Moses Aaron', 'Nakli', 'Nassef Cassem', 'Neal', 'Nedelio', 'Nestor Cyriel', 'Nicholas', 'Niels Peder', 'Nikola', 'Nikolai Erland', 'Nils August', 'Nils Johan Goransson', 'Nils Martin', 'Norman Campbell', 'Oberst Alfons', 'Olaf Elon', 'Ole Martin', 'Olof', 'Orsen', 'Oskar Arvid', 'Owen George', 'Owen Harris', 'Pastcho', 'Patrick', 'Patrick D', 'Paul Edvin', 'Pehr Fabian Oliver Malkolm', 'Peju', 'Pekka Pietari', 'Penko', 'Percival', 'Percival James R', 'Percival Wayland', 'Percy Andrew', 'Petar', 'Petco', 'Peter Andreas Lauritz Andersen', 'Peter David', 'Peter Denis', 'Peter Henry', 'Peter L', 'Philemon', 'Philip', 'Phillippe', 'Pierre', 'Quigg Edmond', 'Rahamin Haim', 'Raihed', 'Ramon', 'Reginald', 'Reginald Charles', 'Reginald Fenton', 'Rene', 'Rene Aime', 'Rene Jacques', 'Richard', 'Richard Cater', 'Richard F', 'Richard Frasar', 'Richard George', 'Richard Henry', 'Richard James', 'Richard Leonard', 'Richard William', 'Ristiu', 'Robert', 'Robert Douglas', 'Robert J', 'Robert James', 'Robert William Norman', 'Robert Williams', 'Roger', 'Rossmore Edward', 'Sahid', 'Samuel', 'Samuel Beard', 'Samuel James Hayden', 'Samuel L', 'Sante', 'Sarkis', 'Satio', 'Sebastiano', 'Selman Francis', 'Shadrach', 'Sidney Leonard', 'Sidney Samuel', 'Sigurd Hansen', 'Sigvard Harald Elias', 'Simon', 'Sinai', 'Sleiman', 'Spencer Victor', 'Stanio', 'Stanley George', 'Stanley Hubert', 'Stefo', 'Stephen', 'Stephen Curnow', 'Stephen Weart', 'Stjepan', 'Stoytcho', 'Svend Lauritz', 'Tannous', 'Theodor', 'Theodore', 'Thomas', 'Thomas Charles', 'Thomas Clinton', 'Thomas Drake Martinez', 'Thomas Henry', 'Thomas J', 'Thomas Joseph', 'Thomas Jr', 'Thomas Leonard', 'Thomas Roussel Davids', 'Thomas Rowan', 'Thomas William Solomon', 'Thor Anderson', 'Thornton', 'Tido', 'Timothy', 'Timothy J', 'Todor', 'Tyrell William', 'Urho Abraham', 'Uscher', 'Vasil', 'Victor', 'Victor Francis', 'Victor de Satode', 'Viktor Richard', 'Viljo', 'Vincenz', 'Walter', 'Walter Chamberlain', 'Walter Donald', 'Walter James', 'Washington', 'Washington Augustus II', 'Wazli', 'Wilhelm', 'William', 'William Alfred', 'William Anderson', 'William Arthur', 'William Baird', 'William Bertram', 'William Cahoone Jr', 'William Edward', 'William Ernest', 'William Fisher', 'William Frederick', 'William Henry', 'William Henry Marsh', 'William James', 'William John', 'William John Robert', 'William Loch', 'William Neal', 'William Rowe', 'William Thomas', 'William Thompson', 'William Thornton II', 'Wyckoff', 'Yoto', 'Youssef', 'Yousseff']\n"
     ]
    }
   ],
   "source": [
    "list_female_name = female[\"basicFirstNameList\"].value_counts().index.tolist()\n",
    "print(f\"Список женских имен: {sorted(list_female_name)}\")\n",
    "\n",
    "list_male_name = male[\"basicFirstNameList\"].value_counts().index.tolist()\n",
    "print(f\"\\nСписок мужских имен: {sorted(list_male_name)}\")\n",
    "\n",
    "list_full_female_name = full_female[\"FirstNameList\"].value_counts().index.tolist()\n",
    "print(f\"\\nСписок составных женских имен: {sorted(list_full_female_name)}\")\n",
    "\n",
    "list_full_male_name = full_male[\"FirstNameList\"].value_counts().index.tolist()\n",
    "print(f\"\\nСписок составных мужских имен: {sorted(list_full_male_name)}\")"
   ]
  },
  {
   "cell_type": "markdown",
   "metadata": {},
   "source": [
    "8) Приведите список имен, которые одновременно встречаются у мужчин, и у женщин. Решите задачу, если рассматривать составные имена как одно имя, и если рассматривать составные имена отдельно. Выведите таблицу пассажирами, имеющими эти имена."
   ]
  },
  {
   "cell_type": "code",
   "execution_count": 62,
   "metadata": {},
   "outputs": [
    {
     "name": "stdout",
     "output_type": "stream",
     "text": [
      "Множество общих имен: {'Jean'}\n",
      "\n",
      "             Survived Pclass                          Name     Sex   Age  \\\n",
      "PassengerId                                                                \n",
      "330                 1      1  Hippach, Miss. Jean Gertrude  female  16.0   \n",
      "596                 0      3   Van Impe, Mr. Jean Baptiste    male  36.0   \n",
      "\n",
      "             SibSp  Parch  Ticket     Fare Cabin Embarked  FirstNameList  \\\n",
      "PassengerId                                                                \n",
      "330              0      1  111361  57.9792   B18        C  Jean Gertrude   \n",
      "596              1      1  345773  24.1500   NaN        S  Jean Baptiste   \n",
      "\n",
      "            basicFirstNameList  \n",
      "PassengerId                     \n",
      "330                       Jean  \n",
      "596                       Jean  \n",
      "\n",
      "Общих полных имен нет.\n"
     ]
    }
   ],
   "source": [
    "set_female_name = set(list_female_name)\n",
    "set_male_name = set(list_male_name)\n",
    "set_general_name = set_female_name & set_male_name\n",
    "if len(set_general_name) == 0:\n",
    "    print(\"Общих имен нет.\")\n",
    "else:\n",
    "    print(f\"Множество общих имен: {set_general_name}\\n\")\n",
    "    print(data[data[\"basicFirstNameList\"].isin(set_general_name)])\n",
    "\n",
    "set_full_female_name = set(list_full_female_name)\n",
    "set_full_male_name = set(list_full_male_name)\n",
    "set_full_general_name = set_full_female_name & set_full_male_name\n",
    "if len(set_full_general_name) == 0:\n",
    "    print(\"\\nОбщих полных имен нет.\")\n",
    "else:\n",
    "    print(f\"\\nМножество общих полных имен: {set_full_general_name}\\n\")\n",
    "    print(f\"\\n{data[data['FirstNameList'].isin(set_full_female_name)]}\")"
   ]
  },
  {
   "cell_type": "code",
   "execution_count": null,
   "metadata": {},
   "outputs": [],
   "source": []
  }
 ],
 "metadata": {
  "kernelspec": {
   "display_name": "Python 3 (ipykernel)",
   "language": "python",
   "name": "python3"
  },
  "language_info": {
   "codemirror_mode": {
    "name": "ipython",
    "version": 3
   },
   "file_extension": ".py",
   "mimetype": "text/x-python",
   "name": "python",
   "nbconvert_exporter": "python",
   "pygments_lexer": "ipython3",
   "version": "3.12.4"
  }
 },
 "nbformat": 4,
 "nbformat_minor": 4
}
