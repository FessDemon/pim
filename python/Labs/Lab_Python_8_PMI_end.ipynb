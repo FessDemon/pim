{
 "cells": [
  {
   "cell_type": "markdown",
   "metadata": {},
   "source": [
    "                                                          Бояринцев Дмитрий Федорович"
   ]
  },
  {
   "cell_type": "markdown",
   "metadata": {},
   "source": [
    "# Лабораторная работа 8"
   ]
  },
  {
   "cell_type": "markdown",
   "metadata": {},
   "source": [
    "### ООП"
   ]
  },
  {
   "cell_type": "markdown",
   "metadata": {
    "jp-MarkdownHeadingCollapsed": true
   },
   "source": [
    "<h4>1. Разработайте программу на языке программирования Python, описывающую музыкальные записи в домашней коллекции. Любая запись характеризуется названием песни, исполнителем, названием альбома, годом выхода, длительностью. Предусмотреть возможность добавления записи в коллекцию, удаления записи, изменения данных о записи, вывода всех записей из указанного альбома определенного исполнителя, поиска записи по названию или длительности.</h4>"
   ]
  },
  {
   "cell_type": "code",
   "execution_count": 16,
   "metadata": {},
   "outputs": [
    {
     "name": "stdout",
     "output_type": "stream",
     "text": [
      "\n",
      "Выберите действие:\n",
      "1. Добавить запись\n",
      "2. Удалить запись\n",
      "3. Обновить запись\n",
      "4. Вывести все записи\n",
      "5. Найти запись по названию\n",
      "6. Найти запись по длительности\n",
      "7. Получить записи по исполнителю и альбому\n",
      "0. Выход\n"
     ]
    },
    {
     "name": "stdin",
     "output_type": "stream",
     "text": [
      "Введите номер действия:  4\n"
     ]
    },
    {
     "name": "stdout",
     "output_type": "stream",
     "text": [
      "\n",
      "Все записи в коллекции:\n",
      "Коллекция пуста.\n",
      "\n",
      "Выберите действие:\n",
      "1. Добавить запись\n",
      "2. Удалить запись\n",
      "3. Обновить запись\n",
      "4. Вывести все записи\n",
      "5. Найти запись по названию\n",
      "6. Найти запись по длительности\n",
      "7. Получить записи по исполнителю и альбому\n",
      "0. Выход\n"
     ]
    },
    {
     "name": "stdin",
     "output_type": "stream",
     "text": [
      "Введите номер действия:  0\n"
     ]
    },
    {
     "name": "stdout",
     "output_type": "stream",
     "text": [
      "Выход из программы.\n"
     ]
    }
   ],
   "source": [
    "class MusicRecord:\n",
    "    def __init__(self, title, artist, album, year, duration):\n",
    "        self.title = title\n",
    "        self.artist = artist\n",
    "        self.album = album\n",
    "        self.year = year\n",
    "        self.duration = duration\n",
    "\n",
    "    def __str__(self):\n",
    "        return f\"{self.title} - {self.artist} | Альбом: {self.album} | Год: {self.year} | Длительность: {self.duration}\"\n",
    "\n",
    "\n",
    "class MusicCollection:\n",
    "    def __init__(self):\n",
    "        self.records = []\n",
    "\n",
    "    def add_record(self, record):\n",
    "        self.records.append(record)\n",
    "        print(f\"Запись '{record.title}' добавлена в коллекцию.\")\n",
    "\n",
    "    def remove_record(self, title):\n",
    "        for record in self.records:\n",
    "            if record.title.lower() == title.lower():\n",
    "                self.records.remove(record)\n",
    "                print(f\"Запись '{title}' удалена из коллекции.\")\n",
    "                return\n",
    "        print(f\"Запись '{title}' не найдена.\")\n",
    "\n",
    "    def update_record(self, title):\n",
    "        for i, record in enumerate(self.records):\n",
    "            if record.title.lower() == title.lower():\n",
    "                new_title = input(\"Введите новое название: \")\n",
    "                new_artist = input(\"Введите нового исполнителя: \")\n",
    "                new_album = input(\"Введите новый альбом: \")\n",
    "                new_year = int(input(\"Введите новый год выхода: \"))\n",
    "                new_duration = input(\"Введите новую длительность: \")\n",
    "                self.records[i] = MusicRecord(new_title, new_artist, new_album, new_year, new_duration)\n",
    "                print(f\"Запись '{title}' обновлена.\")\n",
    "                return\n",
    "        print(f\"Запись '{title}' не найдена.\")\n",
    "\n",
    "    def get_records_by_artist_and_album(self, artist, album):\n",
    "        filtered_records = [record for record in self.records if record.artist.lower() == artist.lower() and record.album.lower() == album.lower()]\n",
    "        return filtered_records\n",
    "\n",
    "    def search_by_title(self, title):\n",
    "        for record in self.records:\n",
    "            if record.title.lower() == title.lower():\n",
    "                return record\n",
    "        return None\n",
    "\n",
    "    def search_by_duration(self, duration):\n",
    "        for record in self.records:\n",
    "            if record.duration == duration:\n",
    "                return record\n",
    "        return None\n",
    "\n",
    "    def display_all_records(self):\n",
    "        if not self.records:\n",
    "            print(\"Коллекция пуста.\")\n",
    "            return\n",
    "        for record in self.records:\n",
    "            print(record)\n",
    "\n",
    "\n",
    "def main():\n",
    "    collection = MusicCollection()\n",
    "\n",
    "    while True:\n",
    "        print(\"\\nВыберите действие:\")\n",
    "        print(\"1. Добавить запись\")\n",
    "        print(\"2. Удалить запись\")\n",
    "        print(\"3. Обновить запись\")\n",
    "        print(\"4. Вывести все записи\")\n",
    "        print(\"5. Найти запись по названию\")\n",
    "        print(\"6. Найти запись по длительности\")\n",
    "        print(\"7. Получить записи по исполнителю и альбому\")\n",
    "        print(\"0. Выход\")\n",
    "\n",
    "        choice = input(\"Введите номер действия: \")\n",
    "\n",
    "        if choice == '1':\n",
    "            title = input(\"Введите название песни: \")\n",
    "            artist = input(\"Введите исполнителя: \")\n",
    "            album = input(\"Введите альбом: \")\n",
    "            year = int(input(\"Введите год выхода: \"))\n",
    "            duration = input(\"Введите длительность: \")\n",
    "            collection.add_record(MusicRecord(title, artist, album, year, duration))\n",
    "\n",
    "        elif choice == '2':\n",
    "            title = input(\"Введите название записи для удаления: \")\n",
    "            collection.remove_record(title)\n",
    "\n",
    "        elif choice == '3':\n",
    "            title = input(\"Введите название записи для обновления: \")\n",
    "            collection.update_record(title)\n",
    "\n",
    "        elif choice == '4':\n",
    "            print(\"\\nВсе записи в коллекции:\")\n",
    "            collection.display_all_records()\n",
    "\n",
    "        elif choice == '5':\n",
    "            title = input(\"Введите название записи для поиска: \")\n",
    "            found_record = collection.search_by_title(title)\n",
    "            if found_record:\n",
    "                print(f\"\\nНайдена запись: {found_record}\")\n",
    "            else:\n",
    "                print(\"\\nЗапись не найдена.\")\n",
    "\n",
    "        elif choice == '6':\n",
    "            duration = input(\"Введите длительность для поиска: \")\n",
    "            found_record = collection.search_by_duration(duration)\n",
    "            if found_record:\n",
    "                print(f\"\\nНайдена запись с длительностью {duration}: {found_record}\")\n",
    "            else:\n",
    "                print(\"\\nЗапись не найдена.\")\n",
    "\n",
    "        elif choice == '7':\n",
    "            artist = input(\"Введите исполнителя: \")\n",
    "            album = input(\"Введите альбом: \")\n",
    "            records = collection.get_records_by_artist_and_album(artist, album)\n",
    "            print(f\"\\nЗаписи исполнителя '{artist}' из альбома '{album}':\")\n",
    "            for record in records:\n",
    "                print(record)\n",
    "\n",
    "        elif choice == '0':\n",
    "            print(\"Выход из программы.\")\n",
    "            break\n",
    "\n",
    "        else:\n",
    "            print(\"Некорректный ввод. Пожалуйста, попробуйте снова.\")\n",
    "\n",
    "\n",
    "if __name__ == \"__main__\":\n",
    "    main()\n"
   ]
  },
  {
   "cell_type": "markdown",
   "metadata": {
    "jp-MarkdownHeadingCollapsed": true
   },
   "source": [
    "<h3>2. Разработайте объектно-ориентированную программу, описывающую информационную систему жилищного агентства, которая позволяет квартиросъемщикам подобрать и снять жилье. Используйте максимальное число возможностей ООП в Python.</h3>"
   ]
  },
  {
   "cell_type": "code",
   "execution_count": 15,
   "metadata": {},
   "outputs": [
    {
     "name": "stdout",
     "output_type": "stream",
     "text": [
      "\n",
      "Добро пожаловать в Жилищное Агентство!\n",
      "1. Зарегистрироваться как новый квартиросъемщик\n",
      "2. Найти квартиры\n",
      "3. Арендовать квартиру\n",
      "4. Выйти\n"
     ]
    },
    {
     "name": "stdin",
     "output_type": "stream",
     "text": [
      "Выберите опцию (1-4):  1\n",
      "Введите ваше имя:  Дима\n",
      "Введите ваш бюджет:  1000\n"
     ]
    },
    {
     "name": "stdout",
     "output_type": "stream",
     "text": [
      "Квартиросъемщик Дима успешно зарегистрирован.\n",
      "\n",
      "Добро пожаловать в Жилищное Агентство!\n",
      "1. Зарегистрироваться как новый квартиросъемщик\n",
      "2. Найти квартиры\n",
      "3. Арендовать квартиру\n",
      "4. Выйти\n"
     ]
    },
    {
     "name": "stdin",
     "output_type": "stream",
     "text": [
      "Выберите опцию (1-4):  2\n",
      "Введите ваше имя для поиска квартир:  дима\n"
     ]
    },
    {
     "name": "stdout",
     "output_type": "stream",
     "text": [
      "\n",
      "Доступные квартиры для Дима:\n",
      "Квартира по адресу Улица 1, дом 1: 2 комнат(ы), 50 м², Цена: 1000, Статус: Доступна\n",
      "Квартира по адресу Улица 2, дом 2: 1 комнат(ы), 30 м², Цена: 800, Статус: Доступна\n",
      "\n",
      "Добро пожаловать в Жилищное Агентство!\n",
      "1. Зарегистрироваться как новый квартиросъемщик\n",
      "2. Найти квартиры\n",
      "3. Арендовать квартиру\n",
      "4. Выйти\n"
     ]
    },
    {
     "name": "stdin",
     "output_type": "stream",
     "text": [
      "Выберите опцию (1-4):  4\n"
     ]
    },
    {
     "name": "stdout",
     "output_type": "stream",
     "text": [
      "Спасибо за использование системы Жилищного Агентства. До свидания!\n"
     ]
    }
   ],
   "source": [
    "class Apartment:\n",
    "    def __init__(self, address, price, rooms, area):\n",
    "        self.address = address\n",
    "        self.price = price\n",
    "        self.rooms = rooms\n",
    "        self.area = area\n",
    "        self.is_available = True\n",
    "\n",
    "    def rent(self):\n",
    "        if self.is_available:\n",
    "            self.is_available = False\n",
    "            return True\n",
    "        return False\n",
    "\n",
    "    def __str__(self):\n",
    "        availability = \"Доступна\" if self.is_available else \"Недоступна\"\n",
    "        return f\"Квартира по адресу {self.address}: {self.rooms} комнат(ы), {self.area} м², Цена: {self.price}, Статус: {availability}\"\n",
    "\n",
    "\n",
    "class Tenant:\n",
    "    def __init__(self, name, budget):\n",
    "        self.name = name\n",
    "        self.budget = budget\n",
    "\n",
    "    def can_afford(self, apartment):\n",
    "        return self.budget >= apartment.price\n",
    "\n",
    "    def __str__(self):\n",
    "        return f\"Квартиросъемщик: {self.name}, Бюджет: {self.budget}\"\n",
    "\n",
    "\n",
    "class Agency:\n",
    "    def __init__(self):\n",
    "        self.apartments = []\n",
    "\n",
    "    def add_apartment(self, apartment):\n",
    "        self.apartments.append(apartment)\n",
    "\n",
    "    def find_apartments(self, tenant):\n",
    "        available_apartments = [apt for apt in self.apartments if apt.is_available and tenant.can_afford(apt)]\n",
    "        return available_apartments\n",
    "\n",
    "    def rent_apartment(self, tenant, apartment):\n",
    "        if apartment in self.apartments and apartment.is_available and tenant.can_afford(apartment):\n",
    "            if apartment.rent():\n",
    "                print(f\"{tenant.name} арендовал(а) квартиру по адресу {apartment.address}.\")\n",
    "            else:\n",
    "                print(\"Квартира недоступна.\")\n",
    "        else:\n",
    "            print(\"Квартиру нельзя арендовать.\")\n",
    "\n",
    "\n",
    "def main():\n",
    "    agency = Agency()\n",
    "\n",
    "    # Добавление квартир в агентство\n",
    "    agency.add_apartment(Apartment(\"Улица 1, дом 1\", 1000, 2, 50))\n",
    "    agency.add_apartment(Apartment(\"Улица 2, дом 2\", 800, 1, 30))\n",
    "    agency.add_apartment(Apartment(\"Улица 3, дом 3\", 1200, 3, 70))\n",
    "\n",
    "    # Создание квартиросъемщиков\n",
    "    tenants = {}\n",
    "    \n",
    "    while True:\n",
    "        print(\"\\nДобро пожаловать в Жилищное Агентство!\")\n",
    "        print(\"1. Зарегистрироваться как новый квартиросъемщик\")\n",
    "        print(\"2. Найти квартиры\")\n",
    "        print(\"3. Арендовать квартиру\")\n",
    "        print(\"4. Выйти\")\n",
    "\n",
    "        choice = input(\"Выберите опцию (1-4): \")\n",
    "\n",
    "        if choice == '1':\n",
    "            name = input(\"Введите ваше имя: \")\n",
    "            budget = float(input(\"Введите ваш бюджет: \"))\n",
    "            tenants[name.lower()] = Tenant(name, budget)  # Сохраняем имя в нижнем регистре\n",
    "            print(f\"Квартиросъемщик {name} успешно зарегистрирован.\")\n",
    "\n",
    "        elif choice == '2':\n",
    "            name = input(\"Введите ваше имя для поиска квартир: \").lower()  # Приводим к нижнему регистру\n",
    "            if name in tenants:\n",
    "                tenant = tenants[name]\n",
    "                print(f\"\\nДоступные квартиры для {tenant.name}:\")\n",
    "                available_apartments = agency.find_apartments(tenant)\n",
    "                if available_apartments:\n",
    "                    for apt in available_apartments:\n",
    "                        print(apt)\n",
    "                else:\n",
    "                    print(\"Нет доступных квартир в пределах вашего бюджета.\")\n",
    "            else:\n",
    "                print(\"Квартиросъемщик не найден. Пожалуйста, зарегистрируйтесь сначала.\")\n",
    "\n",
    "        elif choice == '3':\n",
    "            name = input(\"Введите ваше имя для аренды квартиры: \").lower()  # Приводим к нижнему регистру\n",
    "            if name in tenants:\n",
    "                tenant = tenants[name]\n",
    "                address = input(\"Введите адрес квартиры, которую хотите арендовать: \").strip().lower()\n",
    "                \n",
    "                # Поиск квартиры без учета регистра\n",
    "                apartment_to_rent = next((apt for apt in agency.apartments if apt.address.lower() == address), None)\n",
    "                \n",
    "                if apartment_to_rent:\n",
    "                    agency.rent_apartment(tenant, apartment_to_rent)\n",
    "                else:\n",
    "                    print(\"Квартира не найдена.\")\n",
    "            else:\n",
    "                print(\"Квартиросъемщик не найден. Пожалуйста, зарегистрируйтесь сначала.\")\n",
    "\n",
    "        elif choice == '4':\n",
    "            print(\"Спасибо за использование системы Жилищного Агентства. До свидания!\")\n",
    "            break\n",
    "\n",
    "        else:\n",
    "            print(\"Неверная опция. Пожалуйста, попробуйте снова.\")\n",
    "\n",
    "\n",
    "if __name__ == \"__main__\":\n",
    "    main()\n"
   ]
  },
  {
   "cell_type": "code",
   "execution_count": null,
   "metadata": {},
   "outputs": [],
   "source": []
  }
 ],
 "metadata": {
  "kernelspec": {
   "display_name": "Python 3 (ipykernel)",
   "language": "python",
   "name": "python3"
  },
  "language_info": {
   "codemirror_mode": {
    "name": "ipython",
    "version": 3
   },
   "file_extension": ".py",
   "mimetype": "text/x-python",
   "name": "python",
   "nbconvert_exporter": "python",
   "pygments_lexer": "ipython3",
   "version": "3.12.4"
  }
 },
 "nbformat": 4,
 "nbformat_minor": 4
}
