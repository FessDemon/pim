{
 "cells": [
  {
   "cell_type": "markdown",
   "metadata": {},
   "source": [
    "                                                          Ф.И.О."
   ]
  },
  {
   "cell_type": "markdown",
   "metadata": {},
   "source": [
    "# Лабораторная работа 8"
   ]
  },
  {
   "cell_type": "markdown",
   "metadata": {},
   "source": [
    "### ООП"
   ]
  },
  {
   "cell_type": "markdown",
   "metadata": {},
   "source": [
    "<h4>1. Разработайте программу на языке программирования Python, описывающую музыкальные записи в домашней коллекции. Любая запись характеризуется названием песни, исполнителем, названием альбома, годом выхода, длительностью. Предусмотреть возможность добавления записи в коллекцию, удаления записи, изменения данных о записи, вывода всех записей из указанного альбома определенного исполнителя, поиска записи по названию или длительности.</h4>"
   ]
  },
  {
   "cell_type": "code",
   "execution_count": null,
   "metadata": {},
   "outputs": [],
   "source": []
  },
  {
   "cell_type": "markdown",
   "metadata": {},
   "source": [
    "<h4>2. Разработайте объектно-ориентированную программу, описывающую информационную систему жилищного агентства, которая позволяет квартиросъемщикам подобрать и снять жилье. Используйте максимальное число возможностей ООП в Python.</h3>"
   ]
  },
  {
   "cell_type": "code",
   "execution_count": 2,
   "metadata": {},
   "outputs": [],
   "source": [
    "from datetime import date\n",
    "\n",
    "class Apartment:\n",
    "    def __init__(self, address, area, rooms):\n",
    "        self.address = address\n",
    "        self.area = area\n",
    "        self.rooms = rooms\n",
    "        self.is_rented = False\n",
    "    \n",
    "    def rent(self):\n",
    "        if not self.is_rented:\n",
    "            print(f\"Квартира {self.address} успешно арендована.\")\n",
    "            self.is_rented = True\n",
    "        else:\n",
    "            print(\"Эта квартира уже арендована.\")\n",
    "    \n",
    "    def return_apartment(self):\n",
    "        if self.is_rented:\n",
    "            print(f\"Квартира {self.address} возвращена владельцу.\")\n",
    "            self.is_rented = False\n",
    "        else:\n",
    "            print(\"Квартира еще не была арендована.\")\n",
    "\n",
    "    def __repr__(self):\n",
    "        return f\"Apartment({self.address}, {self.area}, {self.rooms})\"\n",
    "\n",
    "class Tenant:\n",
    "    def __init__(self, name, phone_number):\n",
    "        self.name = name\n",
    "        self.phone_number = phone_number\n",
    "    \n",
    "    def __repr__(self):\n",
    "        return f\"Tenant({self.name}, {self.phone_number})\"\n",
    "\n",
    "class RentalAgreement:\n",
    "    def __init__(self, apartment, tenant, start_date, end_date):\n",
    "        self.apartment = apartment\n",
    "        self.tenant = tenant\n",
    "        self.start_date = start_date\n",
    "        self.end_date = end_date\n",
    "        \n",
    "    def is_active(self):\n",
    "        today = date.today()\n",
    "        return self.start_date <= today <= self.end_date\n",
    "    \n",
    "    def __repr__(self):\n",
    "        return f\"RentalAgreement({self.apartment}, {self.tenant}, {self.start_date}, {self.end_date})\"\n",
    "\n",
    "class Agency:\n",
    "    def __init__(self, name):\n",
    "        self.name = name\n",
    "        self.available_apartments = []\n",
    "        self.rental_agreements = []\n",
    "    \n",
    "    def add_apartment(self, apartment):\n",
    "        self.available_apartments.append(apartment)\n",
    "    \n",
    "    def remove_apartment(self, apartment):\n",
    "        if apartment in self.available_apartments:\n",
    "            self.available_apartments.remove(apartment)\n",
    "    \n",
    "    def find_available_apartments(self, min_area=None, max_rooms=None):\n",
    "        available_apartments = []\n",
    "        for apartment in self.available_apartments:\n",
    "            if (min_area is None or apartment.area >= min_area) \\\n",
    "                and (max_rooms is None or apartment.rooms <= max_rooms) \\\n",
    "                and not apartment.is_rented:\n",
    "                available_apartments.append(apartment)\n",
    "        return available_apartments\n",
    "    \n",
    "    def create_rental_agreement(self, apartment, tenant, start_date, end_date):\n",
    "        if apartment in self.available_apartments and not apartment.is_rented:\n",
    "            agreement = RentalAgreement(apartment, tenant, start_date, end_date)\n",
    "            self.rental_agreements.append(agreement)\n",
    "            apartment.rent()\n",
    "            return agreement\n",
    "        else:\n",
    "            raise ValueError(\"Невозможно создать договор аренды для этой квартиры.\")\n",
    "    \n",
    "    def get_active_agreements(self):\n",
    "        active_agreements = []\n",
    "        for agreement in self.rental_agreements:\n",
    "            if agreement.is_active():\n",
    "                active_agreements.append(agreement)\n",
    "        return active_agreements\n",
    "    \n",
    "    def terminate_agreement(self, agreement):\n",
    "        if agreement in self.rental_agreements:\n",
    "            agreement.apartment.return_apartment()\n",
    "            self.rental_agreements.remove(agreement)\n",
    "    \n",
    "    def __repr__(self):\n",
    "        return f\"Agency({self.name}, {len(self.available_apartments)} apartments)\""
   ]
  },
  {
   "cell_type": "code",
   "execution_count": 3,
   "metadata": {},
   "outputs": [
    {
     "name": "stdout",
     "output_type": "stream",
     "text": [
      "Доступные квартиры:\n",
      "Apartment(пр-т Мира, д.20, 70, 3)\n",
      "Квартира ул. Ленина, д.10 успешно арендована.\n",
      "\n",
      "Активные договоры аренды:\n",
      "Квартира ул. Ленина, д.10 возвращена владельцу.\n"
     ]
    }
   ],
   "source": [
    "# Создание агентства\n",
    "agency = Agency(\"Лучшее Агентство\")\n",
    "\n",
    "# Добавление нескольких квартир\n",
    "apartment1 = Apartment(\"ул. Ленина, д.10\", 50, 2)\n",
    "apartment2 = Apartment(\"пр-т Мира, д.20\", 70, 3)\n",
    "agency.add_apartment(apartment1)\n",
    "agency.add_apartment(apartment2)\n",
    "\n",
    "# Поиск доступных квартир\n",
    "print(\"Доступные квартиры:\")\n",
    "for apt in agency.find_available_apartments(min_area=60):\n",
    "    print(apt)\n",
    "\n",
    "# Арендаторы\n",
    "tenant1 = Tenant(\"Иван Иванов\", \"+7 900 123-45-67\")\n",
    "tenant2 = Tenant(\"Анна Петрова\", \"+7 901 987-65-43\")\n",
    "\n",
    "# Заключение договора аренды\n",
    "start_date = date(2023, 9, 1)\n",
    "end_date = date(2024, 8, 31)\n",
    "agreement1 = agency.create_rental_agreement(apartment1, tenant1, start_date, end_date)\n",
    "\n",
    "# Проверка активных договоров\n",
    "active_agreements = agency.get_active_agreements()\n",
    "print(\"\\nАктивные договоры аренды:\")\n",
    "for agreement in active_agreements:\n",
    "    print(agreement)\n",
    "\n",
    "# Завершение договора аренды\n",
    "agency.terminate_agreement(agreement1)"
   ]
  },
  {
   "cell_type": "code",
   "execution_count": null,
   "metadata": {},
   "outputs": [],
   "source": []
  },
  {
   "cell_type": "code",
   "execution_count": null,
   "metadata": {},
   "outputs": [],
   "source": []
  }
 ],
 "metadata": {
  "kernelspec": {
   "display_name": "Python 3 (ipykernel)",
   "language": "python",
   "name": "python3"
  },
  "language_info": {
   "codemirror_mode": {
    "name": "ipython",
    "version": 3
   },
   "file_extension": ".py",
   "mimetype": "text/x-python",
   "name": "python",
   "nbconvert_exporter": "python",
   "pygments_lexer": "ipython3",
   "version": "3.12.4"
  }
 },
 "nbformat": 4,
 "nbformat_minor": 4
}
