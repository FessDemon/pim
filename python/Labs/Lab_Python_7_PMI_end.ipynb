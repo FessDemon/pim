{
 "cells": [
  {
   "cell_type": "markdown",
   "metadata": {},
   "source": [
    "#                                    Лабораторная работа №7"
   ]
  },
  {
   "cell_type": "markdown",
   "metadata": {},
   "source": [
    "## Pandas: Обработка данных"
   ]
  },
  {
   "cell_type": "markdown",
   "metadata": {},
   "source": [
    "**1.** Описание исходных данных приведено тут: https://www.kaggle.com/janiobachmann/math-students. Вам предложены измененные данные."
   ]
  },
  {
   "cell_type": "code",
   "execution_count": null,
   "metadata": {
    "colab": {},
    "colab_type": "code",
    "id": "mHCbkFpOXAXO",
    "tags": []
   },
   "outputs": [],
   "source": [
    "# Открываем таблицу с данными об учениках \n",
    "import pandas as pd\n",
    "import numpy as np \n",
    "import matplotlib.pyplot as plt\n",
    "import seaborn as sns\n",
    "import os\n",
    "\n",
    "data = pd.read_csv('math_students.csv', delimiter=',')\n",
    "data.head()"
   ]
  },
  {
   "cell_type": "markdown",
   "metadata": {},
   "source": [
    "Проанализируйте данные - выведите всю возможную информацию, типы данных, распределение по каждому столбцу. "
   ]
  },
  {
   "cell_type": "code",
   "execution_count": null,
   "metadata": {
    "tags": []
   },
   "outputs": [],
   "source": [
    "data.info()"
   ]
  },
  {
   "cell_type": "code",
   "execution_count": null,
   "metadata": {
    "scrolled": true
   },
   "outputs": [],
   "source": [
    "data.describe()"
   ]
  },
  {
   "cell_type": "markdown",
   "metadata": {},
   "source": [
    "При наличии нелогичных данных или пустых значений - постарайтесь исправить то, что можно, а при невозможности исправления, удалите соответствующие строки. Фиксируйте, какие изменения вы выполняете."
   ]
  },
  {
   "cell_type": "code",
   "execution_count": null,
   "metadata": {},
   "outputs": [],
   "source": [
    "for col in data.columns:\n",
    "    print(data[col].value_counts())"
   ]
  },
  {
   "cell_type": "code",
   "execution_count": null,
   "metadata": {},
   "outputs": [],
   "source": [
    "# исправление столбца 'sex'\n",
    "data['sex'] = data['sex'].replace('N', 'M')"
   ]
  },
  {
   "cell_type": "code",
   "execution_count": null,
   "metadata": {},
   "outputs": [],
   "source": [
    "# исправление столбца 'address'\n",
    "data['address'] = data['address'].replace('UU', 'U')\n",
    "data['address'] = data['address'].replace('RR', 'R')"
   ]
  },
  {
   "cell_type": "code",
   "execution_count": null,
   "metadata": {},
   "outputs": [],
   "source": [
    "# исправление столбца 'Pstatus'\n",
    "data['Pstatus'] = data['Pstatus'].replace('А', 'A')"
   ]
  },
  {
   "cell_type": "code",
   "execution_count": null,
   "metadata": {},
   "outputs": [],
   "source": [
    "# исправление столбцов 'Mjob' и 'Fjob'\n",
    "data['Mjob'] = data['Mjob'].replace('healths', 'health')\n",
    "data['Fjob'] = data['Fjob'].replace('service', 'services')"
   ]
  },
  {
   "cell_type": "code",
   "execution_count": null,
   "metadata": {},
   "outputs": [],
   "source": [
    "# исправление столбца 'guardian'\n",
    "data['guardian'] = data['guardian'].replace('fatherfather', 'father')\n",
    "data['guardian'] = data['guardian'].replace('bestmother', 'mother')"
   ]
  },
  {
   "cell_type": "code",
   "execution_count": null,
   "metadata": {},
   "outputs": [],
   "source": [
    "# исправление столбца 'activities'\n",
    "data['activities'] = data['activities'].replace('YES', 'yes')"
   ]
  },
  {
   "cell_type": "code",
   "execution_count": null,
   "metadata": {},
   "outputs": [],
   "source": [
    "# исправление столбца 'higher'\n",
    "data['higher'] = data['higher'].replace('long', 'no')"
   ]
  },
  {
   "cell_type": "code",
   "execution_count": null,
   "metadata": {},
   "outputs": [],
   "source": [
    "# исправление столбца 'internet'\n",
    "data['internet'] = data['internet'].replace('yess', 'yes')"
   ]
  },
  {
   "cell_type": "code",
   "execution_count": null,
   "metadata": {},
   "outputs": [],
   "source": [
    "# исправление столбца 'romantic'\n",
    "data['romantic'] = data['romantic'].replace('noo', 'no')"
   ]
  },
  {
   "cell_type": "code",
   "execution_count": null,
   "metadata": {},
   "outputs": [],
   "source": [
    "# исправление столбца 'famrel'\n",
    "data['famrel'] = data['famrel'].replace(366, 3)"
   ]
  },
  {
   "cell_type": "code",
   "execution_count": null,
   "metadata": {},
   "outputs": [],
   "source": [
    "for col in data.columns:\n",
    "    print(data[col].value_counts())"
   ]
  },
  {
   "cell_type": "code",
   "execution_count": null,
   "metadata": {},
   "outputs": [],
   "source": [
    "# Выведем строки, которые содержат пропущенные данные\n",
    "filtered_data = data[data.isna().any(axis=1)]\n",
    "filtered_data"
   ]
  },
  {
   "cell_type": "code",
   "execution_count": null,
   "metadata": {},
   "outputs": [],
   "source": [
    "# Удаление строк, содержащих пропущенные значения\n",
    "data = data.dropna()\n",
    "data.info()"
   ]
  },
  {
   "cell_type": "markdown",
   "metadata": {},
   "source": [
    "Если в таблице имеются повторяющиеся строки - удалите их."
   ]
  },
  {
   "cell_type": "code",
   "execution_count": null,
   "metadata": {},
   "outputs": [],
   "source": [
    "#duplicate = data.duplicated()\n",
    "#print(duplicate)\n",
    "#data[duplicate]\n",
    "\n",
    "# Удаляем дублированные строки\n",
    "data_unique = data.drop_duplicates()\n",
    "data.info()"
   ]
  },
  {
   "cell_type": "markdown",
   "metadata": {},
   "source": [
    "После предобработки данных визуализируйте распределение значений всех столбцов. "
   ]
  },
  {
   "cell_type": "code",
   "execution_count": null,
   "metadata": {},
   "outputs": [],
   "source": [
    "data.hist(bins=50, figsize=(20,15), color='r')\n",
    "plt.show()"
   ]
  },
  {
   "cell_type": "markdown",
   "metadata": {},
   "source": [
    "Следующие задания выполните на предобработанных данных."
   ]
  },
  {
   "cell_type": "markdown",
   "metadata": {
    "colab_type": "text",
    "id": "1n6Q2mr1XAXX"
   },
   "source": [
    "* Какая причина выбора школы была самой частой? В качестве ответа приведите соответствующее значение признака."
   ]
  },
  {
   "cell_type": "code",
   "execution_count": null,
   "metadata": {
    "colab": {},
    "colab_type": "code",
    "id": "D_jubmNgXAXY"
   },
   "outputs": [],
   "source": [
    "data['reason'].value_counts()"
   ]
  },
  {
   "cell_type": "code",
   "execution_count": null,
   "metadata": {},
   "outputs": [],
   "source": [
    "print(f'Наиболее частая причина выбора школы - {data['reason'].mode().to_list()[0]}')"
   ]
  },
  {
   "cell_type": "markdown",
   "metadata": {
    "colab_type": "text",
    "id": "02xcWVw0XAXb"
   },
   "source": [
    "* Найдите количество студентов, у родителей (одного или обоих - рассмотрите оба варианта) которых нет никакого образования."
   ]
  },
  {
   "cell_type": "code",
   "execution_count": null,
   "metadata": {
    "colab": {},
    "colab_type": "code",
    "id": "rQCZTAydXAXc"
   },
   "outputs": [],
   "source": [
    "data[(data['Medu'] == 0) | (data['Fedu'] == 0)]"
   ]
  },
  {
   "cell_type": "code",
   "execution_count": null,
   "metadata": {},
   "outputs": [],
   "source": [
    "print(f'Количество студентов, у которых хотя бы у одного родителя нет образования = {len(data[(data['Medu'] == 0) | (data['Fedu'] == 0)])}')"
   ]
  },
  {
   "cell_type": "code",
   "execution_count": null,
   "metadata": {},
   "outputs": [],
   "source": [
    "data[(data['Medu'] == 0) & (data['Fedu'] == 0)]"
   ]
  },
  {
   "cell_type": "code",
   "execution_count": null,
   "metadata": {},
   "outputs": [],
   "source": [
    "print(f'Количество студентов, у которых у обоих родителей нет образования = {len(data[(data['Medu'] == 0) & (data['Fedu'] == 0)])}')"
   ]
  },
  {
   "cell_type": "markdown",
   "metadata": {
    "colab_type": "text",
    "id": "hPZhCWolXAXg"
   },
   "source": [
    "* Найдите минимальный возраст учащегося школы Mousinho da Silveira."
   ]
  },
  {
   "cell_type": "code",
   "execution_count": null,
   "metadata": {
    "colab": {},
    "colab_type": "code",
    "id": "iwbblqO-XAXg"
   },
   "outputs": [],
   "source": [
    "df = data[data['school'] == 'MS']\n",
    "df"
   ]
  },
  {
   "cell_type": "code",
   "execution_count": null,
   "metadata": {},
   "outputs": [],
   "source": [
    "print(f'Минимальный возраст учеников школы Mousinho da Silveira = {df['age'].min()}')"
   ]
  },
  {
   "cell_type": "markdown",
   "metadata": {
    "colab_type": "text",
    "id": "cINy8kq-XAXk"
   },
   "source": [
    "* Найдите количество студентов, имеющих нечетное число пропусков."
   ]
  },
  {
   "cell_type": "code",
   "execution_count": null,
   "metadata": {
    "colab": {},
    "colab_type": "code",
    "id": "0SPhqD6GXAXl"
   },
   "outputs": [],
   "source": [
    "df = data[data['absences'] % 2 == 1]\n",
    "df"
   ]
  },
  {
   "cell_type": "code",
   "execution_count": null,
   "metadata": {},
   "outputs": [],
   "source": [
    "print(f'Количество студентов, имеющих нечетное число пропусков занятий = {len(df)}')"
   ]
  },
  {
   "cell_type": "markdown",
   "metadata": {
    "colab_type": "text",
    "id": "cGd3eKvcXAXo"
   },
   "source": [
    "* Найдите разность между средними итоговыми оценками студентов, состоящих и не состоящих в романтических отношениях. В качестве ответа приведите число, округленное до двух значащих цифр после запятой."
   ]
  },
  {
   "cell_type": "code",
   "execution_count": null,
   "metadata": {
    "colab": {},
    "colab_type": "code",
    "id": "tIrAEaCpXAXp"
   },
   "outputs": [],
   "source": [
    "df = data[(data['romantic'] == 'yes')]\n",
    "print(f\"Средняя итоговая оценка студентов, состоящих в романтических отношениях = {df['G3'].mean():.2f}\")\n",
    "\n",
    "df = data[(data['romantic'] == 'no')]\n",
    "print(f\"Средняя итоговая оценка студентов, не состоящих в романтических отношениях =  {df['G3'].mean():.2f}\")"
   ]
  },
  {
   "cell_type": "markdown",
   "metadata": {
    "colab_type": "text",
    "id": "m7tyMSA7XAXs"
   },
   "source": [
    "* Сколько занятий пропустило большинство студентов с самым частым значением наличия внеклассных активностей?\n",
    "\n",
    "*Примечание. В данном контексте под \"большинством\" подразумеваются студенты, имеющее самое частое значение пропусков. То есть в данном задании необходимо:*\n",
    "\n",
    "\n",
    "* *Определить самое частое значение наличия внеклассных активностей (да или нет).*\n",
    "* *Для группы студентов, соответствующей этому значению, рассмотреть значения признака «число пропусков».*\n",
    "* *Для каждого значения числа пропусков посчитать, сколько студентов ему соответствует.*\n",
    "* *Выбрать значение числа пропусков с наибольшим числом студентов.*\n",
    "\n"
   ]
  },
  {
   "cell_type": "code",
   "execution_count": null,
   "metadata": {
    "colab": {},
    "colab_type": "code",
    "id": "-nb9pAmdX4G9"
   },
   "outputs": [],
   "source": [
    "max_v = data['activities'].mode().to_list()[0]\n",
    "print(f'Самое частое значение наличия внеклассных активностей = {max_v}')\n",
    "df = data[(data['activities'] == 'yes') | (data['activities'] == 'YES')]\n",
    "print(df['absences'].value_counts())\n",
    "print(f'Наибольшее число студентов имеет {df['absences'].mode().to_list()[0]} пропусков занятий')\n"
   ]
  },
  {
   "cell_type": "markdown",
   "metadata": {},
   "source": [
    "**2.** Возьмите свой набор данных (или выберите, например, на kaggle). Выполните различные возможные операции по предобработке и первичному анализу данных."
   ]
  },
  {
   "cell_type": "code",
   "execution_count": null,
   "metadata": {},
   "outputs": [],
   "source": [
    "import pandas as pd\n",
    "import numpy as np \n",
    "import matplotlib.pyplot as plt\n",
    "import seaborn as sns\n",
    "import os"
   ]
  },
  {
   "cell_type": "markdown",
   "metadata": {},
   "source": [
    "Most Streamed Spotify Songs 2023 https://www.kaggle.com/datasets/nelgiriyewithana/top-spotify-songs-2023\n"
   ]
  },
  {
   "cell_type": "code",
   "execution_count": 4,
   "metadata": {},
   "outputs": [],
   "source": [
    "sp_stream = pd.read_csv('Lab_7/spotify-2023.csv', delimiter=',', encoding='latin-1')"
   ]
  },
  {
   "cell_type": "code",
   "execution_count": 5,
   "metadata": {},
   "outputs": [
    {
     "name": "stdout",
     "output_type": "stream",
     "text": [
      "<class 'pandas.core.frame.DataFrame'>\n",
      "RangeIndex: 953 entries, 0 to 952\n",
      "Data columns (total 24 columns):\n",
      " #   Column                Non-Null Count  Dtype \n",
      "---  ------                --------------  ----- \n",
      " 0   track_name            953 non-null    object\n",
      " 1   artist(s)_name        953 non-null    object\n",
      " 2   artist_count          953 non-null    int64 \n",
      " 3   released_year         953 non-null    int64 \n",
      " 4   released_month        953 non-null    int64 \n",
      " 5   released_day          953 non-null    int64 \n",
      " 6   in_spotify_playlists  953 non-null    int64 \n",
      " 7   in_spotify_charts     953 non-null    int64 \n",
      " 8   streams               953 non-null    object\n",
      " 9   in_apple_playlists    953 non-null    int64 \n",
      " 10  in_apple_charts       953 non-null    int64 \n",
      " 11  in_deezer_playlists   953 non-null    object\n",
      " 12  in_deezer_charts      953 non-null    int64 \n",
      " 13  in_shazam_charts      903 non-null    object\n",
      " 14  bpm                   953 non-null    int64 \n",
      " 15  key                   858 non-null    object\n",
      " 16  mode                  953 non-null    object\n",
      " 17  danceability_%        953 non-null    int64 \n",
      " 18  valence_%             953 non-null    int64 \n",
      " 19  energy_%              953 non-null    int64 \n",
      " 20  acousticness_%        953 non-null    int64 \n",
      " 21  instrumentalness_%    953 non-null    int64 \n",
      " 22  liveness_%            953 non-null    int64 \n",
      " 23  speechiness_%         953 non-null    int64 \n",
      "dtypes: int64(17), object(7)\n",
      "memory usage: 178.8+ KB\n"
     ]
    }
   ],
   "source": [
    "sp_stream.info()"
   ]
  },
  {
   "cell_type": "code",
   "execution_count": 6,
   "metadata": {},
   "outputs": [
    {
     "name": "stdout",
     "output_type": "stream",
     "text": [
      "track_name\n",
      "About Damn Time       2\n",
      "Miss You              2\n",
      "SPIT IN MY FACE!      2\n",
      "Daylight              2\n",
      "Die For You           2\n",
      "                     ..\n",
      "Gangsta's Paradise    1\n",
      "CAIRO                 1\n",
      "I Love You So         1\n",
      "Dark Red              1\n",
      "Leï¿½                 1\n",
      "Name: count, Length: 943, dtype: int64\n",
      "artist(s)_name\n",
      "Taylor Swift                          34\n",
      "The Weeknd                            22\n",
      "SZA                                   19\n",
      "Bad Bunny                             19\n",
      "Harry Styles                          17\n",
      "                                      ..\n",
      "Gorillaz, Bad Bunny                    1\n",
      "j-hope, J. Cole                        1\n",
      "Robin Schulz, Oliver Tree              1\n",
      "Don Toliver, Future, Justin Bieber     1\n",
      "The Walters                            1\n",
      "Name: count, Length: 645, dtype: int64\n",
      "artist_count\n",
      "1    587\n",
      "2    254\n",
      "3     85\n",
      "4     15\n",
      "5      5\n",
      "6      3\n",
      "8      2\n",
      "7      2\n",
      "Name: count, dtype: int64\n",
      "released_year\n",
      "2022    402\n",
      "2023    175\n",
      "2021    119\n",
      "2020     37\n",
      "2019     36\n",
      "2017     23\n",
      "2016     18\n",
      "2013     13\n",
      "2014     13\n",
      "2015     11\n",
      "2012     10\n",
      "2018     10\n",
      "2011     10\n",
      "2010      7\n",
      "2002      6\n",
      "1999      5\n",
      "2004      4\n",
      "1984      4\n",
      "2000      4\n",
      "1958      3\n",
      "1963      3\n",
      "2008      2\n",
      "1985      2\n",
      "1975      2\n",
      "1995      2\n",
      "2003      2\n",
      "1986      2\n",
      "1970      2\n",
      "1982      2\n",
      "1991      2\n",
      "1959      2\n",
      "1957      2\n",
      "1992      1\n",
      "1968      1\n",
      "1930      1\n",
      "1994      1\n",
      "1997      1\n",
      "1973      1\n",
      "1983      1\n",
      "2007      1\n",
      "1952      1\n",
      "1971      1\n",
      "1950      1\n",
      "1979      1\n",
      "1946      1\n",
      "1942      1\n",
      "2005      1\n",
      "1996      1\n",
      "1998      1\n",
      "1987      1\n",
      "Name: count, dtype: int64\n",
      "released_month\n",
      "1     134\n",
      "5     128\n",
      "3      86\n",
      "6      86\n",
      "11     80\n",
      "12     75\n",
      "10     73\n",
      "4      66\n",
      "7      62\n",
      "2      61\n",
      "9      56\n",
      "8      46\n",
      "Name: count, dtype: int64\n",
      "released_day\n",
      "1     95\n",
      "21    44\n",
      "13    43\n",
      "24    40\n",
      "7     39\n",
      "2     39\n",
      "6     39\n",
      "4     39\n",
      "20    39\n",
      "10    37\n",
      "9     36\n",
      "22    33\n",
      "3     32\n",
      "17    28\n",
      "25    28\n",
      "14    26\n",
      "5     25\n",
      "19    25\n",
      "8     25\n",
      "23    23\n",
      "29    23\n",
      "11    22\n",
      "30    22\n",
      "15    21\n",
      "28    21\n",
      "27    21\n",
      "16    20\n",
      "18    19\n",
      "31    19\n",
      "12    17\n",
      "26    13\n",
      "Name: count, dtype: int64\n",
      "in_spotify_playlists\n",
      "356      3\n",
      "3006     3\n",
      "1112     3\n",
      "1473     3\n",
      "685      3\n",
      "        ..\n",
      "2459     1\n",
      "10624    1\n",
      "2418     1\n",
      "7536     1\n",
      "7461     1\n",
      "Name: count, Length: 879, dtype: int64\n",
      "in_spotify_charts\n",
      "0     405\n",
      "4      48\n",
      "2      42\n",
      "6      36\n",
      "3      18\n",
      "     ... \n",
      "66      1\n",
      "88      1\n",
      "58      1\n",
      "62      1\n",
      "63      1\n",
      "Name: count, Length: 82, dtype: int64\n",
      "streams\n",
      "723894473     2\n",
      "1223481149    2\n",
      "395591396     2\n",
      "156338624     2\n",
      "200972675     1\n",
      "             ..\n",
      "294352144     1\n",
      "972164968     1\n",
      "920045682     1\n",
      "2420461338    1\n",
      "1221813483    1\n",
      "Name: count, Length: 949, dtype: int64\n",
      "in_apple_playlists\n",
      "0      23\n",
      "8      22\n",
      "16     20\n",
      "20     20\n",
      "10     20\n",
      "       ..\n",
      "289     1\n",
      "162     1\n",
      "135     1\n",
      "222     1\n",
      "102     1\n",
      "Name: count, Length: 234, dtype: int64\n",
      "in_apple_charts\n",
      "0      100\n",
      "1       40\n",
      "2       26\n",
      "3       24\n",
      "6       16\n",
      "      ... \n",
      "136      1\n",
      "151      1\n",
      "275      1\n",
      "266      1\n",
      "141      1\n",
      "Name: count, Length: 172, dtype: int64\n",
      "in_deezer_playlists\n",
      "0      24\n",
      "15     23\n",
      "5      20\n",
      "13     20\n",
      "12     18\n",
      "       ..\n",
      "270     1\n",
      "125     1\n",
      "863     1\n",
      "328     1\n",
      "745     1\n",
      "Name: count, Length: 348, dtype: int64\n",
      "in_deezer_charts\n",
      "0     558\n",
      "1     137\n",
      "2      48\n",
      "3      31\n",
      "6      18\n",
      "4      18\n",
      "5      18\n",
      "9      14\n",
      "11     11\n",
      "14     11\n",
      "13      9\n",
      "12      9\n",
      "8       8\n",
      "18      7\n",
      "7       7\n",
      "10      6\n",
      "16      6\n",
      "15      6\n",
      "17      4\n",
      "22      3\n",
      "26      3\n",
      "20      3\n",
      "24      3\n",
      "37      2\n",
      "21      2\n",
      "38      2\n",
      "19      2\n",
      "23      1\n",
      "58      1\n",
      "46      1\n",
      "45      1\n",
      "28      1\n",
      "31      1\n",
      "29      1\n",
      "Name: count, dtype: int64\n",
      "in_shazam_charts\n",
      "0      344\n",
      "1       73\n",
      "2       35\n",
      "3       21\n",
      "4       19\n",
      "      ... \n",
      "101      1\n",
      "141      1\n",
      "198      1\n",
      "68       1\n",
      "95       1\n",
      "Name: count, Length: 198, dtype: int64\n",
      "bpm\n",
      "120    39\n",
      "130    31\n",
      "140    31\n",
      "92     25\n",
      "110    24\n",
      "       ..\n",
      "189     1\n",
      "196     1\n",
      "200     1\n",
      "188     1\n",
      "165     1\n",
      "Name: count, Length: 124, dtype: int64\n",
      "key\n",
      "C#    120\n",
      "G      96\n",
      "G#     91\n",
      "F      89\n",
      "B      81\n",
      "D      81\n",
      "A      75\n",
      "F#     73\n",
      "E      62\n",
      "A#     57\n",
      "D#     33\n",
      "Name: count, dtype: int64\n",
      "mode\n",
      "Major    550\n",
      "Minor    403\n",
      "Name: count, dtype: int64\n",
      "danceability_%\n",
      "70    43\n",
      "77    32\n",
      "80    31\n",
      "56    30\n",
      "74    29\n",
      "      ..\n",
      "24     1\n",
      "27     1\n",
      "29     1\n",
      "96     1\n",
      "38     1\n",
      "Name: count, Length: 72, dtype: int64\n",
      "valence_%\n",
      "24    21\n",
      "40    20\n",
      "59    18\n",
      "55    18\n",
      "53    18\n",
      "      ..\n",
      "6      3\n",
      "16     3\n",
      "5      2\n",
      "9      2\n",
      "95     1\n",
      "Name: count, Length: 94, dtype: int64\n",
      "energy_%\n",
      "74    29\n",
      "62    28\n",
      "76    27\n",
      "66    25\n",
      "73    23\n",
      "      ..\n",
      "14     1\n",
      "95     1\n",
      "23     1\n",
      "15     1\n",
      "16     1\n",
      "Name: count, Length: 80, dtype: int64\n",
      "acousticness_%\n",
      "0     60\n",
      "1     48\n",
      "4     35\n",
      "2     33\n",
      "3     30\n",
      "      ..\n",
      "85     2\n",
      "82     2\n",
      "96     1\n",
      "95     1\n",
      "68     1\n",
      "Name: count, Length: 98, dtype: int64\n",
      "instrumentalness_%\n",
      "0     866\n",
      "1      21\n",
      "2       7\n",
      "4       5\n",
      "3       4\n",
      "5       4\n",
      "18      3\n",
      "6       3\n",
      "9       3\n",
      "63      3\n",
      "10      2\n",
      "24      2\n",
      "8       2\n",
      "13      2\n",
      "51      2\n",
      "19      1\n",
      "17      1\n",
      "46      1\n",
      "25      1\n",
      "35      1\n",
      "47      1\n",
      "12      1\n",
      "90      1\n",
      "41      1\n",
      "23      1\n",
      "20      1\n",
      "30      1\n",
      "15      1\n",
      "91      1\n",
      "27      1\n",
      "72      1\n",
      "42      1\n",
      "14      1\n",
      "44      1\n",
      "11      1\n",
      "61      1\n",
      "83      1\n",
      "22      1\n",
      "33      1\n",
      "Name: count, dtype: int64\n",
      "liveness_%\n",
      "11    102\n",
      "9      93\n",
      "10     78\n",
      "12     72\n",
      "8      54\n",
      "     ... \n",
      "52      1\n",
      "90      1\n",
      "97      1\n",
      "67      1\n",
      "54      1\n",
      "Name: count, Length: 68, dtype: int64\n",
      "speechiness_%\n",
      "4     175\n",
      "3     152\n",
      "5     130\n",
      "6      76\n",
      "8      52\n",
      "7      49\n",
      "9      37\n",
      "10     24\n",
      "11     22\n",
      "12     16\n",
      "14     15\n",
      "13     12\n",
      "16     11\n",
      "23     11\n",
      "24     10\n",
      "20     10\n",
      "25      9\n",
      "21      8\n",
      "36      8\n",
      "28      8\n",
      "31      8\n",
      "22      7\n",
      "33      7\n",
      "19      7\n",
      "32      7\n",
      "29      7\n",
      "15      6\n",
      "17      6\n",
      "18      6\n",
      "26      6\n",
      "34      6\n",
      "39      5\n",
      "27      5\n",
      "38      5\n",
      "40      4\n",
      "30      4\n",
      "35      4\n",
      "46      3\n",
      "2       3\n",
      "45      2\n",
      "37      2\n",
      "44      2\n",
      "64      1\n",
      "49      1\n",
      "42      1\n",
      "41      1\n",
      "43      1\n",
      "59      1\n",
      "Name: count, dtype: int64\n"
     ]
    }
   ],
   "source": [
    "for col in sp_stream.columns:\n",
    "    print(sp_stream[col].value_counts())"
   ]
  },
  {
   "cell_type": "code",
   "execution_count": 7,
   "metadata": {},
   "outputs": [
    {
     "data": {
      "text/html": [
       "<div>\n",
       "<style scoped>\n",
       "    .dataframe tbody tr th:only-of-type {\n",
       "        vertical-align: middle;\n",
       "    }\n",
       "\n",
       "    .dataframe tbody tr th {\n",
       "        vertical-align: top;\n",
       "    }\n",
       "\n",
       "    .dataframe thead th {\n",
       "        text-align: right;\n",
       "    }\n",
       "</style>\n",
       "<table border=\"1\" class=\"dataframe\">\n",
       "  <thead>\n",
       "    <tr style=\"text-align: right;\">\n",
       "      <th></th>\n",
       "      <th>track_name</th>\n",
       "      <th>artist(s)_name</th>\n",
       "      <th>artist_count</th>\n",
       "      <th>released_year</th>\n",
       "      <th>released_month</th>\n",
       "      <th>released_day</th>\n",
       "      <th>in_spotify_playlists</th>\n",
       "      <th>in_spotify_charts</th>\n",
       "      <th>streams</th>\n",
       "      <th>in_apple_playlists</th>\n",
       "      <th>...</th>\n",
       "      <th>bpm</th>\n",
       "      <th>key</th>\n",
       "      <th>mode</th>\n",
       "      <th>danceability_%</th>\n",
       "      <th>valence_%</th>\n",
       "      <th>energy_%</th>\n",
       "      <th>acousticness_%</th>\n",
       "      <th>instrumentalness_%</th>\n",
       "      <th>liveness_%</th>\n",
       "      <th>speechiness_%</th>\n",
       "    </tr>\n",
       "  </thead>\n",
       "  <tbody>\n",
       "    <tr>\n",
       "      <th>0</th>\n",
       "      <td>Seven (feat. Latto) (Explicit Ver.)</td>\n",
       "      <td>Latto, Jung Kook</td>\n",
       "      <td>2</td>\n",
       "      <td>2023</td>\n",
       "      <td>7</td>\n",
       "      <td>14</td>\n",
       "      <td>553</td>\n",
       "      <td>147</td>\n",
       "      <td>141381703</td>\n",
       "      <td>43</td>\n",
       "      <td>...</td>\n",
       "      <td>125</td>\n",
       "      <td>B</td>\n",
       "      <td>Major</td>\n",
       "      <td>80</td>\n",
       "      <td>89</td>\n",
       "      <td>83</td>\n",
       "      <td>31</td>\n",
       "      <td>0</td>\n",
       "      <td>8</td>\n",
       "      <td>4</td>\n",
       "    </tr>\n",
       "    <tr>\n",
       "      <th>1</th>\n",
       "      <td>LALA</td>\n",
       "      <td>Myke Towers</td>\n",
       "      <td>1</td>\n",
       "      <td>2023</td>\n",
       "      <td>3</td>\n",
       "      <td>23</td>\n",
       "      <td>1474</td>\n",
       "      <td>48</td>\n",
       "      <td>133716286</td>\n",
       "      <td>48</td>\n",
       "      <td>...</td>\n",
       "      <td>92</td>\n",
       "      <td>C#</td>\n",
       "      <td>Major</td>\n",
       "      <td>71</td>\n",
       "      <td>61</td>\n",
       "      <td>74</td>\n",
       "      <td>7</td>\n",
       "      <td>0</td>\n",
       "      <td>10</td>\n",
       "      <td>4</td>\n",
       "    </tr>\n",
       "    <tr>\n",
       "      <th>2</th>\n",
       "      <td>vampire</td>\n",
       "      <td>Olivia Rodrigo</td>\n",
       "      <td>1</td>\n",
       "      <td>2023</td>\n",
       "      <td>6</td>\n",
       "      <td>30</td>\n",
       "      <td>1397</td>\n",
       "      <td>113</td>\n",
       "      <td>140003974</td>\n",
       "      <td>94</td>\n",
       "      <td>...</td>\n",
       "      <td>138</td>\n",
       "      <td>F</td>\n",
       "      <td>Major</td>\n",
       "      <td>51</td>\n",
       "      <td>32</td>\n",
       "      <td>53</td>\n",
       "      <td>17</td>\n",
       "      <td>0</td>\n",
       "      <td>31</td>\n",
       "      <td>6</td>\n",
       "    </tr>\n",
       "    <tr>\n",
       "      <th>3</th>\n",
       "      <td>Cruel Summer</td>\n",
       "      <td>Taylor Swift</td>\n",
       "      <td>1</td>\n",
       "      <td>2019</td>\n",
       "      <td>8</td>\n",
       "      <td>23</td>\n",
       "      <td>7858</td>\n",
       "      <td>100</td>\n",
       "      <td>800840817</td>\n",
       "      <td>116</td>\n",
       "      <td>...</td>\n",
       "      <td>170</td>\n",
       "      <td>A</td>\n",
       "      <td>Major</td>\n",
       "      <td>55</td>\n",
       "      <td>58</td>\n",
       "      <td>72</td>\n",
       "      <td>11</td>\n",
       "      <td>0</td>\n",
       "      <td>11</td>\n",
       "      <td>15</td>\n",
       "    </tr>\n",
       "    <tr>\n",
       "      <th>4</th>\n",
       "      <td>WHERE SHE GOES</td>\n",
       "      <td>Bad Bunny</td>\n",
       "      <td>1</td>\n",
       "      <td>2023</td>\n",
       "      <td>5</td>\n",
       "      <td>18</td>\n",
       "      <td>3133</td>\n",
       "      <td>50</td>\n",
       "      <td>303236322</td>\n",
       "      <td>84</td>\n",
       "      <td>...</td>\n",
       "      <td>144</td>\n",
       "      <td>A</td>\n",
       "      <td>Minor</td>\n",
       "      <td>65</td>\n",
       "      <td>23</td>\n",
       "      <td>80</td>\n",
       "      <td>14</td>\n",
       "      <td>63</td>\n",
       "      <td>11</td>\n",
       "      <td>6</td>\n",
       "    </tr>\n",
       "  </tbody>\n",
       "</table>\n",
       "<p>5 rows × 24 columns</p>\n",
       "</div>"
      ],
      "text/plain": [
       "                            track_name    artist(s)_name  artist_count  \\\n",
       "0  Seven (feat. Latto) (Explicit Ver.)  Latto, Jung Kook             2   \n",
       "1                                 LALA       Myke Towers             1   \n",
       "2                              vampire    Olivia Rodrigo             1   \n",
       "3                         Cruel Summer      Taylor Swift             1   \n",
       "4                       WHERE SHE GOES         Bad Bunny             1   \n",
       "\n",
       "   released_year  released_month  released_day  in_spotify_playlists  \\\n",
       "0           2023               7            14                   553   \n",
       "1           2023               3            23                  1474   \n",
       "2           2023               6            30                  1397   \n",
       "3           2019               8            23                  7858   \n",
       "4           2023               5            18                  3133   \n",
       "\n",
       "   in_spotify_charts    streams  in_apple_playlists  ...  bpm key   mode  \\\n",
       "0                147  141381703                  43  ...  125   B  Major   \n",
       "1                 48  133716286                  48  ...   92  C#  Major   \n",
       "2                113  140003974                  94  ...  138   F  Major   \n",
       "3                100  800840817                 116  ...  170   A  Major   \n",
       "4                 50  303236322                  84  ...  144   A  Minor   \n",
       "\n",
       "  danceability_%  valence_% energy_% acousticness_%  instrumentalness_%  \\\n",
       "0             80         89       83             31                   0   \n",
       "1             71         61       74              7                   0   \n",
       "2             51         32       53             17                   0   \n",
       "3             55         58       72             11                   0   \n",
       "4             65         23       80             14                  63   \n",
       "\n",
       "   liveness_%  speechiness_%  \n",
       "0           8              4  \n",
       "1          10              4  \n",
       "2          31              6  \n",
       "3          11             15  \n",
       "4          11              6  \n",
       "\n",
       "[5 rows x 24 columns]"
      ]
     },
     "execution_count": 7,
     "metadata": {},
     "output_type": "execute_result"
    }
   ],
   "source": [
    "sp_stream.head()"
   ]
  },
  {
   "cell_type": "code",
   "execution_count": null,
   "metadata": {},
   "outputs": [],
   "source": []
  }
 ],
 "metadata": {
  "colab": {
   "collapsed_sections": [],
   "name": "Неделя1_pandas.ipynb",
   "provenance": []
  },
  "kernelspec": {
   "display_name": "Python 3 (ipykernel)",
   "language": "python",
   "name": "python3"
  },
  "language_info": {
   "codemirror_mode": {
    "name": "ipython",
    "version": 3
   },
   "file_extension": ".py",
   "mimetype": "text/x-python",
   "name": "python",
   "nbconvert_exporter": "python",
   "pygments_lexer": "ipython3",
   "version": "3.12.4"
  }
 },
 "nbformat": 4,
 "nbformat_minor": 4
}
