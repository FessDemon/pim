{
 "cells": [
  {
   "cell_type": "markdown",
   "metadata": {},
   "source": [
    "                                                             Бояринцев Дмитрий Федорович"
   ]
  },
  {
   "cell_type": "markdown",
   "metadata": {},
   "source": [
    "#                                    Лабораторная работа №5"
   ]
  },
  {
   "cell_type": "code",
   "execution_count": 1,
   "metadata": {},
   "outputs": [],
   "source": [
    "import random\n",
    "import numpy as np"
   ]
  },
  {
   "cell_type": "markdown",
   "metadata": {},
   "source": [
    "## Массивы Numpy"
   ]
  },
  {
   "cell_type": "markdown",
   "metadata": {},
   "source": [
    "**1.** Сформировать одномерный массив, состоящий из n вещественных элементов co значением от -10 до 10.0. Для случайного числа y, такого, что *минимальный элемент массива < y < максимальный элемент массива*, вычислить:  \n",
    "  \n",
    "* произведение элементов массива, значения модуля которых больше модуля y,  \n",
    "  \n",
    "* сумму модулей остальных элементов."
   ]
  },
  {
   "cell_type": "code",
   "execution_count": 2,
   "metadata": {},
   "outputs": [
    {
     "name": "stdin",
     "output_type": "stream",
     "text": [
      "Введите положительное целое число:  5\n"
     ]
    },
    {
     "name": "stdout",
     "output_type": "stream",
     "text": [
      "Массив из 5 случайных вещественных чисел из диапазона [-10; 10]\n",
      "[ 5.4656603   0.69675318 -4.83015915 -6.73351953 -9.28730127]\n",
      "min = -9.287301265251763\n",
      "max = 5.465660297634582\n",
      "y = -7.774193302218492\n",
      "p = -9.287301265251763, s = -5.401265206370349\n"
     ]
    }
   ],
   "source": [
    "while True:\n",
    "    try:\n",
    "        n = int(input(\"Введите положительное целое число: \"))\n",
    "        if n > 0:\n",
    "            break\n",
    "        else:\n",
    "            print(\"Число должно быть больше 0! Попробуйте еще раз.\")\n",
    "    except ValueError:\n",
    "        print(\"Некорректный ввод! Попробуйте еще раз.\")\n",
    "\n",
    "arr_f = np.array([random.uniform(-10, 10) for x in range(n)])\n",
    "print(f\"Массив из {n} случайных вещественных чисел из диапазона [-10; 10]\")\n",
    "print(arr_f)\n",
    "\n",
    "min_arr_f = min(arr_f)\n",
    "print(f\"min = {min_arr_f}\")\n",
    "\n",
    "max_arr_f = max(arr_f)\n",
    "print(f\"max = {max_arr_f}\")\n",
    "\n",
    "y = random.uniform(min_arr_f, max_arr_f)\n",
    "print(f\"y = {y}\")\n",
    "\n",
    "p = 1\n",
    "s = 0\n",
    "for i in range(n):\n",
    "    if abs(arr_f[i]) > abs(y):\n",
    "        p *= arr_f[i]\n",
    "    else:\n",
    "        s += arr_f[i]\n",
    "print(f\"p = {p}, s = {s}\")"
   ]
  },
  {
   "cell_type": "markdown",
   "metadata": {},
   "source": [
    "**2.** Найти максимальный элемент в одномерном массиве x среди элементов, перед которыми стоит нулевой."
   ]
  },
  {
   "cell_type": "code",
   "execution_count": 3,
   "metadata": {},
   "outputs": [
    {
     "name": "stdin",
     "output_type": "stream",
     "text": [
      "Введите положительное целое число:  10\n"
     ]
    },
    {
     "name": "stdout",
     "output_type": "stream",
     "text": [
      "Mассив из 10 случайных чисел из диапазона [-5; 5]\n",
      "[ 1 -1  1  4  5  0  0 -3 -5 -1]\n",
      "0\n"
     ]
    }
   ],
   "source": [
    "while True:\n",
    "    try:\n",
    "        n = int(input(\"Введите положительное целое число: \"))\n",
    "        if n > 0:\n",
    "            break\n",
    "        else:\n",
    "            print(\"Число должно быть больше 0! Попробуйте еще раз.\")\n",
    "    except ValueError:\n",
    "        print(\"Некорректный ввод! Попробуйте еще раз.\")\n",
    "\n",
    "arr_f = np.array([random.randint(-5, 5) for x in range(n)])\n",
    "print(f\"Mассив из {n} случайных чисел из диапазона [-5; 5]\")\n",
    "print(arr_f)\n",
    "\n",
    "arr_f1 = []\n",
    "for i in range(1, n):\n",
    "    if arr_f[i - 1] == 0:\n",
    "        arr_f1.append(arr_f[i])\n",
    "if arr_f1 != []:\n",
    "    print(max(arr_f1))\n",
    "else:\n",
    "    print(\"Нет нулевого элемента\")"
   ]
  },
  {
   "cell_type": "markdown",
   "metadata": {},
   "source": [
    "**3.** Дана целочисленная прямоугольная матрица. Определить: количество строк, не содержащих ни одного нулевого элемента, а также \n",
    "максимальное значение из чисел, встречающихся в заданной матрице более одного раза."
   ]
  },
  {
   "cell_type": "code",
   "execution_count": 12,
   "metadata": {},
   "outputs": [
    {
     "name": "stdout",
     "output_type": "stream",
     "text": [
      "[[ 3 -4 -5 -5  4]\n",
      " [ 3  1 -3  4  2]\n",
      " [ 4  0  2 -5 -5]\n",
      " [ 4  1 -4 -2  0]\n",
      " [ 3  1  3 -5 -2]]\n",
      "количество строк, не содержащих ни одного нулевого элемента\n",
      "3\n",
      "максимальное значение из чисел, встречающихся в заданной матрице более одного раза\n",
      "4\n"
     ]
    }
   ],
   "source": [
    "def generate_integer_matrix(rows, cols, low, high):\n",
    "    matrix = np.random.randint(low, high, size=(rows, cols))\n",
    "    return matrix\n",
    "\n",
    "\n",
    "rows = 5  # Количество строк\n",
    "cols = 5  # Количество столбцов\n",
    "low = -5  # Нижняя граница\n",
    "high = 5  # Верхняя граница\n",
    "\n",
    "matrix = generate_integer_matrix(rows, cols, low, high)\n",
    "print(matrix)\n",
    "\n",
    "\n",
    "# Для первого условия\n",
    "print(\"количество строк, не содержащих ни одного нулевого элемента\")\n",
    "print(sum(0 not in x for x in matrix))\n",
    "\n",
    "# Для второго условия\n",
    "print(\n",
    "    \"максимальное значение из чисел, встречающихся в заданной матрице более одного раза\"\n",
    ")\n",
    "print(max([x for i in [[x for a in matrix for x in a]] for x in i if i.count(x) > 1]))\n"
   ]
  },
  {
   "cell_type": "markdown",
   "metadata": {},
   "source": [
    "**4.** Элемент матрицы называется локальным минимумом, если он строго меньше всех имеющихся у него соседей. Соседями элемента А[i,j] в матрице назовем элементы А[k,l], где i-1<=k<=i+1, j-1 < l <j+1, (k, l) != (i, j).  \n",
    "Подсчитать количество локальных минимумов заданной в файле input.txt матрицы размером 10 на 10. Предусмотреть, что в файле данные могут быть введены некорректно."
   ]
  },
  {
   "cell_type": "code",
   "execution_count": 27,
   "metadata": {},
   "outputs": [
    {
     "name": "stdout",
     "output_type": "stream",
     "text": [
      "Ошибка при чтении файла: Матрица должна содержать 10 строк.\n"
     ]
    }
   ],
   "source": [
    "# ready\n",
    "def read_matrix_from_file(filename):\n",
    "    try:\n",
    "        with open(filename, \"r\") as file:\n",
    "            matrix = []\n",
    "            for line in file:\n",
    "                # Преобразуем строку в список чисел\n",
    "                row = list(map(int, line.split()))\n",
    "                if len(row) != 10:\n",
    "                    raise ValueError(\"Каждая строка должна содержать 10 элементов.\")\n",
    "                matrix.append(row)\n",
    "            if len(matrix) != 10:\n",
    "                raise ValueError(\"Матрица должна содержать 10 строк.\")\n",
    "            return matrix\n",
    "    except Exception as e:\n",
    "        print(f\"Ошибка при чтении файла: {e}\")\n",
    "        return None\n",
    "\n",
    "\n",
    "def is_local_minimum(matrix, i, j):\n",
    "    current_value = matrix[i][j]\n",
    "    neighbors = [\n",
    "        (i - 1, j - 1),\n",
    "        (i - 1, j),\n",
    "        (i - 1, j + 1),\n",
    "        (i, j - 1),\n",
    "        (i, j + 1),\n",
    "        (i + 1, j - 1),\n",
    "        (i + 1, j),\n",
    "        (i + 1, j + 1),\n",
    "    ]\n",
    "\n",
    "    for x, y in neighbors:\n",
    "        if 0 <= x < 10 and 0 <= y < 10:  # Проверка границ матрицы\n",
    "            if matrix[x][y] <= current_value:\n",
    "                return False\n",
    "    return True\n",
    "\n",
    "\n",
    "def count_local_minima(matrix):\n",
    "    count = 0\n",
    "    for i in range(10):\n",
    "        for j in range(10):\n",
    "            if is_local_minimum(matrix, i, j):\n",
    "                count += 1\n",
    "    return count\n",
    "\n",
    "\n",
    "def main():\n",
    "    matrix = read_matrix_from_file(\"5-4/input.txt\")\n",
    "    if matrix is not None:\n",
    "        local_minima_count = count_local_minima(matrix)\n",
    "        print(f\"Количество локальных минимумов: {local_minima_count}\")\n",
    "        matrix = np.array(matrix)\n",
    "        print(matrix)\n",
    "\n",
    "\n",
    "if __name__ == \"__main__\":\n",
    "    main()\n"
   ]
  },
  {
   "cell_type": "markdown",
   "metadata": {},
   "source": [
    "**5.** Определите, является ли массив магическим квадратом (суммы по всем горизонталям, вертикалям и двум диагоналям равны)."
   ]
  },
  {
   "cell_type": "code",
   "execution_count": 22,
   "metadata": {},
   "outputs": [
    {
     "name": "stdout",
     "output_type": "stream",
     "text": [
      "Массив является магическим квадратом.\n"
     ]
    }
   ],
   "source": []
  },
  {
   "cell_type": "markdown",
   "metadata": {},
   "source": [
    "**6.** Программным образом заполните массив одним из двух следующих способов. Размерность n и m, а также номер способа заполнения вводится пользователем при запуске программы.\n",
    "Результат записать в файл."
   ]
  },
  {
   "cell_type": "raw",
   "metadata": {},
   "source": [
    "Способ 1  \n",
    "1 3  4  10 11 21  \n",
    "2  5  9  12 20 22  \n",
    "6  8  13 19 23 30  \n",
    "7  14 18 24 29 31  \n",
    "15 17 25 28 32 35  \n",
    "16 26 27 33 34 36 \n",
    "\n",
    "Способ 2  \n",
    "1  2  3  4  5  6  \n",
    "20 21 22 23 24 7  \n",
    "19 32 33 34 25 8  \n",
    "18 31 36 35 26 9  \n",
    "17 30 29 28 27 10  \n",
    "16 15 14 13 12 11 "
   ]
  },
  {
   "cell_type": "code",
   "execution_count": null,
   "metadata": {},
   "outputs": [],
   "source": []
  },
  {
   "cell_type": "markdown",
   "metadata": {},
   "source": [
    "**7.** Удалите строку и столбец, на пересечении которых находится минимальный элемент массива. После этого отсортируйте столбцы массива по неубыванию минимальных элементов в них."
   ]
  },
  {
   "cell_type": "code",
   "execution_count": null,
   "metadata": {},
   "outputs": [],
   "source": []
  },
  {
   "cell_type": "markdown",
   "metadata": {},
   "source": [
    "## Обработка исключений. Библиотека Matplotlib"
   ]
  },
  {
   "cell_type": "markdown",
   "metadata": {},
   "source": [
    "**8.**\tРеализовать проверку числа 35742549198872617291353508656626642567 на простоту последовательным перебором возможных делителей (не нужен эффективный алгоритм). Выполнить замер времени работы кода без обработки исключений и с ней. Можно проводить тестирование на числе 2147483647 или 11111111111111111111111."
   ]
  },
  {
   "cell_type": "code",
   "execution_count": null,
   "metadata": {},
   "outputs": [],
   "source": []
  },
  {
   "cell_type": "markdown",
   "metadata": {},
   "source": [
    "**9.**\tВ каталоге texts сохранить не менее 10 произвольных текстов объемом не менее 500 слов.  Пользователь программным образом выбирает текст. Программа строит график частоты для 50 наиболее частотных слов текста. "
   ]
  },
  {
   "cell_type": "code",
   "execution_count": null,
   "metadata": {},
   "outputs": [],
   "source": []
  },
  {
   "cell_type": "markdown",
   "metadata": {},
   "source": [
    "**10.**\tСчитать данные из текстового документа, в котором написано годовое количество осадков:\n",
    "\n",
    "*Январь 15*\n",
    "\n",
    "*Февраль 20*\n",
    "\n",
    "…\n",
    "\n",
    "*Декабрь 18*\n",
    "\n",
    "\n",
    "Вывести их в форме диаграмм: обычная, горизонтальная, круговая (все виды диаграмм должны быть на одном рисунке). Сохранить получившийся рисунок в файл.\n"
   ]
  },
  {
   "cell_type": "code",
   "execution_count": null,
   "metadata": {},
   "outputs": [],
   "source": []
  },
  {
   "cell_type": "markdown",
   "metadata": {},
   "source": [
    "**11.** Нарисовать звёздочками зелёного цвета график кардиоиды в полярной системе координат. Добавьте легенду с заголовком «Функция» и подписью «Кардиоида» в левый верхний угол.\n",
    "Угол принадлежит промежутку от 0 до 3π/2, r = 2,5. Уравнение кардиоиды: ρ = 2*r*(1 + cosφ).\n",
    "\n"
   ]
  },
  {
   "cell_type": "code",
   "execution_count": null,
   "metadata": {},
   "outputs": [],
   "source": []
  },
  {
   "cell_type": "markdown",
   "metadata": {},
   "source": [
    "**12.** Написать программу изображения графика функции y=√x. Не забывайте про то, что функция имеет значения ≥ 0. Предварительно программа запрашивает у пользователя следующую информацию:\n",
    "\n",
    "* цвет графика (программа предлагает не менее пяти различных цветов);\n",
    "* тип линии (программа предлагает не менее трех различных вариантов);\n",
    "* толщину линии (программа предлагает не менее пяти различных вариантов).\n",
    "\n",
    "Все запросы к пользователю обрабатываются с использованием обработки исключительных ситуаций. Варианты можно вводить строкой или числом (на ваш выбор).\n"
   ]
  },
  {
   "cell_type": "code",
   "execution_count": null,
   "metadata": {},
   "outputs": [],
   "source": []
  }
 ],
 "metadata": {
  "kernelspec": {
   "display_name": "Python 3 (ipykernel)",
   "language": "python",
   "name": "python3"
  },
  "language_info": {
   "codemirror_mode": {
    "name": "ipython",
    "version": 3
   },
   "file_extension": ".py",
   "mimetype": "text/x-python",
   "name": "python",
   "nbconvert_exporter": "python",
   "pygments_lexer": "ipython3",
   "version": "3.12.4"
  }
 },
 "nbformat": 4,
 "nbformat_minor": 4
}
