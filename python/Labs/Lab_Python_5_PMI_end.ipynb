{
 "cells": [
  {
   "cell_type": "markdown",
   "metadata": {},
   "source": [
    "                                                             Бояринцев Дмитрий Федорович"
   ]
  },
  {
   "cell_type": "markdown",
   "metadata": {},
   "source": [
    "#                                    Лабораторная работа №5"
   ]
  },
  {
   "cell_type": "code",
   "execution_count": 7,
   "metadata": {},
   "outputs": [],
   "source": [
    "import os\n",
    "import random\n",
    "import numpy as np\n",
    "import datetime\n",
    "from collections import Counter\n",
    "import string\n",
    "import matplotlib.pyplot as plt"
   ]
  },
  {
   "cell_type": "markdown",
   "metadata": {},
   "source": [
    "## Массивы Numpy"
   ]
  },
  {
   "cell_type": "markdown",
   "metadata": {},
   "source": [
    "**1.** Сформировать одномерный массив, состоящий из n вещественных элементов co значением от -10 до 10.0. Для случайного числа y, такого, что *минимальный элемент массива < y < максимальный элемент массива*, вычислить:  \n",
    "  \n",
    "* произведение элементов массива, значения модуля которых больше модуля y,  \n",
    "  \n",
    "* сумму модулей остальных элементов."
   ]
  },
  {
   "cell_type": "code",
   "execution_count": 2,
   "metadata": {},
   "outputs": [
    {
     "name": "stdin",
     "output_type": "stream",
     "text": [
      "Введите положительное целое число:  5\n"
     ]
    },
    {
     "name": "stdout",
     "output_type": "stream",
     "text": [
      "Сформированный массив: [ 2.94451114 -9.45312414 -3.06756184  1.3010874  -6.93750151]\n",
      "Случайное число y: -5.43489324891183\n",
      "Произведение элементов массива, модуль которых больше |y| = 65.58106299859996\n",
      "Сумма модулей остальных элементов = 1.1780366952758339\n"
     ]
    }
   ],
   "source": [
    "while True:\n",
    "    try:\n",
    "        n = int(input(\"Введите положительное целое число: \"))\n",
    "        if n > 0:\n",
    "            break\n",
    "        else:\n",
    "            print(\"Число должно быть больше 0! Попробуйте еще раз.\")\n",
    "    except ValueError:\n",
    "        print(\"Некорректный ввод! Попробуйте еще раз.\")\n",
    "\n",
    "array = np.random.uniform(-10, 10, n)\n",
    "print(\"Сформированный массив:\", array)\n",
    "\n",
    "min_elem = np.min(array)\n",
    "max_elem = np.max(array)\n",
    "\n",
    "y = random.uniform(min_elem, max_elem)\n",
    "print(\"Случайное число y:\", y)\n",
    "\n",
    "mult = np.prod(np.where(np.abs(array) > np.abs(y), array, 1))\n",
    "print(f\"Произведение элементов массива, модуль которых больше |y| = {mult}\")\n",
    "\n",
    "summa = np.sum(np.where(np.abs(array) <= np.abs(y), array, 0))\n",
    "print(f\"Сумма модулей остальных элементов = {summa}\")"
   ]
  },
  {
   "cell_type": "markdown",
   "metadata": {},
   "source": [
    "**2.** Найти максимальный элемент в одномерном массиве x среди элементов, перед которыми стоит нулевой."
   ]
  },
  {
   "cell_type": "code",
   "execution_count": 4,
   "metadata": {},
   "outputs": [
    {
     "name": "stdin",
     "output_type": "stream",
     "text": [
      "Введите положительное целое число для определения длины массива:  10\n"
     ]
    },
    {
     "name": "stdout",
     "output_type": "stream",
     "text": [
      "Введи два числа через пробел - диапазон элементов массива [a, b]\n"
     ]
    },
    {
     "name": "stdin",
     "output_type": "stream",
     "text": [
      " -5 5\n"
     ]
    },
    {
     "name": "stdout",
     "output_type": "stream",
     "text": [
      "x =  [ 1  0  3  3  2  2 -1 -4  4  4]\n",
      "максимальный элемент массива, перед которым стоит нулевой =  3\n"
     ]
    }
   ],
   "source": [
    "while True:\n",
    "    try:\n",
    "        n = int(\n",
    "            input(\"Введите положительное целое число для определения длины массива: \")\n",
    "        )\n",
    "        if n > 0:\n",
    "            break\n",
    "        else:\n",
    "            print(\"Число должно быть больше 0! Попробуйте еще раз.\")\n",
    "    except ValueError:\n",
    "        print(\"Некорректный ввод! Попробуйте еще раз.\")\n",
    "\n",
    "print(\n",
    "    \"Введи два числа через пробел - диапазон элементов массива [a, b]\",\n",
    ")\n",
    "d = input().split()\n",
    "x = np.random.randint(int(d[0]), int(d[1]) + 1, (n,))\n",
    "print(\"x = \", x)\n",
    "# Нахождение максимального значения элементов массива, перед которыми стоит нулевой\n",
    "zero = x == 0\n",
    "maximum = np.max(x[1:][zero[:-1]])\n",
    "print(\"максимальный элемент массива, перед которым стоит нулевой = \", maximum)"
   ]
  },
  {
   "cell_type": "markdown",
   "metadata": {},
   "source": [
    "**3.** Дана целочисленная прямоугольная матрица. Определить: количество строк, не содержащих ни одного нулевого элемента, а также \n",
    "максимальное значение из чисел, встречающихся в заданной матрице более одного раза."
   ]
  },
  {
   "cell_type": "code",
   "execution_count": 6,
   "metadata": {},
   "outputs": [
    {
     "name": "stdout",
     "output_type": "stream",
     "text": [
      "[[-2 -3 -1 -3  0]\n",
      " [ 9  8  6  1  7]\n",
      " [ 4  2  0  6 -7]\n",
      " [-3  0 -6 -6 -4]\n",
      " [ 3 -3 -6  7  1]]\n",
      "Количество строк без нулевых элементов: 2\n",
      "Максимальное значение из чисел, встречающихся более одного раза: 7\n"
     ]
    }
   ],
   "source": [
    "# matrix = np.array([[4, 5, 6], [2, 9, 0], [4, 0, 7]])\n",
    "# print(matrix)\n",
    "\n",
    "\n",
    "def generate_integer_matrix(rows, cols, low, high):\n",
    "    matrix = np.random.randint(low, high, size=(rows, cols))\n",
    "    return matrix\n",
    "\n",
    "\n",
    "rows = 5  # Количество строк\n",
    "cols = 5  # Количество столбцов\n",
    "low = -10  # Нижняя граница\n",
    "high = 10  # Верхняя граница\n",
    "\n",
    "matrix = generate_integer_matrix(rows, cols, low, high)\n",
    "print(matrix)\n",
    "\n",
    "# **Определение количества строк без нулевых элементов**\n",
    "non_zero_rows_count = np.sum(~np.any(matrix == 0, axis=1))\n",
    "\n",
    "# **Поиск максимального значения среди чисел, встречающихся более одного раза**\n",
    "unique, counts = np.unique(matrix, return_counts=True)\n",
    "max_value_multiple_occurrences = (\n",
    "    unique[counts > 1].max() if np.any(counts > 1) else None\n",
    ")\n",
    "\n",
    "print(f\"Количество строк без нулевых элементов: {non_zero_rows_count}\")\n",
    "print(f\"Максимальное значение из чисел, встречающихся более одного раза: {max_value_multiple_occurrences}\")"
   ]
  },
  {
   "cell_type": "markdown",
   "metadata": {},
   "source": [
    "**4.** Элемент матрицы называется локальным минимумом, если он строго меньше всех имеющихся у него соседей. Соседями элемента А[i,j] в матрице назовем элементы А[k,l], где i-1<=k<=i+1, j-1 < l <j+1, (k, l) != (i, j).  \n",
    "Подсчитать количество локальных минимумов заданной в файле input.txt матрицы размером 10 на 10. Предусмотреть, что в файле данные могут быть введены некорректно."
   ]
  },
  {
   "cell_type": "code",
   "execution_count": 27,
   "metadata": {},
   "outputs": [
    {
     "name": "stdout",
     "output_type": "stream",
     "text": [
      "Ошибка при чтении файла: Матрица должна содержать 10 строк.\n"
     ]
    }
   ],
   "source": [
    "# ready\n",
    "def read_matrix_from_file(filename):\n",
    "    try:\n",
    "        with open(filename, \"r\") as file:\n",
    "            matrix = []\n",
    "            for line in file:\n",
    "                # Преобразуем строку в список чисел\n",
    "                row = list(map(int, line.split()))\n",
    "                if len(row) != 10:\n",
    "                    raise ValueError(\"Каждая строка должна содержать 10 элементов.\")\n",
    "                matrix.append(row)\n",
    "            if len(matrix) != 10:\n",
    "                raise ValueError(\"Матрица должна содержать 10 строк.\")\n",
    "            return matrix\n",
    "    except Exception as e:\n",
    "        print(f\"Ошибка при чтении файла: {e}\")\n",
    "        return None\n",
    "\n",
    "\n",
    "def is_local_minimum(matrix, i, j):\n",
    "    current_value = matrix[i][j]\n",
    "    neighbors = [\n",
    "        (i - 1, j - 1),\n",
    "        (i - 1, j),\n",
    "        (i - 1, j + 1),\n",
    "        (i, j - 1),\n",
    "        (i, j + 1),\n",
    "        (i + 1, j - 1),\n",
    "        (i + 1, j),\n",
    "        (i + 1, j + 1),\n",
    "    ]\n",
    "\n",
    "    for x, y in neighbors:\n",
    "        if 0 <= x < 10 and 0 <= y < 10:  # Проверка границ матрицы\n",
    "            if matrix[x][y] <= current_value:\n",
    "                return False\n",
    "    return True\n",
    "\n",
    "\n",
    "def count_local_minima(matrix):\n",
    "    count = 0\n",
    "    for i in range(10):\n",
    "        for j in range(10):\n",
    "            if is_local_minimum(matrix, i, j):\n",
    "                count += 1\n",
    "    return count\n",
    "\n",
    "\n",
    "def main():\n",
    "    matrix = read_matrix_from_file(\"5-4/input.txt\")\n",
    "    if matrix is not None:\n",
    "        local_minima_count = count_local_minima(matrix)\n",
    "        print(f\"Количество локальных минимумов: {local_minima_count}\")\n",
    "        matrix = np.array(matrix)\n",
    "        print(matrix)\n",
    "\n",
    "\n",
    "if __name__ == \"__main__\":\n",
    "    main()\n"
   ]
  },
  {
   "cell_type": "markdown",
   "metadata": {},
   "source": [
    "**5.** Определите, является ли массив магическим квадратом (суммы по всем горизонталям, вертикалям и двум диагоналям равны)."
   ]
  },
  {
   "cell_type": "code",
   "execution_count": 5,
   "metadata": {},
   "outputs": [
    {
     "name": "stdout",
     "output_type": "stream",
     "text": [
      "Массив является магическим квадратом\n"
     ]
    }
   ],
   "source": [
    "def is_magic_square(matrix):\n",
    "    # Преобразуем список в массив NumPy\n",
    "    arr = np.array(matrix)\n",
    "\n",
    "    # Проверка на квадратность\n",
    "    n, m = arr.shape\n",
    "    if n != m:\n",
    "        return False\n",
    "\n",
    "    # Вычисление магической константы\n",
    "    magic_constant = np.sum(arr[0])\n",
    "\n",
    "    # Проверка сумм строк\n",
    "    if not np.all(np.sum(arr, axis=1) == magic_constant):\n",
    "        return False\n",
    "\n",
    "    # Проверка сумм столбцов\n",
    "    if not np.all(np.sum(arr, axis=0) == magic_constant):\n",
    "        return False\n",
    "\n",
    "    # Проверка главной диагонали\n",
    "    if np.sum(np.diag(arr)) != magic_constant:\n",
    "        return False\n",
    "\n",
    "    # Проверка побочной диагонали\n",
    "    if np.sum(np.diag(np.fliplr(arr))) != magic_constant:\n",
    "        return False\n",
    "\n",
    "    return True\n",
    "\n",
    "\n",
    "array = [\n",
    "    [8, 1, 6],\n",
    "    [3, 5, 7],\n",
    "    [4, 9, 2]\n",
    "]\n",
    "\n",
    "is_magic_square(square)\n",
    "\n",
    "if is_magic_square(square) == True:\n",
    "    print(\"Массив является магическим квадратом\")\n",
    "else:\n",
    "    print(\"Массив не является магическим квадратом\")\n"
   ]
  },
  {
   "cell_type": "markdown",
   "metadata": {},
   "source": [
    "**6.** Программным образом заполните массив одним из двух следующих способов. Размерность n и m, а также номер способа заполнения вводится пользователем при запуске программы.\n",
    "Результат записать в файл."
   ]
  },
  {
   "cell_type": "raw",
   "metadata": {},
   "source": [
    "Способ 1  \n",
    "1 3  4  10 11 21  \n",
    "2  5  9  12 20 22  \n",
    "6  8  13 19 23 30  \n",
    "7  14 18 24 29 31  \n",
    "15 17 25 28 32 35  \n",
    "16 26 27 33 34 36 \n",
    "\n",
    "Способ 2  \n",
    "1  2  3  4  5  6  \n",
    "20 21 22 23 24 7  \n",
    "19 32 33 34 25 8  \n",
    "18 31 36 35 26 9  \n",
    "17 30 29 28 27 10  \n",
    "16 15 14 13 12 11 "
   ]
  },
  {
   "cell_type": "code",
   "execution_count": null,
   "metadata": {},
   "outputs": [],
   "source": []
  },
  {
   "cell_type": "markdown",
   "metadata": {},
   "source": [
    "**7.** Удалите строку и столбец, на пересечении которых находится минимальный элемент массива. После этого отсортируйте столбцы массива по неубыванию минимальных элементов в них."
   ]
  },
  {
   "cell_type": "code",
   "execution_count": null,
   "metadata": {},
   "outputs": [],
   "source": []
  },
  {
   "cell_type": "markdown",
   "metadata": {},
   "source": [
    "## Обработка исключений. Библиотека Matplotlib"
   ]
  },
  {
   "cell_type": "markdown",
   "metadata": {},
   "source": [
    "**8.**\tРеализовать проверку числа 35742549198872617291353508656626642567 на простоту последовательным перебором возможных делителей (не нужен эффективный алгоритм). Выполнить замер времени работы кода без обработки исключений и с ней. Можно проводить тестирование на числе 2147483647 или 11111111111111111111111."
   ]
  },
  {
   "cell_type": "code",
   "execution_count": null,
   "metadata": {},
   "outputs": [],
   "source": [
    "def is_prime(n):\n",
    "    if n <= 1:\n",
    "        return False\n",
    "    for i in range(2, int(n**0.5) + 1):\n",
    "        if n % i == 0:\n",
    "            return False\n",
    "    return True\n",
    "\n",
    "\n",
    "# Проверка числа\n",
    "# number = 35742549198872617291353508656626642567\n",
    "# number = 2147483647\n",
    "number = 11111111111111111111111\n",
    "\n",
    "start_time = datetime.datetime.now()\n",
    "result = is_prime(number)\n",
    "end_time = datetime.datetime.now()\n",
    "\n",
    "print(f\"Число {number} {'простое' if result else 'составное'}\")\n",
    "print(f\"Время выполнения (без обработки исключений): {end_time - start_time} секунд\")\n"
   ]
  },
  {
   "cell_type": "code",
   "execution_count": null,
   "metadata": {},
   "outputs": [],
   "source": [
    "def is_prime(n):\n",
    "    try:\n",
    "        if n <= 1:\n",
    "            return False\n",
    "        for i in range(2, int(n**0.5) + 1):\n",
    "            if n % i == 0:\n",
    "                return False\n",
    "        return True\n",
    "    except Exception as e:\n",
    "        print(f\"Произошла ошибка: {e}\")\n",
    "        return False\n",
    "\n",
    "\n",
    "# Проверка числа\n",
    "# number = 35742549198872617291353508656626642567\n",
    "# number = 2147483647\n",
    "number = 11111111111111111111111\n",
    "\n",
    "start_time = datetime.datetime.now()\n",
    "result = is_prime(number)\n",
    "end_time = datetime.datetime.now()\n",
    "\n",
    "print(f\"Число {number} {'простое' if result else 'составное'}\")\n",
    "print(f\"Время выполнения (с обработкой исключений): {end_time - start_time} секунд\")\n"
   ]
  },
  {
   "cell_type": "markdown",
   "metadata": {},
   "source": [
    "**9.**\tВ каталоге texts сохранить не менее 10 произвольных текстов объемом не менее 500 слов.  Пользователь программным образом выбирает текст. Программа строит график частоты для 50 наиболее частотных слов текста. "
   ]
  },
  {
   "cell_type": "code",
   "execution_count": 8,
   "metadata": {},
   "outputs": [
    {
     "name": "stdout",
     "output_type": "stream",
     "text": [
      "Выберите текст по индексу (0 - 9):\n",
      "0: Текст 1\n",
      "1: Текст 2\n",
      "2: Текст 3\n",
      "3: Текст 4\n",
      "4: Текст 5\n",
      "5: Текст 6\n",
      "6: Текст 7\n",
      "7: Текст 8\n",
      "8: Текст 9\n",
      "9: Текст 10\n"
     ]
    },
    {
     "name": "stdin",
     "output_type": "stream",
     "text": [
      "Введите индекс текста:  5\n"
     ]
    },
    {
     "data": {
      "image/png": "[encoded data removed]",
      "text/plain": [
       "<Figure size 1200x800 with 1 Axes>"
      ]
     },
     "metadata": {},
     "output_type": "display_data"
    }
   ],
   "source": [
    "def load_texts(directory):\n",
    "    texts = []\n",
    "    for filename in os.listdir(directory):\n",
    "        if filename.endswith(\".txt\"):\n",
    "            with open(os.path.join(directory, filename), \"r\", encoding=\"utf-8\") as file:\n",
    "                texts.append(file.read())\n",
    "    return texts\n",
    "\n",
    "\n",
    "def select_text(texts, index):\n",
    "    if 0 <= index < len(texts):\n",
    "        return texts[index]\n",
    "    else:\n",
    "        raise IndexError(\"Index out of range.\")\n",
    "\n",
    "\n",
    "def preprocess_text(text):\n",
    "    # Приведение к нижнему регистру и удаление знаков препинания\n",
    "    text = text.lower()\n",
    "    text = text.translate(str.maketrans(\"\", \"\", string.punctuation))\n",
    "    return text\n",
    "\n",
    "\n",
    "def plot_word_frequency(text):\n",
    "    words = preprocess_text(text).split()\n",
    "\n",
    "    # Фильтрация коротких слов (менее 3 символов)\n",
    "    filtered_words = [word for word in words if len(word) > 3]\n",
    "\n",
    "    word_counts = Counter(filtered_words)\n",
    "\n",
    "    # Получение 50 наиболее частых слов\n",
    "    most_common_words = word_counts.most_common(50)\n",
    "\n",
    "    # Разделение на слова и их частоты\n",
    "    words, counts = zip(*most_common_words)\n",
    "\n",
    "    plt.figure(figsize=(12, 8))\n",
    "    plt.barh(words, counts, color=\"skyblue\")\n",
    "    plt.xlabel(\"Частота\")\n",
    "    plt.title(\"Частота 50 наиболее употребляемых слов\")\n",
    "    plt.gca().invert_yaxis()  # Инвертировать ось Y для лучшего отображения\n",
    "    plt.show()\n",
    "\n",
    "\n",
    "def main():\n",
    "    directory = \"5-9/text\"  # Папка с текстами\n",
    "    texts = load_texts(directory)\n",
    "\n",
    "    print(\"Выберите текст по индексу (0 - {}):\".format(len(texts) - 1))\n",
    "    for i in range(len(texts)):\n",
    "        print(f\"{i}: Текст {i + 1}\")\n",
    "\n",
    "    index = int(input(\"Введите индекс текста: \"))\n",
    "\n",
    "    try:\n",
    "        selected_text = select_text(texts, index)\n",
    "        plot_word_frequency(selected_text)\n",
    "    except IndexError as e:\n",
    "        print(e)\n",
    "\n",
    "\n",
    "if __name__ == \"__main__\":\n",
    "    main()\n"
   ]
  },
  {
   "cell_type": "markdown",
   "metadata": {},
   "source": [
    "**10.**\tСчитать данные из текстового документа, в котором написано годовое количество осадков:\n",
    "\n",
    "*Январь 15*\n",
    "\n",
    "*Февраль 20*\n",
    "\n",
    "…\n",
    "\n",
    "*Декабрь 18*\n",
    "\n",
    "\n",
    "Вывести их в форме диаграмм: обычная, горизонтальная, круговая (все виды диаграмм должны быть на одном рисунке). Сохранить получившийся рисунок в файл.\n"
   ]
  },
  {
   "cell_type": "code",
   "execution_count": null,
   "metadata": {},
   "outputs": [],
   "source": []
  },
  {
   "cell_type": "markdown",
   "metadata": {},
   "source": [
    "**11.** Нарисовать звёздочками зелёного цвета график кардиоиды в полярной системе координат. Добавьте легенду с заголовком «Функция» и подписью «Кардиоида» в левый верхний угол.\n",
    "Угол принадлежит промежутку от 0 до 3π/2, r = 2,5. Уравнение кардиоиды: ρ = 2*r*(1 + cosφ).\n",
    "\n"
   ]
  },
  {
   "cell_type": "code",
   "execution_count": null,
   "metadata": {},
   "outputs": [],
   "source": []
  },
  {
   "cell_type": "markdown",
   "metadata": {},
   "source": [
    "**12.** Написать программу изображения графика функции y=√x. Не забывайте про то, что функция имеет значения ≥ 0. Предварительно программа запрашивает у пользователя следующую информацию:\n",
    "\n",
    "* цвет графика (программа предлагает не менее пяти различных цветов);\n",
    "* тип линии (программа предлагает не менее трех различных вариантов);\n",
    "* толщину линии (программа предлагает не менее пяти различных вариантов).\n",
    "\n",
    "Все запросы к пользователю обрабатываются с использованием обработки исключительных ситуаций. Варианты можно вводить строкой или числом (на ваш выбор).\n"
   ]
  },
  {
   "cell_type": "code",
   "execution_count": null,
   "metadata": {},
   "outputs": [],
   "source": []
  }
 ],
 "metadata": {
  "kernelspec": {
   "display_name": "Python 3 (ipykernel)",
   "language": "python",
   "name": "python3"
  },
  "language_info": {
   "codemirror_mode": {
    "name": "ipython",
    "version": 3
   },
   "file_extension": ".py",
   "mimetype": "text/x-python",
   "name": "python",
   "nbconvert_exporter": "python",
   "pygments_lexer": "ipython3",
   "version": "3.12.4"
  }
 },
 "nbformat": 4,
 "nbformat_minor": 4
}
