{
 "cells": [
  {
   "cell_type": "markdown",
   "metadata": {},
   "source": [
    "                                                    Бояринцев Дмитрий Федорович"
   ]
  },
  {
   "cell_type": "markdown",
   "metadata": {},
   "source": [
    "# Лабораторная работа № 4"
   ]
  },
  {
   "cell_type": "markdown",
   "metadata": {},
   "source": [
    "### Словари, файлы в Python"
   ]
  },
  {
   "cell_type": "code",
   "execution_count": 1,
   "metadata": {},
   "outputs": [],
   "source": [
    "import os\n",
    "import re\n",
    "import random\n",
    "import time\n",
    "import shutil"
   ]
  },
  {
   "cell_type": "markdown",
   "metadata": {},
   "source": [
    "**1.**\tВ файле input.txt хранится англо-русский словарь. Создать русско-английский словарь и сохранить его в отсортированном виде в файле output.txt.   \n",
    "  \n",
    "**input.txt**\n",
    "\n",
    "*apple – лесть, яблоко  \n",
    "soap – лесть, мыло  \n",
    "foam – мыло, пена*\n",
    "  \n",
    "**output.txt** \n",
    "\n",
    "*лесть – apple, soap  \n",
    "мыло – foam, soap  \n",
    "пена – foam  \n",
    "яблоко – apple*  \n"
   ]
  },
  {
   "cell_type": "code",
   "execution_count": 2,
   "metadata": {},
   "outputs": [
    {
     "name": "stdout",
     "output_type": "stream",
     "text": [
      "Введите имя каталога, содержащего файл input.txt:\n"
     ]
    },
    {
     "name": "stdin",
     "output_type": "stream",
     "text": [
      " 4-2\n"
     ]
    },
    {
     "name": "stdout",
     "output_type": "stream",
     "text": [
      "Русско-английский словарь успешно создан и сохранен в output.txt.\n"
     ]
    }
   ],
   "source": [
    "# ready\n",
    "# Инициализация рабочего каталога\n",
    "print(\"Введите имя каталога, содержащего файл input.txt:\")\n",
    "name_dir = input()\n",
    "# name_dir = 'task_4_1'\n",
    "\n",
    "# Проверка корректности рабочего каталога\n",
    "if not (os.path.exists(name_dir)):\n",
    "    print(\"Такого каталога не существует. Введите корректно полное имя каталога: \")\n",
    "    name_dir = input()\n",
    "\n",
    "# Инициализация файлов\n",
    "input_file = name_dir + \"/input.txt\"\n",
    "output_file = name_dir + \"/output.txt\"\n",
    "\n",
    "# Проверка входного файла\n",
    "while not (os.path.exists(input_file)):\n",
    "    print(\n",
    "        \"Файла input.txt  в указанном каталоге не существует. Введите корректно полное имя входного файла: \"\n",
    "    )\n",
    "    input_file = input()\n",
    "\n",
    "# Словарь для хранения русско-английских переводов\n",
    "rus_eng_dict = {}\n",
    "\n",
    "# Чтение англо-русского словаря из файла\n",
    "if os.stat(input_file).st_size == 0:\n",
    "    print(\"Файл словаря пуст\")\n",
    "else:\n",
    "    # Открываем файл для чтения\n",
    "    with open(input_file, \"r\", encoding=\"utf-8\") as file:\n",
    "        for line in file:\n",
    "            # Убираем лишние символы и пробелы с краев строки\n",
    "            clean_line = re.sub(r\"[^\\w\\s–,]\", \"\", line).strip()\n",
    "\n",
    "            # Проверка, содержит ли строка цифры\n",
    "            if re.search(r\"\\d\", clean_line):\n",
    "                # Удаляем цифры из строки, оставляя только буквы\n",
    "                clean_line = re.sub(r\"\\d+\", \"\", clean_line).strip()\n",
    "\n",
    "            # Разделяем строку на английское слово и русские переводы\n",
    "            if \" – \" in clean_line:\n",
    "                eng_word, rus_words = clean_line.split(\" – \", 1)\n",
    "                # Очищаем список русских переводов от лишних пробелов и мусорных символов\n",
    "                rus_words_list = [\n",
    "                    re.sub(r\"[^\\w\\s]\", \"\", word.strip())\n",
    "                    for word in rus_words.split(\",\")\n",
    "                    if word.strip()\n",
    "                ]\n",
    "\n",
    "                # Заполняем русско-английский словарь\n",
    "                for rus_word in rus_words_list:\n",
    "                    if rus_word not in rus_eng_dict:\n",
    "                        rus_eng_dict[rus_word] = []\n",
    "                    rus_eng_dict[rus_word].append(eng_word)\n",
    "\n",
    "    # Сортируем словарь по ключам (русским словам)\n",
    "    sorted_rus_eng_dict = dict(sorted(rus_eng_dict.items()))\n",
    "\n",
    "    # Записываем результат в выходной файл\n",
    "    with open(output_file, \"w\", encoding=\"utf-8\") as file:\n",
    "        for rus_word, eng_words in sorted_rus_eng_dict.items():\n",
    "            file.write(f\"{rus_word} – {', '.join(eng_words)}\\n\")\n",
    "\n",
    "    print(\"Русско-английский словарь успешно создан и сохранен в output.txt.\")\n"
   ]
  },
  {
   "cell_type": "markdown",
   "metadata": {},
   "source": [
    "**2.**\tИгра «Знаешь ли ты своих друзей?». Имеется каталог с файлами, содержащими анкетные данные друзей. Все файлы имеют одинаковый формат. \n",
    "\n",
    "#### Имя\n",
    "*Иван*\n",
    "#### Фамилия\n",
    "*Иванов*  \n",
    "#### Возраст  \n",
    "*24* \n",
    "#### Любимая еда  \n",
    "*Пицца*  \n",
    "#### Музыкальная группа  \n",
    "*Nirvana*  \n",
    "#### Заветная мечта  \n",
    "*Прыгнуть с парашютом*\n",
    "\n",
    "\n",
    "Сохранить все данные в словарь (ключи – имена и фамилии пользователей, значения – все остальное).   \n",
    "Затем программа случайным образом загадывает любую категорию (кроме имени и фамилии), выводит ее значение и предлагает угадать, что это был за друг. Если игрок не угадывает – предлагается другая категория. Если игрок не угадал по всем категориям, программа выдает правильный ответ.\n",
    "После угадывания или неугадывания одного друга программа предлагает загадать другого друга или завершить выполнение."
   ]
  },
  {
   "cell_type": "code",
   "execution_count": 4,
   "metadata": {},
   "outputs": [
    {
     "name": "stdout",
     "output_type": "stream",
     "text": [
      "Введите имя каталога, содержащего анкетные файлы:\n"
     ]
    },
    {
     "name": "stdin",
     "output_type": "stream",
     "text": [
      " 4-2\n"
     ]
    },
    {
     "name": "stdout",
     "output_type": "stream",
     "text": [
      "Отгадай загаданного человека по уазанной категории (укажи его Имя Фамилию)\n",
      "Музыкальная группа :  Nirvana\n"
     ]
    },
    {
     "name": "stdin",
     "output_type": "stream",
     "text": [
      " пек\n"
     ]
    },
    {
     "name": "stdout",
     "output_type": "stream",
     "text": [
      "Любимая еда :  Пицца\n"
     ]
    },
    {
     "name": "stdin",
     "output_type": "stream",
     "text": [
      " пку\n"
     ]
    },
    {
     "name": "stdout",
     "output_type": "stream",
     "text": [
      "Заветная мечта :  Прыгнуть с парашютом\n"
     ]
    },
    {
     "name": "stdin",
     "output_type": "stream",
     "text": [
      " пук\n"
     ]
    },
    {
     "name": "stdout",
     "output_type": "stream",
     "text": [
      "Возраст :  24\n"
     ]
    },
    {
     "name": "stdin",
     "output_type": "stream",
     "text": [
      " пку\n"
     ]
    },
    {
     "name": "stdout",
     "output_type": "stream",
     "text": [
      "Увы... Имя загаданного друга: Иван Иванов\n",
      "Попробуем еще раз? (да/нет)\n"
     ]
    },
    {
     "name": "stdin",
     "output_type": "stream",
     "text": [
      " да\n"
     ]
    },
    {
     "name": "stdout",
     "output_type": "stream",
     "text": [
      "Отгадай загаданного человека по уазанной категории (укажи его Имя Фамилию)\n",
      "Музыкальная группа :  Nirvana\n"
     ]
    },
    {
     "name": "stdin",
     "output_type": "stream",
     "text": [
      " аыа\n"
     ]
    },
    {
     "name": "stdout",
     "output_type": "stream",
     "text": [
      "Заветная мечта :  Прыгнуть с парашютом\n"
     ]
    },
    {
     "name": "stdin",
     "output_type": "stream",
     "text": [
      " авы\n"
     ]
    },
    {
     "name": "stdout",
     "output_type": "stream",
     "text": [
      "Возраст :  24\n"
     ]
    },
    {
     "name": "stdin",
     "output_type": "stream",
     "text": [
      " Иван Иванов\n"
     ]
    },
    {
     "name": "stdout",
     "output_type": "stream",
     "text": [
      "Ты отгадал!\n",
      "Попробуем еще раз? (да/нет)\n"
     ]
    },
    {
     "name": "stdin",
     "output_type": "stream",
     "text": [
      " да\n"
     ]
    },
    {
     "name": "stdout",
     "output_type": "stream",
     "text": [
      "Отгадай загаданного человека по уазанной категории (укажи его Имя Фамилию)\n",
      "Любимая еда :  Курица\n"
     ]
    },
    {
     "name": "stdin",
     "output_type": "stream",
     "text": [
      " Петр Петров\n"
     ]
    },
    {
     "name": "stdout",
     "output_type": "stream",
     "text": [
      "Ты отгадал!\n",
      "Попробуем еще раз? (да/нет)\n"
     ]
    },
    {
     "name": "stdin",
     "output_type": "stream",
     "text": [
      " нет\n"
     ]
    }
   ],
   "source": [
    "# ready\n",
    "friends_dict = {}\n",
    "\n",
    "def append_dict_items(friends_dict, name_obj):\n",
    "    f_dict = friends_dict\n",
    "    data = [] # формируем список строк файла\n",
    "    with open(name_obj, 'r', encoding='utf-8') as file:\n",
    "        for line in file:\n",
    "            data.append(line.strip())\n",
    "    # Проверка корректности записи в фале\n",
    "    i = 0\n",
    "    f = True\n",
    "    keys = ''\n",
    "    value = {}\n",
    "    while f and (i < len(data)):\n",
    "        if (i == 0) and (data[i] != 'Имя'):\n",
    "            f = False\n",
    "        elif (i == 1):\n",
    "            keys += data[i]\n",
    "        elif (i == 2) and (data[i] != ''):\n",
    "            f = False\n",
    "        elif (i == 3) and (data[i] != 'Фамилия'):\n",
    "            f = False\n",
    "        elif (i == 4):\n",
    "            keys += (' ' + data[i])\n",
    "        elif (i == 5) and (data[i] != ''):\n",
    "            f = False\n",
    "        elif (i == 6):\n",
    "            if (data[i] != 'Возраст'):\n",
    "                f = False\n",
    "            else:\n",
    "                key = data[i]\n",
    "        elif (i == 7):\n",
    "            value[key] = data[i]\n",
    "        elif (i == 8) and (data[i] != ''):\n",
    "            f = False\n",
    "        elif (i == 9):\n",
    "            if (data[i] != 'Любимая еда'):\n",
    "                f = False\n",
    "            else:\n",
    "                key = data[i]\n",
    "        elif (i == 10):\n",
    "            value[key] = data[i]\n",
    "        elif (i == 11) and (data[i] != ''):\n",
    "            f = False\n",
    "        elif (i == 12):\n",
    "            if (data[i] != 'Музыкальная группа'):\n",
    "                f = False\n",
    "            else:\n",
    "                key = data[i]\n",
    "        elif (i == 13):\n",
    "            value[key] = data[i]\n",
    "        elif (i == 14) and (data[i] != ''):\n",
    "            f = False\n",
    "        elif (i == 15):\n",
    "            if (data[i] != 'Заветная мечта'):\n",
    "                f = False\n",
    "            else:\n",
    "                key = data[i]\n",
    "        elif (i == 16):\n",
    "            value[key] = data[i]\n",
    "        i += 1\n",
    "    if i == len(data): # если запись в фале корректна  \n",
    "        while (keys in friends_dict) and (value != friends_dict[keys]):\n",
    "            # Если значение уже есть в новом словаре, корректируем keys\n",
    "            keys = keys + '_'\n",
    "        # значения еще нет, добавляем его\n",
    "        f_dict[keys] = value\n",
    "    return f_dict\n",
    "\n",
    "# Инициализация рабочего каталога\n",
    "print('Введите имя каталога, содержащего анкетные файлы:')\n",
    "name_dir = input()\n",
    "#name_dir = 'task_2'\n",
    "\n",
    "# Проверка корректности рабочего каталога\n",
    "if not(os.path.exists(name_dir)):\n",
    "    print('Такого каталога не существует. Введите корректно полное имя каталога: ')\n",
    "    name_dir = input()\n",
    "    \n",
    "# Чтение структуры каталога\n",
    "for name in os.listdir(name_dir): # просмотр содержимого каталога\n",
    "        name_obj = os.path.join(name_dir, name) # получение полного имени объекта\n",
    "        if os.path.isfile(name_obj) and (name[-4:] == '.txt'): # если объект - это файл .txt, то\n",
    "            # Добавление информации из файла в словарь\n",
    "            friends_dict = append_dict_items(friends_dict, name_obj)\n",
    "\n",
    "# Формирование массива друзей\n",
    "friends = []\n",
    "for key in friends_dict.keys():\n",
    "    friends.append(key)\n",
    "\n",
    "f = True # Идет игра\n",
    "while f:\n",
    "    friend_name = friends[random.randint(0,len(friends)-1)] # Выбор случайного друга\n",
    "    category = friends_dict[friend_name] # словарь категорий загаданного человека\n",
    "    set_categories = set() # Множество категорий\n",
    "    categories = [] # Массив категорий\n",
    "    # Формирование множества и массива категорий\n",
    "    for key in category.keys(): \n",
    "        categories.append(key)\n",
    "        set_categories.add(key)\n",
    "\n",
    "    print('Отгадай загаданного человека по уазанной категории (укажи его Имя Фамилию)')\n",
    "    while f and (set_categories != set()): # Пока идет игра и не все категрии использованы\n",
    "        category_name = categories[random.randint(0,len(categories)-1)] # выбор случайной категории\n",
    "        # Проверка. что категория не использовалась в текущем раунде игры\n",
    "        while not(category_name in set_categories):\n",
    "            category_name = categories[random.randint(0,len(categories)-1)]\n",
    "        # вывод категории и ее значения для загаданного человека\n",
    "        print(category_name,': ',category[category_name])\n",
    "        # Если игрок отгадал загаданного человека\n",
    "        if input() == friend_name:\n",
    "            print('Ты отгадал!')\n",
    "            f = False\n",
    "        else:\n",
    "            # иначе (если не отгадал), то удаляем из множества отработанную категрию\n",
    "            set_categories.remove(category_name)\n",
    "    if f: # Если все категории выведены, но человек не отгадан\n",
    "        print(f'Увы... Имя загаданного друга: {friend_name}')\n",
    "    print('Попробуем еще раз? (да/нет)')\n",
    "    f = (input() == 'да')"
   ]
  },
  {
   "cell_type": "markdown",
   "metadata": {},
   "source": [
    "**3.**\tСоздайте словарь, где ключами являются числа, а значениями – строки. Примените к нему метод items(), полученный объект dict_items передайте в написанную вами функцию, которая создает и возвращает новый словарь, обратный исходному, т.е. ключами являются строки, а значениями – числа (если соответствует только одно значение) или списки чисел (если несколько)."
   ]
  },
  {
   "cell_type": "code",
   "execution_count": 2,
   "metadata": {},
   "outputs": [
    {
     "name": "stdout",
     "output_type": "stream",
     "text": [
      "{'яблоко': [1, 3], 'банан': [2, 5], 'апельсин': 4}\n"
     ]
    }
   ],
   "source": [
    "# ready\n",
    "original_dict = {\n",
    "    1: \"яблоко\",\n",
    "    2: \"банан\",\n",
    "    3: \"яблоко\",\n",
    "    4: \"апельсин\",\n",
    "    5: \"банан\"\n",
    "}\n",
    "\n",
    "def reverse_dict_items(dict_items):\n",
    "    reversed_dict = {}\n",
    "\n",
    "    for key, value in dict_items:\n",
    "        if value in reversed_dict:\n",
    "            # Если значение уже есть в новом словаре, добавляем ключ в список\n",
    "            if isinstance(reversed_dict[value], list):\n",
    "                reversed_dict[value].append(key)\n",
    "            else:\n",
    "                reversed_dict[value] = [reversed_dict[value], key]\n",
    "        else:\n",
    "            # Если значения еще нет, добавляем его\n",
    "            reversed_dict[value] = key\n",
    "\n",
    "    return reversed_dict\n",
    "\n",
    "# Получаем dict_items из оригинального словаря\n",
    "dict_items = original_dict.items()\n",
    "\n",
    "# Создаем обратный словарь\n",
    "reversed_dictionary = reverse_dict_items(dict_items)\n",
    "\n",
    "# Выводим результат\n",
    "print(reversed_dictionary)"
   ]
  },
  {
   "cell_type": "markdown",
   "metadata": {},
   "source": [
    "**4.**\tИмеется каталог X, содержащий файлы и другие каталоги. Создать копию структуры каталогов, где каждый файл *.txt обрабатывается следующим образом: первой строкой вставляется число строк в исходном файле, а последней строкой – уровень вложенности в каталог X. Остальные файлы пропускаются. Сам каталог X и его содержимое изменяться не должны."
   ]
  },
  {
   "cell_type": "code",
   "execution_count": 8,
   "metadata": {},
   "outputs": [],
   "source": [
    "# ready\n",
    "\n",
    "def process_txt_file(src_file, dest_file, depth):\n",
    "    with open(src_file, 'r', encoding='utf-8') as f:\n",
    "        lines = f.readlines()\n",
    "    \n",
    "    line_count = len(lines)\n",
    "    \n",
    "    with open(dest_file, 'w', encoding='utf-8') as f:\n",
    "        f.write(f\"{line_count}\\n\")  # Первая строка - количество строк\n",
    "        f.writelines(lines)         # Записываем оригинальные строки\n",
    "        f.write(f\"{depth}\\n\")       # Последняя строка - уровень вложенности\n",
    "\n",
    "\n",
    "def copy_structure_with_processing(src_dir, dest_dir, depth=0):\n",
    "    if not os.path.exists(dest_dir):\n",
    "        os.makedirs(dest_dir)  # Создаем каталог назначения если он не существует\n",
    "    \n",
    "    for item in os.listdir(src_dir):\n",
    "        src_path = os.path.join(src_dir, item)\n",
    "        dest_path = os.path.join(dest_dir, item)\n",
    "\n",
    "        if os.path.isdir(src_path):\n",
    "            copy_structure_with_processing(src_path, dest_path, depth + 1)  # Рекурсивный вызов для подкаталогов\n",
    "        elif item.endswith('.txt'):\n",
    "            process_txt_file(src_path, dest_path, depth)  # Обработка .txt файлов\n",
    "\n",
    "\n",
    "source_directory = 'task_4_4/start'\n",
    "destination_directory = 'task_4_4/finish'\n",
    "copy_structure_with_processing(source_directory, destination_directory)\n"
   ]
  },
  {
   "cell_type": "markdown",
   "metadata": {},
   "source": [
    "**5.** Напишите программу, которая для заданного каталога создает подкаталоги, соответствующие дате создания каждого отдельного файла, и перемещает каждый файл в соответствующий дате каталог."
   ]
  },
  {
   "cell_type": "code",
   "execution_count": 5,
   "metadata": {},
   "outputs": [
    {
     "name": "stdout",
     "output_type": "stream",
     "text": [
      "Введите полное имя каталога: \n"
     ]
    },
    {
     "name": "stdin",
     "output_type": "stream",
     "text": [
      " 4-5/start\n"
     ]
    },
    {
     "name": "stdout",
     "output_type": "stream",
     "text": [
      "Файлы успешно переписаны\n"
     ]
    }
   ],
   "source": [
    "# ready\n",
    "def solve(dir):\n",
    "    for name in os.listdir(dir): # просмотр содержимого каталога\n",
    "        path = os.path.join(dir, name) # получение полного имени объекта\n",
    "        if os.path.isfile(path): # если объект - это файл, то\n",
    "            ctime = os.path.getctime(path) # получение информации о дате и времени создания файла\n",
    "            date = str(time.ctime(ctime)).split() # разбивка даты и времени на составляющие\n",
    "            date =date[3], date[2], date[1], date[4] # формирование даты в формате время день месяц год              \n",
    "            new_dir = ' '.join(date) # склейка даты в строку\n",
    "            new_path = dir + new_dir + '/' # формирование имени нового каталога\n",
    "            if not(new_dir in os.listdir(dir)): # если такого каталога еще нет, то\n",
    "                os.mkdir(new_path) # создание каталога с датой создания файла\n",
    "            shutil.move(path, new_path + name) # перемещение файла в новый каталог\n",
    "\n",
    "#full_name_dir = 'e:/0/'\n",
    "\n",
    "# ввод каталога с проверкой корректности ввода\n",
    "print('Введите полное имя каталога: ')\n",
    "full_name_dir = input() \n",
    "while not(os.path.exists(full_name_dir)):\n",
    "    print('Такого каталога не существует. Введите корректно полное имя каталога: ')\n",
    "    full_name_dir = input()\n",
    "solve(full_name_dir)\n",
    "print('Файлы успешно переписаны')"
   ]
  },
  {
   "cell_type": "markdown",
   "metadata": {},
   "source": [
    "**6.**\tИз файлов *shop1.txt* и *shop2.txt* считываются прайс-листы (наименование товара – цена). Необходимо объединить два прайс-листа так, чтобы если наименование товара присутствует в обоих листах, то в итоговый прайс-лист помещается большая цена. Результат записать в файл *shop_max.txt*."
   ]
  },
  {
   "cell_type": "code",
   "execution_count": 4,
   "metadata": {},
   "outputs": [
    {
     "name": "stdout",
     "output_type": "stream",
     "text": [
      "Файл 4-6/shop_max.txt успешно записан.\n"
     ]
    }
   ],
   "source": [
    "# ready\n",
    "# Инициализация рабочего каталога\n",
    "print(\"Введите имя каталога, содержащего файл input.txt:\")\n",
    "name_dir = input()\n",
    "\n",
    "# Проверка корректности рабочего каталога\n",
    "if not (os.path.exists(name_dir)):\n",
    "    print(\"Такого каталога не существует. Введите корректно полное имя каталога: \")\n",
    "    name_dir = input()\n",
    "\n",
    "input_file_1 = name_dir + \"/shop1.txt\"\n",
    "input_file_2 = name_dir + \"/shop2.txt\"\n",
    "output_file = name_dir + \"/shop_max.txt\"\n",
    "\n",
    "# Проверка входного файла shop1.txt\n",
    "while not (os.path.exists(input_file_1)):\n",
    "    print(\n",
    "        \"Файла shop1.txt  в указанном каталоге не существует. Введите корректно полное имя входного файла: \"\n",
    "    )\n",
    "    input_file_1 = input()\n",
    "\n",
    "# Проверка входного файла shop2.txt\n",
    "while not (os.path.exists(input_file_2)):\n",
    "    print(\n",
    "        \"Файла shop2.txt  в указанном каталоге не существует. Введите корректно полное имя входного файла: \"\n",
    "    )\n",
    "    input_file_2 = input()\n",
    "\n",
    "# Словарь для хранения прайс-листов\n",
    "prices_dict = {}\n",
    "\n",
    "\n",
    "# Функция для очистки строки от мусора\n",
    "def clean_line(line):\n",
    "    # Регулярное выражение ищет строку формата \"название товара - цена\", где цена — это число\n",
    "    match = re.match(r\"(.+?)\\s*-\\s*(\\d+)\", line)\n",
    "    if match:\n",
    "        name = match.group(1).strip()  # Убираем лишние пробелы вокруг названия\n",
    "        price = match.group(2)  # Получаем цену\n",
    "        return name, price\n",
    "    return None\n",
    "\n",
    "\n",
    "# Открываем 1-ый файл для чтения\n",
    "with open(input_file_1, \"r\", encoding=\"utf-8\") as file:\n",
    "    for line in file:\n",
    "        result = clean_line(line.rstrip())  # Очищаем строку\n",
    "        if result:\n",
    "            name, price = result\n",
    "            prices_dict[name] = price\n",
    "\n",
    "\n",
    "# Открываем 2-ый файл для чтения\n",
    "with open(input_file_2, \"r\", encoding=\"utf-8\") as file:\n",
    "    for line in file:\n",
    "        result = clean_line(line.rstrip())\n",
    "        if result:\n",
    "            name, price = result\n",
    "            if name not in prices_dict:\n",
    "                prices_dict[name] = price\n",
    "            else:\n",
    "                prices_dict[name] = max(prices_dict[name], price)\n",
    "\n",
    "\n",
    "def write_to_file(filename, data):def is_magic_square(matrix):\n",
    "    # Проверка, что матрица квадратная\n",
    "    if not matrix or len(matrix) != len(matrix[0]):\n",
    "        return False\n",
    "\n",
    "    n = len(matrix)\n",
    "    # Эталонная сумма (сумма первой строки)\n",
    "    magic_sum = sum(matrix[0])\n",
    "\n",
    "    # Проверка сумм строк\n",
    "    for row in matrix:\n",
    "        if sum(row) != magic_sum:\n",
    "            return False\n",
    "\n",
    "    # Проверка сумм столбцов\n",
    "    for col in range(n):\n",
    "        if sum(matrix[row][col] for row in range(n)) != magic_sum:\n",
    "            return False\n",
    "\n",
    "    # Проверка суммы главной диагонали\n",
    "    if sum(matrix[i][i] for i in range(n)) != magic_sum:\n",
    "        return False\n",
    "\n",
    "    # Проверка суммы побочной диагонали\n",
    "    if sum(matrix[i][n - 1 - i] for i in range(n)) != magic_sum:\n",
    "        return False\n",
    "\n",
    "    return True\n",
    "\n",
    "\n",
    "# Пример использования\n",
    "matrix = [[8, 1, 6], [3, 5, 7], [4, 9, 2]]\n",
    "\n",
    "if is_magic_square(matrix):\n",
    "    print(\"Массив является магическим квадратом.\")\n",
    "else:\n",
    "    print(\"Массив не является магическим квадратом.\")\n",
    "    \"\"\"Записывает данные в файл.\"\"\"\n",
    "    with open(filename, \"w\", encoding=\"utf-8\") as file:\n",
    "        for name, price in sorted(data.items()):\n",
    "            file.write(f\"{name} – {price}\\n\")\n",
    "    print(f\"Файл {filename} успешно записан.\")\n",
    "\n",
    "\n",
    "# Проверка существования файла\n",
    "if os.path.exists(output_file):\n",
    "    print(\n",
    "        f\"Файл {output_file} в указанном каталоге уже существует. Введите OK, если хотите переписать имеющийся файл, или введите любое другое значение для отмены: \"\n",
    "    )\n",
    "    is_read = input()\n",
    "    if is_read != \"OK\":\n",
    "        print(\"Перезапись файла отменена.\")\n",
    "    else:\n",
    "        # Перезапись файла\n",
    "        write_to_file(output_file, prices_dict)\n",
    "else:\n",
    "    # Если файла нет, то записываем данные в новый файл\n",
    "    write_to_file(output_file, prices_dict)"
   ]
  },
  {
   "cell_type": "markdown",
   "metadata": {},
   "source": [
    "**7.** Создайте файл *input.txt*, содержащий данные о странах экспортерах (не менее 10): название страны, название экспортируемого товара и объем экспортируемого товара (в тоннах). Напишите программу, позволяющую обрабатывать следующие запросы пользователя:\n",
    "- добавить данные в файл;\n",
    "\n",
    "- вывести всю информацию, содержащуюся в файле;\n",
    "\n",
    "- вывести список товаров, экспортируемых введенной пользователем страной;\n",
    "\n",
    "- вывести список стран, экспортирующих заданный товар.\n",
    "\n",
    "Если добавляется информация о уже имеющихся в базе стране и товаре, новое значение тонн должно прибавлять к уже имеющемуся количеству."
   ]
  },
  {
   "cell_type": "code",
   "execution_count": 6,
   "metadata": {},
   "outputs": [
    {
     "name": "stdout",
     "output_type": "stream",
     "text": [
      "\n",
      "Выберите действие:\n",
      "1. Добавить данные\n",
      "2. Вывести всю информацию\n",
      "3. Вывести список товаров экспортируемых страной\n",
      "4. Вывести список стран экспортирующих товар\n",
      "5. Выход\n"
     ]
    },
    {
     "name": "stdin",
     "output_type": "stream",
     "text": [
      "Ваш выбор:  2\n"
     ]
    },
    {
     "name": "stdout",
     "output_type": "stream",
     "text": [
      "Россия, Нефть, 400\n",
      "Россия, Уголь, 500\n",
      "Канада, Нефть, 150\n",
      "Саудовская Аравия, Нефть, 300\n",
      "Австралия, Уголь, 500\n",
      "Южноафриканская Республика, Уголь, 700\n",
      "Бразилия, Соевые бобы, 100\n",
      "Аргентина, Соевые бобы, 800\n",
      "Новая Зеландия, Молоко, 600\n",
      "Финляндия, Лесоматериалы, 400\n",
      "Германия, Машины, 120\n",
      "\n",
      "Выберите действие:\n",
      "1. Добавить данные\n",
      "2. Вывести всю информацию\n",
      "3. Вывести список товаров экспортируемых страной\n",
      "4. Вывести список стран экспортирующих товар\n",
      "5. Выход\n"
     ]
    },
    {
     "name": "stdin",
     "output_type": "stream",
     "text": [
      "Ваш выбор:  1\n",
      "Введите название страны:  Россия\n",
      "Введите название товара:  Нефть\n",
      "Введите объем экспортируемого товара (в тоннах):  1\n"
     ]
    },
    {
     "name": "stdout",
     "output_type": "stream",
     "text": [
      "Данные добавлены успешно.\n",
      "\n",
      "Выберите действие:\n",
      "1. Добавить данные\n",
      "2. Вывести всю информацию\n",
      "3. Вывести список товаров экспортируемых страной\n",
      "4. Вывести список стран экспортирующих товар\n",
      "5. Выход\n"
     ]
    },
    {
     "name": "stdin",
     "output_type": "stream",
     "text": [
      "Ваш выбор:  2\n"
     ]
    },
    {
     "name": "stdout",
     "output_type": "stream",
     "text": [
      "Россия, Нефть, 401\n",
      "Россия, Уголь, 500\n",
      "Канада, Нефть, 150\n",
      "Саудовская Аравия, Нефть, 300\n",
      "Австралия, Уголь, 500\n",
      "Южноафриканская Республика, Уголь, 700\n",
      "Бразилия, Соевые бобы, 100\n",
      "Аргентина, Соевые бобы, 800\n",
      "Новая Зеландия, Молоко, 600\n",
      "Финляндия, Лесоматериалы, 400\n",
      "Германия, Машины, 120\n",
      "\n",
      "Выберите действие:\n",
      "1. Добавить данные\n",
      "2. Вывести всю информацию\n",
      "3. Вывести список товаров экспортируемых страной\n",
      "4. Вывести список стран экспортирующих товар\n",
      "5. Выход\n"
     ]
    },
    {
     "name": "stdin",
     "output_type": "stream",
     "text": [
      "Ваш выбор:  3\n",
      "Введите название страны:  Россия\n"
     ]
    },
    {
     "name": "stdout",
     "output_type": "stream",
     "text": [
      "Нефть: 401 тонн\n",
      "Уголь: 500 тонн\n",
      "\n",
      "Выберите действие:\n",
      "1. Добавить данные\n",
      "2. Вывести всю информацию\n",
      "3. Вывести список товаров экспортируемых страной\n",
      "4. Вывести список стран экспортирующих товар\n",
      "5. Выход\n"
     ]
    },
    {
     "name": "stdin",
     "output_type": "stream",
     "text": [
      "Ваш выбор:  3\n",
      "Введите название страны:  аловыр\n"
     ]
    },
    {
     "name": "stdout",
     "output_type": "stream",
     "text": [
      "Страна не найдена.\n",
      "\n",
      "Выберите действие:\n",
      "1. Добавить данные\n",
      "2. Вывести всю информацию\n",
      "3. Вывести список товаров экспортируемых страной\n",
      "4. Вывести список стран экспортирующих товар\n",
      "5. Выход\n"
     ]
    },
    {
     "name": "stdin",
     "output_type": "stream",
     "text": [
      "Ваш выбор:  4\n",
      "Введите название товара:  Бобы\n"
     ]
    },
    {
     "name": "stdout",
     "output_type": "stream",
     "text": [
      "Товар не найден.\n",
      "\n",
      "Выберите действие:\n",
      "1. Добавить данные\n",
      "2. Вывести всю информацию\n",
      "3. Вывести список товаров экспортируемых страной\n",
      "4. Вывести список стран экспортирующих товар\n",
      "5. Выход\n"
     ]
    },
    {
     "name": "stdin",
     "output_type": "stream",
     "text": [
      "Ваш выбор:  4\n",
      "Введите название товара:  бобы\n"
     ]
    },
    {
     "name": "stdout",
     "output_type": "stream",
     "text": [
      "Товар не найден.\n",
      "\n",
      "Выберите действие:\n",
      "1. Добавить данные\n",
      "2. Вывести всю информацию\n",
      "3. Вывести список товаров экспортируемых страной\n",
      "4. Вывести список стран экспортирующих товар\n",
      "5. Выход\n"
     ]
    },
    {
     "name": "stdin",
     "output_type": "stream",
     "text": [
      "Ваш выбор:  2\n"
     ]
    },
    {
     "name": "stdout",
     "output_type": "stream",
     "text": [
      "Россия, Нефть, 401\n",
      "Россия, Уголь, 500\n",
      "Канада, Нефть, 150\n",
      "Саудовская Аравия, Нефть, 300\n",
      "Австралия, Уголь, 500\n",
      "Южноафриканская Республика, Уголь, 700\n",
      "Бразилия, Соевые бобы, 100\n",
      "Аргентина, Соевые бобы, 800\n",
      "Новая Зеландия, Молоко, 600\n",
      "Финляндия, Лесоматериалы, 400\n",
      "Германия, Машины, 120\n",
      "\n",
      "Выберите действие:\n",
      "1. Добавить данные\n",
      "2. Вывести всю информацию\n",
      "3. Вывести список товаров экспортируемых страной\n",
      "4. Вывести список стран экспортирующих товар\n",
      "5. Выход\n"
     ]
    },
    {
     "name": "stdin",
     "output_type": "stream",
     "text": [
      "Ваш выбор:  4\n",
      "Введите название товара:  Соевые бобы\n"
     ]
    },
    {
     "name": "stdout",
     "output_type": "stream",
     "text": [
      "Бразилия: 100 тонн\n",
      "Аргентина: 800 тонн\n",
      "\n",
      "Выберите действие:\n",
      "1. Добавить данные\n",
      "2. Вывести всю информацию\n",
      "3. Вывести список товаров экспортируемых страной\n",
      "4. Вывести список стран экспортирующих товар\n",
      "5. Выход\n"
     ]
    },
    {
     "name": "stdin",
     "output_type": "stream",
     "text": [
      "Ваш выбор:  5\n"
     ]
    }
   ],
   "source": [
    "# ready\n",
    "def load_data(filename):\n",
    "    data = {}\n",
    "    if os.path.exists(filename):\n",
    "        with open(filename, \"r\", encoding=\"utf-8\") as file:\n",
    "            for line in file:\n",
    "                country, product, amount = line.strip().split(\", \")\n",
    "                amount = int(amount)\n",
    "                if country not in data:\n",
    "                    data[country] = {}\n",
    "                if product in data[country]:\n",
    "                    data[country][product] += amount\n",
    "                else:\n",
    "                    data[country][product] = amount\n",
    "    return data\n",
    "\n",
    "\n",
    "def save_data(filename, data):\n",
    "    with open(filename, \"w\", encoding=\"utf-8\") as file:\n",
    "        for country in data:\n",
    "            for product in data[country]:\n",
    "                file.write(f\"{country}, {product}, {data[country][product]}\\n\")\n",
    "\n",
    "\n",
    "def add_data(data):\n",
    "    country = input(\"Введите название страны: \")\n",
    "    product = input(\"Введите название товара: \")\n",
    "    amount = int(input(\"Введите объем экспортируемого товара (в тоннах): \"))\n",
    "\n",
    "    if country not in data:\n",
    "        data[country] = {}\n",
    "\n",
    "    if product in data[country]:\n",
    "        data[country][product] += amount\n",
    "    else:\n",
    "        data[country][product] = amount\n",
    "\n",
    "    print(\"Данные добавлены успешно.\")\n",
    "\n",
    "\n",
    "def display_all(data):\n",
    "    for country in data:\n",
    "        for product in data[country]:\n",
    "            print(f\"{country}, {product}, {data[country][product]}\")\n",
    "\n",
    "\n",
    "def products_by_country(data):\n",
    "    country = input(\"Введите название страны: \")\n",
    "    if country in data:\n",
    "        for product in data[country]:\n",
    "            print(f\"{product}: {data[country][product]} тонн\")\n",
    "    else:\n",
    "        print(\"Страна не найдена.\")\n",
    "\n",
    "\n",
    "def countries_by_product(data):\n",
    "    product = input(\"Введите название товара: \")\n",
    "    found = False\n",
    "    for country in data:\n",
    "        if product in data[country]:\n",
    "            print(f\"{country}: {data[country][product]} тонн\")\n",
    "            found = True\n",
    "    if not found:\n",
    "        print(\"Товар не найден.\")\n",
    "\n",
    "\n",
    "def main():\n",
    "    filename = \"4-7/input.txt\"\n",
    "    data = load_data(filename)\n",
    "\n",
    "    while True:\n",
    "        print(\"\\nВыберите действие:\")\n",
    "        print(\"1. Добавить данные\")\n",
    "        print(\"2. Вывести всю информацию\")\n",
    "        print(\"3. Вывести список товаров экспортируемых страной\")\n",
    "        print(\"4. Вывести список стран экспортирующих товар\")\n",
    "        print(\"5. Выход\")\n",
    "\n",
    "        choice = input(\"Ваш выбор: \")\n",
    "\n",
    "        if choice == \"1\":\n",
    "            add_data(data)\n",
    "            save_data(filename, data)\n",
    "        elif choice == \"2\":\n",
    "            display_all(data)\n",
    "        elif choice == \"3\":\n",
    "            products_by_country(data)\n",
    "        elif choice == \"4\":\n",
    "            countries_by_product(data)\n",
    "        elif choice == \"5\":\n",
    "            break\n",
    "        else:\n",
    "            print(\"Неверный выбор. Пожалуйста, попробуйте снова.\")\n",
    "\n",
    "\n",
    "main()\n"
   ]
  },
  {
   "cell_type": "code",
   "execution_count": null,
   "metadata": {},
   "outputs": [],
   "source": []
  }
 ],
 "metadata": {
  "kernelspec": {
   "display_name": "Python 3 (ipykernel)",
   "language": "python",
   "name": "python3"
  },
  "language_info": {
   "codemirror_mode": {
    "name": "ipython",
    "version": 3
   },
   "file_extension": ".py",
   "mimetype": "text/x-python",
   "name": "python",
   "nbconvert_exporter": "python",
   "pygments_lexer": "ipython3",
   "version": "3.12.4"
  }
 },
 "nbformat": 4,
 "nbformat_minor": 4
}
