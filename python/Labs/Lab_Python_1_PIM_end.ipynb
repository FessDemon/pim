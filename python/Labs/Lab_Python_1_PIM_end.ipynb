{
 "cells": [
  {
   "cell_type": "markdown",
   "metadata": {},
   "source": [
    "                                                              Бояринцев Дмитрий Федорович"
   ]
  },
  {
   "cell_type": "markdown",
   "metadata": {},
   "source": [
    "# Лабораторная работа №1"
   ]
  },
  {
   "cell_type": "markdown",
   "metadata": {},
   "source": [
    "## Знакомство с языком Python"
   ]
  },
  {
   "cell_type": "markdown",
   "metadata": {},
   "source": [
    "**I.**\tВызвать в интерактивном режиме `import this`, изучить философию разработчиков."
   ]
  },
  {
   "cell_type": "code",
   "execution_count": null,
   "metadata": {},
   "outputs": [],
   "source": [
    "import this"
   ]
  },
  {
   "cell_type": "markdown",
   "metadata": {},
   "source": [
    "**II.**\tВнимательно изучить `PEP 8` (`Python Enhancement Proposal`) – руководство по написанию кода на Python: `https://pythonworld.ru/osnovy/pep-8-rukovodstvo-po-napisaniyu-koda-na-python.html`."
   ]
  },
  {
   "cell_type": "markdown",
   "metadata": {},
   "source": [
    "**III.**\tРеализовать задачи на языке программирования Python:"
   ]
  },
  {
   "cell_type": "markdown",
   "metadata": {},
   "source": [
    "**1.**\tПользователь вводит числа `А` и `В`. Необходимо поменять значения `А` и `В` местами и вывести их на экран (минимум 5 способов). "
   ]
  },
  {
   "cell_type": "code",
   "execution_count": null,
   "metadata": {},
   "outputs": [],
   "source": [
    "#Первый способ.\n",
    "a, b = map(int, input(\"Введите значение двух переменных: \").split())\n",
    "temp = a\n",
    "a = b\n",
    "b = temp\n",
    "print(f\"Новое значение переменных: {a}, {b}\")"
   ]
  },
  {
   "cell_type": "code",
   "execution_count": null,
   "metadata": {},
   "outputs": [],
   "source": [
    "#Второй способ.\n",
    "a, b = map(int, input(\"Введите значение двух переменных: \").split())\n",
    "a = a + b\n",
    "b = a - b\n",
    "a = a - b\n",
    "print(f\"Новое значение переменных: {a}, {b}\")"
   ]
  },
  {
   "cell_type": "code",
   "execution_count": null,
   "metadata": {},
   "outputs": [],
   "source": [
    "#Третий способ.\n",
    "a, b = map(int, input(\"Введите значение двух переменных: \").split())\n",
    "a, b = b, a\n",
    "print(f\"Новое значение переменных: {a}, {b}\")"
   ]
  },
  {
   "cell_type": "code",
   "execution_count": 20,
   "metadata": {},
   "outputs": [
    {
     "name": "stdin",
     "output_type": "stream",
     "text": [
      "Введите значение двух переменных:  0 5\n"
     ]
    },
    {
     "name": "stdout",
     "output_type": "stream",
     "text": [
      "Новое значение переменных: 5, 0\n"
     ]
    }
   ],
   "source": [
    "#Четвертый способ.\n",
    "a, b = map(int, input(\"Введите значение двух переменных: \").split())\n",
    "a = a ^ b\n",
    "b = a ^ b\n",
    "a = a ^ b\n",
    "print(f\"Новое значение переменных: {a}, {b}\")"
   ]
  },
  {
   "cell_type": "code",
   "execution_count": null,
   "metadata": {},
   "outputs": [],
   "source": [
    "#Пятый способ.\n",
    "a, b = map(int, input(\"Введите значение двух переменных: \").split())\n",
    "lst = [a, b]\n",
    "a, b = lst.pop(), lst.pop()\n",
    "print(f\"Новое значение переменных: {a}, {b}\")"
   ]
  },
  {
   "cell_type": "markdown",
   "metadata": {},
   "source": [
    "**2.**\tПо координатам, введенным пользователем, определить к какой четверти координатной плоскости относится точка. Если точка лежит на оси абсцисс или ординат или является началом координат, сообщить об этом. Минимизировать количество условий."
   ]
  },
  {
   "cell_type": "code",
   "execution_count": 36,
   "metadata": {},
   "outputs": [
    {
     "name": "stdin",
     "output_type": "stream",
     "text": [
      "Введите координаты точки:  5 4\n"
     ]
    },
    {
     "name": "stdout",
     "output_type": "stream",
     "text": [
      "Точка находится в первой четверти.\n"
     ]
    }
   ],
   "source": [
    "x, y = map(int, input(\"Введите координаты точки: \").split())\n",
    "\n",
    "if x == 0 and y == 0:\n",
    "    print(\"Точка лежит в начале координат.\")\n",
    "elif x == 0 and y != 0:\n",
    "    print(\"Точка лежит на оси ординат.\")\n",
    "elif x != 0 and y == 0:\n",
    "    print(\"Точка лежит на оси абсцисс.\")\n",
    "elif x > 0 and y > 0:\n",
    "    print(\"Точка находится в первой четверти.\")\n",
    "elif x < 0 and y > 0:\n",
    "    print(\"Точка находится во второй четверти.\")\n",
    "elif x < 0 and y < 0:\n",
    "    print(\"Точка находится в третьей четверти.\")\n",
    "else:\n",
    "    print(\"Точка находится в четвёртой четверти.\")"
   ]
  },
  {
   "cell_type": "code",
   "execution_count": 4,
   "metadata": {},
   "outputs": [
    {
     "name": "stdin",
     "output_type": "stream",
     "text": [
      "Введите координаты точки:  0 0 \n"
     ]
    },
    {
     "name": "stdout",
     "output_type": "stream",
     "text": [
      "Точка лежит в начале координат.\n"
     ]
    }
   ],
   "source": [
    "x, y = map(int, input(\"Введите координаты точки: \").split())\n",
    "\n",
    "if x == 0 and y == 0:\n",
    "    print(\"Точка лежит в начале координат.\")\n",
    "elif x == 0:\n",
    "    print(\"Точка лежит на оси ординат.\")\n",
    "elif y == 0:\n",
    "    print(\"Точка лежит на оси абсцисс.\")\n",
    "elif x > 0:\n",
    "    if y > 0:\n",
    "        print(\"Точка находится в первой четверти.\")\n",
    "    else:\n",
    "        print(\"Точка находится в четвёртой четверти.\")\n",
    "elif x < 0:\n",
    "    if y > 0:\n",
    "        print(\"Точка находится во второй четверти.\")\n",
    "    else:\n",
    "        print(\"Точка находится в третьей четверти.\")"
   ]
  },
  {
   "cell_type": "markdown",
   "metadata": {},
   "source": [
    "**3.** Пользователь вводит трехзначное число. Необходимо определить сумму цифр этого трехзначного числа. Реализовать подсчет суммы минимум двумя способами."
   ]
  },
  {
   "cell_type": "code",
   "execution_count": 48,
   "metadata": {},
   "outputs": [
    {
     "name": "stdin",
     "output_type": "stream",
     "text": [
      "Введите трехзначное число:  147\n"
     ]
    },
    {
     "name": "stdout",
     "output_type": "stream",
     "text": [
      "Сумма цифр этого числа - 12\n"
     ]
    }
   ],
   "source": [
    "# Первый способ\n",
    "number = input(\"Введите трехзначное число: \")\n",
    "firstDigit = int(number[0])\n",
    "secondDigit = int(number[1])\n",
    "lastDigit = int(number[2])\n",
    "totalSum = firstDigit + secondDigit + lastDigit\n",
    "print(f\"Сумма цифр этого числа - {totalSum}\")"
   ]
  },
  {
   "cell_type": "code",
   "execution_count": 62,
   "metadata": {},
   "outputs": [
    {
     "name": "stdin",
     "output_type": "stream",
     "text": [
      "Введите трехзначное число:  456\n"
     ]
    },
    {
     "name": "stdout",
     "output_type": "stream",
     "text": [
      "15\n"
     ]
    }
   ],
   "source": [
    "# Второй способ\n",
    "number = int(input(\"Введите трехзначное число: \"))\n",
    "print(sum(map(int, str(number))))"
   ]
  },
  {
   "cell_type": "markdown",
   "metadata": {},
   "source": [
    "**4.** \tНайти корни уравнения `a∙x^2+b∙x+c=0`. Параметры уравнения (`a`, `b`, `c`) вводятся пользователем. Предусмотреть, что `a`  может быть равно `0` - вывести корректные ответы."
   ]
  },
  {
   "cell_type": "code",
   "execution_count": 5,
   "metadata": {},
   "outputs": [
    {
     "name": "stdin",
     "output_type": "stream",
     "text": [
      "Введите коэффициент a:  0\n",
      "Введите коэффициент b:  0\n",
      "Введите свободный член c:  2\n"
     ]
    },
    {
     "name": "stdout",
     "output_type": "stream",
     "text": [
      "Корней уровнения нет.\n"
     ]
    }
   ],
   "source": [
    "# Ввод коэффициентов уравнения\n",
    "a = float(input(\"Введите коэффициент a: \"))\n",
    "b = float(input(\"Введите коэффициент b: \"))\n",
    "c = float(input(\"Введите свободный член c: \"))\n",
    "\n",
    "if (a == 0) and (b == 0) and (c == 0):\n",
    "    print(\"x может быть любым числом\")\n",
    "elif (a == 0) and (b == 0):\n",
    "    print(\"Корней уровнения нет.\")\n",
    "elif a == 0:\n",
    "    # Линейное уравнение, решаем его\n",
    "    print(f\"x = {-c / b}\")\n",
    "else:\n",
    "    discriminant = b**2 - 4*a*c\n",
    "    print(f\"Дискриминант = {discriminant:.2f}\")\n",
    "    if discriminant < 0:\n",
    "        print(\"Корней нет\")\n",
    "    elif discriminant == 0:\n",
    "        x = -b / (2 * a)\n",
    "        print(f\"x = {x}\")\n",
    "    else:\n",
    "        x1 = (-b + discriminant ** 0.5) / (2 * a)\n",
    "        x2 = (-b - discriminant ** 0.5) / (2 * a)\n",
    "        print(f\"x1 = {x1:.2f}\")\n",
    "        print(f\"x2 = {x2:.2f}\")"
   ]
  },
  {
   "cell_type": "markdown",
   "metadata": {},
   "source": [
    "**5.**\tВывести на экран по одному разу все трехзначные числа, полученные перестановкой цифр введенного пользователем трехзначного числа. Дополнительными библиотеками, циклами, множествами пользоваться нельзя."
   ]
  },
  {
   "cell_type": "code",
   "execution_count": 32,
   "metadata": {},
   "outputs": [
    {
     "name": "stdin",
     "output_type": "stream",
     "text": [
      " 655\n"
     ]
    },
    {
     "name": "stdout",
     "output_type": "stream",
     "text": [
      "565\n",
      "556\n"
     ]
    }
   ],
   "source": [
    "num = int(input())\n",
    "c1 = num // 100\n",
    "c2 = num // 10 % 10\n",
    "c3 = num % 10\n",
    "if (num % 100 == 0) or (c1 == c2 == c3):\n",
    "    #print(c1*100 + c2*10 + c3)\n",
    "    print('Других чисел нет')\n",
    "elif (c2 == 0) and (c1 == c3):\n",
    "    #print(c1*100 + c2*10 + c3)\n",
    "    print(c1*100 + c3*10 + c2)\n",
    "elif (c3 == 0) and (c1 == c2):\n",
    "    #print(c1*100 + c2*10 + c3)\n",
    "    print(c2*100 + c3*10 + c1)\n",
    "elif (c2 == 0) and (c3 != 0):\n",
    "    #print(c1*100 + c2*10 + c3)\n",
    "    print(c1*100 + c3*10 + c2)\n",
    "    print(c3*100 + c2*10 + c1)\n",
    "    print(c3*100 + c1*10 + c2)\n",
    "elif (c2 != 0) and (c3 == 0):\n",
    "    #print(c1*100 + c2*10 + c3)\n",
    "    print(c1*100 + c3*10 + c2)\n",
    "    print(c2*100 + c1*10 + c3)\n",
    "    print(c2*100 + c3*10 + c1)\n",
    "elif (c1 != c2) and (c1 != c3) and (c2 != c3):\n",
    "    #print(c1*100 + c2*10 + c3)\n",
    "    print(c1*100 + c3*10 + c2)\n",
    "    print(c2*100 + c1*10 + c3)\n",
    "    print(c2*100 + c3*10 + c1)\n",
    "    print(c3*100 + c1*10 + c2)\n",
    "    print(c3*100 + c1*10 + c2)\n",
    "elif (c1 == c2) and (c2 != c3):\n",
    "    #print(c1*100 + c2*10 + c3)\n",
    "    print(c1*100 + c3*10 + c2)\n",
    "    print(c3*100 + c1*10 + c2)\n",
    "elif (c1 == c3) and (c1 != c2):\n",
    "    #print(c1*100 + c2*10 + c3)\n",
    "    print(c1*100 + c3*10 + c2)\n",
    "    print(c2*100 + c1*10 + c3)\n",
    "elif (c2 == c3) and (c1 != c3):\n",
    "    #print(c1*100 + c2*10 + c3)\n",
    "    print(c2*100 + c1*10 + c3)\n",
    "    print(c2*100 + c3*10 + c1)"
   ]
  },
  {
   "cell_type": "markdown",
   "metadata": {},
   "source": [
    "**6.**\tНайдите все пары дружественных чисел, не превышающих `А`. Два числа называют дружественными, если каждое из них равно сумме всех делителей другого (само число в качестве делителя не рассматривается). Числа в каждой паре должны идти по возрастанию."
   ]
  },
  {
   "cell_type": "code",
   "execution_count": 13,
   "metadata": {},
   "outputs": [
    {
     "name": "stdout",
     "output_type": "stream",
     "text": [
      "220 284\n",
      "1184 1210\n",
      "2620 2924\n",
      "5020 5564\n",
      "6232 6368\n",
      "CPU times: user 1.93 s, sys: 2 ms, total: 1.93 s\n",
      "Wall time: 1.93 s\n"
     ]
    }
   ],
   "source": [
    "%%time\n",
    "f = 0\n",
    "for ch in range(1, 10_000):\n",
    "    if ch != f:\n",
    "        s1 = 0\n",
    "        for i in range(1, ch // 2 + 1):\n",
    "            if ch % i == 0:\n",
    "                s1 += i\n",
    "        s2 = 0\n",
    "        if s1 < ch:\n",
    "            for j in range(1, s1 // 2 + 1):\n",
    "                if s1 % j == 0:\n",
    "                    s2 += j\n",
    "            if s2 == ch != s1:\n",
    "                print(s1, ch)\n",
    "                f = s1        "
   ]
  },
  {
   "cell_type": "code",
   "execution_count": null,
   "metadata": {},
   "outputs": [],
   "source": []
  }
 ],
 "metadata": {
  "kernelspec": {
   "display_name": "Python 3 (ipykernel)",
   "language": "python",
   "name": "python3"
  },
  "language_info": {
   "codemirror_mode": {
    "name": "ipython",
    "version": 3
   },
   "file_extension": ".py",
   "mimetype": "text/x-python",
   "name": "python",
   "nbconvert_exporter": "python",
   "pygments_lexer": "ipython3",
   "version": "3.12.4"
  }
 },
 "nbformat": 4,
 "nbformat_minor": 4
}
