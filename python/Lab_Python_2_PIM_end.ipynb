{
 "cells": [
  {
   "cell_type": "markdown",
   "metadata": {},
   "source": [
    "                                                              Бояринцев Дмитрий Федорович"
   ]
  },
  {
   "cell_type": "markdown",
   "metadata": {},
   "source": [
    "#                                    Лабораторная работа №2"
   ]
  },
  {
   "cell_type": "markdown",
   "metadata": {},
   "source": [
    "## Строки в Python"
   ]
  },
  {
   "cell_type": "markdown",
   "metadata": {},
   "source": [
    "Каждая задача должна быть реализована в 2 вариантах – с использованием и без использования регулярных выражений."
   ]
  },
  {
   "cell_type": "code",
   "execution_count": 38,
   "metadata": {},
   "outputs": [],
   "source": [
    "import re"
   ]
  },
  {
   "cell_type": "markdown",
   "metadata": {},
   "source": [
    "**1.** Пользователь вводит строку, символ (букву) и подстроку. В исходной строке после каждой заданной пользователем буквы вставьте заданную подстроку."
   ]
  },
  {
   "cell_type": "code",
   "execution_count": 7,
   "metadata": {},
   "outputs": [
    {
     "name": "stdin",
     "output_type": "stream",
     "text": [
      "Введите строку:  yuiy\n",
      "Введите символ (букву):  y\n",
      "Введите подстроку:  %&*(\n"
     ]
    },
    {
     "name": "stdout",
     "output_type": "stream",
     "text": [
      "y%&*(uiy%&*(\n"
     ]
    }
   ],
   "source": [
    "# ready\n",
    "string = input('Введите строку: ')\n",
    "char = input('Введите символ (букву): ')\n",
    "subString = input('Введите подстроку: ')\n",
    "print(string.replace(char, char + subString))"
   ]
  },
  {
   "cell_type": "code",
   "execution_count": 5,
   "metadata": {},
   "outputs": [
    {
     "name": "stdin",
     "output_type": "stream",
     "text": [
      "Введите строку:  hjjkbkj\n",
      "Введите символ (букву):  j\n",
      "Введите подстроку:  oui\n"
     ]
    },
    {
     "name": "stdout",
     "output_type": "stream",
     "text": [
      "hjouijouikbkjoui\n"
     ]
    }
   ],
   "source": [
    "# ready\n",
    "string = input('Введите строку: ')\n",
    "char = input('Введите символ (букву): ')\n",
    "substring = input('Введите подстроку: ')\n",
    "\n",
    "pattern = fr'({char})'\n",
    "result = re.sub(pattern, r'\\1' + substring, string)\n",
    "print(result)"
   ]
  },
  {
   "cell_type": "markdown",
   "metadata": {},
   "source": [
    "**2.** Подсчитайте сумму целых чисел, встречающихся в строке. Символ ‘–’ перед числом считается знаком отрицательного числа. Все остальные символы (кроме цифр и минуса) считаются разделителями между числами."
   ]
  },
  {
   "cell_type": "code",
   "execution_count": 7,
   "metadata": {},
   "outputs": [
    {
     "name": "stdout",
     "output_type": "stream",
     "text": [
      "-1\n"
     ]
    }
   ],
   "source": [
    "# ready\n",
    "string = '-89j88'\n",
    "num = ''\n",
    "for char in string:\n",
    "    if char in '-0123456789':\n",
    "        num += char\n",
    "    else:\n",
    "        num = num + ' '\n",
    "#print(num)\n",
    "num = num.split()\n",
    "#print(num)\n",
    "print(sum(list(map(int, num))))"
   ]
  },
  {
   "cell_type": "code",
   "execution_count": 9,
   "metadata": {},
   "outputs": [
    {
     "name": "stdout",
     "output_type": "stream",
     "text": [
      "-1\n"
     ]
    }
   ],
   "source": [
    "# ready\n",
    "#string = 'gjhd7594 587 hgdh-8546 900 $^&%465#%'\n",
    "#pattern = r'-?\\d+'\n",
    "numbers = re.findall(r'-?\\d+', string)\n",
    "#print(numbers)\n",
    "print(sum(list(map(int, numbers))))"
   ]
  },
  {
   "cell_type": "markdown",
   "metadata": {},
   "source": [
    "**3.** Сформируйте новую строку, отличающуюся от исходной тем, что группы идущих подряд одинаковых символов разделены символом \\*. Пример ееннне -> ее\\*ннн\\*е, ппрол-> пп\\*р\\*о\\*л."
   ]
  },
  {
   "cell_type": "code",
   "execution_count": 14,
   "metadata": {},
   "outputs": [
    {
     "name": "stdout",
     "output_type": "stream",
     "text": [
      "Строка пустая.\n"
     ]
    }
   ],
   "source": [
    "# ready\n",
    "inputString = ''\n",
    "if inputString == '':\n",
    "        print('Строка пустая.')\n",
    "else:\n",
    "    result = [] \n",
    "    currentChar = inputString[0]\n",
    "    result.append(currentChar)\n",
    "    \n",
    "    for char in inputString[1:]:\n",
    "        if char != currentChar:\n",
    "            result.append('*')\n",
    "            currentChar = char\n",
    "        result.append(char)\n",
    "    print(''.join(result))"
   ]
  },
  {
   "cell_type": "code",
   "execution_count": 18,
   "metadata": {},
   "outputs": [
    {
     "name": "stdout",
     "output_type": "stream",
     "text": [
      "Строка пустая.\n"
     ]
    }
   ],
   "source": [
    "# ready\n",
    "#inputString = ''\n",
    "if inputString == '':\n",
    "    print('Строка пустая.')\n",
    "else:\n",
    "    newString = re.sub(r'(.)(?!\\1|$)', r'\\1*', inputString)\n",
    "    print(newString)"
   ]
  },
  {
   "cell_type": "markdown",
   "metadata": {},
   "source": [
    "**4.** Удалите из строки последовательности символов, расположенные между круглыми скобками вместе со скобками (считается, что скобки в строке расставлены без ошибок). Учтите, что одни скобки могут быть внутри других. "
   ]
  },
  {
   "cell_type": "code",
   "execution_count": 20,
   "metadata": {},
   "outputs": [
    {
     "name": "stdout",
     "output_type": "stream",
     "text": [
      "9997\n"
     ]
    }
   ],
   "source": [
    "# ready\n",
    "inputString = '9((j)8())9((()j))97'\n",
    "stack = []\n",
    "result = []\n",
    "    \n",
    "for char in inputString:\n",
    "    if char == '(':\n",
    "        stack.append(len(result))\n",
    "    elif char == ')':\n",
    "        if stack:\n",
    "            start_index = stack.pop()\n",
    "            result = result[:start_index]\n",
    "    else:\n",
    "        if not stack:\n",
    "            result.append(char)\n",
    "print(''.join(result))"
   ]
  },
  {
   "cell_type": "code",
   "execution_count": 132,
   "metadata": {},
   "outputs": [
    {
     "name": "stdout",
     "output_type": "stream",
     "text": [
      "9997\n"
     ]
    }
   ],
   "source": [
    "# ready\n",
    "#inputString = \"9((j)())9((()j))9\"\n",
    "pattern = r'\\([^()]*\\)'\n",
    "while re.search(pattern, inputString):\n",
    "    inputString = re.sub(pattern, '', inputString)\n",
    "\n",
    "print(inputString.strip())\n"
   ]
  },
  {
   "cell_type": "markdown",
   "metadata": {},
   "source": [
    "**5.** Преобразовать сегодняшнюю дату в системном представлении (2024-09-10) в привычный для нас формат день/месяц/год (17/09/2018). Известно, что на год выделено всегда 4 цифры, а на день и месяц – всегда 2 цифры.\n",
    "\n",
    "Примечание:\n",
    "за работу с датами и временем в Python отвечает модуль datetime, а непосредственно для работы с датами используется объект date и его методы."
   ]
  },
  {
   "cell_type": "code",
   "execution_count": 1,
   "metadata": {},
   "outputs": [
    {
     "name": "stdout",
     "output_type": "stream",
     "text": [
      "2024-09-12\n"
     ]
    }
   ],
   "source": [
    "from datetime import date\n",
    "\n",
    "#### Получаем текущую дату\n",
    "d1 = date.today()\n",
    "#### Преобразуем результат в строку\n",
    "ds = str(d1)\n",
    "print(ds)"
   ]
  },
  {
   "cell_type": "code",
   "execution_count": 3,
   "metadata": {},
   "outputs": [
    {
     "name": "stdout",
     "output_type": "stream",
     "text": [
      "2024-09-12\n",
      "12-09-2024\n"
     ]
    }
   ],
   "source": [
    "# ready\n",
    "from datetime import date\n",
    "\n",
    "#### Получаем текущую дату\n",
    "d1 = date.today()\n",
    "#### Преобразуем результат в строку\n",
    "ds = str(d1)\n",
    "print(ds)\n",
    "print(ds[-2:] + ds[-6:-2] + ds[:4])"
   ]
  },
  {
   "cell_type": "code",
   "execution_count": 9,
   "metadata": {},
   "outputs": [
    {
     "name": "stdout",
     "output_type": "stream",
     "text": [
      "2024-09-12\n",
      "12-09-2024\n"
     ]
    }
   ],
   "source": [
    "# ready\n",
    "from datetime import date\n",
    "\n",
    "#### Получаем текущую дату\n",
    "date = date.today()\n",
    "#### Преобразуем результат в строку\n",
    "dateString = str(date)\n",
    "print(dateString)\n",
    "pattern = r'(\\d{4})-(\\d{2})-(\\d{2})'\n",
    "groups = re.match(pattern, dateString).groups()\n",
    "newDateString = (f\"{groups[2]}-{groups[1]}-{groups[0]}\")\n",
    "print(newDateString)"
   ]
  },
  {
   "cell_type": "markdown",
   "metadata": {},
   "source": [
    "**6.** Выведите слова сообщения, являющиеся палиндромами, по убыванию их длин. Для повторяющихся слов в скобках указывать количество повторов."
   ]
  },
  {
   "cell_type": "code",
   "execution_count": 60,
   "metadata": {},
   "outputs": [
    {
     "name": "stdout",
     "output_type": "stream",
     "text": [
      "['шабаш', 'казак', 'шабаш', 'кок', 'поп', 'кок', 'поп', 'поп']\n",
      "шабаш\t(2)\n",
      "казак\n",
      "кок\t(2)\n",
      "поп\t(3)\n"
     ]
    }
   ],
   "source": [
    "# not ready\n",
    "string = 'Шабаш кок ПОП каЗАк шаБаш кОК поп поп рок'\n",
    "string = string.lower()\n",
    "m_word = string.split() # исходный массив слов  \n",
    "\n",
    "m_words_pal = []\n",
    "\n",
    "for w in m_word:\n",
    "    string = w[::-1]\n",
    "    if string == w:\n",
    "      m_words_pal.append(w)\n",
    "      \n",
    "m_words_pal = sorted(m_words_pal, key=len, reverse=True)\n",
    "print(m_words_pal)\n",
    "word_out = []\n",
    "\n",
    "for w in m_words_pal:\n",
    "    if not (w in word_out):\n",
    "        word_out.append(w)\n",
    "        if m_words_pal.count(w) > 1:\n",
    "            print(f'{w}\\t({m_words_pal.count(w)})')\n",
    "        else:\n",
    "            print(f'{w}')\n",
    "#print(word_out)"
   ]
  },
  {
   "cell_type": "code",
   "execution_count": 62,
   "metadata": {},
   "outputs": [
    {
     "name": "stdout",
     "output_type": "stream",
     "text": [
      "шабаш\t(2)\n",
      "казак\n",
      "кок\t(2)\n",
      "поп\t(3)\n",
      "аа\n"
     ]
    }
   ],
   "source": [
    "# ready\n",
    "text = 'Шабаш кок ПОП каЗАк шаБаш кОК поп поп рок аа'\n",
    "text = text.lower()\n",
    "words = re.split(r' ', text)\n",
    "mx = len(max(words, key=len))\n",
    "\n",
    "d = []\n",
    "for l in range(mx,0,-1):\n",
    "    l2 = l//2\n",
    "    r_s = ''\n",
    "    for i in range(l2):\n",
    "        r_s = '([a-z]|[а-я])' + r_s\n",
    "    if l%2 == 1:\n",
    "        r_s = '([a-z]|[а-я])' + r_s\n",
    "    for i in range(l2,0,-1):\n",
    "        r_s = r_s+ '\\\\' + str(i)\n",
    "    #print(r_s)\n",
    "    for w in words:\n",
    "        if len(w) == l:\n",
    "            if re.search(r_s,w) != None:\n",
    "                if not w in d:\n",
    "                    d.append(w)\n",
    "           \n",
    "for w in d:\n",
    "    if words.count(w) > 1:\n",
    "        print(f'{w}\\t({words.count(w)})')\n",
    "    else:\n",
    "        print(w)"
   ]
  },
  {
   "cell_type": "markdown",
   "metadata": {},
   "source": [
    "**7.** Исправьте строку в соответствии с правилом расстановки знаков препинания (точка, запятая, тире, точка с запятой, двоеточие, вопросительный и восклицательный знаки, многоточие, круглые, квадратные и фигурные скобки):\n",
    "перед каждым знаком препинания (кроме тире и открывающихся скобок) пробел отсутствует, а после любого знака препинания (кроме\n",
    "открывающихся скобок) стоит ровно один пробел; в многоточии между точками пробелы отсутствуют."
   ]
  },
  {
   "cell_type": "code",
   "execution_count": 22,
   "metadata": {},
   "outputs": [
    {
     "name": "stdout",
     "output_type": "stream",
     "text": [
      "Ответ:  kl, ji! jj: hj - hj (ol) l... jk? jj - hhj.\n"
     ]
    }
   ],
   "source": [
    "# not ready\n",
    "text = ' kl ,ji !jj   :hj-hj( ol )l .    .    .jk    ?jj    -hhj.'\n",
    "\n",
    "#print('исходная строка: ',text)\n",
    "\n",
    "text=' '.join(text.split()) #убрали лишние (двойные) пробелы\n",
    "#print('строка без лишних пробелов: ',text)\n",
    "correct_text=text[len(text)-1] #строка-ответ, в которую занесен последний символ исходной строки\n",
    " \n",
    "\n",
    "symbol1='.,-;:?!)]}' # строка символов, после которых должен быть пробел\n",
    "symbol2='([{' # строка символов, после которых не должно быть пробела\n",
    "\n",
    "for i in range(len(text)-2,-1,-1): #просмотр исходной строки с предпоследнего символа\n",
    "    if (text[i] in symbol1):\n",
    "        if not(correct_text[0] in ' '+symbol1):\n",
    "            correct_text=text[i]+' '+correct_text # добавляем пробел, если его нет после символов из symbol1\n",
    "        else:\n",
    "            correct_text=text[i]+correct_text\n",
    "    else:\n",
    "        if (text[i] in symbol2):\n",
    "            if (correct_text[0]==' '):\n",
    "                correct_text=text[i]+correct_text[1:] # убираем пробел, если он был перед символо из symbol2\n",
    "            else:\n",
    "                correct_text=text[i]+correct_text\n",
    "        else:\n",
    "            if (text[i]==' '):\n",
    "                if not(correct_text[0] in symbol1): # добавляем текущий символ, если он не пробел перед символом из symbol1\n",
    "                    correct_text=text[i]+correct_text\n",
    "            else:\n",
    "                if (correct_text[0]=='-') or (correct_text[0] in symbol2):\n",
    "                    correct_text=text[i]+' '+correct_text # добавляем пробел, если его нет перед '-' или открывающейся скобкой\n",
    "                else:\n",
    "                    correct_text=text[i]+correct_text\n",
    "                \n",
    "correct_text=correct_text.replace('. . .','...') # убираем лишние пробелы внутри многоточия\n",
    "\n",
    "print('Ответ: ',correct_text)"
   ]
  },
  {
   "cell_type": "code",
   "execution_count": 128,
   "metadata": {},
   "outputs": [
    {
     "name": "stdout",
     "output_type": "stream",
     "text": [
      "kl, ji! jj: hj - hj (ol) l... jk? jj  - hhj.\n"
     ]
    }
   ],
   "source": [
    "# ready\n",
    "def fixPunctuation(text):\n",
    "    # Удаляем пробелы, встречающиеся более одного раза подряд\n",
    "    text = re.sub(r'\\s+', ' ', text)\n",
    "\n",
    "    # Добавляем пробел после знаков препинания (кроме открывающихся скобок)\n",
    "    text = re.sub(r'([-.,;:?!])\\s*', r'\\1 ', text)\n",
    "\n",
    "    # Заменяем многоточие на корректное\n",
    "    text = re.sub(r'\\.\\s*\\.\\s*\\.', '...', text)\n",
    "\n",
    "    # Удаляем пробелы перед закрывающими скобками\n",
    "    text = re.sub(r'\\s+([\\)\\]\\}])', r'\\1', text)\n",
    "\n",
    "    # Удаляем пробелы после открывающих скобок\n",
    "    text = re.sub(r'([\\(\\[\\{])\\s+', r'\\1', text)\n",
    "\n",
    "    # Добавляем пробел перед открывающимися скобками\n",
    "    text = re.sub(r'([\\(\\[\\{])', r' \\1', text)\n",
    "\n",
    "    # Добавляем пробел после закрывающихся скобок\n",
    "    text = re.sub(r'([\\)\\]\\}])', r'\\1 ', text)\n",
    "    \n",
    "    # Удаляем пробелы перед знаками препинания (кроме тире и открывающихся скобок)\n",
    "    text = re.sub(r'\\s+([.,;:?!])', r'\\1', text)\n",
    "\n",
    "    # Добавляем пробел перед тире\n",
    "    text = re.sub(r'([-])', r' \\1', text)\n",
    "\n",
    "    # Удаляем лишние пробелы в конце строки\n",
    "    text = text.strip()\n",
    "\n",
    "    return text\n",
    "\n",
    "\n",
    "inputText = ' kl ,ji !jj   :hj-hj( ol )l .    .    .jk    ?jj    -hhj.'\n",
    "print(fixPunctuation(inputText))"
   ]
  },
  {
   "cell_type": "code",
   "execution_count": null,
   "metadata": {},
   "outputs": [],
   "source": []
  }
 ],
 "metadata": {
  "kernelspec": {
   "display_name": "Python 3 (ipykernel)",
   "language": "python",
   "name": "python3"
  },
  "language_info": {
   "codemirror_mode": {
    "name": "ipython",
    "version": 3
   },
   "file_extension": ".py",
   "mimetype": "text/x-python",
   "name": "python",
   "nbconvert_exporter": "python",
   "pygments_lexer": "ipython3",
   "version": "3.12.4"
  }
 },
 "nbformat": 4,
 "nbformat_minor": 4
}
