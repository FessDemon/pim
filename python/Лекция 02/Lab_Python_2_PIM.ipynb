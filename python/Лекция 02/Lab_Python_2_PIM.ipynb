{
 "cells": [
  {
   "cell_type": "markdown",
   "metadata": {},
   "source": [
    "                                                              Ф.И.О."
   ]
  },
  {
   "cell_type": "markdown",
   "metadata": {},
   "source": [
    "#                                    Лабораторная работа №2"
   ]
  },
  {
   "cell_type": "markdown",
   "metadata": {},
   "source": [
    "## Строки в Python"
   ]
  },
  {
   "cell_type": "markdown",
   "metadata": {},
   "source": [
    "Каждая задача должна быть реализована в 2 вариантах – с использованием и без использования регулярных выражений."
   ]
  },
  {
   "cell_type": "markdown",
   "metadata": {},
   "source": [
    "**1.** Пользователь вводит строку, символ (букву) и подстроку. В исходной строке после каждой заданной пользователем буквы вставьте заданную подстроку."
   ]
  },
  {
   "cell_type": "code",
   "execution_count": null,
   "metadata": {},
   "outputs": [],
   "source": []
  },
  {
   "cell_type": "markdown",
   "metadata": {},
   "source": [
    "**2.** Подсчитайте сумму целых чисел, встречающихся в строке. Символ ‘–’ перед числом считается знаком отрицательного числа. Все остальные символы (кроме цифр и минуса) считаются разделителями между числами."
   ]
  },
  {
   "cell_type": "code",
   "execution_count": null,
   "metadata": {},
   "outputs": [],
   "source": []
  },
  {
   "cell_type": "markdown",
   "metadata": {},
   "source": [
    "**3.** Сформируйте новую строку, отличающуюся от исходной тем, что группы идущих подряд одинаковых символов разделены символом \\*. Пример ееннне -> ее\\*ннн\\*е, ппрол-> пп\\*р\\*о\\*л."
   ]
  },
  {
   "cell_type": "code",
   "execution_count": null,
   "metadata": {},
   "outputs": [],
   "source": []
  },
  {
   "cell_type": "markdown",
   "metadata": {},
   "source": [
    "**4.** Удалите из строки последовательности символов, расположенные между круглыми скобками вместе со скобками (считается, что скобки в строке расставлены без ошибок). Учтите, что одни скобки могут быть внутри других. "
   ]
  },
  {
   "cell_type": "code",
   "execution_count": null,
   "metadata": {},
   "outputs": [],
   "source": []
  },
  {
   "cell_type": "markdown",
   "metadata": {},
   "source": [
    "**5.** Преобразовать сегодняшнюю дату в системном представлении (2024-09-10) в привычный для нас формат день/месяц/год (17/09/2018). Известно, что на год выделено всегда 4 цифры, а на день и месяц – всегда 2 цифры.\n",
    "\n",
    "Примечание:\n",
    "за работу с датами и временем в Python отвечает модуль datetime, а непосредственно для работы с датами используется объект date и его методы."
   ]
  },
  {
   "cell_type": "code",
   "execution_count": 5,
   "metadata": {},
   "outputs": [
    {
     "name": "stdout",
     "output_type": "stream",
     "text": [
      "2024-09-10\n"
     ]
    }
   ],
   "source": [
    "from datetime import date\n",
    "\n",
    "#### Получаем текущую дату\n",
    "d1 = date.today()\n",
    "#### Преобразуем результат в строку\n",
    "ds = str(d1)\n",
    "print(ds)"
   ]
  },
  {
   "cell_type": "code",
   "execution_count": null,
   "metadata": {},
   "outputs": [],
   "source": []
  },
  {
   "cell_type": "markdown",
   "metadata": {},
   "source": [
    "**6.** Выведите слова сообщения, являющиеся палиндромами, по убыванию их длин. Для повторяющихся слов в скобках указывать количество повторов."
   ]
  },
  {
   "cell_type": "code",
   "execution_count": null,
   "metadata": {},
   "outputs": [],
   "source": []
  },
  {
   "cell_type": "markdown",
   "metadata": {},
   "source": [
    "**7.** Исправьте строку в соответствии с правилом расстановки знаков препинания (точка, запятая, тире, точка с запятой, двоеточие, вопросительный и восклицательный знаки, многоточие, круглые, квадратные и фигурные скобки):\n",
    "перед каждым знаком препинания (кроме тире и открывающихся скобок) пробел отсутствует, а после любого знака препинания (кроме\n",
    "открывающихся скобок) стоит ровно один пробел; в многоточии между точками пробелы отсутствуют."
   ]
  },
  {
   "cell_type": "code",
   "execution_count": null,
   "metadata": {},
   "outputs": [],
   "source": []
  }
 ],
 "metadata": {
  "kernelspec": {
   "display_name": "Python 3 (ipykernel)",
   "language": "python",
   "name": "python3"
  },
  "language_info": {
   "codemirror_mode": {
    "name": "ipython",
    "version": 3
   },
   "file_extension": ".py",
   "mimetype": "text/x-python",
   "name": "python",
   "nbconvert_exporter": "python",
   "pygments_lexer": "ipython3",
   "version": "3.11.5"
  }
 },
 "nbformat": 4,
 "nbformat_minor": 4
}
