{
 "cells": [
  {
   "cell_type": "markdown",
   "metadata": {},
   "source": [
    "                                                    Бояринцев Дмитрий Федорович"
   ]
  },
  {
   "cell_type": "markdown",
   "metadata": {},
   "source": [
    "# Лабораторная работа № 4"
   ]
  },
  {
   "cell_type": "markdown",
   "metadata": {},
   "source": [
    "### Словари, файлы в Python"
   ]
  },
  {
   "cell_type": "markdown",
   "metadata": {},
   "source": [
    "**1.**\tВ файле input.txt хранится англо-русский словарь. Создать русско-английский словарь и сохранить его в отсортированном виде в файле output.txt.   \n",
    "  \n",
    "**input.txt**\n",
    "\n",
    "*apple – лесть, яблоко  \n",
    "soap – лесть, мыло  \n",
    "foam – мыло, пена*\n",
    "  \n",
    "**output.txt** \n",
    "\n",
    "*лесть – apple, soap  \n",
    "мыло – foam, soap  \n",
    "пена – foam  \n",
    "яблоко – apple*  \n"
   ]
  },
  {
   "cell_type": "code",
   "execution_count": 9,
   "metadata": {},
   "outputs": [
    {
     "name": "stdout",
     "output_type": "stream",
     "text": [
      "Русско-английский словарь успешно создан и сохранен в output.txt.\n"
     ]
    }
   ],
   "source": [
    "# Чтение англо-русского словаря из файла\n",
    "input_file = 'task_4_1/input.txt'\n",
    "output_file = 'task_4_1/output.txt'\n",
    "\n",
    "# Словарь для хранения русско-английских переводов\n",
    "rus_eng_dict = {}\n",
    "\n",
    "# Открываем файл для чтения\n",
    "with open(input_file, 'r', encoding='utf-8') as file:\n",
    "    for line in file:\n",
    "        # Разделяем строку на английское слово и русские переводы\n",
    "        eng_word, rus_words = line.strip().split(' – ')\n",
    "        rus_words_list = [word.strip() for word in rus_words.split(',')]\n",
    "\n",
    "        # Заполняем русско-английский словарь\n",
    "        for rus_word in rus_words_list:\n",
    "            if rus_word not in rus_eng_dict:\n",
    "                rus_eng_dict[rus_word] = []\n",
    "            rus_eng_dict[rus_word].append(eng_word)\n",
    "\n",
    "# Сортируем словарь по ключам (русским словам)\n",
    "sorted_rus_eng_dict = dict(sorted(rus_eng_dict.items()))\n",
    "\n",
    "# Записываем результат в выходной файл\n",
    "with open(output_file, 'w', encoding='utf-8') as file:\n",
    "    for rus_word, eng_words in sorted_rus_eng_dict.items():\n",
    "        file.write(f\"{rus_word} – {', '.join(eng_words)}\\n\")\n",
    "\n",
    "print(\"Русско-английский словарь успешно создан и сохранен в output.txt.\")"
   ]
  },
  {
   "cell_type": "markdown",
   "metadata": {},
   "source": [
    "**2.**\tИгра «Знаешь ли ты своих друзей?». Имеется каталог с файлами, содержащими анкетные данные друзей. Все файлы имеют одинаковый формат. \n",
    "\n",
    "#### Имя\n",
    "*Иван*\n",
    "#### Фамилия\n",
    "*Иванов*  \n",
    "#### Возраст  \n",
    "*24* \n",
    "#### Любимая еда  \n",
    "*Пицца*  \n",
    "#### Музыкальная группа  \n",
    "*Nirvana*  \n",
    "#### Заветная мечта  \n",
    "*Прыгнуть с парашютом*\n",
    "\n",
    "\n",
    "Сохранить все данные в словарь (ключи – имена и фамилии пользователей, значения – все остальное).   \n",
    "Затем программа случайным образом загадывает любую категорию (кроме имени и фамилии), выводит ее значение и предлагает угадать, что это был за друг. Если игрок не угадывает – предлагается другая категория. Если игрок не угадал по всем категориям, программа выдает правильный ответ.\n",
    "После угадывания или неугадывания одного друга программа предлагает загадать другого друга или завершить выполнение."
   ]
  },
  {
   "cell_type": "code",
   "execution_count": null,
   "metadata": {},
   "outputs": [],
   "source": []
  },
  {
   "cell_type": "markdown",
   "metadata": {},
   "source": [
    "**3.**\tСоздайте словарь, где ключами являются числа, а значениями – строки. Примените к нему метод items(), полученный объект dict_items передайте в написанную вами функцию, которая создает и возвращает новый словарь, обратный исходному, т.е. ключами являются строки, а значениями – числа (если соответствует только одно значение) или списки чисел (если несколько)."
   ]
  },
  {
   "cell_type": "code",
   "execution_count": 2,
   "metadata": {},
   "outputs": [
    {
     "name": "stdout",
     "output_type": "stream",
     "text": [
      "{'яблоко': [1, 3], 'банан': [2, 5], 'апельсин': 4}\n"
     ]
    }
   ],
   "source": [
    "original_dict = {\n",
    "    1: \"яблоко\",\n",
    "    2: \"банан\",\n",
    "    3: \"яблоко\",\n",
    "    4: \"апельсин\",\n",
    "    5: \"банан\"\n",
    "}\n",
    "\n",
    "def reverse_dict_items(dict_items):\n",
    "    reversed_dict = {}\n",
    "\n",
    "    for key, value in dict_items:\n",
    "        if value in reversed_dict:\n",
    "            # Если значение уже есть в новом словаре, добавляем ключ в список\n",
    "            if isinstance(reversed_dict[value], list):\n",
    "                reversed_dict[value].append(key)\n",
    "            else:\n",
    "                reversed_dict[value] = [reversed_dict[value], key]\n",
    "        else:\n",
    "            # Если значения еще нет, добавляем его\n",
    "            reversed_dict[value] = key\n",
    "\n",
    "    return reversed_dict\n",
    "\n",
    "# Получаем dict_items из оригинального словаря\n",
    "dict_items = original_dict.items()\n",
    "\n",
    "# Создаем обратный словарь\n",
    "reversed_dictionary = reverse_dict_items(dict_items)\n",
    "\n",
    "# Выводим результат\n",
    "print(reversed_dictionary)"
   ]
  },
  {
   "cell_type": "markdown",
   "metadata": {},
   "source": [
    "**4.**\tИмеется каталог X, содержащий файлы и другие каталоги. Создать копию структуры каталогов, где каждый файл *.txt обрабатывается следующим образом: первой строкой вставляется число строк в исходном файле, а последней строкой – уровень вложенности в каталог X. Остальные файлы пропускаются. Сам каталог X и его содержимое изменяться не должны."
   ]
  },
  {
   "cell_type": "code",
   "execution_count": null,
   "metadata": {},
   "outputs": [],
   "source": []
  },
  {
   "cell_type": "markdown",
   "metadata": {},
   "source": [
    "**5.** Напишите программу, которая для заданного каталога создает подкаталоги, соответствующие дате создания каждого отдельного файла, и перемещает каждый файл в соответствующий дате каталог."
   ]
  },
  {
   "cell_type": "code",
   "execution_count": null,
   "metadata": {},
   "outputs": [],
   "source": []
  },
  {
   "cell_type": "markdown",
   "metadata": {},
   "source": [
    "**6.**\tИз файлов *shop1.txt* и *shop2.txt* считываются прайс-листы (наименование товара – цена). Необходимо объединить два прайс-листа так, чтобы если наименование товара присутствует в обоих листах, то в итоговый прайс-лист помещается большая цена. Результат записать в файл *shop_max.txt*."
   ]
  },
  {
   "cell_type": "code",
   "execution_count": null,
   "metadata": {},
   "outputs": [],
   "source": []
  },
  {
   "cell_type": "markdown",
   "metadata": {},
   "source": [
    "**7.** Создайте файл *input.txt*, содержащий данные о странах экспортерах (не менее 10): название страны, название экспортируемого товара и объем экспортируемого товара (в тоннах). Напишите программу, позволяющую обрабатывать следующие запросы пользователя:\n",
    "- добавить данные в файл;\n",
    "\n",
    "- вывести всю информацию, содержащуюся в файле;\n",
    "\n",
    "- вывести список товаров, экспортируемых введенной пользователем страной;\n",
    "\n",
    "- вывести список стран, экспортирующих заданный товар.\n",
    "\n",
    "Если добавляется информация о уже имеющихся в базе стране и товаре, новое значение тонн должно прибавлять к уже имеющемуся количеству."
   ]
  },
  {
   "cell_type": "code",
   "execution_count": null,
   "metadata": {},
   "outputs": [],
   "source": []
  }
 ],
 "metadata": {
  "kernelspec": {
   "display_name": "Python 3 (ipykernel)",
   "language": "python",
   "name": "python3"
  },
  "language_info": {
   "codemirror_mode": {
    "name": "ipython",
    "version": 3
   },
   "file_extension": ".py",
   "mimetype": "text/x-python",
   "name": "python",
   "nbconvert_exporter": "python",
   "pygments_lexer": "ipython3",
   "version": "3.12.4"
  }
 },
 "nbformat": 4,
 "nbformat_minor": 4
}
