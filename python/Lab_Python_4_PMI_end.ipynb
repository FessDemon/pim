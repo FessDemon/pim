{
 "cells": [
  {
   "cell_type": "markdown",
   "metadata": {},
   "source": [
    "                                                    Бояринцев Дмитрий Федорович"
   ]
  },
  {
   "cell_type": "markdown",
   "metadata": {},
   "source": [
    "# Лабораторная работа № 4"
   ]
  },
  {
   "cell_type": "code",
   "execution_count": 2,
   "metadata": {},
   "outputs": [],
   "source": [
    "import os\n",
    "import re"
   ]
  },
  {
   "cell_type": "markdown",
   "metadata": {},
   "source": [
    "### Словари, файлы в Python"
   ]
  },
  {
   "cell_type": "markdown",
   "metadata": {},
   "source": [
    "**1.**\tВ файле input.txt хранится англо-русский словарь. Создать русско-английский словарь и сохранить его в отсортированном виде в файле output.txt.   \n",
    "  \n",
    "**input.txt**\n",
    "\n",
    "*apple – лесть, яблоко  \n",
    "soap – лесть, мыло  \n",
    "foam – мыло, пена*\n",
    "  \n",
    "**output.txt** \n",
    "\n",
    "*лесть – apple, soap  \n",
    "мыло – foam, soap  \n",
    "пена – foam  \n",
    "яблоко – apple*  \n"
   ]
  },
  {
   "cell_type": "code",
   "execution_count": 3,
   "metadata": {},
   "outputs": [
    {
     "name": "stdout",
     "output_type": "stream",
     "text": [
      "Введите имя каталога, содержащего файл input.txt:\n",
      "Такого каталога не существует. Введите корректно полное имя каталога: \n",
      "Файла input.txt  в указанном каталоге не существует. Введите корректно полное имя входного файла: \n"
     ]
    },
    {
     "ename": "IsADirectoryError",
     "evalue": "[Errno 21] Is a directory: 'task_4_1'",
     "output_type": "error",
     "traceback": [
      "\u001b[0;31m---------------------------------------------------------------------------\u001b[0m",
      "\u001b[0;31mIsADirectoryError\u001b[0m                         Traceback (most recent call last)",
      "Cell \u001b[0;32mIn[3], line 31\u001b[0m\n\u001b[1;32m     28\u001b[0m     \u001b[38;5;28mprint\u001b[39m(\u001b[38;5;124m\"\u001b[39m\u001b[38;5;124mФайл словаря пуст\u001b[39m\u001b[38;5;124m\"\u001b[39m)\n\u001b[1;32m     29\u001b[0m \u001b[38;5;28;01melse\u001b[39;00m:\n\u001b[1;32m     30\u001b[0m     \u001b[38;5;66;03m# Открываем файл для чтения\u001b[39;00m\n\u001b[0;32m---> 31\u001b[0m     \u001b[38;5;28;01mwith\u001b[39;00m \u001b[38;5;28;43mopen\u001b[39;49m\u001b[43m(\u001b[49m\u001b[43minput_file\u001b[49m\u001b[43m,\u001b[49m\u001b[43m \u001b[49m\u001b[38;5;124;43m\"\u001b[39;49m\u001b[38;5;124;43mr\u001b[39;49m\u001b[38;5;124;43m\"\u001b[39;49m\u001b[43m,\u001b[49m\u001b[43m \u001b[49m\u001b[43mencoding\u001b[49m\u001b[38;5;241;43m=\u001b[39;49m\u001b[38;5;124;43m\"\u001b[39;49m\u001b[38;5;124;43mutf-8\u001b[39;49m\u001b[38;5;124;43m\"\u001b[39;49m\u001b[43m)\u001b[49m \u001b[38;5;28;01mas\u001b[39;00m file:\n\u001b[1;32m     32\u001b[0m         \u001b[38;5;28;01mfor\u001b[39;00m line \u001b[38;5;129;01min\u001b[39;00m file:\n\u001b[1;32m     33\u001b[0m             \u001b[38;5;66;03m# Убираем лишние символы и пробелы с краев строки\u001b[39;00m\n\u001b[1;32m     34\u001b[0m             clean_line \u001b[38;5;241m=\u001b[39m re\u001b[38;5;241m.\u001b[39msub(\u001b[38;5;124mr\u001b[39m\u001b[38;5;124m\"\u001b[39m\u001b[38;5;124m[^\u001b[39m\u001b[38;5;124m\\\u001b[39m\u001b[38;5;124mw\u001b[39m\u001b[38;5;124m\\\u001b[39m\u001b[38;5;124ms–,]\u001b[39m\u001b[38;5;124m\"\u001b[39m, \u001b[38;5;124m\"\u001b[39m\u001b[38;5;124m\"\u001b[39m, line)\u001b[38;5;241m.\u001b[39mstrip()\n",
      "File \u001b[0;32m~/.local/lib/python3.12/site-packages/IPython/core/interactiveshell.py:324\u001b[0m, in \u001b[0;36m_modified_open\u001b[0;34m(file, *args, **kwargs)\u001b[0m\n\u001b[1;32m    317\u001b[0m \u001b[38;5;28;01mif\u001b[39;00m file \u001b[38;5;129;01min\u001b[39;00m {\u001b[38;5;241m0\u001b[39m, \u001b[38;5;241m1\u001b[39m, \u001b[38;5;241m2\u001b[39m}:\n\u001b[1;32m    318\u001b[0m     \u001b[38;5;28;01mraise\u001b[39;00m \u001b[38;5;167;01mValueError\u001b[39;00m(\n\u001b[1;32m    319\u001b[0m         \u001b[38;5;124mf\u001b[39m\u001b[38;5;124m\"\u001b[39m\u001b[38;5;124mIPython won\u001b[39m\u001b[38;5;124m'\u001b[39m\u001b[38;5;124mt let you open fd=\u001b[39m\u001b[38;5;132;01m{\u001b[39;00mfile\u001b[38;5;132;01m}\u001b[39;00m\u001b[38;5;124m by default \u001b[39m\u001b[38;5;124m\"\u001b[39m\n\u001b[1;32m    320\u001b[0m         \u001b[38;5;124m\"\u001b[39m\u001b[38;5;124mas it is likely to crash IPython. If you know what you are doing, \u001b[39m\u001b[38;5;124m\"\u001b[39m\n\u001b[1;32m    321\u001b[0m         \u001b[38;5;124m\"\u001b[39m\u001b[38;5;124myou can use builtins\u001b[39m\u001b[38;5;124m'\u001b[39m\u001b[38;5;124m open.\u001b[39m\u001b[38;5;124m\"\u001b[39m\n\u001b[1;32m    322\u001b[0m     )\n\u001b[0;32m--> 324\u001b[0m \u001b[38;5;28;01mreturn\u001b[39;00m \u001b[43mio_open\u001b[49m\u001b[43m(\u001b[49m\u001b[43mfile\u001b[49m\u001b[43m,\u001b[49m\u001b[43m \u001b[49m\u001b[38;5;241;43m*\u001b[39;49m\u001b[43margs\u001b[49m\u001b[43m,\u001b[49m\u001b[43m \u001b[49m\u001b[38;5;241;43m*\u001b[39;49m\u001b[38;5;241;43m*\u001b[39;49m\u001b[43mkwargs\u001b[49m\u001b[43m)\u001b[49m\n",
      "\u001b[0;31mIsADirectoryError\u001b[0m: [Errno 21] Is a directory: 'task_4_1'"
     ]
    }
   ],
   "source": [
    "# ready\n",
    "# Инициализация рабочего каталога\n",
    "print(\"Введите имя каталога, содержащего файл input.txt:\")\n",
    "name_dir = input()\n",
    "# name_dir = 'task_4_1'\n",
    "\n",
    "# Проверка корректности рабочего каталога\n",
    "if not (os.path.exists(name_dir)):\n",
    "    print(\"Такого каталога не существует. Введите корректно полное имя каталога: \")\n",
    "    name_dir = input()\n",
    "\n",
    "# Инициализация файлов\n",
    "input_file = name_dir + \"/input.txt\"\n",
    "output_file = name_dir + \"/output.txt\"\n",
    "\n",
    "# Проверка входного файла\n",
    "while not (os.path.exists(input_file)):\n",
    "    print(\n",
    "        \"Файла input.txt  в указанном каталоге не существует. Введите корректно полное имя входного файла: \"\n",
    "    )\n",
    "    input_file = input()\n",
    "\n",
    "# Словарь для хранения русско-английских переводов\n",
    "rus_eng_dict = {}\n",
    "\n",
    "# Чтение англо-русского словаря из файла\n",
    "if os.stat(input_file).st_size == 0:\n",
    "    print(\"Файл словаря пуст\")\n",
    "else:\n",
    "    # Открываем файл для чтения\n",
    "    with open(input_file, \"r\", encoding=\"utf-8\") as file:\n",
    "        for line in file:\n",
    "            # Убираем лишние символы и пробелы с краев строки\n",
    "            clean_line = re.sub(r\"[^\\w\\s–,]\", \"\", line).strip()\n",
    "\n",
    "            # Проверка, содержит ли строка цифры\n",
    "            if re.search(r\"\\d\", clean_line):\n",
    "                # Удаляем цифры из строки, оставляя только буквы\n",
    "                clean_line = re.sub(r\"\\d+\", \"\", clean_line).strip()\n",
    "\n",
    "            # Разделяем строку на английское слово и русские переводы\n",
    "            if \" – \" in clean_line:\n",
    "                eng_word, rus_words = clean_line.split(\" – \", 1)\n",
    "                # Очищаем список русских переводов от лишних пробелов и мусорных символов\n",
    "                rus_words_list = [\n",
    "                    re.sub(r\"[^\\w\\s]\", \"\", word.strip())\n",
    "                    for word in rus_words.split(\",\")\n",
    "                    if word.strip()\n",
    "                ]\n",
    "\n",
    "                # Заполняем русско-английский словарь\n",
    "                for rus_word in rus_words_list:\n",
    "                    if rus_word not in rus_eng_dict:\n",
    "                        rus_eng_dict[rus_word] = []\n",
    "                    rus_eng_dict[rus_word].append(eng_word)\n",
    "\n",
    "    # Сортируем словарь по ключам (русским словам)\n",
    "    sorted_rus_eng_dict = dict(sorted(rus_eng_dict.items()))\n",
    "\n",
    "    # Записываем результат в выходной файл\n",
    "    with open(output_file, \"w\", encoding=\"utf-8\") as file:\n",
    "        for rus_word, eng_words in sorted_rus_eng_dict.items():\n",
    "            file.write(f\"{rus_word} – {', '.join(eng_words)}\\n\")\n",
    "\n",
    "    print(\"Русско-английский словарь успешно создан и сохранен в output.txt.\")\n"
   ]
  },
  {
   "cell_type": "markdown",
   "metadata": {},
   "source": [
    "**2.**\tИгра «Знаешь ли ты своих друзей?». Имеется каталог с файлами, содержащими анкетные данные друзей. Все файлы имеют одинаковый формат. \n",
    "\n",
    "#### Имя\n",
    "*Иван*\n",
    "#### Фамилия\n",
    "*Иванов*  \n",
    "#### Возраст  \n",
    "*24* \n",
    "#### Любимая еда  \n",
    "*Пицца*  \n",
    "#### Музыкальная группа  \n",
    "*Nirvana*  \n",
    "#### Заветная мечта  \n",
    "*Прыгнуть с парашютом*\n",
    "\n",
    "\n",
    "Сохранить все данные в словарь (ключи – имена и фамилии пользователей, значения – все остальное).   \n",
    "Затем программа случайным образом загадывает любую категорию (кроме имени и фамилии), выводит ее значение и предлагает угадать, что это был за друг. Если игрок не угадывает – предлагается другая категория. Если игрок не угадал по всем категориям, программа выдает правильный ответ.\n",
    "После угадывания или неугадывания одного друга программа предлагает загадать другого друга или завершить выполнение."
   ]
  },
  {
   "cell_type": "code",
   "execution_count": null,
   "metadata": {},
   "outputs": [],
   "source": []
  },
  {
   "cell_type": "markdown",
   "metadata": {},
   "source": [
    "**3.**\tСоздайте словарь, где ключами являются числа, а значениями – строки. Примените к нему метод items(), полученный объект dict_items передайте в написанную вами функцию, которая создает и возвращает новый словарь, обратный исходному, т.е. ключами являются строки, а значениями – числа (если соответствует только одно значение) или списки чисел (если несколько)."
   ]
  },
  {
   "cell_type": "code",
   "execution_count": 2,
   "metadata": {},
   "outputs": [
    {
     "name": "stdout",
     "output_type": "stream",
     "text": [
      "{'яблоко': [1, 3], 'банан': [2, 5], 'апельсин': 4}\n"
     ]
    }
   ],
   "source": [
    "# ready\n",
    "original_dict = {\n",
    "    1: \"яблоко\",\n",
    "    2: \"банан\",\n",
    "    3: \"яблоко\",\n",
    "    4: \"апельсин\",\n",
    "    5: \"банан\"\n",
    "}\n",
    "\n",
    "def reverse_dict_items(dict_items):\n",
    "    reversed_dict = {}\n",
    "\n",
    "    for key, value in dict_items:\n",
    "        if value in reversed_dict:\n",
    "            # Если значение уже есть в новом словаре, добавляем ключ в список\n",
    "            if isinstance(reversed_dict[value], list):\n",
    "                reversed_dict[value].append(key)\n",
    "            else:\n",
    "                reversed_dict[value] = [reversed_dict[value], key]\n",
    "        else:\n",
    "            # Если значения еще нет, добавляем его\n",
    "            reversed_dict[value] = key\n",
    "\n",
    "    return reversed_dict\n",
    "\n",
    "# Получаем dict_items из оригинального словаря\n",
    "dict_items = original_dict.items()\n",
    "\n",
    "# Создаем обратный словарь\n",
    "reversed_dictionary = reverse_dict_items(dict_items)\n",
    "\n",
    "# Выводим результат\n",
    "print(reversed_dictionary)"
   ]
  },
  {
   "cell_type": "markdown",
   "metadata": {},
   "source": [
    "**4.**\tИмеется каталог X, содержащий файлы и другие каталоги. Создать копию структуры каталогов, где каждый файл *.txt обрабатывается следующим образом: первой строкой вставляется число строк в исходном файле, а последней строкой – уровень вложенности в каталог X. Остальные файлы пропускаются. Сам каталог X и его содержимое изменяться не должны."
   ]
  },
  {
   "cell_type": "code",
   "execution_count": 8,
   "metadata": {},
   "outputs": [],
   "source": [
    "# ready\n",
    "import os\n",
    "\n",
    "def process_txt_file(src_file, dest_file, depth):\n",
    "    with open(src_file, 'r', encoding='utf-8') as f:\n",
    "        lines = f.readlines()\n",
    "    \n",
    "    line_count = len(lines)\n",
    "    \n",
    "    with open(dest_file, 'w', encoding='utf-8') as f:\n",
    "        f.write(f\"{line_count}\\n\")  # Первая строка - количество строк\n",
    "        f.writelines(lines)         # Записываем оригинальные строки\n",
    "        f.write(f\"{depth}\\n\")       # Последняя строка - уровень вложенности\n",
    "\n",
    "\n",
    "def copy_structure_with_processing(src_dir, dest_dir, depth=0):\n",
    "    if not os.path.exists(dest_dir):\n",
    "        os.makedirs(dest_dir)  # Создаем каталог назначения если он не существует\n",
    "    \n",
    "    for item in os.listdir(src_dir):\n",
    "        src_path = os.path.join(src_dir, item)\n",
    "        dest_path = os.path.join(dest_dir, item)\n",
    "\n",
    "        if os.path.isdir(src_path):\n",
    "            copy_structure_with_processing(src_path, dest_path, depth + 1)  # Рекурсивный вызов для подкаталогов\n",
    "        elif item.endswith('.txt'):\n",
    "            process_txt_file(src_path, dest_path, depth)  # Обработка .txt файлов\n",
    "\n",
    "\n",
    "source_directory = 'task_4_4/start'\n",
    "destination_directory = 'task_4_4/finish'\n",
    "copy_structure_with_processing(source_directory, destination_directory)\n"
   ]
  },
  {
   "cell_type": "markdown",
   "metadata": {},
   "source": [
    "**5.** Напишите программу, которая для заданного каталога создает подкаталоги, соответствующие дате создания каждого отдельного файла, и перемещает каждый файл в соответствующий дате каталог."
   ]
  },
  {
   "cell_type": "code",
   "execution_count": null,
   "metadata": {},
   "outputs": [],
   "source": []
  },
  {
   "cell_type": "markdown",
   "metadata": {},
   "source": [
    "**6.**\tИз файлов *shop1.txt* и *shop2.txt* считываются прайс-листы (наименование товара – цена). Необходимо объединить два прайс-листа так, чтобы если наименование товара присутствует в обоих листах, то в итоговый прайс-лист помещается большая цена. Результат записать в файл *shop_max.txt*."
   ]
  },
  {
   "cell_type": "code",
   "execution_count": 6,
   "metadata": {},
   "outputs": [
    {
     "name": "stdout",
     "output_type": "stream",
     "text": [
      "Файл  task_4_6/shop_max.txt  успешно записан.\n"
     ]
    }
   ],
   "source": [
    "# ready\n",
    "# Инициализация рабочего каталога\n",
    "print(\"Введите имя каталога, содержащего файл input.txt:\")\n",
    "name_dir = input()\n",
    "\n",
    "# Проверка корректности рабочего каталога\n",
    "if not (os.path.exists(name_dir)):\n",
    "    print(\"Такого каталога не существует. Введите корректно полное имя каталога: \")\n",
    "    name_dir = input()\n",
    "\n",
    "input_file_1 = name_dir + \"/shop1.txt\"\n",
    "input_file_2 = name_dir + \"/shop2.txt\"\n",
    "output_file = name_dir + \"/shop_max.txt\"\n",
    "\n",
    "# Проверка входного файла shop1.txt\n",
    "while not (os.path.exists(input_file_1)):\n",
    "    print(\n",
    "        \"Файла shop1.txt  в указанном каталоге не существует. Введите корректно полное имя входного файла: \"\n",
    "    )\n",
    "    input_file_1 = input()\n",
    "\n",
    "# Проверка входного файла shop2.txt\n",
    "while not (os.path.exists(input_file_2)):\n",
    "    print(\n",
    "        \"Файла shop2.txt  в указанном каталоге не существует. Введите корректно полное имя входного файла: \"\n",
    "    )\n",
    "    input_file_2 = input()\n",
    "\n",
    "# Словарь для хранения прайс-листов\n",
    "prices_dict = {}\n",
    "\n",
    "\n",
    "# Функция для очистки строки от мусора\n",
    "def clean_line(line):\n",
    "    # Регулярное выражение ищет строку формата \"название товара - цена\", где цена — это число\n",
    "    match = re.match(r\"(.+?)\\s*-\\s*(\\d+)\", line)\n",
    "    if match:\n",
    "        name = match.group(1).strip()  # Убираем лишние пробелы вокруг названия\n",
    "        price = match.group(2)  # Получаем цену\n",
    "        return name, price\n",
    "    return None\n",
    "\n",
    "\n",
    "# Открываем 1-ый файл для чтения\n",
    "with open(input_file_1, \"r\", encoding=\"utf-8\") as file:\n",
    "    for line in file:\n",
    "        result = clean_line(line.rstrip())  # Очищаем строку\n",
    "        if result:\n",
    "            name, price = result\n",
    "            prices_dict[name] = price\n",
    "\n",
    "\n",
    "# Открываем 2-ый файл для чтения\n",
    "with open(input_file_2, \"r\", encoding=\"utf-8\") as file:\n",
    "    for line in file:\n",
    "        result = clean_line(line.rstrip())\n",
    "        if result:\n",
    "            name, price = result\n",
    "            if name not in prices_dict:\n",
    "                prices_dict[name] = price\n",
    "            else:\n",
    "                prices_dict[name] = max(prices_dict[name], price)\n",
    "\n",
    "\n",
    "def write_to_file(filename, data):\n",
    "    \"\"\"Записывает данные в файл.\"\"\"\n",
    "    with open(filename, \"w\", encoding=\"utf-8\") as file:\n",
    "        for name, price in sorted(data.items()):\n",
    "            file.write(f\"{name} – {price}\\n\")\n",
    "    print(f\"Файл {filename} успешно записан.\")\n",
    "\n",
    "\n",
    "# Проверка существования файла\n",
    "if os.path.exists(output_file):\n",
    "    print(\n",
    "        f\"Файл {output_file} в указанном каталоге уже существует. Введите OK, если хотите переписать имеющийся файл, или введите любое другое значение для отмены: \"\n",
    "    )\n",
    "    is_read = input()\n",
    "    if is_read != \"OK\":\n",
    "        print(\"Перезапись файла отменена.\")\n",
    "    else:\n",
    "        # Перезапись файла\n",
    "        write_to_file(output_file, prices_dict)\n",
    "else:\n",
    "    # Если файла нет, то записываем данные в новый файл\n",
    "    write_to_file(output_file, prices_dict)"
   ]
  },
  {
   "cell_type": "markdown",
   "metadata": {},
   "source": [
    "**7.** Создайте файл *input.txt*, содержащий данные о странах экспортерах (не менее 10): название страны, название экспортируемого товара и объем экспортируемого товара (в тоннах). Напишите программу, позволяющую обрабатывать следующие запросы пользователя:\n",
    "- добавить данные в файл;\n",
    "\n",
    "- вывести всю информацию, содержащуюся в файле;\n",
    "\n",
    "- вывести список товаров, экспортируемых введенной пользователем страной;\n",
    "\n",
    "- вывести список стран, экспортирующих заданный товар.\n",
    "\n",
    "Если добавляется информация о уже имеющихся в базе стране и товаре, новое значение тонн должно прибавлять к уже имеющемуся количеству."
   ]
  },
  {
   "cell_type": "code",
   "execution_count": null,
   "metadata": {},
   "outputs": [],
   "source": []
  }
 ],
 "metadata": {
  "kernelspec": {
   "display_name": "Python 3",
   "language": "python",
   "name": "python3"
  },
  "language_info": {
   "codemirror_mode": {
    "name": "ipython",
    "version": 3
   },
   "file_extension": ".py",
   "mimetype": "text/x-python",
   "name": "python",
   "nbconvert_exporter": "python",
   "pygments_lexer": "ipython3",
   "version": "3.12.6"
  }
 },
 "nbformat": 4,
 "nbformat_minor": 4
}
