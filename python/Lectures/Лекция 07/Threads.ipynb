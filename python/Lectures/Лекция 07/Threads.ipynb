{
 "cells": [
  {
   "cell_type": "markdown",
   "metadata": {},
   "source": [
    "# Потоки"
   ]
  },
  {
   "cell_type": "markdown",
   "metadata": {},
   "source": [
    "#### Что такое Thread (Поток)?\n",
    "Thread – это отдельный поток выполнения. Это означает, что в вашей программе могут работать две и более подпрограммы одновременно. "
   ]
  },
  {
   "cell_type": "markdown",
   "metadata": {},
   "source": [
    "Для создания потоков мы будем использовать стандартный модуль threading."
   ]
  },
  {
   "cell_type": "code",
   "execution_count": null,
   "metadata": {
    "tags": []
   },
   "outputs": [],
   "source": [
    "import threading"
   ]
  },
  {
   "cell_type": "markdown",
   "metadata": {},
   "source": [
    "#### Пример многопоточной программы\n",
    "Пусть два потока параллельно выводят каждый в свой файл заданное число строк. Для начала нам понадобится функция, которая выполнит задуманный нами сценарий. Аргументами целевой функции будут число строк и имя текстового файла для записи."
   ]
  },
  {
   "cell_type": "code",
   "execution_count": 71,
   "metadata": {
    "tags": []
   },
   "outputs": [],
   "source": [
    "def prescript(thefile, num):\n",
    "    with open(thefile, 'w') as f:\n",
    "        for i in range(num):\n",
    "            if num > 500:\n",
    "                f.write('ABC\\n')\n",
    "            else:\n",
    "                f.write('abc\\n')\n",
    "thread1 = threading.Thread(target=prescript, args=('f1.txt', 200,))\n",
    "thread2 = threading.Thread(target=prescript, args=('f2.txt', 1000))\n",
    "thread1.start()\n",
    "thread2.start()\n",
    "thread1.join()\n",
    "thread2.join()"
   ]
  },
  {
   "cell_type": "markdown",
   "metadata": {},
   "source": [
    "Метод **start()** запускает ранее созданный поток. Метод **join()** останавливает поток, когда тот выполнит свои задачи и освобождает ресурсы."
   ]
  },
  {
   "cell_type": "markdown",
   "metadata": {},
   "source": [
    "##### Thread(group, target, name, args, kwargs)\n",
    "Здесь **group** - группа потоков (пока не используется, должен быть равен *None*), **target** - объект, который будет вызван в методе **run()**, **name** - имя потока, **args** и **kwargs** - последовательность и словарь позиционных и именованных параметров (соответственно) для вызова заданного в параметре **target** объекта. "
   ]
  },
  {
   "cell_type": "markdown",
   "metadata": {},
   "source": [
    "#### Стандартные методы работы с потоками\n",
    "- current_thread()  — смотрим, какой поток вызвал функцию;\n",
    "- active_count() — считаем работающие в данный момент экземпляры класса Thread;\n",
    "- enumerate()   — получаем список работающих потоков.\n",
    "\n",
    "Ещё можно управлять потоком через методы класса:\n",
    "- is_alive()  —  спрашиваем поток: «Жив ещё?»  — получаем true или false;\n",
    "- getName()  — узнаём имя потока;\n",
    "- setName(any_name)  — даём потоку имя;"
   ]
  },
  {
   "cell_type": "markdown",
   "metadata": {},
   "source": [
    "У каждого потока, пока он работает, есть уникальный идентификационный номер, который хранится в переменной **ident**."
   ]
  },
  {
   "cell_type": "code",
   "execution_count": 75,
   "metadata": {
    "tags": []
   },
   "outputs": [
    {
     "name": "stdout",
     "output_type": "stream",
     "text": [
      "23216\n"
     ]
    }
   ],
   "source": [
    "print(thread1.ident)"
   ]
  },
  {
   "cell_type": "markdown",
   "metadata": {},
   "source": [
    "##### Timer\n",
    "Отсрочить операции в вызываемых потоком функциях можно с помощью таймера. В инициализаторе объектов класса **Timer** всего два аргумента — время ожидания в секундах и функция, которую нужно в итоге выполнить:"
   ]
  },
  {
   "cell_type": "code",
   "execution_count": 76,
   "metadata": {
    "tags": []
   },
   "outputs": [
    {
     "name": "stdout",
     "output_type": "stream",
     "text": [
      "Waiting...\n",
      "The timer has done its job!\n"
     ]
    }
   ],
   "source": [
    "import threading\n",
    "print (\"Waiting...\")\n",
    "def timer_test():\n",
    "    print (\"The timer has done its job!\")\n",
    "tim = threading.Timer(5.0, timer_test)\n",
    "tim.start()"
   ]
  },
  {
   "cell_type": "markdown",
   "metadata": {},
   "source": [
    "#### Простая блокировка в Python\n",
    "Взаимоисключение (mutual exception, кратко - mutex) - простейшая блокировка, которая на время работы потока с ресурсом закрывает последний от других обращений. Реализуют это с помощью класса **Lock**."
   ]
  },
  {
   "cell_type": "code",
   "execution_count": 77,
   "metadata": {
    "tags": []
   },
   "outputs": [],
   "source": [
    "import threading\n",
    "mutex = threading.Lock()"
   ]
  },
  {
   "cell_type": "markdown",
   "metadata": {},
   "source": [
    "Мы создали блокировку с именем mutex. Теперь её можно ставить и снимать методами **acquire()** и **release()**:"
   ]
  },
  {
   "cell_type": "code",
   "execution_count": null,
   "metadata": {
    "tags": []
   },
   "outputs": [],
   "source": [
    "resource = 0\n",
    "\n",
    "def thread_safe_function():\n",
    "    global resource\n",
    "    for i in range(1000000):\n",
    "        mutex.acquire()\n",
    "        # Делаем что-то с переменной resource\n",
    "        mutex.release()"
   ]
  },
  {
   "cell_type": "markdown",
   "metadata": {},
   "source": [
    "Обратите внимание: обойти простую блокировку не может даже поток, который её активировал. Он будет заблокирован, если попытается повторно захватить ресурс, который удерживает."
   ]
  },
  {
   "cell_type": "code",
   "execution_count": 78,
   "metadata": {
    "tags": []
   },
   "outputs": [
    {
     "name": "stdout",
     "output_type": "stream",
     "text": [
      "counter=10\n",
      "counter=20\n"
     ]
    }
   ],
   "source": [
    "from threading import Thread\n",
    "from time import sleep\n",
    "counter = 0\n",
    "\n",
    "def increase(by):\n",
    "    global counter\n",
    "    local_counter = counter\n",
    "    local_counter += by\n",
    "    sleep(0.1)\n",
    "    counter = local_counter\n",
    "    print(f'{counter=}')\n",
    "\n",
    "t1 = Thread(target=increase, args=(10,))\n",
    "t2 = Thread(target=increase, args=(20,))\n",
    "t1.start()\n",
    "t2.start()\n",
    "t1.join()\n",
    "t2.join()"
   ]
  },
  {
   "cell_type": "code",
   "execution_count": 79,
   "metadata": {
    "tags": []
   },
   "outputs": [
    {
     "name": "stdout",
     "output_type": "stream",
     "text": [
      "counter=10\n",
      "counter=30\n"
     ]
    }
   ],
   "source": [
    "from threading import Thread, Lock\n",
    "from time import sleep\n",
    "counter = 0\n",
    "\n",
    "def increase(by, lock: Lock):\n",
    "    global counter\n",
    "    lock.acquire()\n",
    "    local_counter = counter\n",
    "    local_counter += by\n",
    "    sleep(0.1)\n",
    "    counter = local_counter\n",
    "    print(f'{counter=}')\n",
    "    lock.release()\n",
    "\n",
    "lock = Lock()\n",
    "t1 = Thread(target=increase, args=(10, lock,))\n",
    "t2 = Thread(target=increase, args=(20, lock,))\n",
    "t1.start()\n",
    "t2.start()\n",
    "t1.join()\n",
    "t2.join()"
   ]
  },
  {
   "cell_type": "markdown",
   "metadata": {},
   "source": [
    "#### С блокировками и без. Пример–сравнение\n",
    "Что происходит, когда два потока бьются за ресурсы, и как при этом сохранить целостность данных?\n",
    "\n",
    "Возьмём простейшие операции инкремента и декремента (увеличения и уменьшения числа). В роли общих ресурсов выступят глобальные числовые переменные: назовём их protected_resource и unprotected_resource. К каждой обратятся по два потока: один будет в цикле увеличивать значение с 0 до 500, другой — уменьшать до 0. Первую переменную обработаем с блокировками, а вторую — без."
   ]
  },
  {
   "cell_type": "code",
   "execution_count": 94,
   "metadata": {
    "tags": []
   },
   "outputs": [],
   "source": [
    "import threading\n",
    "from time import sleep\n",
    "\n",
    "protected_resource = 0\n",
    "unprotected_resource = 0\n",
    "time_to_sleep = 0.00000001\n",
    "\n",
    "NUM = 500\n",
    "mutex = threading.Lock()"
   ]
  },
  {
   "cell_type": "code",
   "execution_count": 81,
   "metadata": {
    "tags": []
   },
   "outputs": [],
   "source": [
    "# Потокобезопасный инкремент\n",
    "def safe_plus():\n",
    "    global protected_resource\n",
    "    for i in range(NUM):\n",
    "        # Ставим блокировку\n",
    "        mutex.acquire()\n",
    "        x = protected_resource\n",
    "        x += 1\n",
    "        sleep(time_to_sleep)\n",
    "        protected_resource = x\n",
    "        mutex.release()\n",
    "\n",
    "# Потокобезопасный декремент\n",
    "def safe_minus():\n",
    "    global protected_resource\n",
    "    for i in range(NUM):\n",
    "        mutex.acquire()\n",
    "        x = protected_resource\n",
    "        x -= 1\n",
    "        sleep(time_to_sleep)\n",
    "        protected_resource = x\n",
    "        mutex.release()\n",
    "\n",
    "# То же, но без блокировки\n",
    "def risky_plus():\n",
    "    global unprotected_resource\n",
    "    for i in range(NUM):\n",
    "        x = unprotected_resource\n",
    "        x += 1\n",
    "        sleep(time_to_sleep)\n",
    "        unprotected_resource = x\n",
    "\n",
    "def risky_minus():\n",
    "    global unprotected_resource\n",
    "    for i in range(NUM):\n",
    "        x = unprotected_resource\n",
    "        x -= 1\n",
    "        sleep(time_to_sleep)\n",
    "        unprotected_resource = x"
   ]
  },
  {
   "cell_type": "markdown",
   "metadata": {},
   "source": [
    "Создадим 4 потока, которые будут выполнять функции с блокировками и без:"
   ]
  },
  {
   "cell_type": "code",
   "execution_count": 98,
   "metadata": {
    "tags": []
   },
   "outputs": [
    {
     "name": "stdout",
     "output_type": "stream",
     "text": [
      "Результат при работе с блокировкой 0\n",
      "Результат без блокировки 8\n"
     ]
    }
   ],
   "source": [
    "thread1 = threading.Thread(target = safe_plus)\n",
    "thread2 = threading.Thread(target = safe_minus)\n",
    "thread3 = threading.Thread(target = risky_plus)\n",
    "thread4 = threading.Thread(target = risky_minus)\n",
    "thread1.start()\n",
    "thread2.start()\n",
    "thread3.start()\n",
    "thread4.start()\n",
    "thread1.join()\n",
    "thread2.join()\n",
    "thread3.join()\n",
    "thread4.join()\n",
    "print (\"Результат при работе с блокировкой %s\" % protected_resource)\n",
    "print (\"Результат без блокировки %s\" % unprotected_resource)"
   ]
  },
  {
   "cell_type": "markdown",
   "metadata": {},
   "source": [
    "Запускаем код несколько раз подряд и видим, что полученное без блокировки значение меняется случайным образом. При использовании блокировки всё работает последовательно: сначала значение растёт, затем — уменьшается, и в итоге получаем 0. А потоки thread3 и thread4 работают без блокировки и наперебой обращаются к глобальной переменной. Каждый выполняет столько операций своего цикла, сколько успевает за время активности. Поэтому при каждом запуске получаем случайные числа."
   ]
  },
  {
   "cell_type": "markdown",
   "metadata": {},
   "source": [
    "##### Как избежать взаимных блокировок?\n",
    "Следите, чтобы у нескольких блокировок не было шанса сработать одновременно. Иначе одна заглушка перекроет один поток, другая — другой, и может случиться взаимная блокировка — тупик (deadlock). Это ситуация, когда ни один поток не имеет права действовать и программа зависает или рушится.\n",
    "\n",
    "Если есть «захват» мьютекса, ничто не должно помешать последующему «высвобождению». Это значит, что release() должен срабатывать, как только блокировка становится не нужна.\n",
    "\n",
    "Пишите код так, чтобы блокировки снимались, даже если функция выбрасывает исключение и завершает работу нештатно. Подстраховаться можно с помощью конструкции try-except-finally:"
   ]
  },
  {
   "cell_type": "raw",
   "metadata": {},
   "source": [
    "try:\n",
    "    mutex.acquire()\n",
    "    # Ваш код...\n",
    "\n",
    "except SomethingGoesWrong:\n",
    "    # Обрабатываем исключения\n",
    "\n",
    "finally:\n",
    "    # Ещё код\n",
    "    mutex.release()"
   ]
  },
  {
   "cell_type": "markdown",
   "metadata": {},
   "source": [
    "## Deadlock - взаимный тупик"
   ]
  },
  {
   "cell_type": "code",
   "execution_count": null,
   "metadata": {
    "tags": []
   },
   "outputs": [
    {
     "name": "stdout",
     "output_type": "stream",
     "text": [
      "Функция a, a_lock = заблокирован\n",
      "Функция b, b_lock = заблокирован\n"
     ]
    }
   ],
   "source": [
    "from threading import Thread, Lock\n",
    "from time import sleep\n",
    "\n",
    "a = 5\n",
    "b = 10\n",
    "\n",
    "a_lock = Lock()\n",
    "b_lock = Lock()\n",
    "\n",
    "def function_a():\n",
    "    global a\n",
    "    global b\n",
    "\n",
    "    a_lock.acquire()\n",
    "    print('Функция a, a_lock = заблокирован')\n",
    "    sleep(1)\n",
    "    b_lock.acquire()\n",
    "    print('Функция a, b_lock = заблокирован')\n",
    "\n",
    "    sleep(1)\n",
    "\n",
    "    a_lock.release()\n",
    "    print('Функция a, a_lock = разблокирован')\n",
    "    b_lock.release()\n",
    "    print('Функция a, b_lock = разблокирован')\n",
    "\n",
    "\n",
    "def function_b():\n",
    "    global a\n",
    "    global b\n",
    "\n",
    "    b_lock.acquire()\n",
    "    print('Функция b, b_lock = заблокирован')\n",
    "    a_lock.acquire()\n",
    "    print('Функция b, a_lock = заблокирован')\n",
    "\n",
    "    sleep(1)\n",
    "\n",
    "    b_lock.release()\n",
    "    print('Функция b, b_lock = разблокирован')\n",
    "    a_lock.release()\n",
    "    print('Функция b, a_lock = разблокирован')\n",
    "\n",
    "\n",
    "t1 = Thread(target=function_a)\n",
    "t2 = Thread(target=function_b)\n",
    "\n",
    "t1.start()\n",
    "t2.start()\n",
    "\n",
    "t1.join()\n",
    "t2.join()\n",
    "\n",
    "print('Готово')"
   ]
  },
  {
   "cell_type": "code",
   "execution_count": 3,
   "metadata": {
    "tags": []
   },
   "outputs": [
    {
     "name": "stdout",
     "output_type": "stream",
     "text": [
      "now='18:38:23', payload=0\n",
      "now='18:38:23', payload=1\n",
      "now='18:38:25', payload=2\n",
      "now='18:38:25', payload=3\n",
      "now='18:38:27', payload=4\n",
      "now='18:38:27', payload=5\n",
      "now='18:38:29', payload=6\n"
     ]
    }
   ],
   "source": [
    "import datetime\n",
    "from threading import Semaphore, Thread\n",
    "from time import sleep\n",
    "\n",
    "s = Semaphore(2)\n",
    "\n",
    "def semaphore_func(payload: int):\n",
    "    s.acquire()\n",
    "    now = datetime.datetime.now().strftime('%H:%M:%S')\n",
    "    print(f'{now=}, {payload=}')\n",
    "    sleep(2)\n",
    "    s.release()\n",
    "\n",
    "\n",
    "threads = [Thread(target=semaphore_func, args=(i,)) for i in range(7)]\n",
    "\n",
    "for t in threads:\n",
    "    t.start()\n",
    "\n",
    "for t in threads:\n",
    "    t.join()"
   ]
  },
  {
   "cell_type": "code",
   "execution_count": null,
   "metadata": {},
   "outputs": [],
   "source": []
  }
 ],
 "metadata": {
  "kernelspec": {
   "display_name": "Python 3 (ipykernel)",
   "language": "python",
   "name": "python3"
  },
  "language_info": {
   "codemirror_mode": {
    "name": "ipython",
    "version": 3
   },
   "file_extension": ".py",
   "mimetype": "text/x-python",
   "name": "python",
   "nbconvert_exporter": "python",
   "pygments_lexer": "ipython3",
   "version": "3.11.5"
  }
 },
 "nbformat": 4,
 "nbformat_minor": 4
}
