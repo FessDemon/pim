{
 "cells": [
  {
   "cell_type": "markdown",
   "metadata": {},
   "source": [
    "                                                                Бояринцев Дмитрий Федорович"
   ]
  },
  {
   "cell_type": "markdown",
   "metadata": {},
   "source": [
    "#                                    Лабораторная работа №3"
   ]
  },
  {
   "cell_type": "markdown",
   "metadata": {},
   "source": [
    " *5"
   ]
  },
  {
   "cell_type": "markdown",
   "metadata": {},
   "source": [
    "###  Списки, кортежи, множества в Python"
   ]
  },
  {
   "cell_type": "markdown",
   "metadata": {
    "editable": true,
    "slideshow": {
     "slide_type": ""
    },
    "tags": []
   },
   "source": [
    "**1.**\tДан список подобных кортежей:\n",
    "\n",
    "_hotel_rooms = [(‘Ann’, 400), (‘Elizabeth’, 103), (‘Mr McMullen’, 202), (‘Mrs Smith\", 200)]_\n",
    "\n",
    "Вывести на экран последовательность сообщений вида: \n",
    "\n",
    "*Hello, Ann! Your room is 400.*\n",
    "\n",
    "Для тех, кто указан как мистер / миссис / мисс (Mr, Mrs, Ms, Miss), сообщение должно выглядеть так:\n",
    "\n",
    "*Good morning, Mr McMullen! Your room is 202.*"
   ]
  },
  {
   "cell_type": "code",
   "execution_count": 1,
   "metadata": {},
   "outputs": [
    {
     "name": "stdout",
     "output_type": "stream",
     "text": [
      "Hello, Ann! Your room is 400.\n",
      "Hello, Elizabeth! Your room is 103.\n",
      "Good morning, Mr McMullen! Your room is 202.\n",
      "Good morning, Mrs Smith! Your room is 200.\n",
      "Good morning, Miss Helen! Your room is 125.\n",
      "Good morning, Ms Holms! Your room is 222.\n"
     ]
    }
   ],
   "source": [
    "# ready\n",
    "hotel_rooms = [('Ann', 400), ('Elizabeth', 103), ('Mr McMullen', 202), ('Mrs Smith', 200), ('Miss Helen', 125), ('Ms Holms', 222)]\n",
    "\n",
    "# Перебираем каждый элемент в списке\n",
    "for name, room in hotel_rooms:\n",
    "    # Проверяем, содержит ли имя титул\n",
    "    if name.startswith('Mr ') or name.startswith('Mrs ') or name.startswith('Ms ') or name.startswith('Miss '):\n",
    "        print(f'Good morning, {name}! Your room is {room}.')\n",
    "    else:\n",
    "        print(f'Hello, {name}! Your room is {room}.')"
   ]
  },
  {
   "cell_type": "markdown",
   "metadata": {},
   "source": [
    "**2.** В списке чисел найти самую длинную последовательность подряд идущих элементов, которая упорядочена по убыванию. Если таких последовательностей несколько (с одинаковой максимальной длиной), то найти их все. Вывести на экран сам список, длину самой длинной упорядоченной по убыванию последовательности, саму последовательность (или несколько)."
   ]
  },
  {
   "cell_type": "code",
   "execution_count": 108,
   "metadata": {},
   "outputs": [
    {
     "name": "stdout",
     "output_type": "stream",
     "text": [
      "Список чисел: [6, 5]\n",
      "Длина самой длинной упорядоченной по убыванию последовательности: 2\n",
      "Самые длинные последовательности:\n",
      "[6, 5]\n"
     ]
    }
   ],
   "source": [
    "# ready\n",
    "def findLongestDecreasingSequences(numbers):\n",
    "    if not numbers:\n",
    "        return [], 0, []\n",
    "\n",
    "    longestSequences = []\n",
    "    maxLength = 0\n",
    "    currentSequence = []\n",
    "\n",
    "    for i in range(len(numbers)):\n",
    "        if i == 0 or numbers[i] < numbers[i - 1]:\n",
    "            currentSequence.append(numbers[i])\n",
    "        else:\n",
    "            if len(currentSequence) > maxLength:\n",
    "                maxLength = len(currentSequence)\n",
    "                longestSequences = [currentSequence]\n",
    "            elif len(currentSequence) == maxLength:\n",
    "                longestSequences.append(currentSequence)\n",
    "            currentSequence = [numbers[i]]\n",
    "\n",
    "    # Проверка последней последовательности\n",
    "    if len(currentSequence) > maxLength:\n",
    "        longestSequences = [currentSequence]\n",
    "        maxLength = len(currentSequence)\n",
    "    elif len(currentSequence) == maxLength:\n",
    "        longestSequences.append(currentSequence)\n",
    "\n",
    "    return longestSequences, maxLength\n",
    "\n",
    "\n",
    "numbers = [6, 5]\n",
    "\n",
    "if len(numbers) < 1:\n",
    "    print('Слишком короткая последовательность')\n",
    "else:\n",
    "    longestSequences, maxLength = findLongestDecreasingSequences(numbers)\n",
    "\n",
    "    # Вывод результатов\n",
    "    print(\"Список чисел:\", numbers)\n",
    "    print(\"Длина самой длинной упорядоченной по убыванию последовательности:\", maxLength)\n",
    "    print(\"Самые длинные последовательности:\")\n",
    "\n",
    "    for seq in longestSequences:\n",
    "        print(seq)\n",
    "\n",
    "#print(len(longestSequences))"
   ]
  },
  {
   "cell_type": "markdown",
   "metadata": {},
   "source": [
    "**3.**\tВ списке чисел проверить, все ли элементы являются уникальными, т. е. каждое число встречается только один раз. Решить минимум тремя способами."
   ]
  },
  {
   "cell_type": "code",
   "execution_count": 66,
   "metadata": {},
   "outputs": [
    {
     "name": "stdout",
     "output_type": "stream",
     "text": [
      "Все элементы уникальны\n"
     ]
    }
   ],
   "source": [
    "# ready\n",
    "# способ 1\n",
    "#a = [1, 2, 3, 4, 3, 4, 5, 6, 7, 8, 6, 9, 0]\n",
    "a = [1, 2, 3, 4, 5, 6, 7]\n",
    "f=True\n",
    "i=1\n",
    "while (i<len(a)-1)and f:\n",
    "    j = i+1\n",
    "    while (j<len(a))and f:\n",
    "        if a[i] == a[j]:\n",
    "            f=False\n",
    "        j += 1    \n",
    "    i += 1\n",
    "            \n",
    "if not f:\n",
    "    print(\"Есть одинаковые\")\n",
    "else:     \n",
    "    print(\"Все элементы уникальны\")"
   ]
  },
  {
   "cell_type": "code",
   "execution_count": 14,
   "metadata": {},
   "outputs": [
    {
     "name": "stdout",
     "output_type": "stream",
     "text": [
      "{0, 1, 2, 3, 4, 5, 6, 7, 8, 9}\n",
      "Есть одинаковые\n"
     ]
    }
   ],
   "source": [
    "# ready\n",
    "# способ 2\n",
    "set_a = set(a) #заносим все элементы списка в множество\n",
    "print(set_a)\n",
    "if len(a) == len(set_a):\n",
    "    print(\"Все элементы уникальны\")\n",
    "else:\n",
    "    print(\"Есть одинаковые\")"
   ]
  },
  {
   "cell_type": "code",
   "execution_count": 28,
   "metadata": {},
   "outputs": [
    {
     "name": "stdout",
     "output_type": "stream",
     "text": [
      "Есть одинаковые\n"
     ]
    }
   ],
   "source": [
    "# ready\n",
    "# способ 3\n",
    "for x in a:\n",
    "    if a.count(x) > 1:\n",
    "        print(\"Есть одинаковые\")\n",
    "        break\n",
    "else:\n",
    "    print(\"Все элементы уникальны\")"
   ]
  },
  {
   "cell_type": "markdown",
   "metadata": {},
   "source": [
    "**4.** Удалить из списка, состоящего из n чисел в диапазоне от 0 до A (A - случайное число от 1 до 100), все элементы, которые больше A / 6 и меньше 5 * A / 6. При этом удаляемые числа сохранить в другом списке."
   ]
  },
  {
   "cell_type": "code",
   "execution_count": 110,
   "metadata": {},
   "outputs": [
    {
     "name": "stdout",
     "output_type": "stream",
     "text": [
      "Случайное число A: 19\n"
     ]
    },
    {
     "name": "stdin",
     "output_type": "stream",
     "text": [
      "Введите длину списка: 4\n"
     ]
    },
    {
     "name": "stdout",
     "output_type": "stream",
     "text": [
      "Исходный список: [14, 4, 18, 14]\n",
      "Оставшиеся числа: [18]\n",
      "Удаленные числа: [14, 4, 14]\n"
     ]
    }
   ],
   "source": [
    "# ready\n",
    "import random\n",
    "\n",
    "# Генерируем случайное число A от 1 до 100\n",
    "A = random.randint(1, 100)\n",
    "print(f\"Случайное число A: {A}\")\n",
    "\n",
    "# Генерируем список n случайных чисел в диапазоне от 0 до A\n",
    "n = int(input('Введите длину списка:'))\n",
    "numbers = [random.randint(0, A) for i in range(n)]\n",
    "print(f\"Исходный список: {numbers}\")\n",
    "\n",
    "# Списки для хранения оставшихся и удаленных чисел\n",
    "remaining_numbers = []\n",
    "removed_numbers = []\n",
    "\n",
    "# Обрабатываем список\n",
    "for number in numbers:\n",
    "    if (A / 6) < number < (5 * A / 6):\n",
    "        removed_numbers.append(number)\n",
    "    else:\n",
    "        remaining_numbers.append(number)\n",
    "\n",
    "# Выводим результаты\n",
    "print(f\"Оставшиеся числа: {remaining_numbers}\")\n",
    "print(f\"Удаленные числа: {removed_numbers}\")\n"
   ]
  },
  {
   "cell_type": "markdown",
   "metadata": {},
   "source": [
    "**5.**\tНапишите программу, на вход которой подаётся список чисел одной строкой. Программа должна для каждого элемента этого списка вывести сумму двух его соседей. Для элементов списка, являющихся крайними, одним из соседей считается элемент, находящий на противоположном конце этого списка. Например, если на вход подаётся список 1 3 5 6 10, то на выход ожидается список 13 6 9 15 7. Если на вход пришло только одно число, надо вывести его же. Вывод должен содержать одну строку с числами нового списка, разделёнными пробелом."
   ]
  },
  {
   "cell_type": "code",
   "execution_count": 5,
   "metadata": {},
   "outputs": [
    {
     "name": "stdin",
     "output_type": "stream",
     "text": [
      "Введите список чисел:  8 9 6 4\n"
     ]
    },
    {
     "name": "stdout",
     "output_type": "stream",
     "text": [
      "[13, 14, 13, 14]\n"
     ]
    }
   ],
   "source": [
    "# ready\n",
    "\n",
    "numbers = list(map(int, input('Введите список чисел: ').split()))\n",
    "# list = [1]\n",
    "\n",
    "list1 = []\n",
    "\n",
    "if len(numbers) < 3:\n",
    "    print('Слишком короткий список')\n",
    "else:\n",
    "    list1.append(numbers[1] + numbers[len(numbers)-1])\n",
    "    for i in range(1, len(numbers)-1):\n",
    "                 list1.append(numbers[i-1] + numbers[i+1])\n",
    "    list1.append(numbers[0] + numbers[len(numbers)-2])\n",
    "    print(list1)"
   ]
  },
  {
   "cell_type": "markdown",
   "metadata": {},
   "source": [
    "**6.**\tВывести по алфавиту список слов, входящих в исходный текст. Знаки препинания исключаются, каждое слово выводится по одному разу."
   ]
  },
  {
   "cell_type": "code",
   "execution_count": 8,
   "metadata": {},
   "outputs": [
    {
     "name": "stdout",
     "output_type": "stream",
     "text": [
      "['привет', 'друг', 'это', 'тестовая', 'строка', 'строка', 'которую', 'это', 'преобразую', 'как', 'дела']\n",
      "['дела', 'друг', 'как', 'которую', 'преобразую', 'привет', 'строка', 'тестовая', 'это']\n"
     ]
    }
   ],
   "source": [
    "# ready\n",
    "import re\n",
    " \n",
    "# исходная строка\n",
    "string = \"Привет, друг! Это - тестовая строка строка, которую это преобразую. Как дела?\"\n",
    "string = string.lower()\n",
    "words = [] \n",
    "# удаляем знаки препинания\n",
    "string = re.sub(r'[^\\w\\s]', '', string)\n",
    "#print(string)\n",
    "\n",
    "string = string.split()\n",
    "print(string)\n",
    "\n",
    "#string.sort(key=None, reverse=False)\n",
    "\n",
    "print(sorted(set(string)))"
   ]
  },
  {
   "cell_type": "markdown",
   "metadata": {},
   "source": [
    "**7.**\tОтсортируйте элементы списка, расположенные между первым положительным и последним отрицательным элементами."
   ]
  },
  {
   "cell_type": "code",
   "execution_count": 118,
   "metadata": {},
   "outputs": [
    {
     "name": "stdout",
     "output_type": "stream",
     "text": [
      "[1, 2, 3, 6, 5, 1, 7, 8]\n",
      "переставлять нечего\n"
     ]
    }
   ],
   "source": [
    "# ready\n",
    "#import random\n",
    "\n",
    "#ar = [random.randint(-100, 10) for x in range(10)]\n",
    "ar = [1,2,3,6,5,1,7,8]\n",
    "#ar=[1,2,3,4,5,-1,-2,-3]\n",
    "# ar = [-1,-2,3,6,5,1,-7,8]\n",
    "# ar = []\n",
    "# ar = [-1,-1,-1,-1,-1]\n",
    "print(ar)\n",
    "ar1 = []\n",
    "\n",
    "f = True\n",
    "\n",
    "if len(ar) < 3:\n",
    "    print('Слишком короткий список, переставлять нечего')\n",
    "else:\n",
    "    i_p = 0\n",
    "    while ar[i_p] <= 0 and i_p < len(ar)-1:\n",
    "        i_p += 1\n",
    "    # print(i_p)\n",
    "    \n",
    "    i_o = len(ar)-1\n",
    "    while ar[i_o] >= 0 and i_o > 0:\n",
    "        i_o -= 1\n",
    "    # print(i_o)\n",
    "        \n",
    "    # print('первый положительный',i_p,' последний отрицательный', i_o)\n",
    "    \n",
    "    #print(abs(i_p - i_o))\n",
    "    \n",
    "    # если искомые элементы соседние, или в массиве только положительные\n",
    "    # или только отрицательные числа, то переставлять нечего, f=false\n",
    "    if  (i_p - i_o == 1) or (i_o == 0) or (i_p == len(ar)-1):\n",
    "        f = False\n",
    "        \n",
    "    # print(f)\n",
    "    \n",
    "    if not f:\n",
    "        print('переставлять нечего')\n",
    "    else:\n",
    "        if i_p < i_o:\n",
    "            ar1 = ar[:i_p+1]+sorted(ar[i_p+1:i_o])+ar[i_o:]\n",
    "        else:\n",
    "            if i_p > i_o:\n",
    "                ar1 = ar[:i_p]+sorted(ar[i_o+1:i_p-1]+ar[i_o:])\n",
    "        print(ar1)"
   ]
  },
  {
   "cell_type": "markdown",
   "metadata": {},
   "source": [
    "**8.** В исходном списке из n элементов встречаются по одному разу все целые числа от 0 до n, кроме одного. Найдите пропущенное число и выведите его на экран. Решить минимум двумя способами."
   ]
  },
  {
   "cell_type": "code",
   "execution_count": 23,
   "metadata": {},
   "outputs": [
    {
     "name": "stdout",
     "output_type": "stream",
     "text": [
      "Пропущенное число (метод суммы): 4\n"
     ]
    }
   ],
   "source": [
    "# способ 1\n",
    "def find_missing_number_sum(nums):\n",
    "    n = len(nums)\n",
    "    expected_sum = n * (n + 1) // 2\n",
    "    actual_sum = sum(nums)\n",
    "    missing_number = expected_sum - actual_sum\n",
    "    return missing_number\n",
    "\n",
    "nums = [0, 1, 2, 3, 5, 6, 7] \n",
    "missing_number = find_missing_number_sum(nums)\n",
    "print(f\"Пропущенное число (метод суммы): {missing_number}\")"
   ]
  },
  {
   "cell_type": "code",
   "execution_count": 27,
   "metadata": {},
   "outputs": [
    {
     "name": "stdout",
     "output_type": "stream",
     "text": [
      "Пропущенное число (метод множества): 4\n"
     ]
    }
   ],
   "source": [
    "# способ 2\n",
    "def find_missing_number_set(nums):\n",
    "    n = len(nums)\n",
    "    \n",
    "    # Создаем множество всех чисел от 0 до n\n",
    "    full_set = set(range(n + 1))\n",
    "    \n",
    "    # Удаляем элементы из исходного списка\n",
    "    for num in nums:\n",
    "        full_set.discard(num)\n",
    "    \n",
    "    # Оставшееся число в множестве - это пропущенное число\n",
    "    missing_number = full_set.pop()  # Извлекаем единственный элемент\n",
    "    return missing_number\n",
    "\n",
    "nums = [0, 1, 2, 3, 5]  # Пропущено число 3\n",
    "missing_number = find_missing_number_set(nums)\n",
    "print(f\"Пропущенное число (метод множества): {missing_number}\")"
   ]
  },
  {
   "cell_type": "markdown",
   "metadata": {},
   "source": [
    "**9.**\tДаны два неубывающих списка. Найдите их «пересечение», т. е. список, содержащий общие элементы исходных списков, причем кратность каждого элемента в итоговом списке равняется минимуму из его кратностей в исходных списках."
   ]
  },
  {
   "cell_type": "code",
   "execution_count": null,
   "metadata": {},
   "outputs": [],
   "source": [
    "# ready\n",
    "# процедура ввода списка с клавиатуры в одну строку через пробел\n",
    "def init_ar():\n",
    "    a=[int(s) for s in input().split()]\n",
    "    return a\n",
    "\n",
    "# формирование первого списка\n",
    "print('Введите элементы 1-го списка в строку через пробел:')\n",
    "ar1 = init_ar()\n",
    "# формирование второго списка\n",
    "print('Введите элементы 2-го списка в строку через пробел:')\n",
    "ar2 = init_ar()\n",
    "\n",
    "# вывод исходных списков\n",
    "print('исходные списки:')\n",
    "#ar1 = [1,1,1,2,3,3,3,5,6,6]  # 1-ый список\n",
    "#ar2 = [2,2,3,3,6,7,7]  # 2-ой список\n",
    "print(ar1)\n",
    "print(ar2)\n",
    "\n",
    "n = len(ar1)  # длина 1-го списка\n",
    "m = len(ar2)  # длина 2-го спсика\n",
    "ar3 = []  # список, являющийся пересечением исходных\n",
    "i = 0\n",
    "j = 0\n",
    "while (i<n) and (j<m):  # просматриваем исходные списки, пока не закончился хотя бы один из них\n",
    "    if ar1[i] == ar2[j]:  # если текущие элементы совпадают, то заносим один из них в результирующий список и сдвигаем оба указателя\n",
    "        ar3.append(ar1[i])\n",
    "        i += 1\n",
    "        j += 1\n",
    "    elif ar1[i] < ar2[j]:  # если элемент первого списка меньше элемента второго списка, то сдвигаем указатель в первом списке\n",
    "        i += 1\n",
    "    else:  # иначе (если элемент первого списка больше элемента второго списка) сдвигаем указатель во втором списке\n",
    "        j+=1\n",
    "\n",
    "print('пересечение исходных списков:')\n",
    "if len(ar3) == 0:\n",
    "    print('пересечения нет')\n",
    "else:\n",
    "    print(ar3)            "
   ]
  },
  {
   "cell_type": "markdown",
   "metadata": {},
   "source": [
    "**10.** Дан неубывающий список положительных целых чисел. Определите, можно ли составить заданное число как сумму нескольких подряд идущих элементов этого списка."
   ]
  },
  {
   "cell_type": "code",
   "execution_count": 24,
   "metadata": {},
   "outputs": [
    {
     "name": "stdout",
     "output_type": "stream",
     "text": [
      "Введите число:\n"
     ]
    },
    {
     "name": "stdin",
     "output_type": "stream",
     "text": [
      " 4\n"
     ]
    },
    {
     "name": "stdout",
     "output_type": "stream",
     "text": [
      "Введите элементы списка в строку через пробел:\n"
     ]
    },
    {
     "name": "stdin",
     "output_type": "stream",
     "text": [
      " 1 2 3\n"
     ]
    },
    {
     "name": "stdout",
     "output_type": "stream",
     "text": [
      "число 4 нельзя получить суммой нескольких подряд идущих элементов этого списка\n"
     ]
    }
   ],
   "source": [
    "# ready\n",
    "print('Введите число:')\n",
    "n = int(input())  # заданное число\n",
    "print('Введите элементы списка в строку через пробел:')\n",
    "ar = [int(s) for s in input().split()]\n",
    "#ar = [1,1,1,2,3,3,4,5,6,6,7,8,9]  # список чисел\n",
    "#print(ar)\n",
    "\n",
    "sum = 0  # текущая сумма\n",
    "first = 0  # индекс перевого элемента, включаемого в сумму\n",
    "end = 0  # индекс последнего элемента, включемого в сумму\n",
    "\n",
    "while (end < len(ar)) and (first <= end): # пока индекс последнего включаемого элемента не вышел за пределы массива и индексы первого и последнего не пересеклись\n",
    "    sum += ar[end]  # добавляем очередной элемент в сумму \n",
    "    if sum == n:  # если сумма совпала с заданным числом, то выводим ответ и сдвигаем указатель end за пределы массива, чтобы прекратить поиск\n",
    "        print(f'число {n} можно составить суммой подряд идущих элементов этого списка, например: {ar[first:end+1]}')\n",
    "        end = len(ar)\n",
    "    elif sum < n:  # если сумма меньше n, то надо добавить ее наращивать, поэтому чтобы добавть в сумму следующий элемент, увеличиваем указатель end на единицу\n",
    "        end += 1\n",
    "    else:  # если текущая сумма больше заданного n, то надо убрать первый включенный в сумму элемент, но убираем и последний, чтобы не приплюсовать его на следующей итерации повторно\n",
    "        sum -= (ar[first] + ar[end]) \n",
    "        first += 1\n",
    "if sum != n:\n",
    "       print(f'число {n} нельзя получить суммой нескольких подряд идущих элементов этого списка')"
   ]
  },
  {
   "cell_type": "code",
   "execution_count": null,
   "metadata": {},
   "outputs": [],
   "source": []
  }
 ],
 "metadata": {
  "anaconda-cloud": {},
  "kernelspec": {
   "display_name": "Python 3 (ipykernel)",
   "language": "python",
   "name": "python3"
  },
  "language_info": {
   "codemirror_mode": {
    "name": "ipython",
    "version": 3
   },
   "file_extension": ".py",
   "mimetype": "text/x-python",
   "name": "python",
   "nbconvert_exporter": "python",
   "pygments_lexer": "ipython3",
   "version": "3.12.4"
  }
 },
 "nbformat": 4,
 "nbformat_minor": 4
}
