{
 "cells": [
  {
   "cell_type": "markdown",
   "metadata": {},
   "source": [
    "# Функции в Python\n",
    "\n",
    "\n",
    "Синтаксис\n",
    "\n",
    "def ИМЯ_ФУНКЦИИ(параметры): \n",
    "\n",
    "    выражение № 1 \n",
    "    \n",
    "    выражение № 2 ... \n",
    "\n",
    "\n",
    "Вызов:\n",
    "\n",
    "ИМЯ_ФУНКЦИИ(параметры) "
   ]
  },
  {
   "cell_type": "code",
   "execution_count": 1,
   "metadata": {},
   "outputs": [
    {
     "name": "stdout",
     "output_type": "stream",
     "text": [
      "5\n",
      "5\n"
     ]
    }
   ],
   "source": [
    "def func(a):\n",
    "    print(a)\n",
    "    a += 1\n",
    "\n",
    "a = 5\n",
    "func(a)\n",
    "print(a)"
   ]
  },
  {
   "cell_type": "code",
   "execution_count": 2,
   "metadata": {},
   "outputs": [
    {
     "name": "stdout",
     "output_type": "stream",
     "text": [
      "5\n",
      "6\n"
     ]
    }
   ],
   "source": [
    "def func(a):\n",
    "    print(a)\n",
    "    a += 1\n",
    "    return a\n",
    "\n",
    "a = 5\n",
    "print(func(a))"
   ]
  },
  {
   "cell_type": "code",
   "execution_count": 13,
   "metadata": {},
   "outputs": [
    {
     "name": "stdout",
     "output_type": "stream",
     "text": [
      "5\n",
      "1234\n"
     ]
    }
   ],
   "source": [
    "def sum(a,b):\n",
    "    return a+b\n",
    "\n",
    "print(sum(2,3))\n",
    "print(sum('12','34'))"
   ]
  },
  {
   "cell_type": "code",
   "execution_count": 3,
   "metadata": {},
   "outputs": [
    {
     "name": "stdout",
     "output_type": "stream",
     "text": [
      "5 5.0\n",
      "6 4.0\n",
      "6 4.0\n",
      "(7, 3.0)\n",
      "6 4.0\n"
     ]
    }
   ],
   "source": [
    "def func(a, b):\n",
    "    print(a, b)\n",
    "    a += 1\n",
    "    b -= 1\n",
    "    return a, b\n",
    "\n",
    "a = 5\n",
    "b = 5.0\n",
    "a, b = func(a, b)\n",
    "print(a, b)\n",
    "print(func(a, b))\n",
    "print(a, b)"
   ]
  },
  {
   "cell_type": "code",
   "execution_count": 7,
   "metadata": {},
   "outputs": [
    {
     "name": "stdout",
     "output_type": "stream",
     "text": [
      "10\n",
      "10\n"
     ]
    }
   ],
   "source": [
    "def divide(delimoe, delitel): \n",
    "    return delimoe // delitel \n",
    "\n",
    "print(divide(50, 5))\n",
    "print(divide(delitel = 5, delimoe = 50)) "
   ]
  },
  {
   "cell_type": "code",
   "execution_count": 6,
   "metadata": {},
   "outputs": [
    {
     "name": "stdout",
     "output_type": "stream",
     "text": [
      "10\n",
      "25\n",
      "25\n",
      "10\n"
     ]
    }
   ],
   "source": [
    "def divide(delimoe, delitel=2): \n",
    "    return delimoe // delitel \n",
    "\n",
    "print(divide(50, 5))\n",
    "print(divide(50))\n",
    "print(divide(delimoe = 50)) \n",
    "print(divide(delitel = 5, delimoe = 50)) \n"
   ]
  },
  {
   "cell_type": "code",
   "execution_count": 7,
   "metadata": {},
   "outputs": [
    {
     "name": "stdout",
     "output_type": "stream",
     "text": [
      "positive\n",
      "5\n"
     ]
    }
   ],
   "source": [
    "def example(a):\n",
    "    if a>0:\n",
    "        return \"positive\"\n",
    "    else:\n",
    "        a =- a\n",
    "        return a\n",
    "        \n",
    "print(example(5))\n",
    "print(example(-5))"
   ]
  },
  {
   "cell_type": "code",
   "execution_count": 11,
   "metadata": {},
   "outputs": [
    {
     "name": "stdout",
     "output_type": "stream",
     "text": [
      "1024\n",
      "4149515568880992958512407863691161151012446232242436899995657329690652811412908146399707048947103794288197886611300789182395151075411775307886874834113963687061181803401509523685376\n",
      "8452712498170643941637436558664265704301557216577944354047371344426782440907597751590676094202515006314790319892114058862117560952042968596008623655407033230534186943984081346699704282822823056848387726531379014466368452684024987821414350380272583623832617294363807973376\n"
     ]
    }
   ],
   "source": [
    "def rec(a, b):\n",
    "    if b > 1:\n",
    "        return a * rec(a, b - 1)\n",
    "    else:  \n",
    "        \n",
    "        return a\n",
    "\n",
    "print(rec(2, 10))\n",
    "print(rec(2, 600))\n",
    "print(rec(2, 900))"
   ]
  },
  {
   "cell_type": "code",
   "execution_count": 7,
   "metadata": {},
   "outputs": [
    {
     "name": "stdout",
     "output_type": "stream",
     "text": [
      "70\n"
     ]
    }
   ],
   "source": [
    "### lambda arguments: expression\n",
    "\n",
    "double = lambda x: x*2\n",
    "print(double(35))"
   ]
  },
  {
   "cell_type": "code",
   "execution_count": 8,
   "metadata": {},
   "outputs": [
    {
     "name": "stdout",
     "output_type": "stream",
     "text": [
      "5\n",
      "ab\n"
     ]
    }
   ],
   "source": [
    "func = lambda x, y: x+y\n",
    "\n",
    "print(func(2, 3))\n",
    "print(func('a', 'b'))"
   ]
  },
  {
   "cell_type": "code",
   "execution_count": 9,
   "metadata": {},
   "outputs": [
    {
     "name": "stdout",
     "output_type": "stream",
     "text": [
      "5\n",
      "ab\n"
     ]
    }
   ],
   "source": [
    "print((lambda x, y: x+y)(2,3))\n",
    "print((lambda x, y: x+y)('a','b'))"
   ]
  },
  {
   "cell_type": "code",
   "execution_count": 10,
   "metadata": {},
   "outputs": [
    {
     "name": "stdout",
     "output_type": "stream",
     "text": [
      "(1, 3, 5, 7)\n"
     ]
    }
   ],
   "source": [
    "func = lambda *args: args\n",
    "print(func(1, 3, 5, 7))"
   ]
  },
  {
   "cell_type": "code",
   "execution_count": 15,
   "metadata": {},
   "outputs": [
    {
     "name": "stdout",
     "output_type": "stream",
     "text": [
      "(1, 3, 5, 7, 1, 3, 5, 7)\n"
     ]
    }
   ],
   "source": [
    "func = lambda *args: args*2\n",
    "print(func(1, 3, 5, 7))"
   ]
  },
  {
   "cell_type": "code",
   "execution_count": null,
   "metadata": {},
   "outputs": [],
   "source": []
  }
 ],
 "metadata": {
  "kernelspec": {
   "display_name": "Python 3 (ipykernel)",
   "language": "python",
   "name": "python3"
  },
  "language_info": {
   "codemirror_mode": {
    "name": "ipython",
    "version": 3
   },
   "file_extension": ".py",
   "mimetype": "text/x-python",
   "name": "python",
   "nbconvert_exporter": "python",
   "pygments_lexer": "ipython3",
   "version": "3.12.4"
  }
 },
 "nbformat": 4,
 "nbformat_minor": 4
}
