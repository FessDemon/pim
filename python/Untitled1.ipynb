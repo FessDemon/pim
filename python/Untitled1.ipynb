{
 "cells": [
  {
   "cell_type": "code",
   "execution_count": 22,
   "id": "324d3cd6-ad1a-49ea-8e7e-d7670cbbee3a",
   "metadata": {},
   "outputs": [
    {
     "name": "stdout",
     "output_type": "stream",
     "text": [
      "{'Bob': 2, 'Alex': 1, 'John': 1}\n"
     ]
    }
   ],
   "source": [
    "array = [\"Bob\", \"Alex\", \"Bob\", \"John\"]\n",
    "\n",
    "array_d = {}.fromkeys(array, 0)\n",
    "for a in array:\n",
    "    array_d[a] += 1\n",
    "\n",
    "print(array_d)"
   ]
  },
  {
   "cell_type": "code",
   "execution_count": null,
   "id": "3d616ce4-e86e-45d4-8add-dcb8ca49a8ce",
   "metadata": {},
   "outputs": [],
   "source": []
  }
 ],
 "metadata": {
  "kernelspec": {
   "display_name": "Python 3 (ipykernel)",
   "language": "python",
   "name": "python3"
  },
  "language_info": {
   "codemirror_mode": {
    "name": "ipython",
    "version": 3
   },
   "file_extension": ".py",
   "mimetype": "text/x-python",
   "name": "python",
   "nbconvert_exporter": "python",
   "pygments_lexer": "ipython3",
   "version": "3.12.4"
  }
 },
 "nbformat": 4,
 "nbformat_minor": 5
}
