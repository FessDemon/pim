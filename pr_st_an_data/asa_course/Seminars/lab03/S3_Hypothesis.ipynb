{
 "cells": [
  {
   "cell_type": "markdown",
   "metadata": {
    "slideshow": {
     "slide_type": "slide"
    }
   },
   "source": [
    "**Лабораторная работа №3**\n",
    "# <b>Проверка статистических гипотез</b> "
   ]
  },
  {
   "cell_type": "markdown",
   "metadata": {
    "slideshow": {
     "slide_type": "slide"
    }
   },
   "source": [
    "## Библиотеки\n",
    "- numpy: 2.2.2\n",
    "- pandas: 2.2.3\n",
    "- scipy: 1.15.1\n",
    "- statsmodels: 1.15.1\n",
    "- matplotlib: 1.15.1\n",
    "- seaborn: 0.13.2\n"
   ]
  },
  {
   "cell_type": "code",
   "execution_count": 4,
   "metadata": {
    "slideshow": {
     "slide_type": "subslide"
    }
   },
   "outputs": [
    {
     "name": "stdout",
     "output_type": "stream",
     "text": [
      "\n",
      "- numpy: 2.2.2\n",
      "- pandas: 2.2.3\n",
      "- scipy: 1.15.1\n",
      "- statsmodels: 1.15.1\n",
      "- matplotlib: 1.15.1\n",
      "- seaborn: 0.13.2\n",
      "\n"
     ]
    }
   ],
   "source": [
    "import scipy\n",
    "import statsmodels\n",
    "import matplotlib\n",
    "\n",
    "import itertools\n",
    "import numpy as np\n",
    "import pandas as pd\n",
    "import scipy.stats as st\n",
    "import seaborn as sns\n",
    "import matplotlib.pyplot as plt\n",
    "\n",
    "from statsmodels.stats.diagnostic import kstest_normal\n",
    "from statsmodels.stats.weightstats import ttest_ind\n",
    "from statsmodels.stats.weightstats import ztest\n",
    "from statsmodels.stats.proportion import binom_test\n",
    "from statsmodels.stats.proportion import proportion_confint\n",
    "from statsmodels.stats.proportion import binom_test, proportions_ztest, proportions_chisquare\n",
    "from statsmodels.distributions.empirical_distribution import ECDF\n",
    "from statsmodels.stats.descriptivestats import sign_test\n",
    "\n",
    "\n",
    "versions = f'''\n",
    "- numpy: {np.__version__}\n",
    "- pandas: {pd.__version__}\n",
    "- scipy: {scipy.__version__}\n",
    "- statsmodels: {scipy.__version__}\n",
    "- matplotlib: {scipy.__version__}\n",
    "- seaborn: {sns.__version__}\n",
    "'''\n",
    "print(versions)\n"
   ]
  },
  {
   "cell_type": "code",
   "execution_count": null,
   "metadata": {},
   "outputs": [],
   "source": []
  },
  {
   "cell_type": "code",
   "execution_count": null,
   "metadata": {},
   "outputs": [],
   "source": [
    "# перестановочный критерий\n",
    "# from permute.core import one_sample, two_sample\n",
    "\n",
    "# критерий знаков\n",
    "\n",
    "# для перестановок\n",
    "\n",
    "# бутстрап\n",
    "# from arch.bootstrap import IIDBootstrap"
   ]
  },
  {
   "cell_type": "markdown",
   "metadata": {},
   "source": [
    "## <b><font color=\"red\">I. Семинарская часть</font></b> "
   ]
  },
  {
   "cell_type": "markdown",
   "metadata": {
    "slideshow": {
     "slide_type": "slide"
    }
   },
   "source": [
    "### 1.1 Параметрические гипотезы"
   ]
  },
  {
   "cell_type": "markdown",
   "metadata": {
    "slideshow": {
     "slide_type": "subslide"
    }
   },
   "source": [
    "#### **Пример 1. Гипотеза о математическом ожидании нормального распределения (Kanji, критерий 1)**\n",
    "\n",
    "Линия по производству пудры должна обеспечивать средний вес пудры в упаковке 4 грамма, заявленное стандартное отклонение — 1 грамм.\n",
    "В ходе инспекции выбрано 9 упаковок, средний вес продукта в них составляет 4.6 грамма.\n",
    "\n",
    "Соответствуют ли норме результаты инспекции на уровне значимости $\\alpha=0.05$?\n",
    "\n",
    "**Решение**\n",
    "Введем гипотезы:\n",
    "* $H_0$: средний вес пудры в упаковке соответствует норме.\n",
    "* $H_1$: средний вес пудры в упаковке не соответствует норме (двухсторонняя альтернативная гиптоеза)\n",
    "\n",
    "```p=0.0719```\n"
   ]
  },
  {
   "cell_type": "code",
   "execution_count": 17,
   "metadata": {},
   "outputs": [],
   "source": [
    "def check_hipotesis(p,alpha=0.05):\n",
    "    if p<alpha:\n",
    "        print('Нулевая гипотеза должна быть отвергнута в пользу альтерантивы')\n",
    "        return True\n",
    "    else:\n",
    "        print('Нулевая гипотеза не противоречит наблюдаемым данным')\n",
    "        return False\n"
   ]
  },
  {
   "cell_type": "code",
   "execution_count": 14,
   "metadata": {
    "slideshow": {
     "slide_type": "fragment"
    }
   },
   "outputs": [],
   "source": [
    "# Исходные данные:\n",
    "mu = 4 # Теоретическое математическое ожидание\n",
    "std = 1 # Теоретическое СКО\n",
    "n = 9 # Объем выборки\n",
    "mean = 4.6 # Выборочное среднее\n",
    "alpha = 0.05 # уровень значимости"
   ]
  },
  {
   "cell_type": "markdown",
   "metadata": {},
   "source": [
    "1. Выполним проверку гипотезы **вручную**:\n",
    "\n",
    "Так как гипотеза о среднем и дисперсии известны - имспользуем Z-критерий:\n",
    "\n",
    "$$\n",
    "    Z = \\frac{\\bar{X}-\\mu}{\\sigma/\\sqrt{n}}.\n",
    "$$\n",
    "\n",
    "Так как альтернативная гипотеза двухстороняя $p$-значение вычисляетмся по формуле:\n",
    "$$\n",
    "p(Z) = 2 \\bigl(1-F(|Z|)\\bigr).\n",
    "$$"
   ]
  },
  {
   "cell_type": "code",
   "execution_count": 78,
   "metadata": {
    "slideshow": {
     "slide_type": "fragment"
    }
   },
   "outputs": [
    {
     "data": {
      "text/plain": [
       "np.float64(1.799999999999999)"
      ]
     },
     "execution_count": 78,
     "metadata": {},
     "output_type": "execute_result"
    }
   ],
   "source": [
    "#Z = # ваш код \n",
    "Z = (mean - mu)/(std/np.sqrt(n))\n",
    "Z"
   ]
  },
  {
   "cell_type": "code",
   "execution_count": 86,
   "metadata": {
    "slideshow": {
     "slide_type": "fragment"
    }
   },
   "outputs": [
    {
     "data": {
      "text/plain": [
       "np.float64(0.07186063822585176)"
      ]
     },
     "execution_count": 86,
     "metadata": {},
     "output_type": "execute_result"
    }
   ],
   "source": [
    "p = 2*(1-st.norm.cdf(np.abs(Z))) # ваш код\n",
    "p"
   ]
  },
  {
   "cell_type": "code",
   "execution_count": 87,
   "metadata": {},
   "outputs": [
    {
     "name": "stdout",
     "output_type": "stream",
     "text": [
      "Нулевая гипотеза не противоречит наблюдаемым данным\n"
     ]
    }
   ],
   "source": [
    "check_hipotesis(p,alpha);"
   ]
  },
  {
   "cell_type": "markdown",
   "metadata": {
    "slideshow": {
     "slide_type": "subslide"
    }
   },
   "source": [
    "2. Выполним проверку гипотезы **с использованием библиотеки ```statsmodels```**\n",
    "\n",
    "\n",
    "Для этого просэмплируем выборку из нормального распределения (!) с нашими выборочным средним и СКО"
   ]
  },
  {
   "cell_type": "code",
   "execution_count": 73,
   "metadata": {
    "slideshow": {
     "slide_type": "subslide"
    }
   },
   "outputs": [
    {
     "name": "stdout",
     "output_type": "stream",
     "text": [
      "mean=5.037561230377956, std=0.7222455089229228\n",
      "Z=4.063253133913534, p=0.00005\n",
      "Нулевая гипотеза должна быть отвергнута в пользу альтерантивы\n"
     ]
    }
   ],
   "source": [
    "np.random.seed(42)\n",
    "\n",
    "# Сформируем выборку:\n",
    "X = np.random.randn(n) * std + mean\n",
    "print(f'mean={np.mean(X)}, std={np.std(X)}')\n",
    "\n",
    "empirical_Z, pvalue = ztest(X, value = mu, alternative = \"two-sided\")  # Первая компонента - эмпирическое значение критерия, вторая - p-значение\n",
    "print(f'Z={empirical_Z}, p={pvalue:.5f}')\n",
    "check_hipotesis(pvalue,alpha);"
   ]
  },
  {
   "cell_type": "code",
   "execution_count": 76,
   "metadata": {},
   "outputs": [
    {
     "name": "stdout",
     "output_type": "stream",
     "text": [
      "mean=4.152921438306466, std=0.9375105181307597\n",
      "Z=0.46135711087657605, p=0.64454\n",
      "Нулевая гипотеза не противоречит наблюдаемым данным\n"
     ]
    }
   ],
   "source": [
    "np.random.seed(24)\n",
    "\n",
    "# Сформируем выборку:\n",
    "X = np.random.randn(n) * std + mean\n",
    "print(f'mean={np.mean(X)}, std={np.std(X)}')\n",
    "\n",
    "empirical_Z, pvalue = ztest(X, value = mu, alternative = \"two-sided\")  # Первая компонента - эмпирическое значение критерия, вторая - p-значение\n",
    "print(f'Z={empirical_Z}, p={pvalue:.5f}')\n",
    "check_hipotesis(pvalue,alpha);"
   ]
  },
  {
   "cell_type": "markdown",
   "metadata": {
    "slideshow": {
     "slide_type": "subslide"
    }
   },
   "source": [
    "#### **Пример 2. Гипотеза о доле нормального распределения [Кобзарь, c. 437, задача 227]** \n",
    "\n",
    "Нормируемый уровень дефектных изделий в партии $p_0 = 0.05$. \n",
    "Из партии извлечена выборка $n=20$ изделий, среди которых обнаружено 2 дефектных.\n",
    "Требуется ли отзыв партии на уровне значимости $\\alpha = 0.05$?\n",
    "\n",
    "\n",
    "\n",
    "**Обратите внимание:**\n",
    "- В этой ситуации плохо, если доля баркованых деталей больше допусимой, поэтому альтернативная гипотеза будет односторонней.\n",
    "- Распределение дискретно, вероятность брака фиксирована ($p_0=0.05$), причем брак одной детали не влияет на наличие брака в другой детали, поэтому **биномиальное**\n",
    "\n",
    "**Гипотезы**\n",
    "- $H_0$ : доля дефектных изделий в партии не выше нормы.\n",
    "\n",
    "- $H_1$ : доля дефектных изделий в партии выше нормы.\n",
    "\n",
    "\n",
    "**Решение 1.** Ручная проверка гипотезы для биномиального распределения\n",
    "\n",
    "В качестве статистики возьмем величину\n",
    "$$\n",
    "T = \\sum X_i\n",
    "$$\n",
    "\n",
    "p-значение для правосторонней гипотезы вычисляется как\n",
    "$$\n",
    "    p(T) = 1 - F(T)\n",
    "$$ \n",
    "\n",
    "Функцию биномиального распределения можно вычислить \n",
    "как \n",
    "```st.binom.cdf()```\n"
   ]
  },
  {
   "cell_type": "code",
   "execution_count": 105,
   "metadata": {
    "slideshow": {
     "slide_type": "fragment"
    }
   },
   "outputs": [
    {
     "ename": "SyntaxError",
     "evalue": "invalid syntax (3059413259.py, line 4)",
     "output_type": "error",
     "traceback": [
      "\u001b[0;36m  Cell \u001b[0;32mIn[105], line 4\u001b[0;36m\u001b[0m\n\u001b[0;31m    T = # ваш код\u001b[0m\n\u001b[0m        ^\u001b[0m\n\u001b[0;31mSyntaxError\u001b[0m\u001b[0;31m:\u001b[0m invalid syntax\n"
     ]
    }
   ],
   "source": [
    "n = 20\n",
    "p0 = 0.05\n",
    "\n",
    "T = # ваш код"
   ]
  },
  {
   "cell_type": "code",
   "execution_count": 106,
   "metadata": {
    "slideshow": {
     "slide_type": "fragment"
    }
   },
   "outputs": [
    {
     "ename": "SyntaxError",
     "evalue": "invalid syntax (3085842072.py, line 1)",
     "output_type": "error",
     "traceback": [
      "\u001b[0;36m  Cell \u001b[0;32mIn[106], line 1\u001b[0;36m\u001b[0m\n\u001b[0;31m    p = # ваш код\u001b[0m\n\u001b[0m        ^\u001b[0m\n\u001b[0;31mSyntaxError\u001b[0m\u001b[0;31m:\u001b[0m invalid syntax\n"
     ]
    }
   ],
   "source": [
    "p = # ваш код\n",
    "p"
   ]
  },
  {
   "cell_type": "markdown",
   "metadata": {},
   "source": [
    "Вариант решения 1. В предположении о нормальности рспределения:\n",
    "Так как партия достаточно большая, чтобы Распределение можно считать приближенно нормальным Поэтому распределение можно считать нормальным\n",
    "\n",
    "Статистика для проверки гипотезы о доле носителей признака в нормальном распределении имеет вид\n",
    "$$\n",
    "    Z = \\frac{w-p_0}{\\sqrt{{p_0q_0}/{n}}} \\sim N(0,1)\n",
    "$$\n",
    "P\n"
   ]
  },
  {
   "cell_type": "markdown",
   "metadata": {
    "slideshow": {
     "slide_type": "subslide"
    }
   },
   "source": [
    "**Решение 2** Проверим критерий с использованием библиотеки ```scipy```."
   ]
  },
  {
   "cell_type": "code",
   "execution_count": null,
   "metadata": {
    "slideshow": {
     "slide_type": "fragment"
    }
   },
   "outputs": [],
   "source": [
    "st.binom_test(T, n, p0, alternative='greater')"
   ]
  },
  {
   "cell_type": "markdown",
   "metadata": {
    "slideshow": {
     "slide_type": "subslide"
    }
   },
   "source": [
    "**Решение 3** Проверим критерий с использованием библиотеки  ```statsmodels```"
   ]
  },
  {
   "cell_type": "code",
   "execution_count": null,
   "metadata": {},
   "outputs": [],
   "source": []
  },
  {
   "cell_type": "code",
   "execution_count": null,
   "metadata": {
    "slideshow": {
     "slide_type": "fragment"
    }
   },
   "outputs": [],
   "source": [
    "binom_test(T, n, p0, alternative='larger')"
   ]
  },
  {
   "cell_type": "markdown",
   "metadata": {},
   "source": [
    "#### **Пример 3. Метилфенидат и синдром дефицита внимания**\n",
    "**Pearson D.A, Santos C.W., Casat C.D., et al. (2004). Treatment effects of methylphenidate on cognitive functioning in children with mental retardation and ADHD. Journal of the American Academy of Child and Adolescent Psychiatry, 43(6), 677–685.**"
   ]
  },
  {
   "cell_type": "markdown",
   "metadata": {},
   "source": [
    "\n",
    "24 умственно отсталых ребёнка с СДВГ (Синдром дефицита внимания с гиперактивностью) в течение недели принимали либо метилфенидат, либо плацебо, а в конце недели проходили тест на способность к подавлению импульсивных поведенческих реакций. \n",
    "На втором этапе плацебо и препарат менялись, после недельного курса каждый испытуемые проходили второй тест.\n",
    "\n",
    "Каков эффект препарата?"
   ]
  },
  {
   "cell_type": "code",
   "execution_count": 129,
   "metadata": {},
   "outputs": [
    {
     "data": {
      "image/png": "[encoded data removed]",
      "text/plain": [
       "<Figure size 640x480 with 1 Axes>"
      ]
     },
     "metadata": {},
     "output_type": "display_data"
    }
   ],
   "source": [
    "data = [ \n",
    "    [57, 62], [27, 49], [32, 30], [31, 34], [34, 38], [38, 36], [71, 77], [33, 51], [34, 45], [53, 42], [36, 43], [42, 57], [26, 36], [52, 58], [36, 35], [55, 60], [36, 33], [42, 49], [36, 33], [54, 59], [34, 35], [29, 37], [33, 45], [33, 29],\n",
    "]\n",
    "\n",
    "data = pd.DataFrame(data = data,columns=['D0','D60'])\n",
    "\n",
    "\n",
    "plt.scatter(data.iloc[:, 0], data.iloc[:, 1])\n",
    "plt.xlabel('Плацебо')\n",
    "plt.ylabel('Метилфенидат')\n",
    "plt.plot([min(data.iloc[:,0]), max(data.iloc[:,0])], [min(data.iloc[:,1]), max(data.iloc[:,1])])\n",
    "\n",
    "plt.show()"
   ]
  },
  {
   "cell_type": "markdown",
   "metadata": {},
   "source": [
    "**Сформулируем гипотезы:**\n",
    "* $H_0$ - Математические ожидания равны - эффекта нет\n",
    "* $H_1$ - Математические ожидания статистически различны - эффект есть\n",
    "\n",
    "Для их проверки нам потребуется критерий Стьюдента для связанных выборок.\n",
    "Однако од сформулирован для нормального распределения. Проверим, нет ли существенных отклонений от нормальности попарных разностей:"
   ]
  },
  {
   "cell_type": "markdown",
   "metadata": {},
   "source": [
    "**Проверка нормальности** "
   ]
  },
  {
   "cell_type": "code",
   "execution_count": 131,
   "metadata": {},
   "outputs": [
    {
     "data": {
      "image/png": "[encoded data removed]",
      "text/plain": [
       "<Figure size 640x480 with 1 Axes>"
      ]
     },
     "metadata": {},
     "output_type": "display_data"
    }
   ],
   "source": [
    "deltas = data.loc[:,'D60'] - data.loc[:,'D0']\n",
    "sns.histplot(deltas, label='Эмпирическое распределение',stat='density',kde=True)\n",
    "plt.plot(sorted(deltas), st.distributions.norm(np.mean(deltas), np.std(deltas)).pdf(sorted(deltas)), label='Нормальное распределение', c='red')\n",
    "plt.legend(loc='best')\n",
    "plt.title('Difference hist')\n",
    "\n",
    "plt.show()"
   ]
  },
  {
   "cell_type": "markdown",
   "metadata": {},
   "source": [
    "Построим **Q-Q диаграмы**"
   ]
  },
  {
   "cell_type": "code",
   "execution_count": null,
   "metadata": {},
   "outputs": [
    {
     "data": {
      "image/png": "[encoded data removed]",
      "text/plain": [
       "<Figure size 640x480 with 1 Axes>"
      ]
     },
     "metadata": {},
     "output_type": "display_data"
    }
   ],
   "source": [
    "_ = st.probplot(data.iloc[:,0], plot=plt,dist='norm')\n",
    "plt.show()\n"
   ]
  },
  {
   "cell_type": "code",
   "execution_count": 146,
   "metadata": {},
   "outputs": [
    {
     "data": {
      "image/png": "[encoded data removed]",
      "text/plain": [
       "<Figure size 640x480 with 1 Axes>"
      ]
     },
     "metadata": {},
     "output_type": "display_data"
    }
   ],
   "source": [
    "_ = st.probplot(data.iloc[:,1], plot=plt,dist='norm')\n",
    "plt.show()\n"
   ]
  },
  {
   "cell_type": "markdown",
   "metadata": {},
   "source": [
    "Применим **критерий Шапиро-Уилка**"
   ]
  },
  {
   "cell_type": "code",
   "execution_count": 150,
   "metadata": {},
   "outputs": [
    {
     "data": {
      "text/plain": [
       "D0     0.003020\n",
       "D60    0.048768\n",
       "dtype: float64"
      ]
     },
     "execution_count": 150,
     "metadata": {},
     "output_type": "execute_result"
    }
   ],
   "source": [
    "data.apply(lambda col: st.shapiro(col).pvalue, axis=0)\n"
   ]
  },
  {
   "cell_type": "code",
   "execution_count": null,
   "metadata": {},
   "outputs": [],
   "source": []
  },
  {
   "cell_type": "markdown",
   "metadata": {},
   "source": [
    "Тест Шапиро-Уилка дает p-значения для каждой выборки дает p-значения меньшие 0.05, поэтому можно применять критерий Стьюдента с риском 5%.\n",
    "\n",
    "Его вычисление для связанных выборок можно выполнять функцией ```scipy.stats.ttest_rel```, а для несвязанных - функцией ``` scipy.stats.ttest_ind```.\n",
    "\n",
    "Так как выборки связаны имеем:"
   ]
  },
  {
   "cell_type": "code",
   "execution_count": 158,
   "metadata": {},
   "outputs": [
    {
     "name": "stdout",
     "output_type": "stream",
     "text": [
      "p-значение для связанных выборок: 0.00377\n"
     ]
    }
   ],
   "source": [
    "A = data.loc[:,'D0'].values\n",
    "B = data.loc[:,'D60'].values\n",
    "\n",
    "pval_rel = st.ttest_rel(a=A, b=B).pvalue\n",
    "print(f'p-значение для связанных выборок: {pval_rel:.5f}')\n"
   ]
  },
  {
   "cell_type": "markdown",
   "metadata": {},
   "source": [
    "Гипотезу об отсутствии эффекта отвергаем на уровне значимости $\\alpha=0.05$ так как $0.0038<0.05$.\n",
    "\n",
    "Заметим, что отсутствие эффекта отвергается даже на принятом в медицине уровне значимости $\\alpha=0.005$"
   ]
  },
  {
   "cell_type": "markdown",
   "metadata": {},
   "source": [
    "Если бы у нас не было информации о связях между выборками, пришлось бы применять версию критерия Стьюдента для независимых выборок:\n",
    "\n"
   ]
  },
  {
   "cell_type": "code",
   "execution_count": 159,
   "metadata": {},
   "outputs": [
    {
     "name": "stdout",
     "output_type": "stream",
     "text": [
      "p-значение для независимых выборок: 0.15324\n"
     ]
    }
   ],
   "source": [
    "pval = st.ttest_ind(A, B).pvalue\n",
    "print(f'p-значение для независимых выборок: {pval:.5f}')\n"
   ]
  },
  {
   "cell_type": "markdown",
   "metadata": {},
   "source": [
    "Как видите, в этом случае отсутствие эффекта не противоречит наблюдениям!"
   ]
  },
  {
   "cell_type": "code",
   "execution_count": null,
   "metadata": {},
   "outputs": [],
   "source": []
  },
  {
   "cell_type": "markdown",
   "metadata": {},
   "source": [
    "### **Пример 4. Мышки с зеркалами**"
   ]
  },
  {
   "cell_type": "markdown",
   "metadata": {},
   "source": [
    "16 лабораторных мышей были помещены в двухкомнатные клетки, в одной из комнат висело зеркало. \n",
    "Измерялась доля времени, которое каждая мышь проводила в каждой из своих двух клеток.\n",
    "\n",
    "Внимание, вопрос: любят ли мыши вертеться перед зеркалом?\n",
    "\n",
    "Ниже приведены данные о доле времени, которые мышь провелав комнате с зеркалом"
   ]
  },
  {
   "cell_type": "code",
   "execution_count": null,
   "metadata": {},
   "outputs": [
    {
     "data": {
      "text/plain": [
       "array([0.3484705, 0.6406202, 0.5498178, 0.5374537, 0.4004438, 0.4262919,\n",
       "       0.4171558, 0.4779768, 0.4506574, 0.4766018, 0.4886766, 0.4847412,\n",
       "       0.4816139, 0.4894059, 0.4673653, 0.4673297])"
      ]
     },
     "metadata": {},
     "output_type": "display_data"
    }
   ],
   "source": [
    "# Данные\n",
    "data = np.array([\n",
    "    0.3484705,  0.6406202,  0.5498178,  0.5374537,  0.4004438,  0.4262919,  0.4171558,  0.4779768,  \n",
    "    0.4506574,  0.4766018,  0.4886766,  0.4847412,  0.4816139,  0.4894059,  0.4673653,  0.4673297, \n",
    "])\n",
    "length_data = data.shape[0]\n",
    "data\n"
   ]
  },
  {
   "cell_type": "markdown",
   "metadata": {},
   "source": [
    "#### Гистограмма распределения"
   ]
  },
  {
   "cell_type": "code",
   "execution_count": null,
   "metadata": {},
   "outputs": [
    {
     "data": {
      "image/png": "[encoded data removed]",
      "text/plain": [
       "<Figure size 640x480 with 1 Axes>"
      ]
     },
     "metadata": {},
     "output_type": "display_data"
    }
   ],
   "source": [
    "plt.hist(data)\n",
    "plt.show()"
   ]
  },
  {
   "cell_type": "markdown",
   "metadata": {},
   "source": [
    "*Гипотезы*:\n",
    "* $H_0$: мышам всё равно, висит в клетке зеркало или нет.\n",
    "* $H_1$: у мышей есть какие-то предпочтения насчёт зеркала.\n",
    "\n",
    "*Формализованные гипотезы*:\n",
    "* $H_0$: математическое ожидание времени в клетке с зералом равняется 0.5 $\\mathsf{E}X = 0.5$.\n",
    "* $H_1$: математическое ожидание времени в клетке с зералом не равняется 0.5 $\\mathsf{E}X \\neq 0.5$"
   ]
  },
  {
   "cell_type": "markdown",
   "metadata": {},
   "source": [
    "Для проверки гипотезы \n",
    "\n",
    "1. Порпобуем использовать **биномиальный тест**"
   ]
  },
  {
   "cell_type": "code",
   "execution_count": null,
   "metadata": {},
   "outputs": [
    {
     "data": {
      "text/plain": [
       "np.float64(0.021270751953125)"
      ]
     },
     "metadata": {},
     "output_type": "display_data"
    }
   ],
   "source": [
    "binomtest_pval = st.binomtest(np.sum(data>0.5), length_data, alternative='two-sided').pvalue\n",
    "binomtest_pval"
   ]
  },
  {
   "cell_type": "markdown",
   "metadata": {},
   "source": [
    "2. Применим **критерий знаков**"
   ]
  },
  {
   "cell_type": "code",
   "execution_count": null,
   "metadata": {},
   "outputs": [
    {
     "data": {
      "text/plain": [
       "np.float64(0.021270751953125)"
      ]
     },
     "metadata": {},
     "output_type": "display_data"
    }
   ],
   "source": [
    "signtest_pval = sign_test(data, mu0=0.5)[1]\n",
    "signtest_pval"
   ]
  },
  {
   "cell_type": "markdown",
   "metadata": {},
   "source": [
    "3. Рассмотрим **перестановочный критерий**:\n",
    "\n",
    "Вычислим статистику $T = \\sum_{i=1}^{16}(X_i-0.5)$"
   ]
  },
  {
   "cell_type": "code",
   "execution_count": null,
   "metadata": {},
   "outputs": [
    {
     "data": {
      "text/plain": [
       "np.float64(-0.39537769999999994)"
      ]
     },
     "metadata": {},
     "output_type": "display_data"
    }
   ],
   "source": [
    "t = (data - 0.5)\n",
    "T = np.sum(t)\n",
    "T"
   ]
  },
  {
   "cell_type": "markdown",
   "metadata": {},
   "source": [
    "Перечислим всевозможные способы расстановки знаков перед слагаемыми в сумме $\\tilde{T} = \\sum_{i=1}^{16} \\pm(X_i-0.5)$\n"
   ]
  },
  {
   "cell_type": "code",
   "execution_count": null,
   "metadata": {},
   "outputs": [],
   "source": [
    "L = list(itertools.product([-1, 1], repeat=16))\n",
    "count = len(L)"
   ]
  },
  {
   "cell_type": "markdown",
   "metadata": {},
   "source": [
    "Вычислим всевозможные суммы с учетом знаков"
   ]
  },
  {
   "cell_type": "code",
   "execution_count": null,
   "metadata": {},
   "outputs": [],
   "source": [
    "stat = np.array([np.dot(t, v) for v in L])"
   ]
  },
  {
   "cell_type": "markdown",
   "metadata": {},
   "source": [
    "Посчитаем количество значений больших, чем $|T|$."
   ]
  },
  {
   "cell_type": "code",
   "execution_count": null,
   "metadata": {},
   "outputs": [
    {
     "data": {
      "text/plain": [
       "np.float64(0.078887939453125)"
      ]
     },
     "metadata": {},
     "output_type": "display_data"
    }
   ],
   "source": [
    "good  = sum(stat>=abs(T))"
   ]
  },
  {
   "cell_type": "markdown",
   "metadata": {},
   "source": [
    "Применим формулу классической вероятности"
   ]
  },
  {
   "cell_type": "code",
   "execution_count": null,
   "metadata": {},
   "outputs": [
    {
     "data": {
      "text/plain": [
       "np.float64(0.078887939453125)"
      ]
     },
     "metadata": {},
     "output_type": "display_data"
    }
   ],
   "source": [
    "permut_pval = good/count\n",
    "permut_pval"
   ]
  },
  {
   "cell_type": "markdown",
   "metadata": {},
   "source": [
    "4. Наконец, воспользуемся **бутстреп**-методом:\n"
   ]
  },
  {
   "cell_type": "code",
   "execution_count": 241,
   "metadata": {},
   "outputs": [
    {
     "name": "stdout",
     "output_type": "stream",
     "text": [
      "Наблюдаемое среднее: 0.47528889375\n",
      "Доверительный интервал: [0.44498474 0.50910533]\n"
     ]
    }
   ],
   "source": [
    "# наблюдаемое значение доли времени в комнате с зеркалом\n",
    "mean = data.mean()\n",
    "print(f'Наблюдаемое среднее: {mean}')\n",
    "\n",
    "# Сформируем псевдовыборки\n",
    "rs = np.random.RandomState(0)\n",
    "samples_idx = rs.randint(low=0, high=16, size=(1000, 16))\n",
    "\n",
    "# Вычислим среднее в каждой выборке\n",
    "results = [data[idxs].mean() for idxs in samples_idx ]\n",
    "\n",
    "#Вычислим левую и правую границы доверительного интервала с надежностью 0.95 \n",
    "interval = np.quantile(results,[0.025,0.975])\n",
    "print(f'Доверительный интервал: {interval}')\n"
   ]
  },
  {
   "cell_type": "markdown",
   "metadata": {},
   "source": [
    "Нулевая гипотеза отвергается, если гипотетическое значение не попадает в доверительный интервал\n",
    "\n",
    "В нашем случае $0.5 \\in [0.445, 0.509]$, то есть нет оснований отвергать нулевую гипотезу"
   ]
  },
  {
   "cell_type": "markdown",
   "metadata": {},
   "source": [
    "## <b><font color=\"red\">II. Задания на лабораторную работу</font></b> "
   ]
  },
  {
   "cell_type": "markdown",
   "metadata": {
    "slideshow": {
     "slide_type": "subslide"
    }
   },
   "source": [
    "### **Задание 1. Хмельной Бонд (гипотеза о доле)**  \n",
    "\n",
    "Пусть Бонд выбрал взболтанный мартини в 12 случаев из 16.\n",
    "\n",
    "Требуется:\n",
    "\n",
    "1. Проверить гипотезу о равнозначности мартини методами ```binom_test```, ```proportions_chisquare```, \n",
    "```proportions_ztest```.\n",
    "2. Провести симуляцию и построить зависимость мощности $\\beta$ критерия от истинного значения $p$ для выборок мощностью 5, 10, 20, 100, 1000 для разных методов на уровне значимости $\\alpha=0.05$.\n",
    "3. Провести симуляцию и построить зависимость ошибки первого рода от проверяемого значения $p_0$ при истинном значении $p=0.5$ при заданой мощности $\\beta$ для выборки объема $n=10$."
   ]
  },
  {
   "cell_type": "markdown",
   "metadata": {
    "slideshow": {
     "slide_type": "subslide"
    }
   },
   "source": [
    "##### **Решение**\n",
    "\n",
    "*Пункт 1*:"
   ]
  },
  {
   "cell_type": "code",
   "execution_count": null,
   "metadata": {
    "slideshow": {
     "slide_type": "fragment"
    }
   },
   "outputs": [],
   "source": [
    "# ваш код"
   ]
  },
  {
   "cell_type": "markdown",
   "metadata": {
    "slideshow": {
     "slide_type": "subslide"
    }
   },
   "source": [
    "*Пункт 2*:"
   ]
  },
  {
   "cell_type": "code",
   "execution_count": null,
   "metadata": {
    "slideshow": {
     "slide_type": "fragment"
    }
   },
   "outputs": [],
   "source": [
    "np.random.seed(42)\n",
    "\n",
    "# ваш код"
   ]
  },
  {
   "cell_type": "markdown",
   "metadata": {
    "slideshow": {
     "slide_type": "subslide"
    }
   },
   "source": [
    "*Пункт 3*:"
   ]
  },
  {
   "cell_type": "code",
   "execution_count": null,
   "metadata": {
    "slideshow": {
     "slide_type": "fragment"
    }
   },
   "outputs": [],
   "source": [
    "np.random.seed(42)\n",
    "\n",
    "# ваш код"
   ]
  },
  {
   "cell_type": "markdown",
   "metadata": {},
   "source": [
    "### **Задание 2. Проверка нормальности распределение (Эксперимент Майкельсона)**\n",
    "\n",
    "**Michelson A.A. Experimental determination of the velocity of light made at the U.S. Naval Academy, Annapolis. Astronomical Papers, 1, 109-145, 1880.**\n",
    "\n",
    "Опыты Майкельсона — класс физических экспериментов, исследующих зависимость скорости распространения света от направления.\n",
    "\n",
    "Проверим данные классического эксперимента Майкельсона по измерению скорости света с помощью вращающегося зеркала, 100 наблюдений на нормальность."
   ]
  },
  {
   "cell_type": "code",
   "execution_count": 104,
   "metadata": {
    "slideshow": {
     "slide_type": "subslide"
    }
   },
   "outputs": [],
   "source": [
    "speed = [299850, 299740, 299900, 300070, 299930, 299850, 299950, 299980, 299980, 299880, 300000, 299980, 299930, 299650, 299760, 299810, 300000, 300000, 299960, 299960, 299960, 299940, 299960, 299940, 299880, 299800, 299850, 299880, 299900, 299840, 299830, 299790, 299810, 299880, 299880, 299830, 299800, 299790, 299760, 299800, 299880, 299880, 299880, 299860, 299720, 299720, 299620, 299860, 299970, 299950, 299880, 299910, 299850, 299870, 299840, 299840, 299850, 299840, 299840, 299840, 299890, 299810, 299810, 299820, 299800, 299770, 299760, 299740, 299750, 299760, 299910, 299920, 299890, 299860, 299880, 299720, 299840, 299850, 299850, 299780, 299890, 299840, 299780, 299810, 299760, 299810, 299790, 299810, 299820, 299850, 299870, 299870, 299810, 299740, 299810, 299940, 299950, 299800, 299810, 299870]\n",
    "\n"
   ]
  },
  {
   "cell_type": "markdown",
   "metadata": {
    "slideshow": {
     "slide_type": "subslide"
    }
   },
   "source": [
    "##### Гистограма распределения"
   ]
  },
  {
   "cell_type": "code",
   "execution_count": null,
   "metadata": {
    "slideshow": {
     "slide_type": "subslide"
    }
   },
   "outputs": [],
   "source": [
    "# ваш код"
   ]
  },
  {
   "cell_type": "markdown",
   "metadata": {
    "slideshow": {
     "slide_type": "subslide"
    }
   },
   "source": [
    "Проверка нормальности"
   ]
  },
  {
   "cell_type": "markdown",
   "metadata": {
    "slideshow": {
     "slide_type": "subslide"
    }
   },
   "source": [
    "**Q-Q диаграма**"
   ]
  },
  {
   "cell_type": "code",
   "execution_count": null,
   "metadata": {
    "slideshow": {
     "slide_type": "fragment"
    }
   },
   "outputs": [],
   "source": [
    "# ваш код"
   ]
  },
  {
   "cell_type": "markdown",
   "metadata": {
    "slideshow": {
     "slide_type": "subslide"
    }
   },
   "source": [
    "**Критерии Колмогорова-Смирнова (Лиллиефорса для нормального распределения)**"
   ]
  },
  {
   "cell_type": "code",
   "execution_count": null,
   "metadata": {
    "slideshow": {
     "slide_type": "fragment"
    }
   },
   "outputs": [],
   "source": [
    "kstest_normal(speed, dist='norm', pvalmethod='approx')"
   ]
  },
  {
   "cell_type": "markdown",
   "metadata": {},
   "source": [
    "Ваш вывод:"
   ]
  },
  {
   "cell_type": "markdown",
   "metadata": {
    "slideshow": {
     "slide_type": "subslide"
    }
   },
   "source": [
    "**Критерий Шапиро-Уилка**"
   ]
  },
  {
   "cell_type": "code",
   "execution_count": null,
   "metadata": {
    "slideshow": {
     "slide_type": "fragment"
    }
   },
   "outputs": [],
   "source": [
    "st.shapiro(speed)"
   ]
  },
  {
   "cell_type": "markdown",
   "metadata": {},
   "source": [
    "Ваш вывод:"
   ]
  },
  {
   "cell_type": "markdown",
   "metadata": {
    "slideshow": {
     "slide_type": "subslide"
    }
   },
   "source": [
    "**Критерий Харке-Бера**"
   ]
  },
  {
   "cell_type": "code",
   "execution_count": null,
   "metadata": {
    "slideshow": {
     "slide_type": "fragment"
    }
   },
   "outputs": [],
   "source": [
    "st.jarque_bera(speed)"
   ]
  },
  {
   "cell_type": "markdown",
   "metadata": {},
   "source": [
    "Ваш вывод:"
   ]
  },
  {
   "cell_type": "markdown",
   "metadata": {
    "slideshow": {
     "slide_type": "slide"
    }
   },
   "source": [
    "### **Задание 3. Сравнение выборок. Разрушители легенд: тыльная сторона руки**"
   ]
  },
  {
   "cell_type": "markdown",
   "metadata": {
    "slideshow": {
     "slide_type": "subslide"
    }
   },
   "source": [
    "*Часть 1.* В 5 серии 13 сезона передачи “Разрушители легенд” проверялась справедливость выражения “know something like the back of one’s hand”. \n",
    "\n",
    "В эксперименте принимало участие 12 испытуемых. Каждому из них были предъявлены 10 фотографий похожих рук разных людей, среди которых они должны были угадать свою.\n",
    "1. При предявлении фотографий тыльной стороны 11 из 12 испытуемых выбрали свою фотографию.\n",
    "2. При предявлении фотографий ладони 7 из 12 испытуемых угадали свою фотографию.\n",
    "\n",
    "Проверьте следующие предположения: \n",
    "1. Испытуемые выбирают фотографию тыльной стороны своей руки осознанно\n",
    "2. Испытуемые выбирают фотографию своей ладони осознанно\n",
    "3. Можно ли утверждать, что тыльную сторону руки люди знают лучше, чем ладонь? Сравним результаты экспериментов.\n",
    "\n",
    "\n"
   ]
  },
  {
   "cell_type": "markdown",
   "metadata": {},
   "source": [
    "**Решение**\n",
    "\n",
    "*Пункт 1.* Испытуемые выбирают фотографию тыльной стороны своей руки осознанно\n",
    "\n",
    "* $H_0$: испытуемые выбирают фотографии тыльной стороны руки наугад (p=0.1).\n",
    "* $H_1$: испытуемые выбирают фотографию тыльной стороны своей собственной руки осознанно (p>0.1).\n"
   ]
  },
  {
   "cell_type": "code",
   "execution_count": null,
   "metadata": {
    "slideshow": {
     "slide_type": "fragment"
    }
   },
   "outputs": [],
   "source": [
    "# ваш код"
   ]
  },
  {
   "cell_type": "markdown",
   "metadata": {
    "slideshow": {
     "slide_type": "subslide"
    }
   },
   "source": [
    "[**Доверительный интервал Уилсона**](https://en.wikipedia.org/wiki/Binomial_proportion_confidence_interval) - интервальная оценка вероятности успеха $p$ для биномиального распределения, если известны только количество экспериментов $n$ и количество успехов $T$. "
   ]
  },
  {
   "cell_type": "code",
   "execution_count": 98,
   "metadata": {
    "slideshow": {
     "slide_type": "fragment"
    }
   },
   "outputs": [
    {
     "data": {
      "text/plain": [
       "(0.646120088858883, 0.9851349055950829)"
      ]
     },
     "execution_count": 98,
     "metadata": {},
     "output_type": "execute_result"
    }
   ],
   "source": [
    "proportion_confint(T, n, method='wilson')"
   ]
  },
  {
   "cell_type": "markdown",
   "metadata": {
    "slideshow": {
     "slide_type": "subslide"
    }
   },
   "source": [
    "*Пункт 2.* Испытуемые выбирают фотографию своей ладони осознанно."
   ]
  },
  {
   "cell_type": "code",
   "execution_count": 102,
   "metadata": {
    "slideshow": {
     "slide_type": "subslide"
    }
   },
   "outputs": [],
   "source": [
    "# ваш код"
   ]
  },
  {
   "cell_type": "markdown",
   "metadata": {
    "slideshow": {
     "slide_type": "subslide"
    }
   },
   "source": [
    "*Пункт 3*. Проверка предположения, что тыльную сторону руки люди знают лучше, чем ладонь?\n",
    "\n",
    "Обратите внимание, что выборки савязанные, так как это одни и те же испытуемые, но информации о связности нет.\n",
    "Поэтому мы вынуждены использовать критерии для независимых выборок."
   ]
  },
  {
   "cell_type": "code",
   "execution_count": 103,
   "metadata": {
    "slideshow": {
     "slide_type": "fragment"
    }
   },
   "outputs": [],
   "source": [
    "# ваш код"
   ]
  },
  {
   "cell_type": "markdown",
   "metadata": {},
   "source": [
    "### **Задание 4. Сравнение выборок. Терапия при анорексии**\n",
    "\n",
    "**Everitt N., McMahon M. (2004). Nutrition and the surgical patient. In Consensus in Clinical Nutrition, Cambridge: Cambridge University Press.**"
   ]
  },
  {
   "cell_type": "markdown",
   "metadata": {},
   "source": [
    "В исследовании оценивается эффективность поведенческой терапии для лечения анорексии. Для 50 пациентов известен вес до начала терапии и по её окончании. Была ли терапия эффективной?"
   ]
  },
  {
   "cell_type": "code",
   "execution_count": 246,
   "metadata": {},
   "outputs": [],
   "source": [
    "data = {\n",
    "    'До':[80.50, 84.90, 81.50, 82.60, 79.90, 88.70, 94.90, 76.30, 81.00, 80.50, 85.00, 89.20, 81.30, 76.50, 70.00, 80.40, 83.30, 83.00, 87.70, 84.20, 86.40, 76.50, 80.20, 87.80, 83.30, 79.70, 84.50, 80.80, 87.40],\n",
    "    'После': [82.20, 85.60, 81.40, 81.90, 76.40, 103.6, 98.40, 93.40, 73.40, 82.10, 96.70, 95.30, 82.40, 72.50, 90.90, 71.30, 85.40, 81.60, 89.10, 83.90, 82.70, 75.70, 82.60, 100.4, 85.20, 83.60, 84.60, 96.20, 86.70]\n",
    "}\n",
    "data = pd.DataFrame.from_dict(data)\n",
    "weight = data.values\n"
   ]
  },
  {
   "cell_type": "code",
   "execution_count": 249,
   "metadata": {},
   "outputs": [
    {
     "data": {
      "image/png": "[encoded data removed]",
      "text/plain": [
       "<Figure size 640x480 with 1 Axes>"
      ]
     },
     "metadata": {},
     "output_type": "display_data"
    }
   ],
   "source": [
    "plt.scatter(data['До'], data['После'])\n",
    "plt.xlabel('До')\n",
    "plt.ylabel('После')\n",
    "\n",
    "plt.show()"
   ]
  },
  {
   "cell_type": "markdown",
   "metadata": {},
   "source": [
    "Пункты исследования\n",
    "1. Проверьте распределение на нормальность\n",
    "2. Проверьте гипотезу о общем увеличении веса под влиянием терапии\n",
    "3. Проверьте гипотезу о влиянии терапии на средний вес\n",
    "4. Проверьте гипотезу о влиянии терапии на медианный вес\n",
    "4. Найдите доверительные интервалы для среднего и медианного среднего прироста веса"
   ]
  },
  {
   "cell_type": "markdown",
   "metadata": {},
   "source": [
    "### **Задание 5. Недвижимость в Сиэттле**\n",
    "\n",
    "**Hesterberg T., Monaghan S., Moore D.S., Clipson A., Epstein R. (2005). Bootstrap methods and permutation tests. In Introduction to the Practice of Statistics, New York: W. H. Freeman and Company.** http://statweb.stanford.edu/~tibs/stat315a/Supplements/bootstrap.pdf"
   ]
  },
  {
   "cell_type": "markdown",
   "metadata": {},
   "source": [
    "Имеются данные о продажной стоимости недвижимости в Сиэтле для 50 сделок в 2001 году и 50 в 2002. Изменились ли цены?"
   ]
  },
  {
   "cell_type": "code",
   "execution_count": 254,
   "metadata": {},
   "outputs": [],
   "source": [
    "data = [     \n",
    "    [142,2002], [232,2002], [132.5,2002], [200,2002], [362,2002], [244.95,2002], [335,2002], [324.5,2002], [222,2002], [225,2002], [175,2002], [50,2002], [215,2002], [260,2002], [307,2002], [210.95,2002], [1370,2002], [215.5,2002], [179.8,2002], [217,2002], [197.5,2002], [146.5,2002], [116.7,2002], [449.9,2002], [266,2002], [265,2002], [256,2002], [684.5,2002], [257,2002], [570,2002], [149.4,2002], [155,2002], [244.9,2002], [66.407,2002], [166,2002], [296,2002], [148.5,2002], [270,2002], [252.95,2002], [507,2002], [705,2002], [1850,2002], [290,2002], [164.95,2002], [375,2002], [335,2002], [987.5,2002], [330,2002], [149.95,2002], [190,2002], [419,2001], [55.268,2001], [65,2001], [210,2001], [510.728,2001], [212.2,2001], [152.720,2001], [266.6,2001], [69.427,2001], [125,2001], [191,2001], [451,2001], [469,2001], [310,2001], [325,2001], [50,2001], [675,2001], [140,2001], [105.5,2001], [285,2001], [320,2001], [305,2001], [255,2001], [95.179,2001], [346,2001], [199,2001], [450,2001], [280,2001], [205.5,2001], [135,2001], [190,2001], [452.5,2001], [335,2001], [455,2001], [291.905,2001], [239.9,2001], [369.95,2001], [569,2001], [481,2001], [475,2001], [495,2001], [195,2001], [237.5,2001], [143,2001], [218.95,2001], [239,2001], [710,2001], [172,2001], [228.5,2001], [270,2001],\n",
    "]\n",
    "data = pd.DataFrame(data=data, columns=['Цена','Год'])"
   ]
  },
  {
   "cell_type": "code",
   "execution_count": 255,
   "metadata": {},
   "outputs": [],
   "source": [
    "## Ваш код"
   ]
  },
  {
   "cell_type": "markdown",
   "metadata": {},
   "source": [
    "## **Задание 6. Теоретическое**\n",
    "Пусть $X = ( X_1, ... X_n)$ — выборка из неизвестного распределения $\\mathsf{P} \\in \\{ \\mathsf{P}_{\\theta} | \\theta \\in \\Theta \\}$\n",
    "и для проверки гипотез $\\mathsf{H}_0 : \\theta \\in [−1, 1]$   против $\\mathsf{H}_1 : \\theta \\notin [−1, 1]$ используется критерий\n",
    "$$\n",
    "S = \\{x \\in \\mathbb{R}^n \\mid T(x) > 1\\}.\n",
    "$$\n",
    "Предположим, $T(x)\\sim \\mathcal{N}(\\theta, 1)$. \n",
    "\n",
    "Какие ответы возможны в результате проверки данных гипотез и в каких случаях? Найдите\n",
    "вероятность ошибки первого рода.\n",
    "\n",
    "*Указание:*\n",
    "- Не забудьте, что в определении вероятности ошибки I рода стоит супремум по всем параметрам из основной гипотезы\n",
    "- Можно показать, где достигается супремум графически. Например, с помощью `sps.norm`, где параметр `loc` отвечает за сдвиг.\n",
    "\n"
   ]
  },
  {
   "cell_type": "markdown",
   "metadata": {},
   "source": [
    "## **Задание 6. Критерий Вальда**"
   ]
  },
  {
   "cell_type": "markdown",
   "metadata": {},
   "source": [
    "Критерий Вальда для проверки гипотезы $H_0\\colon \\theta=\\theta_0$ против  $H_1\\colon \\theta <\\neq>\\theta_0$ \n",
    "Имеет вид  \n",
    "$$\n",
    "Z_W\\left(X^n\\right) = \\frac{\\hat{\\theta}_{MLE} - \\theta_0}{\\sqrt{\\mathbb D \\hat{\\theta}_{MLE}}}\\sim N\\left(0,1\\right)\n",
    "$$\n",
    " \n",
    " Достигаемый уровень значимости:\n",
    "$$\n",
    "\tp\\left(Z_W\\right) = \\begin{cases}\n",
    "\t\t1-F_{N(0,1)}(Z_W), & H_1 \\colon \\theta>\\theta_0, \\\\\n",
    "\t\tF_{N(0,1)}(Z_W), & H_1 \\colon \\theta<\\theta_0, \\\\\n",
    "\t\t2\\left(1-F_{N(0,1)}(|Z_W|)\\right), & H_1 \\colon \\theta\\neq\\theta_0. \\\\\n",
    "\t\\end{cases}\n",
    "$$"
   ]
  },
  {
   "cell_type": "markdown",
   "metadata": {},
   "source": [
    "Проведен эксперимент, получены данные из экспоненциального распределения. "
   ]
  },
  {
   "cell_type": "code",
   "execution_count": 258,
   "metadata": {},
   "outputs": [],
   "source": [
    "sample = [0.11731702, 0.75253036, 0.32918642, 0.22823564, 0.04240622,\n",
    "        0.04239907, 0.01495969, 0.50280772, 0.22977054, 0.30781252,\n",
    "        0.00519983, 0.87588937, 0.44660739, 0.05967191, 0.05016975,\n",
    "        0.05065286, 0.09068843, 0.18598196, 0.14138427, 0.08605575,\n",
    "        0.23659272, 0.03755863, 0.08637888, 0.1140693 , 0.15223367,\n",
    "        0.384484  , 0.05568397, 0.18050729, 0.22437618, 0.01189096]"
   ]
  },
  {
   "cell_type": "markdown",
   "metadata": {},
   "source": [
    "Необходимо проверить, является имеет ли это распределение параметр $\\lambda=2$. \n",
    "\n",
    "\n",
    "Используя Критерий Вальда, проверьте гипотезу $\\mathsf{H}_0\\colon \\lambda = 2$ против $\\mathsf{H}_1\\colon \\lambda \\neq 2$  \n",
    "  \n",
    "\n",
    "Считая известным, что $\\lambda_{MLE} = \\frac{1}{\\overline{X}}$ - асимптотически нормальная оценка для параметра $\\theta$ c асимптотической дисперсией $\\theta^2$.\n",
    " \n",
    " "
   ]
  },
  {
   "cell_type": "code",
   "execution_count": 260,
   "metadata": {},
   "outputs": [],
   "source": [
    "# Ваш код"
   ]
  },
  {
   "cell_type": "markdown",
   "metadata": {},
   "source": [
    "## **Задание 7. Оценка уровня значимости**\n",
    " критерий Вальда является примером асимптотического критерия. Такие критерии контролируют вероятность ошибки I рода на уровне $\\alpha$ только в пределе, однако для небольших выборок она может сильно отличаться от $\\alpha$, причем нередко в большую сторону. Поэтому для асимптотических критериев возникает необходимость в вычислении оценки значения вероятности ошибки I рода или *оценки реального уровня значимости* при конечной выборке.\n",
    "\n",
    "Вот только как это сделать?\n",
    "\n",
    "1. Опишите схему оценки реального уровня значимости.\n",
    "2. Пусть $X_1, ..., X_n$ &mdash; выборка из пуассоновского распределения с параметром $\\theta$. \n",
    "Рассмотрим гипотезу $\\mathsf{H}_0\\colon \\theta = 1$ против $\\mathsf{H}_1\\colon \\theta \\not= 1$ и критерий Вальда для их проверки. Оцените реальный уровень значимости критерия для $n = 50$.\n"
   ]
  },
  {
   "cell_type": "code",
   "execution_count": 261,
   "metadata": {},
   "outputs": [],
   "source": [
    "# Ваш код:"
   ]
  }
 ],
 "metadata": {
  "celltoolbar": "Slideshow",
  "kernelspec": {
   "display_name": "ml",
   "language": "python",
   "name": "python3"
  },
  "language_info": {
   "codemirror_mode": {
    "name": "ipython",
    "version": 3
   },
   "file_extension": ".py",
   "mimetype": "text/x-python",
   "name": "python",
   "nbconvert_exporter": "python",
   "pygments_lexer": "ipython3",
   "version": "3.12.8"
  }
 },
 "nbformat": 4,
 "nbformat_minor": 4
}
