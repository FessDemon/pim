{
 "cells": [
  {
   "cell_type": "code",
   "execution_count": 1,
   "id": "9398706e",
   "metadata": {},
   "outputs": [],
   "source": [
    "import numpy as np\n",
    "import scipy.stats as st"
   ]
  },
  {
   "cell_type": "code",
   "execution_count": 5,
   "id": "eabdbadf",
   "metadata": {},
   "outputs": [
    {
     "data": {
      "text/plain": [
       "np.float64(0.011147829812680143)"
      ]
     },
     "execution_count": 5,
     "metadata": {},
     "output_type": "execute_result"
    }
   ],
   "source": [
    "t = 2.75\n",
    "\n",
    "2*(1-st.t(24).cdf(t))"
   ]
  },
  {
   "cell_type": "code",
   "execution_count": 6,
   "id": "8e9bb7e9",
   "metadata": {},
   "outputs": [
    {
     "data": {
      "text/plain": [
       "np.float64(0.9944260850936599)"
      ]
     },
     "execution_count": 6,
     "metadata": {},
     "output_type": "execute_result"
    }
   ],
   "source": [
    "st.t(24).cdf(t)"
   ]
  },
  {
   "cell_type": "code",
   "execution_count": 7,
   "id": "1c027b0d",
   "metadata": {},
   "outputs": [
    {
     "data": {
      "text/plain": [
       "0.005600000000000049"
      ]
     },
     "execution_count": 7,
     "metadata": {},
     "output_type": "execute_result"
    }
   ],
   "source": [
    "1-0.9944"
   ]
  },
  {
   "cell_type": "code",
   "execution_count": null,
   "id": "43e841b3",
   "metadata": {},
   "outputs": [
    {
     "data": {
      "text/plain": [
       "<bound method rv_frozen.ppf of <scipy.stats._distn_infrastructure.rv_continuous_frozen object at 0x7206b7bb2150>>"
      ]
     },
     "execution_count": 10,
     "metadata": {},
     "output_type": "execute_result"
    }
   ],
   "source": [
    "st.t(24).ppf(q=0)"
   ]
  },
  {
   "cell_type": "code",
   "execution_count": 14,
   "id": "90fb9358",
   "metadata": {},
   "outputs": [
    {
     "data": {
      "text/plain": [
       "np.float64(0.1269926700663444)"
      ]
     },
     "execution_count": 14,
     "metadata": {},
     "output_type": "execute_result"
    }
   ],
   "source": [
    "(1-st.chi2(24).cdf(32))"
   ]
  },
  {
   "cell_type": "code",
   "execution_count": null,
   "id": "f5844e12",
   "metadata": {},
   "outputs": [],
   "source": [
    "24*12/9=32"
   ]
  },
  {
   "cell_type": "code",
   "execution_count": 14,
   "id": "9eb95710",
   "metadata": {},
   "outputs": [
    {
     "data": {
      "text/plain": [
       "np.float64(0.0546875)"
      ]
     },
     "execution_count": 14,
     "metadata": {},
     "output_type": "execute_result"
    }
   ],
   "source": [
    "st.binom(10,1/2).cdf(2)"
   ]
  },
  {
   "cell_type": "code",
   "execution_count": 11,
   "id": "d3f13b51",
   "metadata": {},
   "outputs": [
    {
     "data": {
      "text/plain": [
       "0.91015625"
      ]
     },
     "execution_count": 11,
     "metadata": {},
     "output_type": "execute_result"
    }
   ],
   "source": [
    "1-(1+9+36)/(2**9)"
   ]
  },
  {
   "cell_type": "code",
   "execution_count": 13,
   "id": "1e2bf073",
   "metadata": {},
   "outputs": [
    {
     "data": {
      "text/plain": [
       "np.float64(0.9453125)"
      ]
     },
     "execution_count": 13,
     "metadata": {},
     "output_type": "execute_result"
    }
   ],
   "source": [
    "1-st.binom(10,1/2).cdf(2)"
   ]
  }
 ],
 "metadata": {
  "kernelspec": {
   "display_name": "ml",
   "language": "python",
   "name": "python3"
  },
  "language_info": {
   "codemirror_mode": {
    "name": "ipython",
    "version": 3
   },
   "file_extension": ".py",
   "mimetype": "text/x-python",
   "name": "python",
   "nbconvert_exporter": "python",
   "pygments_lexer": "ipython3",
   "version": "3.12.8"
  }
 },
 "nbformat": 4,
 "nbformat_minor": 5
}
