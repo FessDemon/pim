{
 "cells": [
  {
   "cell_type": "markdown",
   "metadata": {},
   "source": [
    "# Лабораторная работа 2. Обучение нейронной сети"
   ]
  },
  {
   "cell_type": "code",
   "execution_count": null,
   "metadata": {},
   "outputs": [],
   "source": [
    "import torch\n",
    "import numpy as np\n",
    "import matplotlib.pyplot as plt\n",
    "from torch import nn"
   ]
  },
  {
   "cell_type": "code",
   "execution_count": null,
   "metadata": {},
   "outputs": [],
   "source": [
    "torch.manual_seed(43)"
   ]
  },
  {
   "cell_type": "markdown",
   "metadata": {},
   "source": [
    "Сгенерируем обучающие и валидационные данные для экспериментов."
   ]
  },
  {
   "cell_type": "code",
   "execution_count": null,
   "metadata": {},
   "outputs": [],
   "source": [
    "n_samples = 1000\n",
    "half = int(n_samples / 2)\n",
    "     \n",
    "x_class0 = np.random.normal(size=[half, 2]) + [-1, -1]\n",
    "y_class0 = np.zeros((half, 1))\n",
    "x_class1 = np.random.normal(size=[half, 2]) + [1, 1]\n",
    "y_class1 = np.ones((half, 1))\n",
    "\n",
    "train_half = int(0.8*half)\n",
    "train_X = np.vstack([x_class0[:train_half], x_class1[:train_half]])\n",
    "train_y = np.vstack([y_class0[:train_half], y_class1[:train_half]])\n",
    "val_X = np.vstack([x_class0[train_half:], x_class1[train_half:]])\n",
    "val_y = np.vstack([y_class0[train_half:], y_class1[train_half:]])\n",
    "\n",
    "train_X = train_X.astype(np.float32)\n",
    "train_y = train_y.astype(np.float32)\n",
    "val_X = val_X.astype(np.float32)\n",
    "val_y = val_y.astype(np.float32)\n",
    "\n",
    "plt.scatter(train_X[:,0], train_X[:,1], c=train_y, cmap='winter', alpha=0.2)\n",
    "plt.scatter(val_X[:,0], val_X[:,1], c=val_y, cmap='winter', alpha=0.8)"
   ]
  },
  {
   "cell_type": "markdown",
   "metadata": {},
   "source": [
    "Преобразуем данные из `numpy.ndarray` в `torch.Tensor`."
   ]
  },
  {
   "cell_type": "code",
   "execution_count": null,
   "metadata": {},
   "outputs": [],
   "source": [
    "f = lambda x: torch.from_numpy(x)\n",
    "\n",
    "train_X = f(train_X)\n",
    "train_y = f(train_y)\n",
    "val_X = f(val_X)\n",
    "val_y = f(val_y)"
   ]
  },
  {
   "cell_type": "markdown",
   "metadata": {},
   "source": [
    "## Задание 1\n",
    "Создайте класс нейронной сети состоящей из входного линейного слоя, функции активации `nn.ReLu()`, скрытого слоя и функции `nn.Sigmoid()`. Предусмотрите возможность задавать количество нейронов скрытого слоя через аргумент в конструкторе класса (по умолчанию скрытый слой будет состоять из 2-ух нейронов).\n",
    "\n",
    "Инициализируйте нейронную сеть по умолчанию. Вычислите `accuracy` предсказания на валидационной подвыборке сгенерированных данных.\n",
    "\n",
    "Обучите нейронную сеть на обучающей подвыборке сгенерированных данных и проверьте точность на валидационной подвыборке при следующих значениях гиперпараметров:\n",
    "* скорость обучения `0.1`,\n",
    "* оптимизатор `torch.optim.SGD`,\n",
    "* количество эпох `10`.\n",
    "\n",
    "Вычислите `accuracy` предсказания на валидационной подвыборке сгенерированных данных от обученной нейронной сети.\n",
    "\n",
    "Ответьте письмено на следующие вопросы:\n",
    "1. Какой количество нейронов в созданной нейронной сети?\n",
    "2. Какой количество параметров (весов) в созданной нейронной сети?\n",
    "3. Что предсказывает созданной нейронная сеть?\n",
    "4. Что следует изменить в архитектуре созданной нейронной сети в случае решения задачи многоклассовой классификации?"
   ]
  },
  {
   "cell_type": "markdown",
   "metadata": {},
   "source": [
    "## Задание 2\n",
    "Добавьте вывод точности на валиадационной подвыборке в конце каждой эпохи обучения.\n",
    "\n",
    "Проведите следующие эксперименты:\n",
    "* Исследуйте `train_loss`, `val_loss` и `accuracy` в процессе обучения нейронной сети при разной `скорости обучения` (0.1, 0.01, 0.001, 0.0001). Визуализируйте результаты и сделайте выводы.\n",
    "* Исследуйте `train_loss`, `val_loss` и `accuracy` в процессе обучения нейронной сети при разном `количестве нейронов в скрытом слое` (2, 20, 200). Визуализируйте результаты и сделайте выводы."
   ]
  },
  {
   "cell_type": "markdown",
   "metadata": {},
   "source": [
    "## Задание 3\n",
    "Сгенерируйте новые данные из (код приведён ниже). В чем заключается отличие новых данных от данных из предыдущих заданий? Повторите эксперименты из задания 2 для новых данных."
   ]
  },
  {
   "cell_type": "code",
   "execution_count": null,
   "metadata": {},
   "outputs": [],
   "source": [
    "from sklearn.model_selection import train_test_split\n",
    "from sklearn.datasets import make_moons"
   ]
  },
  {
   "cell_type": "code",
   "execution_count": null,
   "metadata": {},
   "outputs": [],
   "source": [
    "data, labels = make_moons(n_samples=1000, noise=0.1, random_state=42)\n",
    "\n",
    "train_X, val_X, train_y, val_y = train_test_split(data, labels.reshape(-1,1), test_size=0.2, stratify=labels, random_state=43)\n",
    "\n",
    "train_X = train_X.astype(np.float32)\n",
    "train_y = train_y.astype(np.float32)\n",
    "val_X = val_X.astype(np.float32)\n",
    "val_y = val_y.astype(np.float32)\n",
    "\n",
    "plt.scatter(train_X[:,0], train_X[:,1], c=train_y, cmap='winter', alpha=0.2)\n",
    "plt.scatter(val_X[:,0], val_X[:,1], c=val_y, cmap='winter', alpha=0.8)"
   ]
  },
  {
   "cell_type": "code",
   "execution_count": null,
   "metadata": {},
   "outputs": [],
   "source": [
    "f = lambda x: torch.from_numpy(x)\n",
    "\n",
    "train_X = f(train_X)\n",
    "train_y = f(train_y)\n",
    "val_X = f(val_X)\n",
    "val_y = f(val_y)"
   ]
  }
 ],
 "metadata": {
  "kernelspec": {
   "display_name": "ta_env",
   "language": "python",
   "name": "python3"
  },
  "language_info": {
   "codemirror_mode": {
    "name": "ipython",
    "version": 3
   },
   "file_extension": ".py",
   "mimetype": "text/x-python",
   "name": "python",
   "nbconvert_exporter": "python",
   "pygments_lexer": "ipython3",
   "version": "3.13.2"
  }
 },
 "nbformat": 4,
 "nbformat_minor": 4
}
