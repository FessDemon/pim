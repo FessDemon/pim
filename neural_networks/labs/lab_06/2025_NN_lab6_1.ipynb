{
 "cells": [
  {
   "cell_type": "markdown",
   "metadata": {
    "id": "S_yyp1HCLy8h"
   },
   "source": [
    "# Лабораторная работа 6. Рекуррентные сети"
   ]
  },
  {
   "cell_type": "markdown",
   "metadata": {
    "id": "Mr3Ep4ctLy8j"
   },
   "source": [
    "В работе демонстрируется построение рекуррентной нейронной сети для посимвольной генерации текста.  \n",
    "\n",
    "Полезные ссылки:\n",
    "- [Andrej Karpathy – The Unreasonable Effectiveness of Recurrent Neural Networks](http://karpathy.github.io/2015/05/21/rnn-effectiveness)\n",
    "- [Practical PyTorch: Generating Shakespeare with a Character-Level RNN](https://github.com/spro/practical-pytorch/blob/master/char-rnn-generation/char-rnn-generation.ipynb)\n",
    "- [С. Николенко и др., 2018] – параграф 6.6."
   ]
  },
  {
   "cell_type": "code",
   "execution_count": null,
   "metadata": {
    "executionInfo": {
     "elapsed": 53,
     "status": "ok",
     "timestamp": 1749682065619,
     "user": {
      "displayName": "Elena V. Razova",
      "userId": "14939859328445060819"
     },
     "user_tz": -180
    },
    "id": "ELFb6j31Ly8j"
   },
   "outputs": [],
   "source": [
    "import torch\n",
    "import torch.nn as nn\n",
    "import random\n",
    "import time\n",
    "import math\n",
    "import matplotlib.pyplot as plt\n",
    "\n",
    "# отключение предупреждений\n",
    "import warnings\n",
    "warnings.filterwarnings('ignore')"
   ]
  },
  {
   "cell_type": "markdown",
   "metadata": {
    "id": "21a5Jge3Ly8k"
   },
   "source": [
    "Задаем параметры:"
   ]
  },
  {
   "cell_type": "code",
   "execution_count": 2,
   "metadata": {
    "executionInfo": {
     "elapsed": 2,
     "status": "ok",
     "timestamp": 1749682065623,
     "user": {
      "displayName": "Elena V. Razova",
      "userId": "14939859328445060819"
     },
     "user_tz": -180
    },
    "id": "BLDAGFrfLy8k"
   },
   "outputs": [],
   "source": [
    "filename = 'onegin.txt'  # Входной файл с текстом\n",
    "\n",
    "seq_len = 200            # Размер последовательности для одной эпохи\n",
    "batch_size_train = 1     # Размер батча для обучения\n",
    "batch_size_test = 1      # Размер батча для предсказания (в данном случае всегда 1)\n",
    "hidden_size = 100        # Размер скрытого состояния\n",
    "embedding_size = 100     # Размер векторов-эмбеддингов для представления символов\n",
    "num_layers = 1           # Количество слоев\n",
    "lr = 0.005               # Скорость обучения\n",
    "n_epochs = 1000          # Количество эпох\n",
    "print_every = 100        # Интервал эпох для вывода результатов\n",
    "plot_every = 10          # Интервал эпох для вывода потерь\n",
    "predict_len = 100        # Количество символов для генерации"
   ]
  },
  {
   "cell_type": "markdown",
   "metadata": {
    "id": "SL0sa9s6Ly8l"
   },
   "source": [
    "*Замечание*. Понятие \"эпоха\" обозначает период обработки всего обучающего множества. Но в контексте рекуррентных сетей это понятие может иметь значение, отличающееся от обычного, поскольку часто датасет бывает жестко не определен (например, из одного текста мы можем генерировать бесконечное количество последовательностей).  \n",
    "Поэтому в данной лабораторной работе понятие \"эпоха\" обозначает период обработки всей последовательности размером `seq_len`."
   ]
  },
  {
   "cell_type": "markdown",
   "metadata": {
    "id": "CXk8wFByLy8l"
   },
   "source": [
    "Обеспечиваем воспроизводимость результатов (https://pytorch.org/docs/stable/notes/randomness.html):"
   ]
  },
  {
   "cell_type": "code",
   "execution_count": 3,
   "metadata": {
    "colab": {
     "base_uri": "https://localhost:8080/"
    },
    "executionInfo": {
     "elapsed": 10,
     "status": "ok",
     "timestamp": 1749682065635,
     "user": {
      "displayName": "Elena V. Razova",
      "userId": "14939859328445060819"
     },
     "user_tz": -180
    },
    "id": "xgA3FKi5Ly8l",
    "outputId": "f74b67bf-e364-43e0-9ae2-441fa84bfa9e"
   },
   "outputs": [
    {
     "data": {
      "text/plain": [
       "<torch._C.Generator at 0x7ff954000830>"
      ]
     },
     "execution_count": 3,
     "metadata": {},
     "output_type": "execute_result"
    }
   ],
   "source": [
    "torch.manual_seed(0)"
   ]
  },
  {
   "cell_type": "markdown",
   "metadata": {
    "id": "LppPIBLfLy8m"
   },
   "source": [
    "---\n",
    "Подготовьте входной текстовый файл. Можно взять ваше любимое художественное произведение.  \n",
    "Здесь в качестве примера используется \"Евгений Онегин\"."
   ]
  },
  {
   "cell_type": "code",
   "execution_count": 4,
   "metadata": {
    "colab": {
     "base_uri": "https://localhost:8080/"
    },
    "executionInfo": {
     "elapsed": 12,
     "status": "ok",
     "timestamp": 1749682065649,
     "user": {
      "displayName": "Elena V. Razova",
      "userId": "14939859328445060819"
     },
     "user_tz": -180
    },
    "id": "Gkr_5buoLy8m",
    "outputId": "0950a11f-27d9-4744-cab4-5836cd8fa15a"
   },
   "outputs": [
    {
     "name": "stdout",
     "output_type": "stream",
     "text": [
      "Длина текста: 144313 символов\n",
      "\n",
      "Первые 200 строк:\n",
      "\n",
      "ЕВГЕНИЙ ОНЕГИН\n",
      "\n",
      "РОМАН В СТИХАХ\n",
      "\n",
      "Petri  de  vanite  il  avait  encore plus de cette espece d'orgueil qui fait\n",
      "avouer  avec  la  meme  indifference les bonnes comme les mauvaises actions,\n",
      "suite d'un sen\n"
     ]
    }
   ],
   "source": [
    "with open(filename, encoding='utf-8') as f:\n",
    "    data = f.read()\n",
    "print(f'Длина текста: {len(data)} символов')\n",
    "print(f'\\nПервые {seq_len} строк:\\n\\n{data[:seq_len]}')"
   ]
  },
  {
   "cell_type": "markdown",
   "metadata": {
    "id": "nRtRlilcLy8m"
   },
   "source": [
    "---\n",
    "Переводим текст в нижний регистр и создаем словарь всех символов:"
   ]
  },
  {
   "cell_type": "code",
   "execution_count": 5,
   "metadata": {
    "colab": {
     "base_uri": "https://localhost:8080/"
    },
    "executionInfo": {
     "elapsed": 15,
     "status": "ok",
     "timestamp": 1749682065666,
     "user": {
      "displayName": "Elena V. Razova",
      "userId": "14939859328445060819"
     },
     "user_tz": -180
    },
    "id": "zkc_VEgrLy8m",
    "outputId": "b5a77fba-ec74-4fd3-dbef-670d237273be"
   },
   "outputs": [
    {
     "name": "stdout",
     "output_type": "stream",
     "text": [
      "Размер словаря: 82\n",
      "['\\n', ' ', '!', '\"', \"'\", '(', ')', ',', '-', '.', '0', '1', '2', '3', '4', '5', '6', '7', '8', '9', ':', ';', '?', 'a', 'b', 'c', 'd', 'e', 'f', 'g', 'h', 'i', 'k', 'l', 'm', 'n', 'o', 'p', 'q', 'r', 's', 't', 'u', 'v', 'w', 'x', 'y', 'z', '{', '}', 'а', 'б', 'в', 'г', 'д', 'е', 'ж', 'з', 'и', 'й', 'к', 'л', 'м', 'н', 'о', 'п', 'р', 'с', 'т', 'у', 'ф', 'х', 'ц', 'ч', 'ш', 'щ', 'ъ', 'ы', 'ь', 'э', 'ю', 'я']\n"
     ]
    }
   ],
   "source": [
    "data = data.lower()\n",
    "\n",
    "vocabulary = set(data)\n",
    "vocabulary = sorted(vocabulary)\n",
    "print(f'Размер словаря: {len(vocabulary)}')\n",
    "print(vocabulary)"
   ]
  },
  {
   "cell_type": "markdown",
   "metadata": {
    "id": "DeLSwemHLy8m"
   },
   "source": [
    "---\n",
    "Подготовим функцию для генерации случайных последовательностей длиной `seq_len+1` из входного текста.  \n",
    "Единица прибавляется, так как в дальнейшем мы будем из этой сгенерированной последовательности получать две:\n",
    "- *обучающую*, без последнего символа,\n",
    "- *предсказываемую*, без первого символа.  \n",
    "\n",
    "Таким образом, предсказываемая последовательность будет как бы сдвинута относительно обучающей на единицу вправо и каждый символ предсказываемой последовательности будет являться следующим символом для соответствующего обучающего символа.  \n",
    "Обе последовательности будут на единицу меньше исходной последовательности."
   ]
  },
  {
   "cell_type": "code",
   "execution_count": 6,
   "metadata": {
    "colab": {
     "base_uri": "https://localhost:8080/"
    },
    "executionInfo": {
     "elapsed": 13,
     "status": "ok",
     "timestamp": 1749682065681,
     "user": {
      "displayName": "Elena V. Razova",
      "userId": "14939859328445060819"
     },
     "user_tz": -180
    },
    "id": "WEEm2tkZLy8n",
    "outputId": "230e072d-f0d8-4f34-bf56-dbcc4307b84c"
   },
   "outputs": [
    {
     "name": "stdout",
     "output_type": "stream",
     "text": [
      "length = 201\n",
      "\n",
      "ых угрызений,\n",
      "рукою стиснув пистолет,\n",
      "глядит на ленского евгений.\n",
      "\"ну, что ж? убит\", - решил сосед.\n",
      "убит!.. сим страшным восклицаньем\n",
      "сражен, онегин с содроганьем\n",
      "отходит и людей зовет.\n",
      "зарецкий бережн\n"
     ]
    }
   ],
   "source": [
    "def random_sequence(data, seq_len):\n",
    "    start_index = random.randint(0, len(data) - seq_len - 1)\n",
    "    end_index = start_index + seq_len + 1\n",
    "    return data[start_index:end_index]\n",
    "\n",
    "sequence = random_sequence(data, seq_len)\n",
    "print(f'length = {len(sequence)}\\n\\n{sequence}')"
   ]
  },
  {
   "cell_type": "markdown",
   "metadata": {
    "id": "AXp7mkUNLy8n"
   },
   "source": [
    "---\n",
    "Задаем модель:"
   ]
  },
  {
   "cell_type": "code",
   "execution_count": 7,
   "metadata": {
    "executionInfo": {
     "elapsed": 3,
     "status": "ok",
     "timestamp": 1749682065737,
     "user": {
      "displayName": "Elena V. Razova",
      "userId": "14939859328445060819"
     },
     "user_tz": -180
    },
    "id": "58VkTptoLy8n"
   },
   "outputs": [],
   "source": [
    "class RNN(nn.Module):\n",
    "    def __init__(self, input_size, embedding_size, hidden_size, output_size, num_layers=1):\n",
    "\n",
    "        super(RNN, self).__init__()\n",
    "\n",
    "        self.hidden_size = hidden_size\n",
    "        self.num_layers = num_layers\n",
    "\n",
    "        self.embedding = nn.Embedding(num_embeddings=input_size, embedding_dim=embedding_size)\n",
    "        self.rnn = nn.RNN(input_size=embedding_size, hidden_size=hidden_size, num_layers=num_layers)\n",
    "        self.decoder = nn.Linear(in_features=hidden_size, out_features=output_size)\n",
    "\n",
    "    def forward(self, input, hidden):\n",
    "        # На вход поступает двумерный тензор индексов символов размерности (seq_len, batch_size)\n",
    "        embeddings = self.embedding(input)\n",
    "\n",
    "        # После слоя Embedding добавляется ещё одна размерность (векторов-эмбеддингов для индексов символов).\n",
    "        # Итоговая размерность входа для RNN будет (seq_len, batch_size, embedding_size)\n",
    "        output, hidden = self.rnn(embeddings, hidden)\n",
    "\n",
    "        # Преобразуем скрытое состояние RNN для каждого символа в вероятности следующего символа.\n",
    "        output = self.decoder(output)\n",
    "\n",
    "        # Размерность выхода: (seq_len, batch_size, output_size=len(vocabulary))\n",
    "        return output, hidden\n",
    "\n",
    "    def init_hidden(self, batch_size):\n",
    "        # Должна быть размерность (num_layers * num_directions, batch_size, hidden_size)\n",
    "        return torch.zeros(self.num_layers, batch_size, self.hidden_size)"
   ]
  },
  {
   "cell_type": "markdown",
   "metadata": {
    "id": "h8AAybr6Ly8n"
   },
   "source": [
    "Класс `Embedding` используется для формирования векторного представления каких-либо элементов (символов, слов, изображений, звуков и т.п.). Он представляет собой таблицу поиска (lookup table), на вход которой поступают индексы элементов, а на выходе выдаются векторные представления этих элементов ([справка PyTorch](https://pytorch.org/docs/stable/generated/torch.nn.Embedding.html)).  \n",
    "Слой `Embedding` имеет свою матрицу весов, которые настраиваются в процессе обучения. Веса инициализируются из нормального распределения $N(0,1)$.  \n",
    "После обучения слой `Embedding` будет содержать веса, в каком-то смысле \"хорошо\" представляющие входные элементы для текущей задачи.  \n",
    "Данный слой при создании требует двух основных параметров:\n",
    "- `num_embeddings` – размер словаря элементов (общее количество элементов, которые мы хотим закодировать);\n",
    "- `embedding_dim` – размерность выходных векторов.  \n",
    "\n",
    "Слой `Embedding` является, по сути, аналогом обычного слоя `Linear`, но `Linear` на входе ожидает вектор (например, *one-hot encoding* представление элементов), а на входе `Embedding` – тензоры любой размерности, содержащие просто индексы элементов, для которых необходимо получить векторное представление:"
   ]
  },
  {
   "cell_type": "code",
   "execution_count": 8,
   "metadata": {
    "colab": {
     "base_uri": "https://localhost:8080/"
    },
    "executionInfo": {
     "elapsed": 88,
     "status": "ok",
     "timestamp": 1749682065827,
     "user": {
      "displayName": "Elena V. Razova",
      "userId": "14939859328445060819"
     },
     "user_tz": -180
    },
    "id": "PFEQsyo7Ly8o",
    "outputId": "fd9ccfb8-51e5-496a-9a7d-727a90b53178"
   },
   "outputs": [
    {
     "name": "stdout",
     "output_type": "stream",
     "text": [
      "embedding.weight:\n",
      "tensor([[-1.1258, -1.1524, -0.2506],\n",
      "        [-0.4339,  0.8487,  0.6920],\n",
      "        [-0.3160, -2.1152,  0.3223],\n",
      "        [-1.2633,  0.3500,  0.3081],\n",
      "        [ 0.1198,  1.2377, -0.1435],\n",
      "        [-0.1116, -0.6136,  0.0316],\n",
      "        [-0.4927,  0.2484,  0.4397],\n",
      "        [ 0.1124, -0.8411, -2.3160],\n",
      "        [-0.1023,  0.7924, -0.2897],\n",
      "        [ 0.0525,  0.5229,  2.3022]])\n",
      "\n",
      "Вектор для элемента с индексом 5:\n",
      "tensor([-0.1116, -0.6136,  0.0316])\n",
      "\n",
      "Векторы для массива индексов:\n",
      "tensor([[[-0.4339,  0.8487,  0.6920],\n",
      "         [-0.3160, -2.1152,  0.3223]],\n",
      "\n",
      "        [[ 0.1198,  1.2377, -0.1435],\n",
      "         [-0.1116, -0.6136,  0.0316]]])\n"
     ]
    }
   ],
   "source": [
    "# Пример\n",
    "embedding = nn.Embedding(num_embeddings=10, embedding_dim=3)\n",
    "print(f'embedding.weight:\\n{embedding.weight.data}')\n",
    "\n",
    "i = torch.tensor(5)\n",
    "print(f'\\nВектор для элемента с индексом {i}:\\n{embedding(i).data}')\n",
    "\n",
    "array = torch.tensor([[1, 2], [4, 5]])\n",
    "print(f'\\nВекторы для массива индексов:\\n{embedding(array).data}')"
   ]
  },
  {
   "cell_type": "markdown",
   "metadata": {
    "id": "02ckftPkLy8o"
   },
   "source": [
    "---\n",
    "В итоге, модель будет выглядеть следующим образом:  \n",
    "\n",
    "![image.png](attachment:ab07bd44-12b6-44d5-9465-d8e3e64d1899.png)"
   ]
  },
  {
   "cell_type": "markdown",
   "metadata": {
    "id": "HhDwxwqkLy8o"
   },
   "source": [
    "---\n",
    "Функция, которая по входной строке возвращает список индексов из словаря `vocabulary`:"
   ]
  },
  {
   "cell_type": "code",
   "execution_count": 9,
   "metadata": {
    "colab": {
     "base_uri": "https://localhost:8080/"
    },
    "executionInfo": {
     "elapsed": 15,
     "status": "ok",
     "timestamp": 1749682065846,
     "user": {
      "displayName": "Elena V. Razova",
      "userId": "14939859328445060819"
     },
     "user_tz": -180
    },
    "id": "jV9LZpOyLy8o",
    "outputId": "e254bbd3-dcd1-42fd-93ad-668af90bb98b"
   },
   "outputs": [
    {
     "name": "stdout",
     "output_type": "stream",
     "text": [
      "tensor([64, 63, 55, 53, 58, 63])\n"
     ]
    }
   ],
   "source": [
    "def char_to_tensor(string, vocabulary):\n",
    "    tensor = torch.zeros(len(string)).long()\n",
    "    for c in range(len(string)):\n",
    "        tensor[c] = vocabulary.index(string[c])\n",
    "    return tensor\n",
    "\n",
    "indices = char_to_tensor('онегин', vocabulary)\n",
    "print(indices)"
   ]
  },
  {
   "cell_type": "markdown",
   "metadata": {
    "id": "WceJVDFZLy8p"
   },
   "source": [
    "Напишем также функцию для обратного преобразования из списка индексов в строку:"
   ]
  },
  {
   "cell_type": "code",
   "execution_count": 10,
   "metadata": {
    "colab": {
     "base_uri": "https://localhost:8080/"
    },
    "executionInfo": {
     "elapsed": 14,
     "status": "ok",
     "timestamp": 1749682065862,
     "user": {
      "displayName": "Elena V. Razova",
      "userId": "14939859328445060819"
     },
     "user_tz": -180
    },
    "id": "1UkWIETmLy8p",
    "outputId": "07d7969e-2ed4-4d8d-f97a-b90d16fa056c"
   },
   "outputs": [
    {
     "name": "stdout",
     "output_type": "stream",
     "text": [
      "онегин\n"
     ]
    }
   ],
   "source": [
    "def tensor_to_char(tensor, vocabulary):\n",
    "    s = ''\n",
    "    for t in tensor:\n",
    "        s += vocabulary[int(t)]\n",
    "    return s\n",
    "\n",
    "print(tensor_to_char(indices, vocabulary))"
   ]
  },
  {
   "cell_type": "markdown",
   "metadata": {
    "id": "jmqeuZRBLy8p"
   },
   "source": [
    "---\n",
    "Напишем функцию для генерации пары (входная последовательность, выходная последовательность).  \n",
    "В качестве входной (обучающей) последовательности выступает случайная строка без последнего символа;  \n",
    "выходная последовательность – та же строка без первого символа.  \n",
    "Таким образом, каждому элементу входной последовательности (символу) соответствует элемент выходной последовательности (символ), который является следующим символом в строке.  \n",
    "Выходная последовательность является целевой переменной, именно её сеть будет пытаться предсказать.  \n",
    "Размер каждой последовательности – `seq_len`."
   ]
  },
  {
   "cell_type": "code",
   "execution_count": 11,
   "metadata": {
    "executionInfo": {
     "elapsed": 2,
     "status": "ok",
     "timestamp": 1749682065866,
     "user": {
      "displayName": "Elena V. Razova",
      "userId": "14939859328445060819"
     },
     "user_tz": -180
    },
    "id": "YJh9cVwmLy8p"
   },
   "outputs": [],
   "source": [
    "def random_training_set(data, seq_len, vocabulary):\n",
    "    sequence = random_sequence(data, seq_len)\n",
    "    input = char_to_tensor(sequence[:-1], vocabulary)\n",
    "    target = char_to_tensor(sequence[1:], vocabulary)\n",
    "    return input, target"
   ]
  },
  {
   "cell_type": "code",
   "execution_count": 12,
   "metadata": {
    "colab": {
     "base_uri": "https://localhost:8080/"
    },
    "executionInfo": {
     "elapsed": 74,
     "status": "ok",
     "timestamp": 1749682065941,
     "user": {
      "displayName": "Elena V. Razova",
      "userId": "14939859328445060819"
     },
     "user_tz": -180
    },
    "id": "8cx3fzqtLy8p",
    "outputId": "ebfff0d8-6b25-4e76-8248-62201f31bbae"
   },
   "outputs": [
    {
     "name": "stdout",
     "output_type": "stream",
     "text": [
      "********** input (200)**********\n",
      "\n",
      "tensor([51, 55, 67, 58, 68, 78,  1, 64, 65, 61, 64, 74, 63, 64, 53, 64,  1, 52,\n",
      "        66, 50, 53, 50, 21,  0, 65, 66, 58, 81, 68, 63, 64,  1, 57, 66, 55, 68,\n",
      "        78,  7,  1, 60, 50, 60,  1, 64, 63,  7,  1, 69, 65, 66, 81, 62, 64,  0,\n",
      "        67, 60, 61, 64, 63, 58, 52,  1, 51, 64, 54, 61, 58, 52, 77, 55,  1, 66,\n",
      "        64, 53, 50,  7,  0, 63, 55, 52, 64, 61, 78, 63, 64,  1, 52,  1, 57, 55,\n",
      "        66, 60, 50, 61, 64,  1, 53, 61, 81, 54, 58, 68, 67, 81,  0, 58,  1, 69,\n",
      "        57, 63, 50, 52, 50, 68, 78,  1, 67, 55, 51, 81,  1, 67, 68, 77, 54, 58,\n",
      "        68, 67, 81, 21,  0, 65, 66, 58, 81, 68, 63, 55, 59,  7,  1, 55, 67, 61,\n",
      "        58,  1, 64, 63,  7,  1, 54, 66, 69, 57, 78, 81,  7,  0, 57, 50, 52, 64,\n",
      "        55, 68,  1, 67, 54, 69, 66, 69, 20,  1, 79, 68, 64,  1, 81,  2,  0, 55,\n",
      "        75, 55,  1, 65, 66, 58, 81, 68, 63, 55, 55,  1, 52,  1, 62, 64, 61, 73,\n",
      "        50, 63])\n",
      "\n",
      "********** target (200) **********\n",
      "tensor([55, 67, 58, 68, 78,  1, 64, 65, 61, 64, 74, 63, 64, 53, 64,  1, 52, 66,\n",
      "        50, 53, 50, 21,  0, 65, 66, 58, 81, 68, 63, 64,  1, 57, 66, 55, 68, 78,\n",
      "         7,  1, 60, 50, 60,  1, 64, 63,  7,  1, 69, 65, 66, 81, 62, 64,  0, 67,\n",
      "        60, 61, 64, 63, 58, 52,  1, 51, 64, 54, 61, 58, 52, 77, 55,  1, 66, 64,\n",
      "        53, 50,  7,  0, 63, 55, 52, 64, 61, 78, 63, 64,  1, 52,  1, 57, 55, 66,\n",
      "        60, 50, 61, 64,  1, 53, 61, 81, 54, 58, 68, 67, 81,  0, 58,  1, 69, 57,\n",
      "        63, 50, 52, 50, 68, 78,  1, 67, 55, 51, 81,  1, 67, 68, 77, 54, 58, 68,\n",
      "        67, 81, 21,  0, 65, 66, 58, 81, 68, 63, 55, 59,  7,  1, 55, 67, 61, 58,\n",
      "         1, 64, 63,  7,  1, 54, 66, 69, 57, 78, 81,  7,  0, 57, 50, 52, 64, 55,\n",
      "        68,  1, 67, 54, 69, 66, 69, 20,  1, 79, 68, 64,  1, 81,  2,  0, 55, 75,\n",
      "        55,  1, 65, 66, 58, 81, 68, 63, 55, 55,  1, 52,  1, 62, 64, 61, 73, 50,\n",
      "        63, 78])\n"
     ]
    }
   ],
   "source": [
    "input, target = random_training_set(data, seq_len, vocabulary)\n",
    "\n",
    "print(f'********** input ({len(input)})**********\\n\\n{input.data}')\n",
    "print(f'\\n********** target ({len(target)}) **********\\n{target.data}')"
   ]
  },
  {
   "cell_type": "markdown",
   "metadata": {
    "id": "TTW7sJ7VLy8q"
   },
   "source": [
    "Преобразуем полученные тензоры в строки:"
   ]
  },
  {
   "cell_type": "code",
   "execution_count": 13,
   "metadata": {
    "colab": {
     "base_uri": "https://localhost:8080/"
    },
    "executionInfo": {
     "elapsed": 64,
     "status": "ok",
     "timestamp": 1749682066007,
     "user": {
      "displayName": "Elena V. Razova",
      "userId": "14939859328445060819"
     },
     "user_tz": -180
    },
    "id": "HvW1wLVgLy8q",
    "outputId": "8cc878ad-2e71-4c57-8f8b-1e911f400223"
   },
   "outputs": [
    {
     "name": "stdout",
     "output_type": "stream",
     "text": [
      "********** input **********\n",
      "\n",
      "бесить оплошного врага;\n",
      "приятно зреть, как он, упрямо\n",
      "склонив бодливые рога,\n",
      "невольно в зеркало глядится\n",
      "и узнавать себя стыдится;\n",
      "приятней, если он, друзья,\n",
      "завоет сдуру: это я!\n",
      "еще приятнее в молчан\n",
      "\n",
      "********** target **********\n",
      "\n",
      "есить оплошного врага;\n",
      "приятно зреть, как он, упрямо\n",
      "склонив бодливые рога,\n",
      "невольно в зеркало глядится\n",
      "и узнавать себя стыдится;\n",
      "приятней, если он, друзья,\n",
      "завоет сдуру: это я!\n",
      "еще приятнее в молчань\n"
     ]
    }
   ],
   "source": [
    "print(f'********** input **********\\n\\n{tensor_to_char(input, vocabulary)}')\n",
    "print(f'\\n********** target **********\\n\\n{tensor_to_char(target, vocabulary)}')"
   ]
  },
  {
   "cell_type": "markdown",
   "metadata": {
    "id": "ENEErFj4Ly8q"
   },
   "source": [
    "---\n",
    "RNN требует на вход трехмерный тензор размерностью: `(seq_len, batch_size, input_size)`:\n",
    "\\\n",
    "\\\n",
    "![image.png](attachment:d01f78ba-de9b-4395-909b-5dde3b9448e1.png)\n",
    "\n",
    "\n",
    "Таким образом, последовательности символов будут располагаться вдоль размерности `seq_len`.\n",
    "\n",
    "Этот трехмерный тензор подается на вход RNN по мини-батчам:\n",
    "\\\n",
    "\\\n",
    "![image.png](attachment:cfc06c53-9465-49a0-9d5f-7e4e5a6425dd.png)\n",
    "\n",
    "Каждый мини-батч обрабатывается в RNN одновременно; при этом формируется столько же скрытых состояний, сколько векторов в мини-батче. Эти скрытые состояния также являются выходами RNN: на каждый вектор мини-батча – свой выходной вектор (он же скрытое состояние).\n",
    "\n",
    "В нашем примере:\n",
    "- `input_size = 1` – на вход подается только индекс текущего символа в словаре, который в слое `Embedding` преобразуется в вектор размерности `embedding_size`;\n",
    "- `batch_size = batch_size_train` – размер мини-батча;\n",
    "- `seq_len = 200` – длина последовательности символов на одном шаге:\n",
    "\\\n",
    "\\\n",
    "![image.png](attachment:8679163a-d1a4-45ef-aeb3-d0ba39cc1475.png)"
   ]
  },
  {
   "cell_type": "markdown",
   "metadata": {
    "id": "7iZKwYOqLy8q"
   },
   "source": [
    "---\n",
    "Зададим функцию обучения для одной эпохи – это процедура обработки в RNN всех мини-батчей, входящих в последовательность размером `seq_len`. Каждый мини-батч включает всего один индекс символа в словаре.  \n",
    "\n",
    "Инициализация (обнуление) скрытого состояния происходит в начале каждого шага. Существует две стратегии инициализации скрытого состояния:\n",
    "1. Если обрабатываются продолжительные непрерывные входные данные (например, \"Война и мир\"), разбитые на последовательности, и последовательность на текущем шаге является продолжением последовательности на предыдущем шаге, то скрытые состояния можно передавать с предыдущей эпохи (после обработки всей последовательности).\n",
    "1. Если датасет состоит из отдельных последовательностей, не связанных между собой (например, твитов), то скрытое состояние желательно обнулять перед каждой эпохой.  \n",
    "\n",
    "В нашем примере последовательности для каждой эпохи формируются независимо друг от друга, поэтому скрытые состояния обнуляются."
   ]
  },
  {
   "cell_type": "code",
   "execution_count": 14,
   "metadata": {
    "executionInfo": {
     "elapsed": 4,
     "status": "ok",
     "timestamp": 1749682066010,
     "user": {
      "displayName": "Elena V. Razova",
      "userId": "14939859328445060819"
     },
     "user_tz": -180
    },
    "id": "lugPH581Ly8q"
   },
   "outputs": [],
   "source": [
    "def train(input, target, batch_size):\n",
    "    '''\n",
    "    input - тензор размерности (seq_len, batch_size). Тензор содержит индексы символов.\n",
    "    target - истинная последовательность индексов следующих символов (целевая переменная); размерность (seq_len, batch_size)\n",
    "    '''\n",
    "\n",
    "    # Инициализируем скрытое состояние\n",
    "    hidden = rnn.init_hidden(batch_size=batch_size)\n",
    "\n",
    "    rnn.zero_grad()\n",
    "    loss = 0\n",
    "\n",
    "    outputs, hidden = rnn(input, hidden)\n",
    "\n",
    "    # Преобразуем размерности для вычисления функции потерь\n",
    "    outputs = outputs.view(seq_len * batch_size, -1)\n",
    "    target = target.view(seq_len * batch_size)\n",
    "\n",
    "    loss = criterion(outputs, target)\n",
    "\n",
    "    loss.backward()\n",
    "    rnn_optimizer.step()\n",
    "\n",
    "    return loss.data / len(input)"
   ]
  },
  {
   "cell_type": "markdown",
   "metadata": {
    "id": "Ev7eFA2FLy8r"
   },
   "source": [
    "---\n",
    "Операция `view` в PyTorch создает новый тензор как \"представление\" существущего тензора: сами данные никуда не копируются, но размерность данных меняется. Таким образом, экономятся память и время."
   ]
  },
  {
   "cell_type": "code",
   "execution_count": 15,
   "metadata": {
    "colab": {
     "base_uri": "https://localhost:8080/"
    },
    "executionInfo": {
     "elapsed": 16,
     "status": "ok",
     "timestamp": 1749682066040,
     "user": {
      "displayName": "Elena V. Razova",
      "userId": "14939859328445060819"
     },
     "user_tz": -180
    },
    "id": "a_gb4flPLy8r",
    "outputId": "8ed6f5c8-09ff-4ed5-f541-f0abcf5e1aa0"
   },
   "outputs": [
    {
     "name": "stdout",
     "output_type": "stream",
     "text": [
      "Исходный тензор:\n",
      "tensor([[0.8155, 0.7932],\n",
      "        [0.2783, 0.4820]])\n",
      "\n",
      "Тензор-представление (view):\n",
      "tensor([[0.8155, 0.7932, 0.2783, 0.4820]])\n",
      "\n",
      "Данные совпадают? - True\n",
      "\n",
      "Исходный тензор:\n",
      "tensor([[0.8155, 1.0000],\n",
      "        [0.2783, 0.4820]])\n",
      "\n",
      "Одномерный тензор:\n",
      "tensor([0.8155, 1.0000, 0.2783, 0.4820])\n"
     ]
    }
   ],
   "source": [
    "# Пример\n",
    "t = torch.rand(2, 2)\n",
    "print(f'Исходный тензор:\\n{t}')\n",
    "\n",
    "b = t.view(1, -1)\n",
    "print(f'\\nТензор-представление (view):\\n{b}')\n",
    "\n",
    "# Данные в обоих тензорах разделяются\n",
    "print(f'\\nДанные совпадают? - {t.untyped_storage().data_ptr() == b.untyped_storage().data_ptr()}')\n",
    "\n",
    "# Изменение тензора-представления изменяет базовый тензор\n",
    "b[0][1] = 1\n",
    "print(f'\\nИсходный тензор:\\n{t}')\n",
    "\n",
    "# Растягиваем двумерный тензор в одномерный\n",
    "b = b.view(-1)\n",
    "print(f'\\nОдномерный тензор:\\n{b}')"
   ]
  },
  {
   "cell_type": "markdown",
   "metadata": {
    "id": "dpPsHkIrLy8r"
   },
   "source": [
    "---\n",
    "Напишем функцию, генерирующую текст длины `predict_len` с началом (префиксной строкой) `prefix`.  \n",
    "Результирующая строка будет иметь вид: `prefix` + сгенерированная строка."
   ]
  },
  {
   "cell_type": "code",
   "execution_count": 16,
   "metadata": {
    "executionInfo": {
     "elapsed": 5,
     "status": "ok",
     "timestamp": 1749682066047,
     "user": {
      "displayName": "Elena V. Razova",
      "userId": "14939859328445060819"
     },
     "user_tz": -180
    },
    "id": "O5xNTW0mLy8r"
   },
   "outputs": [],
   "source": [
    "def evaluate(model, vocabulary, batch_size, prefix='а', predict_len=100):\n",
    "\n",
    "    # Инициализируем скрытое состояние\n",
    "    hidden = model.init_hidden(batch_size)\n",
    "\n",
    "    # Преобразуем префиксную строку в тензор индексов\n",
    "    prefix_input = char_to_tensor(prefix, vocabulary)\n",
    "\n",
    "    # В переменной predicted будет храниться порождаемая строка (результат работы всей функции).\n",
    "    # Записываем в неё сначала префиксную строку\n",
    "    predicted = prefix\n",
    "\n",
    "    # Запускаем модель на префиксной строке - формируем скрытое состояние для дальнейшей генерации\n",
    "    for p in range(len(prefix) - 1):\n",
    "        input = prefix_input[p]\n",
    "        input = input.view(-1, 1)\n",
    "        outputs, hidden = model(input, hidden)\n",
    "\n",
    "    # В качестве первого символа для генерации (предсказания следующего символа) выступает последний символ префиксной строки\n",
    "    input = prefix_input[-1]\n",
    "    input = input.reshape(-1, 1)\n",
    "\n",
    "    # Генерируем predict_len символов\n",
    "    for p in range(predict_len):\n",
    "\n",
    "        # Запускаем модель с текущим входным символом и текущим скрытым состоянием\n",
    "        output, hidden = model(input, hidden)\n",
    "\n",
    "        # В output возвращаются вероятности всех символов из словаря.\n",
    "        # Выбираем из этого распределения символ (сэмплируем)\n",
    "        output_dist = output.data.view(-1)\n",
    "        output_dist = output_dist.exp()\n",
    "        top_index = torch.multinomial(output_dist, 1)[0]\n",
    "\n",
    "        # Добавляем предсказанный символ в результирующую строку\n",
    "        predicted_char = vocabulary[top_index]\n",
    "        predicted += predicted_char\n",
    "\n",
    "        # Используем предсказанный символ как следующий вход\n",
    "        input = char_to_tensor(predicted_char, vocabulary)\n",
    "        input = input.reshape(-1, 1)\n",
    "\n",
    "    return predicted"
   ]
  },
  {
   "cell_type": "markdown",
   "metadata": {
    "id": "8_kWkMHQLy8s"
   },
   "source": [
    "Вспомогательная функция для вывода времени:"
   ]
  },
  {
   "cell_type": "code",
   "execution_count": 17,
   "metadata": {
    "executionInfo": {
     "elapsed": 5,
     "status": "ok",
     "timestamp": 1749682066048,
     "user": {
      "displayName": "Elena V. Razova",
      "userId": "14939859328445060819"
     },
     "user_tz": -180
    },
    "id": "ZXJUNKffLy8s"
   },
   "outputs": [],
   "source": [
    "def time_since(since):\n",
    "    seconds = time.time() - since\n",
    "    minutes = math.floor(seconds / 60)\n",
    "    seconds -= minutes * 60\n",
    "    return f'{minutes} min {seconds:.0f} sec'"
   ]
  },
  {
   "cell_type": "markdown",
   "metadata": {
    "id": "7Mxg4hCfLy8s"
   },
   "source": [
    "---\n",
    "Основная процедура обучения и генерации примеров текста в процессе обучения.  \n",
    "Генерация текстов в ходе обучения необходима только для иллюстрации изменений возможностей модели по мере обучения."
   ]
  },
  {
   "cell_type": "code",
   "execution_count": 18,
   "metadata": {
    "colab": {
     "base_uri": "https://localhost:8080/"
    },
    "executionInfo": {
     "elapsed": 35705,
     "status": "ok",
     "timestamp": 1749682101750,
     "user": {
      "displayName": "Elena V. Razova",
      "userId": "14939859328445060819"
     },
     "user_tz": -180
    },
    "id": "YeaQRxj8Ly8s",
    "outputId": "5d6bf647-275d-44ac-d965-a8f9bc90d21d"
   },
   "outputs": [
    {
     "name": "stdout",
     "output_type": "stream",
     "text": [
      "[time = 0 min 2 sec, epochs = 100 (10.0%), loss = 0.0135]\n",
      "ам,\n",
      "пакитоветь е в та . \n",
      "е тегодавы,\n",
      "о слежнек по дожал ..\n",
      "в седвени;\n",
      "но то село на . vii\n",
      "\n",
      "xxx . . . \n",
      "\n",
      "[time = 0 min 3 sec, epochs = 200 (20.0%), loss = 0.0127]\n",
      "авно б хосна веси, ослы одго дрем.\n",
      "вют, облег на вальныет\n",
      "и сновальем бемнов!\n",
      "кна босемя влецак сетви\n",
      "\n",
      "[time = 0 min 5 sec, epochs = 300 (30.0%), loss = 0.0120]\n",
      "адевдей! - бестиланьясчистластенивке парегияшочут!ный расляний пирнит\n",
      "в и былкита?.\n",
      "не завша рамлийме\n",
      "\n",
      "[time = 0 min 6 sec, epochs = 400 (40.0%), loss = 0.0122]\n",
      "а?\n",
      "хноча:\n",
      "в о рабымный на и собренит блун кного,\n",
      "как же щеда к казслудсей, к нег\n",
      "и лесчитей\n",
      "свеслик;\n",
      "\n",
      "\n",
      "[time = 0 min 8 sec, epochs = 500 (50.0%), loss = 0.0108]\n",
      "авою с одложде нед своеги\n",
      "его дето,\n",
      "ток то пероделтие,\n",
      "в квы омогостых ордашу, оня титсе прювной полу\n",
      "\n",
      "[time = 0 min 9 sec, epochs = 600 (60.0%), loss = 0.0113]\n",
      "акажет\n",
      "но она залавы,\n",
      "остет рамяпливынной,\n",
      "и сослова?\n",
      "ножал\n",
      "ний трость деесном позрасталь послого уми\n",
      "\n",
      "[time = 0 min 11 sec, epochs = 700 (70.0%), loss = 0.0104]\n",
      "ась, -\n",
      "xxxx\n",
      "вщели ль;\n",
      "гогляжь хежен\n",
      "пораски.\n",
      "\n",
      "xxxii\n",
      "\n",
      "прудокись девет;\n",
      "и нощогое, лукми жузвусь..., мн\n",
      "\n",
      "[time = 0 min 12 sec, epochs = 800 (80.0%), loss = 0.0110]\n",
      "апнет из перя довать пот, вод,\n",
      "кокоб бас потвлей, мой зарем предьму он равидатый, раэзвет ичеч ждради\n",
      "\n",
      "[time = 0 min 14 sec, epochs = 900 (90.0%), loss = 0.0109]\n",
      "азу встрад нимвил,\n",
      "поэт онлавин,\n",
      "он притый сной иплишет вез проредь;\n",
      "недоло, дерде?.. татей.\n",
      "фa е нет\n",
      "\n",
      "[time = 0 min 15 sec, epochs = 1000 (100.0%), loss = 0.0114]\n",
      "алиб?.\n",
      "тебеву:\n",
      "довожу.\n",
      "ольгается стиха;\n",
      "и нудись томный буров мелва;\n",
      "в любител бакивит;\n",
      "не соклоки ра\n",
      "\n"
     ]
    }
   ],
   "source": [
    "# Создаем модель\n",
    "rnn = RNN(\n",
    "    input_size=len(vocabulary),\n",
    "    embedding_size=embedding_size,\n",
    "    hidden_size=hidden_size,\n",
    "    output_size=len(vocabulary),\n",
    "    num_layers=num_layers\n",
    ")\n",
    "\n",
    "rnn_optimizer = torch.optim.Adam(rnn.parameters(), lr=lr)\n",
    "criterion = nn.CrossEntropyLoss()\n",
    "\n",
    "start = time.time()\n",
    "\n",
    "prefix = 'а'         # Префиксная строка для генерации в процессе обучения.\n",
    "\n",
    "all_losses = []      # Список значений функции потерь в процессе обучения (для графика)\n",
    "loss_avg = 0         # Усредненное по `plot_every` эпохам значение функции потерь для графика\n",
    "\n",
    "for epoch in range(1, n_epochs + 1):\n",
    "\n",
    "    # Генерируем первую последовательность\n",
    "    input, target = random_training_set(data, seq_len, vocabulary)\n",
    "    input = input.view(-1, 1)\n",
    "    target = target.view(-1, 1)\n",
    "\n",
    "    # Добавляем к первой последовательности другие в зависимости от количества мини-батчей\n",
    "    for b in range(batch_size_train-1):\n",
    "        sequence, target_seq = random_training_set(data, seq_len, vocabulary)\n",
    "        sequence = sequence.view(-1, 1)\n",
    "        target_seq = target_seq.view(-1, 1)\n",
    "        input = torch.cat((input, sequence), dim=1)\n",
    "        target = torch.cat((target, target_seq), dim=1)\n",
    "\n",
    "    # Запускаем эпоху обучения\n",
    "    loss = train(input, target, batch_size_train)\n",
    "    loss_avg += loss\n",
    "\n",
    "    # Осуществляем генерацию текста для текущей модели каждые `print_every` эпох\n",
    "    if epoch % print_every == 0:\n",
    "\n",
    "        print(f'[time = {time_since(start)}, epochs = {epoch} ({epoch / n_epochs * 100}%), loss = {loss:.4f}]')\n",
    "\n",
    "        predicted_text = evaluate(\n",
    "            model=rnn,\n",
    "            vocabulary=vocabulary,\n",
    "            batch_size=batch_size_test,\n",
    "            prefix=prefix,\n",
    "            predict_len=predict_len\n",
    "        )\n",
    "        print(predicted_text)\n",
    "        print()\n",
    "\n",
    "    if epoch % plot_every == 0:\n",
    "        all_losses.append(loss_avg / plot_every)\n",
    "        loss_avg = 0"
   ]
  },
  {
   "cell_type": "markdown",
   "metadata": {
    "id": "xrZIL5bFLy83"
   },
   "source": [
    "---\n",
    "Рисуем график потерь:"
   ]
  },
  {
   "cell_type": "code",
   "execution_count": 19,
   "metadata": {
    "colab": {
     "base_uri": "https://localhost:8080/",
     "height": 447
    },
    "executionInfo": {
     "elapsed": 449,
     "status": "ok",
     "timestamp": 1749682102199,
     "user": {
      "displayName": "Elena V. Razova",
      "userId": "14939859328445060819"
     },
     "user_tz": -180
    },
    "id": "Ibq5OVoFLy83",
    "outputId": "c833f871-0ce1-40a4-c8c2-2a046bcc4b45"
   },
   "outputs": [
    {
     "data": {
      "text/plain": [
       "[<matplotlib.lines.Line2D at 0x7ff856ded590>]"
      ]
     },
     "execution_count": 19,
     "metadata": {},
     "output_type": "execute_result"
    },
    {
     "data": {
      "image/png": "[encoded data removed]",
      "text/plain": [
       "<Figure size 640x480 with 1 Axes>"
      ]
     },
     "metadata": {},
     "output_type": "display_data"
    }
   ],
   "source": [
    "plt.figure()\n",
    "plt.plot(all_losses)"
   ]
  },
  {
   "cell_type": "markdown",
   "metadata": {
    "id": "wJBf4RzuLy83"
   },
   "source": [
    "После обучения можно подставить любое начало и сеть его продолжит:"
   ]
  },
  {
   "cell_type": "code",
   "execution_count": 20,
   "metadata": {
    "colab": {
     "base_uri": "https://localhost:8080/"
    },
    "executionInfo": {
     "elapsed": 83,
     "status": "ok",
     "timestamp": 1749682102288,
     "user": {
      "displayName": "Elena V. Razova",
      "userId": "14939859328445060819"
     },
     "user_tz": -180
    },
    "id": "VbgkTRdiLy83",
    "outputId": "f5dbbedd-97b8-4c40-e9a1-6ce2696bc75b"
   },
   "outputs": [
    {
     "name": "stdout",
     "output_type": "stream",
     "text": [
      "мой дядя трежменья\n",
      "сузам де груш нейны,\n",
      "в дыл свитею: кра, и мой моли и кевилит!\n",
      "\n",
      "xlix\n",
      "\n",
      "и соркин том\n",
      "солги м\n"
     ]
    }
   ],
   "source": [
    "beginning = 'мой дядя'\n",
    "\n",
    "predict = evaluate(\n",
    "    model=rnn,\n",
    "    vocabulary=vocabulary,\n",
    "    batch_size=batch_size_test,\n",
    "    prefix=beginning,\n",
    "    predict_len=predict_len\n",
    ")\n",
    "\n",
    "print(predict)"
   ]
  },
  {
   "cell_type": "markdown",
   "metadata": {
    "id": "DcmsH3uhLy83"
   },
   "source": [
    "---\n",
    "#### Задание 1.\n",
    "Перенесите модель и данные на GPU."
   ]
  },
  {
   "cell_type": "code",
   "execution_count": 21,
   "metadata": {
    "colab": {
     "base_uri": "https://localhost:8080/"
    },
    "executionInfo": {
     "elapsed": 59,
     "status": "ok",
     "timestamp": 1749682102349,
     "user": {
      "displayName": "Elena V. Razova",
      "userId": "14939859328445060819"
     },
     "user_tz": -180
    },
    "id": "kEOI-SZ_OOUU",
    "outputId": "af63f395-c45e-431d-fe2d-17877607902e"
   },
   "outputs": [
    {
     "name": "stdout",
     "output_type": "stream",
     "text": [
      "❌ GPU не обнаружен. Colab работает на CPU.\n"
     ]
    }
   ],
   "source": [
    "if torch.cuda.is_available():\n",
    "    print(\"✅ GPU доступен!\")\n",
    "    print(\"Название GPU:\", torch.cuda.get_device_name(0))\n",
    "    print(\"Версия CUDA (драйвер):\", torch.version.cuda)  # Версия CUDA, которую видит PyTorch\n",
    "    print(\"Версия PyTorch:\", torch.__version__)\n",
    "else:\n",
    "    print(\"❌ GPU не обнаружен. Colab работает на CPU.\")"
   ]
  },
  {
   "cell_type": "code",
   "execution_count": 22,
   "metadata": {
    "colab": {
     "base_uri": "https://localhost:8080/"
    },
    "executionInfo": {
     "elapsed": 75,
     "status": "ok",
     "timestamp": 1749682102427,
     "user": {
      "displayName": "Elena V. Razova",
      "userId": "14939859328445060819"
     },
     "user_tz": -180
    },
    "id": "SAxIpDLLOOir",
    "outputId": "98eba528-f1b9-4a92-8c75-cd67ef1f9ac2"
   },
   "outputs": [
    {
     "name": "stdout",
     "output_type": "stream",
     "text": [
      "Using device: cpu\n"
     ]
    }
   ],
   "source": [
    "# Проверяем доступность CUDA (GPU)\n",
    "device = torch.device('cuda' if torch.cuda.is_available() else 'cpu')\n",
    "print(f\"Using device: {device}\")"
   ]
  },
  {
   "cell_type": "code",
   "execution_count": 23,
   "metadata": {
    "executionInfo": {
     "elapsed": 3,
     "status": "ok",
     "timestamp": 1749682102432,
     "user": {
      "displayName": "Elena V. Razova",
      "userId": "14939859328445060819"
     },
     "user_tz": -180
    },
    "id": "Fr1QIHawTdwK"
   },
   "outputs": [],
   "source": [
    "# Модификация функции random_train_set\n",
    "def random_training_set(data, seq_len, vocabulary, device):\n",
    "    sequence = random_sequence(data, seq_len)\n",
    "    input = char_to_tensor(sequence[:-1], vocabulary)\n",
    "    target = char_to_tensor(sequence[1:], vocabulary)\n",
    "    input = torch.tensor(input, dtype=torch.long, device=device)  # Перенос на GPU\n",
    "    target = torch.tensor(target, dtype=torch.long, device=device)\n",
    "    return input, target"
   ]
  },
  {
   "cell_type": "code",
   "execution_count": 24,
   "metadata": {
    "executionInfo": {
     "elapsed": 56,
     "status": "ok",
     "timestamp": 1749682102491,
     "user": {
      "displayName": "Elena V. Razova",
      "userId": "14939859328445060819"
     },
     "user_tz": -180
    },
    "id": "HL8QaBmpZGO4"
   },
   "outputs": [],
   "source": [
    "# Создаем модель и переносим на GPU\n",
    "rnn = RNN(\n",
    "    input_size=len(vocabulary),\n",
    "    embedding_size=embedding_size,\n",
    "    hidden_size=hidden_size,\n",
    "    output_size=len(vocabulary),\n",
    "    num_layers=num_layers\n",
    ").to(device)\n",
    "\n",
    "rnn_optimizer = torch.optim.Adam(rnn.parameters(), lr=lr)\n",
    "criterion = nn.CrossEntropyLoss()"
   ]
  },
  {
   "cell_type": "code",
   "execution_count": 25,
   "metadata": {
    "executionInfo": {
     "elapsed": 7,
     "status": "ok",
     "timestamp": 1749682102494,
     "user": {
      "displayName": "Elena V. Razova",
      "userId": "14939859328445060819"
     },
     "user_tz": -180
    },
    "id": "b5eGeSJlUiTl"
   },
   "outputs": [],
   "source": [
    "# Модификация функции train\n",
    "def train(input, target, batch_size):\n",
    "    '''\n",
    "    input - тензор размерности (seq_len, batch_size). Тензор содержит индексы символов.\n",
    "    target - истинная последовательность индексов следующих символов (целевая переменная); размерность (seq_len, batch_size)\n",
    "    '''\n",
    "\n",
    "    # Инициализируем скрытое состояние\n",
    "    hidden = rnn.init_hidden(batch_size=batch_size).to(device)\n",
    "\n",
    "    rnn.zero_grad()\n",
    "    loss = 0\n",
    "\n",
    "    outputs, hidden = rnn(input, hidden)\n",
    "\n",
    "    # Преобразуем размерности для вычисления функции потерь\n",
    "    outputs = outputs.view(seq_len * batch_size, -1)\n",
    "    target = target.view(seq_len * batch_size)\n",
    "\n",
    "    loss = criterion(outputs, target)\n",
    "\n",
    "    loss.backward()\n",
    "    rnn_optimizer.step()\n",
    "\n",
    "    return loss.data / len(input)"
   ]
  },
  {
   "cell_type": "code",
   "execution_count": 26,
   "metadata": {
    "executionInfo": {
     "elapsed": 1,
     "status": "ok",
     "timestamp": 1749682102497,
     "user": {
      "displayName": "Elena V. Razova",
      "userId": "14939859328445060819"
     },
     "user_tz": -180
    },
    "id": "_TX6GnirVvKV"
   },
   "outputs": [],
   "source": [
    "# Модификация init_hidden\n",
    "def init_hidden(self, batch_size):\n",
    "        # Должна быть размерность (num_layers * num_directions, batch_size, hidden_size)\n",
    "        return torch.zeros(self.num_layers, batch_size, self.hidden_size).to(device)"
   ]
  },
  {
   "cell_type": "code",
   "execution_count": 27,
   "metadata": {
    "executionInfo": {
     "elapsed": 2,
     "status": "ok",
     "timestamp": 1749682102501,
     "user": {
      "displayName": "Elena V. Razova",
      "userId": "14939859328445060819"
     },
     "user_tz": -180
    },
    "id": "ysJQqPgXVJET"
   },
   "outputs": [],
   "source": [
    "# Модификация функции evaluate\n",
    "def evaluate(model, vocabulary, batch_size, prefix='а', predict_len=100):\n",
    "\n",
    "    # Инициализируем скрытое состояние\n",
    "    hidden = model.init_hidden(batch_size).to(device)\n",
    "\n",
    "    # Преобразуем префиксную строку в тензор индексов\n",
    "    prefix_input = char_to_tensor(prefix, vocabulary)\n",
    "\n",
    "    # В переменной predicted будет храниться порождаемая строка (результат работы всей функции).\n",
    "    # Записываем в неё сначала префиксную строку\n",
    "    predicted = prefix\n",
    "\n",
    "    # Запускаем модель на префиксной строке - формируем скрытое состояние для дальнейшей генерации\n",
    "    for p in range(len(prefix) - 1):\n",
    "        input = prefix_input[p]\n",
    "        input = input.view(-1, 1).to(device)\n",
    "        outputs, hidden = model(input, hidden)\n",
    "\n",
    "    # В качестве первого символа для генерации (предсказания следующего символа) выступает последний символ префиксной строки\n",
    "    input = prefix_input[-1]\n",
    "    input = input.reshape(-1, 1).to(device)\n",
    "\n",
    "    # Генерируем predict_len символов\n",
    "    for p in range(predict_len):\n",
    "\n",
    "        # Запускаем модель с текущим входным символом и текущим скрытым состоянием\n",
    "        output, hidden = model(input, hidden)\n",
    "\n",
    "        # В output возвращаются вероятности всех символов из словаря.\n",
    "        # Выбираем из этого распределения символ (сэмплируем)\n",
    "        output_dist = output.data.view(-1)\n",
    "        output_dist = output_dist.exp()\n",
    "        top_index = torch.multinomial(output_dist, 1)[0]\n",
    "\n",
    "        # Добавляем предсказанный символ в результирующую строку\n",
    "        predicted_char = vocabulary[top_index]\n",
    "        predicted += predicted_char\n",
    "\n",
    "        # Используем предсказанный символ как следующий вход\n",
    "        input = char_to_tensor(predicted_char, vocabulary)\n",
    "        input = input.reshape(-1, 1).to(device)\n",
    "\n",
    "    return predicted"
   ]
  },
  {
   "cell_type": "code",
   "execution_count": 28,
   "metadata": {
    "colab": {
     "base_uri": "https://localhost:8080/"
    },
    "executionInfo": {
     "elapsed": 55,
     "status": "ok",
     "timestamp": 1749682102555,
     "user": {
      "displayName": "Elena V. Razova",
      "userId": "14939859328445060819"
     },
     "user_tz": -180
    },
    "id": "FnK7yJSMfX2m",
    "outputId": "be1c2e1a-069e-425c-f54a-d963b8de36a1"
   },
   "outputs": [
    {
     "name": "stdout",
     "output_type": "stream",
     "text": [
      "Model device: cpu\n",
      "Sample input device: cpu\n"
     ]
    }
   ],
   "source": [
    "# Проверка\n",
    "print(\"Model device:\", next(rnn.parameters()).device)\n",
    "sample_input = torch.tensor([0], device=device)\n",
    "print(\"Sample input device:\", sample_input.device)"
   ]
  },
  {
   "cell_type": "code",
   "execution_count": 29,
   "metadata": {
    "colab": {
     "base_uri": "https://localhost:8080/"
    },
    "executionInfo": {
     "elapsed": 28771,
     "status": "ok",
     "timestamp": 1749682131322,
     "user": {
      "displayName": "Elena V. Razova",
      "userId": "14939859328445060819"
     },
     "user_tz": -180
    },
    "id": "Y3oMT35ORCFU",
    "outputId": "4a17351b-0644-44aa-b856-3de59e1a22e5"
   },
   "outputs": [
    {
     "name": "stderr",
     "output_type": "stream",
     "text": [
      "/tmp/ipykernel_142345/1972840392.py:6: UserWarning: To copy construct from a tensor, it is recommended to use sourceTensor.clone().detach() or sourceTensor.clone().detach().requires_grad_(True), rather than torch.tensor(sourceTensor).\n",
      "  input = torch.tensor(input, dtype=torch.long, device=device)  # Перенос на GPU\n",
      "/tmp/ipykernel_142345/1972840392.py:7: UserWarning: To copy construct from a tensor, it is recommended to use sourceTensor.clone().detach() or sourceTensor.clone().detach().requires_grad_(True), rather than torch.tensor(sourceTensor).\n",
      "  target = torch.tensor(target, dtype=torch.long, device=device)\n"
     ]
    },
    {
     "name": "stdout",
     "output_type": "stream",
     "text": [
      "[time = 0 min 2 sec, epochs = 100 (10.0%), loss = 0.0124]\n",
      "а, докий, тобь л тамя илоть седдо,\n",
      "н естов тогалине дет,\n",
      "хре подбле- в ледешет вал вать.\n",
      "о-тто днер т\n",
      "\n",
      "[time = 0 min 3 sec, epochs = 200 (20.0%), loss = 0.0120]\n",
      "ам цазнобя подно менен\n",
      "дне пр9ебнея ду, оо нет ить пебемасчума лно\n",
      "ь сорда. . дун, рон пре\"рот\n",
      "и жне?\n",
      "\n",
      "[time = 0 min 5 sec, epochs = 300 (30.0%), loss = 0.0116]\n",
      "азом сейшях:\n",
      "и отаринь суздыста, нак яльаньена, вых гнабить; и востуюно казосьдок, лет,\n",
      "боркой душко,\n",
      "\n",
      "[time = 0 min 6 sec, epochs = 400 (40.0%), loss = 0.0123]\n",
      "абвилась отладны доль -\n",
      "вншу,\n",
      "с ра нены столит забкиниз,\n",
      "ти зораньет,\n",
      "декрысь поливнум осараком и мол\n",
      "\n",
      "[time = 0 min 8 sec, epochs = 500 (50.0%), loss = 0.0120]\n",
      "асплнен, порите ответелелукае:\n",
      "не моготной нерго чикрасные поиши токотка\n",
      "леленежили одветсхолутитпрые\n",
      "\n",
      "[time = 0 min 9 sec, epochs = 600 (60.0%), loss = 0.0116]\n",
      "ать одима ленье. сви наде в глено вскаv\n",
      "ним сорики,\n",
      "я надит людкий. . . . . . . . .\n",
      "грудеи ланче идме\n",
      "\n",
      "[time = 0 min 11 sec, epochs = 700 (70.0%), loss = 0.0118]\n",
      "ак щебели еста ни иль: но вюзодудным чегить он друга ео твигила уж не знарипыт меей дознало всез вать\n",
      "\n",
      "[time = 0 min 13 sec, epochs = 800 (80.0%), loss = 0.0125]\n",
      "ать плешный, честь\n",
      "ин перя,\n",
      "враза рабы?\n",
      "плесей мыждастдивозаних ор чупесну, он, - мы соной рукой, ней\n",
      "\n",
      "[time = 0 min 14 sec, epochs = 900 (90.0%), loss = 0.0104]\n",
      "аны!\n",
      "он, он стрего стилин,\n",
      "ари\n",
      "инной, племнра бы оз присохуса тымы першито роблинну обвать овнове..\n",
      "т\n",
      "\n",
      "[time = 0 min 16 sec, epochs = 1000 (100.0%), loss = 0.0110]\n",
      "аденье круг.\n",
      "задхо шуртебненьей\n",
      "качареной\n",
      "не своесе\n",
      "и шум, э слороненную - двей выслям, и струхо\n",
      "(за \n",
      "\n"
     ]
    }
   ],
   "source": [
    "# Основной цикл обучения\n",
    "start = time.time()\n",
    "\n",
    "prefix = 'а'         # Префиксная строка для генерации в процессе обучения.\n",
    "\n",
    "all_losses = []      # Список значений функции потерь в процессе обучения (для графика)\n",
    "loss_avg = 0         # Усредненное по `plot_every` эпохам значение функции потерь для графика\n",
    "\n",
    "for epoch in range(1, n_epochs + 1):\n",
    "\n",
    "    # Генерируем первую последовательность\n",
    "    input, target = random_training_set(data, seq_len, vocabulary, device)\n",
    "    input = input.view(-1, 1)\n",
    "    target = target.view(-1, 1)\n",
    "\n",
    "    # Добавляем к первой последовательности другие в зависимости от количества мини-батчей\n",
    "    for b in range(batch_size_train-1):\n",
    "        sequence, target_seq = random_training_set(data, seq_len, vocabulary, device)\n",
    "        sequence = sequence.view(-1, 1)\n",
    "        target_seq = target_seq.view(-1, 1)\n",
    "        input = torch.cat((input, sequence), dim=1)\n",
    "        target = torch.cat((target, target_seq), dim=1)\n",
    "\n",
    "    # Запускаем эпоху обучения\n",
    "    loss = train(input, target, batch_size_train)\n",
    "    loss_avg += loss\n",
    "\n",
    "    # Осуществляем генерацию текста для текущей модели каждые `print_every` эпох\n",
    "    if epoch % print_every == 0:\n",
    "\n",
    "        print(f'[time = {time_since(start)}, epochs = {epoch} ({epoch / n_epochs * 100}%), loss = {loss:.4f}]')\n",
    "\n",
    "        predicted_text = evaluate(\n",
    "            model=rnn,\n",
    "            vocabulary=vocabulary,\n",
    "            batch_size=batch_size_test,\n",
    "            prefix=prefix,\n",
    "            predict_len=predict_len\n",
    "        )\n",
    "        print(predicted_text)\n",
    "        print()\n",
    "\n",
    "    if epoch % plot_every == 0:\n",
    "        all_losses.append(loss_avg / plot_every)\n",
    "        loss_avg = 0"
   ]
  },
  {
   "cell_type": "markdown",
   "metadata": {
    "id": "pgEHtdXBLy84"
   },
   "source": [
    "#### Задание 2.\n",
    "Запустите обучение модели с разным количеством эпох и размером мини-батча. Один или несколько результатов генерации в конце каждого эксперимента вместе с временем запуска и параметрами запишите в отдельный файл.  \n",
    "Проведите не менее 10 экспериментов.  \n",
    "Сделайте выводы об эффективности разных вариантов модели."
   ]
  },
  {
   "cell_type": "code",
   "execution_count": 30,
   "metadata": {
    "executionInfo": {
     "elapsed": 2,
     "status": "ok",
     "timestamp": 1749682131326,
     "user": {
      "displayName": "Elena V. Razova",
      "userId": "14939859328445060819"
     },
     "user_tz": -180
    },
    "id": "IvvDsR0nwMUr"
   },
   "outputs": [],
   "source": [
    "from datetime import datetime\n",
    "\n",
    "# Конфигурация экспериментов\n",
    "experiments = [\n",
    "    {'n_epochs': 50, 'batch_size_train': 32, 'batch_size_test': 1},\n",
    "    {'n_epochs': 100, 'batch_size_train': 32, 'batch_size_test': 1},\n",
    "    {'n_epochs': 200, 'batch_size_train': 32, 'batch_size_test': 1},\n",
    "    {'n_epochs': 50, 'batch_size_train': 64, 'batch_size_test': 1},\n",
    "    {'n_epochs': 100, 'batch_size_train': 64, 'batch_size_test': 1},\n",
    "    {'n_epochs': 200, 'batch_size_train': 64, 'batch_size_test': 1},\n",
    "    {'n_epochs': 50, 'batch_size_train': 128, 'batch_size_test': 1},\n",
    "    {'n_epochs': 100, 'batch_size_train': 128, 'batch_size_test': 1},\n",
    "    {'n_epochs': 200, 'batch_size_train': 128, 'batch_size_test': 1},\n",
    "    {'n_epochs': 300, 'batch_size_train': 64, 'batch_size_test': 1}\n",
    "]\n"
   ]
  },
  {
   "cell_type": "code",
   "execution_count": 31,
   "metadata": {
    "colab": {
     "base_uri": "https://localhost:8080/"
    },
    "executionInfo": {
     "elapsed": 475250,
     "status": "ok",
     "timestamp": 1749682606578,
     "user": {
      "displayName": "Elena V. Razova",
      "userId": "14939859328445060819"
     },
     "user_tz": -180
    },
    "id": "Jpx3AXNafK63",
    "outputId": "3dd9bd9e-871f-4c2b-c66b-071c1e5a6256"
   },
   "outputs": [
    {
     "name": "stdout",
     "output_type": "stream",
     "text": [
      "\n",
      "=== Эксперимент 1/10 ===\n",
      "Параметры: {'n_epochs': 50, 'batch_size_train': 32, 'batch_size_test': 1}\n"
     ]
    },
    {
     "name": "stderr",
     "output_type": "stream",
     "text": [
      "/tmp/ipykernel_142345/1972840392.py:6: UserWarning: To copy construct from a tensor, it is recommended to use sourceTensor.clone().detach() or sourceTensor.clone().detach().requires_grad_(True), rather than torch.tensor(sourceTensor).\n",
      "  input = torch.tensor(input, dtype=torch.long, device=device)  # Перенос на GPU\n",
      "/tmp/ipykernel_142345/1972840392.py:7: UserWarning: To copy construct from a tensor, it is recommended to use sourceTensor.clone().detach() or sourceTensor.clone().detach().requires_grad_(True), rather than torch.tensor(sourceTensor).\n",
      "  target = torch.tensor(target, dtype=torch.long, device=device)\n"
     ]
    },
    {
     "name": "stdout",
     "output_type": "stream",
     "text": [
      "Эксперимент 1 завершен за 7.07 сек\n",
      "Лучший сгенерированный текст:\n",
      "а нох гуда пструтухнак налей лорвтаб, по-т я!\n",
      "баторит мошумму ледьу нешкак,\n",
      "и ласной и в выт гду, про\n",
      "\n",
      "\n",
      "=== Эксперимент 2/10 ===\n",
      "Параметры: {'n_epochs': 100, 'batch_size_train': 32, 'batch_size_test': 1}\n",
      "Эксперимент 2 завершен за 11.61 сек\n",
      "Лучший сгенерированный текст:\n",
      "ажна!\" (здал быле,\n",
      "дришее,\n",
      "бпадапелевилод.\n",
      "чта ейстраши проты\n",
      "капраней прако лро родценный\", уграв бы\n",
      "\n",
      "\n",
      "=== Эксперимент 3/10 ===\n",
      "Параметры: {'n_epochs': 200, 'batch_size_train': 32, 'batch_size_test': 1}\n",
      "Эксперимент 3 завершен за 24.46 сек\n",
      "Лучший сгенерированный текст:\n",
      "а золодит но перердцах он готовеи клюданшку не в вегечещ {1узслады лизный нансмять, бедеться сенты за\n",
      "\n",
      "\n",
      "=== Эксперимент 4/10 ===\n",
      "Параметры: {'n_epochs': 50, 'batch_size_train': 64, 'batch_size_test': 1}\n",
      "Эксперимент 4 завершен за 8.22 сек\n",
      "Лучший сгенерированный текст:\n",
      "ажной. рово,\n",
      "беля\" наю в вемым бый. сзами, прегумабона мило ме музв, жвостет ги . на\n",
      ". . . . и чти мо\n",
      "\n",
      "\n",
      "=== Эксперимент 5/10 ===\n",
      "Параметры: {'n_epochs': 100, 'batch_size_train': 64, 'batch_size_test': 1}\n",
      "Эксперимент 5 завершен за 18.50 сек\n",
      "Лучший сгенерированный текст:\n",
      "акни сладу блась.\n",
      "и лянь старавей\n",
      "кать.\n",
      "гочнеы, и ража,\n",
      "сьтыт\n",
      "их тозослаж воел.\n",
      "\n",
      "xvii\n",
      "\n",
      "xll\n",
      "наднац мле\n",
      "\n",
      "\n",
      "=== Эксперимент 6/10 ===\n",
      "Параметры: {'n_epochs': 200, 'batch_size_train': 64, 'batch_size_test': 1}\n",
      "Эксперимент 6 завершен за 38.01 сек\n",
      "Лучший сгенерированный текст:\n",
      "аедь\n",
      "затом ясленбись крикому; може:\n",
      "чаменья,\n",
      "сеетнук у: бы вва роминий свегде\n",
      "с чем перовной,\n",
      "не вопщ\n",
      "\n",
      "\n",
      "=== Эксперимент 7/10 ===\n",
      "Параметры: {'n_epochs': 50, 'batch_size_train': 128, 'batch_size_test': 1}\n",
      "Эксперимент 7 завершен за 19.62 сек\n",
      "Лучший сгенерированный текст:\n",
      "а,\n",
      "та равно перо траслать, неримой кожной; я рерыт неем\n",
      "заска месногол, все рилпеныь да одну нилья яр\n",
      "\n",
      "\n",
      "=== Эксперимент 8/10 ===\n",
      "Параметры: {'n_epochs': 100, 'batch_size_train': 128, 'batch_size_test': 1}\n",
      "Эксперимент 8 завершен за 34.20 сек\n",
      "Лучший сгенерированный текст:\n",
      "абалала.. л?\n",
      "xxix\n",
      "\n",
      "\n",
      "xxxv\n",
      "\n",
      "в чет беденi,\n",
      "и лала порь:\n",
      "ереги завень взтобо его рулил пойворья: ка печза\n",
      "\n",
      "\n",
      "=== Эксперимент 9/10 ===\n",
      "Параметры: {'n_epochs': 200, 'batch_size_train': 128, 'batch_size_test': 1}\n",
      "Эксперимент 9 завершен за 69.36 сек\n",
      "Лучший сгенерированный текст:\n",
      "анин,\n",
      "за сья звод,\n",
      "как зарки надом чтот, для по метельно вы чньгоет клядь\n",
      "навыл рустанье онегилась,\n",
      "к\n",
      "\n",
      "\n",
      "=== Эксперимент 10/10 ===\n",
      "Параметры: {'n_epochs': 300, 'batch_size_train': 64, 'batch_size_test': 1}\n",
      "Эксперимент 10 завершен за 53.67 сек\n",
      "Лучший сгенерированный текст:\n",
      "ать она; угодной\n",
      "задений;\n",
      "друглу,\n",
      "изманлий-си за бъеменона\n",
      "в дерерились..\n",
      "ко ная на мая,\n",
      "мединатьской\n",
      "\n"
     ]
    }
   ],
   "source": [
    "\n",
    "results = []\n",
    "\n",
    "for exp_idx, config in enumerate(experiments, 1):\n",
    "    print(f\"\\n=== Эксперимент {exp_idx}/{len(experiments)} ===\")\n",
    "    print(f\"Параметры: {config}\")\n",
    "\n",
    "    # Инициализация модели для каждого эксперимента\n",
    "    rnn = RNN(\n",
    "        input_size=len(vocabulary),\n",
    "        embedding_size=embedding_size,\n",
    "        hidden_size=hidden_size,\n",
    "        output_size=len(vocabulary),\n",
    "        num_layers=num_layers\n",
    "    ).to(device)\n",
    "\n",
    "    rnn_optimizer = torch.optim.Adam(rnn.parameters(), lr=lr)\n",
    "\n",
    "    # Основной цикл обучения\n",
    "    start_time = time.time()\n",
    "    all_losses = []\n",
    "    loss_avg = 0\n",
    "    best_text = \"\"\n",
    "    best_loss = float('inf')\n",
    "\n",
    "    for epoch in range(1, config['n_epochs'] + 1):\n",
    "        # Обучение (ваш существующий код)\n",
    "        input, target = random_training_set(data, seq_len, vocabulary, device)\n",
    "        input = input.view(-1, 1)\n",
    "        target = target.view(-1, 1)\n",
    "\n",
    "        for b in range(config['batch_size_train']-1):\n",
    "            sequence, target_seq = random_training_set(data, seq_len, vocabulary, device)\n",
    "            sequence = sequence.view(-1, 1)\n",
    "            target_seq = target_seq.view(-1, 1)\n",
    "            input = torch.cat((input, sequence), dim=1)\n",
    "            target = torch.cat((target, target_seq), dim=1)\n",
    "\n",
    "        loss = train(input, target, config['batch_size_train'])\n",
    "        loss_avg += loss\n",
    "\n",
    "        # Сохраняем лучший результат\n",
    "        if loss < best_loss:\n",
    "            best_loss = loss\n",
    "            best_text = evaluate(\n",
    "                model=rnn,\n",
    "                vocabulary=vocabulary,\n",
    "                batch_size=config['batch_size_test'],\n",
    "                prefix=prefix,\n",
    "                predict_len=predict_len,\n",
    "            )\n",
    "\n",
    "        if epoch % plot_every == 0:\n",
    "            all_losses.append(loss_avg / plot_every)\n",
    "            loss_avg = 0\n",
    "\n",
    "    # Сохранение результатов эксперимента\n",
    "    experiment_time = time.time() - start_time\n",
    "    results.append({\n",
    "        'experiment_id': exp_idx,\n",
    "        'parameters': config,\n",
    "        'training_time': experiment_time,\n",
    "        'final_loss': loss,\n",
    "        'best_generated_text': best_text,\n",
    "        'all_losses': all_losses\n",
    "    })\n",
    "\n",
    "    print(f\"Эксперимент {exp_idx} завершен за {experiment_time:.2f} сек\")\n",
    "    print(f\"Лучший сгенерированный текст:\\n{best_text}\\n\")\n",
    "\n"
   ]
  },
  {
   "cell_type": "code",
   "execution_count": 32,
   "metadata": {
    "executionInfo": {
     "elapsed": 12,
     "status": "ok",
     "timestamp": 1749682606580,
     "user": {
      "displayName": "Elena V. Razova",
      "userId": "14939859328445060819"
     },
     "user_tz": -180
    },
    "id": "s9BLdRrCqg8j"
   },
   "outputs": [],
   "source": [
    "import csv\n",
    "def save_to_file(results, name_model):\n",
    "  # Подготовка данных для CSV\n",
    "  csv_data = []\n",
    "  for exp in results:\n",
    "      # Преобразуем все loss значения\n",
    "      all_losses = [loss.item() if torch.is_tensor(loss) else loss for loss in exp['all_losses']]\n",
    "      final_loss = exp['final_loss'].item() if torch.is_tensor(exp['final_loss']) else exp['final_loss']\n",
    "\n",
    "      csv_data.append({\n",
    "          'experiment_id': exp['experiment_id'],\n",
    "          'n_epochs': exp['parameters']['n_epochs'],\n",
    "          'batch_size_train': exp['parameters']['batch_size_train'],\n",
    "          'batch_size_test': exp['parameters']['batch_size_test'],\n",
    "          'training_time_sec': round(exp['training_time'], 2),\n",
    "          'final_loss': round(float(final_loss), 5),\n",
    "          'best_generated_text': exp['best_generated_text'],\n",
    "          'min_loss': round(float(min(all_losses)), 5),\n",
    "          'max_loss': round(float(max(all_losses)), 5),\n",
    "          'last_5_losses': ', '.join([str(round(float(x), 5)) for x in all_losses[-5:]])\n",
    "      })\n",
    "\n",
    "  # Определяем заголовки CSV\n",
    "  fieldnames = [\n",
    "      'experiment_id',\n",
    "      'n_epochs',\n",
    "      'batch_size_train',\n",
    "      'batch_size_test',\n",
    "      'training_time_sec',\n",
    "      'final_loss',\n",
    "      'min_loss',\n",
    "      'max_loss',\n",
    "      'last_5_losses',\n",
    "      'best_generated_text'\n",
    "  ]\n",
    "\n",
    "  # Сохраняем в CSV файл\n",
    "  timestamp = datetime.now().strftime(\"%d%m%Y_%H%M%S\")\n",
    "  filename = f\"{name_model}_experiments_{timestamp}.csv\"\n",
    "\n",
    "  with open(filename, 'w', newline='', encoding='utf-8') as csvfile:\n",
    "      writer = csv.DictWriter(csvfile, fieldnames=fieldnames)\n",
    "      writer.writeheader()\n",
    "      writer.writerows(csv_data)\n",
    "\n",
    "  print(f\"Результаты успешно сохранены в {filename}\")"
   ]
  },
  {
   "cell_type": "code",
   "execution_count": 33,
   "metadata": {
    "colab": {
     "base_uri": "https://localhost:8080/"
    },
    "executionInfo": {
     "elapsed": 31,
     "status": "ok",
     "timestamp": 1749682606601,
     "user": {
      "displayName": "Elena V. Razova",
      "userId": "14939859328445060819"
     },
     "user_tz": -180
    },
    "id": "WYa5gs80z_C0",
    "outputId": "9197bba1-e94f-449e-f308-b358e73760bc"
   },
   "outputs": [
    {
     "name": "stdout",
     "output_type": "stream",
     "text": [
      "Результаты успешно сохранены в rnn_experiments_13062025_154124.csv\n"
     ]
    }
   ],
   "source": [
    "save_to_file(results, 'rnn')"
   ]
  },
  {
   "cell_type": "code",
   "execution_count": 34,
   "metadata": {
    "executionInfo": {
     "elapsed": 21,
     "status": "ok",
     "timestamp": 1749682606623,
     "user": {
      "displayName": "Elena V. Razova",
      "userId": "14939859328445060819"
     },
     "user_tz": -180
    },
    "id": "vOB1V8R-jZYG"
   },
   "outputs": [],
   "source": [
    "def plot_loss(results, name_model):\n",
    "  plt.figure(figsize=(12, 6))\n",
    "\n",
    "  for res in results:\n",
    "      # Преобразуем losses из тензоров в numpy массив на CPU\n",
    "      if isinstance(res['all_losses'][0], torch.Tensor):\n",
    "          losses = [loss.cpu().item() for loss in res['all_losses']]\n",
    "      else:\n",
    "          losses = res['all_losses']\n",
    "\n",
    "      plt.plot(losses, label=f\"Exp {res['experiment_id']} (epochs={res['parameters']['n_epochs']}, bs={res['parameters']['batch_size_train']})\")\n",
    "\n",
    "  plt.title(f\"Training Loss Across Experiments for {name_model}\")\n",
    "  plt.xlabel('Iterations (every {} epochs)'.format(plot_every))\n",
    "  plt.ylabel('Loss')\n",
    "  plt.grid(True, linestyle='--', alpha=0.5)\n",
    "  plt.legend(bbox_to_anchor=(1.05, 1), loc='upper left')\n",
    "  plt.tight_layout()\n",
    "  plt.show()\n",
    "\n",
    "  plt.savefig(f\"{name_model}_training_loss_comparison.png\", dpi=300, bbox_inches='tight')"
   ]
  },
  {
   "cell_type": "code",
   "execution_count": 35,
   "metadata": {
    "colab": {
     "base_uri": "https://localhost:8080/",
     "height": 624
    },
    "executionInfo": {
     "elapsed": 751,
     "status": "ok",
     "timestamp": 1749682607378,
     "user": {
      "displayName": "Elena V. Razova",
      "userId": "14939859328445060819"
     },
     "user_tz": -180
    },
    "id": "Ygnh_GEW0QXc",
    "outputId": "fe0be2da-72b9-4064-f72a-deb0a9714d29"
   },
   "outputs": [
    {
     "data": {
      "image/png": "[encoded data removed]",
      "text/plain": [
       "<Figure size 1200x600 with 1 Axes>"
      ]
     },
     "metadata": {},
     "output_type": "display_data"
    },
    {
     "data": {
      "text/plain": [
       "<Figure size 640x480 with 0 Axes>"
      ]
     },
     "metadata": {},
     "output_type": "display_data"
    }
   ],
   "source": [
    "plot_loss(results,'rnn')"
   ]
  },
  {
   "cell_type": "code",
   "execution_count": 36,
   "metadata": {
    "executionInfo": {
     "elapsed": 2,
     "status": "ok",
     "timestamp": 1749682607380,
     "user": {
      "displayName": "Elena V. Razova",
      "userId": "14939859328445060819"
     },
     "user_tz": -180
    },
    "id": "z0-19RqBrTgg"
   },
   "outputs": [],
   "source": [
    "#from google.colab import drive\n",
    "#drive.mount('/content/drive')"
   ]
  },
  {
   "cell_type": "markdown",
   "metadata": {
    "id": "tU91DqM-Ly84"
   },
   "source": [
    "#### Задание 3.\n",
    "Поменяйте модуль Simple RNN на LSTM. Запустите обучение модели с разным количеством эпох и размером мини-батча.  \n",
    "Желательно, чтобы параметры совпадали с предыдущим экспериментом и можно было сравнивать модели.  \n",
    "Один или несколько результатов генерации в конце каждого эксперимента вместе с временем запуска и параметрами запишите в отдельный файл.  \n",
    "Проведите не менее 10 экспериментов.  \n",
    "Сделайте выводы об эффективности разных вариантов модели."
   ]
  },
  {
   "cell_type": "code",
   "execution_count": 37,
   "metadata": {
    "colab": {
     "base_uri": "https://localhost:8080/"
    },
    "executionInfo": {
     "elapsed": 17,
     "status": "ok",
     "timestamp": 1749684570044,
     "user": {
      "displayName": "Elena V. Razova",
      "userId": "14939859328445060819"
     },
     "user_tz": -180
    },
    "id": "wOh3jQw4-i5E",
    "outputId": "2080754c-fc69-4bf6-fb8c-66a21b4cb754"
   },
   "outputs": [
    {
     "name": "stdout",
     "output_type": "stream",
     "text": [
      "Using device: cpu\n"
     ]
    }
   ],
   "source": [
    "# Проверяем доступность CUDA (GPU)\n",
    "device = torch.device('cuda' if torch.cuda.is_available() else 'cpu')\n",
    "print(f\"Using device: {device}\")"
   ]
  },
  {
   "cell_type": "code",
   "execution_count": 38,
   "metadata": {
    "executionInfo": {
     "elapsed": 2,
     "status": "ok",
     "timestamp": 1749684961404,
     "user": {
      "displayName": "Elena V. Razova",
      "userId": "14939859328445060819"
     },
     "user_tz": -180
    },
    "id": "UX9NFTRR0dN0"
   },
   "outputs": [],
   "source": [
    "# Описание класса LSTM\n",
    "\n",
    "class LSTM(nn.Module):\n",
    "    def __init__(self, input_size, embedding_size, hidden_size, output_size, num_layers):\n",
    "        super(LSTM, self).__init__()\n",
    "        self.hidden_size = hidden_size\n",
    "        self.num_layers = num_layers\n",
    "        self.device = torch.device('cuda' if torch.cuda.is_available() else 'cpu')\n",
    "\n",
    "        # Слой embedding\n",
    "        self.embedding = nn.Embedding(input_size, embedding_size)\n",
    "\n",
    "        # LSTM слой вместо RNN\n",
    "        self.lstm = nn.LSTM(embedding_size,\n",
    "                           hidden_size,\n",
    "                           num_layers=num_layers,\n",
    "                           batch_first=True)\n",
    "\n",
    "        # Полносвязный слой\n",
    "        self.fc = nn.Linear(hidden_size, output_size)\n",
    "\n",
    "        # Перенос всех параметров на устройство\n",
    "        self.to(self.device)\n",
    "\n",
    "    def forward(self, x, hidden):\n",
    "        # hidden_cell - это кортеж (hidden_state, cell_state)\n",
    "        x = x.to(self.device)\n",
    "        embedded = self.embedding(x)  # (batch_size, seq_length, embedding_size)\n",
    "\n",
    "        # LSTM возвращает output, (hidden_state, cell_state)\n",
    "        output, hidden = self.lstm(embedded, hidden)\n",
    "\n",
    "        # Преобразуем output перед полносвязным слоем\n",
    "        output = output.contiguous().view(-1, self.hidden_size)\n",
    "        output = self.fc(output)\n",
    "        return output, hidden\n",
    "\n",
    "    def init_hidden(self, batch_size):\n",
    "        # Инициализируем hidden и cell states\n",
    "        hidden_cell = (\n",
    "            torch.zeros(self.num_layers, batch_size, self.hidden_size, device=self.device),\n",
    "            torch.zeros(self.num_layers, batch_size, self.hidden_size, device= self.device)\n",
    "        )\n",
    "        return hidden_cell\n"
   ]
  },
  {
   "cell_type": "code",
   "execution_count": 39,
   "metadata": {
    "executionInfo": {
     "elapsed": 19,
     "status": "ok",
     "timestamp": 1749684962856,
     "user": {
      "displayName": "Elena V. Razova",
      "userId": "14939859328445060819"
     },
     "user_tz": -180
    },
    "id": "nymEuszkQg_5"
   },
   "outputs": [],
   "source": [
    "# Модификация функции random_train_set\n",
    "def random_training_set(data, seq_len, vocabulary, device):\n",
    "    sequence = random_sequence(data, seq_len)\n",
    "    input = char_to_tensor(sequence[:-1], vocabulary)\n",
    "    target = char_to_tensor(sequence[1:], vocabulary)\n",
    "    input = torch.tensor(input, dtype=torch.long, device=device).unsqueeze(1),  # Добавляем размерность батча\n",
    "    target = torch.tensor(target, dtype=torch.long, device=device).unsqueeze(1)#,  # Добавляем размерность батча\n",
    "    return (input, target)"
   ]
  },
  {
   "cell_type": "code",
   "execution_count": 40,
   "metadata": {
    "executionInfo": {
     "elapsed": 34,
     "status": "ok",
     "timestamp": 1749684964291,
     "user": {
      "displayName": "Elena V. Razova",
      "userId": "14939859328445060819"
     },
     "user_tz": -180
    },
    "id": "mLP_N5hx03j4"
   },
   "outputs": [],
   "source": [
    "# Модификация функции train\n",
    "def train(input, target, batch_size, model, optimizer, criterion):\n",
    "    '''\n",
    "    input - тензор размерности (seq_len, batch_size). Тензор содержит индексы символов.\n",
    "    target - истинная последовательность индексов следующих символов (целевая переменная); размерность (seq_len, batch_size)\n",
    "    '''\n",
    "\n",
    "    # Инициализируем hidden и cell states\n",
    "    hidden_cell = model.init_hidden(batch_size)\n",
    "\n",
    "    # Убедимся, что данные на правильном устройстве\n",
    "    input = input.to(model.device)\n",
    "    target = target.to(model.device)\n",
    "\n",
    "    model.zero_grad()\n",
    "    loss = 0\n",
    "\n",
    "    outputs, hidden = model(input, hidden)\n",
    "\n",
    "    # Преобразуем размерности для вычисления функции потерь\n",
    "    outputs = outputs.view(seq_len * batch_size, -1)\n",
    "    target = target.view(seq_len * batch_size)\n",
    "\n",
    "    loss = criterion(outputs, target)\n",
    "\n",
    "    loss.backward()\n",
    "    rnn_optimizer.step()\n",
    "\n",
    "    return loss.data / len(input)"
   ]
  },
  {
   "cell_type": "code",
   "execution_count": 41,
   "metadata": {
    "executionInfo": {
     "elapsed": 2,
     "status": "ok",
     "timestamp": 1749684965542,
     "user": {
      "displayName": "Elena V. Razova",
      "userId": "14939859328445060819"
     },
     "user_tz": -180
    },
    "id": "4-eMp1tU2Q3E"
   },
   "outputs": [],
   "source": [
    "# Модификация функции evaluate\n",
    "def evaluate(model, vocabulary, batch_size, prefix='а', predict_len=100):\n",
    "\n",
    "    # Инициализируем скрытое состояние\n",
    "    hidden_cell = model.init_hidden(batch_size)\n",
    "\n",
    "    # Преобразуем префиксную строку в тензор индексов\n",
    "    prefix_input = char_to_tensor(prefix, vocabulary)\n",
    "\n",
    "    # В переменной predicted будет храниться порождаемая строка (результат работы всей функции).\n",
    "    # Записываем в неё сначала префиксную строку\n",
    "    predicted = prefix\n",
    "\n",
    "    # Запускаем модель на префиксной строке - формируем скрытое состояние для дальнейшей генерации\n",
    "    for p in range(len(prefix) - 1):\n",
    "        input = prefix_input[p]\n",
    "        input = input.view(-1, 1).to(device)\n",
    "        outputs, hidden_cell = model(input, hidden_cell)\n",
    "\n",
    "    # В качестве первого символа для генерации (предсказания следующего символа) выступает последний символ префиксной строки\n",
    "    input = prefix_input[-1]\n",
    "    input = input.reshape(-1, 1).to(device)\n",
    "\n",
    "    # Генерируем predict_len символов\n",
    "    for p in range(predict_len):\n",
    "\n",
    "        # Запускаем модель с текущим входным символом и текущим скрытым состоянием\n",
    "        output, hidden_cell = model(input, hidden_cell)\n",
    "\n",
    "        # В output возвращаются вероятности всех символов из словаря.\n",
    "        # Выбираем из этого распределения символ (сэмплируем)\n",
    "        output_dist = output.data.view(-1)\n",
    "        output_dist = output_dist.exp()\n",
    "        top_index = torch.multinomial(output_dist, 1)[0]\n",
    "\n",
    "        # Добавляем предсказанный символ в результирующую строку\n",
    "        predicted_char = vocabulary[top_index]\n",
    "        predicted += predicted_char\n",
    "\n",
    "        # Используем предсказанный символ как следующий вход\n",
    "        input = char_to_tensor(predicted_char, vocabulary)\n",
    "        input = input.reshape(-1, 1).to(device)\n",
    "\n",
    "    return predicted"
   ]
  },
  {
   "cell_type": "code",
   "execution_count": 42,
   "metadata": {
    "executionInfo": {
     "elapsed": 21,
     "status": "ok",
     "timestamp": 1749684967233,
     "user": {
      "displayName": "Elena V. Razova",
      "userId": "14939859328445060819"
     },
     "user_tz": -180
    },
    "id": "TSQV7Qu-3lxJ"
   },
   "outputs": [],
   "source": [
    "def training_model(name_model):\n",
    "  results = []\n",
    "\n",
    "  for exp_idx, config in enumerate(experiments, 1):\n",
    "    print(f\"\\n=== Эксперимент {exp_idx}/{len(experiments)} ===\")\n",
    "    print(f\"Параметры: {config}\")\n",
    "\n",
    "    # Инициализация модели для каждого эксперимента\n",
    "    if name_model=='rnn':\n",
    "      model = RNN(\n",
    "        input_size=len(vocabulary),\n",
    "        embedding_size=embedding_size,\n",
    "        hidden_size=hidden_size,\n",
    "        output_size=len(vocabulary),\n",
    "        num_layers=num_layers\n",
    "      ).to(device)\n",
    "    elif name_model=='LSTM':\n",
    "      model = LSTM(\n",
    "        input_size=len(vocabulary),\n",
    "        embedding_size=embedding_size,\n",
    "        hidden_size=hidden_size,\n",
    "        output_size=len(vocabulary),\n",
    "        num_layers=num_layers\n",
    "      )\n",
    "    '''\n",
    "    else:\n",
    "      model = GRU(\n",
    "        input_size=len(vocabulary),\n",
    "        embedding_size=embedding_size,\n",
    "        hidden_size=hidden_size,\n",
    "        output_size=len(vocabulary),\n",
    "        num_layers=num_layers\n",
    "      )\n",
    "    '''\n",
    "\n",
    "    model_optimizer = torch.optim.Adam(model.parameters(), lr=lr)\n",
    "    criterion = nn.CrossEntropyLoss()\n",
    "\n",
    "    # Основной цикл обучения\n",
    "    start_time = time.time()\n",
    "    all_losses = []\n",
    "    loss_avg = 0\n",
    "    best_text = \"\"\n",
    "    best_loss = float('inf')\n",
    "\n",
    "    for epoch in range(1, config['n_epochs'] + 1):\n",
    "        # Обучение (ваш существующий код)\n",
    "        input, target = random_training_set(data, seq_len, vocabulary, device=model.device)\n",
    "        #input = input.view(-1, 1).to(device)\n",
    "        #target = target.view(-1, 1).to(device)\n",
    "\n",
    "        for b in range(config['batch_size_train']-1):\n",
    "            sequence, target_seq = random_training_set(data, seq_len, vocabulary, device=model.device)\n",
    "            #sequence = sequence.view(-1, 1)\n",
    "            #target_seq = target_seq.view(-1, 1)\n",
    "\n",
    "            # Проверка и преобразование если необходимо\n",
    "            if isinstance(sequence, tuple):\n",
    "                sequence = sequence[0]  # Берем первый элемент если это кортеж\n",
    "            if isinstance(target_seq, tuple):\n",
    "                target_seq = target_seq[0]\n",
    "\n",
    "            input = torch.cat((input, sequence), dim=1)\n",
    "            target = torch.cat((target, target_seq), dim=1)\n",
    "\n",
    "        loss = train(input, target, config['batch_size_train'], model, model_optimizer, criterion)\n",
    "        loss_avg += loss\n",
    "\n",
    "        # Сохраняем лучший результат\n",
    "        if loss < best_loss:\n",
    "            best_loss = loss\n",
    "            best_text = evaluate(\n",
    "                model=rnn,\n",
    "                vocabulary=vocabulary,\n",
    "                batch_size=config['batch_size_test'],\n",
    "                prefix=prefix,\n",
    "                predict_len=predict_len,\n",
    "            )\n",
    "\n",
    "        if epoch % plot_every == 0:\n",
    "            all_losses.append(loss_avg / plot_every)\n",
    "            loss_avg = 0\n",
    "\n",
    "    # Сохранение результатов эксперимента\n",
    "    experiment_time = time.time() - start_time\n",
    "    results.append({\n",
    "        'experiment_id': exp_idx,\n",
    "        'parameters': config,\n",
    "        'training_time': experiment_time,\n",
    "        'final_loss': loss,\n",
    "        'best_generated_text': best_text,\n",
    "        'all_losses': all_losses\n",
    "    })\n",
    "\n",
    "    print(f\"Эксперимент {exp_idx} завершен за {experiment_time:.2f} сек\")\n",
    "    print(f\"Лучший сгенерированный текст:\\n{best_text}\\n\")\n",
    "  return results"
   ]
  },
  {
   "cell_type": "code",
   "execution_count": 43,
   "metadata": {
    "colab": {
     "base_uri": "https://localhost:8080/",
     "height": 474
    },
    "executionInfo": {
     "elapsed": 78,
     "status": "error",
     "timestamp": 1749684968828,
     "user": {
      "displayName": "Elena V. Razova",
      "userId": "14939859328445060819"
     },
     "user_tz": -180
    },
    "id": "DLT7LhjQ4cj7",
    "outputId": "d6e2ff14-f413-470f-9589-984e6ecb4fc4"
   },
   "outputs": [
    {
     "name": "stdout",
     "output_type": "stream",
     "text": [
      "\n",
      "=== Эксперимент 1/10 ===\n",
      "Параметры: {'n_epochs': 50, 'batch_size_train': 32, 'batch_size_test': 1}\n"
     ]
    },
    {
     "name": "stderr",
     "output_type": "stream",
     "text": [
      "/tmp/ipykernel_142345/1587237110.py:6: UserWarning: To copy construct from a tensor, it is recommended to use sourceTensor.clone().detach() or sourceTensor.clone().detach().requires_grad_(True), rather than torch.tensor(sourceTensor).\n",
      "  input = torch.tensor(input, dtype=torch.long, device=device).unsqueeze(1),  # Добавляем размерность батча\n",
      "/tmp/ipykernel_142345/1587237110.py:7: UserWarning: To copy construct from a tensor, it is recommended to use sourceTensor.clone().detach() or sourceTensor.clone().detach().requires_grad_(True), rather than torch.tensor(sourceTensor).\n",
      "  target = torch.tensor(target, dtype=torch.long, device=device).unsqueeze(1)#,  # Добавляем размерность батча\n"
     ]
    },
    {
     "ename": "TypeError",
     "evalue": "expected Tensor as element 0 in argument 0, but got tuple",
     "output_type": "error",
     "traceback": [
      "\u001b[0;31m---------------------------------------------------------------------------\u001b[0m",
      "\u001b[0;31mTypeError\u001b[0m                                 Traceback (most recent call last)",
      "Cell \u001b[0;32mIn[43], line 1\u001b[0m\n\u001b[0;32m----> 1\u001b[0m results \u001b[38;5;241m=\u001b[39m \u001b[43mtraining_model\u001b[49m\u001b[43m(\u001b[49m\u001b[38;5;124;43m'\u001b[39;49m\u001b[38;5;124;43mLSTM\u001b[39;49m\u001b[38;5;124;43m'\u001b[39;49m\u001b[43m)\u001b[49m\n\u001b[1;32m      3\u001b[0m save_to_file(results, \u001b[38;5;124m'\u001b[39m\u001b[38;5;124mLSTM\u001b[39m\u001b[38;5;124m'\u001b[39m)\n\u001b[1;32m      5\u001b[0m plot_loss(results,\u001b[38;5;124m'\u001b[39m\u001b[38;5;124mLSTM\u001b[39m\u001b[38;5;124m'\u001b[39m)\n",
      "Cell \u001b[0;32mIn[42], line 63\u001b[0m, in \u001b[0;36mtraining_model\u001b[0;34m(name_model)\u001b[0m\n\u001b[1;32m     60\u001b[0m     \u001b[38;5;28;01mif\u001b[39;00m \u001b[38;5;28misinstance\u001b[39m(target_seq, \u001b[38;5;28mtuple\u001b[39m):\n\u001b[1;32m     61\u001b[0m         target_seq \u001b[38;5;241m=\u001b[39m target_seq[\u001b[38;5;241m0\u001b[39m]\n\u001b[0;32m---> 63\u001b[0m     \u001b[38;5;28minput\u001b[39m \u001b[38;5;241m=\u001b[39m \u001b[43mtorch\u001b[49m\u001b[38;5;241;43m.\u001b[39;49m\u001b[43mcat\u001b[49m\u001b[43m(\u001b[49m\u001b[43m(\u001b[49m\u001b[38;5;28;43minput\u001b[39;49m\u001b[43m,\u001b[49m\u001b[43m \u001b[49m\u001b[43msequence\u001b[49m\u001b[43m)\u001b[49m\u001b[43m,\u001b[49m\u001b[43m \u001b[49m\u001b[43mdim\u001b[49m\u001b[38;5;241;43m=\u001b[39;49m\u001b[38;5;241;43m1\u001b[39;49m\u001b[43m)\u001b[49m\n\u001b[1;32m     64\u001b[0m     target \u001b[38;5;241m=\u001b[39m torch\u001b[38;5;241m.\u001b[39mcat((target, target_seq), dim\u001b[38;5;241m=\u001b[39m\u001b[38;5;241m1\u001b[39m)\n\u001b[1;32m     66\u001b[0m loss \u001b[38;5;241m=\u001b[39m train(\u001b[38;5;28minput\u001b[39m, target, config[\u001b[38;5;124m'\u001b[39m\u001b[38;5;124mbatch_size_train\u001b[39m\u001b[38;5;124m'\u001b[39m], model, model_optimizer, criterion)\n",
      "\u001b[0;31mTypeError\u001b[0m: expected Tensor as element 0 in argument 0, but got tuple"
     ]
    }
   ],
   "source": [
    "results = training_model('LSTM')\n",
    "\n",
    "save_to_file(results, 'LSTM')\n",
    "\n",
    "plot_loss(results,'LSTM')"
   ]
  },
  {
   "cell_type": "markdown",
   "metadata": {
    "id": "fwa2n44NLy84"
   },
   "source": [
    "#### Задание 4.\n",
    "Повторите предыдущее задание для модуля GRU.  \n",
    "Кроме выводов об эффективности, сделайте выводы о времени обучения разных моделей – Simple RNN, LSTM, GRU."
   ]
  },
  {
   "cell_type": "markdown",
   "metadata": {
    "id": "YIRoHmGnLy84"
   },
   "source": [
    "#### Задание 5.\n",
    "Выберите лучшую модель по результатам предыдущих экспериментов и попробуйте добиться повышения качества за счёт разного количества слоёв."
   ]
  },
  {
   "cell_type": "markdown",
   "metadata": {
    "id": "6BOUYHFmLy84"
   },
   "source": [
    "#### Задание 6.\n",
    "Прочитайте в [Николенко и др., 2018, стр. 266] о понятии \"температура\", которое часто используется при генерации текстов.  \n",
    "Добавьте данный параметр в функцию `evaluate()`.  \n",
    "Проверьте его влияние на результаты генерации."
   ]
  },
  {
   "cell_type": "markdown",
   "metadata": {
    "id": "nUQitsngLy84"
   },
   "source": [
    "#### Задание 7 (факультативное).\n",
    "Разбейте текст на последовательности не случайным образом, а по предложениям.  \n",
    "Предложения можно получить из текста при помощи функции `nltk.tokenize.sent_tokenize()`.  \n",
    "Так как предложения окажутся неодинаковой длины, а последовательности на вход модели должны поступать одинакового размера, придется дополнить предложения до максимальной длины символом, не входящим в словарь (например, каким-нибудь из [управляющих символов](https://ru.wikipedia.org/wiki/Управляющие_символы) `\\0`, `\\a`, `\\b` и т.д.)."
   ]
  },
  {
   "cell_type": "markdown",
   "metadata": {
    "id": "ddgNbSO3Ly84"
   },
   "source": [
    "#### Задание 8 (факультативное).\n",
    "Реализуйте стратегию 3 из учебника [Николенко и др., 2018, стр. 260] – разбиение текста на последовательности примерно одной длины с правильно инициализированными скрытыми состояниями рекуррентной сети."
   ]
  }
 ],
 "metadata": {
  "accelerator": "GPU",
  "colab": {
   "gpuType": "T4",
   "provenance": []
  },
  "kernelspec": {
   "display_name": "Python 3",
   "name": "python3"
  },
  "language_info": {
   "codemirror_mode": {
    "name": "ipython",
    "version": 3
   },
   "file_extension": ".py",
   "mimetype": "text/x-python",
   "name": "python",
   "nbconvert_exporter": "python",
   "pygments_lexer": "ipython3",
   "version": "3.13.1"
  }
 },
 "nbformat": 4,
 "nbformat_minor": 0
}
