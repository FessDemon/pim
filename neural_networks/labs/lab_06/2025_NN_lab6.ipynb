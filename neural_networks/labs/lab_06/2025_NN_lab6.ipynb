{
 "cells": [
  {
   "cell_type": "markdown",
   "metadata": {},
   "source": [
    "# Лабораторная работа 6. Рекуррентные сети"
   ]
  },
  {
   "cell_type": "markdown",
   "metadata": {},
   "source": [
    "В работе демонстрируется построение рекуррентной нейронной сети для посимвольной генерации текста.  \n",
    "\n",
    "Полезные ссылки:\n",
    "- [Andrej Karpathy – The Unreasonable Effectiveness of Recurrent Neural Networks](http://karpathy.github.io/2015/05/21/rnn-effectiveness)\n",
    "- [Practical PyTorch: Generating Shakespeare with a Character-Level RNN](https://github.com/spro/practical-pytorch/blob/master/char-rnn-generation/char-rnn-generation.ipynb)\n",
    "- [С. Николенко и др., 2018] – параграф 6.6."
   ]
  },
  {
   "cell_type": "code",
   "execution_count": 1,
   "metadata": {},
   "outputs": [],
   "source": [
    "import torch\n",
    "import torch.nn as nn\n",
    "import random\n",
    "import time\n",
    "import math\n",
    "import matplotlib.pyplot as plt"
   ]
  },
  {
   "cell_type": "markdown",
   "metadata": {},
   "source": [
    "Задаем параметры:"
   ]
  },
  {
   "cell_type": "code",
   "execution_count": 2,
   "metadata": {},
   "outputs": [],
   "source": [
    "filename = 'onegin.txt'  # Входной файл с текстом\n",
    "\n",
    "seq_len = 200            # Размер последовательности для одной эпохи\n",
    "batch_size_train = 1     # Размер батча для обучения\n",
    "batch_size_test = 1      # Размер батча для предсказания (в данном случае всегда 1)\n",
    "hidden_size = 100        # Размер скрытого состояния\n",
    "embedding_size = 100     # Размер векторов-эмбеддингов для представления символов\n",
    "num_layers = 1           # Количество слоев\n",
    "lr = 0.005               # Скорость обучения\n",
    "n_epochs = 1000          # Количество эпох\n",
    "print_every = 100        # Интервал эпох для вывода результатов\n",
    "plot_every = 10          # Интервал эпох для вывода потерь\n",
    "predict_len = 100        # Количество символов для генерации"
   ]
  },
  {
   "cell_type": "markdown",
   "metadata": {},
   "source": [
    "*Замечание*. Понятие \"эпоха\" обозначает период обработки всего обучающего множества. Но в контексте рекуррентных сетей это понятие может иметь значение, отличающееся от обычного, поскольку часто датасет бывает жестко не определен (например, из одного текста мы можем генерировать бесконечное количество последовательностей).  \n",
    "Поэтому в данной лабораторной работе понятие \"эпоха\" обозначает период обработки всей последовательности размером `seq_len`."
   ]
  },
  {
   "cell_type": "markdown",
   "metadata": {},
   "source": [
    "Обеспечиваем воспроизводимость результатов (https://pytorch.org/docs/stable/notes/randomness.html):"
   ]
  },
  {
   "cell_type": "code",
   "execution_count": 3,
   "metadata": {},
   "outputs": [
    {
     "data": {
      "text/plain": [
       "<torch._C.Generator at 0x1b33c69c510>"
      ]
     },
     "execution_count": 3,
     "metadata": {},
     "output_type": "execute_result"
    }
   ],
   "source": [
    "torch.manual_seed(0)"
   ]
  },
  {
   "cell_type": "markdown",
   "metadata": {},
   "source": [
    "---\n",
    "Подготовьте входной текстовый файл. Можно взять ваше любимое художественное произведение.  \n",
    "Здесь в качестве примера используется \"Евгений Онегин\"."
   ]
  },
  {
   "cell_type": "code",
   "execution_count": 4,
   "metadata": {},
   "outputs": [
    {
     "name": "stdout",
     "output_type": "stream",
     "text": [
      "Длина текста: 144313 символов\n",
      "\n",
      "Первые 200 строк:\n",
      "\n",
      "ЕВГЕНИЙ ОНЕГИН\n",
      "\n",
      "РОМАН В СТИХАХ\n",
      "\n",
      "Petri  de  vanite  il  avait  encore plus de cette espece d'orgueil qui fait\n",
      "avouer  avec  la  meme  indifference les bonnes comme les mauvaises actions,\n",
      "suite d'un sen\n"
     ]
    }
   ],
   "source": [
    "with open(filename, encoding='utf-8') as f:\n",
    "    data = f.read()\n",
    "print(f'Длина текста: {len(data)} символов')\n",
    "print(f'\\nПервые {seq_len} строк:\\n\\n{data[:seq_len]}')"
   ]
  },
  {
   "cell_type": "markdown",
   "metadata": {},
   "source": [
    "---\n",
    "Переводим текст в нижний регистр и создаем словарь всех символов:"
   ]
  },
  {
   "cell_type": "code",
   "execution_count": 5,
   "metadata": {},
   "outputs": [
    {
     "name": "stdout",
     "output_type": "stream",
     "text": [
      "Размер словаря: 82\n",
      "['\\n', ' ', '!', '\"', \"'\", '(', ')', ',', '-', '.', '0', '1', '2', '3', '4', '5', '6', '7', '8', '9', ':', ';', '?', 'a', 'b', 'c', 'd', 'e', 'f', 'g', 'h', 'i', 'k', 'l', 'm', 'n', 'o', 'p', 'q', 'r', 's', 't', 'u', 'v', 'w', 'x', 'y', 'z', '{', '}', 'а', 'б', 'в', 'г', 'д', 'е', 'ж', 'з', 'и', 'й', 'к', 'л', 'м', 'н', 'о', 'п', 'р', 'с', 'т', 'у', 'ф', 'х', 'ц', 'ч', 'ш', 'щ', 'ъ', 'ы', 'ь', 'э', 'ю', 'я']\n"
     ]
    }
   ],
   "source": [
    "data = data.lower()\n",
    "\n",
    "vocabulary = set(data)\n",
    "vocabulary = sorted(vocabulary)\n",
    "print(f'Размер словаря: {len(vocabulary)}')\n",
    "print(vocabulary)"
   ]
  },
  {
   "cell_type": "markdown",
   "metadata": {},
   "source": [
    "---\n",
    "Подготовим функцию для генерации случайных последовательностей длиной `seq_len+1` из входного текста.  \n",
    "Единица прибавляется, так как в дальнейшем мы будем из этой сгенерированной последовательности получать две:\n",
    "- *обучающую*, без последнего символа,\n",
    "- *предсказываемую*, без первого символа.  \n",
    "\n",
    "Таким образом, предсказываемая последовательность будет как бы сдвинута относительно обучающей на единицу вправо и каждый символ предсказываемой последовательности будет являться следующим символом для соответствующего обучающего символа.  \n",
    "Обе последовательности будут на единицу меньше исходной последовательности."
   ]
  },
  {
   "cell_type": "code",
   "execution_count": 6,
   "metadata": {},
   "outputs": [
    {
     "name": "stdout",
     "output_type": "stream",
     "text": [
      "length = 201\n",
      "\n",
      ",\n",
      "рисуя в пламенных стихах\n",
      "прогулки тайные в санях;\n",
      "но я бороться не намерен\n",
      "ни с ним покамест, ни с тобой,\n",
      "певец финляндки молодой! {28}\n",
      "\n",
      "iv\n",
      "\n",
      "татьяна (русская душою,\n",
      "сама не зная почему)\n",
      "с ее холодною\n"
     ]
    }
   ],
   "source": [
    "def random_sequence(data, seq_len):\n",
    "    start_index = random.randint(0, len(data) - seq_len - 1)\n",
    "    end_index = start_index + seq_len + 1\n",
    "    return data[start_index:end_index]\n",
    "\n",
    "sequence = random_sequence(data, seq_len)\n",
    "print(f'length = {len(sequence)}\\n\\n{sequence}')"
   ]
  },
  {
   "cell_type": "markdown",
   "metadata": {},
   "source": [
    "---\n",
    "Задаем модель:"
   ]
  },
  {
   "cell_type": "code",
   "execution_count": 7,
   "metadata": {},
   "outputs": [],
   "source": [
    "class RNN(nn.Module):\n",
    "    def __init__(self, input_size, embedding_size, hidden_size, output_size, num_layers=1):\n",
    "        \n",
    "        super(RNN, self).__init__()\n",
    "        \n",
    "        self.hidden_size = hidden_size\n",
    "        self.num_layers = num_layers\n",
    "        \n",
    "        self.embedding = nn.Embedding(num_embeddings=input_size, embedding_dim=embedding_size)\n",
    "        self.rnn = nn.RNN(input_size=embedding_size, hidden_size=hidden_size, num_layers=num_layers)\n",
    "        self.decoder = nn.Linear(in_features=hidden_size, out_features=output_size)\n",
    "    \n",
    "    def forward(self, input, hidden):\n",
    "        # На вход поступает двумерный тензор индексов символов размерности (seq_len, batch_size)\n",
    "        embeddings = self.embedding(input)\n",
    "        \n",
    "        # После слоя Embedding добавляется ещё одна размерность (векторов-эмбеддингов для индексов символов).\n",
    "        # Итоговая размерность входа для RNN будет (seq_len, batch_size, embedding_size)\n",
    "        output, hidden = self.rnn(embeddings, hidden)\n",
    "        \n",
    "        # Преобразуем скрытое состояние RNN для каждого символа в вероятности следующего символа.\n",
    "        output = self.decoder(output)\n",
    "        \n",
    "        # Размерность выхода: (seq_len, batch_size, output_size=len(vocabulary))\n",
    "        return output, hidden\n",
    "\n",
    "    def init_hidden(self, batch_size):\n",
    "        # Должна быть размерность (num_layers * num_directions, batch_size, hidden_size)\n",
    "        return torch.zeros(self.num_layers, batch_size, self.hidden_size)"
   ]
  },
  {
   "cell_type": "markdown",
   "metadata": {},
   "source": [
    "Класс `Embedding` используется для формирования векторного представления каких-либо элементов (символов, слов, изображений, звуков и т.п.). Он представляет собой таблицу поиска (lookup table), на вход которой поступают индексы элементов, а на выходе выдаются векторные представления этих элементов ([справка PyTorch](https://pytorch.org/docs/stable/generated/torch.nn.Embedding.html)).  \n",
    "Слой `Embedding` имеет свою матрицу весов, которые настраиваются в процессе обучения. Веса инициализируются из нормального распределения $N(0,1)$.  \n",
    "После обучения слой `Embedding` будет содержать веса, в каком-то смысле \"хорошо\" представляющие входные элементы для текущей задачи.  \n",
    "Данный слой при создании требует двух основных параметров:\n",
    "- `num_embeddings` – размер словаря элементов (общее количество элементов, которые мы хотим закодировать);\n",
    "- `embedding_dim` – размерность выходных векторов.  \n",
    "\n",
    "Слой `Embedding` является, по сути, аналогом обычного слоя `Linear`, но `Linear` на входе ожидает вектор (например, *one-hot encoding* представление элементов), а на входе `Embedding` – тензоры любой размерности, содержащие просто индексы элементов, для которых необходимо получить векторное представление:"
   ]
  },
  {
   "cell_type": "code",
   "execution_count": 8,
   "metadata": {},
   "outputs": [
    {
     "name": "stdout",
     "output_type": "stream",
     "text": [
      "embedding.weight:\n",
      "tensor([[-1.1258, -1.1524, -0.2506],\n",
      "        [-0.4339,  0.8487,  0.6920],\n",
      "        [-0.3160, -2.1152,  0.3223],\n",
      "        [-1.2633,  0.3500,  0.3081],\n",
      "        [ 0.1198,  1.2377, -0.1435],\n",
      "        [-0.1116, -0.6136,  0.0316],\n",
      "        [-0.4927,  0.2484,  0.4397],\n",
      "        [ 0.1124, -0.8411, -2.3160],\n",
      "        [-0.1023,  0.7924, -0.2897],\n",
      "        [ 0.0525,  0.5229,  2.3022]])\n",
      "\n",
      "Вектор для элемента с индексом 5:\n",
      "tensor([-0.1116, -0.6136,  0.0316])\n",
      "\n",
      "Векторы для массива индексов:\n",
      "tensor([[[-0.4339,  0.8487,  0.6920],\n",
      "         [-0.3160, -2.1152,  0.3223]],\n",
      "\n",
      "        [[ 0.1198,  1.2377, -0.1435],\n",
      "         [-0.1116, -0.6136,  0.0316]]])\n"
     ]
    }
   ],
   "source": [
    "# Пример\n",
    "embedding = nn.Embedding(num_embeddings=10, embedding_dim=3)\n",
    "print(f'embedding.weight:\\n{embedding.weight.data}')\n",
    "\n",
    "i = torch.tensor(5)\n",
    "print(f'\\nВектор для элемента с индексом {i}:\\n{embedding(i).data}')\n",
    "\n",
    "array = torch.tensor([[1, 2], [4, 5]])\n",
    "print(f'\\nВекторы для массива индексов:\\n{embedding(array).data}')"
   ]
  },
  {
   "attachments": {
    "ab07bd44-12b6-44d5-9465-d8e3e64d1899.png": {
     "image/png": "[encoded data removed]"
    }
   },
   "cell_type": "markdown",
   "metadata": {},
   "source": [
    "---\n",
    "В итоге, модель будет выглядеть следующим образом:  \n",
    "\n",
    "![image.png](attachment:ab07bd44-12b6-44d5-9465-d8e3e64d1899.png)"
   ]
  },
  {
   "cell_type": "markdown",
   "metadata": {},
   "source": [
    "---\n",
    "Функция, которая по входной строке возвращает список индексов из словаря `vocabulary`:"
   ]
  },
  {
   "cell_type": "code",
   "execution_count": 9,
   "metadata": {},
   "outputs": [
    {
     "name": "stdout",
     "output_type": "stream",
     "text": [
      "tensor([64, 63, 55, 53, 58, 63])\n"
     ]
    }
   ],
   "source": [
    "def char_to_tensor(string, vocabulary):\n",
    "    tensor = torch.zeros(len(string)).long()\n",
    "    for c in range(len(string)):\n",
    "        tensor[c] = vocabulary.index(string[c])\n",
    "    return tensor\n",
    "\n",
    "indices = char_to_tensor('онегин', vocabulary)\n",
    "print(indices)"
   ]
  },
  {
   "cell_type": "markdown",
   "metadata": {},
   "source": [
    "Напишем также функцию для обратного преобразования из списка индексов в строку:"
   ]
  },
  {
   "cell_type": "code",
   "execution_count": 10,
   "metadata": {},
   "outputs": [
    {
     "name": "stdout",
     "output_type": "stream",
     "text": [
      "онегин\n"
     ]
    }
   ],
   "source": [
    "def tensor_to_char(tensor, vocabulary):\n",
    "    s = ''\n",
    "    for t in tensor:\n",
    "        s += vocabulary[int(t)]\n",
    "    return s\n",
    "\n",
    "print(tensor_to_char(indices, vocabulary))"
   ]
  },
  {
   "cell_type": "markdown",
   "metadata": {},
   "source": [
    "---\n",
    "Напишем функцию для генерации пары (входная последовательность, выходная последовательность).  \n",
    "В качестве входной (обучающей) последовательности выступает случайная строка без последнего символа;  \n",
    "выходная последовательность – та же строка без первого символа.  \n",
    "Таким образом, каждому элементу входной последовательности (символу) соответствует элемент выходной последовательности (символ), который является следующим символом в строке.  \n",
    "Выходная последовательность является целевой переменной, именно её сеть будет пытаться предсказать.  \n",
    "Размер каждой последовательности – `seq_len`."
   ]
  },
  {
   "cell_type": "code",
   "execution_count": 11,
   "metadata": {},
   "outputs": [],
   "source": [
    "def random_training_set(data, seq_len, vocabulary):\n",
    "    sequence = random_sequence(data, seq_len)\n",
    "    input = char_to_tensor(sequence[:-1], vocabulary)\n",
    "    target = char_to_tensor(sequence[1:], vocabulary)\n",
    "    return input, target"
   ]
  },
  {
   "cell_type": "code",
   "execution_count": 12,
   "metadata": {},
   "outputs": [
    {
     "name": "stdout",
     "output_type": "stream",
     "text": [
      "********** input (200)**********\n",
      "\n",
      "tensor([67, 55,  1, 66, 55, 73, 58,  1, 62, 55, 66, 58, 68,  0, 69, 67, 61, 69,\n",
      "        56, 61, 58, 52, 64,  1, 63, 50,  1, 63, 50, 74,  1, 50, 66, 74, 58, 63,\n",
      "        22,  0, 60, 68, 64,  1, 60, 61, 55, 52, 55, 68, 77,  1, 65, 66, 64,  1,\n",
      "        63, 50, 67,  1, 63, 55,  1, 67, 55, 55, 68, 22,  0, 60, 68, 64,  1, 63,\n",
      "        50, 67,  1, 57, 50, 51, 64, 68, 61, 58, 52, 64,  1, 61, 55, 61, 55, 55,\n",
      "        68, 22,  0, 60, 64, 62, 69,  1, 65, 64, 66, 64, 60,  1, 63, 50, 74,  1,\n",
      "        63, 55,  1, 51, 55, 54, 50, 22,  0, 60, 68, 64,  1, 63, 55,  1, 63, 50,\n",
      "        67, 60, 69, 73, 58, 68,  1, 63, 58, 60, 64, 53, 54, 50, 22,  0, 65, 66,\n",
      "        58, 57, 66, 50, 60, 50,  1, 67, 69, 55, 68, 63, 77, 59,  1, 58, 67, 60,\n",
      "        50, 68, 55, 61, 78,  7,  0, 68, 66, 69, 54, 64, 52,  1, 63, 50, 65, 66,\n",
      "        50, 67, 63, 64,  1, 63, 55,  1, 53, 69, 51, 81,  7,  0, 61, 80, 51, 58,\n",
      "        68, 55])\n",
      "\n",
      "********** target (200) **********\n",
      "tensor([55,  1, 66, 55, 73, 58,  1, 62, 55, 66, 58, 68,  0, 69, 67, 61, 69, 56,\n",
      "        61, 58, 52, 64,  1, 63, 50,  1, 63, 50, 74,  1, 50, 66, 74, 58, 63, 22,\n",
      "         0, 60, 68, 64,  1, 60, 61, 55, 52, 55, 68, 77,  1, 65, 66, 64,  1, 63,\n",
      "        50, 67,  1, 63, 55,  1, 67, 55, 55, 68, 22,  0, 60, 68, 64,  1, 63, 50,\n",
      "        67,  1, 57, 50, 51, 64, 68, 61, 58, 52, 64,  1, 61, 55, 61, 55, 55, 68,\n",
      "        22,  0, 60, 64, 62, 69,  1, 65, 64, 66, 64, 60,  1, 63, 50, 74,  1, 63,\n",
      "        55,  1, 51, 55, 54, 50, 22,  0, 60, 68, 64,  1, 63, 55,  1, 63, 50, 67,\n",
      "        60, 69, 73, 58, 68,  1, 63, 58, 60, 64, 53, 54, 50, 22,  0, 65, 66, 58,\n",
      "        57, 66, 50, 60, 50,  1, 67, 69, 55, 68, 63, 77, 59,  1, 58, 67, 60, 50,\n",
      "        68, 55, 61, 78,  7,  0, 68, 66, 69, 54, 64, 52,  1, 63, 50, 65, 66, 50,\n",
      "        67, 63, 64,  1, 63, 55,  1, 53, 69, 51, 81,  7,  0, 61, 80, 51, 58, 68,\n",
      "        55,  1])\n"
     ]
    }
   ],
   "source": [
    "input, target = random_training_set(data, seq_len, vocabulary)\n",
    "\n",
    "print(f'********** input ({len(input)})**********\\n\\n{input.data}')\n",
    "print(f'\\n********** target ({len(target)}) **********\\n{target.data}')"
   ]
  },
  {
   "cell_type": "markdown",
   "metadata": {},
   "source": [
    "Преобразуем полученные тензоры в строки:"
   ]
  },
  {
   "cell_type": "code",
   "execution_count": 13,
   "metadata": {},
   "outputs": [
    {
     "name": "stdout",
     "output_type": "stream",
     "text": [
      "********** input **********\n",
      "\n",
      "се речи мерит\n",
      "услужливо на наш аршин?\n",
      "кто клеветы про нас не сеет?\n",
      "кто нас заботливо лелеет?\n",
      "кому порок наш не беда?\n",
      "кто не наскучит никогда?\n",
      "призрака суетный искатель,\n",
      "трудов напрасно не губя,\n",
      "любите\n",
      "\n",
      "********** target **********\n",
      "\n",
      "е речи мерит\n",
      "услужливо на наш аршин?\n",
      "кто клеветы про нас не сеет?\n",
      "кто нас заботливо лелеет?\n",
      "кому порок наш не беда?\n",
      "кто не наскучит никогда?\n",
      "призрака суетный искатель,\n",
      "трудов напрасно не губя,\n",
      "любите \n"
     ]
    }
   ],
   "source": [
    "print(f'********** input **********\\n\\n{tensor_to_char(input, vocabulary)}')\n",
    "print(f'\\n********** target **********\\n\\n{tensor_to_char(target, vocabulary)}')"
   ]
  },
  {
   "attachments": {
    "8679163a-d1a4-45ef-aeb3-d0ba39cc1475.png": {
     "image/png": "[encoded data removed]"
    },
    "cfc06c53-9465-49a0-9d5f-7e4e5a6425dd.png": {
     "image/png": "[encoded data removed]"
    },
    "d01f78ba-de9b-4395-909b-5dde3b9448e1.png": {
     "image/png": "[encoded data removed]"
    }
   },
   "cell_type": "markdown",
   "metadata": {},
   "source": [
    "---\n",
    "RNN требует на вход трехмерный тензор размерностью: `(seq_len, batch_size, input_size)`:\n",
    "\\\n",
    "\\\n",
    "![image.png](attachment:d01f78ba-de9b-4395-909b-5dde3b9448e1.png)\n",
    "\n",
    "\n",
    "Таким образом, последовательности символов будут располагаться вдоль размерности `seq_len`.\n",
    "\n",
    "Этот трехмерный тензор подается на вход RNN по мини-батчам:\n",
    "\\\n",
    "\\\n",
    "![image.png](attachment:cfc06c53-9465-49a0-9d5f-7e4e5a6425dd.png)\n",
    "\n",
    "Каждый мини-батч обрабатывается в RNN одновременно; при этом формируется столько же скрытых состояний, сколько векторов в мини-батче. Эти скрытые состояния также являются выходами RNN: на каждый вектор мини-батча – свой выходной вектор (он же скрытое состояние).\n",
    "\n",
    "В нашем примере:\n",
    "- `input_size = 1` – на вход подается только индекс текущего символа в словаре, который в слое `Embedding` преобразуется в вектор размерности `embedding_size`;\n",
    "- `batch_size = batch_size_train` – размер мини-батча;\n",
    "- `seq_len = 200` – длина последовательности символов на одном шаге:\n",
    "\\\n",
    "\\\n",
    "![image.png](attachment:8679163a-d1a4-45ef-aeb3-d0ba39cc1475.png)"
   ]
  },
  {
   "cell_type": "markdown",
   "metadata": {},
   "source": [
    "---\n",
    "Зададим функцию обучения для одной эпохи – это процедура обработки в RNN всех мини-батчей, входящих в последовательность размером `seq_len`. Каждый мини-батч включает всего один индекс символа в словаре.  \n",
    "\n",
    "Инициализация (обнуление) скрытого состояния происходит в начале каждого шага. Существует две стратегии инициализации скрытого состояния:\n",
    "1. Если обрабатываются продолжительные непрерывные входные данные (например, \"Война и мир\"), разбитые на последовательности, и последовательность на текущем шаге является продолжением последовательности на предыдущем шаге, то скрытые состояния можно передавать с предыдущей эпохи (после обработки всей последовательности).\n",
    "1. Если датасет состоит из отдельных последовательностей, не связанных между собой (например, твитов), то скрытое состояние желательно обнулять перед каждой эпохой.  \n",
    "\n",
    "В нашем примере последовательности для каждой эпохи формируются независимо друг от друга, поэтому скрытые состояния обнуляются."
   ]
  },
  {
   "cell_type": "code",
   "execution_count": 14,
   "metadata": {},
   "outputs": [],
   "source": [
    "def train(input, target, batch_size):\n",
    "    '''\n",
    "    input - тензор размерности (seq_len, batch_size). Тензор содержит индексы символов.\n",
    "    target - истинная последовательность индексов следующих символов (целевая переменная); размерность (seq_len, batch_size)\n",
    "    '''\n",
    "    \n",
    "    # Инициализируем скрытое состояние\n",
    "    hidden = rnn.init_hidden(batch_size=batch_size)\n",
    "    \n",
    "    rnn.zero_grad()\n",
    "    loss = 0\n",
    "    \n",
    "    outputs, hidden = rnn(input, hidden)\n",
    "    \n",
    "    # Преобразуем размерности для вычисления функции потерь\n",
    "    outputs = outputs.view(seq_len * batch_size, -1)\n",
    "    target = target.view(seq_len * batch_size)\n",
    "    \n",
    "    loss = criterion(outputs, target)\n",
    "    \n",
    "    loss.backward()\n",
    "    rnn_optimizer.step()\n",
    "\n",
    "    return loss.data / len(input)"
   ]
  },
  {
   "cell_type": "markdown",
   "metadata": {},
   "source": [
    "---\n",
    "Операция `view` в PyTorch создает новый тензор как \"представление\" существущего тензора: сами данные никуда не копируются, но размерность данных меняется. Таким образом, экономятся память и время."
   ]
  },
  {
   "cell_type": "code",
   "execution_count": 21,
   "metadata": {},
   "outputs": [
    {
     "name": "stdout",
     "output_type": "stream",
     "text": [
      "Исходный тензор:\n",
      "tensor([[0.2173, 0.3108],\n",
      "        [0.0108, 0.5005]])\n",
      "\n",
      "Тензор-представление (view):\n",
      "tensor([[0.2173, 0.3108, 0.0108, 0.5005]])\n",
      "\n",
      "Данные совпадают? - True\n",
      "\n",
      "Исходный тензор:\n",
      "tensor([[0.2173, 1.0000],\n",
      "        [0.0108, 0.5005]])\n",
      "\n",
      "Одномерный тензор:\n",
      "tensor([0.2173, 1.0000, 0.0108, 0.5005])\n"
     ]
    }
   ],
   "source": [
    "# Пример\n",
    "t = torch.rand(2, 2)\n",
    "print(f'Исходный тензор:\\n{t}')\n",
    "\n",
    "b = t.view(1, -1)\n",
    "print(f'\\nТензор-представление (view):\\n{b}')\n",
    "\n",
    "# Данные в обоих тензорах разделяются\n",
    "print(f'\\nДанные совпадают? - {t.untyped_storage().data_ptr() == b.untyped_storage().data_ptr()}')\n",
    "\n",
    "# Изменение тензора-представления изменяет базовый тензор\n",
    "b[0][1] = 1\n",
    "print(f'\\nИсходный тензор:\\n{t}')\n",
    "\n",
    "# Растягиваем двумерный тензор в одномерный\n",
    "b = b.view(-1)\n",
    "print(f'\\nОдномерный тензор:\\n{b}')"
   ]
  },
  {
   "cell_type": "markdown",
   "metadata": {},
   "source": [
    "---\n",
    "Напишем функцию, генерирующую текст длины `predict_len` с началом (префиксной строкой) `prefix`.  \n",
    "Результирующая строка будет иметь вид: `prefix` + сгенерированная строка."
   ]
  },
  {
   "cell_type": "code",
   "execution_count": 16,
   "metadata": {},
   "outputs": [],
   "source": [
    "def evaluate(model, vocabulary, batch_size, prefix='а', predict_len=100):\n",
    "    \n",
    "    # Инициализируем скрытое состояние\n",
    "    hidden = model.init_hidden(batch_size)\n",
    "    \n",
    "    # Преобразуем префиксную строку в тензор индексов\n",
    "    prefix_input = char_to_tensor(prefix, vocabulary)\n",
    "    \n",
    "    # В переменной predicted будет храниться порождаемая строка (результат работы всей функции).\n",
    "    # Записываем в неё сначала префиксную строку\n",
    "    predicted = prefix\n",
    "\n",
    "    # Запускаем модель на префиксной строке - формируем скрытое состояние для дальнейшей генерации\n",
    "    for p in range(len(prefix) - 1):\n",
    "        input = prefix_input[p]\n",
    "        input = input.view(-1, 1)\n",
    "        outputs, hidden = model(input, hidden)\n",
    "    \n",
    "    # В качестве первого символа для генерации (предсказания следующего символа) выступает последний символ префиксной строки\n",
    "    input = prefix_input[-1]\n",
    "    input = input.reshape(-1, 1)\n",
    "\n",
    "    # Генерируем predict_len символов\n",
    "    for p in range(predict_len):\n",
    "        \n",
    "        # Запускаем модель с текущим входным символом и текущим скрытым состоянием\n",
    "        output, hidden = model(input, hidden)\n",
    "        \n",
    "        # В output возвращаются вероятности всех символов из словаря.\n",
    "        # Выбираем из этого распределения символ (сэмплируем)\n",
    "        output_dist = output.data.view(-1)\n",
    "        output_dist = output_dist.exp()\n",
    "        top_index = torch.multinomial(output_dist, 1)[0]\n",
    "        \n",
    "        # Добавляем предсказанный символ в результирующую строку\n",
    "        predicted_char = vocabulary[top_index]\n",
    "        predicted += predicted_char\n",
    "        \n",
    "        # Используем предсказанный символ как следующий вход\n",
    "        input = char_to_tensor(predicted_char, vocabulary)\n",
    "        input = input.reshape(-1, 1)\n",
    "\n",
    "    return predicted"
   ]
  },
  {
   "cell_type": "markdown",
   "metadata": {},
   "source": [
    "Вспомогательная функция для вывода времени:"
   ]
  },
  {
   "cell_type": "code",
   "execution_count": 17,
   "metadata": {},
   "outputs": [],
   "source": [
    "def time_since(since):\n",
    "    seconds = time.time() - since\n",
    "    minutes = math.floor(seconds / 60)\n",
    "    seconds -= minutes * 60\n",
    "    return f'{minutes} min {seconds:.0f} sec'"
   ]
  },
  {
   "cell_type": "markdown",
   "metadata": {},
   "source": [
    "---\n",
    "Основная процедура обучения и генерации примеров текста в процессе обучения.  \n",
    "Генерация текстов в ходе обучения необходима только для иллюстрации изменений возможностей модели по мере обучения."
   ]
  },
  {
   "cell_type": "code",
   "execution_count": 18,
   "metadata": {},
   "outputs": [
    {
     "name": "stdout",
     "output_type": "stream",
     "text": [
      "[time = 0 min 2 sec, epochs = 100 (10.0%), loss = 0.0124]\n",
      "ам,\n",
      "пагитоветь ернот, приго гродерыамо слежнеетьь дожалая.\n",
      "много тни;\n",
      "бонот сели муг..\n",
      "чеtва.. отруя \n",
      "\n",
      "[time = 0 min 10 sec, epochs = 200 (20.0%), loss = 0.0130]\n",
      "авной схо жие в и гей,\n",
      "онагкой но.\n",
      "вю бочей, чуштла,\n",
      "и воскис одал ев безной граничасья\n",
      "(вы ная\n",
      "сетви\n",
      "\n",
      "[time = 0 min 18 sec, epochs = 300 (30.0%), loss = 0.0128]\n",
      "адевдей! вдрестиленьясчисти спердвееста егряшочут!ный раслят крьим ит\n",
      "все вскорда?.\n",
      "\n",
      "xvt}\n",
      "прорым взме\n",
      "\n",
      "[time = 0 min 25 sec, epochs = 400 (40.0%), loss = 0.0115]\n",
      "а?\n",
      "хозый:\n",
      "в ого чемный дани еем....\n",
      "и кун кноло,\n",
      "и тежейще т кокатся,\n",
      "споружно дриблеститей\n",
      "свет скуж\n",
      "\n",
      "[time = 0 min 36 sec, epochs = 500 (50.0%), loss = 0.0132]\n",
      "а, сколюде, дерави свябеду гонье, не шкотой ее делопе,\n",
      "выквы хие, сами, регодалокя . . . . . e\n",
      "\n",
      "xlv. \n",
      "\n",
      "[time = 0 min 44 sec, epochs = 600 (60.0%), loss = 0.0107]\n",
      "азборяц ледналали,\n",
      "токоистежь, польвиженный у долку горожал\n",
      "тайстрик,\n",
      "бреесодую тазали,\n",
      "с подумипеня,\n",
      "\n",
      "[time = 0 min 55 sec, epochs = 700 (70.0%), loss = 0.0113]\n",
      "атьянним достысли любу взаяжь ее в мыщи свы.\n",
      "\n",
      "v\n",
      "\n",
      "дорах утярясь девить и нощог естьянныша заплесты, мн\n",
      "\n",
      "[time = 1 min 5 sec, epochs = 800 (80.0%), loss = 0.0110]\n",
      "апнетими и на столо-на\n",
      "онего гдаскова.,\n",
      "забевыей\n",
      "и . же его прифену онор в оний,\n",
      "ер гарет иета ждра? \n",
      "\n",
      "[time = 1 min 18 sec, epochs = 900 (90.0%), loss = 0.0117]\n",
      "азривствый зимере,\n",
      "поэт одлаский никорит пусной нечпоть вез призедной.\n",
      "долове\n",
      "еми члюдаминил\n",
      "фред нет\n",
      "\n",
      "[time = 1 min 28 sec, epochs = 1000 (100.0%), loss = 0.0103]\n",
      "ать вся их вудластких жилы, емик приха;\n",
      "и их\n",
      "истдичесь. - пов преврузьяни страпки ним канен бельки ра\n",
      "\n"
     ]
    }
   ],
   "source": [
    "# Создаем модель\n",
    "rnn = RNN(\n",
    "    input_size=len(vocabulary),\n",
    "    embedding_size=embedding_size,\n",
    "    hidden_size=hidden_size,\n",
    "    output_size=len(vocabulary),\n",
    "    num_layers=num_layers\n",
    ")\n",
    "\n",
    "rnn_optimizer = torch.optim.Adam(rnn.parameters(), lr=lr)\n",
    "criterion = nn.CrossEntropyLoss()\n",
    "\n",
    "start = time.time()\n",
    "\n",
    "prefix = 'а'         # Префиксная строка для генерации в процессе обучения. \n",
    "\n",
    "all_losses = []      # Список значений функции потерь в процессе обучения (для графика)\n",
    "loss_avg = 0         # Усредненное по `plot_every` эпохам значение функции потерь для графика\n",
    "\n",
    "for epoch in range(1, n_epochs + 1):\n",
    "    \n",
    "    # Генерируем первую последовательность\n",
    "    input, target = random_training_set(data, seq_len, vocabulary)\n",
    "    input = input.view(-1, 1)\n",
    "    target = target.view(-1, 1)\n",
    "    \n",
    "    # Добавляем к первой последовательности другие в зависимости от количества мини-батчей\n",
    "    for b in range(batch_size_train-1):\n",
    "        sequence, target_seq = random_training_set(data, seq_len, vocabulary)\n",
    "        sequence = sequence.view(-1, 1)\n",
    "        target_seq = target_seq.view(-1, 1)\n",
    "        input = torch.cat((input, sequence), dim=1)\n",
    "        target = torch.cat((target, target_seq), dim=1)\n",
    "    \n",
    "    # Запускаем эпоху обучения\n",
    "    loss = train(input, target, batch_size_train)\n",
    "    loss_avg += loss\n",
    "\n",
    "    # Осуществляем генерацию текста для текущей модели каждые `print_every` эпох\n",
    "    if epoch % print_every == 0:\n",
    "        \n",
    "        print(f'[time = {time_since(start)}, epochs = {epoch} ({epoch / n_epochs * 100}%), loss = {loss:.4f}]')\n",
    "        \n",
    "        predicted_text = evaluate(\n",
    "            model=rnn,\n",
    "            vocabulary=vocabulary,\n",
    "            batch_size=batch_size_test,\n",
    "            prefix=prefix,\n",
    "            predict_len=predict_len\n",
    "        )\n",
    "        print(predicted_text)\n",
    "        print()\n",
    "\n",
    "    if epoch % plot_every == 0:\n",
    "        all_losses.append(loss_avg / plot_every)\n",
    "        loss_avg = 0"
   ]
  },
  {
   "cell_type": "markdown",
   "metadata": {},
   "source": [
    "---\n",
    "Рисуем график потерь:"
   ]
  },
  {
   "cell_type": "code",
   "execution_count": 19,
   "metadata": {},
   "outputs": [
    {
     "data": {
      "text/plain": [
       "[<matplotlib.lines.Line2D at 0x1b36d01a880>]"
      ]
     },
     "execution_count": 19,
     "metadata": {},
     "output_type": "execute_result"
    },
    {
     "data": {
      "image/png": "[encoded data removed]",
      "text/plain": [
       "<Figure size 432x288 with 1 Axes>"
      ]
     },
     "metadata": {
      "needs_background": "light"
     },
     "output_type": "display_data"
    }
   ],
   "source": [
    "plt.figure()\n",
    "plt.plot(all_losses)"
   ]
  },
  {
   "cell_type": "markdown",
   "metadata": {},
   "source": [
    "После обучения можно подставить любое начало и сеть его продолжит:"
   ]
  },
  {
   "cell_type": "code",
   "execution_count": 20,
   "metadata": {},
   "outputs": [
    {
     "name": "stdout",
     "output_type": "stream",
     "text": [
      "мой дядя зналм в стаска заб отуш ней, стую не свит.\n",
      "\n",
      "пред, и мозванны ит евилстви простанье ранной урежена е\n"
     ]
    }
   ],
   "source": [
    "beginning = 'мой дядя'\n",
    "\n",
    "predict = evaluate(\n",
    "    model=rnn,\n",
    "    vocabulary=vocabulary,\n",
    "    batch_size=batch_size_test,\n",
    "    prefix=beginning,\n",
    "    predict_len=predict_len\n",
    ")\n",
    "\n",
    "print(predict)"
   ]
  },
  {
   "cell_type": "markdown",
   "metadata": {},
   "source": [
    "---\n",
    "#### Задание 1.\n",
    "Перенесите модель и данные на GPU."
   ]
  },
  {
   "cell_type": "markdown",
   "metadata": {},
   "source": [
    "#### Задание 2.\n",
    "Запустите обучение модели с разным количеством эпох и размером мини-батча. Один или несколько результатов генерации в конце каждого эксперимента вместе с временем запуска и параметрами запишите в отдельный файл.  \n",
    "Проведите не менее 10 экспериментов.  \n",
    "Сделайте выводы об эффективности разных вариантов модели."
   ]
  },
  {
   "cell_type": "markdown",
   "metadata": {},
   "source": [
    "#### Задание 3.\n",
    "Поменяйте модуль Simple RNN на LSTM. Запустите обучение модели с разным количеством эпох и размером мини-батча.  \n",
    "Желательно, чтобы параметры совпадали с предыдущим экспериментом и можно было сравнивать модели.  \n",
    "Один или несколько результатов генерации в конце каждого эксперимента вместе с временем запуска и параметрами запишите в отдельный файл.  \n",
    "Проведите не менее 10 экспериментов.  \n",
    "Сделайте выводы об эффективности разных вариантов модели."
   ]
  },
  {
   "cell_type": "markdown",
   "metadata": {},
   "source": [
    "#### Задание 4.\n",
    "Повторите предыдущее задание для модуля GRU.  \n",
    "Кроме выводов об эффективности, сделайте выводы о времени обучения разных моделей – Simple RNN, LSTM, GRU."
   ]
  },
  {
   "cell_type": "markdown",
   "metadata": {},
   "source": [
    "#### Задание 5.\n",
    "Выберите лучшую модель по результатам предыдущих экспериментов и попробуйте добиться повышения качества за счёт разного количества слоёв."
   ]
  },
  {
   "cell_type": "markdown",
   "metadata": {},
   "source": [
    "#### Задание 6.\n",
    "Прочитайте в [Николенко и др., 2018, стр. 266] о понятии \"температура\", которое часто используется при генерации текстов.  \n",
    "Добавьте данный параметр в функцию `evaluate()`.  \n",
    "Проверьте его влияние на результаты генерации."
   ]
  },
  {
   "cell_type": "markdown",
   "metadata": {},
   "source": [
    "#### Задание 7 (факультативное).\n",
    "Разбейте текст на последовательности не случайным образом, а по предложениям.  \n",
    "Предложения можно получить из текста при помощи функции `nltk.tokenize.sent_tokenize()`.  \n",
    "Так как предложения окажутся неодинаковой длины, а последовательности на вход модели должны поступать одинакового размера, придется дополнить предложения до максимальной длины символом, не входящим в словарь (например, каким-нибудь из [управляющих символов](https://ru.wikipedia.org/wiki/Управляющие_символы) `\\0`, `\\a`, `\\b` и т.д.)."
   ]
  },
  {
   "cell_type": "markdown",
   "metadata": {},
   "source": [
    "#### Задание 8 (факультативное).\n",
    "Реализуйте стратегию 3 из учебника [Николенко и др., 2018, стр. 260] – разбиение текста на последовательности примерно одной длины с правильно инициализированными скрытыми состояниями рекуррентной сети."
   ]
  }
 ],
 "metadata": {
  "kernelspec": {
   "display_name": "Python 3 (ipykernel)",
   "language": "python",
   "name": "python3"
  },
  "language_info": {
   "codemirror_mode": {
    "name": "ipython",
    "version": 3
   },
   "file_extension": ".py",
   "mimetype": "text/x-python",
   "name": "python",
   "nbconvert_exporter": "python",
   "pygments_lexer": "ipython3",
   "version": "3.9.12"
  }
 },
 "nbformat": 4,
 "nbformat_minor": 4
}
