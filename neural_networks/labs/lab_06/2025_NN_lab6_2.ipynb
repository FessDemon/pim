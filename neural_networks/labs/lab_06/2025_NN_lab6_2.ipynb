{
 "cells": [
  {
   "cell_type": "markdown",
   "metadata": {
    "id": "S_yyp1HCLy8h"
   },
   "source": [
    "# Лабораторная работа 6. Рекуррентные сети"
   ]
  },
  {
   "cell_type": "markdown",
   "metadata": {
    "id": "Mr3Ep4ctLy8j"
   },
   "source": [
    "В работе демонстрируется построение рекуррентной нейронной сети для посимвольной генерации текста.  \n",
    "\n",
    "Полезные ссылки:\n",
    "- [Andrej Karpathy – The Unreasonable Effectiveness of Recurrent Neural Networks](http://karpathy.github.io/2015/05/21/rnn-effectiveness)\n",
    "- [Practical PyTorch: Generating Shakespeare with a Character-Level RNN](https://github.com/spro/practical-pytorch/blob/master/char-rnn-generation/char-rnn-generation.ipynb)\n",
    "- [С. Николенко и др., 2018] – параграф 6.6."
   ]
  },
  {
   "cell_type": "code",
   "execution_count": null,
   "metadata": {
    "executionInfo": {
     "elapsed": 1548,
     "status": "ok",
     "timestamp": 1749839232055,
     "user": {
      "displayName": "Elena V. Razova",
      "userId": "14939859328445060819"
     },
     "user_tz": -180
    },
    "id": "ELFb6j31Ly8j"
   },
   "outputs": [],
   "source": [
    "import torch\n",
    "import torch.nn as nn\n",
    "import random\n",
    "import time\n",
    "import math\n",
    "import matplotlib.pyplot as plt\n",
    "\n",
    "# отключение предупреждений\n",
    "import warnings\n",
    "warnings.filterwarnings('ignore')"
   ]
  },
  {
   "cell_type": "markdown",
   "metadata": {
    "id": "21a5Jge3Ly8k"
   },
   "source": [
    "Задаем параметры:"
   ]
  },
  {
   "cell_type": "code",
   "execution_count": 2,
   "metadata": {
    "executionInfo": {
     "elapsed": 49,
     "status": "ok",
     "timestamp": 1749839232106,
     "user": {
      "displayName": "Elena V. Razova",
      "userId": "14939859328445060819"
     },
     "user_tz": -180
    },
    "id": "BLDAGFrfLy8k"
   },
   "outputs": [],
   "source": [
    "filename = 'onegin.txt'  # Входной файл с текстом\n",
    "\n",
    "seq_len = 200            # Размер последовательности для одной эпохи\n",
    "batch_size_train = 1     # Размер батча для обучения\n",
    "batch_size_test = 1      # Размер батча для предсказания (в данном случае всегда 1)\n",
    "hidden_size = 100        # Размер скрытого состояния\n",
    "embedding_size = 100     # Размер векторов-эмбеддингов для представления символов\n",
    "num_layers = 1           # Количество слоев\n",
    "lr = 0.005               # Скорость обучения\n",
    "n_epochs = 1000          # Количество эпох\n",
    "print_every = 100        # Интервал эпох для вывода результатов\n",
    "plot_every = 10          # Интервал эпох для вывода потерь\n",
    "predict_len = 100        # Количество символов для генерации"
   ]
  },
  {
   "cell_type": "markdown",
   "metadata": {
    "id": "SL0sa9s6Ly8l"
   },
   "source": [
    "*Замечание*. Понятие \"эпоха\" обозначает период обработки всего обучающего множества. Но в контексте рекуррентных сетей это понятие может иметь значение, отличающееся от обычного, поскольку часто датасет бывает жестко не определен (например, из одного текста мы можем генерировать бесконечное количество последовательностей).  \n",
    "Поэтому в данной лабораторной работе понятие \"эпоха\" обозначает период обработки всей последовательности размером `seq_len`."
   ]
  },
  {
   "cell_type": "markdown",
   "metadata": {
    "id": "CXk8wFByLy8l"
   },
   "source": [
    "Обеспечиваем воспроизводимость результатов (https://pytorch.org/docs/stable/notes/randomness.html):"
   ]
  },
  {
   "cell_type": "code",
   "execution_count": 3,
   "metadata": {
    "colab": {
     "base_uri": "https://localhost:8080/"
    },
    "executionInfo": {
     "elapsed": 23,
     "status": "ok",
     "timestamp": 1749839232108,
     "user": {
      "displayName": "Elena V. Razova",
      "userId": "14939859328445060819"
     },
     "user_tz": -180
    },
    "id": "xgA3FKi5Ly8l",
    "outputId": "713f2292-c005-4520-b8e4-287ffff94630"
   },
   "outputs": [
    {
     "data": {
      "text/plain": [
       "<torch._C.Generator at 0x7f5a7c1ec850>"
      ]
     },
     "execution_count": 3,
     "metadata": {},
     "output_type": "execute_result"
    }
   ],
   "source": [
    "torch.manual_seed(0)"
   ]
  },
  {
   "cell_type": "markdown",
   "metadata": {
    "id": "LppPIBLfLy8m"
   },
   "source": [
    "---\n",
    "Подготовьте входной текстовый файл. Можно взять ваше любимое художественное произведение.  \n",
    "Здесь в качестве примера используется \"Евгений Онегин\"."
   ]
  },
  {
   "cell_type": "code",
   "execution_count": 4,
   "metadata": {
    "colab": {
     "base_uri": "https://localhost:8080/"
    },
    "executionInfo": {
     "elapsed": 14,
     "status": "ok",
     "timestamp": 1749839232108,
     "user": {
      "displayName": "Elena V. Razova",
      "userId": "14939859328445060819"
     },
     "user_tz": -180
    },
    "id": "Gkr_5buoLy8m",
    "outputId": "ff6d4f55-da04-44c5-eb36-7800eb392473"
   },
   "outputs": [
    {
     "name": "stdout",
     "output_type": "stream",
     "text": [
      "Длина текста: 144313 символов\n",
      "\n",
      "Первые 200 строк:\n",
      "\n",
      "ЕВГЕНИЙ ОНЕГИН\n",
      "\n",
      "РОМАН В СТИХАХ\n",
      "\n",
      "Petri  de  vanite  il  avait  encore plus de cette espece d'orgueil qui fait\n",
      "avouer  avec  la  meme  indifference les bonnes comme les mauvaises actions,\n",
      "suite d'un sen\n"
     ]
    }
   ],
   "source": [
    "with open(filename, encoding='utf-8') as f:\n",
    "    data = f.read()\n",
    "print(f'Длина текста: {len(data)} символов')\n",
    "print(f'\\nПервые {seq_len} строк:\\n\\n{data[:seq_len]}')"
   ]
  },
  {
   "cell_type": "markdown",
   "metadata": {
    "id": "nRtRlilcLy8m"
   },
   "source": [
    "---\n",
    "Переводим текст в нижний регистр и создаем словарь всех символов:"
   ]
  },
  {
   "cell_type": "code",
   "execution_count": 5,
   "metadata": {
    "colab": {
     "base_uri": "https://localhost:8080/"
    },
    "executionInfo": {
     "elapsed": 29,
     "status": "ok",
     "timestamp": 1749839232138,
     "user": {
      "displayName": "Elena V. Razova",
      "userId": "14939859328445060819"
     },
     "user_tz": -180
    },
    "id": "zkc_VEgrLy8m",
    "outputId": "2c9cb01e-cd86-4720-a851-2f3f6faac38a"
   },
   "outputs": [
    {
     "name": "stdout",
     "output_type": "stream",
     "text": [
      "Размер словаря: 82\n",
      "['\\n', ' ', '!', '\"', \"'\", '(', ')', ',', '-', '.', '0', '1', '2', '3', '4', '5', '6', '7', '8', '9', ':', ';', '?', 'a', 'b', 'c', 'd', 'e', 'f', 'g', 'h', 'i', 'k', 'l', 'm', 'n', 'o', 'p', 'q', 'r', 's', 't', 'u', 'v', 'w', 'x', 'y', 'z', '{', '}', 'а', 'б', 'в', 'г', 'д', 'е', 'ж', 'з', 'и', 'й', 'к', 'л', 'м', 'н', 'о', 'п', 'р', 'с', 'т', 'у', 'ф', 'х', 'ц', 'ч', 'ш', 'щ', 'ъ', 'ы', 'ь', 'э', 'ю', 'я']\n"
     ]
    }
   ],
   "source": [
    "data = data.lower()\n",
    "\n",
    "vocabulary = set(data)\n",
    "vocabulary = sorted(vocabulary)\n",
    "print(f'Размер словаря: {len(vocabulary)}')\n",
    "print(vocabulary)"
   ]
  },
  {
   "cell_type": "markdown",
   "metadata": {
    "id": "DeLSwemHLy8m"
   },
   "source": [
    "---\n",
    "Подготовим функцию для генерации случайных последовательностей длиной `seq_len+1` из входного текста.  \n",
    "Единица прибавляется, так как в дальнейшем мы будем из этой сгенерированной последовательности получать две:\n",
    "- *обучающую*, без последнего символа,\n",
    "- *предсказываемую*, без первого символа.  \n",
    "\n",
    "Таким образом, предсказываемая последовательность будет как бы сдвинута относительно обучающей на единицу вправо и каждый символ предсказываемой последовательности будет являться следующим символом для соответствующего обучающего символа.  \n",
    "Обе последовательности будут на единицу меньше исходной последовательности."
   ]
  },
  {
   "cell_type": "code",
   "execution_count": 6,
   "metadata": {
    "colab": {
     "base_uri": "https://localhost:8080/"
    },
    "executionInfo": {
     "elapsed": 14,
     "status": "ok",
     "timestamp": 1749839232154,
     "user": {
      "displayName": "Elena V. Razova",
      "userId": "14939859328445060819"
     },
     "user_tz": -180
    },
    "id": "WEEm2tkZLy8n",
    "outputId": "5e6bf777-20e9-4642-bec7-db32bdd06e6d"
   },
   "outputs": [
    {
     "name": "stdout",
     "output_type": "stream",
     "text": [
      "length = 201\n",
      "\n",
      "ред грозою:\n",
      "как я завидовал волнам,\n",
      "бегущим бурной чередою\n",
      "с любовью лечь к ее ногам!\n",
      "как я желал тогда с волнами\n",
      "коснуться милых ног устами!\n",
      "нет, никогда средь пылких дней\n",
      "кипящей младости моей\n",
      "я не ж\n"
     ]
    }
   ],
   "source": [
    "def random_sequence(data, seq_len):\n",
    "    start_index = random.randint(0, len(data) - seq_len - 1)\n",
    "    end_index = start_index + seq_len + 1\n",
    "    return data[start_index:end_index]\n",
    "\n",
    "sequence = random_sequence(data, seq_len)\n",
    "print(f'length = {len(sequence)}\\n\\n{sequence}')"
   ]
  },
  {
   "cell_type": "markdown",
   "metadata": {
    "id": "AXp7mkUNLy8n"
   },
   "source": [
    "---\n",
    "Задаем модель:"
   ]
  },
  {
   "cell_type": "code",
   "execution_count": 7,
   "metadata": {
    "executionInfo": {
     "elapsed": 10,
     "status": "ok",
     "timestamp": 1749839232155,
     "user": {
      "displayName": "Elena V. Razova",
      "userId": "14939859328445060819"
     },
     "user_tz": -180
    },
    "id": "58VkTptoLy8n"
   },
   "outputs": [],
   "source": [
    "class RNN(nn.Module):\n",
    "    def __init__(self, input_size, embedding_size, hidden_size, output_size, num_layers=1):\n",
    "\n",
    "        super(RNN, self).__init__()\n",
    "\n",
    "        self.hidden_size = hidden_size\n",
    "        self.num_layers = num_layers\n",
    "\n",
    "        self.embedding = nn.Embedding(num_embeddings=input_size, embedding_dim=embedding_size)\n",
    "        self.rnn = nn.RNN(input_size=embedding_size, hidden_size=hidden_size, num_layers=num_layers)\n",
    "        self.decoder = nn.Linear(in_features=hidden_size, out_features=output_size)\n",
    "\n",
    "    def forward(self, input, hidden):\n",
    "        # На вход поступает двумерный тензор индексов символов размерности (seq_len, batch_size)\n",
    "        embeddings = self.embedding(input)\n",
    "\n",
    "        # После слоя Embedding добавляется ещё одна размерность (векторов-эмбеддингов для индексов символов).\n",
    "        # Итоговая размерность входа для RNN будет (seq_len, batch_size, embedding_size)\n",
    "        output, hidden = self.rnn(embeddings, hidden)\n",
    "\n",
    "        # Преобразуем скрытое состояние RNN для каждого символа в вероятности следующего символа.\n",
    "        output = self.decoder(output)\n",
    "\n",
    "        # Размерность выхода: (seq_len, batch_size, output_size=len(vocabulary))\n",
    "        return output, hidden\n",
    "\n",
    "    def init_hidden(self, batch_size):\n",
    "        # Должна быть размерность (num_layers * num_directions, batch_size, hidden_size)\n",
    "        return torch.zeros(self.num_layers, batch_size, self.hidden_size)"
   ]
  },
  {
   "cell_type": "markdown",
   "metadata": {
    "id": "h8AAybr6Ly8n"
   },
   "source": [
    "Класс `Embedding` используется для формирования векторного представления каких-либо элементов (символов, слов, изображений, звуков и т.п.). Он представляет собой таблицу поиска (lookup table), на вход которой поступают индексы элементов, а на выходе выдаются векторные представления этих элементов ([справка PyTorch](https://pytorch.org/docs/stable/generated/torch.nn.Embedding.html)).  \n",
    "Слой `Embedding` имеет свою матрицу весов, которые настраиваются в процессе обучения. Веса инициализируются из нормального распределения $N(0,1)$.  \n",
    "После обучения слой `Embedding` будет содержать веса, в каком-то смысле \"хорошо\" представляющие входные элементы для текущей задачи.  \n",
    "Данный слой при создании требует двух основных параметров:\n",
    "- `num_embeddings` – размер словаря элементов (общее количество элементов, которые мы хотим закодировать);\n",
    "- `embedding_dim` – размерность выходных векторов.  \n",
    "\n",
    "Слой `Embedding` является, по сути, аналогом обычного слоя `Linear`, но `Linear` на входе ожидает вектор (например, *one-hot encoding* представление элементов), а на входе `Embedding` – тензоры любой размерности, содержащие просто индексы элементов, для которых необходимо получить векторное представление:"
   ]
  },
  {
   "cell_type": "code",
   "execution_count": 8,
   "metadata": {
    "colab": {
     "base_uri": "https://localhost:8080/"
    },
    "executionInfo": {
     "elapsed": 9,
     "status": "ok",
     "timestamp": 1749839232155,
     "user": {
      "displayName": "Elena V. Razova",
      "userId": "14939859328445060819"
     },
     "user_tz": -180
    },
    "id": "PFEQsyo7Ly8o",
    "outputId": "3147b8b7-3adc-4c85-d22c-1c6d083e0dba"
   },
   "outputs": [
    {
     "name": "stdout",
     "output_type": "stream",
     "text": [
      "embedding.weight:\n",
      "tensor([[-1.1258, -1.1524, -0.2506],\n",
      "        [-0.4339,  0.8487,  0.6920],\n",
      "        [-0.3160, -2.1152,  0.3223],\n",
      "        [-1.2633,  0.3500,  0.3081],\n",
      "        [ 0.1198,  1.2377, -0.1435],\n",
      "        [-0.1116, -0.6136,  0.0316],\n",
      "        [-0.4927,  0.2484,  0.4397],\n",
      "        [ 0.1124, -0.8411, -2.3160],\n",
      "        [-0.1023,  0.7924, -0.2897],\n",
      "        [ 0.0525,  0.5229,  2.3022]])\n",
      "\n",
      "Вектор для элемента с индексом 5:\n",
      "tensor([-0.1116, -0.6136,  0.0316])\n",
      "\n",
      "Векторы для массива индексов:\n",
      "tensor([[[-0.4339,  0.8487,  0.6920],\n",
      "         [-0.3160, -2.1152,  0.3223]],\n",
      "\n",
      "        [[ 0.1198,  1.2377, -0.1435],\n",
      "         [-0.1116, -0.6136,  0.0316]]])\n"
     ]
    }
   ],
   "source": [
    "# Пример\n",
    "embedding = nn.Embedding(num_embeddings=10, embedding_dim=3)\n",
    "print(f'embedding.weight:\\n{embedding.weight.data}')\n",
    "\n",
    "i = torch.tensor(5)\n",
    "print(f'\\nВектор для элемента с индексом {i}:\\n{embedding(i).data}')\n",
    "\n",
    "array = torch.tensor([[1, 2], [4, 5]])\n",
    "print(f'\\nВекторы для массива индексов:\\n{embedding(array).data}')"
   ]
  },
  {
   "cell_type": "markdown",
   "metadata": {
    "id": "02ckftPkLy8o"
   },
   "source": [
    "---\n",
    "В итоге, модель будет выглядеть следующим образом:  \n",
    "\n",
    "![image.png](attachment:ab07bd44-12b6-44d5-9465-d8e3e64d1899.png)"
   ]
  },
  {
   "cell_type": "markdown",
   "metadata": {
    "id": "HhDwxwqkLy8o"
   },
   "source": [
    "---\n",
    "Функция, которая по входной строке возвращает список индексов из словаря `vocabulary`:"
   ]
  },
  {
   "cell_type": "code",
   "execution_count": 9,
   "metadata": {
    "colab": {
     "base_uri": "https://localhost:8080/"
    },
    "executionInfo": {
     "elapsed": 49,
     "status": "ok",
     "timestamp": 1749839232202,
     "user": {
      "displayName": "Elena V. Razova",
      "userId": "14939859328445060819"
     },
     "user_tz": -180
    },
    "id": "jV9LZpOyLy8o",
    "outputId": "a4066896-ef4d-4940-ce39-f55f91f8574b"
   },
   "outputs": [
    {
     "name": "stdout",
     "output_type": "stream",
     "text": [
      "tensor([64, 63, 55, 53, 58, 63])\n"
     ]
    }
   ],
   "source": [
    "def char_to_tensor(string, vocabulary):\n",
    "    tensor = torch.zeros(len(string)).long()\n",
    "    for c in range(len(string)):\n",
    "        tensor[c] = vocabulary.index(string[c])\n",
    "    return tensor\n",
    "\n",
    "indices = char_to_tensor('онегин', vocabulary)\n",
    "print(indices)"
   ]
  },
  {
   "cell_type": "markdown",
   "metadata": {
    "id": "WceJVDFZLy8p"
   },
   "source": [
    "Напишем также функцию для обратного преобразования из списка индексов в строку:"
   ]
  },
  {
   "cell_type": "code",
   "execution_count": 10,
   "metadata": {
    "colab": {
     "base_uri": "https://localhost:8080/"
    },
    "executionInfo": {
     "elapsed": 28,
     "status": "ok",
     "timestamp": 1749839232204,
     "user": {
      "displayName": "Elena V. Razova",
      "userId": "14939859328445060819"
     },
     "user_tz": -180
    },
    "id": "1UkWIETmLy8p",
    "outputId": "1b5e1d9d-52b2-401c-cca7-e778dfff13f9"
   },
   "outputs": [
    {
     "name": "stdout",
     "output_type": "stream",
     "text": [
      "онегин\n"
     ]
    }
   ],
   "source": [
    "def tensor_to_char(tensor, vocabulary):\n",
    "    s = ''\n",
    "    for t in tensor:\n",
    "        s += vocabulary[int(t)]\n",
    "    return s\n",
    "\n",
    "print(tensor_to_char(indices, vocabulary))"
   ]
  },
  {
   "cell_type": "markdown",
   "metadata": {
    "id": "jmqeuZRBLy8p"
   },
   "source": [
    "---\n",
    "Напишем функцию для генерации пары (входная последовательность, выходная последовательность).  \n",
    "В качестве входной (обучающей) последовательности выступает случайная строка без последнего символа;  \n",
    "выходная последовательность – та же строка без первого символа.  \n",
    "Таким образом, каждому элементу входной последовательности (символу) соответствует элемент выходной последовательности (символ), который является следующим символом в строке.  \n",
    "Выходная последовательность является целевой переменной, именно её сеть будет пытаться предсказать.  \n",
    "Размер каждой последовательности – `seq_len`."
   ]
  },
  {
   "cell_type": "code",
   "execution_count": 11,
   "metadata": {
    "executionInfo": {
     "elapsed": 16,
     "status": "ok",
     "timestamp": 1749839232204,
     "user": {
      "displayName": "Elena V. Razova",
      "userId": "14939859328445060819"
     },
     "user_tz": -180
    },
    "id": "YJh9cVwmLy8p"
   },
   "outputs": [],
   "source": [
    "def random_training_set(data, seq_len, vocabulary):\n",
    "    sequence = random_sequence(data, seq_len)\n",
    "    input = char_to_tensor(sequence[:-1], vocabulary)\n",
    "    target = char_to_tensor(sequence[1:], vocabulary)\n",
    "    return input, target"
   ]
  },
  {
   "cell_type": "code",
   "execution_count": 12,
   "metadata": {
    "colab": {
     "base_uri": "https://localhost:8080/"
    },
    "executionInfo": {
     "elapsed": 14,
     "status": "ok",
     "timestamp": 1749839232204,
     "user": {
      "displayName": "Elena V. Razova",
      "userId": "14939859328445060819"
     },
     "user_tz": -180
    },
    "id": "8cx3fzqtLy8p",
    "outputId": "dd86630b-6790-4dcc-f4bb-980c7b625535"
   },
   "outputs": [
    {
     "name": "stdout",
     "output_type": "stream",
     "text": [
      "********** input (200)**********\n",
      "\n",
      "tensor([64, 55,  6,  7,  0, 63, 55,  1, 64, 51, 66, 50, 68, 58, 61, 58, 67, 78,\n",
      "         1, 63, 50,  1, 63, 55, 55,  0, 63, 58,  1, 54, 50, 62,  1, 66, 55, 52,\n",
      "        63, 58, 52, 77, 55,  1, 61, 64, 66, 63, 55, 68, 77,  7,  0, 63, 58,  1,\n",
      "        68, 66, 69, 51, 60, 58,  1, 62, 64, 54, 63, 77, 71,  1, 57, 63, 50, 68,\n",
      "        64, 60, 64, 52,  0, 58, 57,  1, 61, 64, 56,  1, 58,  1, 60, 66, 55, 67,\n",
      "        55, 61, 78, 63, 77, 71,  1, 66, 81, 54, 64, 52,  9,  0,  0, 33, 31,  0,\n",
      "         0, 55, 55,  1, 65, 66, 58, 52, 64, 57, 81, 68,  1, 58,  1, 52,  1, 67,\n",
      "        64, 51, 66, 50, 63, 78, 55,  9,  0, 68, 50, 62,  1, 68, 55, 67, 63, 64,\n",
      "        68, 50,  7,  1, 52, 64, 61, 63, 55, 63, 78, 55,  7,  1, 56, 50, 66,  7,\n",
      "         0, 62, 69, 57, 77, 60, 58,  1, 53, 66, 64, 71, 64, 68,  7,  1, 67, 52,\n",
      "        55, 73,  1, 51, 61, 58, 67, 68, 50, 63, 78, 55,  7,  0, 62, 55, 61, 78,\n",
      "        60, 50])\n",
      "\n",
      "********** target (200) **********\n",
      "tensor([55,  6,  7,  0, 63, 55,  1, 64, 51, 66, 50, 68, 58, 61, 58, 67, 78,  1,\n",
      "        63, 50,  1, 63, 55, 55,  0, 63, 58,  1, 54, 50, 62,  1, 66, 55, 52, 63,\n",
      "        58, 52, 77, 55,  1, 61, 64, 66, 63, 55, 68, 77,  7,  0, 63, 58,  1, 68,\n",
      "        66, 69, 51, 60, 58,  1, 62, 64, 54, 63, 77, 71,  1, 57, 63, 50, 68, 64,\n",
      "        60, 64, 52,  0, 58, 57,  1, 61, 64, 56,  1, 58,  1, 60, 66, 55, 67, 55,\n",
      "        61, 78, 63, 77, 71,  1, 66, 81, 54, 64, 52,  9,  0,  0, 33, 31,  0,  0,\n",
      "        55, 55,  1, 65, 66, 58, 52, 64, 57, 81, 68,  1, 58,  1, 52,  1, 67, 64,\n",
      "        51, 66, 50, 63, 78, 55,  9,  0, 68, 50, 62,  1, 68, 55, 67, 63, 64, 68,\n",
      "        50,  7,  1, 52, 64, 61, 63, 55, 63, 78, 55,  7,  1, 56, 50, 66,  7,  0,\n",
      "        62, 69, 57, 77, 60, 58,  1, 53, 66, 64, 71, 64, 68,  7,  1, 67, 52, 55,\n",
      "        73,  1, 51, 61, 58, 67, 68, 50, 63, 78, 55,  7,  0, 62, 55, 61, 78, 60,\n",
      "        50, 63])\n"
     ]
    }
   ],
   "source": [
    "input, target = random_training_set(data, seq_len, vocabulary)\n",
    "\n",
    "print(f'********** input ({len(input)})**********\\n\\n{input.data}')\n",
    "print(f'\\n********** target ({len(target)}) **********\\n{target.data}')"
   ]
  },
  {
   "cell_type": "markdown",
   "metadata": {
    "id": "TTW7sJ7VLy8q"
   },
   "source": [
    "Преобразуем полученные тензоры в строки:"
   ]
  },
  {
   "cell_type": "code",
   "execution_count": 13,
   "metadata": {
    "colab": {
     "base_uri": "https://localhost:8080/"
    },
    "executionInfo": {
     "elapsed": 11,
     "status": "ok",
     "timestamp": 1749839232212,
     "user": {
      "displayName": "Elena V. Razova",
      "userId": "14939859328445060819"
     },
     "user_tz": -180
    },
    "id": "HvW1wLVgLy8q",
    "outputId": "9e47b55a-cb23-4780-8614-c122f10cdeaa"
   },
   "outputs": [
    {
     "name": "stdout",
     "output_type": "stream",
     "text": [
      "********** input **********\n",
      "\n",
      "ое),\n",
      "не обратились на нее\n",
      "ни дам ревнивые лорнеты,\n",
      "ни трубки модных знатоков\n",
      "из лож и кресельных рядов.\n",
      "\n",
      "li\n",
      "\n",
      "ее привозят и в собранье.\n",
      "там теснота, волненье, жар,\n",
      "музыки грохот, свеч блистанье,\n",
      "мелька\n",
      "\n",
      "********** target **********\n",
      "\n",
      "е),\n",
      "не обратились на нее\n",
      "ни дам ревнивые лорнеты,\n",
      "ни трубки модных знатоков\n",
      "из лож и кресельных рядов.\n",
      "\n",
      "li\n",
      "\n",
      "ее привозят и в собранье.\n",
      "там теснота, волненье, жар,\n",
      "музыки грохот, свеч блистанье,\n",
      "мелькан\n"
     ]
    }
   ],
   "source": [
    "print(f'********** input **********\\n\\n{tensor_to_char(input, vocabulary)}')\n",
    "print(f'\\n********** target **********\\n\\n{tensor_to_char(target, vocabulary)}')"
   ]
  },
  {
   "cell_type": "markdown",
   "metadata": {
    "id": "ENEErFj4Ly8q"
   },
   "source": [
    "---\n",
    "RNN требует на вход трехмерный тензор размерностью: `(seq_len, batch_size, input_size)`:\n",
    "\\\n",
    "\\\n",
    "![image.png](attachment:d01f78ba-de9b-4395-909b-5dde3b9448e1.png)\n",
    "\n",
    "\n",
    "Таким образом, последовательности символов будут располагаться вдоль размерности `seq_len`.\n",
    "\n",
    "Этот трехмерный тензор подается на вход RNN по мини-батчам:\n",
    "\\\n",
    "\\\n",
    "![image.png](attachment:cfc06c53-9465-49a0-9d5f-7e4e5a6425dd.png)\n",
    "\n",
    "Каждый мини-батч обрабатывается в RNN одновременно; при этом формируется столько же скрытых состояний, сколько векторов в мини-батче. Эти скрытые состояния также являются выходами RNN: на каждый вектор мини-батча – свой выходной вектор (он же скрытое состояние).\n",
    "\n",
    "В нашем примере:\n",
    "- `input_size = 1` – на вход подается только индекс текущего символа в словаре, который в слое `Embedding` преобразуется в вектор размерности `embedding_size`;\n",
    "- `batch_size = batch_size_train` – размер мини-батча;\n",
    "- `seq_len = 200` – длина последовательности символов на одном шаге:\n",
    "\\\n",
    "\\\n",
    "![image.png](attachment:8679163a-d1a4-45ef-aeb3-d0ba39cc1475.png)"
   ]
  },
  {
   "cell_type": "markdown",
   "metadata": {
    "id": "7iZKwYOqLy8q"
   },
   "source": [
    "---\n",
    "Зададим функцию обучения для одной эпохи – это процедура обработки в RNN всех мини-батчей, входящих в последовательность размером `seq_len`. Каждый мини-батч включает всего один индекс символа в словаре.  \n",
    "\n",
    "Инициализация (обнуление) скрытого состояния происходит в начале каждого шага. Существует две стратегии инициализации скрытого состояния:\n",
    "1. Если обрабатываются продолжительные непрерывные входные данные (например, \"Война и мир\"), разбитые на последовательности, и последовательность на текущем шаге является продолжением последовательности на предыдущем шаге, то скрытые состояния можно передавать с предыдущей эпохи (после обработки всей последовательности).\n",
    "1. Если датасет состоит из отдельных последовательностей, не связанных между собой (например, твитов), то скрытое состояние желательно обнулять перед каждой эпохой.  \n",
    "\n",
    "В нашем примере последовательности для каждой эпохи формируются независимо друг от друга, поэтому скрытые состояния обнуляются."
   ]
  },
  {
   "cell_type": "code",
   "execution_count": 14,
   "metadata": {
    "executionInfo": {
     "elapsed": 3,
     "status": "ok",
     "timestamp": 1749839232215,
     "user": {
      "displayName": "Elena V. Razova",
      "userId": "14939859328445060819"
     },
     "user_tz": -180
    },
    "id": "lugPH581Ly8q"
   },
   "outputs": [],
   "source": [
    "def train(input, target, batch_size):\n",
    "    '''\n",
    "    input - тензор размерности (seq_len, batch_size). Тензор содержит индексы символов.\n",
    "    target - истинная последовательность индексов следующих символов (целевая переменная); размерность (seq_len, batch_size)\n",
    "    '''\n",
    "\n",
    "    # Инициализируем скрытое состояние\n",
    "    hidden = rnn.init_hidden(batch_size=batch_size)\n",
    "\n",
    "    rnn.zero_grad()\n",
    "    loss = 0\n",
    "\n",
    "    outputs, hidden = rnn(input, hidden)\n",
    "\n",
    "    # Преобразуем размерности для вычисления функции потерь\n",
    "    outputs = outputs.view(seq_len * batch_size, -1)\n",
    "    target = target.view(seq_len * batch_size)\n",
    "\n",
    "    loss = criterion(outputs, target)\n",
    "\n",
    "    loss.backward()\n",
    "    rnn_optimizer.step()\n",
    "\n",
    "    return loss.data / len(input)"
   ]
  },
  {
   "cell_type": "markdown",
   "metadata": {
    "id": "Ev7eFA2FLy8r"
   },
   "source": [
    "---\n",
    "Операция `view` в PyTorch создает новый тензор как \"представление\" существущего тензора: сами данные никуда не копируются, но размерность данных меняется. Таким образом, экономятся память и время."
   ]
  },
  {
   "cell_type": "code",
   "execution_count": 15,
   "metadata": {
    "colab": {
     "base_uri": "https://localhost:8080/"
    },
    "executionInfo": {
     "elapsed": 11,
     "status": "ok",
     "timestamp": 1749839232226,
     "user": {
      "displayName": "Elena V. Razova",
      "userId": "14939859328445060819"
     },
     "user_tz": -180
    },
    "id": "a_gb4flPLy8r",
    "outputId": "a74e9e31-3e67-45a0-8be3-09848d1c98a6"
   },
   "outputs": [
    {
     "name": "stdout",
     "output_type": "stream",
     "text": [
      "Исходный тензор:\n",
      "tensor([[0.8155, 0.7932],\n",
      "        [0.2783, 0.4820]])\n",
      "\n",
      "Тензор-представление (view):\n",
      "tensor([[0.8155, 0.7932, 0.2783, 0.4820]])\n",
      "\n",
      "Данные совпадают? - True\n",
      "\n",
      "Исходный тензор:\n",
      "tensor([[0.8155, 1.0000],\n",
      "        [0.2783, 0.4820]])\n",
      "\n",
      "Одномерный тензор:\n",
      "tensor([0.8155, 1.0000, 0.2783, 0.4820])\n"
     ]
    }
   ],
   "source": [
    "# Пример\n",
    "t = torch.rand(2, 2)\n",
    "print(f'Исходный тензор:\\n{t}')\n",
    "\n",
    "b = t.view(1, -1)\n",
    "print(f'\\nТензор-представление (view):\\n{b}')\n",
    "\n",
    "# Данные в обоих тензорах разделяются\n",
    "print(f'\\nДанные совпадают? - {t.untyped_storage().data_ptr() == b.untyped_storage().data_ptr()}')\n",
    "\n",
    "# Изменение тензора-представления изменяет базовый тензор\n",
    "b[0][1] = 1\n",
    "print(f'\\nИсходный тензор:\\n{t}')\n",
    "\n",
    "# Растягиваем двумерный тензор в одномерный\n",
    "b = b.view(-1)\n",
    "print(f'\\nОдномерный тензор:\\n{b}')"
   ]
  },
  {
   "cell_type": "markdown",
   "metadata": {
    "id": "dpPsHkIrLy8r"
   },
   "source": [
    "---\n",
    "Напишем функцию, генерирующую текст длины `predict_len` с началом (префиксной строкой) `prefix`.  \n",
    "Результирующая строка будет иметь вид: `prefix` + сгенерированная строка."
   ]
  },
  {
   "cell_type": "code",
   "execution_count": 16,
   "metadata": {
    "executionInfo": {
     "elapsed": 46,
     "status": "ok",
     "timestamp": 1749839232273,
     "user": {
      "displayName": "Elena V. Razova",
      "userId": "14939859328445060819"
     },
     "user_tz": -180
    },
    "id": "O5xNTW0mLy8r"
   },
   "outputs": [],
   "source": [
    "def evaluate(model, vocabulary, batch_size, prefix='а', predict_len=100):\n",
    "\n",
    "    # Инициализируем скрытое состояние\n",
    "    hidden = model.init_hidden(batch_size)\n",
    "\n",
    "    # Преобразуем префиксную строку в тензор индексов\n",
    "    prefix_input = char_to_tensor(prefix, vocabulary)\n",
    "\n",
    "    # В переменной predicted будет храниться порождаемая строка (результат работы всей функции).\n",
    "    # Записываем в неё сначала префиксную строку\n",
    "    predicted = prefix\n",
    "\n",
    "    # Запускаем модель на префиксной строке - формируем скрытое состояние для дальнейшей генерации\n",
    "    for p in range(len(prefix) - 1):\n",
    "        input = prefix_input[p]\n",
    "        input = input.view(-1, 1)\n",
    "        outputs, hidden = model(input, hidden)\n",
    "\n",
    "    # В качестве первого символа для генерации (предсказания следующего символа) выступает последний символ префиксной строки\n",
    "    input = prefix_input[-1]\n",
    "    input = input.reshape(-1, 1)\n",
    "\n",
    "    # Генерируем predict_len символов\n",
    "    for p in range(predict_len):\n",
    "\n",
    "        # Запускаем модель с текущим входным символом и текущим скрытым состоянием\n",
    "        output, hidden = model(input, hidden)\n",
    "\n",
    "        # В output возвращаются вероятности всех символов из словаря.\n",
    "        # Выбираем из этого распределения символ (сэмплируем)\n",
    "        output_dist = output.data.view(-1)\n",
    "        output_dist = output_dist.exp()\n",
    "        top_index = torch.multinomial(output_dist, 1)[0]\n",
    "\n",
    "        # Добавляем предсказанный символ в результирующую строку\n",
    "        predicted_char = vocabulary[top_index]\n",
    "        predicted += predicted_char\n",
    "\n",
    "        # Используем предсказанный символ как следующий вход\n",
    "        input = char_to_tensor(predicted_char, vocabulary)\n",
    "        input = input.reshape(-1, 1)\n",
    "\n",
    "    return predicted"
   ]
  },
  {
   "cell_type": "markdown",
   "metadata": {
    "id": "8_kWkMHQLy8s"
   },
   "source": [
    "Вспомогательная функция для вывода времени:"
   ]
  },
  {
   "cell_type": "code",
   "execution_count": 17,
   "metadata": {
    "executionInfo": {
     "elapsed": 6,
     "status": "ok",
     "timestamp": 1749839232274,
     "user": {
      "displayName": "Elena V. Razova",
      "userId": "14939859328445060819"
     },
     "user_tz": -180
    },
    "id": "ZXJUNKffLy8s"
   },
   "outputs": [],
   "source": [
    "def time_since(since):\n",
    "    seconds = time.time() - since\n",
    "    minutes = math.floor(seconds / 60)\n",
    "    seconds -= minutes * 60\n",
    "    return f'{minutes} min {seconds:.0f} sec'"
   ]
  },
  {
   "cell_type": "markdown",
   "metadata": {
    "id": "7Mxg4hCfLy8s"
   },
   "source": [
    "---\n",
    "Основная процедура обучения и генерации примеров текста в процессе обучения.  \n",
    "Генерация текстов в ходе обучения необходима только для иллюстрации изменений возможностей модели по мере обучения."
   ]
  },
  {
   "cell_type": "code",
   "execution_count": 18,
   "metadata": {
    "colab": {
     "base_uri": "https://localhost:8080/"
    },
    "executionInfo": {
     "elapsed": 20285,
     "status": "ok",
     "timestamp": 1749839252557,
     "user": {
      "displayName": "Elena V. Razova",
      "userId": "14939859328445060819"
     },
     "user_tz": -180
    },
    "id": "YeaQRxj8Ly8s",
    "outputId": "fe5ee7b2-a46e-4569-d419-09edb1008be6"
   },
   "outputs": [
    {
     "name": "stdout",
     "output_type": "stream",
     "text": [
      "[time = 0 min 1 sec, epochs = 100 (10.0%), loss = 0.0126]\n",
      "ан,\n",
      "пазитоветь е в таланиц оготови дуз саридук ха дожал яень седвени;\n",
      "боноты, лодым - воеt\n",
      "\n",
      "трочтруs \n",
      "\n",
      "[time = 0 min 3 sec, epochs = 200 (20.0%), loss = 0.0122]\n",
      "ав,\n",
      "ил хостае в и гей,\n",
      "онагкой ко. вюрокар,\n",
      "е с тлаженьегакисяй;\n",
      "чает безной граним сетя выт; друг.\n",
      "и\n",
      "\n",
      "[time = 0 min 4 sec, epochs = 300 (30.0%), loss = 0.0115]\n",
      "адевдой редрестиланья чероль пердвкеним егряшочук него всляникоги сторва сбезвруча.\n",
      "не завшав в сойме\n",
      "\n",
      "[time = 0 min 6 sec, epochs = 400 (40.0%), loss = 0.0134]\n",
      "а?\n",
      "и забовино лечетный дани едейтать божн ревье,\n",
      "и . . . . . . . .с . . . .. . . . . . . .... . . .;\n",
      "\n",
      "\n",
      "[time = 0 min 8 sec, epochs = 500 (50.0%), loss = 0.0114]\n",
      "а!\n",
      "\n",
      "ко плесной\n",
      "не клы, гду гужда, не шейто пеподнят ей выквы х отосты пордаю длюбя в труго болновы;\n",
      "у\n",
      "\n",
      "[time = 0 min 9 sec, epochs = 600 (60.0%), loss = 0.0117]\n",
      "а быля вледналасла\n",
      "током\n",
      "ето быя внидник при сослем оброжлы\n",
      "ни стрость деесношь тазали ль помумип: ми\n",
      "\n",
      "[time = 0 min 11 sec, epochs = 700 (70.0%), loss = 0.0112]\n",
      "ами, сеxпросты люблы; гония;\n",
      "перивы\n",
      "\n",
      "xxxv\n",
      "\n",
      ". прузди, зрузярясь дрезелся, ощуг естьяне, пузну дутя, мн\n",
      "\n",
      "[time = 0 min 12 sec, epochs = 800 (80.0%), loss = 0.0116]\n",
      "апнет ивает, здовать пот, вод, кокова., забтвляй, храже ем спересно в кравилной,\n",
      "лрагая;\n",
      "дичав ждитит\n",
      "\n",
      "[time = 0 min 14 sec, epochs = 900 (90.0%), loss = 0.0110]\n",
      "азравшик, за свол,\n",
      "полобомлаской ни накамансе глянил так посломает онн,\n",
      "поть дердечал мудни.\n",
      "филе не \n",
      "\n",
      "[time = 0 min 15 sec, epochs = 1000 (100.0%), loss = 0.0119]\n",
      "алицася седовалась. ужжилы, евге пригласкину\n",
      "искдичась. она в прова;\n",
      "в любитель. кримя!\n",
      "не докловила!\n",
      "\n"
     ]
    }
   ],
   "source": [
    "# Создаем модель\n",
    "rnn = RNN(\n",
    "    input_size=len(vocabulary),\n",
    "    embedding_size=embedding_size,\n",
    "    hidden_size=hidden_size,\n",
    "    output_size=len(vocabulary),\n",
    "    num_layers=num_layers\n",
    ")\n",
    "\n",
    "rnn_optimizer = torch.optim.Adam(rnn.parameters(), lr=lr)\n",
    "criterion = nn.CrossEntropyLoss()\n",
    "\n",
    "start = time.time()\n",
    "\n",
    "prefix = 'а'         # Префиксная строка для генерации в процессе обучения.\n",
    "\n",
    "all_losses = []      # Список значений функции потерь в процессе обучения (для графика)\n",
    "loss_avg = 0         # Усредненное по `plot_every` эпохам значение функции потерь для графика\n",
    "\n",
    "for epoch in range(1, n_epochs + 1):\n",
    "\n",
    "    # Генерируем первую последовательность\n",
    "    input, target = random_training_set(data, seq_len, vocabulary)\n",
    "    input = input.view(-1, 1)\n",
    "    target = target.view(-1, 1)\n",
    "\n",
    "    # Добавляем к первой последовательности другие в зависимости от количества мини-батчей\n",
    "    for b in range(batch_size_train-1):\n",
    "        sequence, target_seq = random_training_set(data, seq_len, vocabulary)\n",
    "        sequence = sequence.view(-1, 1)\n",
    "        target_seq = target_seq.view(-1, 1)\n",
    "        input = torch.cat((input, sequence), dim=1)\n",
    "        target = torch.cat((target, target_seq), dim=1)\n",
    "\n",
    "    # Запускаем эпоху обучения\n",
    "    loss = train(input, target, batch_size_train)\n",
    "    loss_avg += loss\n",
    "\n",
    "    # Осуществляем генерацию текста для текущей модели каждые `print_every` эпох\n",
    "    if epoch % print_every == 0:\n",
    "\n",
    "        print(f'[time = {time_since(start)}, epochs = {epoch} ({epoch / n_epochs * 100}%), loss = {loss:.4f}]')\n",
    "\n",
    "        predicted_text = evaluate(\n",
    "            model=rnn,\n",
    "            vocabulary=vocabulary,\n",
    "            batch_size=batch_size_test,\n",
    "            prefix=prefix,\n",
    "            predict_len=predict_len\n",
    "        )\n",
    "        print(predicted_text)\n",
    "        print()\n",
    "\n",
    "    if epoch % plot_every == 0:\n",
    "        all_losses.append(loss_avg / plot_every)\n",
    "        loss_avg = 0"
   ]
  },
  {
   "cell_type": "markdown",
   "metadata": {
    "id": "xrZIL5bFLy83"
   },
   "source": [
    "---\n",
    "Рисуем график потерь:"
   ]
  },
  {
   "cell_type": "code",
   "execution_count": 19,
   "metadata": {
    "colab": {
     "base_uri": "https://localhost:8080/",
     "height": 447
    },
    "executionInfo": {
     "elapsed": 142,
     "status": "ok",
     "timestamp": 1749839252699,
     "user": {
      "displayName": "Elena V. Razova",
      "userId": "14939859328445060819"
     },
     "user_tz": -180
    },
    "id": "Ibq5OVoFLy83",
    "outputId": "cf832b9f-9972-40b7-fb43-61490bf81637"
   },
   "outputs": [
    {
     "data": {
      "text/plain": [
       "[<matplotlib.lines.Line2D at 0x7f5975dcd590>]"
      ]
     },
     "execution_count": 19,
     "metadata": {},
     "output_type": "execute_result"
    },
    {
     "data": {
      "image/png": "[encoded data removed]",
      "text/plain": [
       "<Figure size 640x480 with 1 Axes>"
      ]
     },
     "metadata": {},
     "output_type": "display_data"
    }
   ],
   "source": [
    "plt.figure()\n",
    "plt.plot(all_losses)"
   ]
  },
  {
   "cell_type": "markdown",
   "metadata": {
    "id": "wJBf4RzuLy83"
   },
   "source": [
    "После обучения можно подставить любое начало и сеть его продолжит:"
   ]
  },
  {
   "cell_type": "code",
   "execution_count": 20,
   "metadata": {
    "colab": {
     "base_uri": "https://localhost:8080/"
    },
    "executionInfo": {
     "elapsed": 7,
     "status": "ok",
     "timestamp": 1749839252707,
     "user": {
      "displayName": "Elena V. Razova",
      "userId": "14939859328445060819"
     },
     "user_tz": -180
    },
    "id": "VbgkTRdiLy83",
    "outputId": "feed67c1-aa94-4814-fb23-8ade96b42e27"
   },
   "outputs": [
    {
     "name": "stdout",
     "output_type": "stream",
     "text": [
      "мой дядя за пмуть,\n",
      "с в простовед ней с тую не свитею: . ., и мозомно это молода!\n",
      "он ослучь очаль.\n",
      "оi\n",
      "\n",
      "xlvi\n",
      "\n",
      "\n"
     ]
    }
   ],
   "source": [
    "beginning = 'мой дядя'\n",
    "\n",
    "predict = evaluate(\n",
    "    model=rnn,\n",
    "    vocabulary=vocabulary,\n",
    "    batch_size=batch_size_test,\n",
    "    prefix=beginning,\n",
    "    predict_len=predict_len\n",
    ")\n",
    "\n",
    "print(predict)"
   ]
  },
  {
   "cell_type": "markdown",
   "metadata": {
    "id": "DcmsH3uhLy83"
   },
   "source": [
    "---\n",
    "#### Задание 1.\n",
    "Перенесите модель и данные на GPU."
   ]
  },
  {
   "cell_type": "code",
   "execution_count": 21,
   "metadata": {
    "colab": {
     "base_uri": "https://localhost:8080/"
    },
    "executionInfo": {
     "elapsed": 27,
     "status": "ok",
     "timestamp": 1749839252750,
     "user": {
      "displayName": "Elena V. Razova",
      "userId": "14939859328445060819"
     },
     "user_tz": -180
    },
    "id": "kEOI-SZ_OOUU",
    "outputId": "95f0cbf9-368f-4c15-c015-096af76a4ba3"
   },
   "outputs": [
    {
     "name": "stdout",
     "output_type": "stream",
     "text": [
      "❌ GPU не обнаружен. Colab работает на CPU.\n"
     ]
    }
   ],
   "source": [
    "if torch.cuda.is_available():\n",
    "    print(\"✅ GPU доступен!\")\n",
    "    print(\"Название GPU:\", torch.cuda.get_device_name(0))\n",
    "    print(\"Версия CUDA (драйвер):\", torch.version.cuda)  # Версия CUDA, которую видит PyTorch\n",
    "    print(\"Версия PyTorch:\", torch.__version__)\n",
    "else:\n",
    "    print(\"❌ GPU не обнаружен. Colab работает на CPU.\")"
   ]
  },
  {
   "cell_type": "code",
   "execution_count": 22,
   "metadata": {
    "colab": {
     "base_uri": "https://localhost:8080/"
    },
    "executionInfo": {
     "elapsed": 44,
     "status": "ok",
     "timestamp": 1749839252795,
     "user": {
      "displayName": "Elena V. Razova",
      "userId": "14939859328445060819"
     },
     "user_tz": -180
    },
    "id": "SAxIpDLLOOir",
    "outputId": "58c95c61-8e32-44bd-a293-376fd711d80c"
   },
   "outputs": [
    {
     "name": "stdout",
     "output_type": "stream",
     "text": [
      "Using device: cpu\n"
     ]
    }
   ],
   "source": [
    "# Проверяем доступность CUDA (GPU)\n",
    "device = torch.device('cuda' if torch.cuda.is_available() else 'cpu')\n",
    "print(f\"Using device: {device}\")"
   ]
  },
  {
   "cell_type": "code",
   "execution_count": 23,
   "metadata": {
    "executionInfo": {
     "elapsed": 2,
     "status": "ok",
     "timestamp": 1749839252795,
     "user": {
      "displayName": "Elena V. Razova",
      "userId": "14939859328445060819"
     },
     "user_tz": -180
    },
    "id": "Fr1QIHawTdwK"
   },
   "outputs": [],
   "source": [
    "# Модификация функции random_train_set\n",
    "def random_training_set(data, seq_len, vocabulary, device):\n",
    "    sequence = random_sequence(data, seq_len)\n",
    "    input = char_to_tensor(sequence[:-1], vocabulary)\n",
    "    target = char_to_tensor(sequence[1:], vocabulary)\n",
    "    input = torch.tensor(input, dtype=torch.long, device=device)  # Перенос на GPU\n",
    "    target = torch.tensor(target, dtype=torch.long, device=device)\n",
    "    return input, target"
   ]
  },
  {
   "cell_type": "code",
   "execution_count": 24,
   "metadata": {
    "executionInfo": {
     "elapsed": 341,
     "status": "ok",
     "timestamp": 1749839253135,
     "user": {
      "displayName": "Elena V. Razova",
      "userId": "14939859328445060819"
     },
     "user_tz": -180
    },
    "id": "HL8QaBmpZGO4"
   },
   "outputs": [],
   "source": [
    "# Создаем модель и переносим на GPU\n",
    "rnn = RNN(\n",
    "    input_size=len(vocabulary),\n",
    "    embedding_size=embedding_size,\n",
    "    hidden_size=hidden_size,\n",
    "    output_size=len(vocabulary),\n",
    "    num_layers=num_layers\n",
    ").to(device)\n",
    "\n",
    "rnn_optimizer = torch.optim.Adam(rnn.parameters(), lr=lr)\n",
    "criterion = nn.CrossEntropyLoss()"
   ]
  },
  {
   "cell_type": "code",
   "execution_count": 25,
   "metadata": {
    "executionInfo": {
     "elapsed": 4,
     "status": "ok",
     "timestamp": 1749839253140,
     "user": {
      "displayName": "Elena V. Razova",
      "userId": "14939859328445060819"
     },
     "user_tz": -180
    },
    "id": "b5eGeSJlUiTl"
   },
   "outputs": [],
   "source": [
    "# Модификация функции train\n",
    "def train(input, target, batch_size):\n",
    "    '''\n",
    "    input - тензор размерности (seq_len, batch_size). Тензор содержит индексы символов.\n",
    "    target - истинная последовательность индексов следующих символов (целевая переменная); размерность (seq_len, batch_size)\n",
    "    '''\n",
    "\n",
    "    # Инициализируем скрытое состояние\n",
    "    hidden = rnn.init_hidden(batch_size=batch_size).to(device)\n",
    "\n",
    "    rnn.zero_grad()\n",
    "    loss = 0\n",
    "\n",
    "    outputs, hidden = rnn(input, hidden)\n",
    "\n",
    "    # Преобразуем размерности для вычисления функции потерь\n",
    "    outputs = outputs.view(seq_len * batch_size, -1)\n",
    "    target = target.view(seq_len * batch_size)\n",
    "\n",
    "    loss = criterion(outputs, target)\n",
    "\n",
    "    loss.backward()\n",
    "    rnn_optimizer.step()\n",
    "\n",
    "    return loss.data / len(input)"
   ]
  },
  {
   "cell_type": "code",
   "execution_count": 26,
   "metadata": {
    "executionInfo": {
     "elapsed": 4,
     "status": "ok",
     "timestamp": 1749839253141,
     "user": {
      "displayName": "Elena V. Razova",
      "userId": "14939859328445060819"
     },
     "user_tz": -180
    },
    "id": "_TX6GnirVvKV"
   },
   "outputs": [],
   "source": [
    "# Модификация init_hidden\n",
    "def init_hidden(self, batch_size):\n",
    "        # Должна быть размерность (num_layers * num_directions, batch_size, hidden_size)\n",
    "        return torch.zeros(self.num_layers, batch_size, self.hidden_size).to(device)"
   ]
  },
  {
   "cell_type": "code",
   "execution_count": 27,
   "metadata": {
    "executionInfo": {
     "elapsed": 2,
     "status": "ok",
     "timestamp": 1749839253141,
     "user": {
      "displayName": "Elena V. Razova",
      "userId": "14939859328445060819"
     },
     "user_tz": -180
    },
    "id": "ysJQqPgXVJET"
   },
   "outputs": [],
   "source": [
    "# Модификация функции evaluate\n",
    "def evaluate(model, vocabulary, batch_size, prefix='а', predict_len=100):\n",
    "\n",
    "    # Инициализируем скрытое состояние\n",
    "    hidden = model.init_hidden(batch_size).to(device)\n",
    "\n",
    "    # Преобразуем префиксную строку в тензор индексов\n",
    "    prefix_input = char_to_tensor(prefix, vocabulary)\n",
    "\n",
    "    # В переменной predicted будет храниться порождаемая строка (результат работы всей функции).\n",
    "    # Записываем в неё сначала префиксную строку\n",
    "    predicted = prefix\n",
    "\n",
    "    # Запускаем модель на префиксной строке - формируем скрытое состояние для дальнейшей генерации\n",
    "    for p in range(len(prefix) - 1):\n",
    "        input = prefix_input[p]\n",
    "        input = input.view(-1, 1).to(device)\n",
    "        outputs, hidden = model(input, hidden)\n",
    "\n",
    "    # В качестве первого символа для генерации (предсказания следующего символа) выступает последний символ префиксной строки\n",
    "    input = prefix_input[-1]\n",
    "    input = input.reshape(-1, 1).to(device)\n",
    "\n",
    "    # Генерируем predict_len символов\n",
    "    for p in range(predict_len):\n",
    "\n",
    "        # Запускаем модель с текущим входным символом и текущим скрытым состоянием\n",
    "        output, hidden = model(input, hidden)\n",
    "\n",
    "        # В output возвращаются вероятности всех символов из словаря.\n",
    "        # Выбираем из этого распределения символ (сэмплируем)\n",
    "        output_dist = output.data.view(-1)\n",
    "        output_dist = output_dist.exp()\n",
    "        top_index = torch.multinomial(output_dist, 1)[0]\n",
    "\n",
    "        # Добавляем предсказанный символ в результирующую строку\n",
    "        predicted_char = vocabulary[top_index]\n",
    "        predicted += predicted_char\n",
    "\n",
    "        # Используем предсказанный символ как следующий вход\n",
    "        input = char_to_tensor(predicted_char, vocabulary)\n",
    "        input = input.reshape(-1, 1).to(device)\n",
    "\n",
    "    return predicted"
   ]
  },
  {
   "cell_type": "code",
   "execution_count": 28,
   "metadata": {
    "colab": {
     "base_uri": "https://localhost:8080/"
    },
    "executionInfo": {
     "elapsed": 10,
     "status": "ok",
     "timestamp": 1749839253152,
     "user": {
      "displayName": "Elena V. Razova",
      "userId": "14939859328445060819"
     },
     "user_tz": -180
    },
    "id": "FnK7yJSMfX2m",
    "outputId": "3f12c672-a2b4-4ee7-8437-e8d93e1eb363"
   },
   "outputs": [
    {
     "name": "stdout",
     "output_type": "stream",
     "text": [
      "Model device: cpu\n",
      "Sample input device: cpu\n"
     ]
    }
   ],
   "source": [
    "# Проверка\n",
    "print(\"Model device:\", next(rnn.parameters()).device)\n",
    "sample_input = torch.tensor([0], device=device)\n",
    "print(\"Sample input device:\", sample_input.device)"
   ]
  },
  {
   "cell_type": "code",
   "execution_count": 29,
   "metadata": {
    "colab": {
     "base_uri": "https://localhost:8080/"
    },
    "executionInfo": {
     "elapsed": 5849,
     "status": "ok",
     "timestamp": 1749839259000,
     "user": {
      "displayName": "Elena V. Razova",
      "userId": "14939859328445060819"
     },
     "user_tz": -180
    },
    "id": "Y3oMT35ORCFU",
    "outputId": "0b221a1b-3bda-4086-b010-38ef8071566d"
   },
   "outputs": [
    {
     "name": "stderr",
     "output_type": "stream",
     "text": [
      "/tmp/ipykernel_7526/1972840392.py:6: UserWarning: To copy construct from a tensor, it is recommended to use sourceTensor.clone().detach() or sourceTensor.clone().detach().requires_grad_(True), rather than torch.tensor(sourceTensor).\n",
      "  input = torch.tensor(input, dtype=torch.long, device=device)  # Перенос на GPU\n",
      "/tmp/ipykernel_7526/1972840392.py:7: UserWarning: To copy construct from a tensor, it is recommended to use sourceTensor.clone().detach() or sourceTensor.clone().detach().requires_grad_(True), rather than torch.tensor(sourceTensor).\n",
      "  target = torch.tensor(target, dtype=torch.long, device=device)\n"
     ]
    },
    {
     "name": "stdout",
     "output_type": "stream",
     "text": [
      "[time = 0 min 1 sec, epochs = 100 (10.0%), loss = 0.0133]\n",
      "а, докный зведо\n",
      "бxvii\n",
      "\n",
      "xxxxt\n",
      "яддо,\n",
      "\n",
      " етрев сегалик ни жет, в подрах ред?\n",
      "дебет в а вать.\n",
      "\n",
      "xxv\n",
      "ищнер х\n",
      "\n",
      "[time = 0 min 3 sec, epochs = 200 (20.0%), loss = 0.0125]\n",
      "а сцазный бивой, менен\n",
      "в м праблейяльбо волнет итьные смасчуча лелак жорда.\n",
      "нед,\n",
      "заро,\n",
      "пра\"рот\n",
      "и жуд?\n",
      "\n",
      "[time = 0 min 4 sec, epochs = 300 (30.0%), loss = 0.0125]\n",
      "а, м сей,\n",
      "слевной реждравее ставы слоченаях\n",
      "варшенаю набет!\n",
      "тан шугую\n",
      "в обой иденьчлать быраят душка,\n",
      "\n",
      "[time = 0 min 6 sec, epochs = 400 (40.0%), loss = 0.0112]\n",
      "а веру кол1а\n",
      "дут явой -\n",
      "вналины с бытных знавь забка\n",
      "и петинной\n",
      "норенья крывые\n",
      "оник.\n",
      "ман.\n",
      "\n",
      "xxxviii\n",
      "\n",
      "в\n",
      "\n",
      "[time = 0 min 7 sec, epochs = 500 (50.0%), loss = 0.0107]\n",
      "асильбрититрить отный делужичида,\n",
      "мого наш нарись и мери сласит и неводи\n",
      "с лезерили,\n",
      "и створит итпроб\n",
      "\n",
      "[time = 0 min 9 sec, epochs = 600 (60.0%), loss = 0.0114]\n",
      "ать одне вствлей свесноредь ши ножеска кним соволголять митуло крутах.\n",
      "\n",
      "зам напы молгем еичтанье свме\n",
      "\n",
      "[time = 0 min 10 sec, epochs = 700 (70.0%), loss = 0.0112]\n",
      "а, ще это ее спериильние\n",
      "и деты,\n",
      "момды гизлеся вимут ео то гичар\n",
      "для даньяе, там ей тозный,\n",
      "товзлых д\n",
      "\n",
      "[time = 0 min 12 sec, epochs = 800 (80.0%), loss = 0.0118]\n",
      "ада глева потчет, узня й сказнать рабоки!\n",
      "не,\n",
      "смыждастде!\n",
      "за ихо,\n",
      "мока, наплодь дамы,\n",
      "пошлерный уволк\n",
      "\n",
      "[time = 0 min 13 sec, epochs = 900 (90.0%), loss = 0.0105]\n",
      "а дежди, врядь его стилою,\n",
      "ает\n",
      "ворожил\n",
      "лет разбылой прилохуса ты трезный однов, назал вдраревной фума\n",
      "\n",
      "[time = 0 min 15 sec, epochs = 1000 (100.0%), loss = 0.0124]\n",
      "ась двезью,\n",
      "вледь задружене.\n",
      "онаa\n",
      "что не на тамолсеся, моспо слошененну.\n",
      "-\n",
      "двоих вилом, в леволо (зве\n",
      "\n"
     ]
    }
   ],
   "source": [
    "# Основной цикл обучения\n",
    "start = time.time()\n",
    "\n",
    "prefix = 'а'         # Префиксная строка для генерации в процессе обучения.\n",
    "\n",
    "all_losses = []      # Список значений функции потерь в процессе обучения (для графика)\n",
    "loss_avg = 0         # Усредненное по `plot_every` эпохам значение функции потерь для графика\n",
    "\n",
    "for epoch in range(1, n_epochs + 1):\n",
    "\n",
    "    # Генерируем первую последовательность\n",
    "    input, target = random_training_set(data, seq_len, vocabulary, device)\n",
    "    input = input.view(-1, 1)\n",
    "    target = target.view(-1, 1)\n",
    "\n",
    "    # Добавляем к первой последовательности другие в зависимости от количества мини-батчей\n",
    "    for b in range(batch_size_train-1):\n",
    "        sequence, target_seq = random_training_set(data, seq_len, vocabulary, device)\n",
    "        sequence = sequence.view(-1, 1)\n",
    "        target_seq = target_seq.view(-1, 1)\n",
    "        input = torch.cat((input, sequence), dim=1)\n",
    "        target = torch.cat((target, target_seq), dim=1)\n",
    "\n",
    "    # Запускаем эпоху обучения\n",
    "    loss = train(input, target, batch_size_train)\n",
    "    loss_avg += loss\n",
    "\n",
    "    # Осуществляем генерацию текста для текущей модели каждые `print_every` эпох\n",
    "    if epoch % print_every == 0:\n",
    "\n",
    "        print(f'[time = {time_since(start)}, epochs = {epoch} ({epoch / n_epochs * 100}%), loss = {loss:.4f}]')\n",
    "\n",
    "        predicted_text = evaluate(\n",
    "            model=rnn,\n",
    "            vocabulary=vocabulary,\n",
    "            batch_size=batch_size_test,\n",
    "            prefix=prefix,\n",
    "            predict_len=predict_len\n",
    "        )\n",
    "        print(predicted_text)\n",
    "        print()\n",
    "\n",
    "    if epoch % plot_every == 0:\n",
    "        all_losses.append(loss_avg / plot_every)\n",
    "        loss_avg = 0"
   ]
  },
  {
   "cell_type": "markdown",
   "metadata": {
    "id": "pgEHtdXBLy84"
   },
   "source": [
    "#### Задание 2.\n",
    "Запустите обучение модели с разным количеством эпох и размером мини-батча. Один или несколько результатов генерации в конце каждого эксперимента вместе с временем запуска и параметрами запишите в отдельный файл.  \n",
    "Проведите не менее 10 экспериментов.  \n",
    "Сделайте выводы об эффективности разных вариантов модели."
   ]
  },
  {
   "cell_type": "code",
   "execution_count": 30,
   "metadata": {
    "executionInfo": {
     "elapsed": 14,
     "status": "ok",
     "timestamp": 1749839259015,
     "user": {
      "displayName": "Elena V. Razova",
      "userId": "14939859328445060819"
     },
     "user_tz": -180
    },
    "id": "IvvDsR0nwMUr"
   },
   "outputs": [],
   "source": [
    "from datetime import datetime\n",
    "\n",
    "# Конфигурация экспериментов\n",
    "experiments = [\n",
    "    {'n_epochs': 50, 'batch_size_train': 32, 'batch_size_test': 1},\n",
    "    {'n_epochs': 100, 'batch_size_train': 32, 'batch_size_test': 1},\n",
    "    {'n_epochs': 200, 'batch_size_train': 32, 'batch_size_test': 1},\n",
    "    {'n_epochs': 50, 'batch_size_train': 64, 'batch_size_test': 1},\n",
    "    {'n_epochs': 100, 'batch_size_train': 64, 'batch_size_test': 1},\n",
    "    {'n_epochs': 200, 'batch_size_train': 64, 'batch_size_test': 1},\n",
    "    {'n_epochs': 50, 'batch_size_train': 128, 'batch_size_test': 1},\n",
    "    {'n_epochs': 100, 'batch_size_train': 128, 'batch_size_test': 1},\n",
    "    {'n_epochs': 200, 'batch_size_train': 128, 'batch_size_test': 1},\n",
    "    {'n_epochs': 300, 'batch_size_train': 64, 'batch_size_test': 1}\n",
    "]\n"
   ]
  },
  {
   "cell_type": "code",
   "execution_count": 31,
   "metadata": {
    "colab": {
     "base_uri": "https://localhost:8080/"
    },
    "executionInfo": {
     "elapsed": 266701,
     "status": "ok",
     "timestamp": 1749839525718,
     "user": {
      "displayName": "Elena V. Razova",
      "userId": "14939859328445060819"
     },
     "user_tz": -180
    },
    "id": "Jpx3AXNafK63",
    "outputId": "a1603184-dde3-4e20-8ca3-a387cc071491"
   },
   "outputs": [
    {
     "name": "stdout",
     "output_type": "stream",
     "text": [
      "\n",
      "=== Эксперимент 1/10 ===\n",
      "Параметры: {'n_epochs': 50, 'batch_size_train': 32, 'batch_size_test': 1}\n"
     ]
    },
    {
     "name": "stderr",
     "output_type": "stream",
     "text": [
      "/tmp/ipykernel_7526/1972840392.py:6: UserWarning: To copy construct from a tensor, it is recommended to use sourceTensor.clone().detach() or sourceTensor.clone().detach().requires_grad_(True), rather than torch.tensor(sourceTensor).\n",
      "  input = torch.tensor(input, dtype=torch.long, device=device)  # Перенос на GPU\n",
      "/tmp/ipykernel_7526/1972840392.py:7: UserWarning: To copy construct from a tensor, it is recommended to use sourceTensor.clone().detach() or sourceTensor.clone().detach().requires_grad_(True), rather than torch.tensor(sourceTensor).\n",
      "  target = torch.tensor(target, dtype=torch.long, device=device)\n"
     ]
    },
    {
     "name": "stdout",
     "output_type": "stream",
     "text": [
      "Эксперимент 1 завершен за 5.14 сек\n",
      "Лучший сгенерированный текст:\n",
      "аззэно, сездавнетой серомных сугс имель\n",
      "и назной пел евся прадcая-\n",
      "том дой мунный,\n",
      "сланый: и!щей влен\n",
      "\n",
      "\n",
      "=== Эксперимент 2/10 ===\n",
      "Параметры: {'n_epochs': 100, 'batch_size_train': 32, 'batch_size_test': 1}\n",
      "Эксперимент 2 завершен за 9.19 сек\n",
      "Лучший сгенерированный текст:\n",
      "а. он ольдатоватылю бладвив церить ге жвай дуги с проекесь,\n",
      "кадерсмушь и стицит?\n",
      "уе зобрежиле\n",
      "тmах за\n",
      "\n",
      "\n",
      "=== Эксперимент 3/10 ===\n",
      "Параметры: {'n_epochs': 200, 'batch_size_train': 32, 'batch_size_test': 1}\n",
      "Эксперимент 3 завершен за 23.99 сек\n",
      "Лучший сгенерированный текст:\n",
      "азь трыт:\n",
      "каки остезною молюдсям,\n",
      "стова! мнне гочай владу, что в муженный,\n",
      "ствои сепод нув длилали. .\n",
      "\n",
      "\n",
      "=== Эксперимент 4/10 ===\n",
      "Параметры: {'n_epochs': 50, 'batch_size_train': 64, 'batch_size_test': 1}\n",
      "Эксперимент 4 завершен за 9.85 сек\n",
      "Лучший сгенерированный текст:\n",
      "а чуaны, ваззастврунни чяо ны,\n",
      "оож шаду;\n",
      "отзучанье брестьиной\n",
      "д?\n",
      "как струхив она лужсевум сомалышь до\n",
      "\n",
      "\n",
      "=== Эксперимент 5/10 ===\n",
      "Параметры: {'n_epochs': 100, 'batch_size_train': 64, 'batch_size_test': 1}\n"
     ]
    },
    {
     "ename": "KeyboardInterrupt",
     "evalue": "",
     "output_type": "error",
     "traceback": [
      "\u001b[0;31m---------------------------------------------------------------------------\u001b[0m",
      "\u001b[0;31mKeyboardInterrupt\u001b[0m                         Traceback (most recent call last)",
      "Cell \u001b[0;32mIn[31], line 32\u001b[0m\n\u001b[1;32m     29\u001b[0m target \u001b[38;5;241m=\u001b[39m target\u001b[38;5;241m.\u001b[39mview(\u001b[38;5;241m-\u001b[39m\u001b[38;5;241m1\u001b[39m, \u001b[38;5;241m1\u001b[39m)\n\u001b[1;32m     31\u001b[0m \u001b[38;5;28;01mfor\u001b[39;00m b \u001b[38;5;129;01min\u001b[39;00m \u001b[38;5;28mrange\u001b[39m(config[\u001b[38;5;124m'\u001b[39m\u001b[38;5;124mbatch_size_train\u001b[39m\u001b[38;5;124m'\u001b[39m]\u001b[38;5;241m-\u001b[39m\u001b[38;5;241m1\u001b[39m):\n\u001b[0;32m---> 32\u001b[0m     sequence, target_seq \u001b[38;5;241m=\u001b[39m \u001b[43mrandom_training_set\u001b[49m\u001b[43m(\u001b[49m\u001b[43mdata\u001b[49m\u001b[43m,\u001b[49m\u001b[43m \u001b[49m\u001b[43mseq_len\u001b[49m\u001b[43m,\u001b[49m\u001b[43m \u001b[49m\u001b[43mvocabulary\u001b[49m\u001b[43m,\u001b[49m\u001b[43m \u001b[49m\u001b[43mdevice\u001b[49m\u001b[43m)\u001b[49m\n\u001b[1;32m     33\u001b[0m     sequence \u001b[38;5;241m=\u001b[39m sequence\u001b[38;5;241m.\u001b[39mview(\u001b[38;5;241m-\u001b[39m\u001b[38;5;241m1\u001b[39m, \u001b[38;5;241m1\u001b[39m)\n\u001b[1;32m     34\u001b[0m     target_seq \u001b[38;5;241m=\u001b[39m target_seq\u001b[38;5;241m.\u001b[39mview(\u001b[38;5;241m-\u001b[39m\u001b[38;5;241m1\u001b[39m, \u001b[38;5;241m1\u001b[39m)\n",
      "Cell \u001b[0;32mIn[23], line 4\u001b[0m, in \u001b[0;36mrandom_training_set\u001b[0;34m(data, seq_len, vocabulary, device)\u001b[0m\n\u001b[1;32m      2\u001b[0m \u001b[38;5;28;01mdef\u001b[39;00m \u001b[38;5;21mrandom_training_set\u001b[39m(data, seq_len, vocabulary, device):\n\u001b[1;32m      3\u001b[0m     sequence \u001b[38;5;241m=\u001b[39m random_sequence(data, seq_len)\n\u001b[0;32m----> 4\u001b[0m     \u001b[38;5;28minput\u001b[39m \u001b[38;5;241m=\u001b[39m \u001b[43mchar_to_tensor\u001b[49m\u001b[43m(\u001b[49m\u001b[43msequence\u001b[49m\u001b[43m[\u001b[49m\u001b[43m:\u001b[49m\u001b[38;5;241;43m-\u001b[39;49m\u001b[38;5;241;43m1\u001b[39;49m\u001b[43m]\u001b[49m\u001b[43m,\u001b[49m\u001b[43m \u001b[49m\u001b[43mvocabulary\u001b[49m\u001b[43m)\u001b[49m\n\u001b[1;32m      5\u001b[0m     target \u001b[38;5;241m=\u001b[39m char_to_tensor(sequence[\u001b[38;5;241m1\u001b[39m:], vocabulary)\n\u001b[1;32m      6\u001b[0m     \u001b[38;5;28minput\u001b[39m \u001b[38;5;241m=\u001b[39m torch\u001b[38;5;241m.\u001b[39mtensor(\u001b[38;5;28minput\u001b[39m, dtype\u001b[38;5;241m=\u001b[39mtorch\u001b[38;5;241m.\u001b[39mlong, device\u001b[38;5;241m=\u001b[39mdevice)  \u001b[38;5;66;03m# Перенос на GPU\u001b[39;00m\n",
      "Cell \u001b[0;32mIn[9], line 4\u001b[0m, in \u001b[0;36mchar_to_tensor\u001b[0;34m(string, vocabulary)\u001b[0m\n\u001b[1;32m      2\u001b[0m tensor \u001b[38;5;241m=\u001b[39m torch\u001b[38;5;241m.\u001b[39mzeros(\u001b[38;5;28mlen\u001b[39m(string))\u001b[38;5;241m.\u001b[39mlong()\n\u001b[1;32m      3\u001b[0m \u001b[38;5;28;01mfor\u001b[39;00m c \u001b[38;5;129;01min\u001b[39;00m \u001b[38;5;28mrange\u001b[39m(\u001b[38;5;28mlen\u001b[39m(string)):\n\u001b[0;32m----> 4\u001b[0m     tensor[c] \u001b[38;5;241m=\u001b[39m vocabulary\u001b[38;5;241m.\u001b[39mindex(string[c])\n\u001b[1;32m      5\u001b[0m \u001b[38;5;28;01mreturn\u001b[39;00m tensor\n",
      "\u001b[0;31mKeyboardInterrupt\u001b[0m: "
     ]
    }
   ],
   "source": [
    "\n",
    "results = []\n",
    "\n",
    "for exp_idx, config in enumerate(experiments, 1):\n",
    "    print(f\"\\n=== Эксперимент {exp_idx}/{len(experiments)} ===\")\n",
    "    print(f\"Параметры: {config}\")\n",
    "\n",
    "    # Инициализация модели для каждого эксперимента\n",
    "    rnn = RNN(\n",
    "        input_size=len(vocabulary),\n",
    "        embedding_size=embedding_size,\n",
    "        hidden_size=hidden_size,\n",
    "        output_size=len(vocabulary),\n",
    "        num_layers=num_layers\n",
    "    ).to(device)\n",
    "\n",
    "    rnn_optimizer = torch.optim.Adam(rnn.parameters(), lr=lr)\n",
    "\n",
    "    # Основной цикл обучения\n",
    "    start_time = time.time()\n",
    "    all_losses = []\n",
    "    loss_avg = 0\n",
    "    best_text = \"\"\n",
    "    best_loss = float('inf')\n",
    "\n",
    "    for epoch in range(1, config['n_epochs'] + 1):\n",
    "        # Обучение (ваш существующий код)\n",
    "        input, target = random_training_set(data, seq_len, vocabulary, device)\n",
    "        input = input.view(-1, 1)\n",
    "        target = target.view(-1, 1)\n",
    "\n",
    "        for b in range(config['batch_size_train']-1):\n",
    "            sequence, target_seq = random_training_set(data, seq_len, vocabulary, device)\n",
    "            sequence = sequence.view(-1, 1)\n",
    "            target_seq = target_seq.view(-1, 1)\n",
    "            input = torch.cat((input, sequence), dim=1)\n",
    "            target = torch.cat((target, target_seq), dim=1)\n",
    "\n",
    "        loss = train(input, target, config['batch_size_train'])\n",
    "        loss_avg += loss\n",
    "\n",
    "        # Сохраняем лучший результат\n",
    "        if loss < best_loss:\n",
    "            best_loss = loss\n",
    "            best_text = evaluate(\n",
    "                model=rnn,\n",
    "                vocabulary=vocabulary,\n",
    "                batch_size=config['batch_size_test'],\n",
    "                prefix=prefix,\n",
    "                predict_len=predict_len,\n",
    "            )\n",
    "\n",
    "        if epoch % plot_every == 0:\n",
    "            all_losses.append(loss_avg / plot_every)\n",
    "            loss_avg = 0\n",
    "\n",
    "    # Сохранение результатов эксперимента\n",
    "    experiment_time = time.time() - start_time\n",
    "    results.append({\n",
    "        'experiment_id': exp_idx,\n",
    "        'parameters': config,\n",
    "        'training_time': experiment_time,\n",
    "        'final_loss': loss,\n",
    "        'best_generated_text': best_text,\n",
    "        'all_losses': all_losses\n",
    "    })\n",
    "\n",
    "    print(f\"Эксперимент {exp_idx} завершен за {experiment_time:.2f} сек\")\n",
    "    print(f\"Лучший сгенерированный текст:\\n{best_text}\\n\")\n",
    "\n"
   ]
  },
  {
   "cell_type": "code",
   "execution_count": null,
   "metadata": {
    "executionInfo": {
     "elapsed": 1,
     "status": "ok",
     "timestamp": 1749839525733,
     "user": {
      "displayName": "Elena V. Razova",
      "userId": "14939859328445060819"
     },
     "user_tz": -180
    },
    "id": "s9BLdRrCqg8j"
   },
   "outputs": [],
   "source": [
    "import csv\n",
    "def save_to_file(results, name_model):\n",
    "  # Подготовка данных для CSV\n",
    "  csv_data = []\n",
    "  for exp in results:\n",
    "      # Преобразуем все loss значения\n",
    "      all_losses = [loss.item() if torch.is_tensor(loss) else loss for loss in exp['all_losses']]\n",
    "      final_loss = exp['final_loss'].item() if torch.is_tensor(exp['final_loss']) else exp['final_loss']\n",
    "\n",
    "      csv_data.append({\n",
    "          'experiment_id': exp['experiment_id'],\n",
    "          'n_epochs': exp['parameters']['n_epochs'],\n",
    "          'batch_size_train': exp['parameters']['batch_size_train'],\n",
    "          'batch_size_test': exp['parameters']['batch_size_test'],\n",
    "          'training_time_sec': round(exp['training_time'], 2),\n",
    "          'final_loss': round(float(final_loss), 5),\n",
    "          'best_generated_text': exp['best_generated_text'],\n",
    "          'min_loss': round(float(min(all_losses)), 5),\n",
    "          'max_loss': round(float(max(all_losses)), 5),\n",
    "          'last_5_losses': ', '.join([str(round(float(x), 5)) for x in all_losses[-5:]])\n",
    "      })\n",
    "\n",
    "  # Определяем заголовки CSV\n",
    "  fieldnames = [\n",
    "      'experiment_id',\n",
    "      'n_epochs',\n",
    "      'batch_size_train',\n",
    "      'batch_size_test',\n",
    "      'training_time_sec',\n",
    "      'final_loss',\n",
    "      'min_loss',\n",
    "      'max_loss',\n",
    "      'last_5_losses',\n",
    "      'best_generated_text'\n",
    "  ]\n",
    "\n",
    "  # Сохраняем в CSV файл\n",
    "  timestamp = datetime.now().strftime(\"%d%m%Y_%H%M%S\")\n",
    "  filename = f\"{name_model}_experiments_{timestamp}.csv\"\n",
    "\n",
    "  with open(filename, 'w', newline='', encoding='utf-8') as csvfile:\n",
    "      writer = csv.DictWriter(csvfile, fieldnames=fieldnames)\n",
    "      writer.writeheader()\n",
    "      writer.writerows(csv_data)\n",
    "\n",
    "  print(f\"Результаты успешно сохранены в {filename}\")"
   ]
  },
  {
   "cell_type": "code",
   "execution_count": null,
   "metadata": {
    "colab": {
     "base_uri": "https://localhost:8080/"
    },
    "executionInfo": {
     "elapsed": 7,
     "status": "ok",
     "timestamp": 1749839525741,
     "user": {
      "displayName": "Elena V. Razova",
      "userId": "14939859328445060819"
     },
     "user_tz": -180
    },
    "id": "WYa5gs80z_C0",
    "outputId": "de91e74a-dfb8-419f-d339-ea8d4521ddaf"
   },
   "outputs": [
    {
     "name": "stdout",
     "output_type": "stream",
     "text": [
      "Результаты успешно сохранены в rnn_experiments_13062025_183204.csv\n"
     ]
    }
   ],
   "source": [
    "save_to_file(results, 'rnn')"
   ]
  },
  {
   "cell_type": "code",
   "execution_count": null,
   "metadata": {
    "executionInfo": {
     "elapsed": 1,
     "status": "ok",
     "timestamp": 1749839525743,
     "user": {
      "displayName": "Elena V. Razova",
      "userId": "14939859328445060819"
     },
     "user_tz": -180
    },
    "id": "vOB1V8R-jZYG"
   },
   "outputs": [],
   "source": [
    "def plot_loss(results, name_model):\n",
    "  plt.figure(figsize=(12, 6))\n",
    "\n",
    "  for res in results:\n",
    "      # Преобразуем losses из тензоров в numpy массив на CPU\n",
    "      if isinstance(res['all_losses'][0], torch.Tensor):\n",
    "          losses = [loss.cpu().item() for loss in res['all_losses']]\n",
    "      else:\n",
    "          losses = res['all_losses']\n",
    "\n",
    "      plt.plot(losses, label=f\"Exp {res['experiment_id']} (epochs={res['parameters']['n_epochs']}, bs={res['parameters']['batch_size_train']})\")\n",
    "\n",
    "  plt.title(f\"Training Loss Across Experiments for {name_model}\")\n",
    "  plt.xlabel('Iterations (every {} epochs)'.format(plot_every))\n",
    "  plt.ylabel('Loss')\n",
    "  plt.grid(True, linestyle='--', alpha=0.5)\n",
    "  plt.legend(bbox_to_anchor=(1.05, 1), loc='upper left')\n",
    "  plt.tight_layout()\n",
    "  plt.show()\n",
    "\n",
    "  plt.savefig(f\"{name_model}_training_loss_comparison.png\", dpi=300, bbox_inches='tight')"
   ]
  },
  {
   "cell_type": "code",
   "execution_count": null,
   "metadata": {
    "colab": {
     "base_uri": "https://localhost:8080/",
     "height": 348
    },
    "executionInfo": {
     "elapsed": 538,
     "status": "ok",
     "timestamp": 1749839526282,
     "user": {
      "displayName": "Elena V. Razova",
      "userId": "14939859328445060819"
     },
     "user_tz": -180
    },
    "id": "Ygnh_GEW0QXc",
    "outputId": "911a7dad-9abb-40a2-9d4c-c61244174d42"
   },
   "outputs": [
    {
     "data": {
      "image/png": "[encoded data removed]",
      "text/plain": [
       "<Figure size 1200x600 with 1 Axes>"
      ]
     },
     "metadata": {},
     "output_type": "display_data"
    },
    {
     "data": {
      "text/plain": [
       "<Figure size 640x480 with 0 Axes>"
      ]
     },
     "metadata": {},
     "output_type": "display_data"
    }
   ],
   "source": [
    "plot_loss(results,'rnn')"
   ]
  },
  {
   "cell_type": "code",
   "execution_count": null,
   "metadata": {
    "executionInfo": {
     "elapsed": 1,
     "status": "ok",
     "timestamp": 1749839526285,
     "user": {
      "displayName": "Elena V. Razova",
      "userId": "14939859328445060819"
     },
     "user_tz": -180
    },
    "id": "z0-19RqBrTgg"
   },
   "outputs": [],
   "source": [
    "#from google.colab import drive\n",
    "#drive.mount('/content/drive')"
   ]
  },
  {
   "cell_type": "markdown",
   "metadata": {
    "id": "tU91DqM-Ly84"
   },
   "source": [
    "#### Задание 3.\n",
    "Поменяйте модуль Simple RNN на LSTM. Запустите обучение модели с разным количеством эпох и размером мини-батча.  \n",
    "Желательно, чтобы параметры совпадали с предыдущим экспериментом и можно было сравнивать модели.  \n",
    "Один или несколько результатов генерации в конце каждого эксперимента вместе с временем запуска и параметрами запишите в отдельный файл.  \n",
    "Проведите не менее 10 экспериментов.  \n",
    "Сделайте выводы об эффективности разных вариантов модели."
   ]
  },
  {
   "cell_type": "code",
   "execution_count": null,
   "metadata": {
    "colab": {
     "base_uri": "https://localhost:8080/"
    },
    "executionInfo": {
     "elapsed": 7,
     "status": "ok",
     "timestamp": 1749839526294,
     "user": {
      "displayName": "Elena V. Razova",
      "userId": "14939859328445060819"
     },
     "user_tz": -180
    },
    "id": "wOh3jQw4-i5E",
    "outputId": "e037cdea-bec4-4384-d5f0-f96412386eeb"
   },
   "outputs": [
    {
     "name": "stdout",
     "output_type": "stream",
     "text": [
      "Using device: cuda\n"
     ]
    }
   ],
   "source": [
    "# Проверяем доступность CUDA (GPU)\n",
    "device = torch.device('cuda' if torch.cuda.is_available() else 'cpu')\n",
    "print(f\"Using device: {device}\")"
   ]
  },
  {
   "cell_type": "code",
   "execution_count": null,
   "metadata": {
    "executionInfo": {
     "elapsed": 41,
     "status": "ok",
     "timestamp": 1749839526336,
     "user": {
      "displayName": "Elena V. Razova",
      "userId": "14939859328445060819"
     },
     "user_tz": -180
    },
    "id": "UX9NFTRR0dN0"
   },
   "outputs": [],
   "source": [
    "# Описание класса RNNModel\n",
    "class RNNModel(nn.Module):\n",
    "    def __init__(self, input_size, embedding_size, hidden_size, output_size, num_layers, model_type):\n",
    "        super(RNNModel, self).__init__()\n",
    "        self.model_type = model_type.lower()\n",
    "        self.hidden_size = hidden_size\n",
    "        self.num_layers = num_layers\n",
    "\n",
    "        self.embedding = nn.Embedding(input_size, embedding_size)\n",
    "\n",
    "        # Выбираем тип RNN слоя\n",
    "        if self.model_type == 'lstm':\n",
    "            self.rnn = nn.LSTM(embedding_size, hidden_size, num_layers, batch_first=False)\n",
    "        elif self.model_type == 'gru':\n",
    "            self.rnn = nn.GRU(embedding_size, hidden_size, num_layers, batch_first=False)\n",
    "        else:\n",
    "            self.rnn = nn.RNN(embedding_size, hidden_size, num_layers, batch_first=False)\n",
    "\n",
    "        self.fc = nn.Linear(hidden_size, output_size)\n",
    "        self.to(device)  # Переносим все параметры на устройство\n",
    "\n",
    "    def forward(self, x, hidden):\n",
    "        # x: (seq_len, batch_size)\n",
    "        x = x.to(device)\n",
    "        embedded = self.embedding(x)  # (seq_len, batch_size, embedding_size)\n",
    "\n",
    "        output, hidden = self.rnn(embedded, hidden)\n",
    "        output = self.fc(output.view(-1, self.hidden_size))\n",
    "        return output, hidden\n",
    "\n",
    "    def init_hidden(self, batch_size):\n",
    "        # Инициализация скрытого состояния на правильном устройстве\n",
    "        if self.model_type == 'lstm':\n",
    "            return (torch.zeros(self.num_layers, batch_size, self.hidden_size).to(device),\n",
    "                    torch.zeros(self.num_layers, batch_size, self.hidden_size).to(device))\n",
    "        else:\n",
    "            return torch.zeros(self.num_layers, batch_size, self.hidden_size).to(device)"
   ]
  },
  {
   "cell_type": "code",
   "execution_count": null,
   "metadata": {
    "executionInfo": {
     "elapsed": 22,
     "status": "ok",
     "timestamp": 1749839526336,
     "user": {
      "displayName": "Elena V. Razova",
      "userId": "14939859328445060819"
     },
     "user_tz": -180
    },
    "id": "Y6WrC4zaTQjS"
   },
   "outputs": [],
   "source": [
    "def create_model(model_type, vocab_size, embed_size, hidden_size, num_layers):\n",
    "    model = RNNModel(\n",
    "        input_size=vocab_size,\n",
    "        embedding_size=embed_size,\n",
    "        hidden_size=hidden_size,\n",
    "        output_size=vocab_size,\n",
    "        num_layers=num_layers,\n",
    "        model_type=model_type\n",
    "    )\n",
    "\n",
    "    return model.to(device)"
   ]
  },
  {
   "cell_type": "code",
   "execution_count": null,
   "metadata": {
    "executionInfo": {
     "elapsed": 21,
     "status": "ok",
     "timestamp": 1749839526337,
     "user": {
      "displayName": "Elena V. Razova",
      "userId": "14939859328445060819"
     },
     "user_tz": -180
    },
    "id": "nymEuszkQg_5"
   },
   "outputs": [],
   "source": [
    "# Модификация функции random_train_set\n",
    "def random_training_set(data, seq_len, vocabulary, device):\n",
    "    sequence = random_sequence(data, seq_len)\n",
    "    input = char_to_tensor(sequence[:-1], vocabulary)\n",
    "    target = char_to_tensor(sequence[1:], vocabulary)\n",
    "    input = torch.tensor(input, dtype=torch.long, device=device)  # Перенос на GPU\n",
    "    target = torch.tensor(target, dtype=torch.long, device=device)\n",
    "    return input, target"
   ]
  },
  {
   "cell_type": "code",
   "execution_count": null,
   "metadata": {
    "executionInfo": {
     "elapsed": 21,
     "status": "ok",
     "timestamp": 1749839526338,
     "user": {
      "displayName": "Elena V. Razova",
      "userId": "14939859328445060819"
     },
     "user_tz": -180
    },
    "id": "mLP_N5hx03j4"
   },
   "outputs": [],
   "source": [
    "# Модификация функции train\n",
    "def train(input, target, batch_size):\n",
    "    '''\n",
    "    input - тензор размерности (seq_len, batch_size). Тензор содержит индексы символов.\n",
    "    target - истинная последовательность индексов следующих символов (целевая переменная); размерность (seq_len, batch_size)\n",
    "    '''\n",
    "\n",
    "    # Инициализируем скрытое состояние\n",
    "    hidden = rnn.init_hidden(batch_size=batch_size).to(device)\n",
    "\n",
    "    rnn.zero_grad()\n",
    "    loss = 0\n",
    "\n",
    "    outputs, hidden = rnn(input, hidden)\n",
    "\n",
    "    # Преобразуем размерности для вычисления функции потерь\n",
    "    outputs = outputs.view(seq_len * batch_size, -1)\n",
    "    target = target.view(seq_len * batch_size)\n",
    "\n",
    "    loss = criterion(outputs, target)\n",
    "\n",
    "    loss.backward()\n",
    "    rnn_optimizer.step()\n",
    "\n",
    "    return loss.data / len(input)\n"
   ]
  },
  {
   "cell_type": "code",
   "execution_count": null,
   "metadata": {
    "executionInfo": {
     "elapsed": 20,
     "status": "ok",
     "timestamp": 1749839526338,
     "user": {
      "displayName": "Elena V. Razova",
      "userId": "14939859328445060819"
     },
     "user_tz": -180
    },
    "id": "4-eMp1tU2Q3E"
   },
   "outputs": [],
   "source": [
    "# Модификация функции evaluate\n",
    "def evaluate(model, vocabulary, batch_size, prefix='а', predict_len=100):\n",
    "\n",
    "    # Инициализируем скрытое состояние\n",
    "    hidden = model.init_hidden(batch_size).to(device)\n",
    "\n",
    "    # Преобразуем префиксную строку в тензор индексов\n",
    "    prefix_input = char_to_tensor(prefix, vocabulary)\n",
    "\n",
    "    # В переменной predicted будет храниться порождаемая строка (результат работы всей функции).\n",
    "    # Записываем в неё сначала префиксную строку\n",
    "    predicted = prefix\n",
    "\n",
    "    # Запускаем модель на префиксной строке - формируем скрытое состояние для дальнейшей генерации\n",
    "    for p in range(len(prefix) - 1):\n",
    "        input = prefix_input[p]\n",
    "        input = input.view(-1, 1).to(device)\n",
    "        outputs, hidden = model(input, hidden)\n",
    "\n",
    "    # В качестве первого символа для генерации (предсказания следующего символа) выступает последний символ префиксной строки\n",
    "    input = prefix_input[-1]\n",
    "    input = input.reshape(-1, 1).to(device)\n",
    "\n",
    "    # Генерируем predict_len символов\n",
    "    for p in range(predict_len):\n",
    "\n",
    "        # Запускаем модель с текущим входным символом и текущим скрытым состоянием\n",
    "        output, hidden = model(input, hidden)\n",
    "\n",
    "        # В output возвращаются вероятности всех символов из словаря.\n",
    "        # Выбираем из этого распределения символ (сэмплируем)\n",
    "        output_dist = output.data.view(-1)\n",
    "        output_dist = output_dist.exp()\n",
    "        top_index = torch.multinomial(output_dist, 1)[0]\n",
    "\n",
    "        # Добавляем предсказанный символ в результирующую строку\n",
    "        predicted_char = vocabulary[top_index]\n",
    "        predicted += predicted_char\n",
    "\n",
    "        # Используем предсказанный символ как следующий вход\n",
    "        input = char_to_tensor(predicted_char, vocabulary)\n",
    "        input = input.reshape(-1, 1).to(device)\n",
    "\n",
    "    return predicted\n"
   ]
  },
  {
   "cell_type": "code",
   "execution_count": null,
   "metadata": {
    "executionInfo": {
     "elapsed": 7,
     "status": "ok",
     "timestamp": 1749839526339,
     "user": {
      "displayName": "Elena V. Razova",
      "userId": "14939859328445060819"
     },
     "user_tz": -180
    },
    "id": "TSQV7Qu-3lxJ"
   },
   "outputs": [],
   "source": [
    "def model_training(model):\n",
    "  results = []\n",
    "\n",
    "  for exp_idx, config in enumerate(experiments, 1):\n",
    "      print(f\"\\n=== Эксперимент {exp_idx}/{len(experiments)} ===\")\n",
    "      print(f\"Параметры: {config}\")\n",
    "\n",
    "      # Критерий и оптимизатор\n",
    "      criterion = nn.CrossEntropyLoss().to(device)\n",
    "      rnn_optimizer = torch.optim.Adam(rnn.parameters(), lr=lr)\n",
    "\n",
    "      # Основной цикл обучения\n",
    "      start_time = time.time()\n",
    "      all_losses = []\n",
    "      loss_avg = 0\n",
    "      best_text = \"\"\n",
    "      best_loss = float('inf')\n",
    "\n",
    "      for epoch in range(1, config['n_epochs'] + 1):\n",
    "          # Обучение\n",
    "          input, target = random_training_set(data, seq_len, vocabulary, device)\n",
    "          input = input.view(-1, 1)\n",
    "          target = target.view(-1, 1)\n",
    "\n",
    "          for b in range(config['batch_size_train']-1):\n",
    "              sequence, target_seq = random_training_set(data, seq_len, vocabulary, device)\n",
    "              sequence = sequence.view(-1, 1)\n",
    "              target_seq = target_seq.view(-1, 1)\n",
    "              input = torch.cat((input, sequence), dim=1)\n",
    "              target = torch.cat((target, target_seq), dim=1)\n",
    "\n",
    "          loss = train(input, target, config['batch_size_train'])\n",
    "          loss_avg += loss\n",
    "\n",
    "          # Сохраняем лучший результат\n",
    "          if loss < best_loss:\n",
    "              best_loss = loss\n",
    "              best_text = evaluate(\n",
    "                  model=rnn,\n",
    "                  vocabulary=vocabulary,\n",
    "                  batch_size=config['batch_size_test'],\n",
    "                  prefix=prefix,\n",
    "                  predict_len=predict_len,\n",
    "              )\n",
    "\n",
    "          if epoch % plot_every == 0:\n",
    "              all_losses.append(loss_avg / plot_every)\n",
    "              loss_avg = 0\n",
    "\n",
    "      # Сохранение результатов эксперимента\n",
    "      experiment_time = time.time() - start_time\n",
    "      results.append({\n",
    "          'experiment_id': exp_idx,\n",
    "          'parameters': config,\n",
    "          'training_time': experiment_time,\n",
    "          'final_loss': loss,\n",
    "          'best_generated_text': best_text,\n",
    "          'all_losses': all_losses\n",
    "      })\n",
    "\n",
    "      print(f\"Эксперимент {exp_idx} завершен за {experiment_time:.2f} сек\")\n",
    "      print(f\"Лучший сгенерированный текст:\\n{best_text}\\n\")\n",
    "  return results"
   ]
  },
  {
   "cell_type": "code",
   "execution_count": null,
   "metadata": {
    "colab": {
     "base_uri": "https://localhost:8080/",
     "height": 1000
    },
    "executionInfo": {
     "elapsed": 238336,
     "status": "ok",
     "timestamp": 1749839764670,
     "user": {
      "displayName": "Elena V. Razova",
      "userId": "14939859328445060819"
     },
     "user_tz": -180
    },
    "id": "DLT7LhjQ4cj7",
    "outputId": "5c17b78a-f6d5-47e1-db2e-14cf56429993"
   },
   "outputs": [
    {
     "name": "stdout",
     "output_type": "stream",
     "text": [
      "Created LSTM model on cuda:0\n",
      "\n",
      "=== Эксперимент 1/10 ===\n",
      "Параметры: {'n_epochs': 50, 'batch_size_train': 32, 'batch_size_test': 1}\n"
     ]
    },
    {
     "name": "stderr",
     "output_type": "stream",
     "text": [
      "<ipython-input-40-1972840392>:6: UserWarning: To copy construct from a tensor, it is recommended to use sourceTensor.clone().detach() or sourceTensor.clone().detach().requires_grad_(True), rather than torch.tensor(sourceTensor).\n",
      "  input = torch.tensor(input, dtype=torch.long, device=device)  # Перенос на GPU\n",
      "<ipython-input-40-1972840392>:7: UserWarning: To copy construct from a tensor, it is recommended to use sourceTensor.clone().detach() or sourceTensor.clone().detach().requires_grad_(True), rather than torch.tensor(sourceTensor).\n",
      "  target = torch.tensor(target, dtype=torch.long, device=device)\n"
     ]
    },
    {
     "name": "stdout",
     "output_type": "stream",
     "text": [
      "Эксперимент 1 завершен за 4.00 сек\n",
      "Лучший сгенерированный текст:\n",
      "ах,\n",
      "пода мод преношь небу пупа?\n",
      "\n",
      "xvii\n",
      "\n",
      "сканы\n",
      "хоть не лая кражных взоворь сенку души озная бытве\n",
      "том н\n",
      "\n",
      "\n",
      "=== Эксперимент 2/10 ===\n",
      "Параметры: {'n_epochs': 100, 'batch_size_train': 32, 'batch_size_test': 1}\n",
      "Эксперимент 2 завершен за 8.46 сек\n",
      "Лучший сгенерированный текст:\n",
      "арь, мне, и шалоды лын-;\n",
      "влет!\n",
      "но он блив.\n",
      "не нее пальбовы\n",
      "благде кгонится жен),\n",
      "что забытью сполнами\n",
      "\n",
      "\n",
      "=== Эксперимент 3/10 ===\n",
      "Параметры: {'n_epochs': 200, 'batch_size_train': 32, 'batch_size_test': 1}\n",
      "Эксперимент 3 завершен за 15.63 сек\n",
      "Лучший сгенерированный текст:\n",
      "ам, темне доуку,\n",
      "вдалазиити!\n",
      "ав она щем бростин,\n",
      "она толктать: форо ледный молпот\n",
      "наш его с что врема\n",
      "\n",
      "\n",
      "=== Эксперимент 4/10 ===\n",
      "Параметры: {'n_epochs': 50, 'batch_size_train': 64, 'batch_size_test': 1}\n",
      "Эксперимент 4 завершен за 8.36 сек\n",
      "Лучший сгенерированный текст:\n",
      "арымать надрезай пустеком посладящи,\n",
      "monnsie er las eva\n",
      "thaberes tar e esle nencecvila tatenev\n",
      "\n",
      "точил\n",
      "\n",
      "\n",
      "=== Эксперимент 5/10 ===\n",
      "Параметры: {'n_epochs': 100, 'batch_size_train': 64, 'batch_size_test': 1}\n",
      "Эксперимент 5 завершен за 15.52 сек\n",
      "Лучший сгенерированный текст:\n",
      "алая страрность,\n",
      "при заперста его поутро страды\n",
      "прияных\n",
      "ей ж хвым растеланья\n",
      "и своей.\n",
      "\n",
      "ix\n",
      "\n",
      "\"клабу на \n",
      "\n",
      "\n",
      "=== Эксперимент 6/10 ===\n",
      "Параметры: {'n_epochs': 200, 'batch_size_train': 64, 'batch_size_test': 1}\n",
      "Эксперимент 6 завершен за 31.24 сек\n",
      "Лучший сгенерированный текст:\n",
      "ая, спятичною зеркий, и плодете с куфаровых олну, блестил! кузнать\n",
      "с лиденкогинет он брачно со он вже\n",
      "\n",
      "\n",
      "=== Эксперимент 7/10 ===\n",
      "Параметры: {'n_epochs': 50, 'batch_size_train': 128, 'batch_size_test': 1}\n",
      "Эксперимент 7 завершен за 15.94 сек\n",
      "Лучший сгенерированный текст:\n",
      "аку ль? впоместь,\n",
      "она кна чутах.\n",
      "\n",
      "v\n",
      "\n",
      "где по ний, что лон,\n",
      "как,\n",
      "воседеш\"- и похотели был тайну\n",
      "и трево\n",
      "\n",
      "\n",
      "=== Эксперимент 8/10 ===\n",
      "Параметры: {'n_epochs': 100, 'batch_size_train': 128, 'batch_size_test': 1}\n",
      "Эксперимент 8 завершен за 30.48 сек\n",
      "Лучший сгенерированный текст:\n",
      "ачит,\n",
      "дохопии босхо\n",
      "соседа на полнаи спронати.\n",
      "как толчегода! когда надых,\n",
      "шуте с пузрона сельз меня \n",
      "\n",
      "\n",
      "=== Эксперимент 9/10 ===\n",
      "Параметры: {'n_epochs': 200, 'batch_size_train': 128, 'batch_size_test': 1}\n",
      "Эксперимент 9 завершен за 61.74 сек\n",
      "Лучший сгенерированный текст:\n",
      "амесь мей жен\n",
      "ного с мелять лиже,\n",
      "уж пустям забытал ее соселый весстрогу взордает сниже спомнужем {14\n",
      "\n",
      "\n",
      "=== Эксперимент 10/10 ===\n",
      "Параметры: {'n_epochs': 300, 'batch_size_train': 64, 'batch_size_test': 1}\n",
      "Эксперимент 10 завершен за 46.63 сек\n",
      "Лучший сгенерированный текст:\n",
      "ачат,\n",
      "ихок, взоеду,\n",
      "все под полестки поднятся блажи;\n",
      "а что было в не таня? простяйсь.\n",
      "и к косплательн\n",
      "\n",
      "Результаты успешно сохранены в LSTM_experiments_13062025_183603.csv\n"
     ]
    },
    {
     "data": {
      "image/png": "[encoded data removed]",
      "text/plain": [
       "<Figure size 1200x600 with 1 Axes>"
      ]
     },
     "metadata": {},
     "output_type": "display_data"
    },
    {
     "data": {
      "text/plain": [
       "<Figure size 640x480 with 0 Axes>"
      ]
     },
     "metadata": {},
     "output_type": "display_data"
    }
   ],
   "source": [
    " # Создаем модель (можно выбрать 'rnn', 'lstm' или 'gru')\n",
    "model = create_model('lstm', len(vocabulary), embedding_size, hidden_size, num_layers)\n",
    "print(f\"Created {model.model_type.upper()} model on {next(model.parameters()).device}\")\n",
    "\n",
    "results = model_training(model)\n",
    "\n",
    "save_to_file(results, 'LSTM')\n",
    "\n",
    "plot_loss(results,'LSTM')"
   ]
  },
  {
   "cell_type": "markdown",
   "metadata": {
    "id": "fwa2n44NLy84"
   },
   "source": [
    "#### Задание 4.\n",
    "Повторите предыдущее задание для модуля GRU.  \n",
    "Кроме выводов об эффективности, сделайте выводы о времени обучения разных моделей – Simple RNN, LSTM, GRU."
   ]
  },
  {
   "cell_type": "code",
   "execution_count": null,
   "metadata": {
    "colab": {
     "base_uri": "https://localhost:8080/",
     "height": 1000
    },
    "executionInfo": {
     "elapsed": 239755,
     "status": "ok",
     "timestamp": 1749840004423,
     "user": {
      "displayName": "Elena V. Razova",
      "userId": "14939859328445060819"
     },
     "user_tz": -180
    },
    "id": "NBoS7SdbeVpC",
    "outputId": "8bb1478c-b732-4380-ce98-b1fbf180ba64"
   },
   "outputs": [
    {
     "name": "stdout",
     "output_type": "stream",
     "text": [
      "Created GRU model on cuda:0\n",
      "\n",
      "=== Эксперимент 1/10 ===\n",
      "Параметры: {'n_epochs': 50, 'batch_size_train': 32, 'batch_size_test': 1}\n"
     ]
    },
    {
     "name": "stderr",
     "output_type": "stream",
     "text": [
      "<ipython-input-40-1972840392>:6: UserWarning: To copy construct from a tensor, it is recommended to use sourceTensor.clone().detach() or sourceTensor.clone().detach().requires_grad_(True), rather than torch.tensor(sourceTensor).\n",
      "  input = torch.tensor(input, dtype=torch.long, device=device)  # Перенос на GPU\n",
      "<ipython-input-40-1972840392>:7: UserWarning: To copy construct from a tensor, it is recommended to use sourceTensor.clone().detach() or sourceTensor.clone().detach().requires_grad_(True), rather than torch.tensor(sourceTensor).\n",
      "  target = torch.tensor(target, dtype=torch.long, device=device)\n"
     ]
    },
    {
     "name": "stdout",
     "output_type": "stream",
     "text": [
      "Эксперимент 1 завершен за 4.46 сек\n",
      "Лучший сгенерированный текст:\n",
      "ам вести мало я {22}\n",
      "тине,\n",
      "отде. честой думала власем путь и сказать, отда мгдали\n",
      "блескажали,\n",
      "с кувит\n",
      "\n",
      "\n",
      "=== Эксперимент 2/10 ===\n",
      "Параметры: {'n_epochs': 100, 'batch_size_train': 32, 'batch_size_test': 1}\n",
      "Эксперимент 2 завершен за 7.47 сек\n",
      "Лучший сгенерированный текст:\n",
      "адким бег, небстве геротит вдкто любою лепыпличь по нелода смятает,\n",
      "моской его сопростой\n",
      "ремы не змат\n",
      "\n",
      "\n",
      "=== Эксперимент 3/10 ===\n",
      "Параметры: {'n_epochs': 200, 'batch_size_train': 32, 'batch_size_test': 1}\n",
      "Эксперимент 3 завершен за 16.52 сек\n",
      "Лучший сгенерированный текст:\n",
      "ам призной\n",
      "онегин картен\n",
      "былей можут,\n",
      "иль свиренна.\n",
      "но знают\n",
      "и долго.\n",
      "\n",
      "xix\n",
      "\n",
      "\"отпиным я личенных комна\n",
      "\n",
      "\n",
      "=== Эксперимент 4/10 ===\n",
      "Параметры: {'n_epochs': 50, 'batch_size_train': 64, 'batch_size_test': 1}\n",
      "Эксперимент 4 завершен за 7.59 сек\n",
      "Лучший сгенерированный текст:\n",
      "але добренный и мой тешу мы льцулмит, хнить,\n",
      "на лье взыв, грошь,\n",
      "купать,\n",
      "брите, стварь, как селенной \n",
      "\n",
      "\n",
      "=== Эксперимент 5/10 ===\n",
      "Параметры: {'n_epochs': 100, 'batch_size_train': 64, 'batch_size_test': 1}\n",
      "Эксперимент 5 завершен за 16.18 сек\n",
      "Лучший сгенерированный текст:\n",
      "ай на сторог.\n",
      "\n",
      "li\n",
      "\n",
      "мужду с горяй девор, и пышность покорен висал\n",
      "ниходь венам,\n",
      "я водно вышею же после\n",
      "\n",
      "\n",
      "=== Эксперимент 6/10 ===\n",
      "Параметры: {'n_epochs': 200, 'batch_size_train': 64, 'batch_size_test': 1}\n",
      "Эксперимент 6 завершен за 30.86 сек\n",
      "Лучший сгенерированный текст:\n",
      "ала и час.\n",
      "будто младость рад.\n",
      "она бого, слез;\n",
      "не прийцетию мня,\n",
      "и настанился играли: тревенным веле \n",
      "\n",
      "\n",
      "=== Эксперимент 7/10 ===\n",
      "Параметры: {'n_epochs': 50, 'batch_size_train': 128, 'batch_size_test': 1}\n",
      "Эксперимент 7 завершен за 16.18 сек\n",
      "Лучший сгенерированный текст:\n",
      "ах, женям был,\n",
      "вай старина\n",
      "зас уж голви,\n",
      "опыт евгений\n",
      "их силось иг, усанческой вшида подам,\n",
      "краду нез\n",
      "\n",
      "\n",
      "=== Эксперимент 8/10 ===\n",
      "Параметры: {'n_epochs': 100, 'batch_size_train': 128, 'batch_size_test': 1}\n",
      "Эксперимент 8 завершен за 31.05 сек\n",
      "Лучший сгенерированный текст:\n",
      "апят быть,\n",
      "замаи услагонящище сущащердо:\n",
      "и нетоплопот будли жизал петвинях искатим,\n",
      "зазвец года.\n",
      "она \n",
      "\n",
      "\n",
      "=== Эксперимент 9/10 ===\n",
      "Параметры: {'n_epochs': 200, 'batch_size_train': 128, 'batch_size_test': 1}\n",
      "Эксперимент 9 завершен за 62.29 сек\n",
      "Лучший сгенерированный текст:\n",
      "ам!\n",
      "не знужный\n",
      "об: к же приремя вдруг полны,\n",
      "пола могн\n",
      "быет что-то татьяна,\n",
      "старика дечей не ступля ж\n",
      "\n",
      "\n",
      "=== Эксперимент 10/10 ===\n",
      "Параметры: {'n_epochs': 300, 'batch_size_train': 64, 'batch_size_test': 1}\n",
      "Эксперимент 10 завершен за 46.73 сек\n",
      "Лучший сгенерированный текст:\n",
      "ах\n",
      "люмений в сердца бесской она,\n",
      "как на грустив и все класани,\n",
      "чешанья\"\n",
      "\n",
      "но милом\n",
      "и тсод пытьянными в\n",
      "\n",
      "Результаты успешно сохранены в GRU_experiments_13062025_184003.csv\n"
     ]
    },
    {
     "data": {
      "image/png": "[encoded data removed]",
      "text/plain": [
       "<Figure size 1200x600 with 1 Axes>"
      ]
     },
     "metadata": {},
     "output_type": "display_data"
    },
    {
     "data": {
      "text/plain": [
       "<Figure size 640x480 with 0 Axes>"
      ]
     },
     "metadata": {},
     "output_type": "display_data"
    }
   ],
   "source": [
    "# Создаем модель (можно выбрать 'rnn', 'lstm' или 'gru')\n",
    "model = create_model('gru', len(vocabulary), embedding_size, hidden_size, num_layers)\n",
    "print(f\"Created {model.model_type.upper()} model on {next(model.parameters()).device}\")\n",
    "\n",
    "results = model_training(model)\n",
    "\n",
    "save_to_file(results, 'GRU')\n",
    "\n",
    "plot_loss(results,'GRU')"
   ]
  },
  {
   "cell_type": "markdown",
   "metadata": {
    "id": "V03BZQuDmIES"
   },
   "source": [
    "**Вывод:** лучшие результаты показала модель LSTM с параметрами {'n_epochs': 300, 'batch_size_train': 64, 'batch_size_test': 1}. RNN уступает по качеству обеим моделям. GRU уступает по качеству LSTM, но работает быстрее."
   ]
  },
  {
   "cell_type": "markdown",
   "metadata": {
    "id": "YIRoHmGnLy84"
   },
   "source": [
    "#### Задание 5.\n",
    "Выберите лучшую модель по результатам предыдущих экспериментов и попробуйте добиться повышения качества за счёт разного количества слоёв."
   ]
  },
  {
   "cell_type": "code",
   "execution_count": null,
   "metadata": {
    "executionInfo": {
     "elapsed": 21,
     "status": "ok",
     "timestamp": 1749842200399,
     "user": {
      "displayName": "Elena V. Razova",
      "userId": "14939859328445060819"
     },
     "user_tz": -180
    },
    "id": "altcbAmZlowl"
   },
   "outputs": [],
   "source": [
    "# Импорт планировщика learning rate для автоматического уменьшения LR при плато\n",
    "from torch.optim.lr_scheduler import ReduceLROnPlateau\n",
    "\n",
    "# Определение устройства (GPU/CPU) для вычислений\n",
    "device = torch.device('cuda' if torch.cuda.is_available() else 'cpu')\n",
    "\n",
    "class StackedRNN(nn.Module):\n",
    "    def __init__(self, input_size, embedding_size, hidden_size, output_size,\n",
    "                 num_layers, rnn_type, dropout=0.3):\n",
    "        \"\"\"Инициализация многослойной RNN модели\n",
    "        Args:\n",
    "            input_size: Размер словаря (количество уникальных токенов)\n",
    "            embedding_size: Размерность векторного представления токенов\n",
    "            hidden_size: Размер скрытого состояния RNN\n",
    "            output_size: Размер выходного слоя (обычно равен input_size)\n",
    "            num_layers: Количество RNN слоев\n",
    "            rnn_type: Тип RNN ('rnn', 'lstm' или 'gru')\n",
    "            dropout: Вероятность dropout для регуляризации\n",
    "        \"\"\"\n",
    "        super(StackedRNN, self).__init__()\n",
    "        self.rnn_type = rnn_type.lower()  # Нормализация типа RNN\n",
    "        self.num_layers = num_layers      # Сохраняем количество слоев\n",
    "        self.hidden_size = hidden_size    # Размер скрытого состояния\n",
    "\n",
    "        # Слой для преобразования индексов токенов в векторные представления\n",
    "        self.embedding = nn.Embedding(input_size, embedding_size)\n",
    "\n",
    "        # Инициализация RNN слоёв с учетом типа:\n",
    "        # - Для LSTM/GRU/RNN создаем соответствующий слой\n",
    "        # - Dropout применяется только между слоями (если слоев > 1)\n",
    "        if self.rnn_type == 'lstm':\n",
    "            self.rnn = nn.LSTM(embedding_size, hidden_size, num_layers,\n",
    "                              dropout=dropout if num_layers > 1 else 0,\n",
    "                              batch_first=False)\n",
    "        elif self.rnn_type == 'gru':\n",
    "            self.rnn = nn.GRU(embedding_size, hidden_size, num_layers,\n",
    "                             dropout=dropout if num_layers > 1 else 0,\n",
    "                             batch_first=False)\n",
    "        else:  # Обычная RNN\n",
    "            self.rnn = nn.RNN(embedding_size, hidden_size, num_layers,\n",
    "                             dropout=dropout if num_layers > 1 else 0,\n",
    "                             batch_first=False)\n",
    "\n",
    "        # Дополнительная полносвязная сеть с:\n",
    "        # - Линейным слоем (hidden_size -> hidden_size//2)\n",
    "        # - BatchNorm для стабилизации обучения\n",
    "        # - ReLU активация\n",
    "        # - Dropout для регуляризации\n",
    "        # - Финальный линейный слой (hidden_size//2 -> output_size)\n",
    "        self.fc = nn.Sequential(\n",
    "            nn.Linear(hidden_size, hidden_size//2),\n",
    "            nn.BatchNorm1d(hidden_size//2),\n",
    "            nn.ReLU(),\n",
    "            nn.Dropout(dropout),\n",
    "            nn.Linear(hidden_size//2, output_size)\n",
    "        )\n",
    "\n",
    "        # Перенос всех параметров модели на выбранное устройство (GPU/CPU)\n",
    "        self.to(device)\n",
    "\n",
    "    def forward(self, x, hidden):\n",
    "        \"\"\"Прямой проход модели\n",
    "        Args:\n",
    "            x: Входные данные (последовательность индексов токенов)\n",
    "            hidden: Начальное скрытое состояние\n",
    "        Returns:\n",
    "            output: Выходные предсказания\n",
    "            hidden: Новое скрытое состояние\n",
    "        \"\"\"\n",
    "        # Перенос входных данных на нужное устройство\n",
    "        x = x.to(device)\n",
    "\n",
    "        # Преобразование индексов в векторные представления\n",
    "        embedded = self.embedding(x)\n",
    "\n",
    "        # Прямой проход через RNN слой\n",
    "        output, hidden = self.rnn(embedded, hidden)\n",
    "\n",
    "        # Преобразование выхода RNN:\n",
    "        # 1. Изменяем форму для полносвязного слоя (объединяем временные шаги и батч)\n",
    "        # 2. Применяем дополнительную FC сеть\n",
    "        output = output.view(-1, self.hidden_size)\n",
    "        output = self.fc(output)\n",
    "\n",
    "        return output, hidden\n",
    "\n",
    "    def init_hidden(self, batch_size):\n",
    "        \"\"\"Инициализация скрытого состояния\n",
    "        Args:\n",
    "            batch_size: Размер батча для правильной инициализации\n",
    "        Returns:\n",
    "            hidden: Нулевое скрытое состояние на правильном устройстве\n",
    "        \"\"\"\n",
    "        # Получаем пример тензора параметров для правильного устройства/типа\n",
    "        weight = next(self.parameters())\n",
    "\n",
    "        # Для LSTM возвращаем кортеж (hidden_state, cell_state)\n",
    "        if self.rnn_type == 'lstm':\n",
    "            return (weight.new_zeros(self.num_layers, batch_size, self.hidden_size),\n",
    "                    weight.new_zeros(self.num_layers, batch_size, self.hidden_size))\n",
    "        # Для RNN/GRU возвращаем только hidden_state\n",
    "        else:\n",
    "            return weight.new_zeros(self.num_layers, batch_size, self.hidden_size)"
   ]
  },
  {
   "cell_type": "code",
   "execution_count": null,
   "metadata": {
    "executionInfo": {
     "elapsed": 21,
     "status": "ok",
     "timestamp": 1749843461636,
     "user": {
      "displayName": "Elena V. Razova",
      "userId": "14939859328445060819"
     },
     "user_tz": -180
    },
    "id": "fpiR6ZKfm9DN"
   },
   "outputs": [],
   "source": [
    "def train_model(model_type, num_layers_list, train_loader, val_loader,\n",
    "               vocab_size, embed_size=256, hidden_size=512,\n",
    "               epochs=20, patience=3):\n",
    "    \"\"\"Обучает RNN модель с разным количеством слоев и возвращает результаты\n",
    "\n",
    "    Args:\n",
    "        model_type (str): Тип RNN ('rnn', 'lstm' или 'gru')\n",
    "        num_layers_list (list): Список количеств слоев для экспериментов\n",
    "        train_loader (DataLoader): Загрузчик тренировочных данных\n",
    "        val_loader (DataLoader): Загрузчик валидационных данных\n",
    "        vocab_size (int): Размер словаря\n",
    "        embed_size (int, optional): Размер эмбеддингов. По умолчанию 256.\n",
    "        hidden_size (int, optional): Размер скрытого состояния. По умолчанию 512.\n",
    "        epochs (int, optional): Макс. количество эпох. По умолчанию 20.\n",
    "        patience (int, optional): Количество эпох для ранней остановки. По умолчанию 3.\n",
    "\n",
    "    Returns:\n",
    "        dict: Результаты для каждого количества слоев {num_layers: best_val_loss}\n",
    "    \"\"\"\n",
    "\n",
    "    # Словарь для сохранения результатов (количество слоев: лучший val_loss)\n",
    "    results = {}\n",
    "\n",
    "    # Перебираем все заданные количества слоев\n",
    "    for num_layers in num_layers_list:\n",
    "        print(f\"\\n=== Training {model_type.upper()} with {num_layers} layers ===\")\n",
    "\n",
    "        # 1. Инициализация модели с текущим количеством слоев\n",
    "        model = StackedRNN(\n",
    "            input_size=vocab_size,\n",
    "            embedding_size=embed_size,\n",
    "            hidden_size=hidden_size,\n",
    "            output_size=vocab_size,\n",
    "            num_layers=num_layers,\n",
    "            rnn_type=model_type\n",
    "        )\n",
    "\n",
    "        # 2. Настройка функции потерь, оптимизатора и планировщика LR\n",
    "        criterion = nn.CrossEntropyLoss(ignore_index=0).to(device)  # Игнорируем padding индекс 0\n",
    "        optimizer = torch.optim.Adam(model.parameters(),\n",
    "                                   lr=0.001,\n",
    "                                   weight_decay=1e-5)  # L2 регуляризация\n",
    "        scheduler = ReduceLROnPlateau(optimizer,\n",
    "                                    mode='min',       # Уменьшаем LR при уменьшении loss\n",
    "                                    patience=2,       # Ждем 2 эпохи без улучшений\n",
    "                                    factor=0.5)       # Умножаем LR на 0.5\n",
    "\n",
    "        # 3. Переменные для отслеживания лучшего результата и ранней остановки\n",
    "        best_val_loss = float('inf')\n",
    "        early_stop_counter = 0\n",
    "\n",
    "        # 4. Цикл обучения\n",
    "        for epoch in range(epochs):\n",
    "            # --- Фаза обучения ---\n",
    "            model.train()  # Переводим модель в режим обучения\n",
    "            train_loss = 0\n",
    "            input, target = random_training_set(data, seq_len, vocabulary, device)\n",
    "            input = input.view(-1, 1)\n",
    "            target = target.view(-1, 1)\n",
    "\n",
    "            for b in range(config['batch_size_train']-1):\n",
    "                sequence, target_seq = random_training_set(data, seq_len, vocabulary, device)\n",
    "\n",
    "                sequence = sequence.view(-1, 1)\n",
    "                target_seq = target_seq.view(-1, 1)\n",
    "\n",
    "                input = torch.cat((input, sequence), dim=1)\n",
    "                target = torch.cat((target, target_seq), dim=1)\n",
    "\n",
    "                # Перенос данных на GPU\n",
    "                input, target = input.to(device), target.to(device)\n",
    "\n",
    "                # Инициализация скрытого состояния для каждого батча\n",
    "                hidden = model.init_hidden(input.size(1))\n",
    "\n",
    "                # Обнуляем градиенты\n",
    "                optimizer.zero_grad()\n",
    "\n",
    "                # Прямой проход\n",
    "                output, _ = model(input, hidden)\n",
    "\n",
    "                # Вычисление потерь (выходные размеры: [seq_len*batch_size, vocab_size])\n",
    "                loss = criterion(output, target.view(-1))\n",
    "\n",
    "                # Обратный проход и оптимизация\n",
    "                loss.backward()\n",
    "\n",
    "                # Обрезаем градиенты для предотвращения \"взрыва\"\n",
    "                nn.utils.clip_grad_norm_(model.parameters(), 0.5)\n",
    "\n",
    "                # Шаг оптимизации\n",
    "                optimizer.step()\n",
    "\n",
    "                # Суммируем потери\n",
    "                train_loss += loss.item()\n",
    "\n",
    "            # --- Фаза валидации ---\n",
    "            val_loss = 0\n",
    "            model.eval()  # Переводим модель в режим оценки\n",
    "            with torch.no_grad():  # Отключаем вычисление градиентов\n",
    "                for b in range(config['batch_size_train']-1):\n",
    "                    sequence, target_seq = random_training_set(data, seq_len, vocabulary, device)\n",
    "                    sequence = sequence.view(-1, 1)\n",
    "                    target_seq = target_seq.view(-1, 1)\n",
    "\n",
    "                    input = torch.cat((input, sequence), dim=1)\n",
    "                    target = torch.cat((target, target_seq), dim=1)\n",
    "\n",
    "                    # Перенос данных на GPU\n",
    "                    input, target = input.to(device), target.to(device)\n",
    "                    hidden = model.init_hidden(input.size(1))\n",
    "                    outputs, _ = model(input, hidden)\n",
    "                    val_loss += criterion(outputs, target.view(-1)).item()\n",
    "\n",
    "            # Нормализуем потери по количеству батчей\n",
    "            train_loss /= config['batch_size_train']-1\n",
    "            val_loss /= config['batch_size_train']-1\n",
    "\n",
    "            # Обновляем learning rate на основе валидационных потерь\n",
    "            scheduler.step(val_loss)\n",
    "\n",
    "            # Выводим статистику\n",
    "            print(f\"Epoch {epoch+1}: Train Loss = {train_loss:.4f}, Val Loss = {val_loss:.4f}\")\n",
    "\n",
    "            # 5. Логика ранней остановки и сохранения лучшей модели\n",
    "            if val_loss < best_val_loss:\n",
    "                best_val_loss = val_loss\n",
    "                early_stop_counter = 0\n",
    "                # Сохраняем веса лучшей модели\n",
    "                torch.save(model.state_dict(), f\"best_{model_type}_{num_layers}layers.pt\")\n",
    "            else:\n",
    "                early_stop_counter += 1\n",
    "                # Если нет улучшений в течение patience эпох - останавливаемся\n",
    "                if early_stop_counter >= patience:\n",
    "                    print(f\"Early stopping at epoch {epoch+1}\")\n",
    "                    break\n",
    "\n",
    "        # Сохраняем лучший результат для текущего количества слоев\n",
    "        results[num_layers] = best_val_loss\n",
    "\n",
    "    return results\n"
   ]
  },
  {
   "cell_type": "code",
   "execution_count": null,
   "metadata": {
    "executionInfo": {
     "elapsed": 3,
     "status": "ok",
     "timestamp": 1749845533209,
     "user": {
      "displayName": "Elena V. Razova",
      "userId": "14939859328445060819"
     },
     "user_tz": -180
    },
    "id": "o7yCWNFvorkZ"
   },
   "outputs": [],
   "source": [
    "# Анализ результатов\n",
    "def analyze_results(results):\n",
    "    print(\"\\n=== Результаты экспериментов ===\")\n",
    "\n",
    "    for model_type, layers_results in results.items():\n",
    "        print(f\"\\nМодель {model_type.upper()}:\")\n",
    "        for num_layers, val_loss in sorted(layers_results.items(), key=lambda item: item[1]):\n",
    "            print(f\"Слоёв: {num_layers}, Val Loss: {val_loss:.4f}\")\n",
    "\n",
    "    # Визуализация\n",
    "    import matplotlib.pyplot as plt\n",
    "\n",
    "    for model_type, layers_results in results.items():\n",
    "\n",
    "        layers = sorted(layers_results.keys())\n",
    "        losses = [layers_results[l] for l in layers]\n",
    "        plt.plot(layers, losses, marker='o', label=model_type)\n",
    "\n",
    "    plt.xlabel('Количество слоёв')\n",
    "    plt.ylabel('Validation Loss')\n",
    "    plt.title('Зависимость качества от количества слоёв')\n",
    "    plt.legend()\n",
    "    plt.grid()\n",
    "    plt.show()"
   ]
  },
  {
   "cell_type": "code",
   "execution_count": null,
   "metadata": {
    "colab": {
     "base_uri": "https://localhost:8080/",
     "height": 1000
    },
    "executionInfo": {
     "elapsed": 177089,
     "status": "ok",
     "timestamp": 1749845808070,
     "user": {
      "displayName": "Elena V. Razova",
      "userId": "14939859328445060819"
     },
     "user_tz": -180
    },
    "id": "YANEwDfMo7bf",
    "outputId": "b3c01fb9-cd5f-454a-de8b-dc7dec7fb755"
   },
   "outputs": [
    {
     "name": "stdout",
     "output_type": "stream",
     "text": [
      "\n",
      "=== Training LSTM with 1 layers ===\n"
     ]
    },
    {
     "name": "stderr",
     "output_type": "stream",
     "text": [
      "<ipython-input-40-1972840392>:6: UserWarning: To copy construct from a tensor, it is recommended to use sourceTensor.clone().detach() or sourceTensor.clone().detach().requires_grad_(True), rather than torch.tensor(sourceTensor).\n",
      "  input = torch.tensor(input, dtype=torch.long, device=device)  # Перенос на GPU\n",
      "<ipython-input-40-1972840392>:7: UserWarning: To copy construct from a tensor, it is recommended to use sourceTensor.clone().detach() or sourceTensor.clone().detach().requires_grad_(True), rather than torch.tensor(sourceTensor).\n",
      "  target = torch.tensor(target, dtype=torch.long, device=device)\n"
     ]
    },
    {
     "name": "stdout",
     "output_type": "stream",
     "text": [
      "Epoch 1: Train Loss = 3.4226, Val Loss = 2.8048\n",
      "Epoch 2: Train Loss = 2.6354, Val Loss = 2.4314\n",
      "Epoch 3: Train Loss = 2.4123, Val Loss = 2.2610\n",
      "Epoch 4: Train Loss = 2.3099, Val Loss = 2.1500\n",
      "Epoch 5: Train Loss = 2.2350, Val Loss = 2.1066\n",
      "Epoch 6: Train Loss = 2.2193, Val Loss = 2.0832\n",
      "Epoch 7: Train Loss = 2.1395, Val Loss = 2.0091\n",
      "Epoch 8: Train Loss = 2.1565, Val Loss = 1.9926\n",
      "Epoch 9: Train Loss = 2.0484, Val Loss = 1.9479\n",
      "Epoch 10: Train Loss = 2.0404, Val Loss = 1.9415\n",
      "Epoch 11: Train Loss = 2.0413, Val Loss = 1.9514\n",
      "Epoch 12: Train Loss = 1.9576, Val Loss = 1.9023\n",
      "Epoch 13: Train Loss = 1.9951, Val Loss = 1.8628\n",
      "Epoch 14: Train Loss = 1.9682, Val Loss = 1.9005\n",
      "Epoch 15: Train Loss = 1.9531, Val Loss = 1.8129\n",
      "Epoch 16: Train Loss = 1.9840, Val Loss = 1.8696\n",
      "Epoch 17: Train Loss = 1.9630, Val Loss = 1.8419\n",
      "Epoch 18: Train Loss = 1.8740, Val Loss = 1.8139\n",
      "Early stopping at epoch 18\n",
      "\n",
      "=== Training LSTM with 2 layers ===\n",
      "Epoch 1: Train Loss = 3.5263, Val Loss = 2.9482\n",
      "Epoch 2: Train Loss = 2.7493, Val Loss = 2.5377\n",
      "Epoch 3: Train Loss = 2.5721, Val Loss = 2.3967\n",
      "Epoch 4: Train Loss = 2.4467, Val Loss = 2.2748\n",
      "Epoch 5: Train Loss = 2.3998, Val Loss = 2.2355\n",
      "Epoch 6: Train Loss = 2.2723, Val Loss = 2.1260\n",
      "Epoch 7: Train Loss = 2.2100, Val Loss = 2.0616\n",
      "Epoch 8: Train Loss = 2.2026, Val Loss = 2.0456\n",
      "Epoch 9: Train Loss = 2.1736, Val Loss = 2.0093\n",
      "Epoch 10: Train Loss = 2.1845, Val Loss = 1.9942\n",
      "Epoch 11: Train Loss = 2.1562, Val Loss = 1.9786\n",
      "Epoch 12: Train Loss = 2.1152, Val Loss = 1.9222\n",
      "Epoch 13: Train Loss = 2.1639, Val Loss = 1.9623\n",
      "Epoch 14: Train Loss = 2.0159, Val Loss = 1.9017\n",
      "Epoch 15: Train Loss = 2.0992, Val Loss = 1.8747\n",
      "Epoch 16: Train Loss = 2.0618, Val Loss = 1.8948\n",
      "Epoch 17: Train Loss = 2.0232, Val Loss = 1.8774\n",
      "Epoch 18: Train Loss = 2.0193, Val Loss = 1.8488\n",
      "Epoch 19: Train Loss = 2.0106, Val Loss = 1.8371\n",
      "Epoch 20: Train Loss = 1.9684, Val Loss = 1.8016\n",
      "Epoch 21: Train Loss = 1.8877, Val Loss = 1.8125\n",
      "Epoch 22: Train Loss = 2.0225, Val Loss = 1.8202\n",
      "Epoch 23: Train Loss = 1.9594, Val Loss = 1.7619\n",
      "Epoch 24: Train Loss = 1.9531, Val Loss = 1.7699\n",
      "Epoch 25: Train Loss = 1.9756, Val Loss = 1.7943\n",
      "Epoch 26: Train Loss = 1.9752, Val Loss = 1.7921\n",
      "Early stopping at epoch 26\n",
      "\n",
      "=== Training LSTM with 3 layers ===\n",
      "Epoch 1: Train Loss = 3.7390, Val Loss = 3.3064\n",
      "Epoch 2: Train Loss = 2.8226, Val Loss = 2.5956\n",
      "Epoch 3: Train Loss = 2.6297, Val Loss = 2.4610\n",
      "Epoch 4: Train Loss = 2.4888, Val Loss = 2.3304\n",
      "Epoch 5: Train Loss = 2.4251, Val Loss = 2.2485\n",
      "Epoch 6: Train Loss = 2.3506, Val Loss = 2.1829\n",
      "Epoch 7: Train Loss = 2.3239, Val Loss = 2.1269\n",
      "Epoch 8: Train Loss = 2.2633, Val Loss = 2.1001\n",
      "Epoch 9: Train Loss = 2.2084, Val Loss = 2.0789\n",
      "Epoch 10: Train Loss = 2.2845, Val Loss = 2.0709\n",
      "Epoch 11: Train Loss = 2.1810, Val Loss = 2.0656\n",
      "Epoch 12: Train Loss = 2.1623, Val Loss = 1.9943\n",
      "Epoch 13: Train Loss = 2.2067, Val Loss = 2.0282\n",
      "Epoch 14: Train Loss = 2.1827, Val Loss = 2.0148\n",
      "Epoch 15: Train Loss = 2.0909, Val Loss = 1.9375\n",
      "Epoch 16: Train Loss = 2.1093, Val Loss = 1.9600\n",
      "Epoch 17: Train Loss = 2.1129, Val Loss = 1.9401\n",
      "Epoch 18: Train Loss = 2.0974, Val Loss = 1.9454\n",
      "Early stopping at epoch 18\n",
      "\n",
      "=== Training LSTM with 4 layers ===\n",
      "Epoch 1: Train Loss = 3.8525, Val Loss = 3.4912\n",
      "Epoch 2: Train Loss = 3.0669, Val Loss = 2.6928\n",
      "Epoch 3: Train Loss = 2.6770, Val Loss = 2.5123\n",
      "Epoch 4: Train Loss = 2.5657, Val Loss = 2.4056\n",
      "Epoch 5: Train Loss = 2.4635, Val Loss = 2.3358\n",
      "Epoch 6: Train Loss = 2.3416, Val Loss = 2.2471\n",
      "Epoch 7: Train Loss = 2.3689, Val Loss = 2.2502\n",
      "Epoch 8: Train Loss = 2.3583, Val Loss = 2.2260\n",
      "Epoch 9: Train Loss = 2.3521, Val Loss = 2.1708\n",
      "Epoch 10: Train Loss = 2.2894, Val Loss = 2.1485\n",
      "Epoch 11: Train Loss = 2.2447, Val Loss = 2.1317\n",
      "Epoch 12: Train Loss = 2.3078, Val Loss = 2.1043\n",
      "Epoch 13: Train Loss = 2.2325, Val Loss = 2.0774\n",
      "Epoch 14: Train Loss = 2.1578, Val Loss = 2.0486\n",
      "Epoch 15: Train Loss = 2.1820, Val Loss = 2.0275\n",
      "Epoch 16: Train Loss = 2.1163, Val Loss = 1.9939\n",
      "Epoch 17: Train Loss = 2.1610, Val Loss = 2.0004\n",
      "Epoch 18: Train Loss = 2.1517, Val Loss = 1.9476\n",
      "Epoch 19: Train Loss = 2.1533, Val Loss = 1.9910\n",
      "Epoch 20: Train Loss = 2.1140, Val Loss = 1.9655\n",
      "Epoch 21: Train Loss = 2.1199, Val Loss = 1.9742\n",
      "Early stopping at epoch 21\n",
      "\n",
      "=== Training GPU with 1 layers ===\n",
      "Epoch 1: Train Loss = 3.4877, Val Loss = 2.8410\n",
      "Epoch 2: Train Loss = 2.6803, Val Loss = 2.5066\n",
      "Epoch 3: Train Loss = 2.4748, Val Loss = 2.3652\n",
      "Epoch 4: Train Loss = 2.4160, Val Loss = 2.2837\n",
      "Epoch 5: Train Loss = 2.3439, Val Loss = 2.2475\n",
      "Epoch 6: Train Loss = 2.2705, Val Loss = 2.1705\n",
      "Epoch 7: Train Loss = 2.2286, Val Loss = 2.0902\n",
      "Epoch 8: Train Loss = 2.1388, Val Loss = 2.1183\n",
      "Epoch 9: Train Loss = 2.1523, Val Loss = 2.0897\n",
      "Epoch 10: Train Loss = 2.1831, Val Loss = 2.0674\n",
      "Epoch 11: Train Loss = 2.1709, Val Loss = 2.0315\n",
      "Epoch 12: Train Loss = 2.0883, Val Loss = 2.0217\n",
      "Epoch 13: Train Loss = 2.1748, Val Loss = 2.0480\n",
      "Epoch 14: Train Loss = 2.0773, Val Loss = 2.0264\n",
      "Epoch 15: Train Loss = 2.0255, Val Loss = 1.9809\n",
      "Epoch 16: Train Loss = 2.1146, Val Loss = 2.0021\n",
      "Epoch 17: Train Loss = 2.1080, Val Loss = 2.0132\n",
      "Epoch 18: Train Loss = 2.0966, Val Loss = 1.9790\n",
      "Epoch 19: Train Loss = 2.0619, Val Loss = 1.9914\n",
      "Epoch 20: Train Loss = 2.0725, Val Loss = 1.9900\n",
      "Epoch 21: Train Loss = 2.0643, Val Loss = 1.9889\n",
      "Early stopping at epoch 21\n",
      "\n",
      "=== Training GPU with 2 layers ===\n",
      "Epoch 1: Train Loss = 3.5013, Val Loss = 2.7873\n",
      "Epoch 2: Train Loss = 2.6938, Val Loss = 2.5185\n",
      "Epoch 3: Train Loss = 2.5622, Val Loss = 2.4093\n",
      "Epoch 4: Train Loss = 2.4714, Val Loss = 2.3276\n",
      "Epoch 5: Train Loss = 2.4172, Val Loss = 2.2800\n",
      "Epoch 6: Train Loss = 2.3672, Val Loss = 2.2395\n",
      "Epoch 7: Train Loss = 2.3227, Val Loss = 2.1876\n",
      "Epoch 8: Train Loss = 2.3584, Val Loss = 2.1832\n",
      "Epoch 9: Train Loss = 2.2524, Val Loss = 2.1260\n",
      "Epoch 10: Train Loss = 2.2534, Val Loss = 2.0920\n",
      "Epoch 11: Train Loss = 2.2863, Val Loss = 2.1127\n",
      "Epoch 12: Train Loss = 2.2516, Val Loss = 2.0947\n",
      "Epoch 13: Train Loss = 2.2148, Val Loss = 2.0614\n",
      "Epoch 14: Train Loss = 2.1254, Val Loss = 2.0403\n",
      "Epoch 15: Train Loss = 2.1885, Val Loss = 2.0450\n",
      "Epoch 16: Train Loss = 2.1815, Val Loss = 2.0012\n",
      "Epoch 17: Train Loss = 2.2013, Val Loss = 2.0018\n",
      "Epoch 18: Train Loss = 2.1558, Val Loss = 2.0406\n",
      "Epoch 19: Train Loss = 2.1625, Val Loss = 2.0005\n",
      "Epoch 20: Train Loss = 2.1469, Val Loss = 2.0167\n",
      "Epoch 21: Train Loss = 2.0970, Val Loss = 1.9850\n",
      "Epoch 22: Train Loss = 2.1708, Val Loss = 1.9971\n",
      "Epoch 23: Train Loss = 2.1613, Val Loss = 1.9878\n",
      "Epoch 24: Train Loss = 2.1154, Val Loss = 1.9547\n",
      "Epoch 25: Train Loss = 2.0269, Val Loss = 1.9390\n",
      "Epoch 26: Train Loss = 2.1497, Val Loss = 1.9825\n",
      "Epoch 27: Train Loss = 2.1185, Val Loss = 1.9398\n",
      "Epoch 28: Train Loss = 2.0610, Val Loss = 1.8799\n",
      "Epoch 29: Train Loss = 2.1033, Val Loss = 1.9510\n",
      "Epoch 30: Train Loss = 2.1520, Val Loss = 1.9573\n",
      "Epoch 31: Train Loss = 2.1038, Val Loss = 1.9518\n",
      "Early stopping at epoch 31\n",
      "\n",
      "=== Training GPU with 3 layers ===\n",
      "Epoch 1: Train Loss = 3.5436, Val Loss = 2.7962\n",
      "Epoch 2: Train Loss = 2.7596, Val Loss = 2.5536\n",
      "Epoch 3: Train Loss = 2.5970, Val Loss = 2.4178\n",
      "Epoch 4: Train Loss = 2.5357, Val Loss = 2.3847\n",
      "Epoch 5: Train Loss = 2.4674, Val Loss = 2.3030\n",
      "Epoch 6: Train Loss = 2.4099, Val Loss = 2.2467\n",
      "Epoch 7: Train Loss = 2.3805, Val Loss = 2.2437\n",
      "Epoch 8: Train Loss = 2.3381, Val Loss = 2.2032\n",
      "Epoch 9: Train Loss = 2.2797, Val Loss = 2.1562\n",
      "Epoch 10: Train Loss = 2.3097, Val Loss = 2.1254\n",
      "Epoch 11: Train Loss = 2.2890, Val Loss = 2.1545\n",
      "Epoch 12: Train Loss = 2.2062, Val Loss = 2.0802\n",
      "Epoch 13: Train Loss = 2.2761, Val Loss = 2.1002\n",
      "Epoch 14: Train Loss = 2.2487, Val Loss = 2.0756\n",
      "Epoch 15: Train Loss = 2.2374, Val Loss = 2.0553\n",
      "Epoch 16: Train Loss = 2.1886, Val Loss = 2.0364\n",
      "Epoch 17: Train Loss = 2.2214, Val Loss = 2.0221\n",
      "Epoch 18: Train Loss = 2.2365, Val Loss = 2.0314\n",
      "Epoch 19: Train Loss = 2.1853, Val Loss = 2.0001\n",
      "Epoch 20: Train Loss = 2.1920, Val Loss = 2.0044\n",
      "Epoch 21: Train Loss = 2.2335, Val Loss = 2.0396\n",
      "Epoch 22: Train Loss = 2.1464, Val Loss = 2.0034\n",
      "Early stopping at epoch 22\n",
      "\n",
      "=== Training GPU with 4 layers ===\n",
      "Epoch 1: Train Loss = 3.6154, Val Loss = 2.8425\n",
      "Epoch 2: Train Loss = 2.8258, Val Loss = 2.6107\n",
      "Epoch 3: Train Loss = 2.6319, Val Loss = 2.4580\n",
      "Epoch 4: Train Loss = 2.5629, Val Loss = 2.4323\n",
      "Epoch 5: Train Loss = 2.4635, Val Loss = 2.3252\n",
      "Epoch 6: Train Loss = 2.4082, Val Loss = 2.2869\n",
      "Epoch 7: Train Loss = 2.4006, Val Loss = 2.2532\n",
      "Epoch 8: Train Loss = 2.3976, Val Loss = 2.2305\n",
      "Epoch 9: Train Loss = 2.3314, Val Loss = 2.2044\n",
      "Epoch 10: Train Loss = 2.3381, Val Loss = 2.1922\n",
      "Epoch 11: Train Loss = 2.3844, Val Loss = 2.2016\n",
      "Epoch 12: Train Loss = 2.3187, Val Loss = 2.1538\n",
      "Epoch 13: Train Loss = 2.3755, Val Loss = 2.1765\n",
      "Epoch 14: Train Loss = 2.3083, Val Loss = 2.1330\n",
      "Epoch 15: Train Loss = 2.2857, Val Loss = 2.1408\n",
      "Epoch 16: Train Loss = 2.2696, Val Loss = 2.1137\n",
      "Epoch 17: Train Loss = 2.2750, Val Loss = 2.1240\n",
      "Epoch 18: Train Loss = 2.2815, Val Loss = 2.0927\n",
      "Epoch 19: Train Loss = 2.1879, Val Loss = 2.0638\n",
      "Epoch 20: Train Loss = 2.2290, Val Loss = 2.0647\n",
      "Epoch 21: Train Loss = 2.2629, Val Loss = 2.1022\n",
      "Epoch 22: Train Loss = 2.2222, Val Loss = 2.0609\n",
      "Epoch 23: Train Loss = 2.1873, Val Loss = 2.0362\n",
      "Epoch 24: Train Loss = 2.1423, Val Loss = 1.9936\n",
      "Epoch 25: Train Loss = 2.1593, Val Loss = 2.0299\n",
      "Epoch 26: Train Loss = 2.1615, Val Loss = 2.0079\n",
      "Epoch 27: Train Loss = 2.1983, Val Loss = 2.0131\n",
      "Early stopping at epoch 27\n",
      "\n",
      "=== Результаты экспериментов ===\n",
      "\n",
      "Модель LSTM:\n",
      "Слоёв: 2, Val Loss: 1.7619\n",
      "Слоёв: 1, Val Loss: 1.8129\n",
      "Слоёв: 3, Val Loss: 1.9375\n",
      "Слоёв: 4, Val Loss: 1.9476\n",
      "\n",
      "Модель GPU:\n",
      "Слоёв: 2, Val Loss: 1.8799\n",
      "Слоёв: 1, Val Loss: 1.9790\n",
      "Слоёв: 4, Val Loss: 1.9936\n",
      "Слоёв: 3, Val Loss: 2.0001\n"
     ]
    },
    {
     "data": {
      "image/png": "[encoded data removed]",
      "text/plain": [
       "<Figure size 640x480 with 1 Axes>"
      ]
     },
     "metadata": {},
     "output_type": "display_data"
    }
   ],
   "source": [
    "num_layers_list = [1, 2, 3, 4]  # Количество слоёв\n",
    "model_types = ['lstm', 'gpu']    # LSTM лучшие результаты, но сравним с результатами GRU\n",
    "results = {}\n",
    "for model_type in model_types:\n",
    "    result = train_model(model_type, num_layers_list, data, data,\n",
    "                  len(vocabulary), embed_size=embedding_size,\n",
    "                  hidden_size=hidden_size, epochs=300, patience=3)\n",
    "    results[model_type] = result\n",
    "analyze_results(results)"
   ]
  },
  {
   "cell_type": "markdown",
   "metadata": {
    "id": "tLLE58pz7CUx"
   },
   "source": [
    "**Вывод:** лучшее качество показывает LSTM с двумя слоями"
   ]
  },
  {
   "cell_type": "markdown",
   "metadata": {
    "id": "6BOUYHFmLy84"
   },
   "source": [
    "#### Задание 6.\n",
    "Прочитайте в [Николенко и др., 2018, стр. 266] о понятии \"температура\", которое часто используется при генерации текстов.  \n",
    "Добавьте данный параметр в функцию `evaluate()`.  \n",
    "Проверьте его влияние на результаты генерации."
   ]
  },
  {
   "cell_type": "markdown",
   "metadata": {
    "id": "nUQitsngLy84"
   },
   "source": [
    "#### Задание 7 (факультативное).\n",
    "Разбейте текст на последовательности не случайным образом, а по предложениям.  \n",
    "Предложения можно получить из текста при помощи функции `nltk.tokenize.sent_tokenize()`.  \n",
    "Так как предложения окажутся неодинаковой длины, а последовательности на вход модели должны поступать одинакового размера, придется дополнить предложения до максимальной длины символом, не входящим в словарь (например, каким-нибудь из [управляющих символов](https://ru.wikipedia.org/wiki/Управляющие_символы) `\\0`, `\\a`, `\\b` и т.д.)."
   ]
  },
  {
   "cell_type": "markdown",
   "metadata": {
    "id": "ddgNbSO3Ly84"
   },
   "source": [
    "#### Задание 8 (факультативное).\n",
    "Реализуйте стратегию 3 из учебника [Николенко и др., 2018, стр. 260] – разбиение текста на последовательности примерно одной длины с правильно инициализированными скрытыми состояниями рекуррентной сети."
   ]
  }
 ],
 "metadata": {
  "accelerator": "GPU",
  "colab": {
   "gpuType": "T4",
   "provenance": []
  },
  "kernelspec": {
   "display_name": "Python 3",
   "name": "python3"
  },
  "language_info": {
   "codemirror_mode": {
    "name": "ipython",
    "version": 3
   },
   "file_extension": ".py",
   "mimetype": "text/x-python",
   "name": "python",
   "nbconvert_exporter": "python",
   "pygments_lexer": "ipython3",
   "version": "3.13.3"
  }
 },
 "nbformat": 4,
 "nbformat_minor": 0
}
