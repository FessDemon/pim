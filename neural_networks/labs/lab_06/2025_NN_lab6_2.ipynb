{
 "cells": [
  {
   "cell_type": "markdown",
   "metadata": {
    "id": "S_yyp1HCLy8h"
   },
   "source": [
    "# Лабораторная работа 6. Рекуррентные сети"
   ]
  },
  {
   "cell_type": "markdown",
   "metadata": {
    "id": "Mr3Ep4ctLy8j"
   },
   "source": [
    "В работе демонстрируется построение рекуррентной нейронной сети для посимвольной генерации текста.  \n",
    "\n",
    "Полезные ссылки:\n",
    "- [Andrej Karpathy – The Unreasonable Effectiveness of Recurrent Neural Networks](http://karpathy.github.io/2015/05/21/rnn-effectiveness)\n",
    "- [Practical PyTorch: Generating Shakespeare with a Character-Level RNN](https://github.com/spro/practical-pytorch/blob/master/char-rnn-generation/char-rnn-generation.ipynb)\n",
    "- [С. Николенко и др., 2018] – параграф 6.6."
   ]
  },
  {
   "cell_type": "code",
   "execution_count": 32,
   "metadata": {
    "executionInfo": {
     "elapsed": 1548,
     "status": "ok",
     "timestamp": 1749839232055,
     "user": {
      "displayName": "Elena V. Razova",
      "userId": "14939859328445060819"
     },
     "user_tz": -180
    },
    "id": "ELFb6j31Ly8j"
   },
   "outputs": [],
   "source": [
    "import torch\n",
    "import torch.nn as nn\n",
    "import random\n",
    "import time\n",
    "import math\n",
    "import matplotlib.pyplot as plt\n",
    "\n",
    "# отключение предупреждений\n",
    "import warnings\n",
    "warnings.filterwarnings('ignore')"
   ]
  },
  {
   "cell_type": "markdown",
   "metadata": {
    "id": "21a5Jge3Ly8k"
   },
   "source": [
    "Задаем параметры:"
   ]
  },
  {
   "cell_type": "code",
   "execution_count": 33,
   "metadata": {
    "executionInfo": {
     "elapsed": 49,
     "status": "ok",
     "timestamp": 1749839232106,
     "user": {
      "displayName": "Elena V. Razova",
      "userId": "14939859328445060819"
     },
     "user_tz": -180
    },
    "id": "BLDAGFrfLy8k"
   },
   "outputs": [],
   "source": [
    "filename = 'onegin.txt'  # Входной файл с текстом\n",
    "\n",
    "seq_len = 200            # Размер последовательности для одной эпохи\n",
    "batch_size_train = 1     # Размер батча для обучения\n",
    "batch_size_test = 1      # Размер батча для предсказания (в данном случае всегда 1)\n",
    "hidden_size = 100        # Размер скрытого состояния\n",
    "embedding_size = 100     # Размер векторов-эмбеддингов для представления символов\n",
    "num_layers = 1           # Количество слоев\n",
    "lr = 0.005               # Скорость обучения\n",
    "n_epochs = 1000          # Количество эпох\n",
    "print_every = 100        # Интервал эпох для вывода результатов\n",
    "plot_every = 10          # Интервал эпох для вывода потерь\n",
    "predict_len = 100        # Количество символов для генерации"
   ]
  },
  {
   "cell_type": "markdown",
   "metadata": {
    "id": "SL0sa9s6Ly8l"
   },
   "source": [
    "*Замечание*. Понятие \"эпоха\" обозначает период обработки всего обучающего множества. Но в контексте рекуррентных сетей это понятие может иметь значение, отличающееся от обычного, поскольку часто датасет бывает жестко не определен (например, из одного текста мы можем генерировать бесконечное количество последовательностей).  \n",
    "Поэтому в данной лабораторной работе понятие \"эпоха\" обозначает период обработки всей последовательности размером `seq_len`."
   ]
  },
  {
   "cell_type": "markdown",
   "metadata": {
    "id": "CXk8wFByLy8l"
   },
   "source": [
    "Обеспечиваем воспроизводимость результатов (https://pytorch.org/docs/stable/notes/randomness.html):"
   ]
  },
  {
   "cell_type": "code",
   "execution_count": 34,
   "metadata": {
    "colab": {
     "base_uri": "https://localhost:8080/"
    },
    "executionInfo": {
     "elapsed": 23,
     "status": "ok",
     "timestamp": 1749839232108,
     "user": {
      "displayName": "Elena V. Razova",
      "userId": "14939859328445060819"
     },
     "user_tz": -180
    },
    "id": "xgA3FKi5Ly8l",
    "outputId": "713f2292-c005-4520-b8e4-287ffff94630"
   },
   "outputs": [
    {
     "data": {
      "text/plain": [
       "<torch._C.Generator at 0x7f5a7c1ec850>"
      ]
     },
     "execution_count": 34,
     "metadata": {},
     "output_type": "execute_result"
    }
   ],
   "source": [
    "torch.manual_seed(0)"
   ]
  },
  {
   "cell_type": "markdown",
   "metadata": {
    "id": "LppPIBLfLy8m"
   },
   "source": [
    "---\n",
    "Подготовьте входной текстовый файл. Можно взять ваше любимое художественное произведение.  \n",
    "Здесь в качестве примера используется \"Евгений Онегин\"."
   ]
  },
  {
   "cell_type": "code",
   "execution_count": 35,
   "metadata": {
    "colab": {
     "base_uri": "https://localhost:8080/"
    },
    "executionInfo": {
     "elapsed": 14,
     "status": "ok",
     "timestamp": 1749839232108,
     "user": {
      "displayName": "Elena V. Razova",
      "userId": "14939859328445060819"
     },
     "user_tz": -180
    },
    "id": "Gkr_5buoLy8m",
    "outputId": "ff6d4f55-da04-44c5-eb36-7800eb392473"
   },
   "outputs": [
    {
     "name": "stdout",
     "output_type": "stream",
     "text": [
      "Длина текста: 144313 символов\n",
      "\n",
      "Первые 200 строк:\n",
      "\n",
      "ЕВГЕНИЙ ОНЕГИН\n",
      "\n",
      "РОМАН В СТИХАХ\n",
      "\n",
      "Petri  de  vanite  il  avait  encore plus de cette espece d'orgueil qui fait\n",
      "avouer  avec  la  meme  indifference les bonnes comme les mauvaises actions,\n",
      "suite d'un sen\n"
     ]
    }
   ],
   "source": [
    "with open(filename, encoding='utf-8') as f:\n",
    "    data = f.read()\n",
    "print(f'Длина текста: {len(data)} символов')\n",
    "print(f'\\nПервые {seq_len} строк:\\n\\n{data[:seq_len]}')"
   ]
  },
  {
   "cell_type": "markdown",
   "metadata": {
    "id": "nRtRlilcLy8m"
   },
   "source": [
    "---\n",
    "Переводим текст в нижний регистр и создаем словарь всех символов:"
   ]
  },
  {
   "cell_type": "code",
   "execution_count": 36,
   "metadata": {
    "colab": {
     "base_uri": "https://localhost:8080/"
    },
    "executionInfo": {
     "elapsed": 29,
     "status": "ok",
     "timestamp": 1749839232138,
     "user": {
      "displayName": "Elena V. Razova",
      "userId": "14939859328445060819"
     },
     "user_tz": -180
    },
    "id": "zkc_VEgrLy8m",
    "outputId": "2c9cb01e-cd86-4720-a851-2f3f6faac38a"
   },
   "outputs": [
    {
     "name": "stdout",
     "output_type": "stream",
     "text": [
      "Размер словаря: 82\n",
      "['\\n', ' ', '!', '\"', \"'\", '(', ')', ',', '-', '.', '0', '1', '2', '3', '4', '5', '6', '7', '8', '9', ':', ';', '?', 'a', 'b', 'c', 'd', 'e', 'f', 'g', 'h', 'i', 'k', 'l', 'm', 'n', 'o', 'p', 'q', 'r', 's', 't', 'u', 'v', 'w', 'x', 'y', 'z', '{', '}', 'а', 'б', 'в', 'г', 'д', 'е', 'ж', 'з', 'и', 'й', 'к', 'л', 'м', 'н', 'о', 'п', 'р', 'с', 'т', 'у', 'ф', 'х', 'ц', 'ч', 'ш', 'щ', 'ъ', 'ы', 'ь', 'э', 'ю', 'я']\n"
     ]
    }
   ],
   "source": [
    "data = data.lower()\n",
    "\n",
    "vocabulary = set(data)\n",
    "vocabulary = sorted(vocabulary)\n",
    "print(f'Размер словаря: {len(vocabulary)}')\n",
    "print(vocabulary)"
   ]
  },
  {
   "cell_type": "markdown",
   "metadata": {
    "id": "DeLSwemHLy8m"
   },
   "source": [
    "---\n",
    "Подготовим функцию для генерации случайных последовательностей длиной `seq_len+1` из входного текста.  \n",
    "Единица прибавляется, так как в дальнейшем мы будем из этой сгенерированной последовательности получать две:\n",
    "- *обучающую*, без последнего символа,\n",
    "- *предсказываемую*, без первого символа.  \n",
    "\n",
    "Таким образом, предсказываемая последовательность будет как бы сдвинута относительно обучающей на единицу вправо и каждый символ предсказываемой последовательности будет являться следующим символом для соответствующего обучающего символа.  \n",
    "Обе последовательности будут на единицу меньше исходной последовательности."
   ]
  },
  {
   "cell_type": "code",
   "execution_count": 37,
   "metadata": {
    "colab": {
     "base_uri": "https://localhost:8080/"
    },
    "executionInfo": {
     "elapsed": 14,
     "status": "ok",
     "timestamp": 1749839232154,
     "user": {
      "displayName": "Elena V. Razova",
      "userId": "14939859328445060819"
     },
     "user_tz": -180
    },
    "id": "WEEm2tkZLy8n",
    "outputId": "5e6bf777-20e9-4642-bec7-db32bdd06e6d"
   },
   "outputs": [
    {
     "name": "stdout",
     "output_type": "stream",
     "text": [
      "length = 201\n",
      "\n",
      "рогнулась\n",
      "иль стала вдруг бледна, красна...\n",
      "у ней и бровь не шевельнулась;\n",
      "не сжала даже губ она.\n",
      "хоть он глядел нельзя прилежней,\n",
      "но и следов татьяны прежней\n",
      "не мог онегин обрести.\n",
      "с ней речь хотел он\n"
     ]
    }
   ],
   "source": [
    "def random_sequence(data, seq_len):\n",
    "    start_index = random.randint(0, len(data) - seq_len - 1)\n",
    "    end_index = start_index + seq_len + 1\n",
    "    return data[start_index:end_index]\n",
    "\n",
    "sequence = random_sequence(data, seq_len)\n",
    "print(f'length = {len(sequence)}\\n\\n{sequence}')"
   ]
  },
  {
   "cell_type": "markdown",
   "metadata": {
    "id": "AXp7mkUNLy8n"
   },
   "source": [
    "---\n",
    "Задаем модель:"
   ]
  },
  {
   "cell_type": "code",
   "execution_count": 38,
   "metadata": {
    "executionInfo": {
     "elapsed": 10,
     "status": "ok",
     "timestamp": 1749839232155,
     "user": {
      "displayName": "Elena V. Razova",
      "userId": "14939859328445060819"
     },
     "user_tz": -180
    },
    "id": "58VkTptoLy8n"
   },
   "outputs": [],
   "source": [
    "class RNN(nn.Module):\n",
    "    def __init__(self, input_size, embedding_size, hidden_size, output_size, num_layers=1):\n",
    "\n",
    "        super(RNN, self).__init__()\n",
    "\n",
    "        self.hidden_size = hidden_size\n",
    "        self.num_layers = num_layers\n",
    "\n",
    "        self.embedding = nn.Embedding(num_embeddings=input_size, embedding_dim=embedding_size)\n",
    "        self.rnn = nn.RNN(input_size=embedding_size, hidden_size=hidden_size, num_layers=num_layers)\n",
    "        self.decoder = nn.Linear(in_features=hidden_size, out_features=output_size)\n",
    "\n",
    "    def forward(self, input, hidden):\n",
    "        # На вход поступает двумерный тензор индексов символов размерности (seq_len, batch_size)\n",
    "        embeddings = self.embedding(input)\n",
    "\n",
    "        # После слоя Embedding добавляется ещё одна размерность (векторов-эмбеддингов для индексов символов).\n",
    "        # Итоговая размерность входа для RNN будет (seq_len, batch_size, embedding_size)\n",
    "        output, hidden = self.rnn(embeddings, hidden)\n",
    "\n",
    "        # Преобразуем скрытое состояние RNN для каждого символа в вероятности следующего символа.\n",
    "        output = self.decoder(output)\n",
    "\n",
    "        # Размерность выхода: (seq_len, batch_size, output_size=len(vocabulary))\n",
    "        return output, hidden\n",
    "\n",
    "    def init_hidden(self, batch_size):\n",
    "        # Должна быть размерность (num_layers * num_directions, batch_size, hidden_size)\n",
    "        return torch.zeros(self.num_layers, batch_size, self.hidden_size)"
   ]
  },
  {
   "cell_type": "markdown",
   "metadata": {
    "id": "h8AAybr6Ly8n"
   },
   "source": [
    "Класс `Embedding` используется для формирования векторного представления каких-либо элементов (символов, слов, изображений, звуков и т.п.). Он представляет собой таблицу поиска (lookup table), на вход которой поступают индексы элементов, а на выходе выдаются векторные представления этих элементов ([справка PyTorch](https://pytorch.org/docs/stable/generated/torch.nn.Embedding.html)).  \n",
    "Слой `Embedding` имеет свою матрицу весов, которые настраиваются в процессе обучения. Веса инициализируются из нормального распределения $N(0,1)$.  \n",
    "После обучения слой `Embedding` будет содержать веса, в каком-то смысле \"хорошо\" представляющие входные элементы для текущей задачи.  \n",
    "Данный слой при создании требует двух основных параметров:\n",
    "- `num_embeddings` – размер словаря элементов (общее количество элементов, которые мы хотим закодировать);\n",
    "- `embedding_dim` – размерность выходных векторов.  \n",
    "\n",
    "Слой `Embedding` является, по сути, аналогом обычного слоя `Linear`, но `Linear` на входе ожидает вектор (например, *one-hot encoding* представление элементов), а на входе `Embedding` – тензоры любой размерности, содержащие просто индексы элементов, для которых необходимо получить векторное представление:"
   ]
  },
  {
   "cell_type": "code",
   "execution_count": 39,
   "metadata": {
    "colab": {
     "base_uri": "https://localhost:8080/"
    },
    "executionInfo": {
     "elapsed": 9,
     "status": "ok",
     "timestamp": 1749839232155,
     "user": {
      "displayName": "Elena V. Razova",
      "userId": "14939859328445060819"
     },
     "user_tz": -180
    },
    "id": "PFEQsyo7Ly8o",
    "outputId": "3147b8b7-3adc-4c85-d22c-1c6d083e0dba"
   },
   "outputs": [
    {
     "name": "stdout",
     "output_type": "stream",
     "text": [
      "embedding.weight:\n",
      "tensor([[-1.1258, -1.1524, -0.2506],\n",
      "        [-0.4339,  0.8487,  0.6920],\n",
      "        [-0.3160, -2.1152,  0.3223],\n",
      "        [-1.2633,  0.3500,  0.3081],\n",
      "        [ 0.1198,  1.2377, -0.1435],\n",
      "        [-0.1116, -0.6136,  0.0316],\n",
      "        [-0.4927,  0.2484,  0.4397],\n",
      "        [ 0.1124, -0.8411, -2.3160],\n",
      "        [-0.1023,  0.7924, -0.2897],\n",
      "        [ 0.0525,  0.5229,  2.3022]])\n",
      "\n",
      "Вектор для элемента с индексом 5:\n",
      "tensor([-0.1116, -0.6136,  0.0316])\n",
      "\n",
      "Векторы для массива индексов:\n",
      "tensor([[[-0.4339,  0.8487,  0.6920],\n",
      "         [-0.3160, -2.1152,  0.3223]],\n",
      "\n",
      "        [[ 0.1198,  1.2377, -0.1435],\n",
      "         [-0.1116, -0.6136,  0.0316]]])\n"
     ]
    }
   ],
   "source": [
    "# Пример\n",
    "embedding = nn.Embedding(num_embeddings=10, embedding_dim=3)\n",
    "print(f'embedding.weight:\\n{embedding.weight.data}')\n",
    "\n",
    "i = torch.tensor(5)\n",
    "print(f'\\nВектор для элемента с индексом {i}:\\n{embedding(i).data}')\n",
    "\n",
    "array = torch.tensor([[1, 2], [4, 5]])\n",
    "print(f'\\nВекторы для массива индексов:\\n{embedding(array).data}')"
   ]
  },
  {
   "cell_type": "markdown",
   "metadata": {
    "id": "02ckftPkLy8o"
   },
   "source": [
    "---\n",
    "В итоге, модель будет выглядеть следующим образом:  \n",
    "\n",
    "![image.png](attachment:ab07bd44-12b6-44d5-9465-d8e3e64d1899.png)"
   ]
  },
  {
   "cell_type": "markdown",
   "metadata": {
    "id": "HhDwxwqkLy8o"
   },
   "source": [
    "---\n",
    "Функция, которая по входной строке возвращает список индексов из словаря `vocabulary`:"
   ]
  },
  {
   "cell_type": "code",
   "execution_count": 40,
   "metadata": {
    "colab": {
     "base_uri": "https://localhost:8080/"
    },
    "executionInfo": {
     "elapsed": 49,
     "status": "ok",
     "timestamp": 1749839232202,
     "user": {
      "displayName": "Elena V. Razova",
      "userId": "14939859328445060819"
     },
     "user_tz": -180
    },
    "id": "jV9LZpOyLy8o",
    "outputId": "a4066896-ef4d-4940-ce39-f55f91f8574b"
   },
   "outputs": [
    {
     "name": "stdout",
     "output_type": "stream",
     "text": [
      "tensor([64, 63, 55, 53, 58, 63])\n"
     ]
    }
   ],
   "source": [
    "def char_to_tensor(string, vocabulary):\n",
    "    tensor = torch.zeros(len(string)).long()\n",
    "    for c in range(len(string)):\n",
    "        tensor[c] = vocabulary.index(string[c])\n",
    "    return tensor\n",
    "\n",
    "indices = char_to_tensor('онегин', vocabulary)\n",
    "print(indices)"
   ]
  },
  {
   "cell_type": "markdown",
   "metadata": {
    "id": "WceJVDFZLy8p"
   },
   "source": [
    "Напишем также функцию для обратного преобразования из списка индексов в строку:"
   ]
  },
  {
   "cell_type": "code",
   "execution_count": 41,
   "metadata": {
    "colab": {
     "base_uri": "https://localhost:8080/"
    },
    "executionInfo": {
     "elapsed": 28,
     "status": "ok",
     "timestamp": 1749839232204,
     "user": {
      "displayName": "Elena V. Razova",
      "userId": "14939859328445060819"
     },
     "user_tz": -180
    },
    "id": "1UkWIETmLy8p",
    "outputId": "1b5e1d9d-52b2-401c-cca7-e778dfff13f9"
   },
   "outputs": [
    {
     "name": "stdout",
     "output_type": "stream",
     "text": [
      "онегин\n"
     ]
    }
   ],
   "source": [
    "def tensor_to_char(tensor, vocabulary):\n",
    "    s = ''\n",
    "    for t in tensor:\n",
    "        s += vocabulary[int(t)]\n",
    "    return s\n",
    "\n",
    "print(tensor_to_char(indices, vocabulary))"
   ]
  },
  {
   "cell_type": "markdown",
   "metadata": {
    "id": "jmqeuZRBLy8p"
   },
   "source": [
    "---\n",
    "Напишем функцию для генерации пары (входная последовательность, выходная последовательность).  \n",
    "В качестве входной (обучающей) последовательности выступает случайная строка без последнего символа;  \n",
    "выходная последовательность – та же строка без первого символа.  \n",
    "Таким образом, каждому элементу входной последовательности (символу) соответствует элемент выходной последовательности (символ), который является следующим символом в строке.  \n",
    "Выходная последовательность является целевой переменной, именно её сеть будет пытаться предсказать.  \n",
    "Размер каждой последовательности – `seq_len`."
   ]
  },
  {
   "cell_type": "code",
   "execution_count": 42,
   "metadata": {
    "executionInfo": {
     "elapsed": 16,
     "status": "ok",
     "timestamp": 1749839232204,
     "user": {
      "displayName": "Elena V. Razova",
      "userId": "14939859328445060819"
     },
     "user_tz": -180
    },
    "id": "YJh9cVwmLy8p"
   },
   "outputs": [],
   "source": [
    "def random_training_set(data, seq_len, vocabulary):\n",
    "    sequence = random_sequence(data, seq_len)\n",
    "    input = char_to_tensor(sequence[:-1], vocabulary)\n",
    "    target = char_to_tensor(sequence[1:], vocabulary)\n",
    "    return input, target"
   ]
  },
  {
   "cell_type": "code",
   "execution_count": 43,
   "metadata": {
    "colab": {
     "base_uri": "https://localhost:8080/"
    },
    "executionInfo": {
     "elapsed": 14,
     "status": "ok",
     "timestamp": 1749839232204,
     "user": {
      "displayName": "Elena V. Razova",
      "userId": "14939859328445060819"
     },
     "user_tz": -180
    },
    "id": "8cx3fzqtLy8p",
    "outputId": "dd86630b-6790-4dcc-f4bb-980c7b625535"
   },
   "outputs": [
    {
     "name": "stdout",
     "output_type": "stream",
     "text": [
      "********** input (200)**********\n",
      "\n",
      "tensor([62,  1, 58,  1, 65, 64, 67, 61, 69, 74, 63, 77, 62,  7,  0, 52, 63, 58,\n",
      "        62, 50, 68, 55, 61, 78, 63, 77, 62,  1, 58, 61, 78,  1, 66, 50, 52, 63,\n",
      "        64, 54, 69, 74, 63, 77, 62,  2,  0, 60, 50, 60,  1, 68, 64, 62, 63, 64,\n",
      "         1, 51, 77, 61,  1, 64, 63,  1, 62, 64, 61, 73, 50, 61, 58, 52,  7,  0,\n",
      "        60, 50, 60,  1, 65, 61, 50, 62, 55, 63, 63, 64,  1, 60, 66, 50, 67, 63,\n",
      "        64, 66, 55, 73, 58, 52,  7,  0, 52,  1, 67, 55, 66, 54, 55, 73, 63, 77,\n",
      "        71,  1, 65, 58, 67, 78, 62, 50, 71,  1, 60, 50, 60,  1, 63, 55, 51, 66,\n",
      "        55, 56, 55, 63,  2,  0, 64, 54, 63, 58, 62,  1, 54, 77, 74, 50,  7,  1,\n",
      "        64, 54, 63, 64,  1, 61, 80, 51, 81,  7,  0, 60, 50, 60,  1, 64, 63,  1,\n",
      "        69, 62, 55, 61,  1, 57, 50, 51, 77, 68, 78,  1, 67, 55, 51, 81,  2,  0,\n",
      "        60, 50, 60,  1, 52, 57, 64, 66,  1, 55, 53, 64,  1, 51, 77, 61,  1, 51,\n",
      "        77, 67])\n",
      "\n",
      "********** target (200) **********\n",
      "tensor([ 1, 58,  1, 65, 64, 67, 61, 69, 74, 63, 77, 62,  7,  0, 52, 63, 58, 62,\n",
      "        50, 68, 55, 61, 78, 63, 77, 62,  1, 58, 61, 78,  1, 66, 50, 52, 63, 64,\n",
      "        54, 69, 74, 63, 77, 62,  2,  0, 60, 50, 60,  1, 68, 64, 62, 63, 64,  1,\n",
      "        51, 77, 61,  1, 64, 63,  1, 62, 64, 61, 73, 50, 61, 58, 52,  7,  0, 60,\n",
      "        50, 60,  1, 65, 61, 50, 62, 55, 63, 63, 64,  1, 60, 66, 50, 67, 63, 64,\n",
      "        66, 55, 73, 58, 52,  7,  0, 52,  1, 67, 55, 66, 54, 55, 73, 63, 77, 71,\n",
      "         1, 65, 58, 67, 78, 62, 50, 71,  1, 60, 50, 60,  1, 63, 55, 51, 66, 55,\n",
      "        56, 55, 63,  2,  0, 64, 54, 63, 58, 62,  1, 54, 77, 74, 50,  7,  1, 64,\n",
      "        54, 63, 64,  1, 61, 80, 51, 81,  7,  0, 60, 50, 60,  1, 64, 63,  1, 69,\n",
      "        62, 55, 61,  1, 57, 50, 51, 77, 68, 78,  1, 67, 55, 51, 81,  2,  0, 60,\n",
      "        50, 60,  1, 52, 57, 64, 66,  1, 55, 53, 64,  1, 51, 77, 61,  1, 51, 77,\n",
      "        67, 68])\n"
     ]
    }
   ],
   "source": [
    "input, target = random_training_set(data, seq_len, vocabulary)\n",
    "\n",
    "print(f'********** input ({len(input)})**********\\n\\n{input.data}')\n",
    "print(f'\\n********** target ({len(target)}) **********\\n{target.data}')"
   ]
  },
  {
   "cell_type": "markdown",
   "metadata": {
    "id": "TTW7sJ7VLy8q"
   },
   "source": [
    "Преобразуем полученные тензоры в строки:"
   ]
  },
  {
   "cell_type": "code",
   "execution_count": 44,
   "metadata": {
    "colab": {
     "base_uri": "https://localhost:8080/"
    },
    "executionInfo": {
     "elapsed": 11,
     "status": "ok",
     "timestamp": 1749839232212,
     "user": {
      "displayName": "Elena V. Razova",
      "userId": "14939859328445060819"
     },
     "user_tz": -180
    },
    "id": "HvW1wLVgLy8q",
    "outputId": "9e47b55a-cb23-4780-8614-c122f10cdeaa"
   },
   "outputs": [
    {
     "name": "stdout",
     "output_type": "stream",
     "text": [
      "********** input **********\n",
      "\n",
      "м и послушным,\n",
      "внимательным иль равнодушным!\n",
      "как томно был он молчалив,\n",
      "как пламенно красноречив,\n",
      "в сердечных письмах как небрежен!\n",
      "одним дыша, одно любя,\n",
      "как он умел забыть себя!\n",
      "как взор его был быс\n",
      "\n",
      "********** target **********\n",
      "\n",
      " и послушным,\n",
      "внимательным иль равнодушным!\n",
      "как томно был он молчалив,\n",
      "как пламенно красноречив,\n",
      "в сердечных письмах как небрежен!\n",
      "одним дыша, одно любя,\n",
      "как он умел забыть себя!\n",
      "как взор его был быст\n"
     ]
    }
   ],
   "source": [
    "print(f'********** input **********\\n\\n{tensor_to_char(input, vocabulary)}')\n",
    "print(f'\\n********** target **********\\n\\n{tensor_to_char(target, vocabulary)}')"
   ]
  },
  {
   "cell_type": "markdown",
   "metadata": {
    "id": "ENEErFj4Ly8q"
   },
   "source": [
    "---\n",
    "RNN требует на вход трехмерный тензор размерностью: `(seq_len, batch_size, input_size)`:\n",
    "\\\n",
    "\\\n",
    "![image.png](attachment:d01f78ba-de9b-4395-909b-5dde3b9448e1.png)\n",
    "\n",
    "\n",
    "Таким образом, последовательности символов будут располагаться вдоль размерности `seq_len`.\n",
    "\n",
    "Этот трехмерный тензор подается на вход RNN по мини-батчам:\n",
    "\\\n",
    "\\\n",
    "![image.png](attachment:cfc06c53-9465-49a0-9d5f-7e4e5a6425dd.png)\n",
    "\n",
    "Каждый мини-батч обрабатывается в RNN одновременно; при этом формируется столько же скрытых состояний, сколько векторов в мини-батче. Эти скрытые состояния также являются выходами RNN: на каждый вектор мини-батча – свой выходной вектор (он же скрытое состояние).\n",
    "\n",
    "В нашем примере:\n",
    "- `input_size = 1` – на вход подается только индекс текущего символа в словаре, который в слое `Embedding` преобразуется в вектор размерности `embedding_size`;\n",
    "- `batch_size = batch_size_train` – размер мини-батча;\n",
    "- `seq_len = 200` – длина последовательности символов на одном шаге:\n",
    "\\\n",
    "\\\n",
    "![image.png](attachment:8679163a-d1a4-45ef-aeb3-d0ba39cc1475.png)"
   ]
  },
  {
   "cell_type": "markdown",
   "metadata": {
    "id": "7iZKwYOqLy8q"
   },
   "source": [
    "---\n",
    "Зададим функцию обучения для одной эпохи – это процедура обработки в RNN всех мини-батчей, входящих в последовательность размером `seq_len`. Каждый мини-батч включает всего один индекс символа в словаре.  \n",
    "\n",
    "Инициализация (обнуление) скрытого состояния происходит в начале каждого шага. Существует две стратегии инициализации скрытого состояния:\n",
    "1. Если обрабатываются продолжительные непрерывные входные данные (например, \"Война и мир\"), разбитые на последовательности, и последовательность на текущем шаге является продолжением последовательности на предыдущем шаге, то скрытые состояния можно передавать с предыдущей эпохи (после обработки всей последовательности).\n",
    "1. Если датасет состоит из отдельных последовательностей, не связанных между собой (например, твитов), то скрытое состояние желательно обнулять перед каждой эпохой.  \n",
    "\n",
    "В нашем примере последовательности для каждой эпохи формируются независимо друг от друга, поэтому скрытые состояния обнуляются."
   ]
  },
  {
   "cell_type": "code",
   "execution_count": 45,
   "metadata": {
    "executionInfo": {
     "elapsed": 3,
     "status": "ok",
     "timestamp": 1749839232215,
     "user": {
      "displayName": "Elena V. Razova",
      "userId": "14939859328445060819"
     },
     "user_tz": -180
    },
    "id": "lugPH581Ly8q"
   },
   "outputs": [],
   "source": [
    "def train(input, target, batch_size):\n",
    "    '''\n",
    "    input - тензор размерности (seq_len, batch_size). Тензор содержит индексы символов.\n",
    "    target - истинная последовательность индексов следующих символов (целевая переменная); размерность (seq_len, batch_size)\n",
    "    '''\n",
    "\n",
    "    # Инициализируем скрытое состояние\n",
    "    hidden = rnn.init_hidden(batch_size=batch_size)\n",
    "\n",
    "    rnn.zero_grad()\n",
    "    loss = 0\n",
    "\n",
    "    outputs, hidden = rnn(input, hidden)\n",
    "\n",
    "    # Преобразуем размерности для вычисления функции потерь\n",
    "    outputs = outputs.view(seq_len * batch_size, -1)\n",
    "    target = target.view(seq_len * batch_size)\n",
    "\n",
    "    loss = criterion(outputs, target)\n",
    "\n",
    "    loss.backward()\n",
    "    rnn_optimizer.step()\n",
    "\n",
    "    return loss.data / len(input)"
   ]
  },
  {
   "cell_type": "markdown",
   "metadata": {
    "id": "Ev7eFA2FLy8r"
   },
   "source": [
    "---\n",
    "Операция `view` в PyTorch создает новый тензор как \"представление\" существущего тензора: сами данные никуда не копируются, но размерность данных меняется. Таким образом, экономятся память и время."
   ]
  },
  {
   "cell_type": "code",
   "execution_count": 46,
   "metadata": {
    "colab": {
     "base_uri": "https://localhost:8080/"
    },
    "executionInfo": {
     "elapsed": 11,
     "status": "ok",
     "timestamp": 1749839232226,
     "user": {
      "displayName": "Elena V. Razova",
      "userId": "14939859328445060819"
     },
     "user_tz": -180
    },
    "id": "a_gb4flPLy8r",
    "outputId": "a74e9e31-3e67-45a0-8be3-09848d1c98a6"
   },
   "outputs": [
    {
     "name": "stdout",
     "output_type": "stream",
     "text": [
      "Исходный тензор:\n",
      "tensor([[0.8155, 0.7932],\n",
      "        [0.2783, 0.4820]])\n",
      "\n",
      "Тензор-представление (view):\n",
      "tensor([[0.8155, 0.7932, 0.2783, 0.4820]])\n",
      "\n",
      "Данные совпадают? - True\n",
      "\n",
      "Исходный тензор:\n",
      "tensor([[0.8155, 1.0000],\n",
      "        [0.2783, 0.4820]])\n",
      "\n",
      "Одномерный тензор:\n",
      "tensor([0.8155, 1.0000, 0.2783, 0.4820])\n"
     ]
    }
   ],
   "source": [
    "# Пример\n",
    "t = torch.rand(2, 2)\n",
    "print(f'Исходный тензор:\\n{t}')\n",
    "\n",
    "b = t.view(1, -1)\n",
    "print(f'\\nТензор-представление (view):\\n{b}')\n",
    "\n",
    "# Данные в обоих тензорах разделяются\n",
    "print(f'\\nДанные совпадают? - {t.untyped_storage().data_ptr() == b.untyped_storage().data_ptr()}')\n",
    "\n",
    "# Изменение тензора-представления изменяет базовый тензор\n",
    "b[0][1] = 1\n",
    "print(f'\\nИсходный тензор:\\n{t}')\n",
    "\n",
    "# Растягиваем двумерный тензор в одномерный\n",
    "b = b.view(-1)\n",
    "print(f'\\nОдномерный тензор:\\n{b}')"
   ]
  },
  {
   "cell_type": "markdown",
   "metadata": {
    "id": "dpPsHkIrLy8r"
   },
   "source": [
    "---\n",
    "Напишем функцию, генерирующую текст длины `predict_len` с началом (префиксной строкой) `prefix`.  \n",
    "Результирующая строка будет иметь вид: `prefix` + сгенерированная строка."
   ]
  },
  {
   "cell_type": "code",
   "execution_count": 47,
   "metadata": {
    "executionInfo": {
     "elapsed": 46,
     "status": "ok",
     "timestamp": 1749839232273,
     "user": {
      "displayName": "Elena V. Razova",
      "userId": "14939859328445060819"
     },
     "user_tz": -180
    },
    "id": "O5xNTW0mLy8r"
   },
   "outputs": [],
   "source": [
    "def evaluate(model, vocabulary, batch_size, prefix='а', predict_len=100):\n",
    "\n",
    "    # Инициализируем скрытое состояние\n",
    "    hidden = model.init_hidden(batch_size)\n",
    "\n",
    "    # Преобразуем префиксную строку в тензор индексов\n",
    "    prefix_input = char_to_tensor(prefix, vocabulary)\n",
    "\n",
    "    # В переменной predicted будет храниться порождаемая строка (результат работы всей функции).\n",
    "    # Записываем в неё сначала префиксную строку\n",
    "    predicted = prefix\n",
    "\n",
    "    # Запускаем модель на префиксной строке - формируем скрытое состояние для дальнейшей генерации\n",
    "    for p in range(len(prefix) - 1):\n",
    "        input = prefix_input[p]\n",
    "        input = input.view(-1, 1)\n",
    "        outputs, hidden = model(input, hidden)\n",
    "\n",
    "    # В качестве первого символа для генерации (предсказания следующего символа) выступает последний символ префиксной строки\n",
    "    input = prefix_input[-1]\n",
    "    input = input.reshape(-1, 1)\n",
    "\n",
    "    # Генерируем predict_len символов\n",
    "    for p in range(predict_len):\n",
    "\n",
    "        # Запускаем модель с текущим входным символом и текущим скрытым состоянием\n",
    "        output, hidden = model(input, hidden)\n",
    "\n",
    "        # В output возвращаются вероятности всех символов из словаря.\n",
    "        # Выбираем из этого распределения символ (сэмплируем)\n",
    "        output_dist = output.data.view(-1)\n",
    "        output_dist = output_dist.exp()\n",
    "        top_index = torch.multinomial(output_dist, 1)[0]\n",
    "\n",
    "        # Добавляем предсказанный символ в результирующую строку\n",
    "        predicted_char = vocabulary[top_index]\n",
    "        predicted += predicted_char\n",
    "\n",
    "        # Используем предсказанный символ как следующий вход\n",
    "        input = char_to_tensor(predicted_char, vocabulary)\n",
    "        input = input.reshape(-1, 1)\n",
    "\n",
    "    return predicted"
   ]
  },
  {
   "cell_type": "markdown",
   "metadata": {
    "id": "8_kWkMHQLy8s"
   },
   "source": [
    "Вспомогательная функция для вывода времени:"
   ]
  },
  {
   "cell_type": "code",
   "execution_count": 48,
   "metadata": {
    "executionInfo": {
     "elapsed": 6,
     "status": "ok",
     "timestamp": 1749839232274,
     "user": {
      "displayName": "Elena V. Razova",
      "userId": "14939859328445060819"
     },
     "user_tz": -180
    },
    "id": "ZXJUNKffLy8s"
   },
   "outputs": [],
   "source": [
    "def time_since(since):\n",
    "    seconds = time.time() - since\n",
    "    minutes = math.floor(seconds / 60)\n",
    "    seconds -= minutes * 60\n",
    "    return f'{minutes} min {seconds:.0f} sec'"
   ]
  },
  {
   "cell_type": "markdown",
   "metadata": {
    "id": "7Mxg4hCfLy8s"
   },
   "source": [
    "---\n",
    "Основная процедура обучения и генерации примеров текста в процессе обучения.  \n",
    "Генерация текстов в ходе обучения необходима только для иллюстрации изменений возможностей модели по мере обучения."
   ]
  },
  {
   "cell_type": "code",
   "execution_count": 49,
   "metadata": {
    "colab": {
     "base_uri": "https://localhost:8080/"
    },
    "executionInfo": {
     "elapsed": 20285,
     "status": "ok",
     "timestamp": 1749839252557,
     "user": {
      "displayName": "Elena V. Razova",
      "userId": "14939859328445060819"
     },
     "user_tz": -180
    },
    "id": "YeaQRxj8Ly8s",
    "outputId": "fe5ee7b2-a46e-4569-d419-09edb1008be6"
   },
   "outputs": [
    {
     "name": "stdout",
     "output_type": "stream",
     "text": [
      "[time = 0 min 1 sec, epochs = 100 (10.0%), loss = 0.0129]\n",
      "ам,\n",
      "преитоветь ернотвна:\n",
      "\n",
      "воготови оуз слежеле прадожал ..\n",
      "мниет тнишлостая мело муг. vчеtвна оть пос\n",
      "\n",
      "[time = 0 min 3 sec, epochs = 200 (20.0%), loss = 0.0125]\n",
      "авно с хосние в и гей,\n",
      "онагкой ко. ску, полег ушалаль\n",
      "\n",
      "воскисно;\n",
      "чает бела в груним семе влецак сетвл\n",
      "\n",
      "[time = 0 min 4 sec, epochs = 300 (30.0%), loss = 0.0117]\n",
      "ах вдой! любен и он вста. ластенивке, меегдяшочук нень он ян дрем,\n",
      "ит\n",
      "все былинда?.\n",
      "iv\n",
      "\n",
      "\"вор, кaaarnx\n",
      "\n",
      "[time = 0 min 6 sec, epochs = 400 (40.0%), loss = 0.0111]\n",
      "а?\n",
      "хозы бели глаз мне бымал едей.\n",
      "кофносн кноло,\n",
      "и нежетще т корнос,\n",
      "допорок небреблясь, бегнился,\n",
      "\n",
      "н\n",
      "\n",
      "[time = 0 min 7 sec, epochs = 500 (50.0%), loss = 0.0108]\n",
      "а! о с одлондей вдохы,\n",
      "холегу дело,\n",
      "ток тот еем\n",
      "тетие,\n",
      "вык.. . . . . . . . . . . . . . . . . .\n",
      ". . . \n",
      "\n",
      "[time = 0 min 9 sec, epochs = 600 (60.0%), loss = 0.0122]\n",
      "акаждет ледул тала\n",
      "токостет рамян не жерелит сес к толь.\n",
      "тыпосуд хот,\n",
      "богесном позвали\n",
      "чаты мум пердц\n",
      "\n",
      "[time = 0 min 10 sec, epochs = 700 (70.0%), loss = 0.0123]\n",
      "ам долиx досты люблыл гониц;\n",
      "предел пидая потущивил, прудитясь дрегину\n",
      "с ощог естьяннила запленим, мн\n",
      "\n",
      "[time = 0 min 12 sec, epochs = 800 (80.0%), loss = 0.0104]\n",
      "апнет изает\n",
      "и долча-на, нестой докобя... правлей лу.. зае\n",
      "дочьги во она ен она.\n",
      "\n",
      "xxxi\n",
      "\n",
      "прихета ждраст\n",
      "\n",
      "[time = 0 min 13 sec, epochs = 900 (90.0%), loss = 0.0098]\n",
      "а!\n",
      "постеня нимерл,\n",
      "поэт отласки,\n",
      "ни на смананновинил,\n",
      "темела.\n",
      "\n",
      "xxiv\n",
      "\n",
      "нодолостели шали мудей.\n",
      "фрле нет\n",
      "\n",
      "[time = 0 min 15 sec, epochs = 1000 (100.0%), loss = 0.0105]\n",
      "айст?.\n",
      "тобковала,\n",
      "к теждлый е?\n",
      "к стаха;\n",
      "и нуд судто для она в мел ругу любит кпистивый;\n",
      "не до ль и ра\n",
      "\n"
     ]
    }
   ],
   "source": [
    "# Создаем модель\n",
    "rnn = RNN(\n",
    "    input_size=len(vocabulary),\n",
    "    embedding_size=embedding_size,\n",
    "    hidden_size=hidden_size,\n",
    "    output_size=len(vocabulary),\n",
    "    num_layers=num_layers\n",
    ")\n",
    "\n",
    "rnn_optimizer = torch.optim.Adam(rnn.parameters(), lr=lr)\n",
    "criterion = nn.CrossEntropyLoss()\n",
    "\n",
    "start = time.time()\n",
    "\n",
    "prefix = 'а'         # Префиксная строка для генерации в процессе обучения.\n",
    "\n",
    "all_losses = []      # Список значений функции потерь в процессе обучения (для графика)\n",
    "loss_avg = 0         # Усредненное по `plot_every` эпохам значение функции потерь для графика\n",
    "\n",
    "for epoch in range(1, n_epochs + 1):\n",
    "\n",
    "    # Генерируем первую последовательность\n",
    "    input, target = random_training_set(data, seq_len, vocabulary)\n",
    "    input = input.view(-1, 1)\n",
    "    target = target.view(-1, 1)\n",
    "\n",
    "    # Добавляем к первой последовательности другие в зависимости от количества мини-батчей\n",
    "    for b in range(batch_size_train-1):\n",
    "        sequence, target_seq = random_training_set(data, seq_len, vocabulary)\n",
    "        sequence = sequence.view(-1, 1)\n",
    "        target_seq = target_seq.view(-1, 1)\n",
    "        input = torch.cat((input, sequence), dim=1)\n",
    "        target = torch.cat((target, target_seq), dim=1)\n",
    "\n",
    "    # Запускаем эпоху обучения\n",
    "    loss = train(input, target, batch_size_train)\n",
    "    loss_avg += loss\n",
    "\n",
    "    # Осуществляем генерацию текста для текущей модели каждые `print_every` эпох\n",
    "    if epoch % print_every == 0:\n",
    "\n",
    "        print(f'[time = {time_since(start)}, epochs = {epoch} ({epoch / n_epochs * 100}%), loss = {loss:.4f}]')\n",
    "\n",
    "        predicted_text = evaluate(\n",
    "            model=rnn,\n",
    "            vocabulary=vocabulary,\n",
    "            batch_size=batch_size_test,\n",
    "            prefix=prefix,\n",
    "            predict_len=predict_len\n",
    "        )\n",
    "        print(predicted_text)\n",
    "        print()\n",
    "\n",
    "    if epoch % plot_every == 0:\n",
    "        all_losses.append(loss_avg / plot_every)\n",
    "        loss_avg = 0"
   ]
  },
  {
   "cell_type": "markdown",
   "metadata": {
    "id": "xrZIL5bFLy83"
   },
   "source": [
    "---\n",
    "Рисуем график потерь:"
   ]
  },
  {
   "cell_type": "code",
   "execution_count": 50,
   "metadata": {
    "colab": {
     "base_uri": "https://localhost:8080/",
     "height": 447
    },
    "executionInfo": {
     "elapsed": 142,
     "status": "ok",
     "timestamp": 1749839252699,
     "user": {
      "displayName": "Elena V. Razova",
      "userId": "14939859328445060819"
     },
     "user_tz": -180
    },
    "id": "Ibq5OVoFLy83",
    "outputId": "cf832b9f-9972-40b7-fb43-61490bf81637"
   },
   "outputs": [
    {
     "data": {
      "text/plain": [
       "[<matplotlib.lines.Line2D at 0x7f5970da4910>]"
      ]
     },
     "execution_count": 50,
     "metadata": {},
     "output_type": "execute_result"
    },
    {
     "data": {
      "image/png": "[encoded data removed]",
      "text/plain": [
       "<Figure size 640x480 with 1 Axes>"
      ]
     },
     "metadata": {},
     "output_type": "display_data"
    }
   ],
   "source": [
    "plt.figure()\n",
    "plt.plot(all_losses)"
   ]
  },
  {
   "cell_type": "markdown",
   "metadata": {
    "id": "wJBf4RzuLy83"
   },
   "source": [
    "После обучения можно подставить любое начало и сеть его продолжит:"
   ]
  },
  {
   "cell_type": "code",
   "execution_count": 51,
   "metadata": {
    "colab": {
     "base_uri": "https://localhost:8080/"
    },
    "executionInfo": {
     "elapsed": 7,
     "status": "ok",
     "timestamp": 1749839252707,
     "user": {
      "displayName": "Elena V. Razova",
      "userId": "14939859328445060819"
     },
     "user_tz": -180
    },
    "id": "VbgkTRdiLy83",
    "outputId": "feed67c1-aa94-4814-fb23-8ade96b42e27"
   },
   "outputs": [
    {
     "name": "stdout",
     "output_type": "stream",
     "text": [
      "мой дядя не жменья\n",
      "сская де отуш друг стуг не свитраспижа,\n",
      "и мой мола ит молжда!\n",
      "\n",
      "xxxviii\n",
      "\n",
      "очаль.\n",
      "он полга м\n"
     ]
    }
   ],
   "source": [
    "beginning = 'мой дядя'\n",
    "\n",
    "predict = evaluate(\n",
    "    model=rnn,\n",
    "    vocabulary=vocabulary,\n",
    "    batch_size=batch_size_test,\n",
    "    prefix=beginning,\n",
    "    predict_len=predict_len\n",
    ")\n",
    "\n",
    "print(predict)"
   ]
  },
  {
   "cell_type": "markdown",
   "metadata": {
    "id": "DcmsH3uhLy83"
   },
   "source": [
    "---\n",
    "#### Задание 1.\n",
    "Перенесите модель и данные на GPU."
   ]
  },
  {
   "cell_type": "code",
   "execution_count": 52,
   "metadata": {
    "colab": {
     "base_uri": "https://localhost:8080/"
    },
    "executionInfo": {
     "elapsed": 27,
     "status": "ok",
     "timestamp": 1749839252750,
     "user": {
      "displayName": "Elena V. Razova",
      "userId": "14939859328445060819"
     },
     "user_tz": -180
    },
    "id": "kEOI-SZ_OOUU",
    "outputId": "95f0cbf9-368f-4c15-c015-096af76a4ba3"
   },
   "outputs": [
    {
     "name": "stdout",
     "output_type": "stream",
     "text": [
      "❌ GPU не обнаружен. Colab работает на CPU.\n"
     ]
    }
   ],
   "source": [
    "if torch.cuda.is_available():\n",
    "    print(\"✅ GPU доступен!\")\n",
    "    print(\"Название GPU:\", torch.cuda.get_device_name(0))\n",
    "    print(\"Версия CUDA (драйвер):\", torch.version.cuda)  # Версия CUDA, которую видит PyTorch\n",
    "    print(\"Версия PyTorch:\", torch.__version__)\n",
    "else:\n",
    "    print(\"❌ GPU не обнаружен. Colab работает на CPU.\")"
   ]
  },
  {
   "cell_type": "code",
   "execution_count": 53,
   "metadata": {
    "colab": {
     "base_uri": "https://localhost:8080/"
    },
    "executionInfo": {
     "elapsed": 44,
     "status": "ok",
     "timestamp": 1749839252795,
     "user": {
      "displayName": "Elena V. Razova",
      "userId": "14939859328445060819"
     },
     "user_tz": -180
    },
    "id": "SAxIpDLLOOir",
    "outputId": "58c95c61-8e32-44bd-a293-376fd711d80c"
   },
   "outputs": [
    {
     "name": "stdout",
     "output_type": "stream",
     "text": [
      "Using device: cpu\n"
     ]
    }
   ],
   "source": [
    "# Проверяем доступность CUDA (GPU)\n",
    "device = torch.device('cuda' if torch.cuda.is_available() else 'cpu')\n",
    "print(f\"Using device: {device}\")"
   ]
  },
  {
   "cell_type": "code",
   "execution_count": 54,
   "metadata": {
    "executionInfo": {
     "elapsed": 2,
     "status": "ok",
     "timestamp": 1749839252795,
     "user": {
      "displayName": "Elena V. Razova",
      "userId": "14939859328445060819"
     },
     "user_tz": -180
    },
    "id": "Fr1QIHawTdwK"
   },
   "outputs": [],
   "source": [
    "# Модификация функции random_train_set\n",
    "def random_training_set(data, seq_len, vocabulary, device):\n",
    "    sequence = random_sequence(data, seq_len)\n",
    "    input = char_to_tensor(sequence[:-1], vocabulary)\n",
    "    target = char_to_tensor(sequence[1:], vocabulary)\n",
    "    input = torch.tensor(input, dtype=torch.long, device=device)  # Перенос на GPU\n",
    "    target = torch.tensor(target, dtype=torch.long, device=device)\n",
    "    return input, target"
   ]
  },
  {
   "cell_type": "code",
   "execution_count": 55,
   "metadata": {
    "executionInfo": {
     "elapsed": 341,
     "status": "ok",
     "timestamp": 1749839253135,
     "user": {
      "displayName": "Elena V. Razova",
      "userId": "14939859328445060819"
     },
     "user_tz": -180
    },
    "id": "HL8QaBmpZGO4"
   },
   "outputs": [],
   "source": [
    "# Создаем модель и переносим на GPU\n",
    "rnn = RNN(\n",
    "    input_size=len(vocabulary),\n",
    "    embedding_size=embedding_size,\n",
    "    hidden_size=hidden_size,\n",
    "    output_size=len(vocabulary),\n",
    "    num_layers=num_layers\n",
    ").to(device)\n",
    "\n",
    "rnn_optimizer = torch.optim.Adam(rnn.parameters(), lr=lr)\n",
    "criterion = nn.CrossEntropyLoss()"
   ]
  },
  {
   "cell_type": "code",
   "execution_count": 56,
   "metadata": {
    "executionInfo": {
     "elapsed": 4,
     "status": "ok",
     "timestamp": 1749839253140,
     "user": {
      "displayName": "Elena V. Razova",
      "userId": "14939859328445060819"
     },
     "user_tz": -180
    },
    "id": "b5eGeSJlUiTl"
   },
   "outputs": [],
   "source": [
    "# Модификация функции train\n",
    "def train(input, target, batch_size):\n",
    "    '''\n",
    "    input - тензор размерности (seq_len, batch_size). Тензор содержит индексы символов.\n",
    "    target - истинная последовательность индексов следующих символов (целевая переменная); размерность (seq_len, batch_size)\n",
    "    '''\n",
    "\n",
    "    # Инициализируем скрытое состояние\n",
    "    hidden = rnn.init_hidden(batch_size=batch_size).to(device)\n",
    "\n",
    "    rnn.zero_grad()\n",
    "    loss = 0\n",
    "\n",
    "    outputs, hidden = rnn(input, hidden)\n",
    "\n",
    "    # Преобразуем размерности для вычисления функции потерь\n",
    "    outputs = outputs.view(seq_len * batch_size, -1)\n",
    "    target = target.view(seq_len * batch_size)\n",
    "\n",
    "    loss = criterion(outputs, target)\n",
    "\n",
    "    loss.backward()\n",
    "    rnn_optimizer.step()\n",
    "\n",
    "    return loss.data / len(input)"
   ]
  },
  {
   "cell_type": "code",
   "execution_count": 57,
   "metadata": {
    "executionInfo": {
     "elapsed": 4,
     "status": "ok",
     "timestamp": 1749839253141,
     "user": {
      "displayName": "Elena V. Razova",
      "userId": "14939859328445060819"
     },
     "user_tz": -180
    },
    "id": "_TX6GnirVvKV"
   },
   "outputs": [],
   "source": [
    "# Модификация init_hidden\n",
    "def init_hidden(self, batch_size):\n",
    "        # Должна быть размерность (num_layers * num_directions, batch_size, hidden_size)\n",
    "        return torch.zeros(self.num_layers, batch_size, self.hidden_size).to(device)"
   ]
  },
  {
   "cell_type": "code",
   "execution_count": 58,
   "metadata": {
    "executionInfo": {
     "elapsed": 2,
     "status": "ok",
     "timestamp": 1749839253141,
     "user": {
      "displayName": "Elena V. Razova",
      "userId": "14939859328445060819"
     },
     "user_tz": -180
    },
    "id": "ysJQqPgXVJET"
   },
   "outputs": [],
   "source": [
    "# Модификация функции evaluate\n",
    "def evaluate(model, vocabulary, batch_size, prefix='а', predict_len=100):\n",
    "\n",
    "    # Инициализируем скрытое состояние\n",
    "    hidden = model.init_hidden(batch_size).to(device)\n",
    "\n",
    "    # Преобразуем префиксную строку в тензор индексов\n",
    "    prefix_input = char_to_tensor(prefix, vocabulary)\n",
    "\n",
    "    # В переменной predicted будет храниться порождаемая строка (результат работы всей функции).\n",
    "    # Записываем в неё сначала префиксную строку\n",
    "    predicted = prefix\n",
    "\n",
    "    # Запускаем модель на префиксной строке - формируем скрытое состояние для дальнейшей генерации\n",
    "    for p in range(len(prefix) - 1):\n",
    "        input = prefix_input[p]\n",
    "        input = input.view(-1, 1).to(device)\n",
    "        outputs, hidden = model(input, hidden)\n",
    "\n",
    "    # В качестве первого символа для генерации (предсказания следующего символа) выступает последний символ префиксной строки\n",
    "    input = prefix_input[-1]\n",
    "    input = input.reshape(-1, 1).to(device)\n",
    "\n",
    "    # Генерируем predict_len символов\n",
    "    for p in range(predict_len):\n",
    "\n",
    "        # Запускаем модель с текущим входным символом и текущим скрытым состоянием\n",
    "        output, hidden = model(input, hidden)\n",
    "\n",
    "        # В output возвращаются вероятности всех символов из словаря.\n",
    "        # Выбираем из этого распределения символ (сэмплируем)\n",
    "        output_dist = output.data.view(-1)\n",
    "        output_dist = output_dist.exp()\n",
    "        top_index = torch.multinomial(output_dist, 1)[0]\n",
    "\n",
    "        # Добавляем предсказанный символ в результирующую строку\n",
    "        predicted_char = vocabulary[top_index]\n",
    "        predicted += predicted_char\n",
    "\n",
    "        # Используем предсказанный символ как следующий вход\n",
    "        input = char_to_tensor(predicted_char, vocabulary)\n",
    "        input = input.reshape(-1, 1).to(device)\n",
    "\n",
    "    return predicted"
   ]
  },
  {
   "cell_type": "code",
   "execution_count": 59,
   "metadata": {
    "colab": {
     "base_uri": "https://localhost:8080/"
    },
    "executionInfo": {
     "elapsed": 10,
     "status": "ok",
     "timestamp": 1749839253152,
     "user": {
      "displayName": "Elena V. Razova",
      "userId": "14939859328445060819"
     },
     "user_tz": -180
    },
    "id": "FnK7yJSMfX2m",
    "outputId": "3f12c672-a2b4-4ee7-8437-e8d93e1eb363"
   },
   "outputs": [
    {
     "name": "stdout",
     "output_type": "stream",
     "text": [
      "Model device: cpu\n",
      "Sample input device: cpu\n"
     ]
    }
   ],
   "source": [
    "# Проверка\n",
    "print(\"Model device:\", next(rnn.parameters()).device)\n",
    "sample_input = torch.tensor([0], device=device)\n",
    "print(\"Sample input device:\", sample_input.device)"
   ]
  },
  {
   "cell_type": "code",
   "execution_count": 60,
   "metadata": {
    "colab": {
     "base_uri": "https://localhost:8080/"
    },
    "executionInfo": {
     "elapsed": 5849,
     "status": "ok",
     "timestamp": 1749839259000,
     "user": {
      "displayName": "Elena V. Razova",
      "userId": "14939859328445060819"
     },
     "user_tz": -180
    },
    "id": "Y3oMT35ORCFU",
    "outputId": "0b221a1b-3bda-4086-b010-38ef8071566d"
   },
   "outputs": [
    {
     "name": "stdout",
     "output_type": "stream",
     "text": [
      "[time = 0 min 2 sec, epochs = 100 (10.0%), loss = 0.0131]\n",
      "а, докий, звей ленам вилоть седе,\n",
      "ве естов сегалине дрой\n",
      "хре - драхерце?\n",
      "vдим праа ватьяной?\n",
      "жилю,\n",
      "в \n",
      "\n",
      "[time = 0 min 3 sec, epochs = 200 (20.0%), loss = 0.0126]\n",
      "ажиц; нобя порно менен\n",
      "в м прабянея дуровогнет ить пебля счума лно\n",
      "\n",
      "xxxxxа.\n",
      "неден, розчене\".. поднуй\n",
      "\n",
      "\n",
      "[time = 0 min 5 sec, epochs = 300 (30.0%), loss = 0.0118]\n",
      "азно сей\n",
      "\"ды врогаринет\n",
      "узды. не наконе анатьа, выльгнанить; прошудуюн? обогождыкочлна,\n",
      "нарашта вокод\n",
      "\n",
      "[time = 0 min 6 sec, epochs = 400 (40.0%), loss = 0.0116]\n",
      "а веруской люд т доть -\n",
      "вншусь музаньных блавь забказь,,\n",
      "ти ною\n",
      "норешь. крыза чуждю жинный такучи моч\n",
      "\n",
      "[time = 0 min 7 sec, epochs = 500 (50.0%), loss = 0.0116]\n",
      "аспладещий рите отвовели уж и дамим не нашенярись в сердые ссиши тоет,\n",
      "традненежили одвужся любитпой;\n",
      "\n",
      "[time = 0 min 9 sec, epochs = 600 (60.0%), loss = 0.0128]\n",
      "ать он, и с влездий прородых та очто гронит сотолгол и лестуло жето шерозь; как бей гротель, но пил з\n",
      "\n",
      "[time = 0 min 10 sec, epochs = 700 (70.0%), loss = 0.0114]\n",
      "а, глыбей еи сердциль:\n",
      "но тю одудным бегинье,\n",
      "не вут ео то горан\n",
      "тля люборитыт у ейзавиньей фовзохнуд\n",
      "\n",
      "[time = 0 min 12 sec, epochs = 800 (80.0%), loss = 0.0109]\n",
      "ать превстви,\n",
      "да, узня насшелечья распосно,\n",
      "еще будлстол!\n",
      "\n",
      "xiv\n",
      "\n",
      "\n",
      "xii\n",
      "\n",
      "и на поль вамы,\n",
      "оно шех очуго к\n",
      "\n",
      "[time = 0 min 13 sec, epochs = 900 (90.0%), loss = 0.0112]\n",
      "ант!\n",
      "бизруг стреговнии: не сер\n",
      "внима, яламир прикой приворуса ты трузише однов, назаринать ов я тины \n",
      "\n",
      "[time = 0 min 15 sec, epochs = 1000 (100.0%), loss = 0.0123]\n",
      "ажая сезья,\n",
      "иль ходшей стрезья\n",
      "скачный вели и волсете\n",
      "и моящ {12}\n",
      "непруча- смейный ломорь ятупа,\n",
      "(зде\n",
      "\n"
     ]
    }
   ],
   "source": [
    "# Основной цикл обучения\n",
    "start = time.time()\n",
    "\n",
    "prefix = 'а'         # Префиксная строка для генерации в процессе обучения.\n",
    "\n",
    "all_losses = []      # Список значений функции потерь в процессе обучения (для графика)\n",
    "loss_avg = 0         # Усредненное по `plot_every` эпохам значение функции потерь для графика\n",
    "\n",
    "for epoch in range(1, n_epochs + 1):\n",
    "\n",
    "    # Генерируем первую последовательность\n",
    "    input, target = random_training_set(data, seq_len, vocabulary, device)\n",
    "    input = input.view(-1, 1)\n",
    "    target = target.view(-1, 1)\n",
    "\n",
    "    # Добавляем к первой последовательности другие в зависимости от количества мини-батчей\n",
    "    for b in range(batch_size_train-1):\n",
    "        sequence, target_seq = random_training_set(data, seq_len, vocabulary, device)\n",
    "        sequence = sequence.view(-1, 1)\n",
    "        target_seq = target_seq.view(-1, 1)\n",
    "        input = torch.cat((input, sequence), dim=1)\n",
    "        target = torch.cat((target, target_seq), dim=1)\n",
    "\n",
    "    # Запускаем эпоху обучения\n",
    "    loss = train(input, target, batch_size_train)\n",
    "    loss_avg += loss\n",
    "\n",
    "    # Осуществляем генерацию текста для текущей модели каждые `print_every` эпох\n",
    "    if epoch % print_every == 0:\n",
    "\n",
    "        print(f'[time = {time_since(start)}, epochs = {epoch} ({epoch / n_epochs * 100}%), loss = {loss:.4f}]')\n",
    "\n",
    "        predicted_text = evaluate(\n",
    "            model=rnn,\n",
    "            vocabulary=vocabulary,\n",
    "            batch_size=batch_size_test,\n",
    "            prefix=prefix,\n",
    "            predict_len=predict_len\n",
    "        )\n",
    "        print(predicted_text)\n",
    "        print()\n",
    "\n",
    "    if epoch % plot_every == 0:\n",
    "        all_losses.append(loss_avg / plot_every)\n",
    "        loss_avg = 0"
   ]
  },
  {
   "cell_type": "markdown",
   "metadata": {
    "id": "pgEHtdXBLy84"
   },
   "source": [
    "#### Задание 2.\n",
    "Запустите обучение модели с разным количеством эпох и размером мини-батча. Один или несколько результатов генерации в конце каждого эксперимента вместе с временем запуска и параметрами запишите в отдельный файл.  \n",
    "Проведите не менее 10 экспериментов.  \n",
    "Сделайте выводы об эффективности разных вариантов модели."
   ]
  },
  {
   "cell_type": "code",
   "execution_count": 61,
   "metadata": {
    "executionInfo": {
     "elapsed": 14,
     "status": "ok",
     "timestamp": 1749839259015,
     "user": {
      "displayName": "Elena V. Razova",
      "userId": "14939859328445060819"
     },
     "user_tz": -180
    },
    "id": "IvvDsR0nwMUr"
   },
   "outputs": [],
   "source": [
    "from datetime import datetime\n",
    "\n",
    "# Конфигурация экспериментов\n",
    "experiments = [\n",
    "    {'n_epochs': 50, 'batch_size_train': 32, 'batch_size_test': 1},\n",
    "    {'n_epochs': 100, 'batch_size_train': 32, 'batch_size_test': 1},\n",
    "    {'n_epochs': 200, 'batch_size_train': 32, 'batch_size_test': 1},\n",
    "    {'n_epochs': 50, 'batch_size_train': 64, 'batch_size_test': 1},\n",
    "    {'n_epochs': 100, 'batch_size_train': 64, 'batch_size_test': 1},\n",
    "    {'n_epochs': 200, 'batch_size_train': 64, 'batch_size_test': 1},\n",
    "    {'n_epochs': 50, 'batch_size_train': 128, 'batch_size_test': 1},\n",
    "    {'n_epochs': 100, 'batch_size_train': 128, 'batch_size_test': 1},\n",
    "    {'n_epochs': 200, 'batch_size_train': 128, 'batch_size_test': 1},\n",
    "    {'n_epochs': 300, 'batch_size_train': 64, 'batch_size_test': 1}\n",
    "]\n"
   ]
  },
  {
   "cell_type": "code",
   "execution_count": 62,
   "metadata": {
    "colab": {
     "base_uri": "https://localhost:8080/"
    },
    "executionInfo": {
     "elapsed": 266701,
     "status": "ok",
     "timestamp": 1749839525718,
     "user": {
      "displayName": "Elena V. Razova",
      "userId": "14939859328445060819"
     },
     "user_tz": -180
    },
    "id": "Jpx3AXNafK63",
    "outputId": "a1603184-dde3-4e20-8ca3-a387cc071491"
   },
   "outputs": [
    {
     "name": "stdout",
     "output_type": "stream",
     "text": [
      "\n",
      "=== Эксперимент 1/10 ===\n",
      "Параметры: {'n_epochs': 50, 'batch_size_train': 32, 'batch_size_test': 1}\n",
      "Эксперимент 1 завершен за 5.18 сек\n",
      "Лучший сгенерированный текст:\n",
      "азтучатценювио мольять иличе лесливыцторь;\n",
      "здая худнаю.\n",
      "у но сер казто не.\n",
      "онанею, иезнирь, и в утит.\n",
      "\n",
      "\n",
      "=== Эксперимент 2/10 ===\n",
      "Параметры: {'n_epochs': 100, 'batch_size_train': 32, 'batch_size_test': 1}\n",
      "Эксперимент 2 завершен за 11.70 сек\n",
      "Лучший сгенерированный текст:\n",
      "анситре;\n",
      "олудей зотяv\n",
      "стредно добружись ист\n",
      "и мовграбоч)ля отра и мели дам:! жо}\n",
      "нестыт согду мину во\n",
      "\n",
      "\n",
      "=== Эксперимент 3/10 ===\n",
      "Параметры: {'n_epochs': 200, 'batch_size_train': 32, 'batch_size_test': 1}\n",
      "Эксперимент 3 завершен за 22.02 сек\n",
      "Лучший сгенерированный текст:\n",
      "а,\n",
      "поле в разешь.\n",
      "\n",
      "покилась покореде\n",
      "богда!\n",
      "покошви, размолной, но я так нойний в полодить\n",
      "и, лублю,\n",
      "\n",
      "\n",
      "\n",
      "=== Эксперимент 4/10 ===\n",
      "Параметры: {'n_epochs': 50, 'batch_size_train': 64, 'batch_size_test': 1}\n",
      "Эксперимент 4 завершен за 10.18 сек\n",
      "Лучший сгенерированный текст:\n",
      "ахринетой, захсы ные студ\n",
      "\n",
      "xxv\n",
      "\n",
      "ны нсе ж ыватоной нак жежканы до сной граждо яты: не с де несте чеб:\n",
      "\n",
      "\n",
      "\n",
      "=== Эксперимент 5/10 ===\n",
      "Параметры: {'n_epochs': 100, 'batch_size_train': 64, 'batch_size_test': 1}\n",
      "Эксперимент 5 завершен за 19.99 сек\n",
      "Лучший сгенерированный текст:\n",
      "аc)v.\n",
      "\n",
      "в поделе,\n",
      "к заренью\n",
      "тия! навовал прозряпая, прованих дружнеких,\n",
      "постеждо лишенанимента, так яс\n",
      "\n",
      "\n",
      "=== Эксперимент 6/10 ===\n",
      "Параметры: {'n_epochs': 200, 'batch_size_train': 64, 'batch_size_test': 1}\n",
      "Эксперимент 6 завершен за 34.34 сек\n",
      "Лучший сгенерированный текст:\n",
      "ам полиз множенел ой;\n",
      "хоки веребя стал вусаресть со тры какро вездает задценемая с глябя друзнцй триж\n",
      "\n",
      "\n",
      "=== Эксперимент 7/10 ===\n",
      "Параметры: {'n_epochs': 50, 'batch_size_train': 128, 'batch_size_test': 1}\n",
      "Эксперимент 7 завершен за 19.80 сек\n",
      "Лучший сгенерированный текст:\n",
      "ат фдосьяй,\n",
      "и учусвгещераш густужат;\n",
      "пенный,\n",
      "есь перян и говала да плудленаль озснобе сто тол продцо \n",
      "\n",
      "\n",
      "=== Эксперимент 8/10 ===\n",
      "Параметры: {'n_epochs': 100, 'batch_size_train': 128, 'batch_size_test': 1}\n",
      "Эксперимент 8 завершен за 32.50 сек\n",
      "Лучший сгенерированный текст:\n",
      "ашном а задуршеци, виты\n",
      "\n",
      "хпузерою фравлен,\n",
      "негиньков тап-вотнцы бладно валем кури ?ixii\n",
      "\n",
      "\n",
      "ечво твотом\n",
      "\n",
      "\n",
      "=== Эксперимент 9/10 ===\n",
      "Параметры: {'n_epochs': 200, 'batch_size_train': 128, 'batch_size_test': 1}\n",
      "Эксперимент 9 завершен за 68.84 сек\n",
      "Лучший сгенерированный текст:\n",
      "ак воей сопнивы?\n",
      "вестаешьй)\n",
      "странепсной ного полу в перькмо мнет из полявит в стуть, млад леко вхачал\n",
      "\n",
      "\n",
      "=== Эксперимент 10/10 ===\n",
      "Параметры: {'n_epochs': 300, 'batch_size_train': 64, 'batch_size_test': 1}\n",
      "Эксперимент 10 завершен за 43.66 сек\n",
      "Лучший сгенерированный текст:\n",
      "аки сбед стролять\n",
      "осепит уладает живат и пошумон с ни своим и,\n",
      "онаги\n",
      "кожер его ож, - . . . . . . . . \n",
      "\n"
     ]
    }
   ],
   "source": [
    "\n",
    "results = []\n",
    "\n",
    "for exp_idx, config in enumerate(experiments, 1):\n",
    "    print(f\"\\n=== Эксперимент {exp_idx}/{len(experiments)} ===\")\n",
    "    print(f\"Параметры: {config}\")\n",
    "\n",
    "    # Инициализация модели для каждого эксперимента\n",
    "    rnn = RNN(\n",
    "        input_size=len(vocabulary),\n",
    "        embedding_size=embedding_size,\n",
    "        hidden_size=hidden_size,\n",
    "        output_size=len(vocabulary),\n",
    "        num_layers=num_layers\n",
    "    ).to(device)\n",
    "\n",
    "    rnn_optimizer = torch.optim.Adam(rnn.parameters(), lr=lr)\n",
    "\n",
    "    # Основной цикл обучения\n",
    "    start_time = time.time()\n",
    "    all_losses = []\n",
    "    loss_avg = 0\n",
    "    best_text = \"\"\n",
    "    best_loss = float('inf')\n",
    "\n",
    "    for epoch in range(1, config['n_epochs'] + 1):\n",
    "        # Обучение (ваш существующий код)\n",
    "        input, target = random_training_set(data, seq_len, vocabulary, device)\n",
    "        input = input.view(-1, 1)\n",
    "        target = target.view(-1, 1)\n",
    "\n",
    "        for b in range(config['batch_size_train']-1):\n",
    "            sequence, target_seq = random_training_set(data, seq_len, vocabulary, device)\n",
    "            sequence = sequence.view(-1, 1)\n",
    "            target_seq = target_seq.view(-1, 1)\n",
    "            input = torch.cat((input, sequence), dim=1)\n",
    "            target = torch.cat((target, target_seq), dim=1)\n",
    "\n",
    "        loss = train(input, target, config['batch_size_train'])\n",
    "        loss_avg += loss\n",
    "\n",
    "        # Сохраняем лучший результат\n",
    "        if loss < best_loss:\n",
    "            best_loss = loss\n",
    "            best_text = evaluate(\n",
    "                model=rnn,\n",
    "                vocabulary=vocabulary,\n",
    "                batch_size=config['batch_size_test'],\n",
    "                prefix=prefix,\n",
    "                predict_len=predict_len,\n",
    "            )\n",
    "\n",
    "        if epoch % plot_every == 0:\n",
    "            all_losses.append(loss_avg / plot_every)\n",
    "            loss_avg = 0\n",
    "\n",
    "    # Сохранение результатов эксперимента\n",
    "    experiment_time = time.time() - start_time\n",
    "    results.append({\n",
    "        'experiment_id': exp_idx,\n",
    "        'parameters': config,\n",
    "        'training_time': experiment_time,\n",
    "        'final_loss': loss,\n",
    "        'best_generated_text': best_text,\n",
    "        'all_losses': all_losses\n",
    "    })\n",
    "\n",
    "    print(f\"Эксперимент {exp_idx} завершен за {experiment_time:.2f} сек\")\n",
    "    print(f\"Лучший сгенерированный текст:\\n{best_text}\\n\")\n",
    "\n"
   ]
  },
  {
   "cell_type": "code",
   "execution_count": 63,
   "metadata": {
    "executionInfo": {
     "elapsed": 1,
     "status": "ok",
     "timestamp": 1749839525733,
     "user": {
      "displayName": "Elena V. Razova",
      "userId": "14939859328445060819"
     },
     "user_tz": -180
    },
    "id": "s9BLdRrCqg8j"
   },
   "outputs": [],
   "source": [
    "import csv\n",
    "def save_to_file(results, name_model):\n",
    "  # Подготовка данных для CSV\n",
    "  csv_data = []\n",
    "  for exp in results:\n",
    "      # Преобразуем все loss значения\n",
    "      all_losses = [loss.item() if torch.is_tensor(loss) else loss for loss in exp['all_losses']]\n",
    "      final_loss = exp['final_loss'].item() if torch.is_tensor(exp['final_loss']) else exp['final_loss']\n",
    "\n",
    "      csv_data.append({\n",
    "          'experiment_id': exp['experiment_id'],\n",
    "          'n_epochs': exp['parameters']['n_epochs'],\n",
    "          'batch_size_train': exp['parameters']['batch_size_train'],\n",
    "          'batch_size_test': exp['parameters']['batch_size_test'],\n",
    "          'training_time_sec': round(exp['training_time'], 2),\n",
    "          'final_loss': round(float(final_loss), 5),\n",
    "          'best_generated_text': exp['best_generated_text'],\n",
    "          'min_loss': round(float(min(all_losses)), 5),\n",
    "          'max_loss': round(float(max(all_losses)), 5),\n",
    "          'last_5_losses': ', '.join([str(round(float(x), 5)) for x in all_losses[-5:]])\n",
    "      })\n",
    "\n",
    "  # Определяем заголовки CSV\n",
    "  fieldnames = [\n",
    "      'experiment_id',\n",
    "      'n_epochs',\n",
    "      'batch_size_train',\n",
    "      'batch_size_test',\n",
    "      'training_time_sec',\n",
    "      'final_loss',\n",
    "      'min_loss',\n",
    "      'max_loss',\n",
    "      'last_5_losses',\n",
    "      'best_generated_text'\n",
    "  ]\n",
    "\n",
    "  # Сохраняем в CSV файл\n",
    "  timestamp = datetime.now().strftime(\"%d%m%Y_%H%M%S\")\n",
    "  filename = f\"{name_model}_experiments_{timestamp}.csv\"\n",
    "\n",
    "  with open(filename, 'w', newline='', encoding='utf-8') as csvfile:\n",
    "      writer = csv.DictWriter(csvfile, fieldnames=fieldnames)\n",
    "      writer.writeheader()\n",
    "      writer.writerows(csv_data)\n",
    "\n",
    "  print(f\"Результаты успешно сохранены в {filename}\")"
   ]
  },
  {
   "cell_type": "code",
   "execution_count": 64,
   "metadata": {
    "colab": {
     "base_uri": "https://localhost:8080/"
    },
    "executionInfo": {
     "elapsed": 7,
     "status": "ok",
     "timestamp": 1749839525741,
     "user": {
      "displayName": "Elena V. Razova",
      "userId": "14939859328445060819"
     },
     "user_tz": -180
    },
    "id": "WYa5gs80z_C0",
    "outputId": "de91e74a-dfb8-419f-d339-ea8d4521ddaf"
   },
   "outputs": [
    {
     "name": "stdout",
     "output_type": "stream",
     "text": [
      "Результаты успешно сохранены в rnn_experiments_13062025_235219.csv\n"
     ]
    }
   ],
   "source": [
    "save_to_file(results, 'rnn')"
   ]
  },
  {
   "cell_type": "code",
   "execution_count": 65,
   "metadata": {
    "executionInfo": {
     "elapsed": 1,
     "status": "ok",
     "timestamp": 1749839525743,
     "user": {
      "displayName": "Elena V. Razova",
      "userId": "14939859328445060819"
     },
     "user_tz": -180
    },
    "id": "vOB1V8R-jZYG"
   },
   "outputs": [],
   "source": [
    "def plot_loss(results, name_model):\n",
    "  plt.figure(figsize=(12, 6))\n",
    "\n",
    "  for res in results:\n",
    "      # Преобразуем losses из тензоров в numpy массив на CPU\n",
    "      if isinstance(res['all_losses'][0], torch.Tensor):\n",
    "          losses = [loss.cpu().item() for loss in res['all_losses']]\n",
    "      else:\n",
    "          losses = res['all_losses']\n",
    "\n",
    "      plt.plot(losses, label=f\"Exp {res['experiment_id']} (epochs={res['parameters']['n_epochs']}, bs={res['parameters']['batch_size_train']})\")\n",
    "\n",
    "  plt.title(f\"Training Loss Across Experiments for {name_model}\")\n",
    "  plt.xlabel('Iterations (every {} epochs)'.format(plot_every))\n",
    "  plt.ylabel('Loss')\n",
    "  plt.grid(True, linestyle='--', alpha=0.5)\n",
    "  plt.legend(bbox_to_anchor=(1.05, 1), loc='upper left')\n",
    "  plt.tight_layout()\n",
    "  plt.show()\n",
    "\n",
    "  plt.savefig(f\"{name_model}_training_loss_comparison.png\", dpi=300, bbox_inches='tight')"
   ]
  },
  {
   "cell_type": "code",
   "execution_count": 66,
   "metadata": {
    "colab": {
     "base_uri": "https://localhost:8080/",
     "height": 348
    },
    "executionInfo": {
     "elapsed": 538,
     "status": "ok",
     "timestamp": 1749839526282,
     "user": {
      "displayName": "Elena V. Razova",
      "userId": "14939859328445060819"
     },
     "user_tz": -180
    },
    "id": "Ygnh_GEW0QXc",
    "outputId": "911a7dad-9abb-40a2-9d4c-c61244174d42"
   },
   "outputs": [
    {
     "data": {
      "image/png": "[encoded data removed]",
      "text/plain": [
       "<Figure size 1200x600 with 1 Axes>"
      ]
     },
     "metadata": {},
     "output_type": "display_data"
    },
    {
     "data": {
      "text/plain": [
       "<Figure size 640x480 with 0 Axes>"
      ]
     },
     "metadata": {},
     "output_type": "display_data"
    }
   ],
   "source": [
    "plot_loss(results,'rnn')"
   ]
  },
  {
   "cell_type": "code",
   "execution_count": 67,
   "metadata": {
    "executionInfo": {
     "elapsed": 1,
     "status": "ok",
     "timestamp": 1749839526285,
     "user": {
      "displayName": "Elena V. Razova",
      "userId": "14939859328445060819"
     },
     "user_tz": -180
    },
    "id": "z0-19RqBrTgg"
   },
   "outputs": [],
   "source": [
    "#from google.colab import drive\n",
    "#drive.mount('/content/drive')"
   ]
  },
  {
   "cell_type": "markdown",
   "metadata": {
    "id": "tU91DqM-Ly84"
   },
   "source": [
    "#### Задание 3.\n",
    "Поменяйте модуль Simple RNN на LSTM. Запустите обучение модели с разным количеством эпох и размером мини-батча.  \n",
    "Желательно, чтобы параметры совпадали с предыдущим экспериментом и можно было сравнивать модели.  \n",
    "Один или несколько результатов генерации в конце каждого эксперимента вместе с временем запуска и параметрами запишите в отдельный файл.  \n",
    "Проведите не менее 10 экспериментов.  \n",
    "Сделайте выводы об эффективности разных вариантов модели."
   ]
  },
  {
   "cell_type": "code",
   "execution_count": 68,
   "metadata": {
    "colab": {
     "base_uri": "https://localhost:8080/"
    },
    "executionInfo": {
     "elapsed": 7,
     "status": "ok",
     "timestamp": 1749839526294,
     "user": {
      "displayName": "Elena V. Razova",
      "userId": "14939859328445060819"
     },
     "user_tz": -180
    },
    "id": "wOh3jQw4-i5E",
    "outputId": "e037cdea-bec4-4384-d5f0-f96412386eeb"
   },
   "outputs": [
    {
     "name": "stdout",
     "output_type": "stream",
     "text": [
      "Using device: cpu\n"
     ]
    }
   ],
   "source": [
    "# Проверяем доступность CUDA (GPU)\n",
    "device = torch.device('cuda' if torch.cuda.is_available() else 'cpu')\n",
    "print(f\"Using device: {device}\")"
   ]
  },
  {
   "cell_type": "code",
   "execution_count": 69,
   "metadata": {
    "executionInfo": {
     "elapsed": 41,
     "status": "ok",
     "timestamp": 1749839526336,
     "user": {
      "displayName": "Elena V. Razova",
      "userId": "14939859328445060819"
     },
     "user_tz": -180
    },
    "id": "UX9NFTRR0dN0"
   },
   "outputs": [],
   "source": [
    "# Описание класса RNNModel\n",
    "class RNNModel(nn.Module):\n",
    "    def __init__(self, input_size, embedding_size, hidden_size, output_size, num_layers, model_type):\n",
    "        super(RNNModel, self).__init__()\n",
    "        self.model_type = model_type.lower()\n",
    "        self.hidden_size = hidden_size\n",
    "        self.num_layers = num_layers\n",
    "\n",
    "        self.embedding = nn.Embedding(input_size, embedding_size)\n",
    "\n",
    "        # Выбираем тип RNN слоя\n",
    "        if self.model_type == 'lstm':\n",
    "            self.rnn = nn.LSTM(embedding_size, hidden_size, num_layers, batch_first=False)\n",
    "        elif self.model_type == 'gru':\n",
    "            self.rnn = nn.GRU(embedding_size, hidden_size, num_layers, batch_first=False)\n",
    "        else:\n",
    "            self.rnn = nn.RNN(embedding_size, hidden_size, num_layers, batch_first=False)\n",
    "\n",
    "        self.fc = nn.Linear(hidden_size, output_size)\n",
    "        self.to(device)  # Переносим все параметры на устройство\n",
    "\n",
    "    def forward(self, x, hidden):\n",
    "        # x: (seq_len, batch_size)\n",
    "        x = x.to(device)\n",
    "        embedded = self.embedding(x)  # (seq_len, batch_size, embedding_size)\n",
    "\n",
    "        output, hidden = self.rnn(embedded, hidden)\n",
    "        output = self.fc(output.view(-1, self.hidden_size))\n",
    "        return output, hidden\n",
    "\n",
    "    def init_hidden(self, batch_size):\n",
    "        # Инициализация скрытого состояния на правильном устройстве\n",
    "        if self.model_type == 'lstm':\n",
    "            return (torch.zeros(self.num_layers, batch_size, self.hidden_size).to(device),\n",
    "                    torch.zeros(self.num_layers, batch_size, self.hidden_size).to(device))\n",
    "        else:\n",
    "            return torch.zeros(self.num_layers, batch_size, self.hidden_size).to(device)"
   ]
  },
  {
   "cell_type": "code",
   "execution_count": 70,
   "metadata": {
    "executionInfo": {
     "elapsed": 22,
     "status": "ok",
     "timestamp": 1749839526336,
     "user": {
      "displayName": "Elena V. Razova",
      "userId": "14939859328445060819"
     },
     "user_tz": -180
    },
    "id": "Y6WrC4zaTQjS"
   },
   "outputs": [],
   "source": [
    "def create_model(model_type, vocab_size, embed_size, hidden_size, num_layers):\n",
    "    model = RNNModel(\n",
    "        input_size=vocab_size,\n",
    "        embedding_size=embed_size,\n",
    "        hidden_size=hidden_size,\n",
    "        output_size=vocab_size,\n",
    "        num_layers=num_layers,\n",
    "        model_type=model_type\n",
    "    )\n",
    "\n",
    "    return model.to(device)"
   ]
  },
  {
   "cell_type": "code",
   "execution_count": 71,
   "metadata": {
    "executionInfo": {
     "elapsed": 21,
     "status": "ok",
     "timestamp": 1749839526337,
     "user": {
      "displayName": "Elena V. Razova",
      "userId": "14939859328445060819"
     },
     "user_tz": -180
    },
    "id": "nymEuszkQg_5"
   },
   "outputs": [],
   "source": [
    "# Модификация функции random_train_set\n",
    "def random_training_set(data, seq_len, vocabulary, device):\n",
    "    sequence = random_sequence(data, seq_len)\n",
    "    input = char_to_tensor(sequence[:-1], vocabulary)\n",
    "    target = char_to_tensor(sequence[1:], vocabulary)\n",
    "    input = torch.tensor(input, dtype=torch.long, device=device)  # Перенос на GPU\n",
    "    target = torch.tensor(target, dtype=torch.long, device=device)\n",
    "    return input, target"
   ]
  },
  {
   "cell_type": "code",
   "execution_count": 72,
   "metadata": {
    "executionInfo": {
     "elapsed": 21,
     "status": "ok",
     "timestamp": 1749839526338,
     "user": {
      "displayName": "Elena V. Razova",
      "userId": "14939859328445060819"
     },
     "user_tz": -180
    },
    "id": "mLP_N5hx03j4"
   },
   "outputs": [],
   "source": [
    "# Модификация функции train\n",
    "def train(input, target, batch_size):\n",
    "    '''\n",
    "    input - тензор размерности (seq_len, batch_size). Тензор содержит индексы символов.\n",
    "    target - истинная последовательность индексов следующих символов (целевая переменная); размерность (seq_len, batch_size)\n",
    "    '''\n",
    "\n",
    "    # Инициализируем скрытое состояние\n",
    "    hidden = rnn.init_hidden(batch_size=batch_size).to(device)\n",
    "\n",
    "    rnn.zero_grad()\n",
    "    loss = 0\n",
    "\n",
    "    outputs, hidden = rnn(input, hidden)\n",
    "\n",
    "    # Преобразуем размерности для вычисления функции потерь\n",
    "    outputs = outputs.view(seq_len * batch_size, -1)\n",
    "    target = target.view(seq_len * batch_size)\n",
    "\n",
    "    loss = criterion(outputs, target)\n",
    "\n",
    "    loss.backward()\n",
    "    rnn_optimizer.step()\n",
    "\n",
    "    return loss.data / len(input)\n"
   ]
  },
  {
   "cell_type": "code",
   "execution_count": 73,
   "metadata": {
    "executionInfo": {
     "elapsed": 20,
     "status": "ok",
     "timestamp": 1749839526338,
     "user": {
      "displayName": "Elena V. Razova",
      "userId": "14939859328445060819"
     },
     "user_tz": -180
    },
    "id": "4-eMp1tU2Q3E"
   },
   "outputs": [],
   "source": [
    "# Модификация функции evaluate\n",
    "def evaluate(model, vocabulary, batch_size, prefix='а', predict_len=100):\n",
    "\n",
    "    # Инициализируем скрытое состояние\n",
    "    hidden = model.init_hidden(batch_size).to(device)\n",
    "\n",
    "    # Преобразуем префиксную строку в тензор индексов\n",
    "    prefix_input = char_to_tensor(prefix, vocabulary)\n",
    "\n",
    "    # В переменной predicted будет храниться порождаемая строка (результат работы всей функции).\n",
    "    # Записываем в неё сначала префиксную строку\n",
    "    predicted = prefix\n",
    "\n",
    "    # Запускаем модель на префиксной строке - формируем скрытое состояние для дальнейшей генерации\n",
    "    for p in range(len(prefix) - 1):\n",
    "        input = prefix_input[p]\n",
    "        input = input.view(-1, 1).to(device)\n",
    "        outputs, hidden = model(input, hidden)\n",
    "\n",
    "    # В качестве первого символа для генерации (предсказания следующего символа) выступает последний символ префиксной строки\n",
    "    input = prefix_input[-1]\n",
    "    input = input.reshape(-1, 1).to(device)\n",
    "\n",
    "    # Генерируем predict_len символов\n",
    "    for p in range(predict_len):\n",
    "\n",
    "        # Запускаем модель с текущим входным символом и текущим скрытым состоянием\n",
    "        output, hidden = model(input, hidden)\n",
    "\n",
    "        # В output возвращаются вероятности всех символов из словаря.\n",
    "        # Выбираем из этого распределения символ (сэмплируем)\n",
    "        output_dist = output.data.view(-1)\n",
    "        output_dist = output_dist.exp()\n",
    "        top_index = torch.multinomial(output_dist, 1)[0]\n",
    "\n",
    "        # Добавляем предсказанный символ в результирующую строку\n",
    "        predicted_char = vocabulary[top_index]\n",
    "        predicted += predicted_char\n",
    "\n",
    "        # Используем предсказанный символ как следующий вход\n",
    "        input = char_to_tensor(predicted_char, vocabulary)\n",
    "        input = input.reshape(-1, 1).to(device)\n",
    "\n",
    "    return predicted\n"
   ]
  },
  {
   "cell_type": "code",
   "execution_count": 74,
   "metadata": {
    "executionInfo": {
     "elapsed": 7,
     "status": "ok",
     "timestamp": 1749839526339,
     "user": {
      "displayName": "Elena V. Razova",
      "userId": "14939859328445060819"
     },
     "user_tz": -180
    },
    "id": "TSQV7Qu-3lxJ"
   },
   "outputs": [],
   "source": [
    "def model_training(model):\n",
    "  results = []\n",
    "\n",
    "  for exp_idx, config in enumerate(experiments, 1):\n",
    "      print(f\"\\n=== Эксперимент {exp_idx}/{len(experiments)} ===\")\n",
    "      print(f\"Параметры: {config}\")\n",
    "\n",
    "      # Критерий и оптимизатор\n",
    "      criterion = nn.CrossEntropyLoss().to(device)\n",
    "      rnn_optimizer = torch.optim.Adam(rnn.parameters(), lr=lr)\n",
    "\n",
    "      # Основной цикл обучения\n",
    "      start_time = time.time()\n",
    "      all_losses = []\n",
    "      loss_avg = 0\n",
    "      best_text = \"\"\n",
    "      best_loss = float('inf')\n",
    "\n",
    "      for epoch in range(1, config['n_epochs'] + 1):\n",
    "          # Обучение\n",
    "          input, target = random_training_set(data, seq_len, vocabulary, device)\n",
    "          input = input.view(-1, 1)\n",
    "          target = target.view(-1, 1)\n",
    "\n",
    "          for b in range(config['batch_size_train']-1):\n",
    "              sequence, target_seq = random_training_set(data, seq_len, vocabulary, device)\n",
    "              sequence = sequence.view(-1, 1)\n",
    "              target_seq = target_seq.view(-1, 1)\n",
    "              input = torch.cat((input, sequence), dim=1)\n",
    "              target = torch.cat((target, target_seq), dim=1)\n",
    "\n",
    "          loss = train(input, target, config['batch_size_train'])\n",
    "          loss_avg += loss\n",
    "\n",
    "          # Сохраняем лучший результат\n",
    "          if loss < best_loss:\n",
    "              best_loss = loss\n",
    "              best_text = evaluate(\n",
    "                  model=rnn,\n",
    "                  vocabulary=vocabulary,\n",
    "                  batch_size=config['batch_size_test'],\n",
    "                  prefix=prefix,\n",
    "                  predict_len=predict_len,\n",
    "              )\n",
    "\n",
    "          if epoch % plot_every == 0:\n",
    "              all_losses.append(loss_avg / plot_every)\n",
    "              loss_avg = 0\n",
    "\n",
    "      # Сохранение результатов эксперимента\n",
    "      experiment_time = time.time() - start_time\n",
    "      results.append({\n",
    "          'experiment_id': exp_idx,\n",
    "          'parameters': config,\n",
    "          'training_time': experiment_time,\n",
    "          'final_loss': loss,\n",
    "          'best_generated_text': best_text,\n",
    "          'all_losses': all_losses\n",
    "      })\n",
    "\n",
    "      print(f\"Эксперимент {exp_idx} завершен за {experiment_time:.2f} сек\")\n",
    "      print(f\"Лучший сгенерированный текст:\\n{best_text}\\n\")\n",
    "  return results"
   ]
  },
  {
   "cell_type": "code",
   "execution_count": 75,
   "metadata": {
    "colab": {
     "base_uri": "https://localhost:8080/",
     "height": 1000
    },
    "executionInfo": {
     "elapsed": 238336,
     "status": "ok",
     "timestamp": 1749839764670,
     "user": {
      "displayName": "Elena V. Razova",
      "userId": "14939859328445060819"
     },
     "user_tz": -180
    },
    "id": "DLT7LhjQ4cj7",
    "outputId": "5c17b78a-f6d5-47e1-db2e-14cf56429993"
   },
   "outputs": [
    {
     "name": "stdout",
     "output_type": "stream",
     "text": [
      "Created LSTM model on cpu\n",
      "\n",
      "=== Эксперимент 1/10 ===\n",
      "Параметры: {'n_epochs': 50, 'batch_size_train': 32, 'batch_size_test': 1}\n",
      "Эксперимент 1 завершен за 6.13 сек\n",
      "Лучший сгенерированный текст:\n",
      "а;\n",
      "тот бниб:\n",
      "осиб уж слезный\n",
      "и думу заомлю язьяно.\n",
      "его строд\n",
      "еще там.\n",
      "\n",
      "xxiv\n",
      "\n",
      "шитаю\n",
      "ровственной,\n",
      "в оси\n",
      "\n",
      "\n",
      "=== Эксперимент 2/10 ===\n",
      "Параметры: {'n_epochs': 100, 'batch_size_train': 32, 'batch_size_test': 1}\n",
      "Эксперимент 2 завершен за 9.97 сек\n",
      "Лучший сгенерированный текст:\n",
      "амли толем,\n",
      "пророй;\n",
      "\n",
      "поститный помнять жемя,\n",
      "там утреннье, в ней угое печем,\n",
      "и цыло в нем:\n",
      "павершисно\n",
      "\n",
      "\n",
      "=== Эксперимент 3/10 ===\n",
      "Параметры: {'n_epochs': 200, 'batch_size_train': 32, 'batch_size_test': 1}\n",
      "Эксперимент 3 завершен за 18.22 сек\n",
      "Лучший сгенерированный текст:\n",
      "а.\n",
      "суда. друзьме счасткой мнох:\n",
      "не что мрасить завечел страсит.\n",
      "\n",
      "xxxi\n",
      "\n",
      "xviii\n",
      "\n",
      "тапи друга уму излистви\n",
      "\n",
      "\n",
      "=== Эксперимент 4/10 ===\n",
      "Параметры: {'n_epochs': 50, 'batch_size_train': 64, 'batch_size_test': 1}\n",
      "Эксперимент 4 завершен за 9.16 сек\n",
      "Лучший сгенерированный текст:\n",
      "амых, иi. с горлю защенном чувству пиршине из за -биль бы нагда ненью утлавсях,\n",
      "недить и в свой там п\n",
      "\n",
      "\n",
      "=== Эксперимент 5/10 ===\n",
      "Параметры: {'n_epochs': 100, 'batch_size_train': 64, 'batch_size_test': 1}\n",
      "Эксперимент 5 завершен за 20.00 сек\n",
      "Лучший сгенерированный текст:\n",
      "ам без иль нет;\n",
      "и в руких из сти ждень;\n",
      "как я впросель,\n",
      "обумстою вправою.\n",
      "он.\n",
      "ко откруш!\n",
      "полу в лицы \n",
      "\n",
      "\n",
      "=== Эксперимент 6/10 ===\n",
      "Параметры: {'n_epochs': 200, 'batch_size_train': 64, 'batch_size_test': 1}\n",
      "Эксперимент 6 завершен за 31.52 сек\n",
      "Лучший сгенерированный текст:\n",
      "азомилек, вот толгй невержешь,\n",
      "и плости порой.\n",
      "\n",
      "xliv\n",
      "\n",
      "татьяна,\n",
      "ирагая\n",
      "он и просела.\n",
      "ветель,\n",
      "объетвен \n",
      "\n",
      "\n",
      "=== Эксперимент 7/10 ===\n",
      "Параметры: {'n_epochs': 50, 'batch_size_train': 128, 'batch_size_test': 1}\n",
      "Эксперимент 7 завершен за 14.28 сек\n",
      "Лучший сгенерированный текст:\n",
      "ал бедной\n",
      "уж няна разался\n",
      "исстодушинали скорый . . . . . . . .\n",
      ". . . . . . . . . . . . . .\n",
      ". . . . . \n",
      "\n",
      "\n",
      "=== Эксперимент 8/10 ===\n",
      "Параметры: {'n_epochs': 100, 'batch_size_train': 128, 'batch_size_test': 1}\n",
      "Эксперимент 8 завершен за 30.54 сек\n",
      "Лучший сгенерированный текст:\n",
      "ады раздорон шлипить, уславно яник я; поленья!\n",
      "скордуску плава,\n",
      "слови.\n",
      "всегда друг презревит\n",
      "\n",
      "все про\n",
      "\n",
      "\n",
      "=== Эксперимент 9/10 ===\n",
      "Параметры: {'n_epochs': 200, 'batch_size_train': 128, 'batch_size_test': 1}\n",
      "Эксперимент 9 завершен за 63.02 сек\n",
      "Лучший сгенерированный текст:\n",
      "ать: пуменной,\n",
      "уж улатался чночь;\n",
      "и не пониму,\n",
      "когне фрывно вас вечер тепести бустосться украв, лиску\n",
      "\n",
      "\n",
      "=== Эксперимент 10/10 ===\n",
      "Параметры: {'n_epochs': 300, 'batch_size_train': 64, 'batch_size_test': 1}\n",
      "Эксперимент 10 завершен за 50.28 сек\n",
      "Лучший сгенерированный текст:\n",
      "а;\n",
      "то ошких видетнись.\n",
      "\n",
      "xx\n",
      "\n",
      "где жный умой сроки.\n",
      "к ней,\n",
      "нелы,\n",
      "он замений),\n",
      "что прията; скрочу в шупсы\n",
      "\n",
      "Результаты успешно сохранены в LSTM_experiments_13062025_235632.csv\n"
     ]
    },
    {
     "data": {
      "image/png": "[encoded data removed]",
      "text/plain": [
       "<Figure size 1200x600 with 1 Axes>"
      ]
     },
     "metadata": {},
     "output_type": "display_data"
    },
    {
     "data": {
      "text/plain": [
       "<Figure size 640x480 with 0 Axes>"
      ]
     },
     "metadata": {},
     "output_type": "display_data"
    }
   ],
   "source": [
    "# Создаем модель (можно выбрать 'rnn', 'lstm' или 'gru')\n",
    "model = create_model('lstm', len(vocabulary), embedding_size, hidden_size, num_layers)\n",
    "print(f\"Created {model.model_type.upper()} model on {next(model.parameters()).device}\")\n",
    "\n",
    "results = model_training(model)\n",
    "\n",
    "save_to_file(results, 'LSTM')\n",
    "\n",
    "plot_loss(results,'LSTM')"
   ]
  },
  {
   "cell_type": "markdown",
   "metadata": {
    "id": "fwa2n44NLy84"
   },
   "source": [
    "#### Задание 4.\n",
    "Повторите предыдущее задание для модуля GRU.  \n",
    "Кроме выводов об эффективности, сделайте выводы о времени обучения разных моделей – Simple RNN, LSTM, GRU."
   ]
  },
  {
   "cell_type": "code",
   "execution_count": 76,
   "metadata": {
    "colab": {
     "base_uri": "https://localhost:8080/",
     "height": 1000
    },
    "executionInfo": {
     "elapsed": 239755,
     "status": "ok",
     "timestamp": 1749840004423,
     "user": {
      "displayName": "Elena V. Razova",
      "userId": "14939859328445060819"
     },
     "user_tz": -180
    },
    "id": "NBoS7SdbeVpC",
    "outputId": "8bb1478c-b732-4380-ce98-b1fbf180ba64"
   },
   "outputs": [
    {
     "name": "stdout",
     "output_type": "stream",
     "text": [
      "Created GRU model on cpu\n",
      "\n",
      "=== Эксперимент 1/10 ===\n",
      "Параметры: {'n_epochs': 50, 'batch_size_train': 32, 'batch_size_test': 1}\n",
      "Эксперимент 1 завершен за 5.86 сек\n",
      "Лучший сгенерированный текст:\n",
      "ана дай правски со порой,\n",
      "конецмет шебед;\n",
      "вы бресто,\n",
      "и репенил... и это, другу в лицом,\n",
      "полон,\n",
      "не сад\n",
      "\n",
      "\n",
      "=== Эксперимент 2/10 ===\n",
      "Параметры: {'n_epochs': 100, 'batch_size_train': 32, 'batch_size_test': 1}\n",
      "Эксперимент 2 завершен за 11.22 сек\n",
      "Лучший сгенерированный текст:\n",
      "аплюцей.\n",
      "как на страдет не отелидих читатя там хранит осуж,\n",
      "сидет,\n",
      "и ск очем отилила ты, брега;\n",
      "к дуг\n",
      "\n",
      "\n",
      "=== Эксперимент 3/10 ===\n",
      "Параметры: {'n_epochs': 200, 'batch_size_train': 32, 'batch_size_test': 1}\n",
      "Эксперимент 3 завершен за 18.92 сек\n",
      "Лучший сгенерированный текст:\n",
      "а печальным,\n",
      "не мыслей;\n",
      "он другаем нажель;\n",
      "как угодно ботупелья видит: вам сосед. {16}\n",
      "как улыбках тр\n",
      "\n",
      "\n",
      "=== Эксперимент 4/10 ===\n",
      "Параметры: {'n_epochs': 50, 'batch_size_train': 64, 'batch_size_test': 1}\n",
      "Эксперимент 4 завершен за 7.29 сек\n",
      "Лучший сгенерированный текст:\n",
      "а просла,\n",
      "готов,\n",
      "мой заходлаве уб неворы,\n",
      "модны, ты, давной\n",
      "тодмет каминые, красу, остави мне поступи\n",
      "\n",
      "\n",
      "=== Эксперимент 5/10 ===\n",
      "Параметры: {'n_epochs': 100, 'batch_size_train': 64, 'batch_size_test': 1}\n",
      "Эксперимент 5 завершен за 14.53 сек\n",
      "Лучший сгенерированный текст:\n",
      "адомин?....\n",
      "\n",
      "xiv\n",
      "\n",
      "поклrя, столостью не переставил спроя тибиченьемананный лестным дитящей порой финиш\n",
      "\n",
      "\n",
      "=== Эксперимент 6/10 ===\n",
      "Параметры: {'n_epochs': 200, 'batch_size_train': 64, 'batch_size_test': 1}\n",
      "Эксперимент 6 завершен за 32.75 сек\n",
      "Лучший сгенерированный текст:\n",
      "ал горон, мой дну едам! что мноспелете,\n",
      "так гузы онегин на смущел волест и на сердинывь примах,\n",
      "и дел\n",
      "\n",
      "\n",
      "=== Эксперимент 7/10 ===\n",
      "Параметры: {'n_epochs': 50, 'batch_size_train': 128, 'batch_size_test': 1}\n",
      "Эксперимент 7 завершен за 17.67 сек\n",
      "Лучший сгенерированный текст:\n",
      "атра ты, в забакие, нас,\n",
      "таук разяз\n",
      "отнеченьей быть полны.\n",
      "с обой от:\n",
      "любвенный страсный, не рощий.\n",
      "\n",
      "\n",
      "\n",
      "\n",
      "=== Эксперимент 8/10 ===\n",
      "Параметры: {'n_epochs': 100, 'batch_size_train': 128, 'batch_size_test': 1}\n",
      "Эксперимент 8 завершен за 33.90 сек\n",
      "Лучший сгенерированный текст:\n",
      "а два равсем героб?\"\n",
      "\n",
      "lvii\n",
      "\n",
      "тутклений\n",
      "письма\n",
      "меня много друг, он, может, подиты радосться несходить. \n",
      "\n",
      "\n",
      "=== Эксперимент 9/10 ===\n",
      "Параметры: {'n_epochs': 200, 'batch_size_train': 128, 'batch_size_test': 1}\n",
      "Эксперимент 9 завершен за 66.14 сек\n",
      "Лучший сгенерированный текст:\n",
      "ал болодной {25}.\n",
      "прида супруг липящетит,\n",
      "все, быстот, не то ехоплетослиски,\n",
      "и деркзыт моя пробусь ли\n",
      "\n",
      "\n",
      "=== Эксперимент 10/10 ===\n",
      "Параметры: {'n_epochs': 300, 'batch_size_train': 64, 'batch_size_test': 1}\n",
      "Эксперимент 10 завершен за 48.46 сек\n",
      "Лучший сгенерированный текст:\n",
      "ал их ленски, владимир мыду логой в был с соспоклитель,\n",
      "как уж давновлющух, что-то чред,\n",
      "по мне мне н\n",
      "\n",
      "Результаты успешно сохранены в GRU_experiments_14062025_000049.csv\n"
     ]
    },
    {
     "data": {
      "image/png": "[encoded data removed]",
      "text/plain": [
       "<Figure size 1200x600 with 1 Axes>"
      ]
     },
     "metadata": {},
     "output_type": "display_data"
    },
    {
     "data": {
      "text/plain": [
       "<Figure size 640x480 with 0 Axes>"
      ]
     },
     "metadata": {},
     "output_type": "display_data"
    }
   ],
   "source": [
    "# Создаем модель (можно выбрать 'rnn', 'lstm' или 'gru')\n",
    "model = create_model('gru', len(vocabulary), embedding_size, hidden_size, num_layers)\n",
    "print(f\"Created {model.model_type.upper()} model on {next(model.parameters()).device}\")\n",
    "\n",
    "results = model_training(model)\n",
    "\n",
    "save_to_file(results, 'GRU')\n",
    "\n",
    "plot_loss(results,'GRU')"
   ]
  },
  {
   "cell_type": "markdown",
   "metadata": {
    "id": "V03BZQuDmIES"
   },
   "source": [
    "**Вывод:** лучшие результаты показала модель LSTM с параметрами {'n_epochs': 300, 'batch_size_train': 64, 'batch_size_test': 1}. RNN уступает по качеству обеим моделям. GRU уступает по качеству LSTM, но работает быстрее."
   ]
  },
  {
   "cell_type": "markdown",
   "metadata": {
    "id": "YIRoHmGnLy84"
   },
   "source": [
    "#### Задание 5.\n",
    "Выберите лучшую модель по результатам предыдущих экспериментов и попробуйте добиться повышения качества за счёт разного количества слоёв."
   ]
  },
  {
   "cell_type": "code",
   "execution_count": 77,
   "metadata": {
    "executionInfo": {
     "elapsed": 21,
     "status": "ok",
     "timestamp": 1749842200399,
     "user": {
      "displayName": "Elena V. Razova",
      "userId": "14939859328445060819"
     },
     "user_tz": -180
    },
    "id": "altcbAmZlowl"
   },
   "outputs": [],
   "source": [
    "# Импорт планировщика learning rate для автоматического уменьшения LR при плато\n",
    "from torch.optim.lr_scheduler import ReduceLROnPlateau\n",
    "\n",
    "# Определение устройства (GPU/CPU) для вычислений\n",
    "device = torch.device('cuda' if torch.cuda.is_available() else 'cpu')\n",
    "\n",
    "class StackedRNN(nn.Module):\n",
    "    def __init__(self, input_size, embedding_size, hidden_size, output_size,\n",
    "                 num_layers, rnn_type, dropout=0.3):\n",
    "        \"\"\"Инициализация многослойной RNN модели\n",
    "        Args:\n",
    "            input_size: Размер словаря (количество уникальных токенов)\n",
    "            embedding_size: Размерность векторного представления токенов\n",
    "            hidden_size: Размер скрытого состояния RNN\n",
    "            output_size: Размер выходного слоя (обычно равен input_size)\n",
    "            num_layers: Количество RNN слоев\n",
    "            rnn_type: Тип RNN ('rnn', 'lstm' или 'gru')\n",
    "            dropout: Вероятность dropout для регуляризации\n",
    "        \"\"\"\n",
    "        super(StackedRNN, self).__init__()\n",
    "        self.rnn_type = rnn_type.lower()  # Нормализация типа RNN\n",
    "        self.num_layers = num_layers      # Сохраняем количество слоев\n",
    "        self.hidden_size = hidden_size    # Размер скрытого состояния\n",
    "\n",
    "        # Слой для преобразования индексов токенов в векторные представления\n",
    "        self.embedding = nn.Embedding(input_size, embedding_size)\n",
    "\n",
    "        # Инициализация RNN слоёв с учетом типа:\n",
    "        # - Для LSTM/GRU/RNN создаем соответствующий слой\n",
    "        # - Dropout применяется только между слоями (если слоев > 1)\n",
    "        if self.rnn_type == 'lstm':\n",
    "            self.rnn = nn.LSTM(embedding_size, hidden_size, num_layers,\n",
    "                              dropout=dropout if num_layers > 1 else 0,\n",
    "                              batch_first=False)\n",
    "        elif self.rnn_type == 'gru':\n",
    "            self.rnn = nn.GRU(embedding_size, hidden_size, num_layers,\n",
    "                             dropout=dropout if num_layers > 1 else 0,\n",
    "                             batch_first=False)\n",
    "        else:  # Обычная RNN\n",
    "            self.rnn = nn.RNN(embedding_size, hidden_size, num_layers,\n",
    "                             dropout=dropout if num_layers > 1 else 0,\n",
    "                             batch_first=False)\n",
    "\n",
    "        # Дополнительная полносвязная сеть с:\n",
    "        # - Линейным слоем (hidden_size -> hidden_size//2)\n",
    "        # - BatchNorm для стабилизации обучения\n",
    "        # - ReLU активация\n",
    "        # - Dropout для регуляризации\n",
    "        # - Финальный линейный слой (hidden_size//2 -> output_size)\n",
    "        self.fc = nn.Sequential(\n",
    "            nn.Linear(hidden_size, hidden_size//2),\n",
    "            nn.BatchNorm1d(hidden_size//2),\n",
    "            nn.ReLU(),\n",
    "            nn.Dropout(dropout),\n",
    "            nn.Linear(hidden_size//2, output_size)\n",
    "        )\n",
    "\n",
    "        # Перенос всех параметров модели на выбранное устройство (GPU/CPU)\n",
    "        self.to(device)\n",
    "\n",
    "    def forward(self, x, hidden):\n",
    "        \"\"\"Прямой проход модели\n",
    "        Args:\n",
    "            x: Входные данные (последовательность индексов токенов)\n",
    "            hidden: Начальное скрытое состояние\n",
    "        Returns:\n",
    "            output: Выходные предсказания\n",
    "            hidden: Новое скрытое состояние\n",
    "        \"\"\"\n",
    "        # Перенос входных данных на нужное устройство\n",
    "        x = x.to(device)\n",
    "\n",
    "        # Преобразование индексов в векторные представления\n",
    "        embedded = self.embedding(x)\n",
    "\n",
    "        # Прямой проход через RNN слой\n",
    "        output, hidden = self.rnn(embedded, hidden)\n",
    "\n",
    "        # Преобразование выхода RNN:\n",
    "        # 1. Изменяем форму для полносвязного слоя (объединяем временные шаги и батч)\n",
    "        # 2. Применяем дополнительную FC сеть\n",
    "        output = output.view(-1, self.hidden_size)\n",
    "        output = self.fc(output)\n",
    "\n",
    "        return output, hidden\n",
    "\n",
    "    def init_hidden(self, batch_size):\n",
    "        \"\"\"Инициализация скрытого состояния\n",
    "        Args:\n",
    "            batch_size: Размер батча для правильной инициализации\n",
    "        Returns:\n",
    "            hidden: Нулевое скрытое состояние на правильном устройстве\n",
    "        \"\"\"\n",
    "        # Получаем пример тензора параметров для правильного устройства/типа\n",
    "        weight = next(self.parameters())\n",
    "\n",
    "        # Для LSTM возвращаем кортеж (hidden_state, cell_state)\n",
    "        if self.rnn_type == 'lstm':\n",
    "            return (weight.new_zeros(self.num_layers, batch_size, self.hidden_size),\n",
    "                    weight.new_zeros(self.num_layers, batch_size, self.hidden_size))\n",
    "        # Для RNN/GRU возвращаем только hidden_state\n",
    "        else:\n",
    "            return weight.new_zeros(self.num_layers, batch_size, self.hidden_size)"
   ]
  },
  {
   "cell_type": "code",
   "execution_count": 78,
   "metadata": {
    "executionInfo": {
     "elapsed": 21,
     "status": "ok",
     "timestamp": 1749843461636,
     "user": {
      "displayName": "Elena V. Razova",
      "userId": "14939859328445060819"
     },
     "user_tz": -180
    },
    "id": "fpiR6ZKfm9DN"
   },
   "outputs": [],
   "source": [
    "def train_model(model_type, num_layers_list, train_loader, val_loader,\n",
    "               vocab_size, embed_size=256, hidden_size=512,\n",
    "               epochs=20, patience=3):\n",
    "    \"\"\"Обучает RNN модель с разным количеством слоев и возвращает результаты\n",
    "\n",
    "    Args:\n",
    "        model_type (str): Тип RNN ('rnn', 'lstm' или 'gru')\n",
    "        num_layers_list (list): Список количеств слоев для экспериментов\n",
    "        train_loader (DataLoader): Загрузчик тренировочных данных\n",
    "        val_loader (DataLoader): Загрузчик валидационных данных\n",
    "        vocab_size (int): Размер словаря\n",
    "        embed_size (int, optional): Размер эмбеддингов. По умолчанию 256.\n",
    "        hidden_size (int, optional): Размер скрытого состояния. По умолчанию 512.\n",
    "        epochs (int, optional): Макс. количество эпох. По умолчанию 20.\n",
    "        patience (int, optional): Количество эпох для ранней остановки. По умолчанию 3.\n",
    "\n",
    "    Returns:\n",
    "        dict: Результаты для каждого количества слоев {num_layers: best_val_loss}\n",
    "    \"\"\"\n",
    "\n",
    "    # Словарь для сохранения результатов (количество слоев: лучший val_loss)\n",
    "    results = {}\n",
    "\n",
    "    # Перебираем все заданные количества слоев\n",
    "    for num_layers in num_layers_list:\n",
    "        print(f\"\\n=== Training {model_type.upper()} with {num_layers} layers ===\")\n",
    "\n",
    "        # 1. Инициализация модели с текущим количеством слоев\n",
    "        model = StackedRNN(\n",
    "            input_size=vocab_size,\n",
    "            embedding_size=embed_size,\n",
    "            hidden_size=hidden_size,\n",
    "            output_size=vocab_size,\n",
    "            num_layers=num_layers,\n",
    "            rnn_type=model_type\n",
    "        )\n",
    "\n",
    "        # 2. Настройка функции потерь, оптимизатора и планировщика LR\n",
    "        criterion = nn.CrossEntropyLoss(ignore_index=0).to(device)  # Игнорируем padding индекс 0\n",
    "        optimizer = torch.optim.Adam(model.parameters(),\n",
    "                                   lr=0.001,\n",
    "                                   weight_decay=1e-5)  # L2 регуляризация\n",
    "        scheduler = ReduceLROnPlateau(optimizer,\n",
    "                                    mode='min',       # Уменьшаем LR при уменьшении loss\n",
    "                                    patience=2,       # Ждем 2 эпохи без улучшений\n",
    "                                    factor=0.5)       # Умножаем LR на 0.5\n",
    "\n",
    "        # 3. Переменные для отслеживания лучшего результата и ранней остановки\n",
    "        best_val_loss = float('inf')\n",
    "        early_stop_counter = 0\n",
    "\n",
    "        # 4. Цикл обучения\n",
    "        for epoch in range(epochs):\n",
    "            # --- Фаза обучения ---\n",
    "            model.train()  # Переводим модель в режим обучения\n",
    "            train_loss = 0\n",
    "            input, target = random_training_set(data, seq_len, vocabulary, device)\n",
    "            input = input.view(-1, 1)\n",
    "            target = target.view(-1, 1)\n",
    "\n",
    "            for b in range(config['batch_size_train']-1):\n",
    "                sequence, target_seq = random_training_set(data, seq_len, vocabulary, device)\n",
    "\n",
    "                sequence = sequence.view(-1, 1)\n",
    "                target_seq = target_seq.view(-1, 1)\n",
    "\n",
    "                input = torch.cat((input, sequence), dim=1)\n",
    "                target = torch.cat((target, target_seq), dim=1)\n",
    "\n",
    "                # Перенос данных на GPU\n",
    "                input, target = input.to(device), target.to(device)\n",
    "\n",
    "                # Инициализация скрытого состояния для каждого батча\n",
    "                hidden = model.init_hidden(input.size(1))\n",
    "\n",
    "                # Обнуляем градиенты\n",
    "                optimizer.zero_grad()\n",
    "\n",
    "                # Прямой проход\n",
    "                output, _ = model(input, hidden)\n",
    "\n",
    "                # Вычисление потерь (выходные размеры: [seq_len*batch_size, vocab_size])\n",
    "                loss = criterion(output, target.view(-1))\n",
    "\n",
    "                # Обратный проход и оптимизация\n",
    "                loss.backward()\n",
    "\n",
    "                # Обрезаем градиенты для предотвращения \"взрыва\"\n",
    "                nn.utils.clip_grad_norm_(model.parameters(), 0.5)\n",
    "\n",
    "                # Шаг оптимизации\n",
    "                optimizer.step()\n",
    "\n",
    "                # Суммируем потери\n",
    "                train_loss += loss.item()\n",
    "\n",
    "            # --- Фаза валидации ---\n",
    "            val_loss = 0\n",
    "            model.eval()  # Переводим модель в режим оценки\n",
    "            with torch.no_grad():  # Отключаем вычисление градиентов\n",
    "                for b in range(config['batch_size_train']-1):\n",
    "                    sequence, target_seq = random_training_set(data, seq_len, vocabulary, device)\n",
    "                    sequence = sequence.view(-1, 1)\n",
    "                    target_seq = target_seq.view(-1, 1)\n",
    "\n",
    "                    input = torch.cat((input, sequence), dim=1)\n",
    "                    target = torch.cat((target, target_seq), dim=1)\n",
    "\n",
    "                    # Перенос данных на GPU\n",
    "                    input, target = input.to(device), target.to(device)\n",
    "                    hidden = model.init_hidden(input.size(1))\n",
    "                    outputs, _ = model(input, hidden)\n",
    "                    val_loss += criterion(outputs, target.view(-1)).item()\n",
    "\n",
    "            # Нормализуем потери по количеству батчей\n",
    "            train_loss /= config['batch_size_train']-1\n",
    "            val_loss /= config['batch_size_train']-1\n",
    "\n",
    "            # Обновляем learning rate на основе валидационных потерь\n",
    "            scheduler.step(val_loss)\n",
    "\n",
    "            # Выводим статистику\n",
    "            print(f\"Epoch {epoch+1}: Train Loss = {train_loss:.4f}, Val Loss = {val_loss:.4f}\")\n",
    "\n",
    "            # 5. Логика ранней остановки и сохранения лучшей модели\n",
    "            if val_loss < best_val_loss:\n",
    "                best_val_loss = val_loss\n",
    "                early_stop_counter = 0\n",
    "                # Сохраняем веса лучшей модели\n",
    "                torch.save(model.state_dict(), f\"best_{model_type}_{num_layers}layers.pt\")\n",
    "            else:\n",
    "                early_stop_counter += 1\n",
    "                # Если нет улучшений в течение patience эпох - останавливаемся\n",
    "                if early_stop_counter >= patience:\n",
    "                    print(f\"Early stopping at epoch {epoch+1}\")\n",
    "                    break\n",
    "\n",
    "        # Сохраняем лучший результат для текущего количества слоев\n",
    "        results[num_layers] = best_val_loss\n",
    "\n",
    "    return results\n"
   ]
  },
  {
   "cell_type": "code",
   "execution_count": 79,
   "metadata": {
    "executionInfo": {
     "elapsed": 3,
     "status": "ok",
     "timestamp": 1749845533209,
     "user": {
      "displayName": "Elena V. Razova",
      "userId": "14939859328445060819"
     },
     "user_tz": -180
    },
    "id": "o7yCWNFvorkZ"
   },
   "outputs": [],
   "source": [
    "# Анализ результатов\n",
    "def analyze_results(results):\n",
    "    print(\"\\n=== Результаты экспериментов ===\")\n",
    "\n",
    "    for model_type, layers_results in results.items():\n",
    "        print(f\"\\nМодель {model_type.upper()}:\")\n",
    "        for num_layers, val_loss in sorted(layers_results.items(), key=lambda item: item[1]):\n",
    "            print(f\"Слоёв: {num_layers}, Val Loss: {val_loss:.4f}\")\n",
    "\n",
    "    # Визуализация\n",
    "    import matplotlib.pyplot as plt\n",
    "\n",
    "    for model_type, layers_results in results.items():\n",
    "\n",
    "        layers = sorted(layers_results.keys())\n",
    "        losses = [layers_results[l] for l in layers]\n",
    "        plt.plot(layers, losses, marker='o', label=model_type)\n",
    "\n",
    "    plt.xlabel('Количество слоёв')\n",
    "    plt.ylabel('Validation Loss')\n",
    "    plt.title('Зависимость качества от количества слоёв')\n",
    "    plt.legend()\n",
    "    plt.grid()\n",
    "    plt.show()"
   ]
  },
  {
   "cell_type": "code",
   "execution_count": 80,
   "metadata": {
    "colab": {
     "base_uri": "https://localhost:8080/",
     "height": 1000
    },
    "executionInfo": {
     "elapsed": 177089,
     "status": "ok",
     "timestamp": 1749845808070,
     "user": {
      "displayName": "Elena V. Razova",
      "userId": "14939859328445060819"
     },
     "user_tz": -180
    },
    "id": "YANEwDfMo7bf",
    "outputId": "b3c01fb9-cd5f-454a-de8b-dc7dec7fb755"
   },
   "outputs": [
    {
     "name": "stdout",
     "output_type": "stream",
     "text": [
      "\n",
      "=== Training LSTM with 1 layers ===\n",
      "Epoch 1: Train Loss = 3.5087, Val Loss = 2.8396\n",
      "Epoch 2: Train Loss = 2.6549, Val Loss = 2.4425\n",
      "Epoch 3: Train Loss = 2.4360, Val Loss = 2.3034\n",
      "Epoch 4: Train Loss = 2.2646, Val Loss = 2.1724\n",
      "Epoch 5: Train Loss = 2.1994, Val Loss = 2.0543\n",
      "Epoch 6: Train Loss = 2.1962, Val Loss = 2.0636\n",
      "Epoch 7: Train Loss = 2.1401, Val Loss = 2.0245\n",
      "Epoch 8: Train Loss = 2.1090, Val Loss = 1.9872\n",
      "Epoch 9: Train Loss = 2.0437, Val Loss = 1.9586\n",
      "Epoch 10: Train Loss = 2.0482, Val Loss = 1.9569\n",
      "Epoch 11: Train Loss = 2.0663, Val Loss = 1.9447\n",
      "Epoch 12: Train Loss = 1.9207, Val Loss = 1.8722\n",
      "Epoch 13: Train Loss = 1.9846, Val Loss = 1.8601\n",
      "Epoch 14: Train Loss = 1.9603, Val Loss = 1.8830\n",
      "Epoch 15: Train Loss = 1.9918, Val Loss = 1.8608\n",
      "Epoch 16: Train Loss = 1.8643, Val Loss = 1.8203\n",
      "Epoch 17: Train Loss = 1.8888, Val Loss = 1.8241\n",
      "Epoch 18: Train Loss = 1.9871, Val Loss = 1.8514\n",
      "Epoch 19: Train Loss = 1.8748, Val Loss = 1.7764\n",
      "Epoch 20: Train Loss = 1.9275, Val Loss = 1.7923\n",
      "Epoch 21: Train Loss = 1.8789, Val Loss = 1.7737\n",
      "Epoch 22: Train Loss = 1.9342, Val Loss = 1.7794\n",
      "Epoch 23: Train Loss = 1.8869, Val Loss = 1.8085\n",
      "Epoch 24: Train Loss = 1.8788, Val Loss = 1.7800\n",
      "Early stopping at epoch 24\n",
      "\n",
      "=== Training LSTM with 2 layers ===\n",
      "Epoch 1: Train Loss = 3.5364, Val Loss = 2.9573\n",
      "Epoch 2: Train Loss = 2.6878, Val Loss = 2.4769\n",
      "Epoch 3: Train Loss = 2.5053, Val Loss = 2.3339\n",
      "Epoch 4: Train Loss = 2.4416, Val Loss = 2.2615\n",
      "Epoch 5: Train Loss = 2.3971, Val Loss = 2.2160\n",
      "Epoch 6: Train Loss = 2.2528, Val Loss = 2.1266\n",
      "Epoch 7: Train Loss = 2.2258, Val Loss = 2.0826\n",
      "Epoch 8: Train Loss = 2.2204, Val Loss = 2.0618\n",
      "Epoch 9: Train Loss = 2.2754, Val Loss = 2.0577\n",
      "Epoch 10: Train Loss = 2.1516, Val Loss = 1.9761\n",
      "Epoch 11: Train Loss = 2.1132, Val Loss = 1.9683\n",
      "Epoch 12: Train Loss = 2.0732, Val Loss = 1.9273\n",
      "Epoch 13: Train Loss = 2.1097, Val Loss = 1.9295\n",
      "Epoch 14: Train Loss = 2.1016, Val Loss = 1.8909\n",
      "Epoch 15: Train Loss = 2.0564, Val Loss = 1.9004\n",
      "Epoch 16: Train Loss = 2.0193, Val Loss = 1.8583\n",
      "Epoch 17: Train Loss = 2.0625, Val Loss = 1.8884\n",
      "Epoch 18: Train Loss = 2.0965, Val Loss = 1.9035\n",
      "Epoch 19: Train Loss = 2.0475, Val Loss = 1.8628\n",
      "Early stopping at epoch 19\n",
      "\n",
      "=== Training LSTM with 3 layers ===\n",
      "Epoch 1: Train Loss = 3.7038, Val Loss = 3.3543\n",
      "Epoch 2: Train Loss = 2.8542, Val Loss = 2.5517\n",
      "Epoch 3: Train Loss = 2.6099, Val Loss = 2.4296\n",
      "Epoch 4: Train Loss = 2.4390, Val Loss = 2.3212\n",
      "Epoch 5: Train Loss = 2.4056, Val Loss = 2.2759\n",
      "Epoch 6: Train Loss = 2.3802, Val Loss = 2.2104\n",
      "Epoch 7: Train Loss = 2.3157, Val Loss = 2.1576\n",
      "Epoch 8: Train Loss = 2.3049, Val Loss = 2.1139\n",
      "Epoch 9: Train Loss = 2.2533, Val Loss = 2.0948\n",
      "Epoch 10: Train Loss = 2.2305, Val Loss = 2.0807\n",
      "Epoch 11: Train Loss = 2.1374, Val Loss = 2.0324\n",
      "Epoch 12: Train Loss = 2.1930, Val Loss = 2.0317\n",
      "Epoch 13: Train Loss = 2.1668, Val Loss = 1.9909\n",
      "Epoch 14: Train Loss = 2.1697, Val Loss = 1.9801\n",
      "Epoch 15: Train Loss = 2.0869, Val Loss = 1.9330\n",
      "Epoch 16: Train Loss = 2.0903, Val Loss = 1.9037\n",
      "Epoch 17: Train Loss = 2.1360, Val Loss = 1.9219\n",
      "Epoch 18: Train Loss = 2.0778, Val Loss = 1.9173\n",
      "Epoch 19: Train Loss = 2.0944, Val Loss = 1.8995\n",
      "Epoch 20: Train Loss = 2.0893, Val Loss = 1.8805\n",
      "Epoch 21: Train Loss = 2.0184, Val Loss = 1.8910\n",
      "Epoch 22: Train Loss = 1.9677, Val Loss = 1.8481\n",
      "Epoch 23: Train Loss = 2.0452, Val Loss = 1.8453\n",
      "Epoch 24: Train Loss = 2.0201, Val Loss = 1.8493\n",
      "Epoch 25: Train Loss = 2.0059, Val Loss = 1.8172\n",
      "Epoch 26: Train Loss = 1.9652, Val Loss = 1.8085\n",
      "Epoch 27: Train Loss = 1.9716, Val Loss = 1.8139\n",
      "Epoch 28: Train Loss = 1.9990, Val Loss = 1.7905\n",
      "Epoch 29: Train Loss = 1.9752, Val Loss = 1.7926\n",
      "Epoch 30: Train Loss = 1.9470, Val Loss = 1.7474\n",
      "Epoch 31: Train Loss = 2.0014, Val Loss = 1.7956\n",
      "Epoch 32: Train Loss = 1.9087, Val Loss = 1.7643\n",
      "Epoch 33: Train Loss = 1.9344, Val Loss = 1.7284\n",
      "Epoch 34: Train Loss = 1.8566, Val Loss = 1.6983\n",
      "Epoch 35: Train Loss = 1.9659, Val Loss = 1.7368\n",
      "Epoch 36: Train Loss = 1.9528, Val Loss = 1.7623\n",
      "Epoch 37: Train Loss = 1.9288, Val Loss = 1.7048\n",
      "Early stopping at epoch 37\n",
      "\n",
      "=== Training LSTM with 4 layers ===\n",
      "Epoch 1: Train Loss = 3.7217, Val Loss = 3.4277\n",
      "Epoch 2: Train Loss = 3.0109, Val Loss = 2.7295\n",
      "Epoch 3: Train Loss = 2.6939, Val Loss = 2.4991\n",
      "Epoch 4: Train Loss = 2.5970, Val Loss = 2.4356\n",
      "Epoch 5: Train Loss = 2.5419, Val Loss = 2.3732\n",
      "Epoch 6: Train Loss = 2.4306, Val Loss = 2.2766\n",
      "Epoch 7: Train Loss = 2.4057, Val Loss = 2.2542\n",
      "Epoch 8: Train Loss = 2.3175, Val Loss = 2.1745\n",
      "Epoch 9: Train Loss = 2.2950, Val Loss = 2.1676\n",
      "Epoch 10: Train Loss = 2.3146, Val Loss = 2.1535\n",
      "Epoch 11: Train Loss = 2.2541, Val Loss = 2.1088\n",
      "Epoch 12: Train Loss = 2.2741, Val Loss = 2.0866\n",
      "Epoch 13: Train Loss = 2.2277, Val Loss = 2.0544\n",
      "Epoch 14: Train Loss = 2.2114, Val Loss = 2.0518\n",
      "Epoch 15: Train Loss = 2.1951, Val Loss = 2.0333\n",
      "Epoch 16: Train Loss = 2.1665, Val Loss = 2.0266\n",
      "Epoch 17: Train Loss = 2.0786, Val Loss = 1.9674\n",
      "Epoch 18: Train Loss = 2.1574, Val Loss = 1.9895\n",
      "Epoch 19: Train Loss = 2.1073, Val Loss = 1.9532\n",
      "Epoch 20: Train Loss = 2.1012, Val Loss = 1.9352\n",
      "Epoch 21: Train Loss = 2.1878, Val Loss = 1.9476\n",
      "Epoch 22: Train Loss = 2.0820, Val Loss = 1.9178\n",
      "Epoch 23: Train Loss = 2.0729, Val Loss = 1.8829\n",
      "Epoch 24: Train Loss = 2.0328, Val Loss = 1.8927\n",
      "Epoch 25: Train Loss = 2.0513, Val Loss = 1.8869\n",
      "Epoch 26: Train Loss = 2.0880, Val Loss = 1.9140\n",
      "Early stopping at epoch 26\n",
      "\n",
      "=== Training GPU with 1 layers ===\n",
      "Epoch 1: Train Loss = 3.5044, Val Loss = 2.8640\n",
      "Epoch 2: Train Loss = 2.6957, Val Loss = 2.5062\n",
      "Epoch 3: Train Loss = 2.4760, Val Loss = 2.3600\n",
      "Epoch 4: Train Loss = 2.3677, Val Loss = 2.2662\n",
      "Epoch 5: Train Loss = 2.2756, Val Loss = 2.2205\n",
      "Epoch 6: Train Loss = 2.2713, Val Loss = 2.1620\n",
      "Epoch 7: Train Loss = 2.2614, Val Loss = 2.1123\n",
      "Epoch 8: Train Loss = 2.1898, Val Loss = 2.1026\n",
      "Epoch 9: Train Loss = 2.1212, Val Loss = 2.0523\n",
      "Epoch 10: Train Loss = 2.1300, Val Loss = 2.0436\n",
      "Epoch 11: Train Loss = 2.1241, Val Loss = 2.0524\n",
      "Epoch 12: Train Loss = 2.0520, Val Loss = 1.9960\n",
      "Epoch 13: Train Loss = 2.0765, Val Loss = 1.9960\n",
      "Epoch 14: Train Loss = 2.1408, Val Loss = 2.0285\n",
      "Epoch 15: Train Loss = 2.0410, Val Loss = 1.9794\n",
      "Epoch 16: Train Loss = 2.1533, Val Loss = 2.0041\n",
      "Epoch 17: Train Loss = 2.0859, Val Loss = 2.0042\n",
      "Epoch 18: Train Loss = 2.0993, Val Loss = 1.9884\n",
      "Early stopping at epoch 18\n",
      "\n",
      "=== Training GPU with 2 layers ===\n",
      "Epoch 1: Train Loss = 3.5469, Val Loss = 2.8369\n",
      "Epoch 2: Train Loss = 2.7300, Val Loss = 2.5328\n",
      "Epoch 3: Train Loss = 2.5491, Val Loss = 2.3943\n",
      "Epoch 4: Train Loss = 2.4511, Val Loss = 2.3064\n",
      "Epoch 5: Train Loss = 2.4052, Val Loss = 2.2684\n",
      "Epoch 6: Train Loss = 2.3444, Val Loss = 2.1902\n",
      "Epoch 7: Train Loss = 2.3514, Val Loss = 2.1955\n",
      "Epoch 8: Train Loss = 2.3334, Val Loss = 2.1649\n",
      "Epoch 9: Train Loss = 2.2604, Val Loss = 2.1119\n",
      "Epoch 10: Train Loss = 2.2525, Val Loss = 2.1307\n",
      "Epoch 11: Train Loss = 2.2437, Val Loss = 2.1117\n",
      "Epoch 12: Train Loss = 2.2473, Val Loss = 2.0559\n",
      "Epoch 13: Train Loss = 2.2301, Val Loss = 2.0777\n",
      "Epoch 14: Train Loss = 2.2204, Val Loss = 2.0334\n",
      "Epoch 15: Train Loss = 2.2066, Val Loss = 2.0692\n",
      "Epoch 16: Train Loss = 2.2096, Val Loss = 2.0420\n",
      "Epoch 17: Train Loss = 2.1557, Val Loss = 2.0113\n",
      "Epoch 18: Train Loss = 2.1780, Val Loss = 1.9982\n",
      "Epoch 19: Train Loss = 2.0638, Val Loss = 1.9811\n",
      "Epoch 20: Train Loss = 2.1514, Val Loss = 1.9905\n",
      "Epoch 21: Train Loss = 2.1696, Val Loss = 1.9961\n",
      "Epoch 22: Train Loss = 2.1767, Val Loss = 1.9774\n",
      "Epoch 23: Train Loss = 2.1208, Val Loss = 1.9561\n",
      "Epoch 24: Train Loss = 2.1147, Val Loss = 1.9558\n",
      "Epoch 25: Train Loss = 2.1156, Val Loss = 1.9657\n",
      "Epoch 26: Train Loss = 2.1302, Val Loss = 1.9731\n",
      "Epoch 27: Train Loss = 2.1423, Val Loss = 1.9630\n",
      "Early stopping at epoch 27\n",
      "\n",
      "=== Training GPU with 3 layers ===\n",
      "Epoch 1: Train Loss = 3.4918, Val Loss = 2.7551\n",
      "Epoch 2: Train Loss = 2.7652, Val Loss = 2.5744\n",
      "Epoch 3: Train Loss = 2.5949, Val Loss = 2.4269\n",
      "Epoch 4: Train Loss = 2.5144, Val Loss = 2.3731\n",
      "Epoch 5: Train Loss = 2.5079, Val Loss = 2.3296\n",
      "Epoch 6: Train Loss = 2.4825, Val Loss = 2.3020\n",
      "Epoch 7: Train Loss = 2.4056, Val Loss = 2.2448\n",
      "Epoch 8: Train Loss = 2.3223, Val Loss = 2.1657\n",
      "Epoch 9: Train Loss = 2.3193, Val Loss = 2.1561\n",
      "Epoch 10: Train Loss = 2.2055, Val Loss = 2.1124\n",
      "Epoch 11: Train Loss = 2.2758, Val Loss = 2.1298\n",
      "Epoch 12: Train Loss = 2.2872, Val Loss = 2.0994\n",
      "Epoch 13: Train Loss = 2.2720, Val Loss = 2.1063\n",
      "Epoch 14: Train Loss = 2.2689, Val Loss = 2.1003\n",
      "Epoch 15: Train Loss = 2.2508, Val Loss = 2.0660\n",
      "Epoch 16: Train Loss = 2.2520, Val Loss = 2.0614\n",
      "Epoch 17: Train Loss = 2.2582, Val Loss = 2.0535\n",
      "Epoch 18: Train Loss = 2.2051, Val Loss = 2.0360\n",
      "Epoch 19: Train Loss = 2.2296, Val Loss = 2.0464\n",
      "Epoch 20: Train Loss = 2.1971, Val Loss = 2.0371\n",
      "Epoch 21: Train Loss = 2.1825, Val Loss = 2.0127\n",
      "Epoch 22: Train Loss = 2.1673, Val Loss = 1.9663\n",
      "Epoch 23: Train Loss = 2.1988, Val Loss = 2.0019\n",
      "Epoch 24: Train Loss = 2.2036, Val Loss = 1.9850\n",
      "Epoch 25: Train Loss = 2.1724, Val Loss = 1.9735\n",
      "Early stopping at epoch 25\n",
      "\n",
      "=== Training GPU with 4 layers ===\n",
      "Epoch 1: Train Loss = 3.5695, Val Loss = 2.8043\n",
      "Epoch 2: Train Loss = 2.8128, Val Loss = 2.6305\n",
      "Epoch 3: Train Loss = 2.6673, Val Loss = 2.5214\n",
      "Epoch 4: Train Loss = 2.5927, Val Loss = 2.4690\n",
      "Epoch 5: Train Loss = 2.5143, Val Loss = 2.3626\n",
      "Epoch 6: Train Loss = 2.4961, Val Loss = 2.3431\n",
      "Epoch 7: Train Loss = 2.4749, Val Loss = 2.2943\n",
      "Epoch 8: Train Loss = 2.4216, Val Loss = 2.2583\n",
      "Epoch 9: Train Loss = 2.4005, Val Loss = 2.2516\n",
      "Epoch 10: Train Loss = 2.3633, Val Loss = 2.2110\n",
      "Epoch 11: Train Loss = 2.3022, Val Loss = 2.1582\n",
      "Epoch 12: Train Loss = 2.2420, Val Loss = 2.1683\n",
      "Epoch 13: Train Loss = 2.3405, Val Loss = 2.1760\n",
      "Epoch 14: Train Loss = 2.2829, Val Loss = 2.1364\n",
      "Epoch 15: Train Loss = 2.2739, Val Loss = 2.1213\n",
      "Epoch 16: Train Loss = 2.3106, Val Loss = 2.1428\n",
      "Epoch 17: Train Loss = 2.3146, Val Loss = 2.1281\n",
      "Epoch 18: Train Loss = 2.1706, Val Loss = 2.0580\n",
      "Epoch 19: Train Loss = 2.2379, Val Loss = 2.0901\n",
      "Epoch 20: Train Loss = 2.2326, Val Loss = 2.0904\n",
      "Epoch 21: Train Loss = 2.2133, Val Loss = 2.0588\n",
      "Early stopping at epoch 21\n",
      "\n",
      "=== Результаты экспериментов ===\n",
      "\n",
      "Модель LSTM:\n",
      "Слоёв: 3, Val Loss: 1.6983\n",
      "Слоёв: 1, Val Loss: 1.7737\n",
      "Слоёв: 2, Val Loss: 1.8583\n",
      "Слоёв: 4, Val Loss: 1.8829\n",
      "\n",
      "Модель GPU:\n",
      "Слоёв: 2, Val Loss: 1.9558\n",
      "Слоёв: 3, Val Loss: 1.9663\n",
      "Слоёв: 1, Val Loss: 1.9794\n",
      "Слоёв: 4, Val Loss: 2.0580\n"
     ]
    },
    {
     "data": {
      "image/png": "[encoded data removed]",
      "text/plain": [
       "<Figure size 640x480 with 1 Axes>"
      ]
     },
     "metadata": {},
     "output_type": "display_data"
    }
   ],
   "source": [
    "num_layers_list = [1, 2, 3, 4]  # Количество слоёв\n",
    "model_types = ['lstm', 'gpu']    # LSTM лучшие результаты, но сравним с результатами GRU\n",
    "results = {}\n",
    "for model_type in model_types:\n",
    "    result = train_model(model_type, num_layers_list, data, data,\n",
    "                  len(vocabulary), embed_size=embedding_size,\n",
    "                  hidden_size=hidden_size, epochs=300, patience=3)\n",
    "    results[model_type] = result\n",
    "analyze_results(results)"
   ]
  },
  {
   "cell_type": "markdown",
   "metadata": {
    "id": "tLLE58pz7CUx"
   },
   "source": [
    "**Вывод:** лучшее качество показывает LSTM с тремя слоями"
   ]
  },
  {
   "cell_type": "markdown",
   "metadata": {
    "id": "6BOUYHFmLy84"
   },
   "source": [
    "#### Задание 6.\n",
    "Прочитайте в [Николенко и др., 2018, стр. 266] о понятии \"температура\", которое часто используется при генерации текстов.  \n",
    "Добавьте данный параметр в функцию `evaluate()`.  \n",
    "Проверьте его влияние на результаты генерации."
   ]
  },
  {
   "cell_type": "markdown",
   "metadata": {
    "id": "nUQitsngLy84"
   },
   "source": [
    "#### Задание 7 (факультативное).\n",
    "Разбейте текст на последовательности не случайным образом, а по предложениям.  \n",
    "Предложения можно получить из текста при помощи функции `nltk.tokenize.sent_tokenize()`.  \n",
    "Так как предложения окажутся неодинаковой длины, а последовательности на вход модели должны поступать одинакового размера, придется дополнить предложения до максимальной длины символом, не входящим в словарь (например, каким-нибудь из [управляющих символов](https://ru.wikipedia.org/wiki/Управляющие_символы) `\\0`, `\\a`, `\\b` и т.д.)."
   ]
  },
  {
   "cell_type": "markdown",
   "metadata": {
    "id": "ddgNbSO3Ly84"
   },
   "source": [
    "#### Задание 8 (факультативное).\n",
    "Реализуйте стратегию 3 из учебника [Николенко и др., 2018, стр. 260] – разбиение текста на последовательности примерно одной длины с правильно инициализированными скрытыми состояниями рекуррентной сети."
   ]
  }
 ],
 "metadata": {
  "accelerator": "GPU",
  "colab": {
   "gpuType": "T4",
   "provenance": []
  },
  "kernelspec": {
   "display_name": "Python 3",
   "name": "python3"
  },
  "language_info": {
   "codemirror_mode": {
    "name": "ipython",
    "version": 3
   },
   "file_extension": ".py",
   "mimetype": "text/x-python",
   "name": "python",
   "nbconvert_exporter": "python",
   "pygments_lexer": "ipython3",
   "version": "3.13.3"
  }
 },
 "nbformat": 4,
 "nbformat_minor": 0
}
