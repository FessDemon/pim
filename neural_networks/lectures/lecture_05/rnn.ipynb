{
 "cells": [
  {
   "cell_type": "markdown",
   "metadata": {},
   "source": [
    "# Демонстрация Simple (Vanilla) RNN в PyTorch"
   ]
  },
  {
   "cell_type": "code",
   "execution_count": 1,
   "metadata": {},
   "outputs": [],
   "source": [
    "import torch\n",
    "from torch import nn"
   ]
  },
  {
   "cell_type": "markdown",
   "metadata": {},
   "source": [
    "### 1. Однонаправленная однослойная Simple RNN\n",
    "https://pytorch.org/docs/stable/generated/torch.nn.RNN.html"
   ]
  },
  {
   "cell_type": "markdown",
   "metadata": {},
   "source": [
    "Задаем параметры сети:"
   ]
  },
  {
   "cell_type": "code",
   "execution_count": 2,
   "metadata": {},
   "outputs": [],
   "source": [
    "seq_len = 3             # Длина входной последовательности\n",
    "batch_size = 2          # Размер батча\n",
    "input_size = 2          # Размерность входа (количество признаков)\n",
    "hidden_size = 3         # Размерность скрытого состояния\n",
    "num_layers = 1          # Количество слоев\n",
    "nonlinearity='tanh'     # Функция активации\n",
    "bidirectional = False   # Двунаправленность сети\n",
    "if bidirectional:       \n",
    "    num_directions = 2\n",
    "else:\n",
    "    num_directions = 1"
   ]
  },
  {
   "cell_type": "markdown",
   "metadata": {},
   "source": [
    "Обеспечиваем воспроизводимость результатов (https://pytorch.org/docs/stable/notes/randomness.html):"
   ]
  },
  {
   "cell_type": "code",
   "execution_count": 3,
   "metadata": {},
   "outputs": [
    {
     "data": {
      "text/plain": [
       "<torch._C.Generator at 0x19438d03530>"
      ]
     },
     "execution_count": 3,
     "metadata": {},
     "output_type": "execute_result"
    }
   ],
   "source": [
    "torch.manual_seed(0)"
   ]
  },
  {
   "cell_type": "markdown",
   "metadata": {},
   "source": [
    "Создаем RNN-сеть:"
   ]
  },
  {
   "cell_type": "code",
   "execution_count": 4,
   "metadata": {},
   "outputs": [
    {
     "data": {
      "text/plain": [
       "RNN(2, 3)"
      ]
     },
     "execution_count": 4,
     "metadata": {},
     "output_type": "execute_result"
    }
   ],
   "source": [
    "rnn_1_layers = nn.RNN(\n",
    "    input_size=input_size,\n",
    "    hidden_size=hidden_size,\n",
    "    num_layers=num_layers,\n",
    "    nonlinearity=nonlinearity,\n",
    "    bias=True,\n",
    "    batch_first=False,\n",
    "    dropout=0,\n",
    "    bidirectional=bidirectional\n",
    ")\n",
    "rnn_1_layers"
   ]
  },
  {
   "cell_type": "markdown",
   "metadata": {},
   "source": [
    "Зададим функцию для вывода весов с названиями переменных:"
   ]
  },
  {
   "cell_type": "code",
   "execution_count": 5,
   "metadata": {},
   "outputs": [],
   "source": [
    "def print_named_parameters(model):\n",
    "    s = 0\n",
    "    for parameter in model.named_parameters():\n",
    "        print(f'\\n{parameter[0]}: {list(parameter[1].data.size())} - {parameter[1].numel()} weights\\n{parameter[1].data}')\n",
    "        s += parameter[1].numel()\n",
    "    print(f'\\nTotal number of parameters = {s}')"
   ]
  },
  {
   "cell_type": "markdown",
   "metadata": {},
   "source": [
    "Выводим все веса с названиями переменных:"
   ]
  },
  {
   "cell_type": "code",
   "execution_count": 6,
   "metadata": {},
   "outputs": [
    {
     "name": "stdout",
     "output_type": "stream",
     "text": [
      "\n",
      "weight_ih_l0: [3, 2] - 6 weights\n",
      "tensor([[-0.0043,  0.3097],\n",
      "        [-0.4752, -0.4249],\n",
      "        [-0.2224,  0.1548]])\n",
      "\n",
      "weight_hh_l0: [3, 3] - 9 weights\n",
      "tensor([[-0.0114,  0.4578, -0.0512],\n",
      "        [ 0.1528, -0.1745, -0.1135],\n",
      "        [-0.5516, -0.3824, -0.2380]])\n",
      "\n",
      "bias_ih_l0: [3] - 3 weights\n",
      "tensor([0.0214, 0.2282, 0.3464])\n",
      "\n",
      "bias_hh_l0: [3] - 3 weights\n",
      "tensor([-0.3914, -0.2514,  0.2097])\n",
      "\n",
      "Total number of parameters = 21\n"
     ]
    }
   ],
   "source": [
    "print_named_parameters(rnn_1_layers)"
   ]
  },
  {
   "attachments": {
    "901388d1-e674-4fd9-81d0-db0dbe7d17ff.png": {
     "image/png": "[encoded data removed]"
    }
   },
   "cell_type": "markdown",
   "metadata": {},
   "source": [
    "---\n",
    "Задаем вход сети:\n",
    "- последовательность из `seq_len` батчей,\n",
    "- в каждом батче `batch_size` примеров,\n",
    "- размерность каждого примера: `input_size`\n",
    "\n",
    "![image.png](attachment:901388d1-e674-4fd9-81d0-db0dbe7d17ff.png)"
   ]
  },
  {
   "cell_type": "code",
   "execution_count": 7,
   "metadata": {},
   "outputs": [
    {
     "name": "stdout",
     "output_type": "stream",
     "text": [
      "input_data.shape = torch.Size([3, 2, 2])\n",
      "\n",
      "input_data:\n",
      "tensor([[[ 1.,  2.],\n",
      "         [ 3.,  4.]],\n",
      "\n",
      "        [[ 5.,  6.],\n",
      "         [ 7.,  8.]],\n",
      "\n",
      "        [[ 9., 10.],\n",
      "         [11., 12.]]])\n"
     ]
    }
   ],
   "source": [
    "# shape of input: (seq_len, batch_size, input_size)\n",
    "\n",
    "m = 1\n",
    "input_data = torch.Tensor()\n",
    "for i in range(seq_len):\n",
    "    \n",
    "    batch = torch.Tensor()\n",
    "    \n",
    "    for j in range(batch_size):\n",
    "        sample = torch.Tensor()\n",
    "    \n",
    "        for k in range(input_size):\n",
    "            new_element = torch.tensor([m])\n",
    "            sample = torch.cat((sample, new_element), dim=0)\n",
    "            m += 1\n",
    "        \n",
    "        sample = sample.reshape(1, input_size)\n",
    "        \n",
    "        batch = torch.cat((batch, sample), dim=0)\n",
    "    \n",
    "    batch = batch.reshape(1, batch_size, input_size)\n",
    "    input_data = torch.cat((input_data, batch), dim=0)\n",
    "\n",
    "print(f'input_data.shape = {input_data.shape}')\n",
    "print(f'\\ninput_data:\\n{input_data}')"
   ]
  },
  {
   "cell_type": "markdown",
   "metadata": {},
   "source": [
    "---\n",
    "Подаем на сеть входные данные, выводим результат:"
   ]
  },
  {
   "cell_type": "code",
   "execution_count": 8,
   "metadata": {},
   "outputs": [
    {
     "name": "stdout",
     "output_type": "stream",
     "text": [
      "output.shape = torch.Size([3, 2, 3])\n",
      "\n",
      "output = tensor([[[ 0.2403, -0.8736,  0.5672],\n",
      "         [ 0.6941, -0.9963,  0.4686]],\n",
      "\n",
      "        [[ 0.7759, -0.9999,  0.4134],\n",
      "         [ 0.9201, -1.0000,  0.1240]],\n",
      "\n",
      "        [[ 0.9758, -1.0000, -0.0410],\n",
      "         [ 0.9930, -1.0000, -0.1846]]])\n",
      "\n",
      "hn.shape = torch.Size([1, 2, 3])\n",
      "\n",
      "hn = tensor([[[ 0.9758, -1.0000, -0.0410],\n",
      "         [ 0.9930, -1.0000, -0.1846]]])\n"
     ]
    }
   ],
   "source": [
    "# shape of output: (seq_len, batch_size, num_directions * hidden_size)\n",
    "output_rnn_1_layers, hn_rnn_1_layers = rnn_1_layers(input_data)\n",
    "\n",
    "print(f'output.shape = {output_rnn_1_layers.shape}')\n",
    "print(f'\\noutput = {output_rnn_1_layers.data}')\n",
    "print(f'\\nhn.shape = {hn_rnn_1_layers.shape}')\n",
    "print(f'\\nhn = {hn_rnn_1_layers.data}')"
   ]
  },
  {
   "cell_type": "markdown",
   "metadata": {},
   "source": [
    "---\n",
    "Воспроизведём поведение RNN-сети при помощи самостоятельно заданной функции.  \n",
    "Скрытое состояние и выход RNN-сети на шаге $t$ определяется по формуле:  \n",
    "\n",
    "$$h_t=tanh(Ux_t+b_{ih}+Wh_{t-1}+b_{hh})$$"
   ]
  },
  {
   "cell_type": "code",
   "execution_count": 9,
   "metadata": {},
   "outputs": [],
   "source": [
    "def rnn_function(x, h, U, W, b):\n",
    "    outputs = torch.Tensor()\n",
    "    \n",
    "    # Проходим по последовательности входов\n",
    "    for i, x_t in enumerate(x):\n",
    "        print(f'---------- Мини-батч {i+1} из {len(x)} ----------')\n",
    "        print(f'x_t (shape = {list(x_t.shape)}):\\n{x_t.data}\\n')\n",
    "        \n",
    "        print(f'U (shape = {list(U.shape)}):\\n{U.data}\\n')\n",
    "        \n",
    "        U_x = torch.matmul(U, x_t.T)\n",
    "        \n",
    "        print(f'U_x (shape = {list(U_x.shape)}):\\n{U_x.data}\\n')\n",
    "        \n",
    "        print(f'W (shape = {list(W.shape)}):\\n{W.data}\\n')\n",
    "        \n",
    "        print(f'h_t-1 (shape = {list(h.shape)}):\\n{h.data}\\n')      \n",
    "        \n",
    "        W_h = torch.matmul(W, h.T)\n",
    "        \n",
    "        print(f'W_h (shape = {list(W_h.shape)}):\\n{W_h.data}\\n')\n",
    "        \n",
    "        b = b.reshape(W_h.shape[0], 1)\n",
    "        \n",
    "        b_multiple = torch.Tensor()\n",
    "        for j in range(W_h.shape[1]):\n",
    "            b_multiple = torch.cat((b_multiple, b), dim=1)\n",
    "        \n",
    "        print(f'b (shape = {list(b_multiple.shape)}):\\n{b_multiple.data}\\n')\n",
    "        \n",
    "        sum = U_x + W_h + b_multiple\n",
    "        \n",
    "        print(f'U_x + W_h + b (shape = {list(sum.shape)}):\\n{sum.data}\\n')\n",
    "        \n",
    "        h = torch.tanh(sum)\n",
    "        h = h.T\n",
    "        \n",
    "        print(f'h (shape = {list(h.shape)})\\n{h.data}\\n')\n",
    "        print()\n",
    "        \n",
    "        outputs = torch.cat((outputs, h), dim=0)\n",
    "        \n",
    "    return outputs"
   ]
  },
  {
   "cell_type": "markdown",
   "metadata": {},
   "source": [
    "Скрытое состояние = 0.  \n",
    "Матрицы берем из созданной RNN-сети:"
   ]
  },
  {
   "cell_type": "code",
   "execution_count": 10,
   "metadata": {},
   "outputs": [
    {
     "name": "stdout",
     "output_type": "stream",
     "text": [
      "---------- Мини-батч 1 из 3 ----------\n",
      "x_t (shape = [2, 2]):\n",
      "tensor([[1., 2.],\n",
      "        [3., 4.]])\n",
      "\n",
      "U (shape = [3, 2]):\n",
      "tensor([[-0.0043,  0.3097],\n",
      "        [-0.4752, -0.4249],\n",
      "        [-0.2224,  0.1548]])\n",
      "\n",
      "U_x (shape = [3, 2]):\n",
      "tensor([[ 0.6151,  1.2259],\n",
      "        [-1.3250, -3.1251],\n",
      "        [ 0.0873, -0.0478]])\n",
      "\n",
      "W (shape = [3, 3]):\n",
      "tensor([[-0.0114,  0.4578, -0.0512],\n",
      "        [ 0.1528, -0.1745, -0.1135],\n",
      "        [-0.5516, -0.3824, -0.2380]])\n",
      "\n",
      "h_t-1 (shape = [2, 3]):\n",
      "tensor([[0., 0., 0.],\n",
      "        [0., 0., 0.]])\n",
      "\n",
      "W_h (shape = [3, 2]):\n",
      "tensor([[0., 0.],\n",
      "        [0., 0.],\n",
      "        [0., 0.]])\n",
      "\n",
      "b (shape = [3, 2]):\n",
      "tensor([[-0.3700, -0.3700],\n",
      "        [-0.0232, -0.0232],\n",
      "        [ 0.5561,  0.5561]])\n",
      "\n",
      "U_x + W_h + b (shape = [3, 2]):\n",
      "tensor([[ 0.2451,  0.8559],\n",
      "        [-1.3481, -3.1483],\n",
      "        [ 0.6434,  0.5083]])\n",
      "\n",
      "h (shape = [2, 3])\n",
      "tensor([[ 0.2403, -0.8736,  0.5672],\n",
      "        [ 0.6941, -0.9963,  0.4686]])\n",
      "\n",
      "\n",
      "---------- Мини-батч 2 из 3 ----------\n",
      "x_t (shape = [2, 2]):\n",
      "tensor([[5., 6.],\n",
      "        [7., 8.]])\n",
      "\n",
      "U (shape = [3, 2]):\n",
      "tensor([[-0.0043,  0.3097],\n",
      "        [-0.4752, -0.4249],\n",
      "        [-0.2224,  0.1548]])\n",
      "\n",
      "U_x (shape = [3, 2]):\n",
      "tensor([[ 1.8367,  2.4475],\n",
      "        [-4.9253, -6.7255],\n",
      "        [-0.1829, -0.3180]])\n",
      "\n",
      "W (shape = [3, 3]):\n",
      "tensor([[-0.0114,  0.4578, -0.0512],\n",
      "        [ 0.1528, -0.1745, -0.1135],\n",
      "        [-0.5516, -0.3824, -0.2380]])\n",
      "\n",
      "h_t-1 (shape = [2, 3]):\n",
      "tensor([[ 0.2403, -0.8736,  0.5672],\n",
      "        [ 0.6941, -0.9963,  0.4686]])\n",
      "\n",
      "W_h (shape = [3, 2]):\n",
      "tensor([[-0.4317, -0.4880],\n",
      "        [ 0.1248,  0.2267],\n",
      "        [ 0.0665, -0.1134]])\n",
      "\n",
      "b (shape = [3, 2]):\n",
      "tensor([[-0.3700, -0.3700],\n",
      "        [-0.0232, -0.0232],\n",
      "        [ 0.5561,  0.5561]])\n",
      "\n",
      "U_x + W_h + b (shape = [3, 2]):\n",
      "tensor([[ 1.0349,  1.5894],\n",
      "        [-4.8237, -6.5219],\n",
      "        [ 0.4397,  0.1247]])\n",
      "\n",
      "h (shape = [2, 3])\n",
      "tensor([[ 0.7759, -0.9999,  0.4134],\n",
      "        [ 0.9201, -1.0000,  0.1240]])\n",
      "\n",
      "\n",
      "---------- Мини-батч 3 из 3 ----------\n",
      "x_t (shape = [2, 2]):\n",
      "tensor([[ 9., 10.],\n",
      "        [11., 12.]])\n",
      "\n",
      "U (shape = [3, 2]):\n",
      "tensor([[-0.0043,  0.3097],\n",
      "        [-0.4752, -0.4249],\n",
      "        [-0.2224,  0.1548]])\n",
      "\n",
      "U_x (shape = [3, 2]):\n",
      "tensor([[  3.0583,   3.6690],\n",
      "        [ -8.5256, -10.3258],\n",
      "        [ -0.4531,  -0.5882]])\n",
      "\n",
      "W (shape = [3, 3]):\n",
      "tensor([[-0.0114,  0.4578, -0.0512],\n",
      "        [ 0.1528, -0.1745, -0.1135],\n",
      "        [-0.5516, -0.3824, -0.2380]])\n",
      "\n",
      "h_t-1 (shape = [2, 3]):\n",
      "tensor([[ 0.7759, -0.9999,  0.4134],\n",
      "        [ 0.9201, -1.0000,  0.1240]])\n",
      "\n",
      "W_h (shape = [3, 2]):\n",
      "tensor([[-0.4878, -0.4747],\n",
      "        [ 0.2461,  0.3010],\n",
      "        [-0.1440, -0.1546]])\n",
      "\n",
      "b (shape = [3, 2]):\n",
      "tensor([[-0.3700, -0.3700],\n",
      "        [-0.0232, -0.0232],\n",
      "        [ 0.5561,  0.5561]])\n",
      "\n",
      "U_x + W_h + b (shape = [3, 2]):\n",
      "tensor([[  2.2005,   2.8244],\n",
      "        [ -8.3027, -10.0480],\n",
      "        [ -0.0410,  -0.1867]])\n",
      "\n",
      "h (shape = [2, 3])\n",
      "tensor([[ 0.9758, -1.0000, -0.0410],\n",
      "        [ 0.9930, -1.0000, -0.1846]])\n",
      "\n",
      "\n",
      "********** Результат **********\n",
      "\n",
      "tensor([[ 0.2403, -0.8736,  0.5672],\n",
      "        [ 0.6941, -0.9963,  0.4686],\n",
      "        [ 0.7759, -0.9999,  0.4134],\n",
      "        [ 0.9201, -1.0000,  0.1240],\n",
      "        [ 0.9758, -1.0000, -0.0410],\n",
      "        [ 0.9930, -1.0000, -0.1846]])\n"
     ]
    }
   ],
   "source": [
    "h0 = torch.zeros(batch_size, num_directions * hidden_size)\n",
    "W0 = rnn_1_layers.weight_hh_l0\n",
    "U0 = rnn_1_layers.weight_ih_l0\n",
    "b0 = rnn_1_layers.bias_hh_l0 + rnn_1_layers.bias_ih_l0\n",
    "\n",
    "output0 = rnn_function(input_data, h0, U0, W0, b0)\n",
    "print(f'********** Результат **********\\n\\n{output0.data}')"
   ]
  },
  {
   "cell_type": "markdown",
   "metadata": {},
   "source": [
    "---\n",
    "Сравним с результатом RNN, полученным выше:"
   ]
  },
  {
   "cell_type": "code",
   "execution_count": 11,
   "metadata": {},
   "outputs": [
    {
     "data": {
      "text/plain": [
       "tensor([[[ 0.2403, -0.8736,  0.5672],\n",
       "         [ 0.6941, -0.9963,  0.4686]],\n",
       "\n",
       "        [[ 0.7759, -0.9999,  0.4134],\n",
       "         [ 0.9201, -1.0000,  0.1240]],\n",
       "\n",
       "        [[ 0.9758, -1.0000, -0.0410],\n",
       "         [ 0.9930, -1.0000, -0.1846]]])"
      ]
     },
     "execution_count": 11,
     "metadata": {},
     "output_type": "execute_result"
    }
   ],
   "source": [
    "output_rnn_1_layers.data"
   ]
  },
  {
   "cell_type": "markdown",
   "metadata": {},
   "source": [
    "### 2. Однонаправленная двухслойная Simple RNN"
   ]
  },
  {
   "cell_type": "markdown",
   "metadata": {},
   "source": [
    "Задаем количество слоёв:"
   ]
  },
  {
   "cell_type": "code",
   "execution_count": 12,
   "metadata": {},
   "outputs": [],
   "source": [
    "num_layers = 2"
   ]
  },
  {
   "cell_type": "markdown",
   "metadata": {},
   "source": [
    "Создаем сеть:"
   ]
  },
  {
   "cell_type": "code",
   "execution_count": 13,
   "metadata": {},
   "outputs": [
    {
     "data": {
      "text/plain": [
       "RNN(2, 3, num_layers=2)"
      ]
     },
     "execution_count": 13,
     "metadata": {},
     "output_type": "execute_result"
    }
   ],
   "source": [
    "rnn_2_layers = nn.RNN(\n",
    "    input_size=input_size,\n",
    "    hidden_size=hidden_size,\n",
    "    num_layers=num_layers,\n",
    "    nonlinearity=nonlinearity,\n",
    "    bias=True,\n",
    "    batch_first=False,\n",
    "    dropout=0,\n",
    "    bidirectional=bidirectional\n",
    ")\n",
    "rnn_2_layers"
   ]
  },
  {
   "cell_type": "markdown",
   "metadata": {},
   "source": [
    "Выводим все веса с названиями переменных:"
   ]
  },
  {
   "cell_type": "code",
   "execution_count": 14,
   "metadata": {},
   "outputs": [
    {
     "name": "stdout",
     "output_type": "stream",
     "text": [
      "\n",
      "weight_ih_l0: [3, 2] - 6 weights\n",
      "tensor([[ 0.4794, -0.1188],\n",
      "        [ 0.4320, -0.0931],\n",
      "        [ 0.0611,  0.5228]])\n",
      "\n",
      "weight_hh_l0: [3, 3] - 9 weights\n",
      "tensor([[-0.5356, -0.3635, -0.1462],\n",
      "        [-0.2251,  0.4988, -0.3742],\n",
      "        [-0.2658, -0.4034, -0.5407]])\n",
      "\n",
      "bias_ih_l0: [3] - 3 weights\n",
      "tensor([-0.3370,  0.4963,  0.2576])\n",
      "\n",
      "bias_hh_l0: [3] - 3 weights\n",
      "tensor([ 0.2798,  0.0304, -0.2960])\n",
      "\n",
      "weight_ih_l1: [3, 3] - 9 weights\n",
      "tensor([[ 0.0977, -0.5391, -0.4172],\n",
      "        [-0.2976,  0.3643,  0.3385],\n",
      "        [-0.2561, -0.0208,  0.3693]])\n",
      "\n",
      "weight_hh_l1: [3, 3] - 9 weights\n",
      "tensor([[ 0.5740,  0.2291,  0.0780],\n",
      "        [ 0.3871, -0.3399,  0.1076],\n",
      "        [-0.4476, -0.4002, -0.2982]])\n",
      "\n",
      "bias_ih_l1: [3] - 3 weights\n",
      "tensor([ 0.2612,  0.2322, -0.3420])\n",
      "\n",
      "bias_hh_l1: [3] - 3 weights\n",
      "tensor([ 0.1744,  0.3169, -0.0729])\n",
      "\n",
      "Total number of parameters = 45\n"
     ]
    }
   ],
   "source": [
    "print_named_parameters(rnn_2_layers)"
   ]
  },
  {
   "cell_type": "markdown",
   "metadata": {},
   "source": [
    "---\n",
    "Подаем на сеть входные данные, выводим результат:"
   ]
  },
  {
   "cell_type": "code",
   "execution_count": 15,
   "metadata": {},
   "outputs": [
    {
     "name": "stdout",
     "output_type": "stream",
     "text": [
      "output.shape = torch.Size([3, 2, 3])\n",
      "\n",
      "output = tensor([[[-0.2214,  0.7608, -0.1818],\n",
      "         [-0.3668,  0.7583, -0.2513]],\n",
      "\n",
      "        [[-0.3690,  0.5568, -0.4072],\n",
      "         [-0.4489,  0.5022, -0.3477]],\n",
      "\n",
      "        [[-0.4933,  0.5269, -0.2464],\n",
      "         [-0.5320,  0.5186, -0.2136]]])\n",
      "\n",
      "hn.shape = torch.Size([2, 2, 3])\n",
      "\n",
      "hn = tensor([[[ 0.9721,  0.9978,  0.9998],\n",
      "         [ 0.9926,  0.9994,  1.0000]],\n",
      "\n",
      "        [[-0.4933,  0.5269, -0.2464],\n",
      "         [-0.5320,  0.5186, -0.2136]]])\n"
     ]
    }
   ],
   "source": [
    "# shape of output: (seq_len, batch_size, num_directions * hidden_size)\n",
    "output_rnn_2_layers, hn_rnn_2_layers = rnn_2_layers(input_data)\n",
    "\n",
    "print(f'output.shape = {output_rnn_2_layers.shape}')\n",
    "print(f'\\noutput = {output_rnn_2_layers.data}')\n",
    "print(f'\\nhn.shape = {hn_rnn_2_layers.shape}')\n",
    "print(f'\\nhn = {hn_rnn_2_layers.data}')"
   ]
  },
  {
   "cell_type": "markdown",
   "metadata": {},
   "source": [
    "---\n",
    "Воспроизводим поведение RNN-сети при помощи ранее определенной функции:"
   ]
  },
  {
   "cell_type": "code",
   "execution_count": 16,
   "metadata": {},
   "outputs": [
    {
     "name": "stdout",
     "output_type": "stream",
     "text": [
      "********** Первый слой **********\n",
      "\n",
      "---------- Мини-батч 1 из 3 ----------\n",
      "x_t (shape = [2, 2]):\n",
      "tensor([[1., 2.],\n",
      "        [3., 4.]])\n",
      "\n",
      "U (shape = [3, 2]):\n",
      "tensor([[ 0.4794, -0.1188],\n",
      "        [ 0.4320, -0.0931],\n",
      "        [ 0.0611,  0.5228]])\n",
      "\n",
      "U_x (shape = [3, 2]):\n",
      "tensor([[0.2418, 0.9630],\n",
      "        [0.2459, 0.9239],\n",
      "        [1.1066, 2.2744]])\n",
      "\n",
      "W (shape = [3, 3]):\n",
      "tensor([[-0.5356, -0.3635, -0.1462],\n",
      "        [-0.2251,  0.4988, -0.3742],\n",
      "        [-0.2658, -0.4034, -0.5407]])\n",
      "\n",
      "h_t-1 (shape = [2, 3]):\n",
      "tensor([[0., 0., 0.],\n",
      "        [0., 0., 0.]])\n",
      "\n",
      "W_h (shape = [3, 2]):\n",
      "tensor([[0., 0.],\n",
      "        [0., 0.],\n",
      "        [0., 0.]])\n",
      "\n",
      "b (shape = [3, 2]):\n",
      "tensor([[-0.0572, -0.0572],\n",
      "        [ 0.5267,  0.5267],\n",
      "        [-0.0384, -0.0384]])\n",
      "\n",
      "U_x + W_h + b (shape = [3, 2]):\n",
      "tensor([[0.1846, 0.9058],\n",
      "        [0.7726, 1.4505],\n",
      "        [1.0683, 2.2360]])\n",
      "\n",
      "h (shape = [2, 3])\n",
      "tensor([[0.1825, 0.6484, 0.7888],\n",
      "        [0.7191, 0.8958, 0.9774]])\n",
      "\n",
      "\n",
      "---------- Мини-батч 2 из 3 ----------\n",
      "x_t (shape = [2, 2]):\n",
      "tensor([[5., 6.],\n",
      "        [7., 8.]])\n",
      "\n",
      "U (shape = [3, 2]):\n",
      "tensor([[ 0.4794, -0.1188],\n",
      "        [ 0.4320, -0.0931],\n",
      "        [ 0.0611,  0.5228]])\n",
      "\n",
      "U_x (shape = [3, 2]):\n",
      "tensor([[1.6842, 2.4054],\n",
      "        [1.6018, 2.2798],\n",
      "        [3.4421, 4.6099]])\n",
      "\n",
      "W (shape = [3, 3]):\n",
      "tensor([[-0.5356, -0.3635, -0.1462],\n",
      "        [-0.2251,  0.4988, -0.3742],\n",
      "        [-0.2658, -0.4034, -0.5407]])\n",
      "\n",
      "h_t-1 (shape = [2, 3]):\n",
      "tensor([[0.1825, 0.6484, 0.7888],\n",
      "        [0.7191, 0.8958, 0.9774]])\n",
      "\n",
      "W_h (shape = [3, 2]):\n",
      "tensor([[-0.4487, -0.8536],\n",
      "        [-0.0128, -0.0808],\n",
      "        [-0.7366, -1.0810]])\n",
      "\n",
      "b (shape = [3, 2]):\n",
      "tensor([[-0.0572, -0.0572],\n",
      "        [ 0.5267,  0.5267],\n",
      "        [-0.0384, -0.0384]])\n",
      "\n",
      "U_x + W_h + b (shape = [3, 2]):\n",
      "tensor([[1.1783, 1.4946],\n",
      "        [2.1157, 2.7257],\n",
      "        [2.6672, 3.4905]])\n",
      "\n",
      "h (shape = [2, 3])\n",
      "tensor([[0.8269, 0.9714, 0.9904],\n",
      "        [0.9042, 0.9915, 0.9981]])\n",
      "\n",
      "\n",
      "---------- Мини-батч 3 из 3 ----------\n",
      "x_t (shape = [2, 2]):\n",
      "tensor([[ 9., 10.],\n",
      "        [11., 12.]])\n",
      "\n",
      "U (shape = [3, 2]):\n",
      "tensor([[ 0.4794, -0.1188],\n",
      "        [ 0.4320, -0.0931],\n",
      "        [ 0.0611,  0.5228]])\n",
      "\n",
      "U_x (shape = [3, 2]):\n",
      "tensor([[3.1266, 3.8478],\n",
      "        [2.9577, 3.6357],\n",
      "        [5.7776, 6.9453]])\n",
      "\n",
      "W (shape = [3, 3]):\n",
      "tensor([[-0.5356, -0.3635, -0.1462],\n",
      "        [-0.2251,  0.4988, -0.3742],\n",
      "        [-0.2658, -0.4034, -0.5407]])\n",
      "\n",
      "h_t-1 (shape = [2, 3]):\n",
      "tensor([[0.8269, 0.9714, 0.9904],\n",
      "        [0.9042, 0.9915, 0.9981]])\n",
      "\n",
      "W_h (shape = [3, 2]):\n",
      "tensor([[-0.9407, -0.9905],\n",
      "        [-0.0722, -0.0824],\n",
      "        [-1.1471, -1.1799]])\n",
      "\n",
      "b (shape = [3, 2]):\n",
      "tensor([[-0.0572, -0.0572],\n",
      "        [ 0.5267,  0.5267],\n",
      "        [-0.0384, -0.0384]])\n",
      "\n",
      "U_x + W_h + b (shape = [3, 2]):\n",
      "tensor([[2.1287, 2.8001],\n",
      "        [3.4122, 4.0799],\n",
      "        [4.5921, 5.7270]])\n",
      "\n",
      "h (shape = [2, 3])\n",
      "tensor([[0.9721, 0.9978, 0.9998],\n",
      "        [0.9926, 0.9994, 1.0000]])\n",
      "\n",
      "\n",
      "\n",
      "********** Второй слой **********\n",
      "\n",
      "---------- Мини-батч 1 из 3 ----------\n",
      "x_t (shape = [2, 3]):\n",
      "tensor([[0.1825, 0.6484, 0.7888],\n",
      "        [0.7191, 0.8958, 0.9774]])\n",
      "\n",
      "U (shape = [3, 3]):\n",
      "tensor([[ 0.0977, -0.5391, -0.4172],\n",
      "        [-0.2976,  0.3643,  0.3385],\n",
      "        [-0.2561, -0.0208,  0.3693]])\n",
      "\n",
      "U_x (shape = [3, 2]):\n",
      "tensor([[-0.6608, -0.8204],\n",
      "        [ 0.4489,  0.4431],\n",
      "        [ 0.2310,  0.1581]])\n",
      "\n",
      "W (shape = [3, 3]):\n",
      "tensor([[ 0.5740,  0.2291,  0.0780],\n",
      "        [ 0.3871, -0.3399,  0.1076],\n",
      "        [-0.4476, -0.4002, -0.2982]])\n",
      "\n",
      "h_t-1 (shape = [2, 3]):\n",
      "tensor([[0., 0., 0.],\n",
      "        [0., 0., 0.]])\n",
      "\n",
      "W_h (shape = [3, 2]):\n",
      "tensor([[0., 0.],\n",
      "        [0., 0.],\n",
      "        [0., 0.]])\n",
      "\n",
      "b (shape = [3, 2]):\n",
      "tensor([[ 0.4357,  0.4357],\n",
      "        [ 0.5491,  0.5491],\n",
      "        [-0.4149, -0.4149]])\n",
      "\n",
      "U_x + W_h + b (shape = [3, 2]):\n",
      "tensor([[-0.2251, -0.3847],\n",
      "        [ 0.9980,  0.9923],\n",
      "        [-0.1838, -0.2567]])\n",
      "\n",
      "h (shape = [2, 3])\n",
      "tensor([[-0.2214,  0.7608, -0.1818],\n",
      "        [-0.3668,  0.7583, -0.2513]])\n",
      "\n",
      "\n",
      "---------- Мини-батч 2 из 3 ----------\n",
      "x_t (shape = [2, 3]):\n",
      "tensor([[0.8269, 0.9714, 0.9904],\n",
      "        [0.9042, 0.9915, 0.9981]])\n",
      "\n",
      "U (shape = [3, 3]):\n",
      "tensor([[ 0.0977, -0.5391, -0.4172],\n",
      "        [-0.2976,  0.3643,  0.3385],\n",
      "        [-0.2561, -0.0208,  0.3693]])\n",
      "\n",
      "U_x (shape = [3, 2]):\n",
      "tensor([[-0.8560, -0.8625],\n",
      "        [ 0.4430,  0.4299],\n",
      "        [ 0.1337,  0.1164]])\n",
      "\n",
      "W (shape = [3, 3]):\n",
      "tensor([[ 0.5740,  0.2291,  0.0780],\n",
      "        [ 0.3871, -0.3399,  0.1076],\n",
      "        [-0.4476, -0.4002, -0.2982]])\n",
      "\n",
      "h_t-1 (shape = [2, 3]):\n",
      "tensor([[-0.2214,  0.7608, -0.1818],\n",
      "        [-0.3668,  0.7583, -0.2513]])\n",
      "\n",
      "W_h (shape = [3, 2]):\n",
      "tensor([[ 0.0331, -0.0564],\n",
      "        [-0.3639, -0.4268],\n",
      "        [-0.1511, -0.0643]])\n",
      "\n",
      "b (shape = [3, 2]):\n",
      "tensor([[ 0.4357,  0.4357],\n",
      "        [ 0.5491,  0.5491],\n",
      "        [-0.4149, -0.4149]])\n",
      "\n",
      "U_x + W_h + b (shape = [3, 2]):\n",
      "tensor([[-0.3873, -0.4833],\n",
      "        [ 0.6282,  0.5522],\n",
      "        [-0.4322, -0.3628]])\n",
      "\n",
      "h (shape = [2, 3])\n",
      "tensor([[-0.3690,  0.5568, -0.4072],\n",
      "        [-0.4489,  0.5022, -0.3477]])\n",
      "\n",
      "\n",
      "---------- Мини-батч 3 из 3 ----------\n",
      "x_t (shape = [2, 3]):\n",
      "tensor([[0.9721, 0.9978, 0.9998],\n",
      "        [0.9926, 0.9994, 1.0000]])\n",
      "\n",
      "U (shape = [3, 3]):\n",
      "tensor([[ 0.0977, -0.5391, -0.4172],\n",
      "        [-0.2976,  0.3643,  0.3385],\n",
      "        [-0.2561, -0.0208,  0.3693]])\n",
      "\n",
      "U_x (shape = [3, 2]):\n",
      "tensor([[-0.8600, -0.8590],\n",
      "        [ 0.4126,  0.4071],\n",
      "        [ 0.0995,  0.0943]])\n",
      "\n",
      "W (shape = [3, 3]):\n",
      "tensor([[ 0.5740,  0.2291,  0.0780],\n",
      "        [ 0.3871, -0.3399,  0.1076],\n",
      "        [-0.4476, -0.4002, -0.2982]])\n",
      "\n",
      "h_t-1 (shape = [2, 3]):\n",
      "tensor([[-0.3690,  0.5568, -0.4072],\n",
      "        [-0.4489,  0.5022, -0.3477]])\n",
      "\n",
      "W_h (shape = [3, 2]):\n",
      "tensor([[-0.1160, -0.1697],\n",
      "        [-0.3760, -0.3819],\n",
      "        [ 0.0638,  0.1037]])\n",
      "\n",
      "b (shape = [3, 2]):\n",
      "tensor([[ 0.4357,  0.4357],\n",
      "        [ 0.5491,  0.5491],\n",
      "        [-0.4149, -0.4149]])\n",
      "\n",
      "U_x + W_h + b (shape = [3, 2]):\n",
      "tensor([[-0.5404, -0.5930],\n",
      "        [ 0.5858,  0.5744],\n",
      "        [-0.2516, -0.2170]])\n",
      "\n",
      "h (shape = [2, 3])\n",
      "tensor([[-0.4933,  0.5269, -0.2464],\n",
      "        [-0.5320,  0.5186, -0.2136]])\n",
      "\n",
      "\n",
      "\n",
      "********** Результат первого слоя **********\n",
      "\n",
      "tensor([[0.1825, 0.6484, 0.7888],\n",
      "        [0.7191, 0.8958, 0.9774],\n",
      "        [0.8269, 0.9714, 0.9904],\n",
      "        [0.9042, 0.9915, 0.9981],\n",
      "        [0.9721, 0.9978, 0.9998],\n",
      "        [0.9926, 0.9994, 1.0000]])\n",
      "\n",
      "********** Результат второго слоя **********\n",
      "\n",
      "tensor([[-0.2214,  0.7608, -0.1818],\n",
      "        [-0.3668,  0.7583, -0.2513],\n",
      "        [-0.3690,  0.5568, -0.4072],\n",
      "        [-0.4489,  0.5022, -0.3477],\n",
      "        [-0.4933,  0.5269, -0.2464],\n",
      "        [-0.5320,  0.5186, -0.2136]])\n"
     ]
    }
   ],
   "source": [
    "# Матрицы берем из созданной сети\n",
    "W0 = rnn_2_layers.weight_hh_l0\n",
    "U0 = rnn_2_layers.weight_ih_l0\n",
    "b0 = rnn_2_layers.bias_hh_l0 + rnn_2_layers.bias_ih_l0\n",
    "\n",
    "W1 = rnn_2_layers.weight_hh_l1\n",
    "U1 = rnn_2_layers.weight_ih_l1\n",
    "b1 = rnn_2_layers.bias_hh_l1 + rnn_2_layers.bias_ih_l1\n",
    "\n",
    "# Первый слой\n",
    "print(f'********** Первый слой **********\\n')\n",
    "output0 = rnn_function(input_data, h0, U0, W0, b0)\n",
    "input1 = output0.reshape(seq_len, batch_size, hidden_size)\n",
    "\n",
    "# Второй слой\n",
    "print(f'\\n********** Второй слой **********\\n')\n",
    "output1 = rnn_function(input1, h0, U1, W1, b1)\n",
    "\n",
    "print(f'\\n********** Результат первого слоя **********\\n\\n{output0.data}')\n",
    "\n",
    "print(f'\\n********** Результат второго слоя **********\\n\\n{output1.data}')"
   ]
  },
  {
   "cell_type": "code",
   "execution_count": 17,
   "metadata": {},
   "outputs": [
    {
     "data": {
      "text/plain": [
       "tensor([[[-0.2214,  0.7608, -0.1818],\n",
       "         [-0.3668,  0.7583, -0.2513]],\n",
       "\n",
       "        [[-0.3690,  0.5568, -0.4072],\n",
       "         [-0.4489,  0.5022, -0.3477]],\n",
       "\n",
       "        [[-0.4933,  0.5269, -0.2464],\n",
       "         [-0.5320,  0.5186, -0.2136]]])"
      ]
     },
     "execution_count": 17,
     "metadata": {},
     "output_type": "execute_result"
    }
   ],
   "source": [
    "output_rnn_2_layers.data"
   ]
  },
  {
   "cell_type": "code",
   "execution_count": 18,
   "metadata": {},
   "outputs": [
    {
     "data": {
      "text/plain": [
       "tensor([[[ 0.9721,  0.9978,  0.9998],\n",
       "         [ 0.9926,  0.9994,  1.0000]],\n",
       "\n",
       "        [[-0.4933,  0.5269, -0.2464],\n",
       "         [-0.5320,  0.5186, -0.2136]]])"
      ]
     },
     "execution_count": 18,
     "metadata": {},
     "output_type": "execute_result"
    }
   ],
   "source": [
    "hn_rnn_2_layers.data"
   ]
  },
  {
   "cell_type": "markdown",
   "metadata": {},
   "source": [
    "---\n",
    "Для понимания смысла выходных данных RNN-сети полезно изучить следующую схему ($c$ – это состояние ячейки LSTM):"
   ]
  },
  {
   "attachments": {
    "d08bc024-d138-4a9f-9cd4-4862abdbd6e9.png": {
     "image/png": "[encoded data removed]"
    }
   },
   "cell_type": "markdown",
   "metadata": {},
   "source": [
    "![image.png](attachment:d08bc024-d138-4a9f-9cd4-4862abdbd6e9.png)"
   ]
  },
  {
   "cell_type": "markdown",
   "metadata": {},
   "source": [
    "### 3. Двунаправленная однослойная Simple RNN"
   ]
  },
  {
   "cell_type": "markdown",
   "metadata": {},
   "source": [
    "Задаем количество слоёв и двунаправленность:"
   ]
  },
  {
   "cell_type": "code",
   "execution_count": 19,
   "metadata": {},
   "outputs": [],
   "source": [
    "num_layers = 1\n",
    "bidirectional = True"
   ]
  },
  {
   "cell_type": "markdown",
   "metadata": {},
   "source": [
    "Создаем сеть:"
   ]
  },
  {
   "cell_type": "code",
   "execution_count": 20,
   "metadata": {},
   "outputs": [
    {
     "data": {
      "text/plain": [
       "RNN(2, 3, bidirectional=True)"
      ]
     },
     "execution_count": 20,
     "metadata": {},
     "output_type": "execute_result"
    }
   ],
   "source": [
    "bi_rnn_1_layers = nn.RNN(\n",
    "    input_size=input_size,\n",
    "    hidden_size=hidden_size,\n",
    "    num_layers=num_layers,\n",
    "    nonlinearity=nonlinearity,\n",
    "    bias=True,\n",
    "    batch_first=False,\n",
    "    dropout=0,\n",
    "    bidirectional=bidirectional\n",
    ")\n",
    "bi_rnn_1_layers"
   ]
  },
  {
   "cell_type": "markdown",
   "metadata": {},
   "source": [
    "Выводим все веса с названиями переменных:"
   ]
  },
  {
   "cell_type": "code",
   "execution_count": 21,
   "metadata": {},
   "outputs": [
    {
     "name": "stdout",
     "output_type": "stream",
     "text": [
      "\n",
      "weight_ih_l0: [3, 2] - 6 weights\n",
      "tensor([[ 0.0220,  0.1338],\n",
      "        [ 0.3582,  0.5544],\n",
      "        [-0.4449, -0.2116]])\n",
      "\n",
      "weight_hh_l0: [3, 3] - 9 weights\n",
      "tensor([[ 0.2269,  0.4784,  0.5024],\n",
      "        [ 0.5094,  0.1149, -0.5021],\n",
      "        [ 0.0531, -0.3612, -0.5381]])\n",
      "\n",
      "bias_ih_l0: [3] - 3 weights\n",
      "tensor([ 0.5130,  0.4390, -0.5759])\n",
      "\n",
      "bias_hh_l0: [3] - 3 weights\n",
      "tensor([ 0.1081, -0.0973, -0.0950])\n",
      "\n",
      "weight_ih_l0_reverse: [3, 2] - 6 weights\n",
      "tensor([[-0.2643,  0.2220],\n",
      "        [-0.3420,  0.2117],\n",
      "        [ 0.2920,  0.4133]])\n",
      "\n",
      "weight_hh_l0_reverse: [3, 3] - 9 weights\n",
      "tensor([[ 0.2159, -0.5714, -0.3745],\n",
      "        [ 0.2883,  0.1208, -0.4504],\n",
      "        [-0.3324,  0.5431,  0.3890]])\n",
      "\n",
      "bias_ih_l0_reverse: [3] - 3 weights\n",
      "tensor([-0.2517, -0.1453, -0.5500])\n",
      "\n",
      "bias_hh_l0_reverse: [3] - 3 weights\n",
      "tensor([-0.0104, -0.4348, -0.4453])\n",
      "\n",
      "Total number of parameters = 42\n"
     ]
    }
   ],
   "source": [
    "print_named_parameters(bi_rnn_1_layers)"
   ]
  },
  {
   "cell_type": "markdown",
   "metadata": {},
   "source": [
    "---\n",
    "Подаем на сеть входные данные, выводим результат:"
   ]
  },
  {
   "cell_type": "code",
   "execution_count": 22,
   "metadata": {},
   "outputs": [
    {
     "name": "stdout",
     "output_type": "stream",
     "text": [
      "output.shape = torch.Size([3, 2, 6])\n",
      "\n",
      "output = tensor([[[ 0.7214,  0.9477, -0.9120,  0.0386, -0.8055,  0.0650],\n",
      "         [ 0.8403,  0.9986, -0.9934, -0.0481, -0.8858,  0.9029]],\n",
      "\n",
      "        [[ 0.9345,  1.0000, -0.9993, -0.1881, -0.9348,  0.9947],\n",
      "         [ 0.9651,  1.0000, -0.9999, -0.2635, -0.9626,  0.9997]],\n",
      "\n",
      "        [[ 0.9818,  1.0000, -1.0000, -0.3973, -0.9123,  1.0000],\n",
      "         [ 0.9903,  1.0000, -1.0000, -0.4660, -0.9470,  1.0000]]])\n",
      "\n",
      "hn.shape = torch.Size([2, 2, 3])\n",
      "\n",
      "hn = tensor([[[ 0.9818,  1.0000, -1.0000],\n",
      "         [ 0.9903,  1.0000, -1.0000]],\n",
      "\n",
      "        [[ 0.0386, -0.8055,  0.0650],\n",
      "         [-0.0481, -0.8858,  0.9029]]])\n"
     ]
    }
   ],
   "source": [
    "# shape of output: (seq_len, batch_size, num_directions * hidden_size)\n",
    "output_bi_rnn_1_layers, hn_bi_rnn_1_layers = bi_rnn_1_layers(input_data)\n",
    "\n",
    "print(f'output.shape = {output_bi_rnn_1_layers.shape}')\n",
    "print(f'\\noutput = {output_bi_rnn_1_layers.data}')\n",
    "print(f'\\nhn.shape = {hn_bi_rnn_1_layers.shape}')\n",
    "print(f'\\nhn = {hn_bi_rnn_1_layers.data}')"
   ]
  },
  {
   "cell_type": "markdown",
   "metadata": {},
   "source": [
    "---\n",
    "Для вызова собственной функции необходимо \"перевернуть\" входные данные для обратного прохода:"
   ]
  },
  {
   "cell_type": "code",
   "execution_count": 23,
   "metadata": {},
   "outputs": [
    {
     "data": {
      "text/plain": [
       "tensor([[[ 1.,  2.],\n",
       "         [ 3.,  4.]],\n",
       "\n",
       "        [[ 5.,  6.],\n",
       "         [ 7.,  8.]],\n",
       "\n",
       "        [[ 9., 10.],\n",
       "         [11., 12.]]])"
      ]
     },
     "execution_count": 23,
     "metadata": {},
     "output_type": "execute_result"
    }
   ],
   "source": [
    "input_data"
   ]
  },
  {
   "cell_type": "code",
   "execution_count": 24,
   "metadata": {},
   "outputs": [
    {
     "data": {
      "text/plain": [
       "tensor([[[ 9., 10.],\n",
       "         [11., 12.]],\n",
       "\n",
       "        [[ 5.,  6.],\n",
       "         [ 7.,  8.]],\n",
       "\n",
       "        [[ 1.,  2.],\n",
       "         [ 3.,  4.]]])"
      ]
     },
     "execution_count": 24,
     "metadata": {},
     "output_type": "execute_result"
    }
   ],
   "source": [
    "input_data.flip([0])"
   ]
  },
  {
   "cell_type": "code",
   "execution_count": 25,
   "metadata": {},
   "outputs": [
    {
     "name": "stdout",
     "output_type": "stream",
     "text": [
      "********** Прямой проход **********\n",
      "\n",
      "---------- Мини-батч 1 из 3 ----------\n",
      "x_t (shape = [2, 2]):\n",
      "tensor([[1., 2.],\n",
      "        [3., 4.]])\n",
      "\n",
      "U (shape = [3, 2]):\n",
      "tensor([[ 0.0220,  0.1338],\n",
      "        [ 0.3582,  0.5544],\n",
      "        [-0.4449, -0.2116]])\n",
      "\n",
      "U_x (shape = [3, 2]):\n",
      "tensor([[ 0.2896,  0.6012],\n",
      "        [ 1.4669,  3.2920],\n",
      "        [-0.8681, -2.1811]])\n",
      "\n",
      "W (shape = [3, 3]):\n",
      "tensor([[ 0.2269,  0.4784,  0.5024],\n",
      "        [ 0.5094,  0.1149, -0.5021],\n",
      "        [ 0.0531, -0.3612, -0.5381]])\n",
      "\n",
      "h_t-1 (shape = [2, 3]):\n",
      "tensor([[0., 0., 0.],\n",
      "        [0., 0., 0.]])\n",
      "\n",
      "W_h (shape = [3, 2]):\n",
      "tensor([[0., 0.],\n",
      "        [0., 0.],\n",
      "        [0., 0.]])\n",
      "\n",
      "b (shape = [3, 2]):\n",
      "tensor([[ 0.6210,  0.6210],\n",
      "        [ 0.3417,  0.3417],\n",
      "        [-0.6709, -0.6709]])\n",
      "\n",
      "U_x + W_h + b (shape = [3, 2]):\n",
      "tensor([[ 0.9106,  1.2223],\n",
      "        [ 1.8086,  3.6337],\n",
      "        [-1.5390, -2.8520]])\n",
      "\n",
      "h (shape = [2, 3])\n",
      "tensor([[ 0.7214,  0.9477, -0.9120],\n",
      "        [ 0.8403,  0.9986, -0.9934]])\n",
      "\n",
      "\n",
      "---------- Мини-батч 2 из 3 ----------\n",
      "x_t (shape = [2, 2]):\n",
      "tensor([[5., 6.],\n",
      "        [7., 8.]])\n",
      "\n",
      "U (shape = [3, 2]):\n",
      "tensor([[ 0.0220,  0.1338],\n",
      "        [ 0.3582,  0.5544],\n",
      "        [-0.4449, -0.2116]])\n",
      "\n",
      "U_x (shape = [3, 2]):\n",
      "tensor([[ 0.9129,  1.2245],\n",
      "        [ 5.1171,  6.9422],\n",
      "        [-3.4941, -4.8071]])\n",
      "\n",
      "W (shape = [3, 3]):\n",
      "tensor([[ 0.2269,  0.4784,  0.5024],\n",
      "        [ 0.5094,  0.1149, -0.5021],\n",
      "        [ 0.0531, -0.3612, -0.5381]])\n",
      "\n",
      "h_t-1 (shape = [2, 3]):\n",
      "tensor([[ 0.7214,  0.9477, -0.9120],\n",
      "        [ 0.8403,  0.9986, -0.9934]])\n",
      "\n",
      "W_h (shape = [3, 2]):\n",
      "tensor([[0.1589, 0.1693],\n",
      "        [0.9343, 1.0415],\n",
      "        [0.1867, 0.2184]])\n",
      "\n",
      "b (shape = [3, 2]):\n",
      "tensor([[ 0.6210,  0.6210],\n",
      "        [ 0.3417,  0.3417],\n",
      "        [-0.6709, -0.6709]])\n",
      "\n",
      "U_x + W_h + b (shape = [3, 2]):\n",
      "tensor([[ 1.6928,  2.0148],\n",
      "        [ 6.3931,  8.3254],\n",
      "        [-3.9783, -5.2596]])\n",
      "\n",
      "h (shape = [2, 3])\n",
      "tensor([[ 0.9345,  1.0000, -0.9993],\n",
      "        [ 0.9651,  1.0000, -0.9999]])\n",
      "\n",
      "\n",
      "---------- Мини-батч 3 из 3 ----------\n",
      "x_t (shape = [2, 2]):\n",
      "tensor([[ 9., 10.],\n",
      "        [11., 12.]])\n",
      "\n",
      "U (shape = [3, 2]):\n",
      "tensor([[ 0.0220,  0.1338],\n",
      "        [ 0.3582,  0.5544],\n",
      "        [-0.4449, -0.2116]])\n",
      "\n",
      "U_x (shape = [3, 2]):\n",
      "tensor([[ 1.5361,  1.8478],\n",
      "        [ 8.7673, 10.5923],\n",
      "        [-6.1201, -7.4331]])\n",
      "\n",
      "W (shape = [3, 3]):\n",
      "tensor([[ 0.2269,  0.4784,  0.5024],\n",
      "        [ 0.5094,  0.1149, -0.5021],\n",
      "        [ 0.0531, -0.3612, -0.5381]])\n",
      "\n",
      "h_t-1 (shape = [2, 3]):\n",
      "tensor([[ 0.9345,  1.0000, -0.9993],\n",
      "        [ 0.9651,  1.0000, -0.9999]])\n",
      "\n",
      "W_h (shape = [3, 2]):\n",
      "tensor([[0.1883, 0.1950],\n",
      "        [1.0927, 1.1086],\n",
      "        [0.2261, 0.2281]])\n",
      "\n",
      "b (shape = [3, 2]):\n",
      "tensor([[ 0.6210,  0.6210],\n",
      "        [ 0.3417,  0.3417],\n",
      "        [-0.6709, -0.6709]])\n",
      "\n",
      "U_x + W_h + b (shape = [3, 2]):\n",
      "tensor([[ 2.3455,  2.6638],\n",
      "        [10.2017, 12.0426],\n",
      "        [-6.5649, -7.8759]])\n",
      "\n",
      "h (shape = [2, 3])\n",
      "tensor([[ 0.9818,  1.0000, -1.0000],\n",
      "        [ 0.9903,  1.0000, -1.0000]])\n",
      "\n",
      "\n",
      "\n",
      "********** Обратный проход **********\n",
      "\n",
      "---------- Мини-батч 1 из 3 ----------\n",
      "x_t (shape = [2, 2]):\n",
      "tensor([[ 9., 10.],\n",
      "        [11., 12.]])\n",
      "\n",
      "U (shape = [3, 2]):\n",
      "tensor([[-0.2643,  0.2220],\n",
      "        [-0.3420,  0.2117],\n",
      "        [ 0.2920,  0.4133]])\n",
      "\n",
      "U_x (shape = [3, 2]):\n",
      "tensor([[-0.1583, -0.2429],\n",
      "        [-0.9612, -1.2218],\n",
      "        [ 6.7608,  8.1714]])\n",
      "\n",
      "W (shape = [3, 3]):\n",
      "tensor([[ 0.2159, -0.5714, -0.3745],\n",
      "        [ 0.2883,  0.1208, -0.4504],\n",
      "        [-0.3324,  0.5431,  0.3890]])\n",
      "\n",
      "h_t-1 (shape = [2, 3]):\n",
      "tensor([[0., 0., 0.],\n",
      "        [0., 0., 0.]])\n",
      "\n",
      "W_h (shape = [3, 2]):\n",
      "tensor([[0., 0.],\n",
      "        [0., 0.],\n",
      "        [0., 0.]])\n",
      "\n",
      "b (shape = [3, 2]):\n",
      "tensor([[-0.2621, -0.2621],\n",
      "        [-0.5801, -0.5801],\n",
      "        [-0.9953, -0.9953]])\n",
      "\n",
      "U_x + W_h + b (shape = [3, 2]):\n",
      "tensor([[-0.4205, -0.5050],\n",
      "        [-1.5413, -1.8019],\n",
      "        [ 5.7655,  7.1761]])\n",
      "\n",
      "h (shape = [2, 3])\n",
      "tensor([[-0.3973, -0.9123,  1.0000],\n",
      "        [-0.4660, -0.9470,  1.0000]])\n",
      "\n",
      "\n",
      "---------- Мини-батч 2 из 3 ----------\n",
      "x_t (shape = [2, 2]):\n",
      "tensor([[5., 6.],\n",
      "        [7., 8.]])\n",
      "\n",
      "U (shape = [3, 2]):\n",
      "tensor([[-0.2643,  0.2220],\n",
      "        [-0.3420,  0.2117],\n",
      "        [ 0.2920,  0.4133]])\n",
      "\n",
      "U_x (shape = [3, 2]):\n",
      "tensor([[ 0.0107, -0.0738],\n",
      "        [-0.4399, -0.7006],\n",
      "        [ 3.9397,  5.3503]])\n",
      "\n",
      "W (shape = [3, 3]):\n",
      "tensor([[ 0.2159, -0.5714, -0.3745],\n",
      "        [ 0.2883,  0.1208, -0.4504],\n",
      "        [-0.3324,  0.5431,  0.3890]])\n",
      "\n",
      "h_t-1 (shape = [2, 3]):\n",
      "tensor([[-0.3973, -0.9123,  1.0000],\n",
      "        [-0.4660, -0.9470,  1.0000]])\n",
      "\n",
      "W_h (shape = [3, 2]):\n",
      "tensor([[ 0.0610,  0.0660],\n",
      "        [-0.6752, -0.6992],\n",
      "        [ 0.0256,  0.0296]])\n",
      "\n",
      "b (shape = [3, 2]):\n",
      "tensor([[-0.2621, -0.2621],\n",
      "        [-0.5801, -0.5801],\n",
      "        [-0.9953, -0.9953]])\n",
      "\n",
      "U_x + W_h + b (shape = [3, 2]):\n",
      "tensor([[-0.1904, -0.2699],\n",
      "        [-1.6952, -1.9798],\n",
      "        [ 2.9700,  4.3845]])\n",
      "\n",
      "h (shape = [2, 3])\n",
      "tensor([[-0.1881, -0.9348,  0.9947],\n",
      "        [-0.2635, -0.9626,  0.9997]])\n",
      "\n",
      "\n",
      "---------- Мини-батч 3 из 3 ----------\n",
      "x_t (shape = [2, 2]):\n",
      "tensor([[1., 2.],\n",
      "        [3., 4.]])\n",
      "\n",
      "U (shape = [3, 2]):\n",
      "tensor([[-0.2643,  0.2220],\n",
      "        [-0.3420,  0.2117],\n",
      "        [ 0.2920,  0.4133]])\n",
      "\n",
      "U_x (shape = [3, 2]):\n",
      "tensor([[ 0.1798,  0.0952],\n",
      "        [ 0.0813, -0.1793],\n",
      "        [ 1.1186,  2.5291]])\n",
      "\n",
      "W (shape = [3, 3]):\n",
      "tensor([[ 0.2159, -0.5714, -0.3745],\n",
      "        [ 0.2883,  0.1208, -0.4504],\n",
      "        [-0.3324,  0.5431,  0.3890]])\n",
      "\n",
      "h_t-1 (shape = [2, 3]):\n",
      "tensor([[-0.1881, -0.9348,  0.9947],\n",
      "        [-0.2635, -0.9626,  0.9997]])\n",
      "\n",
      "W_h (shape = [3, 2]):\n",
      "tensor([[ 0.1210,  0.1187],\n",
      "        [-0.6152, -0.6425],\n",
      "        [-0.0582, -0.0463]])\n",
      "\n",
      "b (shape = [3, 2]):\n",
      "tensor([[-0.2621, -0.2621],\n",
      "        [-0.5801, -0.5801],\n",
      "        [-0.9953, -0.9953]])\n",
      "\n",
      "U_x + W_h + b (shape = [3, 2]):\n",
      "tensor([[ 0.0386, -0.0481],\n",
      "        [-1.1140, -1.4019],\n",
      "        [ 0.0651,  1.4875]])\n",
      "\n",
      "h (shape = [2, 3])\n",
      "tensor([[ 0.0386, -0.8055,  0.0650],\n",
      "        [-0.0481, -0.8858,  0.9029]])\n",
      "\n",
      "\n",
      "\n",
      "********** Результат прямого прохода **********\n",
      "\n",
      "tensor([[ 0.7214,  0.9477, -0.9120],\n",
      "        [ 0.8403,  0.9986, -0.9934],\n",
      "        [ 0.9345,  1.0000, -0.9993],\n",
      "        [ 0.9651,  1.0000, -0.9999],\n",
      "        [ 0.9818,  1.0000, -1.0000],\n",
      "        [ 0.9903,  1.0000, -1.0000]])\n",
      "\n",
      "********** Результат обратного прохода **********\n",
      "\n",
      "tensor([[-0.3973, -0.9123,  1.0000],\n",
      "        [-0.4660, -0.9470,  1.0000],\n",
      "        [-0.1881, -0.9348,  0.9947],\n",
      "        [-0.2635, -0.9626,  0.9997],\n",
      "        [ 0.0386, -0.8055,  0.0650],\n",
      "        [-0.0481, -0.8858,  0.9029]])\n"
     ]
    }
   ],
   "source": [
    "# Матрицы берем из созданной сети\n",
    "W0 = bi_rnn_1_layers.weight_hh_l0\n",
    "U0 = bi_rnn_1_layers.weight_ih_l0\n",
    "b0 = bi_rnn_1_layers.bias_hh_l0 + bi_rnn_1_layers.bias_ih_l0\n",
    "\n",
    "W0_reverse = bi_rnn_1_layers.weight_hh_l0_reverse\n",
    "U0_reverse = bi_rnn_1_layers.weight_ih_l0_reverse\n",
    "b0_reverse = bi_rnn_1_layers.bias_hh_l0_reverse + bi_rnn_1_layers.bias_ih_l0_reverse\n",
    "\n",
    "# Прямой проход\n",
    "print(f'********** Прямой проход **********\\n')\n",
    "output0 = rnn_function(input_data, h0, U0, W0, b0)\n",
    "\n",
    "# Обратный проход\n",
    "print(f'\\n********** Обратный проход **********\\n')\n",
    "output0_reverse = rnn_function(input_data.flip([0]), h0, U0_reverse, W0_reverse, b0_reverse)\n",
    "\n",
    "print(f'\\n********** Результат прямого прохода **********\\n\\n{output0.data}')\n",
    "\n",
    "print(f'\\n********** Результат обратного прохода **********\\n\\n{output0_reverse.data}')"
   ]
  },
  {
   "cell_type": "code",
   "execution_count": 26,
   "metadata": {},
   "outputs": [
    {
     "data": {
      "text/plain": [
       "tensor([[[ 0.7214,  0.9477, -0.9120,  0.0386, -0.8055,  0.0650],\n",
       "         [ 0.8403,  0.9986, -0.9934, -0.0481, -0.8858,  0.9029]],\n",
       "\n",
       "        [[ 0.9345,  1.0000, -0.9993, -0.1881, -0.9348,  0.9947],\n",
       "         [ 0.9651,  1.0000, -0.9999, -0.2635, -0.9626,  0.9997]],\n",
       "\n",
       "        [[ 0.9818,  1.0000, -1.0000, -0.3973, -0.9123,  1.0000],\n",
       "         [ 0.9903,  1.0000, -1.0000, -0.4660, -0.9470,  1.0000]]])"
      ]
     },
     "execution_count": 26,
     "metadata": {},
     "output_type": "execute_result"
    }
   ],
   "source": [
    "output_bi_rnn_1_layers.data"
   ]
  },
  {
   "cell_type": "code",
   "execution_count": 27,
   "metadata": {},
   "outputs": [
    {
     "data": {
      "text/plain": [
       "tensor([[[ 0.9818,  1.0000, -1.0000],\n",
       "         [ 0.9903,  1.0000, -1.0000]],\n",
       "\n",
       "        [[ 0.0386, -0.8055,  0.0650],\n",
       "         [-0.0481, -0.8858,  0.9029]]])"
      ]
     },
     "execution_count": 27,
     "metadata": {},
     "output_type": "execute_result"
    }
   ],
   "source": [
    "hn_bi_rnn_1_layers.data"
   ]
  },
  {
   "attachments": {
    "ba30308a-c858-4f67-ab80-2a2e3cc45310.png": {
     "image/png": "[encoded data removed]"
    }
   },
   "cell_type": "markdown",
   "metadata": {},
   "source": [
    "![image.png](attachment:ba30308a-c858-4f67-ab80-2a2e3cc45310.png)"
   ]
  }
 ],
 "metadata": {
  "kernelspec": {
   "display_name": "Python 3 (ipykernel)",
   "language": "python",
   "name": "python3"
  },
  "language_info": {
   "codemirror_mode": {
    "name": "ipython",
    "version": 3
   },
   "file_extension": ".py",
   "mimetype": "text/x-python",
   "name": "python",
   "nbconvert_exporter": "python",
   "pygments_lexer": "ipython3",
   "version": "3.9.12"
  }
 },
 "nbformat": 4,
 "nbformat_minor": 4
}
