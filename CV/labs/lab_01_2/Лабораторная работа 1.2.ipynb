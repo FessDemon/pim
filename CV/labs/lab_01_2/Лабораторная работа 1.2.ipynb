{
 "cells": [
  {
   "cell_type": "markdown",
   "metadata": {},
   "source": [
    "# Лабораторная работа 1.2 Нелинейные фильтры"
   ]
  },
  {
   "cell_type": "markdown",
   "metadata": {},
   "source": [
    "### Работу выполнил:<span style=\"color:blue\"> {Фамилия Имя}</span>"
   ]
  },
  {
   "cell_type": "markdown",
   "metadata": {},
   "source": [
    "### Сделанную лабораторную работу отправляйте через [ФОРМУ](https://vyatsu-my.sharepoint.com/:f:/g/personal/usr09019_vyatsu_ru/Ep8q6AurefNIlDOa12RT5YwBtwdfbgDDo0pXpRQjJI3wpQ)"
   ]
  },
  {
   "cell_type": "markdown",
   "metadata": {},
   "source": [
    "**Задание 1.1.** Реализуйте медианный фильтр."
   ]
  },
  {
   "cell_type": "code",
   "execution_count": null,
   "metadata": {},
   "outputs": [],
   "source": [
    "import cv2\n",
    "import numpy as np"
   ]
  },
  {
   "cell_type": "code",
   "execution_count": null,
   "metadata": {},
   "outputs": [],
   "source": [
    "img = cv2.imread('./lena.png')"
   ]
  },
  {
   "cell_type": "code",
   "execution_count": null,
   "metadata": {},
   "outputs": [],
   "source": [
    "%matplotlib inline\n",
    "from matplotlib import pyplot as plt\n",
    "plt.imshow(img[...,::-1])"
   ]
  },
  {
   "cell_type": "code",
   "execution_count": null,
   "metadata": {},
   "outputs": [],
   "source": [
    "img.shape"
   ]
  },
  {
   "cell_type": "code",
   "execution_count": null,
   "metadata": {},
   "outputs": [],
   "source": [
    "def median_filter(img, ksize):\n",
    "    result = np.zeros_like(img)\n",
    "    for channel in range(img.shape[-1]):\n",
    "        for row in range(img.shape[0]):\n",
    "            for col in range(img.shape[1]):\n",
    "                result[row, col, channel] = img[row, col, channel]\n",
    "                # TODO: определяем текущее положение окна в координатах изображения\n",
    "                # TODO: вычислить медиану в окрестности х, y для окна размера ksize\n",
    "    return result"
   ]
  },
  {
   "cell_type": "markdown",
   "metadata": {},
   "source": [
    "**Задание 1.2.** Добавьте случайный шум на изображение и протестируйте медианный фильтр на зашумленном изображении (код приведён)."
   ]
  },
  {
   "cell_type": "code",
   "execution_count": null,
   "metadata": {},
   "outputs": [],
   "source": [
    "noisy_img = img.astype(float) + np.random.uniform(img.astype(float))\n",
    "noisy_img = np.uint8(255. * np.abs(noisy_img) / np.max(np.abs(noisy_img)))\n",
    "plt.imshow(noisy_img[...,::-1])"
   ]
  },
  {
   "cell_type": "code",
   "execution_count": null,
   "metadata": {},
   "outputs": [],
   "source": [
    "from ipywidgets import interact\n",
    "\n",
    "def median_filter_show(ksize = 5):\n",
    "    filtered = median_filter(noisy_img, ksize)\n",
    "    return plt.imshow(filtered[...,::-1]);\n",
    "\n",
    "interact(median_filter_show, ksize = (1, 20, 1));"
   ]
  },
  {
   "cell_type": "markdown",
   "metadata": {},
   "source": [
    "**Задание 1.3.** Реализуйте билатеральный фильтр (см. лекции и https://users.soe.ucsc.edu/~manduchi/Papers/ICCV98.pdf). Протестируйте данный фильтр при различных значениях $\\sigma_d$ и $\\sigma_r$."
   ]
  },
  {
   "cell_type": "code",
   "execution_count": null,
   "metadata": {},
   "outputs": [],
   "source": []
  }
 ],
 "metadata": {
  "kernelspec": {
   "display_name": "Python 3.9.12 64-bit ('Anaconda3')",
   "language": "python",
   "name": "python3"
  },
  "language_info": {
   "codemirror_mode": {
    "name": "ipython",
    "version": 3
   },
   "file_extension": ".py",
   "mimetype": "text/x-python",
   "name": "python",
   "nbconvert_exporter": "python",
   "pygments_lexer": "ipython3",
   "version": "3.9.12"
  },
  "vscode": {
   "interpreter": {
    "hash": "fbe4f397c45ed0f3080d11afa6ab83eba056cc651c4435d34eaa2d1b6700ad2b"
   }
  }
 },
 "nbformat": 4,
 "nbformat_minor": 2
}
